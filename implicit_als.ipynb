{
 "metadata": {
  "name": "",
  "signature": "sha256:3927190477f0a17d8db3ecdbef569a1170f26aa509ccbe30a7d43a0eac8ae4e8"
 },
 "nbformat": 3,
 "nbformat_minor": 0,
 "worksheets": [
  {
   "cells": [
    {
     "cell_type": "code",
     "collapsed": false,
     "input": [
      "import pandas as pd\n",
      "\n",
      "dataset = pd.read_csv(\"./events.csv\")"
     ],
     "language": "python",
     "metadata": {},
     "outputs": [],
     "prompt_number": 23
    },
    {
     "cell_type": "code",
     "collapsed": false,
     "input": [
      "dataset.head()"
     ],
     "language": "python",
     "metadata": {},
     "outputs": [
      {
       "html": [
        "<div style=\"max-width:1500px;overflow:auto;\">\n",
        "<style>\n",
        "    .dataframe thead tr:only-child th {\n",
        "        text-align: right;\n",
        "    }\n",
        "\n",
        "    .dataframe thead th {\n",
        "        text-align: left;\n",
        "    }\n",
        "\n",
        "    .dataframe tbody tr th {\n",
        "        vertical-align: top;\n",
        "    }\n",
        "</style>\n",
        "<table border=\"1\" class=\"dataframe\">\n",
        "  <thead>\n",
        "    <tr style=\"text-align: right;\">\n",
        "      <th></th>\n",
        "      <th>Unnamed: 0</th>\n",
        "      <th>user_id</th>\n",
        "      <th>post_permlink</th>\n",
        "      <th>like</th>\n",
        "    </tr>\n",
        "  </thead>\n",
        "  <tbody>\n",
        "    <tr>\n",
        "      <th>0</th>\n",
        "      <td>0</td>\n",
        "      <td>13443.0</td>\n",
        "      <td>http://golos.io/@mahadev/vrata-v-turcziyu</td>\n",
        "      <td>True</td>\n",
        "    </tr>\n",
        "    <tr>\n",
        "      <th>1</th>\n",
        "      <td>1</td>\n",
        "      <td>17606.0</td>\n",
        "      <td>http://golos.io/@cysik1946/zamechatelnaya-stra...</td>\n",
        "      <td>True</td>\n",
        "    </tr>\n",
        "    <tr>\n",
        "      <th>2</th>\n",
        "      <td>2</td>\n",
        "      <td>15542.0</td>\n",
        "      <td>http://golos.io/@golos.loto/5x36-golos-lottery...</td>\n",
        "      <td>True</td>\n",
        "    </tr>\n",
        "    <tr>\n",
        "      <th>3</th>\n",
        "      <td>3</td>\n",
        "      <td>10190.0</td>\n",
        "      <td>http://golos.io/@aleks/podarok-golosu-neubivae...</td>\n",
        "      <td>True</td>\n",
        "    </tr>\n",
        "    <tr>\n",
        "      <th>4</th>\n",
        "      <td>4</td>\n",
        "      <td>17606.0</td>\n",
        "      <td>http://golos.io/@elena.mihajlovna/moi-sobaki</td>\n",
        "      <td>True</td>\n",
        "    </tr>\n",
        "  </tbody>\n",
        "</table>\n",
        "</div>"
       ],
       "metadata": {},
       "output_type": "pyout",
       "prompt_number": 24,
       "text": [
        "   Unnamed: 0  user_id                                      post_permlink  \\\n",
        "0           0  13443.0          http://golos.io/@mahadev/vrata-v-turcziyu   \n",
        "1           1  17606.0  http://golos.io/@cysik1946/zamechatelnaya-stra...   \n",
        "2           2  15542.0  http://golos.io/@golos.loto/5x36-golos-lottery...   \n",
        "3           3  10190.0  http://golos.io/@aleks/podarok-golosu-neubivae...   \n",
        "4           4  17606.0       http://golos.io/@elena.mihajlovna/moi-sobaki   \n",
        "\n",
        "   like  \n",
        "0  True  \n",
        "1  True  \n",
        "2  True  \n",
        "3  True  \n",
        "4  True  "
       ]
      }
     ],
     "prompt_number": 24
    },
    {
     "cell_type": "code",
     "collapsed": false,
     "input": [
      "dataset = dataset.sample(100000)"
     ],
     "language": "python",
     "metadata": {},
     "outputs": [],
     "prompt_number": 25
    },
    {
     "cell_type": "code",
     "collapsed": false,
     "input": [
      "dataset = dataset.reset_index()"
     ],
     "language": "python",
     "metadata": {},
     "outputs": [],
     "prompt_number": 26
    },
    {
     "cell_type": "markdown",
     "metadata": {},
     "source": [
      "- \u0421\u0444\u043e\u0440\u043c\u0438\u0440\u043e\u0432\u0430\u0442\u044c \u043c\u0430\u0442\u0440\u0438\u0446\u0443 \u043f\u0440\u0435\u0434\u043f\u043e\u0447\u0442\u0435\u043d\u0438\u0439\n",
      "- \u041f\u0440\u0438\u043c\u0435\u043d\u0438\u0442\u044c als\n",
      "- \u041f\u0440\u043e\u0432\u0435\u0441\u0442\u0438 \u043a\u0440\u043e\u0441\u0441-\u0432\u0430\u043b\u0438\u0434\u0430\u0446\u0438\u044e"
     ]
    },
    {
     "cell_type": "markdown",
     "metadata": {},
     "source": [
      "**\u0424\u043e\u0440\u043c\u0438\u0440\u0443\u0435\u043c \u043c\u0430\u0442\u0440\u0438\u0446\u0443 \u043f\u0440\u0435\u0434\u043f\u043e\u0447\u0442\u0435\u043d\u0438\u0439**"
     ]
    },
    {
     "cell_type": "code",
     "collapsed": false,
     "input": [
      "def map_ids(row, mapper):\n",
      "    return mapper[row]"
     ],
     "language": "python",
     "metadata": {},
     "outputs": [],
     "prompt_number": 27
    },
    {
     "cell_type": "code",
     "collapsed": false,
     "input": [
      "from scipy import sparse\n",
      "import numpy as np\n",
      "\n",
      "uid_to_idx = {}\n",
      "mid_to_idx = {}\n",
      "for (idx, uid) in enumerate(dataset[\"user_id\"].unique().tolist()):\n",
      "    uid_to_idx[uid] = idx\n",
      "    \n",
      "for (idx, mid) in enumerate(dataset[\"post_permlink\"].unique().tolist()):\n",
      "    mid_to_idx[mid] = idx\n",
      "    \n",
      "I = dataset[\"user_id\"].apply(map_ids, args=[uid_to_idx]).as_matrix()\n",
      "J = dataset[\"post_permlink\"].apply(map_ids, args=[mid_to_idx]).as_matrix()\n",
      "V = np.ones(I.shape[0])\n",
      "likes = sparse.coo_matrix((V, (I, J)), dtype=np.float64)\n",
      "likes = likes.tocsr()"
     ],
     "language": "python",
     "metadata": {},
     "outputs": [],
     "prompt_number": 28
    },
    {
     "cell_type": "code",
     "collapsed": false,
     "input": [
      "n_users = dataset[\"user_id\"].unique().shape[0]\n",
      "n_items = dataset[\"post_permlink\"].unique().shape[0]\n",
      "print(\"Sparsity: {}\".format(float(dataset.shape[0]) / float(n_users*n_items) * 100))"
     ],
     "language": "python",
     "metadata": {},
     "outputs": [
      {
       "output_type": "stream",
       "stream": "stdout",
       "text": [
        "Sparsity: 0.05430329030586784\n"
       ]
      }
     ],
     "prompt_number": 29
    },
    {
     "cell_type": "markdown",
     "metadata": {},
     "source": [
      "\u041f\u0440\u043e\u0432\u043e\u0434\u0438\u043c \u043a\u0440\u043e\u0441\u0441-\u0432\u0430\u043b\u0438\u0434\u0430\u0446\u0438\u044e \u043c\u043e\u0434\u0435\u043b\u0438"
     ]
    },
    {
     "cell_type": "code",
     "collapsed": false,
     "input": [
      "# Add matrix size\n",
      "def create_matrix(tuples, train):\n",
      "    dataset = tuples.loc[train]\n",
      "    I = dataset[\"user_id\"].apply(map_ids, args=[uid_to_idx]).as_matrix()\n",
      "    J = dataset[\"post_permlink\"].apply(map_ids, args=[mid_to_idx]).as_matrix()\n",
      "    V = np.hstack([np.ones(dataset[dataset[\"like\"]].shape[0]), -np.ones(dataset[~dataset[\"like\"]].shape[0])])\n",
      "    shape = (tuples[\"user_id\"].unique().size, tuples[\"post_permlink\"].unique().size)\n",
      "    likes = sparse.coo_matrix((V, (I, J)), shape=shape, dtype=np.float64).tocsr()\n",
      "    likes[likes < 0] = -1\n",
      "    likes[likes > 0] = 1\n",
      "    return likes"
     ],
     "language": "python",
     "metadata": {},
     "outputs": [],
     "prompt_number": 30
    },
    {
     "cell_type": "code",
     "collapsed": false,
     "input": [
      "def average_precision_k(dataset, result_matrix, mask, k):\n",
      "    result_matrix = result_matrix * mask\n",
      "    precisions = []\n",
      "    for voter in dataset[\"user_id\"].unique():\n",
      "        pred_items = np.argsort(-result_matrix[uid_to_idx[voter]])[0:k]\n",
      "        true_items = dataset[(dataset[\"user_id\"] == voter) & (dataset[\"like\"])][\"post_id\"]\n",
      "        right_items = [x for x in true_items if x in pred_items]\n",
      "        if (true_items.size == 0):\n",
      "            precisions.append(1)\n",
      "        else:\n",
      "            precisions.append(float(len(right_items) / min(k, true_items.size)))\n",
      "    return np.mean(precisions)"
     ],
     "language": "python",
     "metadata": {},
     "outputs": [],
     "prompt_number": 31
    },
    {
     "cell_type": "code",
     "collapsed": false,
     "input": [
      "def average_recall_k(dataset, result_matrix, mask, k):\n",
      "    result_matrix = result_matrix * mask\n",
      "    recalls = []\n",
      "    for voter in dataset[\"user_id\"].unique():\n",
      "        pred_items = np.argsort(-result_matrix[uid_to_idx[voter]])[0:k]\n",
      "        true_items = dataset[(dataset[\"user_id\"] == voter) & (dataset[\"like\"])][\"post_id\"]\n",
      "        right_items = [x for x in true_items if x in pred_items]\n",
      "        if (true_items.size == 0):\n",
      "            recalls.append(1)\n",
      "        else:\n",
      "            recalls.append(float(len(right_items) / true_items.size))\n",
      "    return np.mean(recalls)"
     ],
     "language": "python",
     "metadata": {},
     "outputs": [],
     "prompt_number": 32
    },
    {
     "cell_type": "code",
     "collapsed": false,
     "input": [
      "dataset[\"post_id\"] = dataset[\"post_permlink\"].apply(lambda x: mid_to_idx[x])"
     ],
     "language": "python",
     "metadata": {},
     "outputs": [],
     "prompt_number": 33
    },
    {
     "cell_type": "code",
     "collapsed": false,
     "input": [
      "from sklearn.model_selection import ShuffleSplit\n",
      "from sklearn.metrics import roc_auc_score\n",
      "import implicit\n",
      "\n",
      "def cross_validate(n_splits, **kwargs):\n",
      "    precisions = []\n",
      "    recalls = []\n",
      "    generator = ShuffleSplit(n_splits=n_splits)\n",
      "    for train, test in generator.split(dataset):\n",
      "        train_matrix = create_matrix(dataset, train).T\n",
      "#         print(\"Matrix created\")\n",
      "        model = implicit.als.AlternatingLeastSquares(**kwargs)\n",
      "        model.fit(train_matrix)\n",
      "#         print(\"Model trained\")\n",
      "        result_matrix = np.dot(model.user_factors, model.item_factors.T)\n",
      "#         print(\"Predictions received\")\n",
      "#         print(\"AUC ROC\")\n",
      "#         predicted = []\n",
      "#         for index, row in dataset.iloc[test].iterrows():\n",
      "#             predicted.append(result_matrix[uid_to_idx[row[\"user_id\"]], mid_to_idx[row[\"post_permlink\"]]])\n",
      "#         print(roc_auc_score(dataset.iloc[test][\"like\"], predicted))\n",
      "#         print(\"Average precision k\")\n",
      "        mask = (1 - train_matrix.T.toarray())\n",
      "        precision = average_precision_k(dataset.iloc[test], result_matrix, mask, 10)\n",
      "        precisions.append(precision)\n",
      "        recall = average_recall_k(dataset.iloc[test], result_matrix, mask, 10)\n",
      "        recalls.append(recall)\n",
      "#         print(precision)\n",
      "    return precisions, recalls"
     ],
     "language": "python",
     "metadata": {},
     "outputs": [],
     "prompt_number": 34
    },
    {
     "cell_type": "code",
     "collapsed": false,
     "input": [
      "for factors in range(2, 10):\n",
      "#     for regularization in np.linspace(0.1, 10, 5):\n",
      "    precisions, recalls = cross_validate(n_splits=3, factors=factors)\n",
      "    print(\"======================\")\n",
      "    print(\"{}, {}, {}\".format(factors, np.mean(precisions), np.mean(recalls)))"
     ],
     "language": "python",
     "metadata": {},
     "outputs": [
      {
       "output_type": "stream",
       "stream": "stderr",
       "text": [
        "WARNING:root:OpenBLAS detected. Its highly recommend to set the environment variable 'export OPENBLAS_NUM_THREADS=1' to disable its internal multithreading\n"
       ]
      },
      {
       "output_type": "stream",
       "stream": "stderr",
       "text": [
        "WARNING:root:OpenBLAS detected. Its highly recommend to set the environment variable 'export OPENBLAS_NUM_THREADS=1' to disable its internal multithreading\n"
       ]
      },
      {
       "output_type": "stream",
       "stream": "stderr",
       "text": [
        "WARNING:root:OpenBLAS detected. Its highly recommend to set the environment variable 'export OPENBLAS_NUM_THREADS=1' to disable its internal multithreading\n"
       ]
      },
      {
       "output_type": "stream",
       "stream": "stderr",
       "text": [
        "WARNING:root:OpenBLAS detected. Its highly recommend to set the environment variable 'export OPENBLAS_NUM_THREADS=1' to disable its internal multithreading\n"
       ]
      },
      {
       "output_type": "stream",
       "stream": "stderr",
       "text": [
        "WARNING:root:OpenBLAS detected. Its highly recommend to set the environment variable 'export OPENBLAS_NUM_THREADS=1' to disable its internal multithreading\n"
       ]
      },
      {
       "output_type": "stream",
       "stream": "stderr",
       "text": [
        "WARNING:root:OpenBLAS detected. Its highly recommend to set the environment variable 'export OPENBLAS_NUM_THREADS=1' to disable its internal multithreading\n"
       ]
      },
      {
       "output_type": "stream",
       "stream": "stdout",
       "text": [
        "======================\n",
        "2, 0.46918723259450673, 0.46918723259450673\n",
        "======================"
       ]
      },
      {
       "output_type": "stream",
       "stream": "stderr",
       "text": [
        "WARNING:root:OpenBLAS detected. Its highly recommend to set the environment variable 'export OPENBLAS_NUM_THREADS=1' to disable its internal multithreading\n"
       ]
      },
      {
       "output_type": "stream",
       "stream": "stderr",
       "text": [
        "WARNING:root:OpenBLAS detected. Its highly recommend to set the environment variable 'export OPENBLAS_NUM_THREADS=1' to disable its internal multithreading\n"
       ]
      },
      {
       "output_type": "stream",
       "stream": "stderr",
       "text": [
        "WARNING:root:OpenBLAS detected. Its highly recommend to set the environment variable 'export OPENBLAS_NUM_THREADS=1' to disable its internal multithreading\n"
       ]
      },
      {
       "output_type": "stream",
       "stream": "stdout",
       "text": [
        "\n",
        "3, 0.46240279779935883, 0.46240279779935883\n",
        "======================"
       ]
      },
      {
       "output_type": "stream",
       "stream": "stderr",
       "text": [
        "WARNING:root:OpenBLAS detected. Its highly recommend to set the environment variable 'export OPENBLAS_NUM_THREADS=1' to disable its internal multithreading\n"
       ]
      },
      {
       "output_type": "stream",
       "stream": "stderr",
       "text": [
        "WARNING:root:OpenBLAS detected. Its highly recommend to set the environment variable 'export OPENBLAS_NUM_THREADS=1' to disable its internal multithreading\n"
       ]
      },
      {
       "output_type": "stream",
       "stream": "stderr",
       "text": [
        "WARNING:root:OpenBLAS detected. Its highly recommend to set the environment variable 'export OPENBLAS_NUM_THREADS=1' to disable its internal multithreading\n"
       ]
      },
      {
       "output_type": "stream",
       "stream": "stdout",
       "text": [
        "\n",
        "4, 0.47231100749522875, 0.47231100749522875\n",
        "======================"
       ]
      },
      {
       "output_type": "stream",
       "stream": "stderr",
       "text": [
        "WARNING:root:OpenBLAS detected. Its highly recommend to set the environment variable 'export OPENBLAS_NUM_THREADS=1' to disable its internal multithreading\n"
       ]
      },
      {
       "output_type": "stream",
       "stream": "stderr",
       "text": [
        "WARNING:root:OpenBLAS detected. Its highly recommend to set the environment variable 'export OPENBLAS_NUM_THREADS=1' to disable its internal multithreading\n"
       ]
      }
     ]
    },
    {
     "cell_type": "code",
     "collapsed": false,
     "input": [
      "for regularization in np.linspace(0.01, 10, 20):\n",
      "    precisions, recalls = cross_validate(n_splits=3, factors=200, regularization=regularization)\n",
      "    print(\"======================\")\n",
      "    print(\"{}, {}, {}\".format(regularization, np.mean(precisions), np.mean(recalls)))"
     ],
     "language": "python",
     "metadata": {},
     "outputs": [
      {
       "output_type": "stream",
       "stream": "stderr",
       "text": [
        "WARNING:root:OpenBLAS detected. Its highly recommend to set the environment variable 'export OPENBLAS_NUM_THREADS=1' to disable its internal multithreading\n"
       ]
      },
      {
       "output_type": "stream",
       "stream": "stderr",
       "text": [
        "WARNING:root:OpenBLAS detected. Its highly recommend to set the environment variable 'export OPENBLAS_NUM_THREADS=1' to disable its internal multithreading\n"
       ]
      },
      {
       "output_type": "stream",
       "stream": "stderr",
       "text": [
        "WARNING:root:OpenBLAS detected. Its highly recommend to set the environment variable 'export OPENBLAS_NUM_THREADS=1' to disable its internal multithreading\n"
       ]
      },
      {
       "output_type": "stream",
       "stream": "stderr",
       "text": [
        "WARNING:root:OpenBLAS detected. Its highly recommend to set the environment variable 'export OPENBLAS_NUM_THREADS=1' to disable its internal multithreading\n"
       ]
      },
      {
       "output_type": "stream",
       "stream": "stderr",
       "text": [
        "WARNING:root:OpenBLAS detected. Its highly recommend to set the environment variable 'export OPENBLAS_NUM_THREADS=1' to disable its internal multithreading\n"
       ]
      },
      {
       "output_type": "stream",
       "stream": "stderr",
       "text": [
        "WARNING:root:OpenBLAS detected. Its highly recommend to set the environment variable 'export OPENBLAS_NUM_THREADS=1' to disable its internal multithreading\n"
       ]
      },
      {
       "output_type": "stream",
       "stream": "stdout",
       "text": [
        "======================\n",
        "0.01, 0.45644267875547456, 0.4564390537282869\n",
        "======================"
       ]
      },
      {
       "output_type": "stream",
       "stream": "stderr",
       "text": [
        "WARNING:root:OpenBLAS detected. Its highly recommend to set the environment variable 'export OPENBLAS_NUM_THREADS=1' to disable its internal multithreading\n"
       ]
      },
      {
       "output_type": "stream",
       "stream": "stderr",
       "text": [
        "WARNING:root:OpenBLAS detected. Its highly recommend to set the environment variable 'export OPENBLAS_NUM_THREADS=1' to disable its internal multithreading\n"
       ]
      },
      {
       "output_type": "stream",
       "stream": "stderr",
       "text": [
        "WARNING:root:OpenBLAS detected. Its highly recommend to set the environment variable 'export OPENBLAS_NUM_THREADS=1' to disable its internal multithreading\n"
       ]
      },
      {
       "output_type": "stream",
       "stream": "stdout",
       "text": [
        "\n",
        "0.5357894736842106, 0.4664692653581168, 0.46646491658664463\n",
        "======================"
       ]
      },
      {
       "output_type": "stream",
       "stream": "stderr",
       "text": [
        "WARNING:root:OpenBLAS detected. Its highly recommend to set the environment variable 'export OPENBLAS_NUM_THREADS=1' to disable its internal multithreading\n"
       ]
      },
      {
       "output_type": "stream",
       "stream": "stderr",
       "text": [
        "WARNING:root:OpenBLAS detected. Its highly recommend to set the environment variable 'export OPENBLAS_NUM_THREADS=1' to disable its internal multithreading\n"
       ]
      },
      {
       "output_type": "stream",
       "stream": "stderr",
       "text": [
        "WARNING:root:OpenBLAS detected. Its highly recommend to set the environment variable 'export OPENBLAS_NUM_THREADS=1' to disable its internal multithreading\n"
       ]
      },
      {
       "output_type": "stream",
       "stream": "stdout",
       "text": [
        "\n",
        "1.0615789473684212, 0.45818897592126695, 0.4581876066022293\n",
        "======================"
       ]
      },
      {
       "output_type": "stream",
       "stream": "stderr",
       "text": [
        "WARNING:root:OpenBLAS detected. Its highly recommend to set the environment variable 'export OPENBLAS_NUM_THREADS=1' to disable its internal multithreading\n"
       ]
      },
      {
       "output_type": "stream",
       "stream": "stderr",
       "text": [
        "WARNING:root:OpenBLAS detected. Its highly recommend to set the environment variable 'export OPENBLAS_NUM_THREADS=1' to disable its internal multithreading\n"
       ]
      },
      {
       "output_type": "stream",
       "stream": "stderr",
       "text": [
        "WARNING:root:OpenBLAS detected. Its highly recommend to set the environment variable 'export OPENBLAS_NUM_THREADS=1' to disable its internal multithreading\n"
       ]
      },
      {
       "output_type": "stream",
       "stream": "stdout",
       "text": [
        "\n",
        "1.5873684210526318, 0.4641682197309612, 0.4641682197309612\n",
        "======================"
       ]
      },
      {
       "output_type": "stream",
       "stream": "stderr",
       "text": [
        "WARNING:root:OpenBLAS detected. Its highly recommend to set the environment variable 'export OPENBLAS_NUM_THREADS=1' to disable its internal multithreading\n"
       ]
      },
      {
       "output_type": "stream",
       "stream": "stderr",
       "text": [
        "WARNING:root:OpenBLAS detected. Its highly recommend to set the environment variable 'export OPENBLAS_NUM_THREADS=1' to disable its internal multithreading\n"
       ]
      },
      {
       "output_type": "stream",
       "stream": "stderr",
       "text": [
        "WARNING:root:OpenBLAS detected. Its highly recommend to set the environment variable 'export OPENBLAS_NUM_THREADS=1' to disable its internal multithreading\n"
       ]
      },
      {
       "output_type": "stream",
       "stream": "stdout",
       "text": [
        "\n",
        "2.113157894736842, 0.46994631114933805, 0.46994631114933805\n",
        "======================"
       ]
      },
      {
       "output_type": "stream",
       "stream": "stderr",
       "text": [
        "WARNING:root:OpenBLAS detected. Its highly recommend to set the environment variable 'export OPENBLAS_NUM_THREADS=1' to disable its internal multithreading\n"
       ]
      },
      {
       "output_type": "stream",
       "stream": "stderr",
       "text": [
        "WARNING:root:OpenBLAS detected. Its highly recommend to set the environment variable 'export OPENBLAS_NUM_THREADS=1' to disable its internal multithreading\n"
       ]
      },
      {
       "output_type": "stream",
       "stream": "stderr",
       "text": [
        "WARNING:root:OpenBLAS detected. Its highly recommend to set the environment variable 'export OPENBLAS_NUM_THREADS=1' to disable its internal multithreading\n"
       ]
      },
      {
       "output_type": "stream",
       "stream": "stdout",
       "text": [
        "\n",
        "2.6389473684210527, 0.4599055345663759, 0.4599055345663759\n",
        "======================"
       ]
      },
      {
       "output_type": "stream",
       "stream": "stderr",
       "text": [
        "WARNING:root:OpenBLAS detected. Its highly recommend to set the environment variable 'export OPENBLAS_NUM_THREADS=1' to disable its internal multithreading\n"
       ]
      },
      {
       "output_type": "stream",
       "stream": "stderr",
       "text": [
        "WARNING:root:OpenBLAS detected. Its highly recommend to set the environment variable 'export OPENBLAS_NUM_THREADS=1' to disable its internal multithreading\n"
       ]
      },
      {
       "output_type": "stream",
       "stream": "stderr",
       "text": [
        "WARNING:root:OpenBLAS detected. Its highly recommend to set the environment variable 'export OPENBLAS_NUM_THREADS=1' to disable its internal multithreading\n"
       ]
      },
      {
       "output_type": "stream",
       "stream": "stdout",
       "text": [
        "\n",
        "3.1647368421052633, 0.45981106472050626, 0.45981106472050626\n",
        "======================"
       ]
      },
      {
       "output_type": "stream",
       "stream": "stderr",
       "text": [
        "WARNING:root:OpenBLAS detected. Its highly recommend to set the environment variable 'export OPENBLAS_NUM_THREADS=1' to disable its internal multithreading\n"
       ]
      },
      {
       "output_type": "stream",
       "stream": "stderr",
       "text": [
        "WARNING:root:OpenBLAS detected. Its highly recommend to set the environment variable 'export OPENBLAS_NUM_THREADS=1' to disable its internal multithreading\n"
       ]
      },
      {
       "output_type": "stream",
       "stream": "stderr",
       "text": [
        "WARNING:root:OpenBLAS detected. Its highly recommend to set the environment variable 'export OPENBLAS_NUM_THREADS=1' to disable its internal multithreading\n"
       ]
      },
      {
       "output_type": "stream",
       "stream": "stdout",
       "text": [
        "\n",
        "3.690526315789474, 0.4563670245448055, 0.45636188051188364\n",
        "======================"
       ]
      },
      {
       "output_type": "stream",
       "stream": "stderr",
       "text": [
        "WARNING:root:OpenBLAS detected. Its highly recommend to set the environment variable 'export OPENBLAS_NUM_THREADS=1' to disable its internal multithreading\n"
       ]
      },
      {
       "output_type": "stream",
       "stream": "stderr",
       "text": [
        "WARNING:root:OpenBLAS detected. Its highly recommend to set the environment variable 'export OPENBLAS_NUM_THREADS=1' to disable its internal multithreading\n"
       ]
      },
      {
       "output_type": "stream",
       "stream": "stderr",
       "text": [
        "WARNING:root:OpenBLAS detected. Its highly recommend to set the environment variable 'export OPENBLAS_NUM_THREADS=1' to disable its internal multithreading\n"
       ]
      },
      {
       "output_type": "stream",
       "stream": "stdout",
       "text": [
        "\n",
        "4.2163157894736845, 0.46689770330030966, 0.4668835189184934\n",
        "======================"
       ]
      },
      {
       "output_type": "stream",
       "stream": "stderr",
       "text": [
        "WARNING:root:OpenBLAS detected. Its highly recommend to set the environment variable 'export OPENBLAS_NUM_THREADS=1' to disable its internal multithreading\n"
       ]
      },
      {
       "output_type": "stream",
       "stream": "stderr",
       "text": [
        "WARNING:root:OpenBLAS detected. Its highly recommend to set the environment variable 'export OPENBLAS_NUM_THREADS=1' to disable its internal multithreading\n"
       ]
      },
      {
       "output_type": "stream",
       "stream": "stderr",
       "text": [
        "WARNING:root:OpenBLAS detected. Its highly recommend to set the environment variable 'export OPENBLAS_NUM_THREADS=1' to disable its internal multithreading\n"
       ]
      },
      {
       "output_type": "stream",
       "stream": "stdout",
       "text": [
        "\n",
        "4.742105263157895, 0.46235888819352594, 0.46235888819352594\n",
        "======================"
       ]
      },
      {
       "output_type": "stream",
       "stream": "stderr",
       "text": [
        "WARNING:root:OpenBLAS detected. Its highly recommend to set the environment variable 'export OPENBLAS_NUM_THREADS=1' to disable its internal multithreading\n"
       ]
      },
      {
       "output_type": "stream",
       "stream": "stderr",
       "text": [
        "WARNING:root:OpenBLAS detected. Its highly recommend to set the environment variable 'export OPENBLAS_NUM_THREADS=1' to disable its internal multithreading\n"
       ]
      },
      {
       "output_type": "stream",
       "stream": "stderr",
       "text": [
        "WARNING:root:OpenBLAS detected. Its highly recommend to set the environment variable 'export OPENBLAS_NUM_THREADS=1' to disable its internal multithreading\n"
       ]
      },
      {
       "output_type": "stream",
       "stream": "stdout",
       "text": [
        "\n",
        "5.267894736842106, 0.4559585036069671, 0.45595220172900736\n",
        "======================"
       ]
      },
      {
       "output_type": "stream",
       "stream": "stderr",
       "text": [
        "WARNING:root:OpenBLAS detected. Its highly recommend to set the environment variable 'export OPENBLAS_NUM_THREADS=1' to disable its internal multithreading\n"
       ]
      },
      {
       "output_type": "stream",
       "stream": "stderr",
       "text": [
        "WARNING:root:OpenBLAS detected. Its highly recommend to set the environment variable 'export OPENBLAS_NUM_THREADS=1' to disable its internal multithreading\n"
       ]
      },
      {
       "output_type": "stream",
       "stream": "stderr",
       "text": [
        "WARNING:root:OpenBLAS detected. Its highly recommend to set the environment variable 'export OPENBLAS_NUM_THREADS=1' to disable its internal multithreading\n"
       ]
      },
      {
       "output_type": "stream",
       "stream": "stdout",
       "text": [
        "\n",
        "5.793684210526316, 0.4562558219119583, 0.4562558219119583\n",
        "======================"
       ]
      },
      {
       "output_type": "stream",
       "stream": "stderr",
       "text": [
        "WARNING:root:OpenBLAS detected. Its highly recommend to set the environment variable 'export OPENBLAS_NUM_THREADS=1' to disable its internal multithreading\n"
       ]
      },
      {
       "output_type": "stream",
       "stream": "stderr",
       "text": [
        "WARNING:root:OpenBLAS detected. Its highly recommend to set the environment variable 'export OPENBLAS_NUM_THREADS=1' to disable its internal multithreading\n"
       ]
      },
      {
       "output_type": "stream",
       "stream": "stderr",
       "text": [
        "WARNING:root:OpenBLAS detected. Its highly recommend to set the environment variable 'export OPENBLAS_NUM_THREADS=1' to disable its internal multithreading\n"
       ]
      },
      {
       "output_type": "stream",
       "stream": "stdout",
       "text": [
        "\n",
        "6.319473684210527, 0.46017775812048173, 0.46017775812048173\n",
        "======================"
       ]
      },
      {
       "output_type": "stream",
       "stream": "stderr",
       "text": [
        "WARNING:root:OpenBLAS detected. Its highly recommend to set the environment variable 'export OPENBLAS_NUM_THREADS=1' to disable its internal multithreading\n"
       ]
      },
      {
       "output_type": "stream",
       "stream": "stderr",
       "text": [
        "WARNING:root:OpenBLAS detected. Its highly recommend to set the environment variable 'export OPENBLAS_NUM_THREADS=1' to disable its internal multithreading\n"
       ]
      },
      {
       "output_type": "stream",
       "stream": "stderr",
       "text": [
        "WARNING:root:OpenBLAS detected. Its highly recommend to set the environment variable 'export OPENBLAS_NUM_THREADS=1' to disable its internal multithreading\n"
       ]
      },
      {
       "output_type": "stream",
       "stream": "stdout",
       "text": [
        "\n",
        "6.845263157894737, 0.4577598507142519, 0.45775729643583557\n",
        "======================"
       ]
      },
      {
       "output_type": "stream",
       "stream": "stderr",
       "text": [
        "WARNING:root:OpenBLAS detected. Its highly recommend to set the environment variable 'export OPENBLAS_NUM_THREADS=1' to disable its internal multithreading\n"
       ]
      },
      {
       "output_type": "stream",
       "stream": "stderr",
       "text": [
        "WARNING:root:OpenBLAS detected. Its highly recommend to set the environment variable 'export OPENBLAS_NUM_THREADS=1' to disable its internal multithreading\n"
       ]
      },
      {
       "output_type": "stream",
       "stream": "stderr",
       "text": [
        "WARNING:root:OpenBLAS detected. Its highly recommend to set the environment variable 'export OPENBLAS_NUM_THREADS=1' to disable its internal multithreading\n"
       ]
      },
      {
       "output_type": "stream",
       "stream": "stdout",
       "text": [
        "\n",
        "7.371052631578948, 0.4640405812241455, 0.4640405812241455\n",
        "======================"
       ]
      },
      {
       "output_type": "stream",
       "stream": "stderr",
       "text": [
        "WARNING:root:OpenBLAS detected. Its highly recommend to set the environment variable 'export OPENBLAS_NUM_THREADS=1' to disable its internal multithreading\n"
       ]
      },
      {
       "output_type": "stream",
       "stream": "stderr",
       "text": [
        "WARNING:root:OpenBLAS detected. Its highly recommend to set the environment variable 'export OPENBLAS_NUM_THREADS=1' to disable its internal multithreading\n"
       ]
      },
      {
       "output_type": "stream",
       "stream": "stderr",
       "text": [
        "WARNING:root:OpenBLAS detected. Its highly recommend to set the environment variable 'export OPENBLAS_NUM_THREADS=1' to disable its internal multithreading\n"
       ]
      },
      {
       "output_type": "stream",
       "stream": "stdout",
       "text": [
        "\n",
        "7.8968421052631586, 0.46946888553104643, 0.46946888553104643\n",
        "======================"
       ]
      },
      {
       "output_type": "stream",
       "stream": "stderr",
       "text": [
        "WARNING:root:OpenBLAS detected. Its highly recommend to set the environment variable 'export OPENBLAS_NUM_THREADS=1' to disable its internal multithreading\n"
       ]
      },
      {
       "output_type": "stream",
       "stream": "stderr",
       "text": [
        "WARNING:root:OpenBLAS detected. Its highly recommend to set the environment variable 'export OPENBLAS_NUM_THREADS=1' to disable its internal multithreading\n"
       ]
      },
      {
       "output_type": "stream",
       "stream": "stderr",
       "text": [
        "WARNING:root:OpenBLAS detected. Its highly recommend to set the environment variable 'export OPENBLAS_NUM_THREADS=1' to disable its internal multithreading\n"
       ]
      },
      {
       "output_type": "stream",
       "stream": "stdout",
       "text": [
        "\n",
        "8.42263157894737, 0.46340598294231666, 0.46340598294231666\n",
        "======================"
       ]
      },
      {
       "output_type": "stream",
       "stream": "stderr",
       "text": [
        "WARNING:root:OpenBLAS detected. Its highly recommend to set the environment variable 'export OPENBLAS_NUM_THREADS=1' to disable its internal multithreading\n"
       ]
      },
      {
       "output_type": "stream",
       "stream": "stderr",
       "text": [
        "WARNING:root:OpenBLAS detected. Its highly recommend to set the environment variable 'export OPENBLAS_NUM_THREADS=1' to disable its internal multithreading\n"
       ]
      },
      {
       "output_type": "stream",
       "stream": "stderr",
       "text": [
        "WARNING:root:OpenBLAS detected. Its highly recommend to set the environment variable 'export OPENBLAS_NUM_THREADS=1' to disable its internal multithreading\n"
       ]
      },
      {
       "output_type": "stream",
       "stream": "stdout",
       "text": [
        "\n",
        "8.948421052631579, 0.46265281712433826, 0.46265281712433826\n",
        "======================"
       ]
      },
      {
       "output_type": "stream",
       "stream": "stderr",
       "text": [
        "WARNING:root:OpenBLAS detected. Its highly recommend to set the environment variable 'export OPENBLAS_NUM_THREADS=1' to disable its internal multithreading\n"
       ]
      },
      {
       "output_type": "stream",
       "stream": "stderr",
       "text": [
        "WARNING:root:OpenBLAS detected. Its highly recommend to set the environment variable 'export OPENBLAS_NUM_THREADS=1' to disable its internal multithreading\n"
       ]
      },
      {
       "output_type": "stream",
       "stream": "stderr",
       "text": [
        "WARNING:root:OpenBLAS detected. Its highly recommend to set the environment variable 'export OPENBLAS_NUM_THREADS=1' to disable its internal multithreading\n"
       ]
      },
      {
       "output_type": "stream",
       "stream": "stdout",
       "text": [
        "\n",
        "9.47421052631579, 0.4663127044745811, 0.4663127044745811\n",
        "======================"
       ]
      },
      {
       "output_type": "stream",
       "stream": "stdout",
       "text": [
        "\n",
        "10.0, 0.45475527658265474, 0.45475527658265474\n"
       ]
      }
     ],
     "prompt_number": 14
    },
    {
     "cell_type": "code",
     "collapsed": false,
     "input": [
      "for factors in range(200, 400, 50):\n",
      "    for regularization in np.linspace(1, 30, 5):\n",
      "        precisions, recalls = cross_validate(n_splits=3, factors=factors, regularization=regularization)\n",
      "        print(\"======================\")\n",
      "        print(\"{}, {}, {}, {}\".format(factors, regularization, np.mean(precisions), np.mean(recalls)))"
     ],
     "language": "python",
     "metadata": {},
     "outputs": [
      {
       "output_type": "stream",
       "stream": "stderr",
       "text": [
        "WARNING:root:OpenBLAS detected. Its highly recommend to set the environment variable 'export OPENBLAS_NUM_THREADS=1' to disable its internal multithreading\n"
       ]
      },
      {
       "output_type": "stream",
       "stream": "stderr",
       "text": [
        "WARNING:root:OpenBLAS detected. Its highly recommend to set the environment variable 'export OPENBLAS_NUM_THREADS=1' to disable its internal multithreading\n"
       ]
      },
      {
       "output_type": "stream",
       "stream": "stderr",
       "text": [
        "WARNING:root:OpenBLAS detected. Its highly recommend to set the environment variable 'export OPENBLAS_NUM_THREADS=1' to disable its internal multithreading\n"
       ]
      },
      {
       "output_type": "stream",
       "stream": "stderr",
       "text": [
        "WARNING:root:OpenBLAS detected. Its highly recommend to set the environment variable 'export OPENBLAS_NUM_THREADS=1' to disable its internal multithreading\n"
       ]
      },
      {
       "output_type": "stream",
       "stream": "stderr",
       "text": [
        "WARNING:root:OpenBLAS detected. Its highly recommend to set the environment variable 'export OPENBLAS_NUM_THREADS=1' to disable its internal multithreading\n"
       ]
      },
      {
       "output_type": "stream",
       "stream": "stderr",
       "text": [
        "WARNING:root:OpenBLAS detected. Its highly recommend to set the environment variable 'export OPENBLAS_NUM_THREADS=1' to disable its internal multithreading\n"
       ]
      },
      {
       "output_type": "stream",
       "stream": "stdout",
       "text": [
        "======================\n",
        "200, 1.0, 0.4608155906735136, 0.4608155906735136\n",
        "======================"
       ]
      },
      {
       "output_type": "stream",
       "stream": "stderr",
       "text": [
        "WARNING:root:OpenBLAS detected. Its highly recommend to set the environment variable 'export OPENBLAS_NUM_THREADS=1' to disable its internal multithreading\n"
       ]
      },
      {
       "output_type": "stream",
       "stream": "stderr",
       "text": [
        "WARNING:root:OpenBLAS detected. Its highly recommend to set the environment variable 'export OPENBLAS_NUM_THREADS=1' to disable its internal multithreading\n"
       ]
      },
      {
       "output_type": "stream",
       "stream": "stderr",
       "text": [
        "WARNING:root:OpenBLAS detected. Its highly recommend to set the environment variable 'export OPENBLAS_NUM_THREADS=1' to disable its internal multithreading\n"
       ]
      },
      {
       "output_type": "stream",
       "stream": "stdout",
       "text": [
        "\n",
        "200, 8.25, 0.4531986186068065, 0.45319342892389614\n",
        "======================"
       ]
      },
      {
       "output_type": "stream",
       "stream": "stderr",
       "text": [
        "WARNING:root:OpenBLAS detected. Its highly recommend to set the environment variable 'export OPENBLAS_NUM_THREADS=1' to disable its internal multithreading\n"
       ]
      },
      {
       "output_type": "stream",
       "stream": "stderr",
       "text": [
        "WARNING:root:OpenBLAS detected. Its highly recommend to set the environment variable 'export OPENBLAS_NUM_THREADS=1' to disable its internal multithreading\n"
       ]
      },
      {
       "output_type": "stream",
       "stream": "stderr",
       "text": [
        "WARNING:root:OpenBLAS detected. Its highly recommend to set the environment variable 'export OPENBLAS_NUM_THREADS=1' to disable its internal multithreading\n"
       ]
      },
      {
       "output_type": "stream",
       "stream": "stdout",
       "text": [
        "\n",
        "200, 15.5, 0.45712110544900236, 0.45711380901938864\n",
        "======================"
       ]
      },
      {
       "output_type": "stream",
       "stream": "stderr",
       "text": [
        "WARNING:root:OpenBLAS detected. Its highly recommend to set the environment variable 'export OPENBLAS_NUM_THREADS=1' to disable its internal multithreading\n"
       ]
      },
      {
       "output_type": "stream",
       "stream": "stderr",
       "text": [
        "WARNING:root:OpenBLAS detected. Its highly recommend to set the environment variable 'export OPENBLAS_NUM_THREADS=1' to disable its internal multithreading\n"
       ]
      },
      {
       "output_type": "stream",
       "stream": "stderr",
       "text": [
        "WARNING:root:OpenBLAS detected. Its highly recommend to set the environment variable 'export OPENBLAS_NUM_THREADS=1' to disable its internal multithreading\n"
       ]
      },
      {
       "output_type": "stream",
       "stream": "stdout",
       "text": [
        "\n",
        "200, 22.75, 0.46427974440520114, 0.46427974440520114\n",
        "======================"
       ]
      },
      {
       "output_type": "stream",
       "stream": "stderr",
       "text": [
        "WARNING:root:OpenBLAS detected. Its highly recommend to set the environment variable 'export OPENBLAS_NUM_THREADS=1' to disable its internal multithreading\n"
       ]
      },
      {
       "output_type": "stream",
       "stream": "stderr",
       "text": [
        "WARNING:root:OpenBLAS detected. Its highly recommend to set the environment variable 'export OPENBLAS_NUM_THREADS=1' to disable its internal multithreading\n"
       ]
      },
      {
       "output_type": "stream",
       "stream": "stderr",
       "text": [
        "WARNING:root:OpenBLAS detected. Its highly recommend to set the environment variable 'export OPENBLAS_NUM_THREADS=1' to disable its internal multithreading\n"
       ]
      },
      {
       "output_type": "stream",
       "stream": "stdout",
       "text": [
        "\n",
        "200, 30.0, 0.4605778885343148, 0.4605778885343148\n",
        "======================"
       ]
      },
      {
       "output_type": "stream",
       "stream": "stderr",
       "text": [
        "WARNING:root:OpenBLAS detected. Its highly recommend to set the environment variable 'export OPENBLAS_NUM_THREADS=1' to disable its internal multithreading\n"
       ]
      },
      {
       "output_type": "stream",
       "stream": "stderr",
       "text": [
        "WARNING:root:OpenBLAS detected. Its highly recommend to set the environment variable 'export OPENBLAS_NUM_THREADS=1' to disable its internal multithreading\n"
       ]
      },
      {
       "output_type": "stream",
       "stream": "stderr",
       "text": [
        "WARNING:root:OpenBLAS detected. Its highly recommend to set the environment variable 'export OPENBLAS_NUM_THREADS=1' to disable its internal multithreading\n"
       ]
      },
      {
       "output_type": "stream",
       "stream": "stdout",
       "text": [
        "\n",
        "250, 1.0, 0.4623744692645763, 0.4623661448959476\n",
        "======================"
       ]
      },
      {
       "output_type": "stream",
       "stream": "stderr",
       "text": [
        "WARNING:root:OpenBLAS detected. Its highly recommend to set the environment variable 'export OPENBLAS_NUM_THREADS=1' to disable its internal multithreading\n"
       ]
      },
      {
       "output_type": "stream",
       "stream": "stderr",
       "text": [
        "WARNING:root:OpenBLAS detected. Its highly recommend to set the environment variable 'export OPENBLAS_NUM_THREADS=1' to disable its internal multithreading\n"
       ]
      },
      {
       "output_type": "stream",
       "stream": "stderr",
       "text": [
        "WARNING:root:OpenBLAS detected. Its highly recommend to set the environment variable 'export OPENBLAS_NUM_THREADS=1' to disable its internal multithreading\n"
       ]
      },
      {
       "output_type": "stream",
       "stream": "stdout",
       "text": [
        "\n",
        "250, 8.25, 0.4652623795182056, 0.4652623795182056\n",
        "======================"
       ]
      },
      {
       "output_type": "stream",
       "stream": "stderr",
       "text": [
        "WARNING:root:OpenBLAS detected. Its highly recommend to set the environment variable 'export OPENBLAS_NUM_THREADS=1' to disable its internal multithreading\n"
       ]
      },
      {
       "output_type": "stream",
       "stream": "stderr",
       "text": [
        "WARNING:root:OpenBLAS detected. Its highly recommend to set the environment variable 'export OPENBLAS_NUM_THREADS=1' to disable its internal multithreading\n"
       ]
      },
      {
       "output_type": "stream",
       "stream": "stderr",
       "text": [
        "WARNING:root:OpenBLAS detected. Its highly recommend to set the environment variable 'export OPENBLAS_NUM_THREADS=1' to disable its internal multithreading\n"
       ]
      },
      {
       "output_type": "stream",
       "stream": "stdout",
       "text": [
        "\n",
        "250, 15.5, 0.46442133401553237, 0.46441132851250577\n",
        "======================"
       ]
      },
      {
       "output_type": "stream",
       "stream": "stderr",
       "text": [
        "WARNING:root:OpenBLAS detected. Its highly recommend to set the environment variable 'export OPENBLAS_NUM_THREADS=1' to disable its internal multithreading\n"
       ]
      },
      {
       "output_type": "stream",
       "stream": "stderr",
       "text": [
        "WARNING:root:OpenBLAS detected. Its highly recommend to set the environment variable 'export OPENBLAS_NUM_THREADS=1' to disable its internal multithreading\n"
       ]
      },
      {
       "output_type": "stream",
       "stream": "stderr",
       "text": [
        "WARNING:root:OpenBLAS detected. Its highly recommend to set the environment variable 'export OPENBLAS_NUM_THREADS=1' to disable its internal multithreading\n"
       ]
      },
      {
       "output_type": "stream",
       "stream": "stdout",
       "text": [
        "\n",
        "250, 22.75, 0.4572531071579295, 0.4572531071579295\n",
        "======================"
       ]
      },
      {
       "output_type": "stream",
       "stream": "stderr",
       "text": [
        "WARNING:root:OpenBLAS detected. Its highly recommend to set the environment variable 'export OPENBLAS_NUM_THREADS=1' to disable its internal multithreading\n"
       ]
      },
      {
       "output_type": "stream",
       "stream": "stderr",
       "text": [
        "WARNING:root:OpenBLAS detected. Its highly recommend to set the environment variable 'export OPENBLAS_NUM_THREADS=1' to disable its internal multithreading\n"
       ]
      },
      {
       "output_type": "stream",
       "stream": "stderr",
       "text": [
        "WARNING:root:OpenBLAS detected. Its highly recommend to set the environment variable 'export OPENBLAS_NUM_THREADS=1' to disable its internal multithreading\n"
       ]
      },
      {
       "output_type": "stream",
       "stream": "stdout",
       "text": [
        "\n",
        "250, 30.0, 0.46466627074193106, 0.46466627074193106\n",
        "======================"
       ]
      },
      {
       "output_type": "stream",
       "stream": "stderr",
       "text": [
        "WARNING:root:OpenBLAS detected. Its highly recommend to set the environment variable 'export OPENBLAS_NUM_THREADS=1' to disable its internal multithreading\n"
       ]
      },
      {
       "output_type": "stream",
       "stream": "stderr",
       "text": [
        "WARNING:root:OpenBLAS detected. Its highly recommend to set the environment variable 'export OPENBLAS_NUM_THREADS=1' to disable its internal multithreading\n"
       ]
      },
      {
       "output_type": "stream",
       "stream": "stderr",
       "text": [
        "WARNING:root:OpenBLAS detected. Its highly recommend to set the environment variable 'export OPENBLAS_NUM_THREADS=1' to disable its internal multithreading\n"
       ]
      },
      {
       "output_type": "stream",
       "stream": "stdout",
       "text": [
        "\n",
        "300, 1.0, 0.463648541192456, 0.463648541192456\n",
        "======================"
       ]
      },
      {
       "output_type": "stream",
       "stream": "stderr",
       "text": [
        "WARNING:root:OpenBLAS detected. Its highly recommend to set the environment variable 'export OPENBLAS_NUM_THREADS=1' to disable its internal multithreading\n"
       ]
      },
      {
       "output_type": "stream",
       "stream": "stderr",
       "text": [
        "WARNING:root:OpenBLAS detected. Its highly recommend to set the environment variable 'export OPENBLAS_NUM_THREADS=1' to disable its internal multithreading\n"
       ]
      },
      {
       "output_type": "stream",
       "stream": "stderr",
       "text": [
        "WARNING:root:OpenBLAS detected. Its highly recommend to set the environment variable 'export OPENBLAS_NUM_THREADS=1' to disable its internal multithreading\n"
       ]
      },
      {
       "output_type": "stream",
       "stream": "stdout",
       "text": [
        "\n",
        "300, 8.25, 0.4621036179007268, 0.4620984928494763\n",
        "======================"
       ]
      },
      {
       "output_type": "stream",
       "stream": "stderr",
       "text": [
        "WARNING:root:OpenBLAS detected. Its highly recommend to set the environment variable 'export OPENBLAS_NUM_THREADS=1' to disable its internal multithreading\n"
       ]
      },
      {
       "output_type": "stream",
       "stream": "stderr",
       "text": [
        "WARNING:root:OpenBLAS detected. Its highly recommend to set the environment variable 'export OPENBLAS_NUM_THREADS=1' to disable its internal multithreading\n"
       ]
      },
      {
       "output_type": "stream",
       "stream": "stderr",
       "text": [
        "WARNING:root:OpenBLAS detected. Its highly recommend to set the environment variable 'export OPENBLAS_NUM_THREADS=1' to disable its internal multithreading\n"
       ]
      },
      {
       "output_type": "stream",
       "stream": "stdout",
       "text": [
        "\n",
        "300, 15.5, 0.46024597331043177, 0.46024091590892463\n",
        "======================"
       ]
      },
      {
       "output_type": "stream",
       "stream": "stderr",
       "text": [
        "WARNING:root:OpenBLAS detected. Its highly recommend to set the environment variable 'export OPENBLAS_NUM_THREADS=1' to disable its internal multithreading\n"
       ]
      },
      {
       "output_type": "stream",
       "stream": "stderr",
       "text": [
        "WARNING:root:OpenBLAS detected. Its highly recommend to set the environment variable 'export OPENBLAS_NUM_THREADS=1' to disable its internal multithreading\n"
       ]
      },
      {
       "output_type": "stream",
       "stream": "stderr",
       "text": [
        "WARNING:root:OpenBLAS detected. Its highly recommend to set the environment variable 'export OPENBLAS_NUM_THREADS=1' to disable its internal multithreading\n"
       ]
      },
      {
       "output_type": "stream",
       "stream": "stdout",
       "text": [
        "\n",
        "300, 22.75, 0.45961248607344435, 0.4596089281142898\n",
        "======================"
       ]
      },
      {
       "output_type": "stream",
       "stream": "stderr",
       "text": [
        "WARNING:root:OpenBLAS detected. Its highly recommend to set the environment variable 'export OPENBLAS_NUM_THREADS=1' to disable its internal multithreading\n"
       ]
      },
      {
       "output_type": "stream",
       "stream": "stderr",
       "text": [
        "WARNING:root:OpenBLAS detected. Its highly recommend to set the environment variable 'export OPENBLAS_NUM_THREADS=1' to disable its internal multithreading\n"
       ]
      },
      {
       "output_type": "stream",
       "stream": "stderr",
       "text": [
        "WARNING:root:OpenBLAS detected. Its highly recommend to set the environment variable 'export OPENBLAS_NUM_THREADS=1' to disable its internal multithreading\n"
       ]
      },
      {
       "output_type": "stream",
       "stream": "stdout",
       "text": [
        "\n",
        "300, 30.0, 0.46278552891442465, 0.4627804297353924\n",
        "======================"
       ]
      },
      {
       "output_type": "stream",
       "stream": "stderr",
       "text": [
        "WARNING:root:OpenBLAS detected. Its highly recommend to set the environment variable 'export OPENBLAS_NUM_THREADS=1' to disable its internal multithreading\n"
       ]
      },
      {
       "output_type": "stream",
       "stream": "stderr",
       "text": [
        "WARNING:root:OpenBLAS detected. Its highly recommend to set the environment variable 'export OPENBLAS_NUM_THREADS=1' to disable its internal multithreading\n"
       ]
      },
      {
       "output_type": "stream",
       "stream": "stderr",
       "text": [
        "WARNING:root:OpenBLAS detected. Its highly recommend to set the environment variable 'export OPENBLAS_NUM_THREADS=1' to disable its internal multithreading\n"
       ]
      },
      {
       "output_type": "stream",
       "stream": "stdout",
       "text": [
        "\n",
        "350, 1.0, 0.45719591199717796, 0.45719591199717796\n",
        "======================"
       ]
      },
      {
       "output_type": "stream",
       "stream": "stderr",
       "text": [
        "WARNING:root:OpenBLAS detected. Its highly recommend to set the environment variable 'export OPENBLAS_NUM_THREADS=1' to disable its internal multithreading\n"
       ]
      },
      {
       "output_type": "stream",
       "stream": "stderr",
       "text": [
        "WARNING:root:OpenBLAS detected. Its highly recommend to set the environment variable 'export OPENBLAS_NUM_THREADS=1' to disable its internal multithreading\n"
       ]
      },
      {
       "output_type": "stream",
       "stream": "stderr",
       "text": [
        "WARNING:root:OpenBLAS detected. Its highly recommend to set the environment variable 'export OPENBLAS_NUM_THREADS=1' to disable its internal multithreading\n"
       ]
      },
      {
       "output_type": "stream",
       "stream": "stdout",
       "text": [
        "\n",
        "350, 8.25, 0.4569352817859968, 0.4569295161033399\n",
        "======================"
       ]
      },
      {
       "output_type": "stream",
       "stream": "stderr",
       "text": [
        "WARNING:root:OpenBLAS detected. Its highly recommend to set the environment variable 'export OPENBLAS_NUM_THREADS=1' to disable its internal multithreading\n"
       ]
      },
      {
       "output_type": "stream",
       "stream": "stderr",
       "text": [
        "WARNING:root:OpenBLAS detected. Its highly recommend to set the environment variable 'export OPENBLAS_NUM_THREADS=1' to disable its internal multithreading\n"
       ]
      },
      {
       "output_type": "stream",
       "stream": "stderr",
       "text": [
        "WARNING:root:OpenBLAS detected. Its highly recommend to set the environment variable 'export OPENBLAS_NUM_THREADS=1' to disable its internal multithreading\n"
       ]
      },
      {
       "output_type": "stream",
       "stream": "stdout",
       "text": [
        "\n",
        "350, 15.5, 0.46542984594449993, 0.46542984594449993\n",
        "======================"
       ]
      },
      {
       "output_type": "stream",
       "stream": "stderr",
       "text": [
        "WARNING:root:OpenBLAS detected. Its highly recommend to set the environment variable 'export OPENBLAS_NUM_THREADS=1' to disable its internal multithreading\n"
       ]
      },
      {
       "output_type": "stream",
       "stream": "stderr",
       "text": [
        "WARNING:root:OpenBLAS detected. Its highly recommend to set the environment variable 'export OPENBLAS_NUM_THREADS=1' to disable its internal multithreading\n"
       ]
      },
      {
       "output_type": "stream",
       "stream": "stderr",
       "text": [
        "WARNING:root:OpenBLAS detected. Its highly recommend to set the environment variable 'export OPENBLAS_NUM_THREADS=1' to disable its internal multithreading\n"
       ]
      },
      {
       "output_type": "stream",
       "stream": "stdout",
       "text": [
        "\n",
        "350, 22.75, 0.457382362357696, 0.457382362357696\n",
        "======================"
       ]
      },
      {
       "output_type": "stream",
       "stream": "stdout",
       "text": [
        "\n",
        "350, 30.0, 0.4701027081990521, 0.47009201191763755\n"
       ]
      }
     ],
     "prompt_number": 15
    },
    {
     "cell_type": "markdown",
     "metadata": {},
     "source": [
      "\u0412 \u0442\u043e\u043f-10 \u0440\u0435\u043a\u043e\u043c\u0435\u043d\u0434\u0430\u0446\u0438\u0439 \u043f\u043e\u043f\u0430\u0434\u0430\u0435\u0442 45% \u0442\u043e\u0433\u043e, \u0447\u0442\u043e \u0440\u0435\u0430\u043b\u044c\u043d\u043e \u0445\u043e\u0442\u0435\u043b \u0443\u0432\u0438\u0434\u0435\u0442\u044c \u043f\u043e\u043b\u044c\u0437\u043e\u0432\u0430\u0442\u0435\u043b\u044c, \u0438\u0437 \u0440\u0435\u0430\u043b\u044c\u043d\u043e \u043f\u0440\u043e\u0441\u043c\u043e\u0442\u0440\u0435\u043d\u043d\u044b\u0445 \u0440\u0435\u043a\u043e\u043c\u0435\u043d\u0434\u043e\u0432\u0430\u043d\u043d\u044b\u0435 \u043f\u043e\u0441\u0442\u044b \u0441\u043e\u0441\u0442\u0430\u0432\u043b\u044f\u044e\u0442 35%. \u041a\u0430\u043a \u044d\u0442\u043e \u043c\u043e\u0436\u043d\u043e \u0443\u043b\u0443\u0447\u0448\u0438\u0442\u044c?"
     ]
    },
    {
     "cell_type": "markdown",
     "metadata": {},
     "source": [
      "### \u0410\u043d\u0430\u043b\u0438\u0437\u0438\u0440\u043e\u0432\u0430\u0442\u044c \u043a\u043e\u043d\u0442\u0435\u043d\u0442\n",
      "1. \u0418\u0441\u043f\u043e\u043b\u044c\u0437\u043e\u0432\u0430\u0442\u044c \u0440\u0435\u043a\u043e\u043c\u0435\u043d\u0434\u0430\u0446\u0438\u0438 \u043d\u0430 \u043e\u0441\u043d\u043e\u0432\u0435 \u0442\u0435\u043a\u0441\u0442\u0430 \u043f\u043e\u0441\u0442\u0430\n",
      "2. \u0418\u0441\u043f\u043e\u043b\u044c\u0437\u043e\u0432\u0430\u0442\u044c \u0441\u0432\u044f\u0437\u044c \u0430\u0432\u0442\u043e\u0440\u0430 \u0441\u0442\u0430\u0442\u044c\u0438 \u0438 \u043f\u043e\u043b\u044c\u0437\u043e\u0432\u0430\u0442\u0435\u043b\u044f\n",
      "\n",
      "### \u041c\u0435\u043d\u044f\u0442\u044c \u0440\u0430\u0437\u0440\u0435\u0436\u0435\u043d\u043d\u043e\u0441\u0442\u044c \u043c\u0430\u0442\u0440\u0438\u0446\u044b\n",
      "1. \u0418\u0441\u043f\u043e\u043b\u044c\u0437\u043e\u0432\u0430\u0442\u044c \u0432\u0440\u0435\u043c\u044f \u0432\u043e\u0443\u0442\u0430\n",
      "2. \u0418\u0441\u043f\u043e\u043b\u044c\u0437\u043e\u0432\u0430\u0442\u044c \u043f\u0440\u043e\u0441\u043c\u043e\u0442\u0440\u044b \u043f\u043e\u0441\u0442\u043e\u0432 \u0432\u043c\u0435\u0441\u0442\u043e \u043b\u0430\u0439\u043a\u043e\u0432\n",
      "3. \u0423\u0431\u0440\u0430\u0442\u044c \u043d\u0435\u0430\u043a\u0442\u0438\u0432\u043d\u044b\u0445 \u043f\u043e\u043b\u044c\u0437\u043e\u0432\u0430\u0442\u0435\u043b\u0435\u0439/\u043d\u0435\u043f\u043e\u043f\u0443\u043b\u044f\u0440\u043d\u044b\u0435 \u043f\u043e\u0441\u0442\u044b \u0438\u0437 \u0432\u044b\u0431\u043e\u0440\u043a\u0438\n",
      "4. \u0418\u0441\u043f\u043e\u043b\u044c\u0437\u043e\u0432\u0430\u0442\u044c \u043a\u043e\u043c\u043c\u0435\u043d\u0442\u044b\n",
      "5. \u0418\u0441\u043f\u043e\u043b\u044c\u0437\u043e\u0432\u0430\u0442\u044c \u0440\u0435\u043f\u043e\u0441\u0442\u044b"
     ]
    },
    {
     "cell_type": "markdown",
     "metadata": {},
     "source": [
      "\u0414\u0435\u043c\u043e \u0444\u0443\u043d\u043a\u0446\u0438\u044f - \u043e\u0431\u0443\u0447\u0430\u0435\u043c \u043c\u043e\u0434\u0435\u043b\u044c \u0441 \u043f\u0430\u0440\u0430\u043c\u0435\u0442\u0440\u0430\u043c\u0438 \u043d\u0430 \u043e\u0431\u0443\u0447\u0430\u044e\u0449\u0435\u0439 \u0432\u044b\u0431\u043e\u0440\u043a\u0435, \u043f\u043e\u043b\u0443\u0447\u0430\u0435\u043c \u0435\u0435 \u0442\u043e\u0447\u043d\u043e\u0441\u0442\u044c \u0438 \u043f\u043e\u043b\u043d\u043e\u0442\u0443 \u043d\u0430 \u0442\u0435\u0441\u0442\u043e\u0432\u043e\u0439 \u0432\u044b\u0431\u043e\u0440\u043a\u0435, \u0434\u043b\u044f \u0441\u043b\u0443\u0447\u0430\u0439\u043d\u044b\u0445 \u043f\u043e\u043b\u044c\u0437\u043e\u0432\u0430\u0442\u0435\u043b\u0435\u0439 \u043f\u043e\u043b\u0443\u0447\u0430\u0435\u043c \u0442\u0435\u043a\u0441\u0442 \u0441\u043e\u0432\u043f\u0430\u0432\u0448\u0438\u0445 \u043f\u043e\u0441\u0442\u043e\u0432, \u0442\u0435\u043a\u0441\u0442 \u043d\u0435\u0441\u043e\u0432\u043f\u0430\u0432\u0448\u0438\u0445 \u043f\u043e\u0441\u0442\u043e\u0432 \u0438 \u043d\u0435\u0441\u043a\u043e\u043b\u044c\u043a\u043e \u0434\u0440\u0443\u0433\u0438\u0445 \u043f\u043e\u0441\u0442\u043e\u0432, \u043a\u043e\u0442\u043e\u0440\u044b\u0435 \u043f\u043e\u0441\u043c\u043e\u0442\u0440\u0435\u043b \u043f\u043e\u043b\u044c\u0437\u043e\u0432\u0430\u0442\u0435\u043b\u044c."
     ]
    },
    {
     "cell_type": "code",
     "collapsed": false,
     "input": [
      "dataset.head()"
     ],
     "language": "python",
     "metadata": {},
     "outputs": [
      {
       "html": [
        "<div style=\"max-width:1500px;overflow:auto;\">\n",
        "<style>\n",
        "    .dataframe thead tr:only-child th {\n",
        "        text-align: right;\n",
        "    }\n",
        "\n",
        "    .dataframe thead th {\n",
        "        text-align: left;\n",
        "    }\n",
        "\n",
        "    .dataframe tbody tr th {\n",
        "        vertical-align: top;\n",
        "    }\n",
        "</style>\n",
        "<table border=\"1\" class=\"dataframe\">\n",
        "  <thead>\n",
        "    <tr style=\"text-align: right;\">\n",
        "      <th></th>\n",
        "      <th>index</th>\n",
        "      <th>Unnamed: 0</th>\n",
        "      <th>user_id</th>\n",
        "      <th>post_permlink</th>\n",
        "      <th>like</th>\n",
        "      <th>post_id</th>\n",
        "    </tr>\n",
        "  </thead>\n",
        "  <tbody>\n",
        "    <tr>\n",
        "      <th>0</th>\n",
        "      <td>535715</td>\n",
        "      <td>535715</td>\n",
        "      <td>56827.0</td>\n",
        "      <td>http://golos.io//ru--idunavzlyot/@vp-liganovi4...</td>\n",
        "      <td>False</td>\n",
        "      <td>0</td>\n",
        "    </tr>\n",
        "    <tr>\n",
        "      <th>1</th>\n",
        "      <td>496723</td>\n",
        "      <td>496723</td>\n",
        "      <td>28467.0</td>\n",
        "      <td>http://golos.io//ru--idemnarybalku/@zhasmin/47...</td>\n",
        "      <td>False</td>\n",
        "      <td>1</td>\n",
        "    </tr>\n",
        "    <tr>\n",
        "      <th>2</th>\n",
        "      <td>476802</td>\n",
        "      <td>476802</td>\n",
        "      <td>22612.0</td>\n",
        "      <td>http://golos.io//ru--apvot50-50/@amalinavia/po...</td>\n",
        "      <td>False</td>\n",
        "      <td>2</td>\n",
        "    </tr>\n",
        "    <tr>\n",
        "      <th>3</th>\n",
        "      <td>392349</td>\n",
        "      <td>392349</td>\n",
        "      <td>6158.0</td>\n",
        "      <td>http://golos.io//ru--obratnaya-svyazx/@azarovs...</td>\n",
        "      <td>False</td>\n",
        "      <td>3</td>\n",
        "    </tr>\n",
        "    <tr>\n",
        "      <th>4</th>\n",
        "      <td>447491</td>\n",
        "      <td>447491</td>\n",
        "      <td>68479.0</td>\n",
        "      <td>http://golos.io//ru--lotereya/@golos.loto/5x36...</td>\n",
        "      <td>False</td>\n",
        "      <td>4</td>\n",
        "    </tr>\n",
        "  </tbody>\n",
        "</table>\n",
        "</div>"
       ],
       "metadata": {},
       "output_type": "pyout",
       "prompt_number": 16,
       "text": [
        "    index  Unnamed: 0  user_id  \\\n",
        "0  535715      535715  56827.0   \n",
        "1  496723      496723  28467.0   \n",
        "2  476802      476802  22612.0   \n",
        "3  392349      392349   6158.0   \n",
        "4  447491      447491  68479.0   \n",
        "\n",
        "                                       post_permlink   like  post_id  \n",
        "0  http://golos.io//ru--idunavzlyot/@vp-liganovi4...  False        0  \n",
        "1  http://golos.io//ru--idemnarybalku/@zhasmin/47...  False        1  \n",
        "2  http://golos.io//ru--apvot50-50/@amalinavia/po...  False        2  \n",
        "3  http://golos.io//ru--obratnaya-svyazx/@azarovs...  False        3  \n",
        "4  http://golos.io//ru--lotereya/@golos.loto/5x36...  False        4  "
       ]
      }
     ],
     "prompt_number": 16
    },
    {
     "cell_type": "code",
     "collapsed": false,
     "input": [
      "dataset[~dataset[\"like\"]][\"user_id\"].unique()"
     ],
     "language": "python",
     "metadata": {},
     "outputs": [
      {
       "metadata": {},
       "output_type": "pyout",
       "prompt_number": 17,
       "text": [
        "array([ 56827.,  28467.,  22612., ...,  53255.,   9047.,  52482.])"
       ]
      }
     ],
     "prompt_number": 17
    },
    {
     "cell_type": "code",
     "collapsed": false,
     "input": [
      "user_id = 0\n",
      "for user in dataset[\"user_id\"].unique():\n",
      "    user_id = uid_to_idx[user]\n",
      "    likes_count = dataset[dataset[\"like\"] & (dataset[\"user_id\"] == float(user))].shape[0] <= 20\n",
      "    dislikes_count = dataset[(~dataset[\"like\"]) & (dataset[\"user_id\"] == float(user))].shape[0] > 100\n",
      "    if (likes_count & dislikes_count):\n",
      "        break;"
     ],
     "language": "python",
     "metadata": {},
     "outputs": [],
     "prompt_number": 18
    },
    {
     "cell_type": "code",
     "collapsed": false,
     "input": [
      "user_id"
     ],
     "language": "python",
     "metadata": {},
     "outputs": [
      {
       "metadata": {},
       "output_type": "pyout",
       "prompt_number": 19,
       "text": [
        "7"
       ]
      }
     ],
     "prompt_number": 19
    },
    {
     "cell_type": "code",
     "collapsed": false,
     "input": [
      "from sklearn.model_selection import train_test_split\n",
      "\n",
      "idx_to_uid = {v: k for k, v in uid_to_idx.items()}\n",
      "idx_to_mid = {v: k for k, v in mid_to_idx.items()}\n",
      "posts = pd.read_csv(\"./posts.csv\").set_index(\"permlink\")\n",
      "\n",
      "# train, test = train_test_split(dataset, test_size=0.3)\n",
      "\n",
      "# train_matrix = create_matrix(dataset, train.index).T\n",
      "# mask = (1 - train_matrix.T.toarray())\n",
      "# test_matrix = sparse.csr_matrix(create_matrix(dataset, dataset.index).T * mask)\n",
      "dataset_matrix = create_matrix(dataset, dataset.index).T"
     ],
     "language": "python",
     "metadata": {},
     "outputs": [],
     "prompt_number": 20
    },
    {
     "cell_type": "code",
     "collapsed": false,
     "input": [
      "model = implicit.als.AlternatingLeastSquares(factors=300, regularization=3.8)\n",
      "# model.fit(train_matrix)\n",
      "model.fit(dataset_matrix)"
     ],
     "language": "python",
     "metadata": {},
     "outputs": [
      {
       "output_type": "stream",
       "stream": "stderr",
       "text": [
        "WARNING:root:OpenBLAS detected. Its highly recommend to set the environment variable 'export OPENBLAS_NUM_THREADS=1' to disable its internal multithreading\n"
       ]
      }
     ],
     "prompt_number": 21
    },
    {
     "cell_type": "code",
     "collapsed": false,
     "input": [
      "print(\"Real\")\n",
      "for post in dataset[dataset[\"like\"] & (dataset[\"user_id\"] == idx_to_uid[user_id])][\"post_permlink\"]:\n",
      "    print(post)\n",
      "    print(\"====================================\")\n",
      "\n",
      "recommendations = model.recommend(user_id, dataset_matrix, N=dataset.shape[0])\n",
      "current_size = (dataset[dataset[\"like\"] & (dataset[\"user_id\"] == idx_to_uid[user_id])].shape[0] + 30)\n",
      "\n",
      "print(\"Recommended, unseen\")\n",
      "for post, rating in recommendations[0:current_size + 10]:\n",
      "    if dataset[(dataset[\"user_id\"] == idx_to_uid[user_id]) & (dataset[\"post_permlink\"] == idx_to_mid[post])].shape[0] == 0:\n",
      "        print(idx_to_mid[post])\n",
      "        print(rating)\n",
      "        print(\"====================================\")\n",
      "        \n",
      "print(\"Scum\")\n",
      "for post, rating in recommendations[-10:]:\n",
      "    print(idx_to_mid[post])\n",
      "    print(rating)\n",
      "    print(\"====================================\")"
     ],
     "language": "python",
     "metadata": {},
     "outputs": [
      {
       "output_type": "stream",
       "stream": "stdout",
       "text": [
        "Real\n",
        "http://golos.io/@jupiter.zeus/bmchain-v-skorom-vremeni-bmt-token-na-birzhe-hitbtc\n",
        "====================================\n",
        "http://golos.io/@ili/putin-o-kriptovalyutakh\n",
        "====================================\n",
        "http://golos.io/@abloud/robototekhnika-nuzhna-li-strategiya-roboty-v-medicine-promyshlennosti-selskom-khozyaistve-torgovle-i-drugie-robotemy\n",
        "====================================\n",
        "http://golos.io/@vp-photo.pro/mikhail-krylov-za-kulisami-nyu\n",
        "====================================\n",
        "http://golos.io/@naminutku/uroven-blagosostoyaniya-avtorov-golosa-sentyabr\n",
        "====================================\n",
        "http://golos.io/@t3ran13/06-10-2017-12-10-2017-luchshee-za-nedelyu-ili-dlya-tekh-kto-propustil-samoe-interesnoe-na-osnove-reputacii-po-tegam\n",
        "====================================\n",
        "http://golos.io/@siberianshamen/pusg-ili-esli-komanda-ne-khochet-50-50\n",
        "====================================\n",
        "Recommended, unseen"
       ]
      },
      {
       "output_type": "stream",
       "stream": "stdout",
       "text": [
        "\n",
        "http://golos.io//vox-populi/@vp-svoj-dom/kak-sokhranit-chesnok-na-dolgii-srok\n",
        "11.803357513\n",
        "====================================\n",
        "http://golos.io//ru--kusochkirealxnosti/@deliriumtech/kusochki-realnosti-fotokonkurs\n",
        "9.72287903895\n",
        "====================================\n",
        "http://golos.io//thevisualtimes/@visualtimes/the-visual-times-ili-pervyi-decentralizovannyi-zhurnal-na-blokcheine-golos\n",
        "6.95993796335\n",
        "====================================\n",
        "http://golos.io//ru--akademiya/@tarimta/borba-s-psevdonaukoi-pravda-i-lozh-o-magicheskikh-obemakh\n",
        "5.10744268681\n",
        "====================================\n",
        "http://golos.io//ru--mir-kino/@vp-mir-kino/top-5-luchshikh-koreiskikh-doram\n",
        "4.97410082786\n",
        "====================================\n",
        "http://golos.io//ru--temanedeli/@bammbuss/forrest-gamp-ili-ivan-durak-po-amerikanski-tema-nedeli"
       ]
      },
      {
       "output_type": "stream",
       "stream": "stdout",
       "text": [
        "\n",
        "4.45436201687\n",
        "====================================\n",
        "http://golos.io//ru--blokcheijn/@blockchained/zashitite-sebya-ot-gryadushei-repressii-kriptovalyut-michael-taggart\n",
        "3.53392298594\n",
        "====================================\n",
        "http://golos.io//ru--vserekizdesx/@mirgais/estafeta-vse-reki-zdes-v-moskve-est-ne-tolko-moskva\n",
        "2.77337157067\n",
        "====================================\n",
        "http://golos.io//ru--apvot50-50/@now/kak-rasschityvaetsya-sila-s-kotoroi-golosuesh-za-post-chto-takoe-rshares-1-25x-50-50\n",
        "2.29293982736\n",
        "====================================\n",
        "http://golos.io//ru--blokcheijn/@snooze/pokupo-golos-io-sila-golosa-chast-2\n",
        "2.23987446969\n",
        "====================================\n",
        "http://golos.io//ru--nizhneebelxe/@buttersly/3ugirp-konkurs-foto-v-nizhnem-bele-i-nyu"
       ]
      },
      {
       "output_type": "stream",
       "stream": "stdout",
       "text": [
        "\n",
        "1.78882848242\n",
        "====================================\n",
        "http://golos.io//ru--fotogolosishche/@idestus/dlya-fotogolosishe-24-listya-zheltye-nad-gorodom-kruzhatsya\n",
        "1.76293583336\n",
        "====================================\n",
        "http://golos.io//gfactor/@kertar/g-factor-pro-skepticizm-so-skandalom\n",
        "1.59101551059\n",
        "====================================\n",
        "http://golos.io//ru--v/@vispasian/na-ili-v-ukraine-50-50\n",
        "1.56762168716\n",
        "====================================\n",
        "http://golos.io/@anela/fotogolosishe-vne-konkursa\n",
        "1.49170144246\n",
        "====================================\n",
        "http://golos.io//ru--golos/@svinsent/drevnerimskie-budni-svinni\n",
        "1.42473476366\n",
        "====================================\n",
        "http://golos.io//ru--istoriya/@tata-ovsyanik/istoriya-v-otkrytkakh-v-preddverii-revolyucii"
       ]
      },
      {
       "output_type": "stream",
       "stream": "stdout",
       "text": [
        "\n",
        "1.37020677249\n",
        "====================================\n",
        "http://golos.io//ru--zhivotnyie/@lika0812/moi-lokhmatyi-pomoshnik-teper-posty-na-golose-pishem-vmeste\n",
        "1.35810730138\n",
        "====================================\n",
        "http://golos.io//ru--russkoezarubezhxe/@vp-zarubezhje/amerikanskie-priklyucheniya-dvoryanki-verochki-glava-3\n",
        "1.26179510789\n",
        "====================================\n",
        "http://golos.io//ru--konkurspaganelya/@cergey-p/chto-mebya-voskhishaet-v-okruzhayushem-mire-pishevarenie-korov\n",
        "1.23601497892\n",
        "====================================\n",
        "http://golos.io//ru--apvot50-50/@bot50-50/evreiskii-kit-50-50\n",
        "1.15101948599\n",
        "====================================\n",
        "http://golos.io//vox-populi/@mirta/o-sozdanii-novogo-soobshestva-na-golose\n",
        "1.14021383951\n",
        "====================================\n",
        "http://golos.io//cl-psychology/@chaos.legion/lxxxv-sushestvuet-li-avada-kedavra"
       ]
      },
      {
       "output_type": "stream",
       "stream": "stdout",
       "text": [
        "\n",
        "1.13827951811\n",
        "====================================\n",
        "http://golos.io//ru--apvot50-50/@bammbuss/50-50-o-nevedomoi-sile-zhenskoi-lyubvi\n",
        "1.09998386436\n",
        "====================================\n",
        "http://golos.io//ru--konkurs/@bag/ugadai-chto-za-film-ili-serial-na-foto-68-pobeditel-67\n",
        "1.08895780902\n",
        "====================================\n",
        "http://golos.io//ru--fotografiya/@litrbooh/posadka-na-zakate\n",
        "1.07031420377\n",
        "====================================\n",
        "http://golos.io//ru--apvot50-50/@bammbuss/50-50-ekonomika-voiny-voennye-i-ekonomicheskie-obosnovaniya-lend-liza\n",
        "0.920722288289\n",
        "====================================\n",
        "http://golos.io//ru--politika/@antonkostroma/tonkosti-i-tolstosti-kancelyarii\n",
        "0.884004178041\n",
        "====================================\n",
        "http://golos.io//ru--kriptopirozhki/@antonkostroma/kriptopirozhok-pro-golos"
       ]
      },
      {
       "output_type": "stream",
       "stream": "stdout",
       "text": [
        "\n",
        "0.870205347207\n",
        "====================================\n",
        "http://golos.io/@tarimta/zagadki-zhaka-paganelya-zagadka-17-ugadai-kto-na-foto\n",
        "0.829313563853\n",
        "====================================\n",
        "http://golos.io//ru--golos/@svinsent/narod-chokak-poplyukhatsya-v-luzhe\n",
        "0.778137153558\n",
        "====================================\n",
        "http://golos.io//ru--apvot50-50/@alternativamira/beshenaya-kilka-novye-vyplaty\n",
        "0.766793421935\n",
        "====================================\n",
        "http://golos.io//ru--apvot50-50/@retoldname/top-vyvoda-na-birzhu-tokenov-gbg-s-privyazkoi-k-vvodu-golos-50-50\n",
        "0.749910445444\n",
        "====================================\n",
        "http://golos.io//ru--akademiya/@anima/akademiya-kurs-donorstvo-organov-modul-1-chast-2"
       ]
      },
      {
       "output_type": "stream",
       "stream": "stdout",
       "text": [
        "\n",
        "0.728448352986\n",
        "====================================\n",
        "http://golos.io//ru--apvot50-50/@siberianshamen/ty-pomnish-kak-vsyo-nachinalos-50-50\n",
        "0.726631160396\n",
        "====================================\n",
        "http://golos.io//ru--kriptopirozhki/@marfa/lepim-kriptopirozhki-18\n",
        "0.697863639131\n",
        "====================================\n",
        "http://golos.io//ru--fotografiya/@vasyl73/zheltoe-teploe-osennee-nastroenie-50-50\n",
        "0.6633670387\n",
        "====================================\n",
        "http://golos.io//ru--apvot50-50/@siberianshamen/napominanie-po-50-50\n",
        "0.646542822909\n",
        "====================================\n",
        "http://golos.io/@cergey-p/atlas-obnozhki-foto-30-leto-fleshmob\n",
        "0.640261144694\n",
        "====================================\n",
        "http://golos.io//cpeda/@space.creator/stala-dostupnoi-registraciya-v-cpeda-space-uchastnikov-s-akkauntami-v-golose"
       ]
      },
      {
       "output_type": "stream",
       "stream": "stdout",
       "text": [
        "\n",
        "0.59573781313\n",
        "====================================\n",
        "http://golos.io//psk/@nikonov/brak-2-0-ili-o-tom-kak-plokho-byt-khanzhoi-strausom\n",
        "0.591997542844\n",
        "====================================\n",
        "http://golos.io//ru--zhiznx/@sept/menya-segodnya-poklevali-no-sinica-v-ruke-byla\n",
        "0.575096899068\n",
        "====================================\n",
        "http://golos.io//@bukmkr/4delwt-privetstvie/\n",
        "0.56914841598\n",
        "====================================\n",
        "http://golos.io//ru--novosti/@mirta/pobeda-vadima-manukyana\n",
        "0.563708528082\n",
        "====================================\n",
        "http://golos.io//psk/@tom123/pochemu-nam-ne-nravitsya-zvuk-zapisi-nashego-golosa\n",
        "0.558848268515\n",
        "====================================\n",
        "http://golos.io/@alisaroma/v-prodolzhenii-temy-artbuza-kak-by-eto-uvideli-velikie"
       ]
      },
      {
       "output_type": "stream",
       "stream": "stdout",
       "text": [
        "\n",
        "0.547752610482\n",
        "====================================\n",
        "Scum\n",
        "http://golos.io/@tunguska/lileinaya-treshalka-etot-krasivyi-zhuk-est-moi-lilii\n",
        "-2.09768235884\n",
        "====================================\n",
        "http://golos.io//ru--zhiznx/@snooze/o-ploshadke-golos-io-moe-mnenie\n",
        "-2.41983505969\n",
        "====================================\n",
        "http://golos.io//ru--kriptopirozhki/@marfa/5r2bjp-lepim-kriptopirozhki\n",
        "-2.42442947056\n",
        "====================================\n",
        "http://golos.io//ru--mysli/@zir0chka/shiva-uvazhenie-i-mnogozadachnost\n",
        "-3.02924015219\n",
        "====================================\n",
        "http://golos.io//ru--golos/@sept/usloviya-uchastiya-v-programme-podderzhka-avtorskogo-unikalnogo-kontenta-s-16-10-2017-s-tegom-u75-instrukciya\n",
        "-3.07242137595\n",
        "====================================\n",
        "http://golos.io/@svinsent/princzessa-kandi-princzessa-gita-a-takzhe-drugie-czeijlonskie-chai-kotorye-ya-tak-i-ne-poproboval\n",
        "-3.16905472727\n",
        "====================================\n",
        "http://golos.io//ru--golos/@arcange/about-coinbank-and-its-dubious-behavior\n",
        "-3.46105870941\n",
        "====================================\n",
        "http://golos.io//golosfest-sponsoring/@coinbank/need-extra-money-for-golosfest-write-a-comment-under-this-post-and-receive-an-upvote\n",
        "-4.00899167747\n",
        "====================================\n",
        "http://golos.io//ru--risuemvmeste/@amalinavia/risuem-vmeste-etap-5-zhivotnye-i-pticy-kolibri\n",
        "-4.20444870714\n",
        "====================================\n",
        "http://golos.io//ru--rakushki/@zhasmin/vospominaniya-o-detstve-konkurs-ot-valentinka-rakushki-podarki-morya\n",
        "-4.85003835057\n",
        "====================================\n"
       ]
      }
     ],
     "prompt_number": 22
    },
    {
     "cell_type": "code",
     "collapsed": false,
     "input": [],
     "language": "python",
     "metadata": {},
     "outputs": []
    }
   ],
   "metadata": {}
  }
 ]
}