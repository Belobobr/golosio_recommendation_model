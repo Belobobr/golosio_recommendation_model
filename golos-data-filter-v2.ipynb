{
 "cells": [
  {
   "cell_type": "code",
   "execution_count": 29,
   "metadata": {},
   "outputs": [],
   "source": [
    "import os\n",
    "import sys\n",
    "import codecs\n",
    "import collections"
   ]
  },
  {
   "cell_type": "code",
   "execution_count": 30,
   "metadata": {},
   "outputs": [],
   "source": [
    "import nltk\n",
    "from lxml import etree\n",
    "from lxml.html.clean import Cleaner\n",
    "from pymystem3 import Mystem"
   ]
  },
  {
   "cell_type": "code",
   "execution_count": 31,
   "metadata": {},
   "outputs": [],
   "source": [
    "file = codecs.open('datasets/golos_io_topics.xml', encoding='utf-8')\n",
    "data = file.read();"
   ]
  },
  {
   "cell_type": "code",
   "execution_count": 32,
   "metadata": {},
   "outputs": [],
   "source": [
    "cleaner = Cleaner()\n",
    "cleaner.allow_tags = ['item', 'field']\n",
    "cleaner.remove_unknown_tags = False\n",
    "clean_data = cleaner.clean_html(data)"
   ]
  },
  {
   "cell_type": "code",
   "execution_count": 33,
   "metadata": {},
   "outputs": [],
   "source": [
    "fout = codecs.open('datasets/golos_io_topics-res.xml', encoding='utf-8', mode='w+')\n",
    "fout.write(clean_data)\n",
    "fout.close()"
   ]
  },
  {
   "cell_type": "code",
   "execution_count": 34,
   "metadata": {},
   "outputs": [],
   "source": [
    "# формируем список стоп-слов и добавляем свои\n",
    "from nltk.corpus import stopwords\n",
    "stopwords_list = stopwords.words('russian')\n",
    "more_stopwords = '..., без, более, бы, был, была, были, было, быть, вам, вас, ведь, весь, вдоль, вместо, вне, вниз, внизу, внутри, во, вокруг, вот, все, всегда, всего, всех, вы, где, да, давай, давать, даже, для, до, достаточно, его, ее, её, если, есть, ещё, же, за, здесь, из, из-за, или, им, иметь, их, как, как-то, кто, когда, кроме, кто, ли, либо, мне, может, мои, мой, мы, на, навсегда, над, надо, наш, не, него, неё, нет, ни, них, но, ну, об, однако, он, она, они, оно, от, отчего, очень, по, под, после, потому, потому что, почти, при, про, снова, со, так, также, такие, такой, там, те, тем, то, того, тоже, той, только, том, тут, туда, ты, уже, хотя, чего, чего-то, чей, чем, что, чтобы, чьё, чья, эта, эти, это'\n",
    "more_stopwords_list = more_stopwords.split(\", \")\n",
    "stopwords_list += more_stopwords_list"
   ]
  },
  {
   "cell_type": "code",
   "execution_count": 35,
   "metadata": {},
   "outputs": [],
   "source": [
    "tree = etree.fromstring(clean_data)\n",
    "items = tree.xpath(\"//field[@name='body']\")"
   ]
  },
  {
   "cell_type": "code",
   "execution_count": 117,
   "metadata": {},
   "outputs": [],
   "source": [
    "seq_list = [item.text if item.text is not None else \" \" for item in items]"
   ]
  },
  {
   "cell_type": "code",
   "execution_count": 118,
   "metadata": {},
   "outputs": [],
   "source": [
    "# delete all URLs in text\n",
    "import re\n",
    "url_pattern = re.compile(r'(http|ftp|https)://([\\w_-]+(?:(?:\\.[\\w_-]+)+))([\\w.,@?^=%&:/~+#-]*[\\w@?^=%&/~+#-])?')\n",
    "\n",
    "seq_list = [url_pattern.sub(\"\", item) for item in seq_list]"
   ]
  },
  {
   "cell_type": "code",
   "execution_count": 119,
   "metadata": {},
   "outputs": [],
   "source": [
    "fout = codecs.open('datasets/golos_io_topics-res2.txt', encoding='utf-8', mode='w+')\n",
    "for item in seq_list:\n",
    "    print(item, file=fout, sep=\"\\n\")\n",
    "fout.close()"
   ]
  },
  {
   "cell_type": "code",
   "execution_count": 120,
   "metadata": {},
   "outputs": [],
   "source": [
    "mystem = Mystem()\n",
    "def lemmatize_words(word_list):\n",
    "    processed_word_list = []\n",
    "    for word in word_list:\n",
    "        word = mystem.lemmatize(word)[0]\n",
    "        processed_word_list.append(word)\n",
    "    return processed_word_list    "
   ]
  },
  {
   "cell_type": "code",
   "execution_count": 121,
   "metadata": {},
   "outputs": [],
   "source": [
    "def remove_stopwords(word_list):\n",
    "        processed_word_list = []      \n",
    "        for word in word_list:\n",
    "            word = word.lower() # in case they arenet all lower cased\n",
    "            if word not in stopwords_list and len(word) > 2:\n",
    "                processed_word_list.append(word)\n",
    "        return processed_word_list    "
   ]
  },
  {
   "cell_type": "code",
   "execution_count": 122,
   "metadata": {},
   "outputs": [],
   "source": [
    "test_tokenized = nltk.word_tokenize(seq_list[1100])\n",
    "test_clean = remove_stopwords(test_tokenized)"
   ]
  },
  {
   "cell_type": "code",
   "execution_count": 123,
   "metadata": {},
   "outputs": [
    {
     "name": "stdout",
     "output_type": "stream",
     "text": [
      "['всем', 'привет', 'недавно', 'одна', 'девочка', 'звала', 'crp.center', 'освободилась', '1200', 'долларов', 'думаю', 'эххх', 'вложила', 'криптовалюту', 'верила', 'проект', 'знаю', 'почему', 'слава', 'богу', 'интуиция', 'подвела', 'говорит', '1000', 'долларов', 'сняла', '000', 'слава', 'богу', 'представьте', 'сколько', 'людей', 'потеряло', 'печально', 'видео', 'обращение', 'виталий', 'говорит', 'будут', 'работать', 'обычно', 'сказки', 'вкладывайте', 'всем', 'мира', 'стабильного', 'дохода']\n"
     ]
    }
   ],
   "source": [
    "print(test_clean)"
   ]
  },
  {
   "cell_type": "code",
   "execution_count": 124,
   "metadata": {},
   "outputs": [],
   "source": [
    "def preprocess_doc(doc_text):\n",
    "    words_list = remove_stopwords(nltk.word_tokenize(doc_text))\n",
    "# без леммизации\n",
    "\n",
    "    return \" \".join(words_list)"
   ]
  },
  {
   "cell_type": "code",
   "execution_count": 125,
   "metadata": {},
   "outputs": [],
   "source": [
    "def preprocess_lemma_doc(doc_text):\n",
    "    words_list = remove_stopwords(nltk.word_tokenize(doc_text))\n",
    "    lemmas_list = lemmatize_words(words_list)\n",
    "    lemmas_list = remove_stopwords(lemmas_list)\n",
    "    return \" \".join(lemmas_list)"
   ]
  },
  {
   "cell_type": "code",
   "execution_count": 126,
   "metadata": {},
   "outputs": [
    {
     "data": {
      "text/plain": [
       "'всем привет недавно одна девочка звала crp.center освободилась 1200 долларов думаю эххх вложила криптовалюту верила проект знаю почему слава богу интуиция подвела говорит 1000 долларов сняла 000 слава богу представьте сколько людей потеряло печально видео обращение виталий говорит будут работать обычно сказки вкладывайте всем мира стабильного дохода'"
      ]
     },
     "execution_count": 126,
     "metadata": {},
     "output_type": "execute_result"
    }
   ],
   "source": [
    "lemmas_doc = preprocess_doc(seq_list[1100])\n",
    "lemmas_doc"
   ]
  },
  {
   "cell_type": "code",
   "execution_count": 127,
   "metadata": {},
   "outputs": [
    {
     "data": {
      "text/plain": [
       "'привет недавно девочка звать crp освобождаться 1200 доллар думать эххх вкладывать криптовалюта верить проект знать почему слава бог интуиция подводить говорить 1000 доллар снимать 000 слава бог представлять сколько человек потерять печально видео обращение виталий говорить работать обычно сказка вкладывать мир стабильный доход'"
      ]
     },
     "execution_count": 127,
     "metadata": {},
     "output_type": "execute_result"
    }
   ],
   "source": [
    "lemmas_doc = preprocess_lemma_doc(seq_list[1100])\n",
    "lemmas_doc"
   ]
  },
  {
   "cell_type": "code",
   "execution_count": 128,
   "metadata": {},
   "outputs": [],
   "source": [
    "fout = codecs.open('datasets/golos_io_topics-res-lines.txt', encoding='utf-8', mode='w+')\n",
    "for item in seq_list:\n",
    "    if item is not None:\n",
    "        processed_doc = preprocess_doc(item)\n",
    "        print(processed_doc, file=fout, sep=\"\\n\")\n",
    "fout.close()"
   ]
  },
  {
   "cell_type": "code",
   "execution_count": 129,
   "metadata": {},
   "outputs": [],
   "source": [
    "fout = codecs.open('datasets/golos_io_topics-res-lemmas.txt', encoding='utf-8', mode='w+')\n",
    "for item in seq_list:\n",
    "    if item is not None:\n",
    "        processed_lemma_doc = preprocess_lemma_doc(item)\n",
    "        print(processed_lemma_doc, file=fout, sep=\"\\n\")\n",
    "fout.close()"
   ]
  },
  {
   "cell_type": "code",
   "execution_count": null,
   "metadata": {},
   "outputs": [],
   "source": []
  }
 ],
 "metadata": {
  "kernelspec": {
   "display_name": "Python 3",
   "language": "python",
   "name": "python3"
  },
  "language_info": {
   "codemirror_mode": {
    "name": "ipython",
    "version": 3
   },
   "file_extension": ".py",
   "mimetype": "text/x-python",
   "name": "python",
   "nbconvert_exporter": "python",
   "pygments_lexer": "ipython3",
   "version": "3.6.3"
  }
 },
 "nbformat": 4,
 "nbformat_minor": 1
}
