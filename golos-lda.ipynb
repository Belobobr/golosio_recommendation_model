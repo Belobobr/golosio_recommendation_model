{
 "cells": [
  {
   "cell_type": "code",
   "execution_count": 1,
   "metadata": {},
   "outputs": [
    {
     "name": "stderr",
     "output_type": "stream",
     "text": [
      "Using TensorFlow backend.\n"
     ]
    }
   ],
   "source": [
    "import codecs\n",
    "import logging, gensim, bz2\n",
    "logging.basicConfig(format='%(asctime)s : %(levelname)s : %(message)s', level=logging.INFO)\n",
    "file = codecs.open('datasets/golos_io_topics_last.txt', encoding='utf-8')\n",
    "data = file.read();\n",
    "documents = data.lower().split('\\n')\n"
   ]
  },
  {
   "cell_type": "code",
   "execution_count": 11,
   "metadata": {},
   "outputs": [],
   "source": [
    "texts = [[word for word in document.lower().split()]\n",
    "            for document in documents]"
   ]
  },
  {
   "cell_type": "code",
   "execution_count": 12,
   "metadata": {},
   "outputs": [],
   "source": [
    "# remove words that appear only once\n",
    "from collections import defaultdict\n",
    "frequency = defaultdict(int)\n",
    "for text in texts:\n",
    "    for token in text:\n",
    "        frequency[token] += 1\n",
    "        \n",
    "texts = [[token for token in text if frequency[token] > 1]\n",
    "         for text in texts]"
   ]
  },
  {
   "cell_type": "code",
   "execution_count": 14,
   "metadata": {},
   "outputs": [
    {
     "name": "stderr",
     "output_type": "stream",
     "text": [
      "2017-11-12 20:04:10,992 : INFO : adding document #0 to Dictionary(0 unique tokens: [])\n",
      "2017-11-12 20:04:12,556 : INFO : adding document #10000 to Dictionary(54507 unique tokens: ['все', 'добро', 'время', 'прошедший', 'тестовый']...)\n",
      "2017-11-12 20:04:14,184 : INFO : adding document #20000 to Dictionary(73209 unique tokens: ['все', 'добро', 'время', 'прошедший', 'тестовый']...)\n",
      "2017-11-12 20:04:15,995 : INFO : adding document #30000 to Dictionary(86683 unique tokens: ['все', 'добро', 'время', 'прошедший', 'тестовый']...)\n",
      "2017-11-12 20:04:17,042 : INFO : adding document #40000 to Dictionary(91726 unique tokens: ['все', 'добро', 'время', 'прошедший', 'тестовый']...)\n",
      "2017-11-12 20:04:17,938 : INFO : adding document #50000 to Dictionary(95533 unique tokens: ['все', 'добро', 'время', 'прошедший', 'тестовый']...)\n",
      "2017-11-12 20:04:18,681 : INFO : adding document #60000 to Dictionary(98094 unique tokens: ['все', 'добро', 'время', 'прошедший', 'тестовый']...)\n",
      "2017-11-12 20:04:19,597 : INFO : adding document #70000 to Dictionary(100205 unique tokens: ['все', 'добро', 'время', 'прошедший', 'тестовый']...)\n",
      "2017-11-12 20:04:20,138 : INFO : built Dictionary(101139 unique tokens: ['все', 'добро', 'время', 'прошедший', 'тестовый']...) from 78506 documents (total 7039955 corpus positions)\n",
      "2017-11-12 20:04:20,139 : INFO : saving Dictionary object under datasets/golos-corpora.dict, separately None\n",
      "2017-11-12 20:04:20,219 : INFO : saved datasets/golos-corpora.dict\n"
     ]
    }
   ],
   "source": [
    "from gensim import corpora\n",
    "dictionary = corpora.Dictionary(texts)\n",
    "dictionary.save('datasets/golos-corpora.dict')"
   ]
  },
  {
   "cell_type": "code",
   "execution_count": 15,
   "metadata": {},
   "outputs": [
    {
     "name": "stderr",
     "output_type": "stream",
     "text": [
      "2017-11-12 20:04:28,136 : INFO : storing corpus in Matrix Market format to datasets/golos-corpora_bow.mm\n",
      "2017-11-12 20:04:28,137 : INFO : saving sparse matrix to datasets/golos-corpora_bow.mm\n",
      "2017-11-12 20:04:28,138 : INFO : PROGRESS: saving document #0\n",
      "2017-11-12 20:04:28,294 : INFO : PROGRESS: saving document #1000\n",
      "2017-11-12 20:04:28,460 : INFO : PROGRESS: saving document #2000\n",
      "2017-11-12 20:04:28,605 : INFO : PROGRESS: saving document #3000\n",
      "2017-11-12 20:04:28,773 : INFO : PROGRESS: saving document #4000\n",
      "2017-11-12 20:04:28,942 : INFO : PROGRESS: saving document #5000\n",
      "2017-11-12 20:04:29,086 : INFO : PROGRESS: saving document #6000\n",
      "2017-11-12 20:04:29,255 : INFO : PROGRESS: saving document #7000\n",
      "2017-11-12 20:04:29,441 : INFO : PROGRESS: saving document #8000\n",
      "2017-11-12 20:04:29,637 : INFO : PROGRESS: saving document #9000\n",
      "2017-11-12 20:04:29,799 : INFO : PROGRESS: saving document #10000\n",
      "2017-11-12 20:04:29,989 : INFO : PROGRESS: saving document #11000\n",
      "2017-11-12 20:04:30,143 : INFO : PROGRESS: saving document #12000\n",
      "2017-11-12 20:04:30,313 : INFO : PROGRESS: saving document #13000\n",
      "2017-11-12 20:04:30,518 : INFO : PROGRESS: saving document #14000\n",
      "2017-11-12 20:04:30,708 : INFO : PROGRESS: saving document #15000\n",
      "2017-11-12 20:04:30,915 : INFO : PROGRESS: saving document #16000\n",
      "2017-11-12 20:04:31,085 : INFO : PROGRESS: saving document #17000\n",
      "2017-11-12 20:04:31,252 : INFO : PROGRESS: saving document #18000\n",
      "2017-11-12 20:04:31,429 : INFO : PROGRESS: saving document #19000\n",
      "2017-11-12 20:04:31,629 : INFO : PROGRESS: saving document #20000\n",
      "2017-11-12 20:04:31,794 : INFO : PROGRESS: saving document #21000\n",
      "2017-11-12 20:04:31,985 : INFO : PROGRESS: saving document #22000\n",
      "2017-11-12 20:04:32,158 : INFO : PROGRESS: saving document #23000\n",
      "2017-11-12 20:04:32,338 : INFO : PROGRESS: saving document #24000\n",
      "2017-11-12 20:04:32,541 : INFO : PROGRESS: saving document #25000\n",
      "2017-11-12 20:04:32,723 : INFO : PROGRESS: saving document #26000\n",
      "2017-11-12 20:04:32,934 : INFO : PROGRESS: saving document #27000\n",
      "2017-11-12 20:04:33,151 : INFO : PROGRESS: saving document #28000\n",
      "2017-11-12 20:04:33,359 : INFO : PROGRESS: saving document #29000\n",
      "2017-11-12 20:04:33,570 : INFO : PROGRESS: saving document #30000\n",
      "2017-11-12 20:04:33,736 : INFO : PROGRESS: saving document #31000\n",
      "2017-11-12 20:04:33,879 : INFO : PROGRESS: saving document #32000\n",
      "2017-11-12 20:04:34,012 : INFO : PROGRESS: saving document #33000\n",
      "2017-11-12 20:04:34,140 : INFO : PROGRESS: saving document #34000\n",
      "2017-11-12 20:04:34,256 : INFO : PROGRESS: saving document #35000\n",
      "2017-11-12 20:04:34,353 : INFO : PROGRESS: saving document #36000\n",
      "2017-11-12 20:04:34,504 : INFO : PROGRESS: saving document #37000\n",
      "2017-11-12 20:04:34,638 : INFO : PROGRESS: saving document #38000\n",
      "2017-11-12 20:04:34,741 : INFO : PROGRESS: saving document #39000\n",
      "2017-11-12 20:04:34,853 : INFO : PROGRESS: saving document #40000\n",
      "2017-11-12 20:04:35,002 : INFO : PROGRESS: saving document #41000\n",
      "2017-11-12 20:04:35,098 : INFO : PROGRESS: saving document #42000\n",
      "2017-11-12 20:04:35,203 : INFO : PROGRESS: saving document #43000\n",
      "2017-11-12 20:04:35,346 : INFO : PROGRESS: saving document #44000\n",
      "2017-11-12 20:04:35,429 : INFO : PROGRESS: saving document #45000\n",
      "2017-11-12 20:04:35,518 : INFO : PROGRESS: saving document #46000\n",
      "2017-11-12 20:04:35,639 : INFO : PROGRESS: saving document #47000\n",
      "2017-11-12 20:04:35,741 : INFO : PROGRESS: saving document #48000\n",
      "2017-11-12 20:04:35,828 : INFO : PROGRESS: saving document #49000\n",
      "2017-11-12 20:04:35,929 : INFO : PROGRESS: saving document #50000\n",
      "2017-11-12 20:04:36,024 : INFO : PROGRESS: saving document #51000\n",
      "2017-11-12 20:04:36,115 : INFO : PROGRESS: saving document #52000\n",
      "2017-11-12 20:04:36,192 : INFO : PROGRESS: saving document #53000\n",
      "2017-11-12 20:04:36,280 : INFO : PROGRESS: saving document #54000\n",
      "2017-11-12 20:04:36,356 : INFO : PROGRESS: saving document #55000\n",
      "2017-11-12 20:04:36,442 : INFO : PROGRESS: saving document #56000\n",
      "2017-11-12 20:04:36,529 : INFO : PROGRESS: saving document #57000\n",
      "2017-11-12 20:04:36,622 : INFO : PROGRESS: saving document #58000\n",
      "2017-11-12 20:04:36,706 : INFO : PROGRESS: saving document #59000\n",
      "2017-11-12 20:04:36,792 : INFO : PROGRESS: saving document #60000\n",
      "2017-11-12 20:04:36,875 : INFO : PROGRESS: saving document #61000\n",
      "2017-11-12 20:04:36,988 : INFO : PROGRESS: saving document #62000\n",
      "2017-11-12 20:04:37,084 : INFO : PROGRESS: saving document #63000\n",
      "2017-11-12 20:04:37,159 : INFO : PROGRESS: saving document #64000\n",
      "2017-11-12 20:04:37,256 : INFO : PROGRESS: saving document #65000\n",
      "2017-11-12 20:04:37,373 : INFO : PROGRESS: saving document #66000\n",
      "2017-11-12 20:04:37,456 : INFO : PROGRESS: saving document #67000\n",
      "2017-11-12 20:04:37,579 : INFO : PROGRESS: saving document #68000\n",
      "2017-11-12 20:04:37,659 : INFO : PROGRESS: saving document #69000\n",
      "2017-11-12 20:04:37,764 : INFO : PROGRESS: saving document #70000\n",
      "2017-11-12 20:04:37,834 : INFO : PROGRESS: saving document #71000\n",
      "2017-11-12 20:04:37,920 : INFO : PROGRESS: saving document #72000\n",
      "2017-11-12 20:04:38,004 : INFO : PROGRESS: saving document #73000\n",
      "2017-11-12 20:04:38,097 : INFO : PROGRESS: saving document #74000\n",
      "2017-11-12 20:04:38,168 : INFO : PROGRESS: saving document #75000\n",
      "2017-11-12 20:04:38,239 : INFO : PROGRESS: saving document #76000\n",
      "2017-11-12 20:04:38,324 : INFO : PROGRESS: saving document #77000\n",
      "2017-11-12 20:04:38,395 : INFO : PROGRESS: saving document #78000\n",
      "2017-11-12 20:04:38,443 : INFO : saved 78506x101139 matrix, density=0.063% (5028549/7940018334)\n",
      "2017-11-12 20:04:38,448 : INFO : saving MmCorpus index to datasets/golos-corpora_bow.mm.index\n"
     ]
    }
   ],
   "source": [
    "corpus = [dictionary.doc2bow(text) for text in texts]\n",
    "corpora.MmCorpus.serialize('datasets/golos-corpora_bow.mm', corpus)"
   ]
  },
  {
   "cell_type": "code",
   "execution_count": 16,
   "metadata": {},
   "outputs": [
    {
     "name": "stderr",
     "output_type": "stream",
     "text": [
      "2017-11-12 20:04:38,463 : INFO : collecting document frequencies\n",
      "2017-11-12 20:04:38,465 : INFO : PROGRESS: processing document #0\n",
      "2017-11-12 20:04:38,779 : INFO : PROGRESS: processing document #10000\n",
      "2017-11-12 20:04:39,024 : INFO : PROGRESS: processing document #20000\n",
      "2017-11-12 20:04:39,350 : INFO : PROGRESS: processing document #30000\n",
      "2017-11-12 20:04:39,597 : INFO : PROGRESS: processing document #40000\n",
      "2017-11-12 20:04:39,760 : INFO : PROGRESS: processing document #50000\n",
      "2017-11-12 20:04:39,890 : INFO : PROGRESS: processing document #60000\n",
      "2017-11-12 20:04:40,047 : INFO : PROGRESS: processing document #70000\n",
      "2017-11-12 20:04:40,161 : INFO : calculating IDF weights for 78506 documents and 101138 features (5028549 matrix non-zeros)\n",
      "2017-11-12 20:04:40,217 : INFO : saving TfidfModel object under datasets/golos-corpora.tfidf_model, separately None\n",
      "2017-11-12 20:04:40,297 : INFO : saved datasets/golos-corpora.tfidf_model\n"
     ]
    }
   ],
   "source": [
    "from gensim import models\n",
    "tfidf = models.TfidfModel(corpus, id2word=dictionary, normalize=True)\n",
    "tfidf.save('datasets/golos-corpora.tfidf_model')"
   ]
  },
  {
   "cell_type": "code",
   "execution_count": 17,
   "metadata": {},
   "outputs": [
    {
     "name": "stderr",
     "output_type": "stream",
     "text": [
      "2017-11-12 20:04:40,304 : INFO : storing corpus in Matrix Market format to datasets/golos-corpora_tfidf.mm\n",
      "2017-11-12 20:04:40,307 : INFO : saving sparse matrix to datasets/golos-corpora_tfidf.mm\n",
      "2017-11-12 20:04:40,308 : INFO : PROGRESS: saving document #0\n",
      "2017-11-12 20:04:40,675 : INFO : PROGRESS: saving document #1000\n",
      "2017-11-12 20:04:41,127 : INFO : PROGRESS: saving document #2000\n",
      "2017-11-12 20:04:41,452 : INFO : PROGRESS: saving document #3000\n",
      "2017-11-12 20:04:41,866 : INFO : PROGRESS: saving document #4000\n",
      "2017-11-12 20:04:42,223 : INFO : PROGRESS: saving document #5000\n",
      "2017-11-12 20:04:42,527 : INFO : PROGRESS: saving document #6000\n",
      "2017-11-12 20:04:42,994 : INFO : PROGRESS: saving document #7000\n",
      "2017-11-12 20:04:43,351 : INFO : PROGRESS: saving document #8000\n",
      "2017-11-12 20:04:43,712 : INFO : PROGRESS: saving document #9000\n",
      "2017-11-12 20:04:44,074 : INFO : PROGRESS: saving document #10000\n",
      "2017-11-12 20:04:44,471 : INFO : PROGRESS: saving document #11000\n",
      "2017-11-12 20:04:44,799 : INFO : PROGRESS: saving document #12000\n",
      "2017-11-12 20:04:45,124 : INFO : PROGRESS: saving document #13000\n",
      "2017-11-12 20:04:45,441 : INFO : PROGRESS: saving document #14000\n",
      "2017-11-12 20:04:45,853 : INFO : PROGRESS: saving document #15000\n",
      "2017-11-12 20:04:46,240 : INFO : PROGRESS: saving document #16000\n",
      "2017-11-12 20:04:46,576 : INFO : PROGRESS: saving document #17000\n",
      "2017-11-12 20:04:46,935 : INFO : PROGRESS: saving document #18000\n",
      "2017-11-12 20:04:47,284 : INFO : PROGRESS: saving document #19000\n",
      "2017-11-12 20:04:47,672 : INFO : PROGRESS: saving document #20000\n",
      "2017-11-12 20:04:48,120 : INFO : PROGRESS: saving document #21000\n",
      "2017-11-12 20:04:48,515 : INFO : PROGRESS: saving document #22000\n",
      "2017-11-12 20:04:48,894 : INFO : PROGRESS: saving document #23000\n",
      "2017-11-12 20:04:49,263 : INFO : PROGRESS: saving document #24000\n",
      "2017-11-12 20:04:49,678 : INFO : PROGRESS: saving document #25000\n",
      "2017-11-12 20:04:50,056 : INFO : PROGRESS: saving document #26000\n",
      "2017-11-12 20:04:50,494 : INFO : PROGRESS: saving document #27000\n",
      "2017-11-12 20:04:50,945 : INFO : PROGRESS: saving document #28000\n",
      "2017-11-12 20:04:51,519 : INFO : PROGRESS: saving document #29000\n",
      "2017-11-12 20:04:51,924 : INFO : PROGRESS: saving document #30000\n",
      "2017-11-12 20:04:52,268 : INFO : PROGRESS: saving document #31000\n",
      "2017-11-12 20:04:52,563 : INFO : PROGRESS: saving document #32000\n",
      "2017-11-12 20:04:52,829 : INFO : PROGRESS: saving document #33000\n",
      "2017-11-12 20:04:53,038 : INFO : PROGRESS: saving document #34000\n",
      "2017-11-12 20:04:53,344 : INFO : PROGRESS: saving document #35000\n",
      "2017-11-12 20:04:53,582 : INFO : PROGRESS: saving document #36000\n",
      "2017-11-12 20:04:53,808 : INFO : PROGRESS: saving document #37000\n",
      "2017-11-12 20:04:54,033 : INFO : PROGRESS: saving document #38000\n",
      "2017-11-12 20:04:54,270 : INFO : PROGRESS: saving document #39000\n",
      "2017-11-12 20:04:54,486 : INFO : PROGRESS: saving document #40000\n",
      "2017-11-12 20:04:54,773 : INFO : PROGRESS: saving document #41000\n",
      "2017-11-12 20:04:55,031 : INFO : PROGRESS: saving document #42000\n",
      "2017-11-12 20:04:55,236 : INFO : PROGRESS: saving document #43000\n",
      "2017-11-12 20:04:55,510 : INFO : PROGRESS: saving document #44000\n",
      "2017-11-12 20:04:55,681 : INFO : PROGRESS: saving document #45000\n",
      "2017-11-12 20:04:55,891 : INFO : PROGRESS: saving document #46000\n",
      "2017-11-12 20:04:56,142 : INFO : PROGRESS: saving document #47000\n",
      "2017-11-12 20:04:56,315 : INFO : PROGRESS: saving document #48000\n",
      "2017-11-12 20:04:56,483 : INFO : PROGRESS: saving document #49000\n",
      "2017-11-12 20:04:56,687 : INFO : PROGRESS: saving document #50000\n",
      "2017-11-12 20:04:56,875 : INFO : PROGRESS: saving document #51000\n",
      "2017-11-12 20:04:57,057 : INFO : PROGRESS: saving document #52000\n",
      "2017-11-12 20:04:57,218 : INFO : PROGRESS: saving document #53000\n",
      "2017-11-12 20:04:57,396 : INFO : PROGRESS: saving document #54000\n",
      "2017-11-12 20:04:57,560 : INFO : PROGRESS: saving document #55000\n",
      "2017-11-12 20:04:57,712 : INFO : PROGRESS: saving document #56000\n",
      "2017-11-12 20:04:57,870 : INFO : PROGRESS: saving document #57000\n",
      "2017-11-12 20:04:58,020 : INFO : PROGRESS: saving document #58000\n",
      "2017-11-12 20:04:58,199 : INFO : PROGRESS: saving document #59000\n",
      "2017-11-12 20:04:58,377 : INFO : PROGRESS: saving document #60000\n",
      "2017-11-12 20:04:58,545 : INFO : PROGRESS: saving document #61000\n",
      "2017-11-12 20:04:58,753 : INFO : PROGRESS: saving document #62000\n",
      "2017-11-12 20:04:58,983 : INFO : PROGRESS: saving document #63000\n",
      "2017-11-12 20:04:59,185 : INFO : PROGRESS: saving document #64000\n",
      "2017-11-12 20:04:59,366 : INFO : PROGRESS: saving document #65000\n",
      "2017-11-12 20:04:59,604 : INFO : PROGRESS: saving document #66000\n",
      "2017-11-12 20:04:59,774 : INFO : PROGRESS: saving document #67000\n",
      "2017-11-12 20:05:00,059 : INFO : PROGRESS: saving document #68000\n",
      "2017-11-12 20:05:00,261 : INFO : PROGRESS: saving document #69000\n",
      "2017-11-12 20:05:00,494 : INFO : PROGRESS: saving document #70000\n",
      "2017-11-12 20:05:00,647 : INFO : PROGRESS: saving document #71000\n",
      "2017-11-12 20:05:00,844 : INFO : PROGRESS: saving document #72000\n",
      "2017-11-12 20:05:01,015 : INFO : PROGRESS: saving document #73000\n",
      "2017-11-12 20:05:01,278 : INFO : PROGRESS: saving document #74000\n",
      "2017-11-12 20:05:01,433 : INFO : PROGRESS: saving document #75000\n",
      "2017-11-12 20:05:01,571 : INFO : PROGRESS: saving document #76000\n",
      "2017-11-12 20:05:01,717 : INFO : PROGRESS: saving document #77000\n",
      "2017-11-12 20:05:01,916 : INFO : PROGRESS: saving document #78000\n",
      "2017-11-12 20:05:02,038 : INFO : saved 78506x101139 matrix, density=0.063% (5028549/7940018334)\n",
      "2017-11-12 20:05:02,042 : INFO : saving MmCorpus index to datasets/golos-corpora_tfidf.mm.index\n"
     ]
    }
   ],
   "source": [
    "corpora.MmCorpus.serialize('datasets/golos-corpora_tfidf.mm', tfidf[corpus])"
   ]
  },
  {
   "cell_type": "code",
   "execution_count": 18,
   "metadata": {},
   "outputs": [
    {
     "name": "stderr",
     "output_type": "stream",
     "text": [
      "2017-11-12 20:05:02,078 : INFO : loaded corpus index from datasets/golos-corpora_tfidf.mm.index\n",
      "2017-11-12 20:05:02,080 : INFO : initializing corpus reader from datasets/golos-corpora_tfidf.mm\n",
      "2017-11-12 20:05:02,085 : INFO : accepted corpus with 78506 documents, 101139 features, 5028549 non-zero entries\n"
     ]
    },
    {
     "name": "stdout",
     "output_type": "stream",
     "text": [
      "MmCorpus(78506 documents, 101139 features, 5028549 non-zero entries)\n"
     ]
    }
   ],
   "source": [
    "# test new golos-corpora - load iterator\n",
    "mm_golos = corpora.MmCorpus('datasets/golos-corpora_tfidf.mm')\n",
    "print(mm_golos)"
   ]
  },
  {
   "cell_type": "code",
   "execution_count": 19,
   "metadata": {},
   "outputs": [
    {
     "name": "stderr",
     "output_type": "stream",
     "text": [
      "2017-11-12 20:05:02,114 : INFO : using symmetric alpha at 0.01\n",
      "2017-11-12 20:05:02,116 : INFO : using symmetric eta at 9.887382710922591e-06\n",
      "2017-11-12 20:05:02,172 : INFO : using serial LDA version on this node\n",
      "2017-11-12 20:05:52,837 : INFO : running online (single-pass) LDA training, 100 topics, 1 passes over the supplied corpus of 78506 documents, updating model once every 10000 documents, evaluating perplexity every 78506 documents, iterating 50x with a convergence threshold of 0.001000\n",
      "2017-11-12 20:05:52,837 : WARNING : too few updates, training might not converge; consider increasing the number of passes or iterations to improve accuracy\n",
      "2017-11-12 20:05:55,385 : INFO : PROGRESS: pass 0, at document #10000/78506\n",
      "2017-11-12 20:06:09,396 : INFO : merging changes from 10000 documents into a model of 78506 documents\n",
      "2017-11-12 20:06:11,671 : INFO : topic #22 (0.010): 0.004*\"*\" + 0.003*\"это\" + 0.003*\"делегат\" + 0.002*\"**\" + 0.002*\"мой\" + 0.002*\"голос\" + 0.002*\"...\" + 0.002*\"информация\" + 0.002*\"который\" + 0.002*\"все\"\n",
      "2017-11-12 20:06:11,674 : INFO : topic #65 (0.010): 0.003*\"...\" + 0.003*\"это\" + 0.003*\"голос\" + 0.002*\"*\" + 0.002*\"который\" + 0.002*\"такой\" + 0.002*\"**\" + 0.002*\"человек\" + 0.002*\"null\" + 0.001*\"пост\"\n",
      "2017-11-12 20:06:11,677 : INFO : topic #23 (0.010): 0.009*\"v\" + 0.005*\"голос\" + 0.003*\"это\" + 0.002*\"год\" + 0.002*\"свой\" + 0.002*\"источник\" + 0.002*\"любовь\" + 0.002*\"мой\" + 0.002*\"делегат\" + 0.002*\"такой\"\n",
      "2017-11-12 20:06:11,679 : INFO : topic #82 (0.010): 0.003*\"это\" + 0.003*\"***\" + 0.002*\"который\" + 0.002*\"oe\" + 0.002*\"oh\" + 0.002*\"...\" + 0.002*\"человек\" + 0.002*\"свой\" + 0.002*\"все\" + 0.002*\"_______________________________________________________________________________________________________________\"\n",
      "2017-11-12 20:06:11,682 : INFO : topic #94 (0.010): 0.006*\"голос\" + 0.003*\"**\" + 0.003*\"это\" + 0.003*\"пост\" + 0.002*\"пользователь\" + 0.002*\"который\" + 0.002*\"фотография\" + 0.002*\"ваш\" + 0.002*\"человек\" + 0.002*\"...\"\n",
      "2017-11-12 20:06:11,743 : INFO : topic diff=92.455843, rho=1.000000\n",
      "2017-11-12 20:06:14,662 : INFO : PROGRESS: pass 0, at document #20000/78506\n",
      "2017-11-12 20:06:30,100 : INFO : merging changes from 10000 documents into a model of 78506 documents\n",
      "2017-11-12 20:06:32,076 : INFO : topic #93 (0.010): 0.012*\"____________\" + 0.003*\"...\" + 0.003*\"дама\" + 0.003*\"казак\" + 0.003*\"снег\" + 0.003*\"господин\" + 0.002*\"жизнь\" + 0.002*\"суета\" + 0.002*\"нагонять\" + 0.002*\"дивный\"\n",
      "2017-11-12 20:06:32,078 : INFO : topic #29 (0.010): 0.025*\"_____________\" + 0.009*\"25d0\" + 0.005*\"|-|-|\" + 0.005*\"алфавитный\" + 0.004*\"|\" + 0.004*\"25d1\" + 0.004*\"romanskv\" + 0.003*\"studentka\" + 0.003*\"ƒ\" + 0.003*\"майба\"\n",
      "2017-11-12 20:06:32,080 : INFO : topic #92 (0.010): 0.004*\"голос\" + 0.004*\"крит\" + 0.003*\"эволюция\" + 0.003*\"пост\" + 0.002*\"**\" + 0.002*\"комментарий\" + 0.002*\"это\" + 0.002*\"email\" + 0.002*\"golos\" + 0.002*\"который\"\n",
      "2017-11-12 20:06:32,082 : INFO : topic #77 (0.010): 0.003*\"это\" + 0.003*\"щоба\" + 0.002*\"...\" + 0.002*\"голос\" + 0.002*\"который\" + 0.002*\"экзамен\" + 0.002*\"год\" + 0.002*\"человек\" + 0.002*\"пост\" + 0.002*\"2014г\"\n",
      "2017-11-12 20:06:32,084 : INFO : topic #43 (0.010): 0.010*\"provsyoan\" + 0.010*\"dekoran\" + 0.010*\"osebe\" + 0.010*\"anela\" + 0.009*\"голос\" + 0.007*\"__\" + 0.007*\"***\" + 0.006*\"|\" + 0.005*\"**\" + 0.005*\"пользователь\"\n",
      "2017-11-12 20:06:32,129 : INFO : topic diff=1.558669, rho=0.707107\n",
      "2017-11-12 20:06:35,052 : INFO : PROGRESS: pass 0, at document #30000/78506\n",
      "2017-11-12 20:06:49,910 : INFO : merging changes from 10000 documents into a model of 78506 documents\n",
      "2017-11-12 20:06:51,729 : INFO : topic #3 (0.010): 0.010*\"image\" + 0.005*\"description\" + 0.005*\"enter\" + 0.004*\"here\" + 0.004*\"свидетельство\" + 0.004*\"copyright\" + 0.003*\"№\" + 0.003*\"наталия\" + 0.003*\"новодвинск\" + 0.002*\"large\"\n",
      "2017-11-12 20:06:51,731 : INFO : topic #26 (0.010): 0.014*\"рейтинг\" + 0.009*\"text\" + 0.009*\"приз\" + 0.008*\"**\" + 0.007*\"золотой\" + 0.007*\"автор\" + 0.005*\"качество\" + 0.005*\"pre\" + 0.004*\"20животные\" + 0.004*\"доброта\"\n",
      "2017-11-12 20:06:51,733 : INFO : topic #8 (0.010): 0.005*\"________________________________\" + 0.003*\"...\" + 0.003*\"skvortsov\" + 0.003*\"лифт\" + 0.002*\"шахта\" + 0.002*\"бояться\" + 0.002*\"rybinsk\" + 0.002*\"скин\" + 0.002*\"кира\" + 0.002*\"игрок\"\n",
      "2017-11-12 20:06:51,735 : INFO : topic #48 (0.010): 0.008*\"favorit\" + 0.008*\"переменный\" + 0.008*\"пономарев\" + 0.006*\"пост\" + 0.005*\"***\" + 0.004*\"мой\" + 0.004*\"обзор\" + 0.003*\"цветок\" + 0.003*\"пояснение\" + 0.003*\"голос\"\n",
      "2017-11-12 20:06:51,737 : INFO : topic #42 (0.010): 0.005*\"робот\" + 0.003*\"лайков\" + 0.003*\"уфа\" + 0.003*\"котлета\" + 0.003*\"alex2016\" + 0.002*\"сурок\" + 0.002*\"это\" + 0.002*\"android\" + 0.002*\"готовка\" + 0.002*\"...\"\n",
      "2017-11-12 20:06:51,784 : INFO : topic diff=1.440844, rho=0.577350\n",
      "2017-11-12 20:06:53,480 : INFO : PROGRESS: pass 0, at document #40000/78506\n",
      "2017-11-12 20:07:04,960 : INFO : merging changes from 10000 documents into a model of 78506 documents\n",
      "2017-11-12 20:07:06,512 : INFO : topic #94 (0.010): 0.008*\"000\" + 0.007*\"руб\" + 0.006*\"точка\" + 0.006*\"цель\" + 0.005*\"клиент\" + 0.005*\"зарабатывать\" + 0.004*\"месяц\" + 0.004*\"это\" + 0.004*\"рубль\" + 0.004*\"бизнес\"\n",
      "2017-11-12 20:07:06,514 : INFO : topic #0 (0.010): 0.013*\"100.000\" + 0.007*\"допы\" + 0.005*\"з\" + 0.005*\"пародия\" + 0.004*\"благодарить\" + 0.004*\"влад\" + 0.004*\"подписываться\" + 0.003*\"племянник\" + 0.003*\"instagram\" + 0.003*\"эпиграф\"\n",
      "2017-11-12 20:07:06,517 : INFO : topic #39 (0.010): 0.011*\"alexandre\" + 0.010*\"дашкиев\" + 0.009*\"блог\" + 0.008*\"нравиться\" + 0.007*\"подписываться\" + 0.006*\"петр\" + 0.006*\"______________________________________________________________________________________________________________\" + 0.006*\"фото\" + 0.006*\"осипова\" + 0.005*\"canon\"\n",
      "2017-11-12 20:07:06,519 : INFO : topic #43 (0.010): 0.019*\"arcange\" + 0.016*\"грн\" + 0.012*\"anela\" + 0.012*\"dekoran\" + 0.012*\"provsyoan\" + 0.011*\"osebe\" + 0.009*\"голос\" + 0.008*\"|\" + 0.007*\"__\" + 0.007*\"***\"\n",
      "2017-11-12 20:07:06,521 : INFO : topic #78 (0.010): 0.019*\"а\" + 0.006*\"заполнять\" + 0.005*\"запартнериться\" + 0.004*\"источник\" + 0.004*\"пациент\" + 0.004*\"ниша\" + 0.004*\"нарезка\" + 0.003*\"стикер\" + 0.003*\"аудит\" + 0.003*\"memo\"\n",
      "2017-11-12 20:07:06,564 : INFO : topic diff=1.093333, rho=0.500000\n",
      "2017-11-12 20:07:08,024 : INFO : PROGRESS: pass 0, at document #50000/78506\n",
      "2017-11-12 20:07:18,849 : INFO : merging changes from 10000 documents into a model of 78506 documents\n",
      "2017-11-12 20:07:20,265 : INFO : topic #42 (0.010): 0.014*\"подрядчик\" + 0.013*\"цех\" + 0.011*\"прорыв\" + 0.008*\"собрание\" + 0.005*\"рубашка\" + 0.004*\"уфа\" + 0.004*\"140\" + 0.004*\"вобщий\" + 0.003*\"робот\" + 0.003*\"50к\"\n",
      "2017-11-12 20:07:20,267 : INFO : topic #14 (0.010): 0.005*\"event\" + 0.004*\"phoenix\" + 0.004*\"инсайт\" + 0.004*\"his\" + 0.004*\"осознанность\" + 0.004*\"роркор\" + 0.004*\"the\" + 0.003*\"audi\" + 0.003*\"mir\" + 0.002*\"женя\"\n",
      "2017-11-12 20:07:20,270 : INFO : topic #86 (0.010): 0.055*\"разбор\" + 0.011*\"добивать\" + 0.010*\"1000р\" + 0.007*\"спб\" + 0.006*\"март\" + 0.004*\"загородный\" + 0.004*\"положенный\" + 0.004*\"встречаться\" + 0.003*\"unicorn\" + 0.003*\"видеоролик\"\n",
      "2017-11-12 20:07:20,273 : INFO : topic #73 (0.010): 0.005*\"elenka\" + 0.004*\"перевозить\" + 0.004*\"электрика\" + 0.004*\"густо\" + 0.004*\"корпоратив\" + 0.003*\"алена\" + 0.003*\"деревце\" + 0.003*\"news\" + 0.003*\"камчатка\" + 0.003*\"латт\"\n",
      "2017-11-12 20:07:20,275 : INFO : topic #70 (0.010): 0.008*\"35000\" + 0.006*\"кит\" + 0.005*\"цех\" + 0.005*\"від\" + 0.004*\"масленица\" + 0.004*\"25.04\" + 0.004*\"красота\" + 0.004*\"приход\" + 0.004*\"итерация\" + 0.003*\"хто\"\n",
      "2017-11-12 20:07:20,317 : INFO : topic diff=0.947086, rho=0.447214\n",
      "2017-11-12 20:07:21,526 : INFO : PROGRESS: pass 0, at document #60000/78506\n",
      "2017-11-12 20:07:31,280 : INFO : merging changes from 10000 documents into a model of 78506 documents\n",
      "2017-11-12 20:07:32,600 : INFO : topic #94 (0.010): 0.014*\"000\" + 0.013*\"руб\" + 0.010*\"клиент\" + 0.009*\"зарабатывать\" + 0.008*\"чек\" + 0.007*\"точка\" + 0.006*\"рубль\" + 0.006*\"сделать\" + 0.006*\"заказ\" + 0.006*\"новый\"\n",
      "2017-11-12 20:07:32,602 : INFO : topic #56 (0.010): 0.034*\"500000\" + 0.030*\"7000\" + 0.025*\"q\" + 0.022*\"8000\" + 0.015*\"b8\" + 0.014*\"be\" + 0.012*\"b0\" + 0.009*\"показ\" + 0.008*\"итого\" + 0.008*\"ba\"\n",
      "2017-11-12 20:07:32,605 : INFO : topic #72 (0.010): 0.005*\"...\" + 0.005*\"это\" + 0.004*\"день\" + 0.003*\"человек\" + 0.003*\"который\" + 0.003*\"очень\" + 0.003*\"свой\" + 0.003*\"сегодня\" + 0.002*\"мой\" + 0.002*\"занятие\"\n"
     ]
    },
    {
     "name": "stderr",
     "output_type": "stream",
     "text": [
      "2017-11-12 20:07:32,608 : INFO : topic #22 (0.010): 0.103*\"000р\" + 0.014*\"ср\" + 0.008*\"avito\" + 0.007*\"мойка\" + 0.006*\"🔥\" + 0.006*\"480\" + 0.005*\"эстафета\" + 0.005*\"айдентик\" + 0.004*\"разовый\" + 0.004*\"проговаривать\"\n",
      "2017-11-12 20:07:32,610 : INFO : topic #12 (0.010): 0.020*\"цех\" + 0.011*\"5000\" + 0.010*\"оптовый\" + 0.008*\"заказчик\" + 0.008*\"руб\" + 0.008*\"десятка\" + 0.007*\"заказ\" + 0.007*\"добавляться\" + 0.006*\"объявление\" + 0.006*\"сертификат\"\n",
      "2017-11-12 20:07:32,651 : INFO : topic diff=0.845017, rho=0.408248\n",
      "2017-11-12 20:07:34,749 : INFO : PROGRESS: pass 0, at document #70000/78506\n",
      "2017-11-12 20:07:45,148 : INFO : merging changes from 10000 documents into a model of 78506 documents\n",
      "2017-11-12 20:07:46,398 : INFO : topic #77 (0.010): 0.020*\"12000\" + 0.020*\"абонемент\" + 0.009*\"прозвонить\" + 0.007*\"аренда\" + 0.007*\"полководец\" + 0.007*\"кирпич\" + 0.006*\"занятие\" + 0.006*\"сбыт\" + 0.004*\"тимур\" + 0.004*\"эдуард\"\n",
      "2017-11-12 20:07:46,400 : INFO : topic #43 (0.010): 0.059*\"8f\" + 0.052*\"грн\" + 0.016*\"arcange\" + 0.014*\"отчет\" + 0.009*\"anela\" + 0.009*\"|\" + 0.009*\"2017г\" + 0.008*\"user\" + 0.008*\"provsyoan\" + 0.008*\"dekoran\"\n",
      "2017-11-12 20:07:46,403 : INFO : topic #23 (0.010): 0.067*\"чсс\" + 0.061*\"чсз\" + 0.017*\"250000\" + 0.014*\"гзд\" + 0.009*\"чсх\" + 0.006*\"гдз\" + 0.006*\"350000\" + 0.006*\"прозванивать\" + 0.005*\"приседание\" + 0.005*\"спланировать\"\n",
      "2017-11-12 20:07:46,405 : INFO : topic #87 (0.010): 0.034*\"10.000\" + 0.030*\"поставщик\" + 0.028*\"20000\" + 0.016*\"вебинар\" + 0.009*\"бригада\" + 0.009*\"съездить\" + 0.008*\"скайп\" + 0.007*\"b2b\" + 0.007*\"ниша\" + 0.007*\"декомпазиция\"\n",
      "2017-11-12 20:07:46,408 : INFO : topic #76 (0.010): 0.021*\"+\" + 0.010*\"плодотворно\" + 0.009*\"💰\" + 0.009*\"300к\" + 0.008*\"320\" + 0.007*\"похудение\" + 0.007*\"экспертность\" + 0.007*\"фэйсбук\" + 0.006*\"juanmi\" + 0.005*\"'\"\n",
      "2017-11-12 20:07:46,457 : INFO : topic diff=0.723776, rho=0.377964\n",
      "2017-11-12 20:08:07,774 : INFO : -16.448 per-word bound, 89417.9 perplexity estimate based on a held-out corpus of 8506 documents with 38599 words\n",
      "2017-11-12 20:08:07,776 : INFO : PROGRESS: pass 0, at document #78506/78506\n",
      "2017-11-12 20:08:15,963 : INFO : merging changes from 8506 documents into a model of 78506 documents\n",
      "2017-11-12 20:08:17,154 : INFO : topic #15 (0.010): 0.016*\"vip\" + 0.008*\"таро\" + 0.007*\"24000\" + 0.007*\"глянуть\" + 0.005*\"cut\" + 0.005*\"10й\" + 0.005*\"крым\" + 0.005*\"активизироваться\" + 0.004*\"ялта\" + 0.004*\"газель\"\n",
      "2017-11-12 20:08:17,156 : INFO : topic #23 (0.010): 0.091*\"чсс\" + 0.083*\"чсз\" + 0.024*\"гзд\" + 0.018*\"чсх\" + 0.017*\"приседание\" + 0.011*\"250000\" + 0.007*\"прозванивать\" + 0.007*\"поздравлять\" + 0.006*\"спланировать\" + 0.006*\"гдз\"\n",
      "2017-11-12 20:08:17,159 : INFO : topic #58 (0.010): 0.016*\"пирожок\" + 0.011*\"проваливать\" + 0.010*\"полиграфия\" + 0.006*\"прокачка\" + 0.006*\"oe\" + 0.006*\"oh\" + 0.005*\"тесто\" + 0.005*\"мука\" + 0.005*\"шоколад\" + 0.004*\"сахар\"\n",
      "2017-11-12 20:08:17,161 : INFO : topic #36 (0.010): 0.031*\"обзвон\" + 0.028*\"💴\" + 0.027*\"🎯\" + 0.027*\"🔑\" + 0.025*\"⚙\" + 0.025*\"💵\" + 0.018*\"➕\" + 0.016*\"👤\" + 0.011*\"60000\" + 0.010*\"проработка\"\n",
      "2017-11-12 20:08:17,163 : INFO : topic #68 (0.010): 0.011*\"проконтролировать\" + 0.009*\"цех\" + 0.009*\"закупка\" + 0.009*\"планерка\" + 0.009*\"щебень\" + 0.007*\"фио\" + 0.007*\"15000р\" + 0.007*\"недочет\" + 0.007*\"20march\" + 0.005*\"систематизация\"\n",
      "2017-11-12 20:08:17,212 : INFO : topic diff=0.619992, rho=0.353553\n"
     ]
    }
   ],
   "source": [
    "lda_golos = models.ldamodel.LdaModel(corpus=mm_golos, id2word=dictionary, num_topics=100, update_every=1, chunksize=10000, passes=1)"
   ]
  },
  {
   "cell_type": "code",
   "execution_count": 21,
   "metadata": {},
   "outputs": [
    {
     "name": "stderr",
     "output_type": "stream",
     "text": [
      "2017-11-12 20:13:35,921 : INFO : topic #49 (0.010): 0.020*\"видеонаблюдение\" + 0.018*\"модерация\" + 0.014*\"7500\" + 0.006*\"bust\" + 0.006*\"text\" + 0.006*\"pos\" + 0.005*\"rpt\" + 0.005*\"вышивка\" + 0.005*\"lr\" + 0.004*\"дымоход\"\n",
      "2017-11-12 20:13:35,923 : INFO : topic #17 (0.010): 0.128*\"обзванивать\" + 0.026*\"тендер\" + 0.012*\"гздз\" + 0.009*\"наставничество\" + 0.007*\"плановый\" + 0.007*\"поддон\" + 0.006*\"заинтересованный\" + 0.005*\"консалтинговый\" + 0.005*\"неопределенность\" + 0.004*\"подписываться\"\n",
      "2017-11-12 20:13:35,925 : INFO : topic #69 (0.010): 0.018*\"весенний\" + 0.013*\"побриться\" + 0.009*\"123\" + 0.006*\"_______________________\" + 0.006*\"репетиция\" + 0.006*\"elenas\" + 0.005*\"геодезия\" + 0.005*\"косметика\" + 0.005*\"20screen\" + 0.005*\"300р\"\n",
      "2017-11-12 20:13:35,928 : INFO : topic #20 (0.010): 0.039*\"мастер-класс\" + 0.026*\"продажник\" + 0.018*\"низко\" + 0.013*\"наращивание\" + 0.010*\"смм\" + 0.006*\"2700\" + 0.006*\"кипеть\" + 0.005*\"ауди\" + 0.005*\"переписывать\" + 0.004*\"елена\"\n",
      "2017-11-12 20:13:35,931 : INFO : topic #19 (0.010): 0.044*\"артефакт\" + 0.021*\"28.02\" + 0.016*\"100000\" + 0.014*\"белье\" + 0.010*\"постельный\" + 0.006*\"_______\" + 0.006*\"драйв\" + 0.005*\"ворд\" + 0.005*\"балкон\" + 0.005*\"950\"\n",
      "2017-11-12 20:13:35,934 : INFO : topic #5 (0.010): 0.007*\"tali72\" + 0.004*\"рок\" + 0.004*\"він\" + 0.003*\"джереть\" + 0.003*\"dsc\" + 0.003*\"____________________________\" + 0.002*\"заряжать\" + 0.002*\"дуж\" + 0.002*\"брус\" + 0.002*\"сьогодні\"\n",
      "2017-11-12 20:13:35,937 : INFO : topic #81 (0.010): 0.148*\"кинжал\" + 0.024*\"план\" + 0.018*\"прикреплять\" + 0.018*\"150000\" + 0.017*\"упаковка\" + 0.005*\"img\" + 0.004*\"пробежать\" + 0.004*\"автозапчасть\" + 0.003*\"баня\" + 0.003*\"выполнять\"\n",
      "2017-11-12 20:13:35,940 : INFO : topic #55 (0.010): 0.023*\"доделывать\" + 0.016*\"рассылка\" + 0.012*\"чело\" + 0.011*\"заполнять\" + 0.011*\"профиль\" + 0.010*\"лэндинг\" + 0.009*\"прайс\" + 0.009*\"допиливать\" + 0.008*\"сайт\" + 0.007*\"консультация\"\n",
      "2017-11-12 20:13:35,942 : INFO : topic #95 (0.010): 0.037*\"таргет\" + 0.026*\"видос\" + 0.020*\"40000\" + 0.019*\"b2\" + 0.012*\"видеосъемка\" + 0.007*\"кальян\" + 0.006*\"магнит\" + 0.005*\"упаковка\" + 0.005*\"кальянный\" + 0.004*\"посуточный\"\n",
      "2017-11-12 20:13:35,946 : INFO : topic #43 (0.010): 0.058*\"8f\" + 0.046*\"грн\" + 0.018*\"arcange\" + 0.015*\"отчет\" + 0.012*\"2017г\" + 0.009*\"anela\" + 0.009*\"|\" + 0.008*\"golos\" + 0.008*\"dekoran\" + 0.008*\"provsyoan\"\n",
      "2017-11-12 20:13:35,949 : INFO : topic #47 (0.010): 0.010*\"bd\" + 0.008*\"бм\" + 0.005*\"касса\" + 0.004*\"...\" + 0.004*\"агентство\" + 0.004*\"мебель\" + 0.003*\"ниша\" + 0.003*\"миша\" + 0.003*\"план\" + 0.003*\"день\"\n",
      "2017-11-12 20:13:35,952 : INFO : topic #35 (0.010): 0.174*\"инсайт\" + 0.025*\"делегировать\" + 0.024*\"самочувствие\" + 0.019*\"оптовик\" + 0.015*\"8.03\" + 0.015*\"тестить\" + 0.014*\"разбор\" + 0.006*\"10тыс\" + 0.006*\"📌\" + 0.006*\"артур\"\n",
      "2017-11-12 20:13:35,954 : INFO : topic #57 (0.010): 0.011*\"кинжал\" + 0.007*\"март\" + 0.007*\"выручка\" + 0.007*\"план\" + 0.006*\"договор\" + 0.005*\"встреча\" + 0.005*\"звонок\" + 0.004*\"сделать\" + 0.004*\"день\" + 0.004*\"клиент\"\n",
      "2017-11-12 20:13:35,960 : INFO : topic #42 (0.010): 0.025*\"подрядчик\" + 0.017*\"собрание\" + 0.015*\"цех\" + 0.012*\"метрика\" + 0.008*\"обязываться\" + 0.008*\"18.03\" + 0.007*\"140\" + 0.007*\"прорыв\" + 0.007*\"информативный\" + 0.006*\"рубашка\"\n",
      "2017-11-12 20:13:35,964 : INFO : topic #65 (0.010): 0.033*\"яндекс\" + 0.025*\"эдвордс\" + 0.023*\"директ\" + 0.021*\"запчасть\" + 0.013*\"80\" + 0.011*\"ниша\" + 0.008*\"воск\" + 0.008*\"неадекватность\" + 0.007*\"утепление\" + 0.007*\"расходник\"\n",
      "2017-11-12 20:13:35,967 : INFO : topic #62 (0.010): 0.027*\"строительный\" + 0.009*\"350\" + 0.008*\"смс\" + 0.008*\"расписка\" + 0.007*\"2300\" + 0.006*\"армянский\" + 0.005*\"динозавр\" + 0.005*\"трансляция\" + 0.005*\"__________\" + 0.005*\"кое-что\"\n",
      "2017-11-12 20:13:35,970 : INFO : topic #70 (0.010): 0.022*\"кит\" + 0.011*\"отредактировать\" + 0.011*\"35000\" + 0.009*\"приход\" + 0.007*\"итерация\" + 0.007*\"массаж\" + 0.006*\"цех\" + 0.006*\"субаренда\" + 0.004*\"постригаться\" + 0.004*\"25.04\"\n",
      "2017-11-12 20:13:35,973 : INFO : topic #54 (0.010): 0.028*\"прозвон\" + 0.007*\"ускоряться\" + 0.007*\"коучинг\" + 0.005*\"преза\" + 0.005*\"плед\" + 0.005*\"ростов\" + 0.004*\"понестись\" + 0.004*\"грустно\" + 0.004*\"заливка\" + 0.003*\"крепить\"\n",
      "2017-11-12 20:13:35,976 : INFO : topic #79 (0.010): 0.030*\"****\" + 0.017*\"вакансия\" + 0.011*\"dstain\" + 0.009*\"резюме\" + 0.008*\"лидогенерация\" + 0.008*\"прораб\" + 0.007*\"стаин\" + 0.006*\"йога\" + 0.005*\"leylar\" + 0.005*\"canon\"\n",
      "2017-11-12 20:13:35,978 : INFO : topic #97 (0.010): 0.081*\"202017\" + 0.033*\"the\" + 0.021*\"and\" + 0.015*\"20at\" + 0.013*\"you\" + 0.008*\"91\" + 0.007*\"this\" + 0.007*\"for\" + 0.006*\"with\" + 0.006*\"that\"\n"
     ]
    },
    {
     "data": {
      "text/plain": [
       "[(49,\n",
       "  '0.020*\"видеонаблюдение\" + 0.018*\"модерация\" + 0.014*\"7500\" + 0.006*\"bust\" + 0.006*\"text\" + 0.006*\"pos\" + 0.005*\"rpt\" + 0.005*\"вышивка\" + 0.005*\"lr\" + 0.004*\"дымоход\"'),\n",
       " (17,\n",
       "  '0.128*\"обзванивать\" + 0.026*\"тендер\" + 0.012*\"гздз\" + 0.009*\"наставничество\" + 0.007*\"плановый\" + 0.007*\"поддон\" + 0.006*\"заинтересованный\" + 0.005*\"консалтинговый\" + 0.005*\"неопределенность\" + 0.004*\"подписываться\"'),\n",
       " (69,\n",
       "  '0.018*\"весенний\" + 0.013*\"побриться\" + 0.009*\"123\" + 0.006*\"_______________________\" + 0.006*\"репетиция\" + 0.006*\"elenas\" + 0.005*\"геодезия\" + 0.005*\"косметика\" + 0.005*\"20screen\" + 0.005*\"300р\"'),\n",
       " (20,\n",
       "  '0.039*\"мастер-класс\" + 0.026*\"продажник\" + 0.018*\"низко\" + 0.013*\"наращивание\" + 0.010*\"смм\" + 0.006*\"2700\" + 0.006*\"кипеть\" + 0.005*\"ауди\" + 0.005*\"переписывать\" + 0.004*\"елена\"'),\n",
       " (19,\n",
       "  '0.044*\"артефакт\" + 0.021*\"28.02\" + 0.016*\"100000\" + 0.014*\"белье\" + 0.010*\"постельный\" + 0.006*\"_______\" + 0.006*\"драйв\" + 0.005*\"ворд\" + 0.005*\"балкон\" + 0.005*\"950\"'),\n",
       " (5,\n",
       "  '0.007*\"tali72\" + 0.004*\"рок\" + 0.004*\"він\" + 0.003*\"джереть\" + 0.003*\"dsc\" + 0.003*\"____________________________\" + 0.002*\"заряжать\" + 0.002*\"дуж\" + 0.002*\"брус\" + 0.002*\"сьогодні\"'),\n",
       " (81,\n",
       "  '0.148*\"кинжал\" + 0.024*\"план\" + 0.018*\"прикреплять\" + 0.018*\"150000\" + 0.017*\"упаковка\" + 0.005*\"img\" + 0.004*\"пробежать\" + 0.004*\"автозапчасть\" + 0.003*\"баня\" + 0.003*\"выполнять\"'),\n",
       " (55,\n",
       "  '0.023*\"доделывать\" + 0.016*\"рассылка\" + 0.012*\"чело\" + 0.011*\"заполнять\" + 0.011*\"профиль\" + 0.010*\"лэндинг\" + 0.009*\"прайс\" + 0.009*\"допиливать\" + 0.008*\"сайт\" + 0.007*\"консультация\"'),\n",
       " (95,\n",
       "  '0.037*\"таргет\" + 0.026*\"видос\" + 0.020*\"40000\" + 0.019*\"b2\" + 0.012*\"видеосъемка\" + 0.007*\"кальян\" + 0.006*\"магнит\" + 0.005*\"упаковка\" + 0.005*\"кальянный\" + 0.004*\"посуточный\"'),\n",
       " (43,\n",
       "  '0.058*\"8f\" + 0.046*\"грн\" + 0.018*\"arcange\" + 0.015*\"отчет\" + 0.012*\"2017г\" + 0.009*\"anela\" + 0.009*\"|\" + 0.008*\"golos\" + 0.008*\"dekoran\" + 0.008*\"provsyoan\"'),\n",
       " (47,\n",
       "  '0.010*\"bd\" + 0.008*\"бм\" + 0.005*\"касса\" + 0.004*\"...\" + 0.004*\"агентство\" + 0.004*\"мебель\" + 0.003*\"ниша\" + 0.003*\"миша\" + 0.003*\"план\" + 0.003*\"день\"'),\n",
       " (35,\n",
       "  '0.174*\"инсайт\" + 0.025*\"делегировать\" + 0.024*\"самочувствие\" + 0.019*\"оптовик\" + 0.015*\"8.03\" + 0.015*\"тестить\" + 0.014*\"разбор\" + 0.006*\"10тыс\" + 0.006*\"📌\" + 0.006*\"артур\"'),\n",
       " (57,\n",
       "  '0.011*\"кинжал\" + 0.007*\"март\" + 0.007*\"выручка\" + 0.007*\"план\" + 0.006*\"договор\" + 0.005*\"встреча\" + 0.005*\"звонок\" + 0.004*\"сделать\" + 0.004*\"день\" + 0.004*\"клиент\"'),\n",
       " (42,\n",
       "  '0.025*\"подрядчик\" + 0.017*\"собрание\" + 0.015*\"цех\" + 0.012*\"метрика\" + 0.008*\"обязываться\" + 0.008*\"18.03\" + 0.007*\"140\" + 0.007*\"прорыв\" + 0.007*\"информативный\" + 0.006*\"рубашка\"'),\n",
       " (65,\n",
       "  '0.033*\"яндекс\" + 0.025*\"эдвордс\" + 0.023*\"директ\" + 0.021*\"запчасть\" + 0.013*\"80\" + 0.011*\"ниша\" + 0.008*\"воск\" + 0.008*\"неадекватность\" + 0.007*\"утепление\" + 0.007*\"расходник\"'),\n",
       " (62,\n",
       "  '0.027*\"строительный\" + 0.009*\"350\" + 0.008*\"смс\" + 0.008*\"расписка\" + 0.007*\"2300\" + 0.006*\"армянский\" + 0.005*\"динозавр\" + 0.005*\"трансляция\" + 0.005*\"__________\" + 0.005*\"кое-что\"'),\n",
       " (70,\n",
       "  '0.022*\"кит\" + 0.011*\"отредактировать\" + 0.011*\"35000\" + 0.009*\"приход\" + 0.007*\"итерация\" + 0.007*\"массаж\" + 0.006*\"цех\" + 0.006*\"субаренда\" + 0.004*\"постригаться\" + 0.004*\"25.04\"'),\n",
       " (54,\n",
       "  '0.028*\"прозвон\" + 0.007*\"ускоряться\" + 0.007*\"коучинг\" + 0.005*\"преза\" + 0.005*\"плед\" + 0.005*\"ростов\" + 0.004*\"понестись\" + 0.004*\"грустно\" + 0.004*\"заливка\" + 0.003*\"крепить\"'),\n",
       " (79,\n",
       "  '0.030*\"****\" + 0.017*\"вакансия\" + 0.011*\"dstain\" + 0.009*\"резюме\" + 0.008*\"лидогенерация\" + 0.008*\"прораб\" + 0.007*\"стаин\" + 0.006*\"йога\" + 0.005*\"leylar\" + 0.005*\"canon\"'),\n",
       " (97,\n",
       "  '0.081*\"202017\" + 0.033*\"the\" + 0.021*\"and\" + 0.015*\"20at\" + 0.013*\"you\" + 0.008*\"91\" + 0.007*\"this\" + 0.007*\"for\" + 0.006*\"with\" + 0.006*\"that\"')]"
      ]
     },
     "execution_count": 21,
     "metadata": {},
     "output_type": "execute_result"
    }
   ],
   "source": [
    "lda_golos.print_topics()"
   ]
  },
  {
   "cell_type": "code",
   "execution_count": 22,
   "metadata": {},
   "outputs": [
    {
     "name": "stderr",
     "output_type": "stream",
     "text": [
      "2017-11-12 20:16:17,023 : INFO : topic #4 (0.010): 0.013*\"юла\" + 0.010*\"бомж\" + 0.008*\"...\" + 0.006*\"настя\" + 0.006*\"отделка\" + 0.005*\"скульптура\" + 0.005*\"105\" + 0.004*\"частник\" + 0.003*\"восьмой\" + 0.003*\"скраб\"\n",
      "2017-11-12 20:16:17,026 : INFO : topic #19 (0.010): 0.044*\"артефакт\" + 0.021*\"28.02\" + 0.016*\"100000\" + 0.014*\"белье\" + 0.010*\"постельный\" + 0.006*\"_______\" + 0.006*\"драйв\" + 0.005*\"ворд\" + 0.005*\"балкон\" + 0.005*\"950\"\n",
      "2017-11-12 20:16:17,028 : INFO : topic #23 (0.010): 0.091*\"чсс\" + 0.083*\"чсз\" + 0.024*\"гзд\" + 0.018*\"чсх\" + 0.017*\"приседание\" + 0.011*\"250000\" + 0.007*\"прозванивать\" + 0.007*\"поздравлять\" + 0.006*\"спланировать\" + 0.006*\"гдз\"\n",
      "2017-11-12 20:16:17,031 : INFO : topic #66 (0.010): 0.053*\"50000\" + 0.039*\"15000\" + 0.027*\"25000\" + 0.022*\"10000\" + 0.011*\"переупаковка\" + 0.008*\",\" + 0.007*\"user\" + 0.006*\"22000\" + 0.006*\"22\" + 0.006*\"20000\"\n",
      "2017-11-12 20:16:17,034 : INFO : topic #45 (0.010): 0.076*\"упаковывать\" + 0.009*\"в\" + 0.008*\"упаковка\" + 0.007*\"z\" + 0.006*\"2fpl\" + 0.006*\"столешница\" + 0.005*\"а\" + 0.005*\"2500р\" + 0.004*\"бронирование\" + 0.004*\"приболеть\"\n",
      "2017-11-12 20:16:17,038 : INFO : topic #85 (0.010): 0.018*\"разбор\" + 0.018*\"буклет\" + 0.013*\"4500\" + 0.009*\"накидать\" + 0.008*\"выходной\" + 0.008*\"телефонный\" + 0.007*\"02.03\" + 0.006*\"anyone\" + 0.005*\"тестировать\" + 0.005*\"тюнинг\"\n",
      "2017-11-12 20:16:17,043 : INFO : topic #98 (0.010): 0.023*\"чека\" + 0.016*\"ukrainian\" + 0.013*\"user\" + 0.012*\"done\" + 0.011*\"наемный\" + 0.006*\"матрас\" + 0.006*\"аванс\" + 0.005*\"устрица\" + 0.005*\"3600\" + 0.005*\"плитка\"\n",
      "2017-11-12 20:16:17,047 : INFO : topic #94 (0.010): 0.012*\"план\" + 0.010*\"сделать\" + 0.010*\"сайт\" + 0.009*\"клиент\" + 0.008*\"неделя\" + 0.008*\"руб\" + 0.008*\"000\" + 0.006*\"запускать\" + 0.006*\"встреча\" + 0.006*\"день\"\n",
      "2017-11-12 20:16:17,049 : INFO : topic #33 (0.010): 0.023*\"готовый\" + 0.022*\"мес\" + 0.010*\"000\" + 0.009*\"инсайт\" + 0.009*\"300\" + 0.008*\"600\" + 0.007*\"масло\" + 0.005*\"17000\" + 0.005*\"180\" + 0.005*\"перец\"\n",
      "2017-11-12 20:16:17,051 : INFO : topic #29 (0.010): 0.129*\"лэндинг\" + 0.023*\"флаер\" + 0.011*\"16.03\" + 0.009*\"нал\" + 0.007*\"прилагаться\" + 0.007*\"жесть\" + 0.006*\"_____________\" + 0.005*\"25d0\" + 0.005*\"икона\" + 0.005*\"цех\"\n",
      "2017-11-12 20:16:17,054 : INFO : topic #10 (0.010): 0.030*\"лендинг\" + 0.025*\"1000000\" + 0.022*\"antonkostroma\" + 0.018*\"500р\" + 0.016*\"переупаковывать\" + 0.007*\"салют\" + 0.007*\"омск\" + 0.006*\"сторителлинг\" + 0.005*\"storytelling\" + 0.005*\"05\"\n",
      "2017-11-12 20:16:17,057 : INFO : topic #22 (0.010): 0.075*\"000р\" + 0.016*\"🔥\" + 0.011*\"ср\" + 0.009*\"avito\" + 0.007*\"мойка\" + 0.006*\"эстафета\" + 0.006*\"проговаривать\" + 0.006*\"разовый\" + 0.005*\"кинжал\" + 0.004*\"480\"\n",
      "2017-11-12 20:16:17,059 : INFO : topic #9 (0.010): 0.029*\"10к\" + 0.025*\"заказчик\" + 0.013*\"риэлтор\" + 0.011*\"выборка\" + 0.010*\"_______________\" + 0.009*\"монтажный\" + 0.008*\"2023\" + 0.007*\"кристина\" + 0.006*\"4200\" + 0.006*\"продюсер\"\n",
      "2017-11-12 20:16:17,061 : INFO : topic #90 (0.010): 0.252*\"декомпозиция\" + 0.110*\"лида\" + 0.011*\"точка\" + 0.008*\"рентабельность\" + 0.007*\"5500\" + 0.006*\"______\" + 0.005*\"igra\" + 0.005*\"швея\" + 0.005*\"валовый\" + 0.004*\"инфо\"\n",
      "2017-11-12 20:16:17,064 : INFO : topic #93 (0.010): 0.010*\"____________\" + 0.010*\"нагонять\" + 0.008*\"гипотиз\" + 0.008*\"максим\" + 0.006*\"настрой\" + 0.005*\"касание\" + 0.005*\"лид\" + 0.005*\"угощать\" + 0.005*\"порывать\" + 0.004*\"разрываться\"\n",
      "2017-11-12 20:16:17,066 : INFO : topic #61 (0.010): 0.025*\"тюльпан\" + 0.013*\"203\" + 0.008*\"танцевальный\" + 0.007*\"b\" + 0.007*\"/\" + 0.007*\"вязание\" + 0.006*\"204\" + 0.006*\"рейтинговый\" + 0.006*\"dl\" + 0.006*\"купон\"\n",
      "2017-11-12 20:16:17,069 : INFO : topic #2 (0.010): 0.130*\"предоплата\" + 0.045*\"дорабатывать\" + 0.030*\"тренинг\" + 0.017*\"обьявление\" + 0.011*\"10т\" + 0.009*\"беговой\" + 0.008*\"olx\" + 0.005*\"тренажер\" + 0.005*\"продавать\" + 0.004*\"позвонить\"\n",
      "2017-11-12 20:16:17,072 : INFO : topic #5 (0.010): 0.007*\"tali72\" + 0.004*\"рок\" + 0.004*\"він\" + 0.003*\"джереть\" + 0.003*\"dsc\" + 0.003*\"____________________________\" + 0.002*\"заряжать\" + 0.002*\"дуж\" + 0.002*\"брус\" + 0.002*\"сьогодні\"\n",
      "2017-11-12 20:16:17,074 : INFO : topic #97 (0.010): 0.081*\"202017\" + 0.033*\"the\" + 0.021*\"and\" + 0.015*\"20at\" + 0.013*\"you\" + 0.008*\"91\" + 0.007*\"this\" + 0.007*\"for\" + 0.006*\"with\" + 0.006*\"that\"\n",
      "2017-11-12 20:16:17,077 : INFO : topic #73 (0.010): 0.010*\"корпоратив\" + 0.010*\"перевозить\" + 0.008*\"couple\" + 0.006*\"мотоцикл\" + 0.006*\"электрика\" + 0.005*\"1.0\" + 0.005*\"elenka\" + 0.004*\"разъезд\" + 0.003*\"густо\" + 0.003*\"news\"\n"
     ]
    },
    {
     "data": {
      "text/plain": [
       "[(4,\n",
       "  '0.013*\"юла\" + 0.010*\"бомж\" + 0.008*\"...\" + 0.006*\"настя\" + 0.006*\"отделка\" + 0.005*\"скульптура\" + 0.005*\"105\" + 0.004*\"частник\" + 0.003*\"восьмой\" + 0.003*\"скраб\"'),\n",
       " (19,\n",
       "  '0.044*\"артефакт\" + 0.021*\"28.02\" + 0.016*\"100000\" + 0.014*\"белье\" + 0.010*\"постельный\" + 0.006*\"_______\" + 0.006*\"драйв\" + 0.005*\"ворд\" + 0.005*\"балкон\" + 0.005*\"950\"'),\n",
       " (23,\n",
       "  '0.091*\"чсс\" + 0.083*\"чсз\" + 0.024*\"гзд\" + 0.018*\"чсх\" + 0.017*\"приседание\" + 0.011*\"250000\" + 0.007*\"прозванивать\" + 0.007*\"поздравлять\" + 0.006*\"спланировать\" + 0.006*\"гдз\"'),\n",
       " (66,\n",
       "  '0.053*\"50000\" + 0.039*\"15000\" + 0.027*\"25000\" + 0.022*\"10000\" + 0.011*\"переупаковка\" + 0.008*\",\" + 0.007*\"user\" + 0.006*\"22000\" + 0.006*\"22\" + 0.006*\"20000\"'),\n",
       " (45,\n",
       "  '0.076*\"упаковывать\" + 0.009*\"в\" + 0.008*\"упаковка\" + 0.007*\"z\" + 0.006*\"2fpl\" + 0.006*\"столешница\" + 0.005*\"а\" + 0.005*\"2500р\" + 0.004*\"бронирование\" + 0.004*\"приболеть\"'),\n",
       " (85,\n",
       "  '0.018*\"разбор\" + 0.018*\"буклет\" + 0.013*\"4500\" + 0.009*\"накидать\" + 0.008*\"выходной\" + 0.008*\"телефонный\" + 0.007*\"02.03\" + 0.006*\"anyone\" + 0.005*\"тестировать\" + 0.005*\"тюнинг\"'),\n",
       " (98,\n",
       "  '0.023*\"чека\" + 0.016*\"ukrainian\" + 0.013*\"user\" + 0.012*\"done\" + 0.011*\"наемный\" + 0.006*\"матрас\" + 0.006*\"аванс\" + 0.005*\"устрица\" + 0.005*\"3600\" + 0.005*\"плитка\"'),\n",
       " (94,\n",
       "  '0.012*\"план\" + 0.010*\"сделать\" + 0.010*\"сайт\" + 0.009*\"клиент\" + 0.008*\"неделя\" + 0.008*\"руб\" + 0.008*\"000\" + 0.006*\"запускать\" + 0.006*\"встреча\" + 0.006*\"день\"'),\n",
       " (33,\n",
       "  '0.023*\"готовый\" + 0.022*\"мес\" + 0.010*\"000\" + 0.009*\"инсайт\" + 0.009*\"300\" + 0.008*\"600\" + 0.007*\"масло\" + 0.005*\"17000\" + 0.005*\"180\" + 0.005*\"перец\"'),\n",
       " (29,\n",
       "  '0.129*\"лэндинг\" + 0.023*\"флаер\" + 0.011*\"16.03\" + 0.009*\"нал\" + 0.007*\"прилагаться\" + 0.007*\"жесть\" + 0.006*\"_____________\" + 0.005*\"25d0\" + 0.005*\"икона\" + 0.005*\"цех\"'),\n",
       " (10,\n",
       "  '0.030*\"лендинг\" + 0.025*\"1000000\" + 0.022*\"antonkostroma\" + 0.018*\"500р\" + 0.016*\"переупаковывать\" + 0.007*\"салют\" + 0.007*\"омск\" + 0.006*\"сторителлинг\" + 0.005*\"storytelling\" + 0.005*\"05\"'),\n",
       " (22,\n",
       "  '0.075*\"000р\" + 0.016*\"🔥\" + 0.011*\"ср\" + 0.009*\"avito\" + 0.007*\"мойка\" + 0.006*\"эстафета\" + 0.006*\"проговаривать\" + 0.006*\"разовый\" + 0.005*\"кинжал\" + 0.004*\"480\"'),\n",
       " (9,\n",
       "  '0.029*\"10к\" + 0.025*\"заказчик\" + 0.013*\"риэлтор\" + 0.011*\"выборка\" + 0.010*\"_______________\" + 0.009*\"монтажный\" + 0.008*\"2023\" + 0.007*\"кристина\" + 0.006*\"4200\" + 0.006*\"продюсер\"'),\n",
       " (90,\n",
       "  '0.252*\"декомпозиция\" + 0.110*\"лида\" + 0.011*\"точка\" + 0.008*\"рентабельность\" + 0.007*\"5500\" + 0.006*\"______\" + 0.005*\"igra\" + 0.005*\"швея\" + 0.005*\"валовый\" + 0.004*\"инфо\"'),\n",
       " (93,\n",
       "  '0.010*\"____________\" + 0.010*\"нагонять\" + 0.008*\"гипотиз\" + 0.008*\"максим\" + 0.006*\"настрой\" + 0.005*\"касание\" + 0.005*\"лид\" + 0.005*\"угощать\" + 0.005*\"порывать\" + 0.004*\"разрываться\"'),\n",
       " (61,\n",
       "  '0.025*\"тюльпан\" + 0.013*\"203\" + 0.008*\"танцевальный\" + 0.007*\"b\" + 0.007*\"/\" + 0.007*\"вязание\" + 0.006*\"204\" + 0.006*\"рейтинговый\" + 0.006*\"dl\" + 0.006*\"купон\"'),\n",
       " (2,\n",
       "  '0.130*\"предоплата\" + 0.045*\"дорабатывать\" + 0.030*\"тренинг\" + 0.017*\"обьявление\" + 0.011*\"10т\" + 0.009*\"беговой\" + 0.008*\"olx\" + 0.005*\"тренажер\" + 0.005*\"продавать\" + 0.004*\"позвонить\"'),\n",
       " (5,\n",
       "  '0.007*\"tali72\" + 0.004*\"рок\" + 0.004*\"він\" + 0.003*\"джереть\" + 0.003*\"dsc\" + 0.003*\"____________________________\" + 0.002*\"заряжать\" + 0.002*\"дуж\" + 0.002*\"брус\" + 0.002*\"сьогодні\"'),\n",
       " (97,\n",
       "  '0.081*\"202017\" + 0.033*\"the\" + 0.021*\"and\" + 0.015*\"20at\" + 0.013*\"you\" + 0.008*\"91\" + 0.007*\"this\" + 0.007*\"for\" + 0.006*\"with\" + 0.006*\"that\"'),\n",
       " (73,\n",
       "  '0.010*\"корпоратив\" + 0.010*\"перевозить\" + 0.008*\"couple\" + 0.006*\"мотоцикл\" + 0.006*\"электрика\" + 0.005*\"1.0\" + 0.005*\"elenka\" + 0.004*\"разъезд\" + 0.003*\"густо\" + 0.003*\"news\"')]"
      ]
     },
     "execution_count": 22,
     "metadata": {},
     "output_type": "execute_result"
    }
   ],
   "source": [
    "lda_golos.print_topics()"
   ]
  },
  {
   "cell_type": "code",
   "execution_count": null,
   "metadata": {},
   "outputs": [],
   "source": []
  }
 ],
 "metadata": {
  "kernelspec": {
   "display_name": "Python 3",
   "language": "python",
   "name": "python3"
  },
  "language_info": {
   "codemirror_mode": {
    "name": "ipython",
    "version": 3
   },
   "file_extension": ".py",
   "mimetype": "text/x-python",
   "name": "python",
   "nbconvert_exporter": "python",
   "pygments_lexer": "ipython3",
   "version": "3.6.3"
  }
 },
 "nbformat": 4,
 "nbformat_minor": 2
}
