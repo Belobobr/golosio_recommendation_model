{
 "metadata": {
  "name": "",
  "signature": "sha256:f9f548d7c42dda0da7ecc73678a8f0435609feaad4dceed44436ebf0fb4c1a3c"
 },
 "nbformat": 3,
 "nbformat_minor": 0,
 "worksheets": [
  {
   "cells": [
    {
     "cell_type": "code",
     "collapsed": false,
     "input": [
      "import pandas as pd\n",
      "events = pd.read_csv(\"./datasets/events_golos_io_09-23_nov_2017.csv\")"
     ],
     "language": "python",
     "metadata": {},
     "outputs": [],
     "prompt_number": 1
    },
    {
     "cell_type": "code",
     "collapsed": false,
     "input": [
      "events[\"from_post\"] = events[\"refurl\"].apply(lambda x: str(x).count('/') >= 5)"
     ],
     "language": "python",
     "metadata": {},
     "outputs": [],
     "prompt_number": 2
    },
    {
     "cell_type": "code",
     "collapsed": false,
     "input": [
      "events = events.fillna(\"nan\")\n",
      "nan_events = events[(events[\"event_type\"] == \"PageView\") & (events[\"value\"] == \"nan\") & (events[\"from_post\"])]\n",
      "nan_events[\"value\"] = nan_events[\"refurl\"]"
     ],
     "language": "python",
     "metadata": {},
     "outputs": [
      {
       "output_type": "stream",
       "stream": "stderr",
       "text": [
        "-c:3: SettingWithCopyWarning: \n",
        "A value is trying to be set on a copy of a slice from a DataFrame.\n",
        "Try using .loc[row_indexer,col_indexer] = value instead\n",
        "\n",
        "See the caveats in the documentation: http://pandas.pydata.org/pandas-docs/stable/indexing.html#indexing-view-versus-copy\n"
       ]
      }
     ],
     "prompt_number": 3
    },
    {
     "cell_type": "code",
     "collapsed": false,
     "input": [
      "events[(events[\"event_type\"] == \"PageView\") & (events[\"value\"].apply(lambda x: str(x) == \"[]\"))]"
     ],
     "language": "python",
     "metadata": {},
     "outputs": [
      {
       "html": [
        "<div style=\"max-width:1500px;overflow:auto;\">\n",
        "<style>\n",
        "    .dataframe thead tr:only-child th {\n",
        "        text-align: right;\n",
        "    }\n",
        "\n",
        "    .dataframe thead th {\n",
        "        text-align: left;\n",
        "    }\n",
        "\n",
        "    .dataframe tbody tr th {\n",
        "        vertical-align: top;\n",
        "    }\n",
        "</style>\n",
        "<table border=\"1\" class=\"dataframe\">\n",
        "  <thead>\n",
        "    <tr style=\"text-align: right;\">\n",
        "      <th></th>\n",
        "      <th>id</th>\n",
        "      <th>event_type</th>\n",
        "      <th>value</th>\n",
        "      <th>user_id</th>\n",
        "      <th>refurl</th>\n",
        "      <th>status</th>\n",
        "      <th>created_at</th>\n",
        "      <th>from_post</th>\n",
        "    </tr>\n",
        "  </thead>\n",
        "  <tbody>\n",
        "    <tr>\n",
        "      <th>1</th>\n",
        "      <td>10821837</td>\n",
        "      <td>PageView</td>\n",
        "      <td>[]</td>\n",
        "      <td>nan</td>\n",
        "      <td>https://golos.io/@dreamer</td>\n",
        "      <td>404</td>\n",
        "      <td>2017-11-09 00:00:07</td>\n",
        "      <td>False</td>\n",
        "    </tr>\n",
        "    <tr>\n",
        "      <th>2</th>\n",
        "      <td>10821839</td>\n",
        "      <td>PageView</td>\n",
        "      <td>[]</td>\n",
        "      <td>60853</td>\n",
        "      <td>https://golos.io/@good-karma</td>\n",
        "      <td>404</td>\n",
        "      <td>2017-11-09 00:00:09</td>\n",
        "      <td>False</td>\n",
        "    </tr>\n",
        "    <tr>\n",
        "      <th>4</th>\n",
        "      <td>10821841</td>\n",
        "      <td>PageView</td>\n",
        "      <td>[]</td>\n",
        "      <td>nan</td>\n",
        "      <td>https://golos.io/ru--kriptoinvestor/@aleco/kri...</td>\n",
        "      <td>404</td>\n",
        "      <td>2017-11-09 00:00:14</td>\n",
        "      <td>True</td>\n",
        "    </tr>\n",
        "    <tr>\n",
        "      <th>7</th>\n",
        "      <td>10821844</td>\n",
        "      <td>PageView</td>\n",
        "      <td>[]</td>\n",
        "      <td>nan</td>\n",
        "      <td>https://golos.io/trending</td>\n",
        "      <td>404</td>\n",
        "      <td>2017-11-09 00:00:16</td>\n",
        "      <td>False</td>\n",
        "    </tr>\n",
        "    <tr>\n",
        "      <th>8</th>\n",
        "      <td>10821845</td>\n",
        "      <td>PageView</td>\n",
        "      <td>[]</td>\n",
        "      <td>nan</td>\n",
        "      <td>https://golos.io/ru--golos/@aleco/prosto-i-dos...</td>\n",
        "      <td>404</td>\n",
        "      <td>2017-11-09 00:00:18</td>\n",
        "      <td>True</td>\n",
        "    </tr>\n",
        "    <tr>\n",
        "      <th>9</th>\n",
        "      <td>10821846</td>\n",
        "      <td>PageView</td>\n",
        "      <td>[]</td>\n",
        "      <td>nan</td>\n",
        "      <td>https://golos.io/ru--proektzhiznx/@rosy440/pro...</td>\n",
        "      <td>404</td>\n",
        "      <td>2017-11-09 00:00:18</td>\n",
        "      <td>True</td>\n",
        "    </tr>\n",
        "    <tr>\n",
        "      <th>12</th>\n",
        "      <td>10821849</td>\n",
        "      <td>PageView</td>\n",
        "      <td>[]</td>\n",
        "      <td>58158</td>\n",
        "      <td>https://golos.io/~witnesses</td>\n",
        "      <td>404</td>\n",
        "      <td>2017-11-09 00:00:25</td>\n",
        "      <td>False</td>\n",
        "    </tr>\n",
        "    <tr>\n",
        "      <th>14</th>\n",
        "      <td>10821851</td>\n",
        "      <td>PageView</td>\n",
        "      <td>[]</td>\n",
        "      <td>71343</td>\n",
        "      <td>https://golos.io/@natabelu</td>\n",
        "      <td>404</td>\n",
        "      <td>2017-11-09 00:00:26</td>\n",
        "      <td>False</td>\n",
        "    </tr>\n",
        "    <tr>\n",
        "      <th>17</th>\n",
        "      <td>10821854</td>\n",
        "      <td>PageView</td>\n",
        "      <td>[]</td>\n",
        "      <td>44072</td>\n",
        "      <td>https://golos.io/created/bounty</td>\n",
        "      <td>404</td>\n",
        "      <td>2017-11-09 00:00:35</td>\n",
        "      <td>False</td>\n",
        "    </tr>\n",
        "    <tr>\n",
        "      <th>18</th>\n",
        "      <td>10821855</td>\n",
        "      <td>PageView</td>\n",
        "      <td>[]</td>\n",
        "      <td>27366</td>\n",
        "      <td>https://golos.io/@igrinov</td>\n",
        "      <td>404</td>\n",
        "      <td>2017-11-09 00:00:37</td>\n",
        "      <td>False</td>\n",
        "    </tr>\n",
        "    <tr>\n",
        "      <th>19</th>\n",
        "      <td>10821856</td>\n",
        "      <td>PageView</td>\n",
        "      <td>[]</td>\n",
        "      <td>47865</td>\n",
        "      <td>https://golos.io/@galinakim/transfers</td>\n",
        "      <td>404</td>\n",
        "      <td>2017-11-09 00:00:37</td>\n",
        "      <td>False</td>\n",
        "    </tr>\n",
        "    <tr>\n",
        "      <th>20</th>\n",
        "      <td>10821857</td>\n",
        "      <td>PageView</td>\n",
        "      <td>[]</td>\n",
        "      <td>63852</td>\n",
        "      <td>https://golos.io/@azarovskiy</td>\n",
        "      <td>404</td>\n",
        "      <td>2017-11-09 00:00:40</td>\n",
        "      <td>False</td>\n",
        "    </tr>\n",
        "    <tr>\n",
        "      <th>21</th>\n",
        "      <td>10821858</td>\n",
        "      <td>PageView</td>\n",
        "      <td>[]</td>\n",
        "      <td>nan</td>\n",
        "      <td>https://golos.io/created</td>\n",
        "      <td>404</td>\n",
        "      <td>2017-11-09 00:00:43</td>\n",
        "      <td>False</td>\n",
        "    </tr>\n",
        "    <tr>\n",
        "      <th>22</th>\n",
        "      <td>10821860</td>\n",
        "      <td>PageView</td>\n",
        "      <td>[]</td>\n",
        "      <td>27366</td>\n",
        "      <td>https://golos.io/@igrinov/transfers</td>\n",
        "      <td>404</td>\n",
        "      <td>2017-11-09 00:00:44</td>\n",
        "      <td>False</td>\n",
        "    </tr>\n",
        "    <tr>\n",
        "      <th>23</th>\n",
        "      <td>10821861</td>\n",
        "      <td>PageView</td>\n",
        "      <td>[]</td>\n",
        "      <td>47865</td>\n",
        "      <td>https://golos.io/@galinakim</td>\n",
        "      <td>404</td>\n",
        "      <td>2017-11-09 00:00:44</td>\n",
        "      <td>False</td>\n",
        "    </tr>\n",
        "    <tr>\n",
        "      <th>24</th>\n",
        "      <td>10821862</td>\n",
        "      <td>PageView</td>\n",
        "      <td>[]</td>\n",
        "      <td>67144</td>\n",
        "      <td>https://golos.io/created</td>\n",
        "      <td>404</td>\n",
        "      <td>2017-11-09 00:00:46</td>\n",
        "      <td>False</td>\n",
        "    </tr>\n",
        "    <tr>\n",
        "      <th>25</th>\n",
        "      <td>10821863</td>\n",
        "      <td>PageView</td>\n",
        "      <td>[]</td>\n",
        "      <td>47865</td>\n",
        "      <td>https://golos.io/@vp-magic-india</td>\n",
        "      <td>404</td>\n",
        "      <td>2017-11-09 00:00:47</td>\n",
        "      <td>False</td>\n",
        "    </tr>\n",
        "    <tr>\n",
        "      <th>28</th>\n",
        "      <td>10821866</td>\n",
        "      <td>PageView</td>\n",
        "      <td>[]</td>\n",
        "      <td>30844</td>\n",
        "      <td>https://golos.io/@igorbarmotin</td>\n",
        "      <td>404</td>\n",
        "      <td>2017-11-09 00:00:51</td>\n",
        "      <td>False</td>\n",
        "    </tr>\n",
        "    <tr>\n",
        "      <th>29</th>\n",
        "      <td>10821867</td>\n",
        "      <td>PageView</td>\n",
        "      <td>[]</td>\n",
        "      <td>66383</td>\n",
        "      <td>https://golos.io/hot/</td>\n",
        "      <td>404</td>\n",
        "      <td>2017-11-09 00:00:53</td>\n",
        "      <td>False</td>\n",
        "    </tr>\n",
        "    <tr>\n",
        "      <th>30</th>\n",
        "      <td>10821868</td>\n",
        "      <td>PageView</td>\n",
        "      <td>[]</td>\n",
        "      <td>27366</td>\n",
        "      <td>https://golos.io/@igrinov</td>\n",
        "      <td>404</td>\n",
        "      <td>2017-11-09 00:00:55</td>\n",
        "      <td>False</td>\n",
        "    </tr>\n",
        "    <tr>\n",
        "      <th>31</th>\n",
        "      <td>10821869</td>\n",
        "      <td>PageView</td>\n",
        "      <td>[]</td>\n",
        "      <td>nan</td>\n",
        "      <td>https://golos.io/ru--golos-est/@volodtarasov/k...</td>\n",
        "      <td>404</td>\n",
        "      <td>2017-11-09 00:00:57</td>\n",
        "      <td>True</td>\n",
        "    </tr>\n",
        "    <tr>\n",
        "      <th>32</th>\n",
        "      <td>10821870</td>\n",
        "      <td>PageView</td>\n",
        "      <td>[]</td>\n",
        "      <td>nan</td>\n",
        "      <td>https://golos.io/@nippel66</td>\n",
        "      <td>404</td>\n",
        "      <td>2017-11-09 00:01:02</td>\n",
        "      <td>False</td>\n",
        "    </tr>\n",
        "    <tr>\n",
        "      <th>33</th>\n",
        "      <td>10821871</td>\n",
        "      <td>PageView</td>\n",
        "      <td>[]</td>\n",
        "      <td>57411</td>\n",
        "      <td>https://golos.io/@vp-pedsovet/settings</td>\n",
        "      <td>404</td>\n",
        "      <td>2017-11-09 00:01:03</td>\n",
        "      <td>False</td>\n",
        "    </tr>\n",
        "    <tr>\n",
        "      <th>34</th>\n",
        "      <td>10821872</td>\n",
        "      <td>PageView</td>\n",
        "      <td>[]</td>\n",
        "      <td>nan</td>\n",
        "      <td>https://golos.io/ru--avto/@negvesonrog/hot-rod</td>\n",
        "      <td>404</td>\n",
        "      <td>2017-11-09 00:01:04</td>\n",
        "      <td>True</td>\n",
        "    </tr>\n",
        "    <tr>\n",
        "      <th>35</th>\n",
        "      <td>10821873</td>\n",
        "      <td>PageView</td>\n",
        "      <td>[]</td>\n",
        "      <td>73351</td>\n",
        "      <td>https://golos.io/created</td>\n",
        "      <td>404</td>\n",
        "      <td>2017-11-09 00:01:05</td>\n",
        "      <td>False</td>\n",
        "    </tr>\n",
        "    <tr>\n",
        "      <th>37</th>\n",
        "      <td>10821876</td>\n",
        "      <td>PageView</td>\n",
        "      <td>[]</td>\n",
        "      <td>69375</td>\n",
        "      <td>https://golos.io/@tatyana54</td>\n",
        "      <td>404</td>\n",
        "      <td>2017-11-09 00:01:08</td>\n",
        "      <td>False</td>\n",
        "    </tr>\n",
        "    <tr>\n",
        "      <th>38</th>\n",
        "      <td>10821877</td>\n",
        "      <td>PageView</td>\n",
        "      <td>[]</td>\n",
        "      <td>nan</td>\n",
        "      <td>https://golos.io/ru--programmirovanie/@kovatel...</td>\n",
        "      <td>404</td>\n",
        "      <td>2017-11-09 00:01:12</td>\n",
        "      <td>True</td>\n",
        "    </tr>\n",
        "    <tr>\n",
        "      <th>39</th>\n",
        "      <td>10821878</td>\n",
        "      <td>PageView</td>\n",
        "      <td>[]</td>\n",
        "      <td>69331</td>\n",
        "      <td>https://golos.io/@hotrix/transfers</td>\n",
        "      <td>404</td>\n",
        "      <td>2017-11-09 00:01:13</td>\n",
        "      <td>False</td>\n",
        "    </tr>\n",
        "    <tr>\n",
        "      <th>40</th>\n",
        "      <td>10821879</td>\n",
        "      <td>PageView</td>\n",
        "      <td>[]</td>\n",
        "      <td>73351</td>\n",
        "      <td>https://golos.io/@grinya09/comments</td>\n",
        "      <td>404</td>\n",
        "      <td>2017-11-09 00:01:18</td>\n",
        "      <td>False</td>\n",
        "    </tr>\n",
        "    <tr>\n",
        "      <th>41</th>\n",
        "      <td>10821880</td>\n",
        "      <td>PageView</td>\n",
        "      <td>[]</td>\n",
        "      <td>52992</td>\n",
        "      <td>https://golos.io/photoclub/@photoclub/anons-so...</td>\n",
        "      <td>404</td>\n",
        "      <td>2017-11-09 00:01:18</td>\n",
        "      <td>True</td>\n",
        "    </tr>\n",
        "    <tr>\n",
        "      <th>...</th>\n",
        "      <td>...</td>\n",
        "      <td>...</td>\n",
        "      <td>...</td>\n",
        "      <td>...</td>\n",
        "      <td>...</td>\n",
        "      <td>...</td>\n",
        "      <td>...</td>\n",
        "      <td>...</td>\n",
        "    </tr>\n",
        "    <tr>\n",
        "      <th>1613978</th>\n",
        "      <td>12569173</td>\n",
        "      <td>PageView</td>\n",
        "      <td>[]</td>\n",
        "      <td>nan</td>\n",
        "      <td>https://golos.io/ru--kriptovalyuty/@rbrown/spo...</td>\n",
        "      <td>404</td>\n",
        "      <td>2017-11-18 12:41:19</td>\n",
        "      <td>True</td>\n",
        "    </tr>\n",
        "    <tr>\n",
        "      <th>1613979</th>\n",
        "      <td>12569174</td>\n",
        "      <td>PageView</td>\n",
        "      <td>[]</td>\n",
        "      <td>21117</td>\n",
        "      <td>https://golos.io/@dimk0</td>\n",
        "      <td>404</td>\n",
        "      <td>2017-11-18 12:41:19</td>\n",
        "      <td>False</td>\n",
        "    </tr>\n",
        "    <tr>\n",
        "      <th>1613980</th>\n",
        "      <td>12569175</td>\n",
        "      <td>PageView</td>\n",
        "      <td>[]</td>\n",
        "      <td>nan</td>\n",
        "      <td>https://golos.io/@mgaft1</td>\n",
        "      <td>404</td>\n",
        "      <td>2017-11-18 12:41:19</td>\n",
        "      <td>False</td>\n",
        "    </tr>\n",
        "    <tr>\n",
        "      <th>1613981</th>\n",
        "      <td>12569176</td>\n",
        "      <td>PageView</td>\n",
        "      <td>[]</td>\n",
        "      <td>15766</td>\n",
        "      <td>https://golos.io/@aleksraiden</td>\n",
        "      <td>404</td>\n",
        "      <td>2017-11-18 12:41:20</td>\n",
        "      <td>False</td>\n",
        "    </tr>\n",
        "    <tr>\n",
        "      <th>1613982</th>\n",
        "      <td>12569177</td>\n",
        "      <td>PageView</td>\n",
        "      <td>[]</td>\n",
        "      <td>nan</td>\n",
        "      <td>https://golos.io/ru--blokcheijn/@tristamoff/na...</td>\n",
        "      <td>404</td>\n",
        "      <td>2017-11-18 12:41:20</td>\n",
        "      <td>True</td>\n",
        "    </tr>\n",
        "    <tr>\n",
        "      <th>1613983</th>\n",
        "      <td>12569178</td>\n",
        "      <td>PageView</td>\n",
        "      <td>[]</td>\n",
        "      <td>nan</td>\n",
        "      <td>https://golos.blog/ru--nauka/@yuriy2485/malenk...</td>\n",
        "      <td>404</td>\n",
        "      <td>2017-11-18 12:41:20</td>\n",
        "      <td>True</td>\n",
        "    </tr>\n",
        "    <tr>\n",
        "      <th>1613984</th>\n",
        "      <td>12569179</td>\n",
        "      <td>PageView</td>\n",
        "      <td>[]</td>\n",
        "      <td>nan</td>\n",
        "      <td>https://golos.io/@man/followers</td>\n",
        "      <td>404</td>\n",
        "      <td>2017-11-18 12:41:20</td>\n",
        "      <td>False</td>\n",
        "    </tr>\n",
        "    <tr>\n",
        "      <th>1613986</th>\n",
        "      <td>12569181</td>\n",
        "      <td>PageView</td>\n",
        "      <td>[]</td>\n",
        "      <td>nan</td>\n",
        "      <td>https://golos.io/dentalfix/@dentalfix/kak-zapu...</td>\n",
        "      <td>404</td>\n",
        "      <td>2017-11-18 12:41:22</td>\n",
        "      <td>True</td>\n",
        "    </tr>\n",
        "    <tr>\n",
        "      <th>1613987</th>\n",
        "      <td>12569182</td>\n",
        "      <td>PageView</td>\n",
        "      <td>[]</td>\n",
        "      <td>56112</td>\n",
        "      <td>https://golos.io/@teleandr/settings</td>\n",
        "      <td>404</td>\n",
        "      <td>2017-11-18 12:41:22</td>\n",
        "      <td>False</td>\n",
        "    </tr>\n",
        "    <tr>\n",
        "      <th>1613988</th>\n",
        "      <td>12569183</td>\n",
        "      <td>PageView</td>\n",
        "      <td>[]</td>\n",
        "      <td>59074</td>\n",
        "      <td>https://golos.io/created</td>\n",
        "      <td>404</td>\n",
        "      <td>2017-11-18 12:41:23</td>\n",
        "      <td>False</td>\n",
        "    </tr>\n",
        "    <tr>\n",
        "      <th>1613989</th>\n",
        "      <td>12569184</td>\n",
        "      <td>PageView</td>\n",
        "      <td>[]</td>\n",
        "      <td>nan</td>\n",
        "      <td>https://golos.io/ru--blokcheijn/@nastrom/kakay...</td>\n",
        "      <td>404</td>\n",
        "      <td>2017-11-18 12:41:23</td>\n",
        "      <td>True</td>\n",
        "    </tr>\n",
        "    <tr>\n",
        "      <th>1613990</th>\n",
        "      <td>12569185</td>\n",
        "      <td>PageView</td>\n",
        "      <td>[]</td>\n",
        "      <td>nan</td>\n",
        "      <td>https://golos.io/@man/transfers</td>\n",
        "      <td>404</td>\n",
        "      <td>2017-11-18 12:41:23</td>\n",
        "      <td>False</td>\n",
        "    </tr>\n",
        "    <tr>\n",
        "      <th>1613991</th>\n",
        "      <td>12569186</td>\n",
        "      <td>PageView</td>\n",
        "      <td>[]</td>\n",
        "      <td>nan</td>\n",
        "      <td>https://golos.io/@man/settings</td>\n",
        "      <td>404</td>\n",
        "      <td>2017-11-18 12:41:24</td>\n",
        "      <td>False</td>\n",
        "    </tr>\n",
        "    <tr>\n",
        "      <th>1613993</th>\n",
        "      <td>12569189</td>\n",
        "      <td>PageView</td>\n",
        "      <td>[]</td>\n",
        "      <td>63418</td>\n",
        "      <td>https://golos.io/@genyakuc</td>\n",
        "      <td>404</td>\n",
        "      <td>2017-11-18 12:41:25</td>\n",
        "      <td>False</td>\n",
        "    </tr>\n",
        "    <tr>\n",
        "      <th>1613995</th>\n",
        "      <td>12569191</td>\n",
        "      <td>PageView</td>\n",
        "      <td>[]</td>\n",
        "      <td>nan</td>\n",
        "      <td>https://golos.blog/@yuriy2485/malenkie-chudesa...</td>\n",
        "      <td>404</td>\n",
        "      <td>2017-11-18 12:41:25</td>\n",
        "      <td>False</td>\n",
        "    </tr>\n",
        "    <tr>\n",
        "      <th>1613996</th>\n",
        "      <td>12569192</td>\n",
        "      <td>PageView</td>\n",
        "      <td>[]</td>\n",
        "      <td>nan</td>\n",
        "      <td>https://golos.io/@man/transfers</td>\n",
        "      <td>404</td>\n",
        "      <td>2017-11-18 12:41:26</td>\n",
        "      <td>False</td>\n",
        "    </tr>\n",
        "    <tr>\n",
        "      <th>1613997</th>\n",
        "      <td>12569193</td>\n",
        "      <td>PageView</td>\n",
        "      <td>[]</td>\n",
        "      <td>59074</td>\n",
        "      <td>https://golos.io/hot</td>\n",
        "      <td>404</td>\n",
        "      <td>2017-11-18 12:41:26</td>\n",
        "      <td>False</td>\n",
        "    </tr>\n",
        "    <tr>\n",
        "      <th>1613999</th>\n",
        "      <td>12569195</td>\n",
        "      <td>PageView</td>\n",
        "      <td>[]</td>\n",
        "      <td>nan</td>\n",
        "      <td>https://golos.io/@mgaft1/transfers</td>\n",
        "      <td>404</td>\n",
        "      <td>2017-11-18 12:41:27</td>\n",
        "      <td>False</td>\n",
        "    </tr>\n",
        "    <tr>\n",
        "      <th>1614002</th>\n",
        "      <td>12569198</td>\n",
        "      <td>PageView</td>\n",
        "      <td>[]</td>\n",
        "      <td>nan</td>\n",
        "      <td>https://golos.blog/ru--nauka/@yuriy2485/malenk...</td>\n",
        "      <td>404</td>\n",
        "      <td>2017-11-18 12:41:29</td>\n",
        "      <td>True</td>\n",
        "    </tr>\n",
        "    <tr>\n",
        "      <th>1614003</th>\n",
        "      <td>12569199</td>\n",
        "      <td>PageView</td>\n",
        "      <td>[]</td>\n",
        "      <td>71273</td>\n",
        "      <td>https://golos.io/@booster</td>\n",
        "      <td>404</td>\n",
        "      <td>2017-11-18 12:41:29</td>\n",
        "      <td>False</td>\n",
        "    </tr>\n",
        "    <tr>\n",
        "      <th>1614004</th>\n",
        "      <td>12569200</td>\n",
        "      <td>PageView</td>\n",
        "      <td>[]</td>\n",
        "      <td>nan</td>\n",
        "      <td>https://golos.io/vp-painting/@vp-painting/risu...</td>\n",
        "      <td>404</td>\n",
        "      <td>2017-11-18 12:41:29</td>\n",
        "      <td>True</td>\n",
        "    </tr>\n",
        "    <tr>\n",
        "      <th>1614006</th>\n",
        "      <td>12569202</td>\n",
        "      <td>PageView</td>\n",
        "      <td>[]</td>\n",
        "      <td>71273</td>\n",
        "      <td>https://golos.io/@booster/comments</td>\n",
        "      <td>404</td>\n",
        "      <td>2017-11-18 12:41:30</td>\n",
        "      <td>False</td>\n",
        "    </tr>\n",
        "    <tr>\n",
        "      <th>1614007</th>\n",
        "      <td>12569203</td>\n",
        "      <td>PageView</td>\n",
        "      <td>[]</td>\n",
        "      <td>73895</td>\n",
        "      <td>https://golos.blog/submit.html</td>\n",
        "      <td>404</td>\n",
        "      <td>2017-11-18 12:41:31</td>\n",
        "      <td>False</td>\n",
        "    </tr>\n",
        "    <tr>\n",
        "      <th>1614011</th>\n",
        "      <td>12569207</td>\n",
        "      <td>PageView</td>\n",
        "      <td>[]</td>\n",
        "      <td>nan</td>\n",
        "      <td>https://golos.io/blockchain/@alextoken/5avi97-...</td>\n",
        "      <td>404</td>\n",
        "      <td>2017-11-18 12:41:32</td>\n",
        "      <td>True</td>\n",
        "    </tr>\n",
        "    <tr>\n",
        "      <th>1614012</th>\n",
        "      <td>12569208</td>\n",
        "      <td>PageView</td>\n",
        "      <td>[]</td>\n",
        "      <td>14870</td>\n",
        "      <td>https://golos.io/@snaryaga</td>\n",
        "      <td>404</td>\n",
        "      <td>2017-11-18 12:41:32</td>\n",
        "      <td>False</td>\n",
        "    </tr>\n",
        "    <tr>\n",
        "      <th>1614013</th>\n",
        "      <td>12569209</td>\n",
        "      <td>PageView</td>\n",
        "      <td>[]</td>\n",
        "      <td>nan</td>\n",
        "      <td>https://golos.io/@snooze/transfers</td>\n",
        "      <td>404</td>\n",
        "      <td>2017-11-18 12:41:32</td>\n",
        "      <td>False</td>\n",
        "    </tr>\n",
        "    <tr>\n",
        "      <th>1614014</th>\n",
        "      <td>12569210</td>\n",
        "      <td>PageView</td>\n",
        "      <td>[]</td>\n",
        "      <td>21117</td>\n",
        "      <td>https://golos.io/@dimk0/recent-replies</td>\n",
        "      <td>404</td>\n",
        "      <td>2017-11-18 12:41:33</td>\n",
        "      <td>False</td>\n",
        "    </tr>\n",
        "    <tr>\n",
        "      <th>1614016</th>\n",
        "      <td>12569212</td>\n",
        "      <td>PageView</td>\n",
        "      <td>[]</td>\n",
        "      <td>nan</td>\n",
        "      <td>https://golos.blog/ru--lotereya/@golos.loto/5x...</td>\n",
        "      <td>404</td>\n",
        "      <td>2017-11-18 12:41:33</td>\n",
        "      <td>True</td>\n",
        "    </tr>\n",
        "    <tr>\n",
        "      <th>1614017</th>\n",
        "      <td>12569213</td>\n",
        "      <td>PageView</td>\n",
        "      <td>[]</td>\n",
        "      <td>14870</td>\n",
        "      <td>https://golos.io/@snaryaga/transfers</td>\n",
        "      <td>404</td>\n",
        "      <td>2017-11-18 12:41:34</td>\n",
        "      <td>False</td>\n",
        "    </tr>\n",
        "    <tr>\n",
        "      <th>1614018</th>\n",
        "      <td>12569214</td>\n",
        "      <td>PageView</td>\n",
        "      <td>[]</td>\n",
        "      <td>52046</td>\n",
        "      <td>https://golos.io/@dmilash/comment</td>\n",
        "      <td>nan</td>\n",
        "      <td>nan</td>\n",
        "      <td>False</td>\n",
        "    </tr>\n",
        "  </tbody>\n",
        "</table>\n",
        "<p>1085471 rows \u00d7 8 columns</p>\n",
        "</div>"
       ],
       "metadata": {},
       "output_type": "pyout",
       "prompt_number": 4,
       "text": [
        "               id event_type value user_id  \\\n",
        "1        10821837   PageView    []     nan   \n",
        "2        10821839   PageView    []   60853   \n",
        "4        10821841   PageView    []     nan   \n",
        "7        10821844   PageView    []     nan   \n",
        "8        10821845   PageView    []     nan   \n",
        "9        10821846   PageView    []     nan   \n",
        "12       10821849   PageView    []   58158   \n",
        "14       10821851   PageView    []   71343   \n",
        "17       10821854   PageView    []   44072   \n",
        "18       10821855   PageView    []   27366   \n",
        "19       10821856   PageView    []   47865   \n",
        "20       10821857   PageView    []   63852   \n",
        "21       10821858   PageView    []     nan   \n",
        "22       10821860   PageView    []   27366   \n",
        "23       10821861   PageView    []   47865   \n",
        "24       10821862   PageView    []   67144   \n",
        "25       10821863   PageView    []   47865   \n",
        "28       10821866   PageView    []   30844   \n",
        "29       10821867   PageView    []   66383   \n",
        "30       10821868   PageView    []   27366   \n",
        "31       10821869   PageView    []     nan   \n",
        "32       10821870   PageView    []     nan   \n",
        "33       10821871   PageView    []   57411   \n",
        "34       10821872   PageView    []     nan   \n",
        "35       10821873   PageView    []   73351   \n",
        "37       10821876   PageView    []   69375   \n",
        "38       10821877   PageView    []     nan   \n",
        "39       10821878   PageView    []   69331   \n",
        "40       10821879   PageView    []   73351   \n",
        "41       10821880   PageView    []   52992   \n",
        "...           ...        ...   ...     ...   \n",
        "1613978  12569173   PageView    []     nan   \n",
        "1613979  12569174   PageView    []   21117   \n",
        "1613980  12569175   PageView    []     nan   \n",
        "1613981  12569176   PageView    []   15766   \n",
        "1613982  12569177   PageView    []     nan   \n",
        "1613983  12569178   PageView    []     nan   \n",
        "1613984  12569179   PageView    []     nan   \n",
        "1613986  12569181   PageView    []     nan   \n",
        "1613987  12569182   PageView    []   56112   \n",
        "1613988  12569183   PageView    []   59074   \n",
        "1613989  12569184   PageView    []     nan   \n",
        "1613990  12569185   PageView    []     nan   \n",
        "1613991  12569186   PageView    []     nan   \n",
        "1613993  12569189   PageView    []   63418   \n",
        "1613995  12569191   PageView    []     nan   \n",
        "1613996  12569192   PageView    []     nan   \n",
        "1613997  12569193   PageView    []   59074   \n",
        "1613999  12569195   PageView    []     nan   \n",
        "1614002  12569198   PageView    []     nan   \n",
        "1614003  12569199   PageView    []   71273   \n",
        "1614004  12569200   PageView    []     nan   \n",
        "1614006  12569202   PageView    []   71273   \n",
        "1614007  12569203   PageView    []   73895   \n",
        "1614011  12569207   PageView    []     nan   \n",
        "1614012  12569208   PageView    []   14870   \n",
        "1614013  12569209   PageView    []     nan   \n",
        "1614014  12569210   PageView    []   21117   \n",
        "1614016  12569212   PageView    []     nan   \n",
        "1614017  12569213   PageView    []   14870   \n",
        "1614018  12569214   PageView    []   52046   \n",
        "\n",
        "                                                    refurl status  \\\n",
        "1                                https://golos.io/@dreamer    404   \n",
        "2                             https://golos.io/@good-karma    404   \n",
        "4        https://golos.io/ru--kriptoinvestor/@aleco/kri...    404   \n",
        "7                                https://golos.io/trending    404   \n",
        "8        https://golos.io/ru--golos/@aleco/prosto-i-dos...    404   \n",
        "9        https://golos.io/ru--proektzhiznx/@rosy440/pro...    404   \n",
        "12                             https://golos.io/~witnesses    404   \n",
        "14                              https://golos.io/@natabelu    404   \n",
        "17                         https://golos.io/created/bounty    404   \n",
        "18                               https://golos.io/@igrinov    404   \n",
        "19                   https://golos.io/@galinakim/transfers    404   \n",
        "20                            https://golos.io/@azarovskiy    404   \n",
        "21                                https://golos.io/created    404   \n",
        "22                     https://golos.io/@igrinov/transfers    404   \n",
        "23                             https://golos.io/@galinakim    404   \n",
        "24                                https://golos.io/created    404   \n",
        "25                        https://golos.io/@vp-magic-india    404   \n",
        "28                          https://golos.io/@igorbarmotin    404   \n",
        "29                                   https://golos.io/hot/    404   \n",
        "30                               https://golos.io/@igrinov    404   \n",
        "31       https://golos.io/ru--golos-est/@volodtarasov/k...    404   \n",
        "32                              https://golos.io/@nippel66    404   \n",
        "33                  https://golos.io/@vp-pedsovet/settings    404   \n",
        "34          https://golos.io/ru--avto/@negvesonrog/hot-rod    404   \n",
        "35                                https://golos.io/created    404   \n",
        "37                             https://golos.io/@tatyana54    404   \n",
        "38       https://golos.io/ru--programmirovanie/@kovatel...    404   \n",
        "39                      https://golos.io/@hotrix/transfers    404   \n",
        "40                     https://golos.io/@grinya09/comments    404   \n",
        "41       https://golos.io/photoclub/@photoclub/anons-so...    404   \n",
        "...                                                    ...    ...   \n",
        "1613978  https://golos.io/ru--kriptovalyuty/@rbrown/spo...    404   \n",
        "1613979                            https://golos.io/@dimk0    404   \n",
        "1613980                           https://golos.io/@mgaft1    404   \n",
        "1613981                      https://golos.io/@aleksraiden    404   \n",
        "1613982  https://golos.io/ru--blokcheijn/@tristamoff/na...    404   \n",
        "1613983  https://golos.blog/ru--nauka/@yuriy2485/malenk...    404   \n",
        "1613984                    https://golos.io/@man/followers    404   \n",
        "1613986  https://golos.io/dentalfix/@dentalfix/kak-zapu...    404   \n",
        "1613987                https://golos.io/@teleandr/settings    404   \n",
        "1613988                           https://golos.io/created    404   \n",
        "1613989  https://golos.io/ru--blokcheijn/@nastrom/kakay...    404   \n",
        "1613990                    https://golos.io/@man/transfers    404   \n",
        "1613991                     https://golos.io/@man/settings    404   \n",
        "1613993                         https://golos.io/@genyakuc    404   \n",
        "1613995  https://golos.blog/@yuriy2485/malenkie-chudesa...    404   \n",
        "1613996                    https://golos.io/@man/transfers    404   \n",
        "1613997                               https://golos.io/hot    404   \n",
        "1613999                 https://golos.io/@mgaft1/transfers    404   \n",
        "1614002  https://golos.blog/ru--nauka/@yuriy2485/malenk...    404   \n",
        "1614003                          https://golos.io/@booster    404   \n",
        "1614004  https://golos.io/vp-painting/@vp-painting/risu...    404   \n",
        "1614006                 https://golos.io/@booster/comments    404   \n",
        "1614007                     https://golos.blog/submit.html    404   \n",
        "1614011  https://golos.io/blockchain/@alextoken/5avi97-...    404   \n",
        "1614012                         https://golos.io/@snaryaga    404   \n",
        "1614013                 https://golos.io/@snooze/transfers    404   \n",
        "1614014             https://golos.io/@dimk0/recent-replies    404   \n",
        "1614016  https://golos.blog/ru--lotereya/@golos.loto/5x...    404   \n",
        "1614017               https://golos.io/@snaryaga/transfers    404   \n",
        "1614018                  https://golos.io/@dmilash/comment    nan   \n",
        "\n",
        "                  created_at  from_post  \n",
        "1        2017-11-09 00:00:07      False  \n",
        "2        2017-11-09 00:00:09      False  \n",
        "4        2017-11-09 00:00:14       True  \n",
        "7        2017-11-09 00:00:16      False  \n",
        "8        2017-11-09 00:00:18       True  \n",
        "9        2017-11-09 00:00:18       True  \n",
        "12       2017-11-09 00:00:25      False  \n",
        "14       2017-11-09 00:00:26      False  \n",
        "17       2017-11-09 00:00:35      False  \n",
        "18       2017-11-09 00:00:37      False  \n",
        "19       2017-11-09 00:00:37      False  \n",
        "20       2017-11-09 00:00:40      False  \n",
        "21       2017-11-09 00:00:43      False  \n",
        "22       2017-11-09 00:00:44      False  \n",
        "23       2017-11-09 00:00:44      False  \n",
        "24       2017-11-09 00:00:46      False  \n",
        "25       2017-11-09 00:00:47      False  \n",
        "28       2017-11-09 00:00:51      False  \n",
        "29       2017-11-09 00:00:53      False  \n",
        "30       2017-11-09 00:00:55      False  \n",
        "31       2017-11-09 00:00:57       True  \n",
        "32       2017-11-09 00:01:02      False  \n",
        "33       2017-11-09 00:01:03      False  \n",
        "34       2017-11-09 00:01:04       True  \n",
        "35       2017-11-09 00:01:05      False  \n",
        "37       2017-11-09 00:01:08      False  \n",
        "38       2017-11-09 00:01:12       True  \n",
        "39       2017-11-09 00:01:13      False  \n",
        "40       2017-11-09 00:01:18      False  \n",
        "41       2017-11-09 00:01:18       True  \n",
        "...                      ...        ...  \n",
        "1613978  2017-11-18 12:41:19       True  \n",
        "1613979  2017-11-18 12:41:19      False  \n",
        "1613980  2017-11-18 12:41:19      False  \n",
        "1613981  2017-11-18 12:41:20      False  \n",
        "1613982  2017-11-18 12:41:20       True  \n",
        "1613983  2017-11-18 12:41:20       True  \n",
        "1613984  2017-11-18 12:41:20      False  \n",
        "1613986  2017-11-18 12:41:22       True  \n",
        "1613987  2017-11-18 12:41:22      False  \n",
        "1613988  2017-11-18 12:41:23      False  \n",
        "1613989  2017-11-18 12:41:23       True  \n",
        "1613990  2017-11-18 12:41:23      False  \n",
        "1613991  2017-11-18 12:41:24      False  \n",
        "1613993  2017-11-18 12:41:25      False  \n",
        "1613995  2017-11-18 12:41:25      False  \n",
        "1613996  2017-11-18 12:41:26      False  \n",
        "1613997  2017-11-18 12:41:26      False  \n",
        "1613999  2017-11-18 12:41:27      False  \n",
        "1614002  2017-11-18 12:41:29       True  \n",
        "1614003  2017-11-18 12:41:29      False  \n",
        "1614004  2017-11-18 12:41:29       True  \n",
        "1614006  2017-11-18 12:41:30      False  \n",
        "1614007  2017-11-18 12:41:31      False  \n",
        "1614011  2017-11-18 12:41:32       True  \n",
        "1614012  2017-11-18 12:41:32      False  \n",
        "1614013  2017-11-18 12:41:32      False  \n",
        "1614014  2017-11-18 12:41:33      False  \n",
        "1614016  2017-11-18 12:41:33       True  \n",
        "1614017  2017-11-18 12:41:34      False  \n",
        "1614018                  nan      False  \n",
        "\n",
        "[1085471 rows x 8 columns]"
       ]
      }
     ],
     "prompt_number": 4
    },
    {
     "cell_type": "code",
     "collapsed": false,
     "input": [
      "events.shape"
     ],
     "language": "python",
     "metadata": {},
     "outputs": [
      {
       "metadata": {},
       "output_type": "pyout",
       "prompt_number": 5,
       "text": [
        "(1614019, 8)"
       ]
      }
     ],
     "prompt_number": 5
    },
    {
     "cell_type": "code",
     "collapsed": false,
     "input": [
      "events.head()"
     ],
     "language": "python",
     "metadata": {},
     "outputs": [
      {
       "html": [
        "<div style=\"max-width:1500px;overflow:auto;\">\n",
        "<style>\n",
        "    .dataframe thead tr:only-child th {\n",
        "        text-align: right;\n",
        "    }\n",
        "\n",
        "    .dataframe thead th {\n",
        "        text-align: left;\n",
        "    }\n",
        "\n",
        "    .dataframe tbody tr th {\n",
        "        vertical-align: top;\n",
        "    }\n",
        "</style>\n",
        "<table border=\"1\" class=\"dataframe\">\n",
        "  <thead>\n",
        "    <tr style=\"text-align: right;\">\n",
        "      <th></th>\n",
        "      <th>id</th>\n",
        "      <th>event_type</th>\n",
        "      <th>value</th>\n",
        "      <th>user_id</th>\n",
        "      <th>refurl</th>\n",
        "      <th>status</th>\n",
        "      <th>created_at</th>\n",
        "      <th>from_post</th>\n",
        "    </tr>\n",
        "  </thead>\n",
        "  <tbody>\n",
        "    <tr>\n",
        "      <th>0</th>\n",
        "      <td>10821836</td>\n",
        "      <td>Vote</td>\n",
        "      <td>@aleco/khardfork-segwit2x-priostanovlen</td>\n",
        "      <td>67144</td>\n",
        "      <td>https://golos.io/hot</td>\n",
        "      <td>404</td>\n",
        "      <td>2017-11-09 00:00:04</td>\n",
        "      <td>False</td>\n",
        "    </tr>\n",
        "    <tr>\n",
        "      <th>1</th>\n",
        "      <td>10821837</td>\n",
        "      <td>PageView</td>\n",
        "      <td>[]</td>\n",
        "      <td>nan</td>\n",
        "      <td>https://golos.io/@dreamer</td>\n",
        "      <td>404</td>\n",
        "      <td>2017-11-09 00:00:07</td>\n",
        "      <td>False</td>\n",
        "    </tr>\n",
        "    <tr>\n",
        "      <th>2</th>\n",
        "      <td>10821839</td>\n",
        "      <td>PageView</td>\n",
        "      <td>[]</td>\n",
        "      <td>60853</td>\n",
        "      <td>https://golos.io/@good-karma</td>\n",
        "      <td>404</td>\n",
        "      <td>2017-11-09 00:00:09</td>\n",
        "      <td>False</td>\n",
        "    </tr>\n",
        "    <tr>\n",
        "      <th>3</th>\n",
        "      <td>10821840</td>\n",
        "      <td>PageView</td>\n",
        "      <td>[-esteemapp/esteem-ios-v1-4-7-esteem-priglashe...</td>\n",
        "      <td>60853</td>\n",
        "      <td>https://golos.io/esteem/@esteemapp/esteem-ios-...</td>\n",
        "      <td>404</td>\n",
        "      <td>2017-11-09 00:00:11</td>\n",
        "      <td>True</td>\n",
        "    </tr>\n",
        "    <tr>\n",
        "      <th>4</th>\n",
        "      <td>10821841</td>\n",
        "      <td>PageView</td>\n",
        "      <td>[]</td>\n",
        "      <td>nan</td>\n",
        "      <td>https://golos.io/ru--kriptoinvestor/@aleco/kri...</td>\n",
        "      <td>404</td>\n",
        "      <td>2017-11-09 00:00:14</td>\n",
        "      <td>True</td>\n",
        "    </tr>\n",
        "  </tbody>\n",
        "</table>\n",
        "</div>"
       ],
       "metadata": {},
       "output_type": "pyout",
       "prompt_number": 6,
       "text": [
        "         id event_type                                              value  \\\n",
        "0  10821836       Vote            @aleco/khardfork-segwit2x-priostanovlen   \n",
        "1  10821837   PageView                                                 []   \n",
        "2  10821839   PageView                                                 []   \n",
        "3  10821840   PageView  [-esteemapp/esteem-ios-v1-4-7-esteem-priglashe...   \n",
        "4  10821841   PageView                                                 []   \n",
        "\n",
        "  user_id                                             refurl status  \\\n",
        "0   67144                               https://golos.io/hot    404   \n",
        "1     nan                          https://golos.io/@dreamer    404   \n",
        "2   60853                       https://golos.io/@good-karma    404   \n",
        "3   60853  https://golos.io/esteem/@esteemapp/esteem-ios-...    404   \n",
        "4     nan  https://golos.io/ru--kriptoinvestor/@aleco/kri...    404   \n",
        "\n",
        "            created_at  from_post  \n",
        "0  2017-11-09 00:00:04      False  \n",
        "1  2017-11-09 00:00:07      False  \n",
        "2  2017-11-09 00:00:09      False  \n",
        "3  2017-11-09 00:00:11       True  \n",
        "4  2017-11-09 00:00:14       True  "
       ]
      }
     ],
     "prompt_number": 6
    },
    {
     "cell_type": "markdown",
     "metadata": {},
     "source": [
      "\u0414\u043b\u044f \u043a\u0430\u0436\u0434\u043e\u0433\u043e \u044e\u0437\u0435\u0440\u0430\n",
      "- \u041f\u043e\u043b\u0443\u0447\u0430\u0435\u043c \u0441\u043f\u0438\u0441\u043e\u043a \u0440\u0435\u043a\u043e\u043c\u0435\u043d\u0434\u043e\u0432\u0430\u043d\u043d\u044b\u0445 \u0435\u043c\u0443 \u043f\u043e\u0441\u0442\u043e\u0432\n",
      "- \u041f\u043e\u043b\u0443\u0447\u0430\u0435\u043c \u0441\u043f\u0438\u0441\u043e\u043a \u043f\u0440\u043e\u0441\u043c\u043e\u0442\u0440\u0435\u043d\u043d\u044b\u0445 \u0438\u043c \u043f\u043e\u0441\u0442\u043e\u0432\n",
      "- \u041f\u043e\u043b\u0443\u0447\u0430\u0435\u043c \u0441\u043f\u0438\u0441\u043e\u043a \u0432\u043e\u0443\u0442\u043e\u0432\n",
      "- \u041f\u043e\u043b\u0443\u0447\u0430\u0435\u043c \u0441\u043f\u0438\u0441\u043e\u043a \u043a\u043e\u043c\u043c\u0435\u043d\u0442\u043e\u0432"
     ]
    },
    {
     "cell_type": "code",
     "collapsed": false,
     "input": [
      "def parse_array(string):\n",
      "    if string == \"[]\": \n",
      "        return []\n",
      "    string = string.replace(\"[\", \"\").replace(\"]\", \"\")\n",
      "    return string.split(\",\")"
     ],
     "language": "python",
     "metadata": {},
     "outputs": [],
     "prompt_number": 7
    },
    {
     "cell_type": "code",
     "collapsed": false,
     "input": [
      "events[\"from_same_page\"] = [str(x[\"value\"]) in str(x[\"refurl\"]) for _, x in events.iterrows()]"
     ],
     "language": "python",
     "metadata": {},
     "outputs": []
    },
    {
     "cell_type": "code",
     "collapsed": false,
     "input": [
      "users_posts = pd.DataFrame()\n",
      "recommendations = []\n",
      "views = []\n",
      "votes = []\n",
      "clear_votes = []\n",
      "comments = []\n",
      "users_number = events[\"user_id\"].unique().shape[0]\n",
      "\n",
      "for index, user in enumerate(events[\"user_id\"].unique()):\n",
      "    print(float(index / users_number) * 100, end=\"\\r\")\n",
      "    user_events = events[events[\"user_id\"] == user]\n",
      "    user_recommendations = [parse_array(x) for x in user_events[user_events[\"event_type\"] == \"PageView\"][\"value\"] if \"[\" in str(x)]\n",
      "    recommendations.append([item for sublist in user_recommendations for item in sublist])\n",
      "    views.append([x for x in user_events[user_events[\"event_type\"] == \"PageView\"][\"refurl\"] if str(x).count(\"/\") >= 5])\n",
      "    votes.append([x for x in user_events[(user_events[\"event_type\"] == \"Vote\")][\"value\"]])\n",
      "    clear_votes.append([x for x in user_events[(user_events[\"event_type\"] == \"Vote\") & (user_events[\"from_same_page\"])][\"value\"]])\n",
      "    comments.append([x for x in user_events[user_events[\"event_type\"] == \"Comment\"][\"refurl\"]])"
     ],
     "language": "python",
     "metadata": {},
     "outputs": [
      {
       "output_type": "stream",
       "stream": "stdout",
       "text": [
        "0.0\r",
        "0.016030779095864058"
       ]
      },
      {
       "output_type": "stream",
       "stream": "stdout",
       "text": [
        "\r",
        "0.032061558191728116"
       ]
      },
      {
       "output_type": "stream",
       "stream": "stdout",
       "text": [
        "\r",
        "0.04809233728759218"
       ]
      },
      {
       "output_type": "stream",
       "stream": "stdout",
       "text": [
        "\r",
        "0.06412311638345623"
       ]
      },
      {
       "output_type": "stream",
       "stream": "stdout",
       "text": [
        "\r",
        "0.0801538954793203"
       ]
      },
      {
       "output_type": "stream",
       "stream": "stdout",
       "text": [
        "\r",
        "0.09618467457518436"
       ]
      },
      {
       "output_type": "stream",
       "stream": "stdout",
       "text": [
        "\r",
        "0.11221545367104842"
       ]
      },
      {
       "output_type": "stream",
       "stream": "stdout",
       "text": [
        "\r",
        "0.12824623276691247"
       ]
      },
      {
       "output_type": "stream",
       "stream": "stdout",
       "text": [
        "\r",
        "0.14427701186277653"
       ]
      },
      {
       "output_type": "stream",
       "stream": "stdout",
       "text": [
        "\r",
        "0.1603077909586406"
       ]
      },
      {
       "output_type": "stream",
       "stream": "stdout",
       "text": [
        "\r",
        "0.17633857005450465"
       ]
      },
      {
       "output_type": "stream",
       "stream": "stdout",
       "text": [
        "\r",
        "0.1923693491503687"
       ]
      },
      {
       "output_type": "stream",
       "stream": "stdout",
       "text": [
        "\r",
        "0.20840012824623277"
       ]
      },
      {
       "output_type": "stream",
       "stream": "stdout",
       "text": [
        "\r",
        "0.22443090734209684"
       ]
      },
      {
       "output_type": "stream",
       "stream": "stdout",
       "text": [
        "\r",
        "0.24046168643796087"
       ]
      },
      {
       "output_type": "stream",
       "stream": "stdout",
       "text": [
        "\r",
        "0.25649246553382493"
       ]
      },
      {
       "output_type": "stream",
       "stream": "stdout",
       "text": [
        "\r",
        "0.272523244629689"
       ]
      },
      {
       "output_type": "stream",
       "stream": "stdout",
       "text": [
        "\r",
        "0.28855402372555305"
       ]
      },
      {
       "output_type": "stream",
       "stream": "stdout",
       "text": [
        "\r",
        "0.30458480282141714"
       ]
      },
      {
       "output_type": "stream",
       "stream": "stdout",
       "text": [
        "\r",
        "0.3206155819172812"
       ]
      },
      {
       "output_type": "stream",
       "stream": "stdout",
       "text": [
        "\r",
        "0.33664636101314527"
       ]
      },
      {
       "output_type": "stream",
       "stream": "stdout",
       "text": [
        "\r",
        "0.3526771401090093"
       ]
      },
      {
       "output_type": "stream",
       "stream": "stdout",
       "text": [
        "\r",
        "0.36870791920487334"
       ]
      },
      {
       "output_type": "stream",
       "stream": "stdout",
       "text": [
        "\r",
        "0.3847386983007374"
       ]
      },
      {
       "output_type": "stream",
       "stream": "stdout",
       "text": [
        "\r",
        "0.40076947739660146"
       ]
      },
      {
       "output_type": "stream",
       "stream": "stdout",
       "text": [
        "\r",
        "0.41680025649246555"
       ]
      },
      {
       "output_type": "stream",
       "stream": "stdout",
       "text": [
        "\r",
        "0.4328310355883296"
       ]
      },
      {
       "output_type": "stream",
       "stream": "stdout",
       "text": [
        "\r",
        "0.44886181468419367"
       ]
      },
      {
       "output_type": "stream",
       "stream": "stdout",
       "text": [
        "\r",
        "0.46489259378005765"
       ]
      },
      {
       "output_type": "stream",
       "stream": "stdout",
       "text": [
        "\r",
        "0.48092337287592174"
       ]
      },
      {
       "output_type": "stream",
       "stream": "stdout",
       "text": [
        "\r",
        "0.49695415197178583"
       ]
      },
      {
       "output_type": "stream",
       "stream": "stdout",
       "text": [
        "\r",
        "0.5129849310676499"
       ]
      },
      {
       "output_type": "stream",
       "stream": "stdout",
       "text": [
        "\r",
        "0.529015710163514"
       ]
      },
      {
       "output_type": "stream",
       "stream": "stdout",
       "text": [
        "\r",
        "0.545046489259378"
       ]
      },
      {
       "output_type": "stream",
       "stream": "stdout",
       "text": [
        "\r",
        "0.5610772683552421"
       ]
      },
      {
       "output_type": "stream",
       "stream": "stdout",
       "text": [
        "\r",
        "0.5771080474511061"
       ]
      },
      {
       "output_type": "stream",
       "stream": "stdout",
       "text": [
        "\r",
        "0.5931388265469701"
       ]
      },
      {
       "output_type": "stream",
       "stream": "stdout",
       "text": [
        "\r",
        "0.6091696056428343"
       ]
      },
      {
       "output_type": "stream",
       "stream": "stdout",
       "text": [
        "\r",
        "0.6252003847386983"
       ]
      },
      {
       "output_type": "stream",
       "stream": "stdout",
       "text": [
        "\r",
        "0.6412311638345624"
       ]
      },
      {
       "output_type": "stream",
       "stream": "stdout",
       "text": [
        "\r",
        "0.6572619429304264"
       ]
      },
      {
       "output_type": "stream",
       "stream": "stdout",
       "text": [
        "\r",
        "0.6732927220262905"
       ]
      },
      {
       "output_type": "stream",
       "stream": "stdout",
       "text": [
        "\r",
        "0.6893235011221546"
       ]
      },
      {
       "output_type": "stream",
       "stream": "stdout",
       "text": [
        "\r",
        "0.7053542802180186"
       ]
      },
      {
       "output_type": "stream",
       "stream": "stdout",
       "text": [
        "\r",
        "0.7213850593138826"
       ]
      },
      {
       "output_type": "stream",
       "stream": "stdout",
       "text": [
        "\r",
        "0.7374158384097467"
       ]
      },
      {
       "output_type": "stream",
       "stream": "stdout",
       "text": [
        "\r",
        "0.7534466175056108"
       ]
      },
      {
       "output_type": "stream",
       "stream": "stdout",
       "text": [
        "\r",
        "0.7694773966014749"
       ]
      },
      {
       "output_type": "stream",
       "stream": "stdout",
       "text": [
        "\r",
        "0.7855081756973389"
       ]
      },
      {
       "output_type": "stream",
       "stream": "stdout",
       "text": [
        "\r",
        "0.8015389547932029"
       ]
      },
      {
       "output_type": "stream",
       "stream": "stdout",
       "text": [
        "\r",
        "0.817569733889067"
       ]
      },
      {
       "output_type": "stream",
       "stream": "stdout",
       "text": [
        "\r",
        "0.8336005129849311"
       ]
      },
      {
       "output_type": "stream",
       "stream": "stdout",
       "text": [
        "\r",
        "0.8496312920807951"
       ]
      },
      {
       "output_type": "stream",
       "stream": "stdout",
       "text": [
        "\r",
        "0.8656620711766592"
       ]
      },
      {
       "output_type": "stream",
       "stream": "stdout",
       "text": [
        "\r",
        "0.8816928502725233"
       ]
      },
      {
       "output_type": "stream",
       "stream": "stdout",
       "text": [
        "\r",
        "0.8977236293683873"
       ]
      },
      {
       "output_type": "stream",
       "stream": "stdout",
       "text": [
        "\r",
        "0.9137544084642515"
       ]
      },
      {
       "output_type": "stream",
       "stream": "stdout",
       "text": [
        "\r",
        "0.9297851875601153"
       ]
      },
      {
       "output_type": "stream",
       "stream": "stdout",
       "text": [
        "\r",
        "0.9458159666559794"
       ]
      },
      {
       "output_type": "stream",
       "stream": "stdout",
       "text": [
        "\r",
        "0.9618467457518435"
       ]
      },
      {
       "output_type": "stream",
       "stream": "stdout",
       "text": [
        "\r",
        "0.9778775248477076"
       ]
      },
      {
       "output_type": "stream",
       "stream": "stdout",
       "text": [
        "\r",
        "0.9939083039435717"
       ]
      },
      {
       "output_type": "stream",
       "stream": "stdout",
       "text": [
        "\r",
        "1.0099390830394357"
       ]
      },
      {
       "output_type": "stream",
       "stream": "stdout",
       "text": [
        "\r",
        "1.0259698621352997"
       ]
      },
      {
       "output_type": "stream",
       "stream": "stdout",
       "text": [
        "\r",
        "1.042000641231164"
       ]
      },
      {
       "output_type": "stream",
       "stream": "stdout",
       "text": [
        "\r",
        "1.058031420327028"
       ]
      },
      {
       "output_type": "stream",
       "stream": "stdout",
       "text": [
        "\r",
        "1.074062199422892"
       ]
      },
      {
       "output_type": "stream",
       "stream": "stdout",
       "text": [
        "\r",
        "1.090092978518756"
       ]
      },
      {
       "output_type": "stream",
       "stream": "stdout",
       "text": [
        "\r",
        "1.10612375761462"
       ]
      },
      {
       "output_type": "stream",
       "stream": "stdout",
       "text": [
        "\r",
        "1.1221545367104842"
       ]
      },
      {
       "output_type": "stream",
       "stream": "stdout",
       "text": [
        "\r",
        "1.1381853158063482"
       ]
      },
      {
       "output_type": "stream",
       "stream": "stdout",
       "text": [
        "\r",
        "1.1542160949022122"
       ]
      },
      {
       "output_type": "stream",
       "stream": "stdout",
       "text": [
        "\r",
        "1.1702468739980763"
       ]
      },
      {
       "output_type": "stream",
       "stream": "stdout",
       "text": [
        "\r",
        "1.1862776530939403"
       ]
      },
      {
       "output_type": "stream",
       "stream": "stdout",
       "text": [
        "\r",
        "1.2023084321898045"
       ]
      },
      {
       "output_type": "stream",
       "stream": "stdout",
       "text": [
        "\r",
        "1.2183392112856686"
       ]
      },
      {
       "output_type": "stream",
       "stream": "stdout",
       "text": [
        "\r",
        "1.2343699903815326"
       ]
      },
      {
       "output_type": "stream",
       "stream": "stdout",
       "text": [
        "\r",
        "1.2504007694773966"
       ]
      },
      {
       "output_type": "stream",
       "stream": "stdout",
       "text": [
        "\r",
        "1.2664315485732607"
       ]
      },
      {
       "output_type": "stream",
       "stream": "stdout",
       "text": [
        "\r",
        "1.2824623276691247"
       ]
      },
      {
       "output_type": "stream",
       "stream": "stdout",
       "text": [
        "\r",
        "1.2984931067649887"
       ]
      },
      {
       "output_type": "stream",
       "stream": "stdout",
       "text": [
        "\r",
        "1.3145238858608528"
       ]
      },
      {
       "output_type": "stream",
       "stream": "stdout",
       "text": [
        "\r",
        "1.3305546649567168"
       ]
      },
      {
       "output_type": "stream",
       "stream": "stdout",
       "text": [
        "\r",
        "1.346585444052581"
       ]
      },
      {
       "output_type": "stream",
       "stream": "stdout",
       "text": [
        "\r",
        "1.362616223148445"
       ]
      },
      {
       "output_type": "stream",
       "stream": "stdout",
       "text": [
        "\r",
        "1.3786470022443091"
       ]
      },
      {
       "output_type": "stream",
       "stream": "stdout",
       "text": [
        "\r",
        "1.3946777813401732"
       ]
      },
      {
       "output_type": "stream",
       "stream": "stdout",
       "text": [
        "\r",
        "1.4107085604360372"
       ]
      },
      {
       "output_type": "stream",
       "stream": "stdout",
       "text": [
        "\r",
        "1.4267393395319012"
       ]
      },
      {
       "output_type": "stream",
       "stream": "stdout",
       "text": [
        "\r",
        "1.4427701186277653"
       ]
      },
      {
       "output_type": "stream",
       "stream": "stdout",
       "text": [
        "\r",
        "1.4588008977236293"
       ]
      },
      {
       "output_type": "stream",
       "stream": "stdout",
       "text": [
        "\r",
        "1.4748316768194933"
       ]
      },
      {
       "output_type": "stream",
       "stream": "stdout",
       "text": [
        "\r",
        "1.4908624559153574"
       ]
      },
      {
       "output_type": "stream",
       "stream": "stdout",
       "text": [
        "\r",
        "1.5068932350112216"
       ]
      },
      {
       "output_type": "stream",
       "stream": "stdout",
       "text": [
        "\r",
        "1.5229240141070857"
       ]
      },
      {
       "output_type": "stream",
       "stream": "stdout",
       "text": [
        "\r",
        "1.5389547932029497"
       ]
      },
      {
       "output_type": "stream",
       "stream": "stdout",
       "text": [
        "\r",
        "1.5549855722988137"
       ]
      },
      {
       "output_type": "stream",
       "stream": "stdout",
       "text": [
        "\r",
        "1.5710163513946778"
       ]
      },
      {
       "output_type": "stream",
       "stream": "stdout",
       "text": [
        "\r",
        "1.5870471304905418"
       ]
      },
      {
       "output_type": "stream",
       "stream": "stdout",
       "text": [
        "\r",
        "1.6030779095864058"
       ]
      },
      {
       "output_type": "stream",
       "stream": "stdout",
       "text": [
        "\r",
        "1.6191086886822699"
       ]
      },
      {
       "output_type": "stream",
       "stream": "stdout",
       "text": [
        "\r",
        "1.635139467778134"
       ]
      },
      {
       "output_type": "stream",
       "stream": "stdout",
       "text": [
        "\r",
        "1.6511702468739982"
       ]
      },
      {
       "output_type": "stream",
       "stream": "stdout",
       "text": [
        "\r",
        "1.6672010259698622"
       ]
      },
      {
       "output_type": "stream",
       "stream": "stdout",
       "text": [
        "\r",
        "1.6832318050657262"
       ]
      },
      {
       "output_type": "stream",
       "stream": "stdout",
       "text": [
        "\r",
        "1.6992625841615903"
       ]
      },
      {
       "output_type": "stream",
       "stream": "stdout",
       "text": [
        "\r",
        "1.7152933632574543"
       ]
      },
      {
       "output_type": "stream",
       "stream": "stdout",
       "text": [
        "\r",
        "1.7313241423533183"
       ]
      },
      {
       "output_type": "stream",
       "stream": "stdout",
       "text": [
        "\r",
        "1.7473549214491826"
       ]
      },
      {
       "output_type": "stream",
       "stream": "stdout",
       "text": [
        "\r",
        "1.7633857005450466"
       ]
      },
      {
       "output_type": "stream",
       "stream": "stdout",
       "text": [
        "\r",
        "1.7794164796409107"
       ]
      },
      {
       "output_type": "stream",
       "stream": "stdout",
       "text": [
        "\r",
        "1.7954472587367747"
       ]
      },
      {
       "output_type": "stream",
       "stream": "stdout",
       "text": [
        "\r",
        "1.8114780378326387"
       ]
      },
      {
       "output_type": "stream",
       "stream": "stdout",
       "text": [
        "\r",
        "1.827508816928503"
       ]
      },
      {
       "output_type": "stream",
       "stream": "stdout",
       "text": [
        "\r",
        "1.843539596024367"
       ]
      },
      {
       "output_type": "stream",
       "stream": "stdout",
       "text": [
        "\r",
        "1.8595703751202306"
       ]
      },
      {
       "output_type": "stream",
       "stream": "stdout",
       "text": [
        "\r",
        "1.8756011542160949"
       ]
      },
      {
       "output_type": "stream",
       "stream": "stdout",
       "text": [
        "\r",
        "1.891631933311959"
       ]
      },
      {
       "output_type": "stream",
       "stream": "stdout",
       "text": [
        "\r",
        "1.907662712407823"
       ]
      },
      {
       "output_type": "stream",
       "stream": "stdout",
       "text": [
        "\r",
        "1.923693491503687"
       ]
      },
      {
       "output_type": "stream",
       "stream": "stdout",
       "text": [
        "\r",
        "1.939724270599551"
       ]
      },
      {
       "output_type": "stream",
       "stream": "stdout",
       "text": [
        "\r",
        "1.9557550496954152"
       ]
      },
      {
       "output_type": "stream",
       "stream": "stdout",
       "text": [
        "\r",
        "1.9717858287912793"
       ]
      },
      {
       "output_type": "stream",
       "stream": "stdout",
       "text": [
        "\r",
        "1.9878166078871433"
       ]
      },
      {
       "output_type": "stream",
       "stream": "stdout",
       "text": [
        "\r",
        "2.0038473869830074"
       ]
      },
      {
       "output_type": "stream",
       "stream": "stdout",
       "text": [
        "\r",
        "2.0198781660788714"
       ]
      },
      {
       "output_type": "stream",
       "stream": "stdout",
       "text": [
        "\r",
        "2.0359089451747354"
       ]
      },
      {
       "output_type": "stream",
       "stream": "stdout",
       "text": [
        "\r",
        "2.0519397242705995"
       ]
      },
      {
       "output_type": "stream",
       "stream": "stdout",
       "text": [
        "\r",
        "2.0679705033664635"
       ]
      },
      {
       "output_type": "stream",
       "stream": "stdout",
       "text": [
        "\r",
        "2.084001282462328"
       ]
      },
      {
       "output_type": "stream",
       "stream": "stdout",
       "text": [
        "\r",
        "2.100032061558192"
       ]
      },
      {
       "output_type": "stream",
       "stream": "stdout",
       "text": [
        "\r",
        "2.116062840654056"
       ]
      },
      {
       "output_type": "stream",
       "stream": "stdout",
       "text": [
        "\r",
        "2.13209361974992"
       ]
      },
      {
       "output_type": "stream",
       "stream": "stdout",
       "text": [
        "\r",
        "2.148124398845784"
       ]
      },
      {
       "output_type": "stream",
       "stream": "stdout",
       "text": [
        "\r",
        "2.164155177941648"
       ]
      },
      {
       "output_type": "stream",
       "stream": "stdout",
       "text": [
        "\r",
        "2.180185957037512"
       ]
      },
      {
       "output_type": "stream",
       "stream": "stdout",
       "text": [
        "\r",
        "2.1962167361333758"
       ]
      },
      {
       "output_type": "stream",
       "stream": "stdout",
       "text": [
        "\r",
        "2.21224751522924"
       ]
      },
      {
       "output_type": "stream",
       "stream": "stdout",
       "text": [
        "\r",
        "2.2282782943251043"
       ]
      },
      {
       "output_type": "stream",
       "stream": "stdout",
       "text": [
        "\r",
        "2.2443090734209683"
       ]
      },
      {
       "output_type": "stream",
       "stream": "stdout",
       "text": [
        "\r",
        "2.2603398525168323"
       ]
      },
      {
       "output_type": "stream",
       "stream": "stdout",
       "text": [
        "\r",
        "2.2763706316126964"
       ]
      },
      {
       "output_type": "stream",
       "stream": "stdout",
       "text": [
        "\r",
        "2.2924014107085604"
       ]
      },
      {
       "output_type": "stream",
       "stream": "stdout",
       "text": [
        "\r",
        "2.3084321898044244"
       ]
      },
      {
       "output_type": "stream",
       "stream": "stdout",
       "text": [
        "\r",
        "2.3244629689002885"
       ]
      },
      {
       "output_type": "stream",
       "stream": "stdout",
       "text": [
        "\r",
        "2.3404937479961525"
       ]
      },
      {
       "output_type": "stream",
       "stream": "stdout",
       "text": [
        "\r",
        "2.3565245270920165"
       ]
      },
      {
       "output_type": "stream",
       "stream": "stdout",
       "text": [
        "\r",
        "2.3725553061878806"
       ]
      },
      {
       "output_type": "stream",
       "stream": "stdout",
       "text": [
        "\r",
        "2.3885860852837446"
       ]
      },
      {
       "output_type": "stream",
       "stream": "stdout",
       "text": [
        "\r",
        "2.404616864379609"
       ]
      },
      {
       "output_type": "stream",
       "stream": "stdout",
       "text": [
        "\r",
        "2.420647643475473"
       ]
      },
      {
       "output_type": "stream",
       "stream": "stdout",
       "text": [
        "\r",
        "2.436678422571337"
       ]
      },
      {
       "output_type": "stream",
       "stream": "stdout",
       "text": [
        "\r",
        "2.452709201667201"
       ]
      },
      {
       "output_type": "stream",
       "stream": "stdout",
       "text": [
        "\r",
        "2.4687399807630652"
       ]
      },
      {
       "output_type": "stream",
       "stream": "stdout",
       "text": [
        "\r",
        "2.4847707598589293"
       ]
      },
      {
       "output_type": "stream",
       "stream": "stdout",
       "text": [
        "\r",
        "2.5008015389547933"
       ]
      },
      {
       "output_type": "stream",
       "stream": "stdout",
       "text": [
        "\r",
        "2.516832318050657"
       ]
      },
      {
       "output_type": "stream",
       "stream": "stdout",
       "text": [
        "\r",
        "2.5328630971465214"
       ]
      },
      {
       "output_type": "stream",
       "stream": "stdout",
       "text": [
        "\r",
        "2.5488938762423854"
       ]
      },
      {
       "output_type": "stream",
       "stream": "stdout",
       "text": [
        "\r",
        "2.5649246553382494"
       ]
      },
      {
       "output_type": "stream",
       "stream": "stdout",
       "text": [
        "\r",
        "2.5809554344341135"
       ]
      },
      {
       "output_type": "stream",
       "stream": "stdout",
       "text": [
        "\r",
        "2.5969862135299775"
       ]
      },
      {
       "output_type": "stream",
       "stream": "stdout",
       "text": [
        "\r",
        "2.6130169926258415"
       ]
      },
      {
       "output_type": "stream",
       "stream": "stdout",
       "text": [
        "\r",
        "2.6290477717217056"
       ]
      },
      {
       "output_type": "stream",
       "stream": "stdout",
       "text": [
        "\r",
        "2.6450785508175696"
       ]
      },
      {
       "output_type": "stream",
       "stream": "stdout",
       "text": [
        "\r",
        "2.6611093299134336"
       ]
      },
      {
       "output_type": "stream",
       "stream": "stdout",
       "text": [
        "\r",
        "2.6771401090092977"
       ]
      },
      {
       "output_type": "stream",
       "stream": "stdout",
       "text": [
        "\r",
        "2.693170888105162"
       ]
      },
      {
       "output_type": "stream",
       "stream": "stdout",
       "text": [
        "\r",
        "2.709201667201026"
       ]
      },
      {
       "output_type": "stream",
       "stream": "stdout",
       "text": [
        "\r",
        "2.72523244629689"
       ]
      },
      {
       "output_type": "stream",
       "stream": "stdout",
       "text": [
        "\r",
        "2.7412632253927542"
       ]
      },
      {
       "output_type": "stream",
       "stream": "stdout",
       "text": [
        "\r",
        "2.7572940044886183"
       ]
      },
      {
       "output_type": "stream",
       "stream": "stdout",
       "text": [
        "\r",
        "2.7733247835844823"
       ]
      },
      {
       "output_type": "stream",
       "stream": "stdout",
       "text": [
        "\r",
        "2.7893555626803463"
       ]
      },
      {
       "output_type": "stream",
       "stream": "stdout",
       "text": [
        "\r",
        "2.8053863417762104"
       ]
      },
      {
       "output_type": "stream",
       "stream": "stdout",
       "text": [
        "\r",
        "2.8214171208720744"
       ]
      },
      {
       "output_type": "stream",
       "stream": "stdout",
       "text": [
        "\r",
        "2.8374478999679384"
       ]
      },
      {
       "output_type": "stream",
       "stream": "stdout",
       "text": [
        "\r",
        "2.8534786790638025"
       ]
      },
      {
       "output_type": "stream",
       "stream": "stdout",
       "text": [
        "\r",
        "2.8695094581596665"
       ]
      },
      {
       "output_type": "stream",
       "stream": "stdout",
       "text": [
        "\r",
        "2.8855402372555305"
       ]
      },
      {
       "output_type": "stream",
       "stream": "stdout",
       "text": [
        "\r",
        "2.9015710163513946"
       ]
      },
      {
       "output_type": "stream",
       "stream": "stdout",
       "text": [
        "\r",
        "2.9176017954472586"
       ]
      },
      {
       "output_type": "stream",
       "stream": "stdout",
       "text": [
        "\r",
        "2.9336325745431227"
       ]
      },
      {
       "output_type": "stream",
       "stream": "stdout",
       "text": [
        "\r",
        "2.9496633536389867"
       ]
      },
      {
       "output_type": "stream",
       "stream": "stdout",
       "text": [
        "\r",
        "2.9656941327348507"
       ]
      },
      {
       "output_type": "stream",
       "stream": "stdout",
       "text": [
        "\r",
        "2.9817249118307148"
       ]
      },
      {
       "output_type": "stream",
       "stream": "stdout",
       "text": [
        "\r",
        "2.997755690926579"
       ]
      },
      {
       "output_type": "stream",
       "stream": "stdout",
       "text": [
        "\r",
        "3.0137864700224433"
       ]
      },
      {
       "output_type": "stream",
       "stream": "stdout",
       "text": [
        "\r",
        "3.0298172491183073"
       ]
      },
      {
       "output_type": "stream",
       "stream": "stdout",
       "text": [
        "\r",
        "3.0458480282141713"
       ]
      },
      {
       "output_type": "stream",
       "stream": "stdout",
       "text": [
        "\r",
        "3.0618788073100354"
       ]
      },
      {
       "output_type": "stream",
       "stream": "stdout",
       "text": [
        "\r",
        "3.0779095864058994"
       ]
      },
      {
       "output_type": "stream",
       "stream": "stdout",
       "text": [
        "\r",
        "3.0939403655017634"
       ]
      },
      {
       "output_type": "stream",
       "stream": "stdout",
       "text": [
        "\r",
        "3.1099711445976275"
       ]
      },
      {
       "output_type": "stream",
       "stream": "stdout",
       "text": [
        "\r",
        "3.1260019236934915"
       ]
      },
      {
       "output_type": "stream",
       "stream": "stdout",
       "text": [
        "\r",
        "3.1420327027893555"
       ]
      },
      {
       "output_type": "stream",
       "stream": "stdout",
       "text": [
        "\r",
        "3.1580634818852196"
       ]
      },
      {
       "output_type": "stream",
       "stream": "stdout",
       "text": [
        "\r",
        "3.1740942609810836"
       ]
      },
      {
       "output_type": "stream",
       "stream": "stdout",
       "text": [
        "\r",
        "3.190125040076948"
       ]
      },
      {
       "output_type": "stream",
       "stream": "stdout",
       "text": [
        "\r",
        "3.2061558191728117"
       ]
      },
      {
       "output_type": "stream",
       "stream": "stdout",
       "text": [
        "\r",
        "3.222186598268676"
       ]
      },
      {
       "output_type": "stream",
       "stream": "stdout",
       "text": [
        "\r",
        "3.2382173773645397"
       ]
      },
      {
       "output_type": "stream",
       "stream": "stdout",
       "text": [
        "\r",
        "3.254248156460404"
       ]
      },
      {
       "output_type": "stream",
       "stream": "stdout",
       "text": [
        "\r",
        "3.270278935556268"
       ]
      },
      {
       "output_type": "stream",
       "stream": "stdout",
       "text": [
        "\r",
        "3.2863097146521323"
       ]
      },
      {
       "output_type": "stream",
       "stream": "stdout",
       "text": [
        "\r",
        "3.3023404937479963"
       ]
      },
      {
       "output_type": "stream",
       "stream": "stdout",
       "text": [
        "\r",
        "3.3183712728438604"
       ]
      },
      {
       "output_type": "stream",
       "stream": "stdout",
       "text": [
        "\r",
        "3.3344020519397244"
       ]
      },
      {
       "output_type": "stream",
       "stream": "stdout",
       "text": [
        "\r",
        "3.350432831035589"
       ]
      },
      {
       "output_type": "stream",
       "stream": "stdout",
       "text": [
        "\r",
        "3.3664636101314525"
       ]
      },
      {
       "output_type": "stream",
       "stream": "stdout",
       "text": [
        "\r",
        "3.382494389227316"
       ]
      },
      {
       "output_type": "stream",
       "stream": "stdout",
       "text": [
        "\r",
        "3.3985251683231805"
       ]
      },
      {
       "output_type": "stream",
       "stream": "stdout",
       "text": [
        "\r",
        "3.414555947419044"
       ]
      },
      {
       "output_type": "stream",
       "stream": "stdout",
       "text": [
        "\r",
        "3.4305867265149086"
       ]
      },
      {
       "output_type": "stream",
       "stream": "stdout",
       "text": [
        "\r",
        "3.4466175056107726"
       ]
      },
      {
       "output_type": "stream",
       "stream": "stdout",
       "text": [
        "\r",
        "3.4626482847066367"
       ]
      },
      {
       "output_type": "stream",
       "stream": "stdout",
       "text": [
        "\r",
        "3.4786790638025007"
       ]
      },
      {
       "output_type": "stream",
       "stream": "stdout",
       "text": [
        "\r",
        "3.494709842898365"
       ]
      },
      {
       "output_type": "stream",
       "stream": "stdout",
       "text": [
        "\r",
        "3.5107406219942288"
       ]
      },
      {
       "output_type": "stream",
       "stream": "stdout",
       "text": [
        "\r",
        "3.5267714010900932"
       ]
      },
      {
       "output_type": "stream",
       "stream": "stdout",
       "text": [
        "\r",
        "3.542802180185957"
       ]
      },
      {
       "output_type": "stream",
       "stream": "stdout",
       "text": [
        "\r",
        "3.5588329592818213"
       ]
      },
      {
       "output_type": "stream",
       "stream": "stdout",
       "text": [
        "\r",
        "3.574863738377685"
       ]
      },
      {
       "output_type": "stream",
       "stream": "stdout",
       "text": [
        "\r",
        "3.5908945174735494"
       ]
      },
      {
       "output_type": "stream",
       "stream": "stdout",
       "text": [
        "\r",
        "3.606925296569413"
       ]
      },
      {
       "output_type": "stream",
       "stream": "stdout",
       "text": [
        "\r",
        "3.6229560756652774"
       ]
      },
      {
       "output_type": "stream",
       "stream": "stdout",
       "text": [
        "\r",
        "3.6389868547611415"
       ]
      },
      {
       "output_type": "stream",
       "stream": "stdout",
       "text": [
        "\r",
        "3.655017633857006"
       ]
      },
      {
       "output_type": "stream",
       "stream": "stdout",
       "text": [
        "\r",
        "3.6710484129528695"
       ]
      },
      {
       "output_type": "stream",
       "stream": "stdout",
       "text": [
        "\r",
        "3.687079192048734"
       ]
      },
      {
       "output_type": "stream",
       "stream": "stdout",
       "text": [
        "\r",
        "3.7031099711445976"
       ]
      },
      {
       "output_type": "stream",
       "stream": "stdout",
       "text": [
        "\r",
        "3.719140750240461"
       ]
      },
      {
       "output_type": "stream",
       "stream": "stdout",
       "text": [
        "\r",
        "3.7351715293363257"
       ]
      },
      {
       "output_type": "stream",
       "stream": "stdout",
       "text": [
        "\r",
        "3.7512023084321897"
       ]
      },
      {
       "output_type": "stream",
       "stream": "stdout",
       "text": [
        "\r",
        "3.7672330875280537"
       ]
      },
      {
       "output_type": "stream",
       "stream": "stdout",
       "text": [
        "\r",
        "3.783263866623918"
       ]
      },
      {
       "output_type": "stream",
       "stream": "stdout",
       "text": [
        "\r",
        "3.7992946457197823"
       ]
      },
      {
       "output_type": "stream",
       "stream": "stdout",
       "text": [
        "\r",
        "3.815325424815646"
       ]
      },
      {
       "output_type": "stream",
       "stream": "stdout",
       "text": [
        "\r",
        "3.8313562039115103"
       ]
      },
      {
       "output_type": "stream",
       "stream": "stdout",
       "text": [
        "\r",
        "3.847386983007374"
       ]
      },
      {
       "output_type": "stream",
       "stream": "stdout",
       "text": [
        "\r",
        "3.8634177621032384"
       ]
      },
      {
       "output_type": "stream",
       "stream": "stdout",
       "text": [
        "\r",
        "3.879448541199102"
       ]
      },
      {
       "output_type": "stream",
       "stream": "stdout",
       "text": [
        "\r",
        "3.8954793202949665"
       ]
      },
      {
       "output_type": "stream",
       "stream": "stdout",
       "text": [
        "\r",
        "3.9115100993908305"
       ]
      },
      {
       "output_type": "stream",
       "stream": "stdout",
       "text": [
        "\r",
        "3.9275408784866945"
       ]
      },
      {
       "output_type": "stream",
       "stream": "stdout",
       "text": [
        "\r",
        "3.9435716575825586"
       ]
      },
      {
       "output_type": "stream",
       "stream": "stdout",
       "text": [
        "\r",
        "3.959602436678423"
       ]
      },
      {
       "output_type": "stream",
       "stream": "stdout",
       "text": [
        "\r",
        "3.9756332157742866"
       ]
      },
      {
       "output_type": "stream",
       "stream": "stdout",
       "text": [
        "\r",
        "3.991663994870151"
       ]
      },
      {
       "output_type": "stream",
       "stream": "stdout",
       "text": [
        "\r",
        "4.007694773966015"
       ]
      },
      {
       "output_type": "stream",
       "stream": "stdout",
       "text": [
        "\r",
        "4.023725553061879"
       ]
      },
      {
       "output_type": "stream",
       "stream": "stdout",
       "text": [
        "\r",
        "4.039756332157743"
       ]
      },
      {
       "output_type": "stream",
       "stream": "stdout",
       "text": [
        "\r",
        "4.055787111253607"
       ]
      },
      {
       "output_type": "stream",
       "stream": "stdout",
       "text": [
        "\r",
        "4.071817890349471"
       ]
      },
      {
       "output_type": "stream",
       "stream": "stdout",
       "text": [
        "\r",
        "4.087848669445335"
       ]
      },
      {
       "output_type": "stream",
       "stream": "stdout",
       "text": [
        "\r",
        "4.103879448541199"
       ]
      },
      {
       "output_type": "stream",
       "stream": "stdout",
       "text": [
        "\r",
        "4.119910227637063"
       ]
      },
      {
       "output_type": "stream",
       "stream": "stdout",
       "text": [
        "\r",
        "4.135941006732927"
       ]
      },
      {
       "output_type": "stream",
       "stream": "stdout",
       "text": [
        "\r",
        "4.151971785828791"
       ]
      },
      {
       "output_type": "stream",
       "stream": "stdout",
       "text": [
        "\r",
        "4.168002564924656"
       ]
      },
      {
       "output_type": "stream",
       "stream": "stdout",
       "text": [
        "\r",
        "4.184033344020519"
       ]
      },
      {
       "output_type": "stream",
       "stream": "stdout",
       "text": [
        "\r",
        "4.200064123116384"
       ]
      },
      {
       "output_type": "stream",
       "stream": "stdout",
       "text": [
        "\r",
        "4.216094902212247"
       ]
      },
      {
       "output_type": "stream",
       "stream": "stdout",
       "text": [
        "\r",
        "4.232125681308112"
       ]
      },
      {
       "output_type": "stream",
       "stream": "stdout",
       "text": [
        "\r",
        "4.248156460403975"
       ]
      },
      {
       "output_type": "stream",
       "stream": "stdout",
       "text": [
        "\r",
        "4.26418723949984"
       ]
      },
      {
       "output_type": "stream",
       "stream": "stdout",
       "text": [
        "\r",
        "4.280218018595703"
       ]
      },
      {
       "output_type": "stream",
       "stream": "stdout",
       "text": [
        "\r",
        "4.296248797691568"
       ]
      },
      {
       "output_type": "stream",
       "stream": "stdout",
       "text": [
        "\r",
        "4.312279576787432"
       ]
      },
      {
       "output_type": "stream",
       "stream": "stdout",
       "text": [
        "\r",
        "4.328310355883296"
       ]
      },
      {
       "output_type": "stream",
       "stream": "stdout",
       "text": [
        "\r",
        "4.34434113497916"
       ]
      },
      {
       "output_type": "stream",
       "stream": "stdout",
       "text": [
        "\r",
        "4.360371914075024"
       ]
      },
      {
       "output_type": "stream",
       "stream": "stdout",
       "text": [
        "\r",
        "4.376402693170888"
       ]
      },
      {
       "output_type": "stream",
       "stream": "stdout",
       "text": [
        "\r",
        "4.3924334722667515"
       ]
      },
      {
       "output_type": "stream",
       "stream": "stdout",
       "text": [
        "\r",
        "4.408464251362616"
       ]
      },
      {
       "output_type": "stream",
       "stream": "stdout",
       "text": [
        "\r",
        "4.42449503045848"
       ]
      },
      {
       "output_type": "stream",
       "stream": "stdout",
       "text": [
        "\r",
        "4.4405258095543445"
       ]
      },
      {
       "output_type": "stream",
       "stream": "stdout",
       "text": [
        "\r",
        "4.4565565886502085"
       ]
      },
      {
       "output_type": "stream",
       "stream": "stdout",
       "text": [
        "\r",
        "4.472587367746073"
       ]
      },
      {
       "output_type": "stream",
       "stream": "stdout",
       "text": [
        "\r",
        "4.488618146841937"
       ]
      },
      {
       "output_type": "stream",
       "stream": "stdout",
       "text": [
        "\r",
        "4.504648925937801"
       ]
      },
      {
       "output_type": "stream",
       "stream": "stdout",
       "text": [
        "\r",
        "4.520679705033665"
       ]
      },
      {
       "output_type": "stream",
       "stream": "stdout",
       "text": [
        "\r",
        "4.536710484129529"
       ]
      },
      {
       "output_type": "stream",
       "stream": "stdout",
       "text": [
        "\r",
        "4.552741263225393"
       ]
      },
      {
       "output_type": "stream",
       "stream": "stdout",
       "text": [
        "\r",
        "4.568772042321257"
       ]
      },
      {
       "output_type": "stream",
       "stream": "stdout",
       "text": [
        "\r",
        "4.584802821417121"
       ]
      },
      {
       "output_type": "stream",
       "stream": "stdout",
       "text": [
        "\r",
        "4.600833600512985"
       ]
      },
      {
       "output_type": "stream",
       "stream": "stdout",
       "text": [
        "\r",
        "4.616864379608849"
       ]
      },
      {
       "output_type": "stream",
       "stream": "stdout",
       "text": [
        "\r",
        "4.632895158704713"
       ]
      },
      {
       "output_type": "stream",
       "stream": "stdout",
       "text": [
        "\r",
        "4.648925937800577"
       ]
      },
      {
       "output_type": "stream",
       "stream": "stdout",
       "text": [
        "\r",
        "4.664956716896442"
       ]
      },
      {
       "output_type": "stream",
       "stream": "stdout",
       "text": [
        "\r",
        "4.680987495992305"
       ]
      },
      {
       "output_type": "stream",
       "stream": "stdout",
       "text": [
        "\r",
        "4.69701827508817"
       ]
      },
      {
       "output_type": "stream",
       "stream": "stdout",
       "text": [
        "\r",
        "4.713049054184033"
       ]
      },
      {
       "output_type": "stream",
       "stream": "stdout",
       "text": [
        "\r",
        "4.729079833279897"
       ]
      },
      {
       "output_type": "stream",
       "stream": "stdout",
       "text": [
        "\r",
        "4.745110612375761"
       ]
      },
      {
       "output_type": "stream",
       "stream": "stdout",
       "text": [
        "\r",
        "4.761141391471625"
       ]
      },
      {
       "output_type": "stream",
       "stream": "stdout",
       "text": [
        "\r",
        "4.777172170567489"
       ]
      },
      {
       "output_type": "stream",
       "stream": "stdout",
       "text": [
        "\r",
        "4.793202949663353"
       ]
      },
      {
       "output_type": "stream",
       "stream": "stdout",
       "text": [
        "\r",
        "4.809233728759218"
       ]
      },
      {
       "output_type": "stream",
       "stream": "stdout",
       "text": [
        "\r",
        "4.825264507855081"
       ]
      },
      {
       "output_type": "stream",
       "stream": "stdout",
       "text": [
        "\r",
        "4.841295286950946"
       ]
      },
      {
       "output_type": "stream",
       "stream": "stdout",
       "text": [
        "\r",
        "4.857326066046809"
       ]
      },
      {
       "output_type": "stream",
       "stream": "stdout",
       "text": [
        "\r",
        "4.873356845142674"
       ]
      },
      {
       "output_type": "stream",
       "stream": "stdout",
       "text": [
        "\r",
        "4.8893876242385375"
       ]
      },
      {
       "output_type": "stream",
       "stream": "stdout",
       "text": [
        "\r",
        "4.905418403334402"
       ]
      },
      {
       "output_type": "stream",
       "stream": "stdout",
       "text": [
        "\r",
        "4.921449182430266"
       ]
      },
      {
       "output_type": "stream",
       "stream": "stdout",
       "text": [
        "\r",
        "4.9374799615261304"
       ]
      },
      {
       "output_type": "stream",
       "stream": "stdout",
       "text": [
        "\r",
        "4.9535107406219945"
       ]
      },
      {
       "output_type": "stream",
       "stream": "stdout",
       "text": [
        "\r",
        "4.9695415197178585"
       ]
      },
      {
       "output_type": "stream",
       "stream": "stdout",
       "text": [
        "\r",
        "4.9855722988137225"
       ]
      },
      {
       "output_type": "stream",
       "stream": "stdout",
       "text": [
        "\r",
        "5.001603077909587"
       ]
      },
      {
       "output_type": "stream",
       "stream": "stdout",
       "text": [
        "\r",
        "5.017633857005451"
       ]
      },
      {
       "output_type": "stream",
       "stream": "stdout",
       "text": [
        "\r",
        "5.033664636101314"
       ]
      },
      {
       "output_type": "stream",
       "stream": "stdout",
       "text": [
        "\r",
        "5.049695415197179"
       ]
      },
      {
       "output_type": "stream",
       "stream": "stdout",
       "text": [
        "\r",
        "5.065726194293043"
       ]
      },
      {
       "output_type": "stream",
       "stream": "stdout",
       "text": [
        "\r",
        "5.081756973388907"
       ]
      },
      {
       "output_type": "stream",
       "stream": "stdout",
       "text": [
        "\r",
        "5.097787752484771"
       ]
      },
      {
       "output_type": "stream",
       "stream": "stdout",
       "text": [
        "\r",
        "5.113818531580635"
       ]
      },
      {
       "output_type": "stream",
       "stream": "stdout",
       "text": [
        "\r",
        "5.129849310676499"
       ]
      },
      {
       "output_type": "stream",
       "stream": "stdout",
       "text": [
        "\r",
        "5.145880089772363"
       ]
      },
      {
       "output_type": "stream",
       "stream": "stdout",
       "text": [
        "\r",
        "5.161910868868227"
       ]
      },
      {
       "output_type": "stream",
       "stream": "stdout",
       "text": [
        "\r",
        "5.177941647964091"
       ]
      },
      {
       "output_type": "stream",
       "stream": "stdout",
       "text": [
        "\r",
        "5.193972427059955"
       ]
      },
      {
       "output_type": "stream",
       "stream": "stdout",
       "text": [
        "\r",
        "5.210003206155819"
       ]
      },
      {
       "output_type": "stream",
       "stream": "stdout",
       "text": [
        "\r",
        "5.226033985251683"
       ]
      },
      {
       "output_type": "stream",
       "stream": "stdout",
       "text": [
        "\r",
        "5.242064764347547"
       ]
      },
      {
       "output_type": "stream",
       "stream": "stdout",
       "text": [
        "\r",
        "5.258095543443411"
       ]
      },
      {
       "output_type": "stream",
       "stream": "stdout",
       "text": [
        "\r",
        "5.274126322539276"
       ]
      },
      {
       "output_type": "stream",
       "stream": "stdout",
       "text": [
        "\r",
        "5.290157101635139"
       ]
      },
      {
       "output_type": "stream",
       "stream": "stdout",
       "text": [
        "\r",
        "5.306187880731004"
       ]
      },
      {
       "output_type": "stream",
       "stream": "stdout",
       "text": [
        "\r",
        "5.322218659826867"
       ]
      },
      {
       "output_type": "stream",
       "stream": "stdout",
       "text": [
        "\r",
        "5.338249438922732"
       ]
      },
      {
       "output_type": "stream",
       "stream": "stdout",
       "text": [
        "\r",
        "5.354280218018595"
       ]
      },
      {
       "output_type": "stream",
       "stream": "stdout",
       "text": [
        "\r",
        "5.370310997114459"
       ]
      },
      {
       "output_type": "stream",
       "stream": "stdout",
       "text": [
        "\r",
        "5.386341776210324"
       ]
      },
      {
       "output_type": "stream",
       "stream": "stdout",
       "text": [
        "\r",
        "5.402372555306187"
       ]
      },
      {
       "output_type": "stream",
       "stream": "stdout",
       "text": [
        "\r",
        "5.418403334402052"
       ]
      },
      {
       "output_type": "stream",
       "stream": "stdout",
       "text": [
        "\r",
        "5.4344341134979155"
       ]
      },
      {
       "output_type": "stream",
       "stream": "stdout",
       "text": [
        "\r",
        "5.45046489259378"
       ]
      },
      {
       "output_type": "stream",
       "stream": "stdout",
       "text": [
        "\r",
        "5.466495671689644"
       ]
      },
      {
       "output_type": "stream",
       "stream": "stdout",
       "text": [
        "\r",
        "5.4825264507855085"
       ]
      },
      {
       "output_type": "stream",
       "stream": "stdout",
       "text": [
        "\r",
        "5.498557229881372"
       ]
      },
      {
       "output_type": "stream",
       "stream": "stdout",
       "text": [
        "\r",
        "5.5145880089772366"
       ]
      },
      {
       "output_type": "stream",
       "stream": "stdout",
       "text": [
        "\r",
        "5.530618788073101"
       ]
      },
      {
       "output_type": "stream",
       "stream": "stdout",
       "text": [
        "\r",
        "5.546649567168965"
       ]
      },
      {
       "output_type": "stream",
       "stream": "stdout",
       "text": [
        "\r",
        "5.562680346264829"
       ]
      },
      {
       "output_type": "stream",
       "stream": "stdout",
       "text": [
        "\r",
        "5.578711125360693"
       ]
      },
      {
       "output_type": "stream",
       "stream": "stdout",
       "text": [
        "\r",
        "5.594741904456557"
       ]
      },
      {
       "output_type": "stream",
       "stream": "stdout",
       "text": [
        "\r",
        "5.610772683552421"
       ]
      },
      {
       "output_type": "stream",
       "stream": "stdout",
       "text": [
        "\r",
        "5.626803462648285"
       ]
      },
      {
       "output_type": "stream",
       "stream": "stdout",
       "text": [
        "\r",
        "5.642834241744149"
       ]
      },
      {
       "output_type": "stream",
       "stream": "stdout",
       "text": [
        "\r",
        "5.658865020840013"
       ]
      },
      {
       "output_type": "stream",
       "stream": "stdout",
       "text": [
        "\r",
        "5.674895799935877"
       ]
      },
      {
       "output_type": "stream",
       "stream": "stdout",
       "text": [
        "\r",
        "5.690926579031741"
       ]
      },
      {
       "output_type": "stream",
       "stream": "stdout",
       "text": [
        "\r",
        "5.706957358127605"
       ]
      },
      {
       "output_type": "stream",
       "stream": "stdout",
       "text": [
        "\r",
        "5.722988137223469"
       ]
      },
      {
       "output_type": "stream",
       "stream": "stdout",
       "text": [
        "\r",
        "5.739018916319333"
       ]
      },
      {
       "output_type": "stream",
       "stream": "stdout",
       "text": [
        "\r",
        "5.755049695415197"
       ]
      },
      {
       "output_type": "stream",
       "stream": "stdout",
       "text": [
        "\r",
        "5.771080474511061"
       ]
      },
      {
       "output_type": "stream",
       "stream": "stdout",
       "text": [
        "\r",
        "5.787111253606925"
       ]
      },
      {
       "output_type": "stream",
       "stream": "stdout",
       "text": [
        "\r",
        "5.803142032702789"
       ]
      },
      {
       "output_type": "stream",
       "stream": "stdout",
       "text": [
        "\r",
        "5.819172811798653"
       ]
      },
      {
       "output_type": "stream",
       "stream": "stdout",
       "text": [
        "\r",
        "5.835203590894517"
       ]
      },
      {
       "output_type": "stream",
       "stream": "stdout",
       "text": [
        "\r",
        "5.851234369990381"
       ]
      },
      {
       "output_type": "stream",
       "stream": "stdout",
       "text": [
        "\r",
        "5.867265149086245"
       ]
      },
      {
       "output_type": "stream",
       "stream": "stdout",
       "text": [
        "\r",
        "5.88329592818211"
       ]
      },
      {
       "output_type": "stream",
       "stream": "stdout",
       "text": [
        "\r",
        "5.899326707277973"
       ]
      },
      {
       "output_type": "stream",
       "stream": "stdout",
       "text": [
        "\r",
        "5.915357486373838"
       ]
      },
      {
       "output_type": "stream",
       "stream": "stdout",
       "text": [
        "\r",
        "5.931388265469701"
       ]
      },
      {
       "output_type": "stream",
       "stream": "stdout",
       "text": [
        "\r",
        "5.947419044565566"
       ]
      },
      {
       "output_type": "stream",
       "stream": "stdout",
       "text": [
        "\r",
        "5.9634498236614295"
       ]
      },
      {
       "output_type": "stream",
       "stream": "stdout",
       "text": [
        "\r",
        "5.979480602757294"
       ]
      },
      {
       "output_type": "stream",
       "stream": "stdout",
       "text": [
        "\r",
        "5.995511381853158"
       ]
      },
      {
       "output_type": "stream",
       "stream": "stdout",
       "text": [
        "\r",
        "6.0115421609490225"
       ]
      },
      {
       "output_type": "stream",
       "stream": "stdout",
       "text": [
        "\r",
        "6.0275729400448865"
       ]
      },
      {
       "output_type": "stream",
       "stream": "stdout",
       "text": [
        "\r",
        "6.04360371914075"
       ]
      },
      {
       "output_type": "stream",
       "stream": "stdout",
       "text": [
        "\r",
        "6.059634498236615"
       ]
      },
      {
       "output_type": "stream",
       "stream": "stdout",
       "text": [
        "\r",
        "6.075665277332478"
       ]
      },
      {
       "output_type": "stream",
       "stream": "stdout",
       "text": [
        "\r",
        "6.091696056428343"
       ]
      },
      {
       "output_type": "stream",
       "stream": "stdout",
       "text": [
        "\r",
        "6.107726835524206"
       ]
      },
      {
       "output_type": "stream",
       "stream": "stdout",
       "text": [
        "\r",
        "6.123757614620071"
       ]
      },
      {
       "output_type": "stream",
       "stream": "stdout",
       "text": [
        "\r",
        "6.139788393715935"
       ]
      },
      {
       "output_type": "stream",
       "stream": "stdout",
       "text": [
        "\r",
        "6.155819172811799"
       ]
      },
      {
       "output_type": "stream",
       "stream": "stdout",
       "text": [
        "\r",
        "6.171849951907663"
       ]
      },
      {
       "output_type": "stream",
       "stream": "stdout",
       "text": [
        "\r",
        "6.187880731003527"
       ]
      },
      {
       "output_type": "stream",
       "stream": "stdout",
       "text": [
        "\r",
        "6.203911510099391"
       ]
      },
      {
       "output_type": "stream",
       "stream": "stdout",
       "text": [
        "\r",
        "6.219942289195255"
       ]
      },
      {
       "output_type": "stream",
       "stream": "stdout",
       "text": [
        "\r",
        "6.235973068291119"
       ]
      },
      {
       "output_type": "stream",
       "stream": "stdout",
       "text": [
        "\r",
        "6.252003847386983"
       ]
      },
      {
       "output_type": "stream",
       "stream": "stdout",
       "text": [
        "\r",
        "6.268034626482848"
       ]
      },
      {
       "output_type": "stream",
       "stream": "stdout",
       "text": [
        "\r",
        "6.284065405578711"
       ]
      },
      {
       "output_type": "stream",
       "stream": "stdout",
       "text": [
        "\r",
        "6.300096184674575"
       ]
      },
      {
       "output_type": "stream",
       "stream": "stdout",
       "text": [
        "\r",
        "6.316126963770439"
       ]
      },
      {
       "output_type": "stream",
       "stream": "stdout",
       "text": [
        "\r",
        "6.332157742866304"
       ]
      },
      {
       "output_type": "stream",
       "stream": "stdout",
       "text": [
        "\r",
        "6.348188521962167"
       ]
      },
      {
       "output_type": "stream",
       "stream": "stdout",
       "text": [
        "\r",
        "6.364219301058031"
       ]
      },
      {
       "output_type": "stream",
       "stream": "stdout",
       "text": [
        "\r",
        "6.380250080153896"
       ]
      },
      {
       "output_type": "stream",
       "stream": "stdout",
       "text": [
        "\r",
        "6.396280859249758"
       ]
      },
      {
       "output_type": "stream",
       "stream": "stdout",
       "text": [
        "\r",
        "6.412311638345623"
       ]
      },
      {
       "output_type": "stream",
       "stream": "stdout",
       "text": [
        "\r",
        "6.428342417441487"
       ]
      },
      {
       "output_type": "stream",
       "stream": "stdout",
       "text": [
        "\r",
        "6.444373196537352"
       ]
      },
      {
       "output_type": "stream",
       "stream": "stdout",
       "text": [
        "\r",
        "6.4604039756332154"
       ]
      },
      {
       "output_type": "stream",
       "stream": "stdout",
       "text": [
        "\r",
        "6.4764347547290795"
       ]
      },
      {
       "output_type": "stream",
       "stream": "stdout",
       "text": [
        "\r",
        "6.492465533824944"
       ]
      },
      {
       "output_type": "stream",
       "stream": "stdout",
       "text": [
        "\r",
        "6.508496312920808"
       ]
      },
      {
       "output_type": "stream",
       "stream": "stdout",
       "text": [
        "\r",
        "6.524527092016672"
       ]
      },
      {
       "output_type": "stream",
       "stream": "stdout",
       "text": [
        "\r",
        "6.540557871112536"
       ]
      },
      {
       "output_type": "stream",
       "stream": "stdout",
       "text": [
        "\r",
        "6.5565886502084005"
       ]
      },
      {
       "output_type": "stream",
       "stream": "stdout",
       "text": [
        "\r",
        "6.572619429304265"
       ]
      },
      {
       "output_type": "stream",
       "stream": "stdout",
       "text": [
        "\r",
        "6.588650208400128"
       ]
      },
      {
       "output_type": "stream",
       "stream": "stdout",
       "text": [
        "\r",
        "6.604680987495993"
       ]
      },
      {
       "output_type": "stream",
       "stream": "stdout",
       "text": [
        "\r",
        "6.620711766591857"
       ]
      },
      {
       "output_type": "stream",
       "stream": "stdout",
       "text": [
        "\r",
        "6.636742545687721"
       ]
      },
      {
       "output_type": "stream",
       "stream": "stdout",
       "text": [
        "\r",
        "6.652773324783584"
       ]
      },
      {
       "output_type": "stream",
       "stream": "stdout",
       "text": [
        "\r",
        "6.668804103879449"
       ]
      },
      {
       "output_type": "stream",
       "stream": "stdout",
       "text": [
        "\r",
        "6.684834882975313"
       ]
      },
      {
       "output_type": "stream",
       "stream": "stdout",
       "text": [
        "\r",
        "6.700865662071178"
       ]
      },
      {
       "output_type": "stream",
       "stream": "stdout",
       "text": [
        "\r",
        "6.71689644116704"
       ]
      },
      {
       "output_type": "stream",
       "stream": "stdout",
       "text": [
        "\r",
        "6.732927220262905"
       ]
      },
      {
       "output_type": "stream",
       "stream": "stdout",
       "text": [
        "\r",
        "6.748957999358769"
       ]
      },
      {
       "output_type": "stream",
       "stream": "stdout",
       "text": [
        "\r",
        "6.764988778454632"
       ]
      },
      {
       "output_type": "stream",
       "stream": "stdout",
       "text": [
        "\r",
        "6.781019557550497"
       ]
      },
      {
       "output_type": "stream",
       "stream": "stdout",
       "text": [
        "\r",
        "6.797050336646361"
       ]
      },
      {
       "output_type": "stream",
       "stream": "stdout",
       "text": [
        "\r",
        "6.813081115742225"
       ]
      },
      {
       "output_type": "stream",
       "stream": "stdout",
       "text": [
        "\r",
        "6.829111894838088"
       ]
      },
      {
       "output_type": "stream",
       "stream": "stdout",
       "text": [
        "\r",
        "6.845142673933953"
       ]
      },
      {
       "output_type": "stream",
       "stream": "stdout",
       "text": [
        "\r",
        "6.861173453029817"
       ]
      },
      {
       "output_type": "stream",
       "stream": "stdout",
       "text": [
        "\r",
        "6.877204232125682"
       ]
      },
      {
       "output_type": "stream",
       "stream": "stdout",
       "text": [
        "\r",
        "6.893235011221545"
       ]
      },
      {
       "output_type": "stream",
       "stream": "stdout",
       "text": [
        "\r",
        "6.909265790317409"
       ]
      },
      {
       "output_type": "stream",
       "stream": "stdout",
       "text": [
        "\r",
        "6.925296569413273"
       ]
      },
      {
       "output_type": "stream",
       "stream": "stdout",
       "text": [
        "\r",
        "6.941327348509138"
       ]
      },
      {
       "output_type": "stream",
       "stream": "stdout",
       "text": [
        "\r",
        "6.957358127605001"
       ]
      },
      {
       "output_type": "stream",
       "stream": "stdout",
       "text": [
        "\r",
        "6.973388906700865"
       ]
      },
      {
       "output_type": "stream",
       "stream": "stdout",
       "text": [
        "\r",
        "6.98941968579673"
       ]
      },
      {
       "output_type": "stream",
       "stream": "stdout",
       "text": [
        "\r",
        "7.005450464892594"
       ]
      },
      {
       "output_type": "stream",
       "stream": "stdout",
       "text": [
        "\r",
        "7.0214812439884575"
       ]
      },
      {
       "output_type": "stream",
       "stream": "stdout",
       "text": [
        "\r",
        "7.0375120230843216"
       ]
      },
      {
       "output_type": "stream",
       "stream": "stdout",
       "text": [
        "\r",
        "7.0535428021801865"
       ]
      },
      {
       "output_type": "stream",
       "stream": "stdout",
       "text": [
        "\r",
        "7.06957358127605"
       ]
      },
      {
       "output_type": "stream",
       "stream": "stdout",
       "text": [
        "\r",
        "7.085604360371914"
       ]
      },
      {
       "output_type": "stream",
       "stream": "stdout",
       "text": [
        "\r",
        "7.101635139467779"
       ]
      },
      {
       "output_type": "stream",
       "stream": "stdout",
       "text": [
        "\r",
        "7.117665918563643"
       ]
      },
      {
       "output_type": "stream",
       "stream": "stdout",
       "text": [
        "\r",
        "7.133696697659506"
       ]
      },
      {
       "output_type": "stream",
       "stream": "stdout",
       "text": [
        "\r",
        "7.14972747675537"
       ]
      },
      {
       "output_type": "stream",
       "stream": "stdout",
       "text": [
        "\r",
        "7.165758255851235"
       ]
      },
      {
       "output_type": "stream",
       "stream": "stdout",
       "text": [
        "\r",
        "7.181789034947099"
       ]
      },
      {
       "output_type": "stream",
       "stream": "stdout",
       "text": [
        "\r",
        "7.197819814042962"
       ]
      },
      {
       "output_type": "stream",
       "stream": "stdout",
       "text": [
        "\r",
        "7.213850593138826"
       ]
      },
      {
       "output_type": "stream",
       "stream": "stdout",
       "text": [
        "\r",
        "7.229881372234691"
       ]
      },
      {
       "output_type": "stream",
       "stream": "stdout",
       "text": [
        "\r",
        "7.245912151330555"
       ]
      },
      {
       "output_type": "stream",
       "stream": "stdout",
       "text": [
        "\r",
        "7.261942930426418"
       ]
      },
      {
       "output_type": "stream",
       "stream": "stdout",
       "text": [
        "\r",
        "7.277973709522283"
       ]
      },
      {
       "output_type": "stream",
       "stream": "stdout",
       "text": [
        "\r",
        "7.294004488618147"
       ]
      },
      {
       "output_type": "stream",
       "stream": "stdout",
       "text": [
        "\r",
        "7.310035267714012"
       ]
      },
      {
       "output_type": "stream",
       "stream": "stdout",
       "text": [
        "\r",
        "7.326066046809874"
       ]
      },
      {
       "output_type": "stream",
       "stream": "stdout",
       "text": [
        "\r",
        "7.342096825905739"
       ]
      },
      {
       "output_type": "stream",
       "stream": "stdout",
       "text": [
        "\r",
        "7.358127605001603"
       ]
      },
      {
       "output_type": "stream",
       "stream": "stdout",
       "text": [
        "\r",
        "7.374158384097468"
       ]
      },
      {
       "output_type": "stream",
       "stream": "stdout",
       "text": [
        "\r",
        "7.390189163193331"
       ]
      },
      {
       "output_type": "stream",
       "stream": "stdout",
       "text": [
        "\r",
        "7.406219942289195"
       ]
      },
      {
       "output_type": "stream",
       "stream": "stdout",
       "text": [
        "\r",
        "7.42225072138506"
       ]
      },
      {
       "output_type": "stream",
       "stream": "stdout",
       "text": [
        "\r",
        "7.438281500480922"
       ]
      },
      {
       "output_type": "stream",
       "stream": "stdout",
       "text": [
        "\r",
        "7.454312279576787"
       ]
      },
      {
       "output_type": "stream",
       "stream": "stdout",
       "text": [
        "\r",
        "7.470343058672651"
       ]
      },
      {
       "output_type": "stream",
       "stream": "stdout",
       "text": [
        "\r",
        "7.486373837768516"
       ]
      },
      {
       "output_type": "stream",
       "stream": "stdout",
       "text": [
        "\r",
        "7.502404616864379"
       ]
      },
      {
       "output_type": "stream",
       "stream": "stdout",
       "text": [
        "\r",
        "7.5184353959602435"
       ]
      },
      {
       "output_type": "stream",
       "stream": "stdout",
       "text": [
        "\r",
        "7.5344661750561075"
       ]
      },
      {
       "output_type": "stream",
       "stream": "stdout",
       "text": [
        "\r",
        "7.550496954151972"
       ]
      },
      {
       "output_type": "stream",
       "stream": "stdout",
       "text": [
        "\r",
        "7.566527733247836"
       ]
      },
      {
       "output_type": "stream",
       "stream": "stdout",
       "text": [
        "\r",
        "7.5825585123437"
       ]
      },
      {
       "output_type": "stream",
       "stream": "stdout",
       "text": [
        "\r",
        "7.5985892914395645"
       ]
      },
      {
       "output_type": "stream",
       "stream": "stdout",
       "text": [
        "\r",
        "7.6146200705354286"
       ]
      },
      {
       "output_type": "stream",
       "stream": "stdout",
       "text": [
        "\r",
        "7.630650849631292"
       ]
      },
      {
       "output_type": "stream",
       "stream": "stdout",
       "text": [
        "\r",
        "7.646681628727156"
       ]
      },
      {
       "output_type": "stream",
       "stream": "stdout",
       "text": [
        "\r",
        "7.662712407823021"
       ]
      },
      {
       "output_type": "stream",
       "stream": "stdout",
       "text": [
        "\r",
        "7.678743186918885"
       ]
      },
      {
       "output_type": "stream",
       "stream": "stdout",
       "text": [
        "\r",
        "7.694773966014748"
       ]
      },
      {
       "output_type": "stream",
       "stream": "stdout",
       "text": [
        "\r",
        "7.710804745110613"
       ]
      },
      {
       "output_type": "stream",
       "stream": "stdout",
       "text": [
        "\r",
        "7.726835524206477"
       ]
      },
      {
       "output_type": "stream",
       "stream": "stdout",
       "text": [
        "\r",
        "7.74286630330234"
       ]
      },
      {
       "output_type": "stream",
       "stream": "stdout",
       "text": [
        "\r",
        "7.758897082398204"
       ]
      },
      {
       "output_type": "stream",
       "stream": "stdout",
       "text": [
        "\r",
        "7.774927861494069"
       ]
      },
      {
       "output_type": "stream",
       "stream": "stdout",
       "text": [
        "\r",
        "7.790958640589933"
       ]
      },
      {
       "output_type": "stream",
       "stream": "stdout",
       "text": [
        "\r",
        "7.806989419685796"
       ]
      },
      {
       "output_type": "stream",
       "stream": "stdout",
       "text": [
        "\r",
        "7.823020198781661"
       ]
      },
      {
       "output_type": "stream",
       "stream": "stdout",
       "text": [
        "\r",
        "7.839050977877525"
       ]
      },
      {
       "output_type": "stream",
       "stream": "stdout",
       "text": [
        "\r",
        "7.855081756973389"
       ]
      },
      {
       "output_type": "stream",
       "stream": "stdout",
       "text": [
        "\r",
        "7.871112536069252"
       ]
      },
      {
       "output_type": "stream",
       "stream": "stdout",
       "text": [
        "\r",
        "7.887143315165117"
       ]
      },
      {
       "output_type": "stream",
       "stream": "stdout",
       "text": [
        "\r",
        "7.903174094260981"
       ]
      },
      {
       "output_type": "stream",
       "stream": "stdout",
       "text": [
        "\r",
        "7.919204873356846"
       ]
      },
      {
       "output_type": "stream",
       "stream": "stdout",
       "text": [
        "\r",
        "7.935235652452708"
       ]
      },
      {
       "output_type": "stream",
       "stream": "stdout",
       "text": [
        "\r",
        "7.951266431548573"
       ]
      },
      {
       "output_type": "stream",
       "stream": "stdout",
       "text": [
        "\r",
        "7.967297210644437"
       ]
      },
      {
       "output_type": "stream",
       "stream": "stdout",
       "text": [
        "\r",
        "7.983327989740302"
       ]
      },
      {
       "output_type": "stream",
       "stream": "stdout",
       "text": [
        "\r",
        "7.999358768836165"
       ]
      },
      {
       "output_type": "stream",
       "stream": "stdout",
       "text": [
        "\r",
        "8.01538954793203"
       ]
      },
      {
       "output_type": "stream",
       "stream": "stdout",
       "text": [
        "\r",
        "8.031420327027893"
       ]
      },
      {
       "output_type": "stream",
       "stream": "stdout",
       "text": [
        "\r",
        "8.047451106123757"
       ]
      },
      {
       "output_type": "stream",
       "stream": "stdout",
       "text": [
        "\r",
        "8.063481885219622"
       ]
      },
      {
       "output_type": "stream",
       "stream": "stdout",
       "text": [
        "\r",
        "8.079512664315486"
       ]
      },
      {
       "output_type": "stream",
       "stream": "stdout",
       "text": [
        "\r",
        "8.09554344341135"
       ]
      },
      {
       "output_type": "stream",
       "stream": "stdout",
       "text": [
        "\r",
        "8.111574222507214"
       ]
      },
      {
       "output_type": "stream",
       "stream": "stdout",
       "text": [
        "\r",
        "8.127605001603078"
       ]
      },
      {
       "output_type": "stream",
       "stream": "stdout",
       "text": [
        "\r",
        "8.143635780698942"
       ]
      },
      {
       "output_type": "stream",
       "stream": "stdout",
       "text": [
        "\r",
        "8.159666559794806"
       ]
      },
      {
       "output_type": "stream",
       "stream": "stdout",
       "text": [
        "\r",
        "8.17569733889067"
       ]
      },
      {
       "output_type": "stream",
       "stream": "stdout",
       "text": [
        "\r",
        "8.191728117986534"
       ]
      },
      {
       "output_type": "stream",
       "stream": "stdout",
       "text": [
        "\r",
        "8.207758897082398"
       ]
      },
      {
       "output_type": "stream",
       "stream": "stdout",
       "text": [
        "\r",
        "8.223789676178264"
       ]
      },
      {
       "output_type": "stream",
       "stream": "stdout",
       "text": [
        "\r",
        "8.239820455274126"
       ]
      },
      {
       "output_type": "stream",
       "stream": "stdout",
       "text": [
        "\r",
        "8.25585123436999"
       ]
      },
      {
       "output_type": "stream",
       "stream": "stdout",
       "text": [
        "\r",
        "8.271882013465854"
       ]
      },
      {
       "output_type": "stream",
       "stream": "stdout",
       "text": [
        "\r",
        "8.28791279256172"
       ]
      },
      {
       "output_type": "stream",
       "stream": "stdout",
       "text": [
        "\r",
        "8.303943571657582"
       ]
      },
      {
       "output_type": "stream",
       "stream": "stdout",
       "text": [
        "\r",
        "8.319974350753446"
       ]
      },
      {
       "output_type": "stream",
       "stream": "stdout",
       "text": [
        "\r",
        "8.336005129849312"
       ]
      },
      {
       "output_type": "stream",
       "stream": "stdout",
       "text": [
        "\r",
        "8.352035908945176"
       ]
      },
      {
       "output_type": "stream",
       "stream": "stdout",
       "text": [
        "\r",
        "8.368066688041038"
       ]
      },
      {
       "output_type": "stream",
       "stream": "stdout",
       "text": [
        "\r",
        "8.384097467136902"
       ]
      },
      {
       "output_type": "stream",
       "stream": "stdout",
       "text": [
        "\r",
        "8.400128246232768"
       ]
      },
      {
       "output_type": "stream",
       "stream": "stdout",
       "text": [
        "\r",
        "8.41615902532863"
       ]
      },
      {
       "output_type": "stream",
       "stream": "stdout",
       "text": [
        "\r",
        "8.432189804424494"
       ]
      },
      {
       "output_type": "stream",
       "stream": "stdout",
       "text": [
        "\r",
        "8.448220583520358"
       ]
      },
      {
       "output_type": "stream",
       "stream": "stdout",
       "text": [
        "\r",
        "8.464251362616224"
       ]
      },
      {
       "output_type": "stream",
       "stream": "stdout",
       "text": [
        "\r",
        "8.480282141712086"
       ]
      },
      {
       "output_type": "stream",
       "stream": "stdout",
       "text": [
        "\r",
        "8.49631292080795"
       ]
      },
      {
       "output_type": "stream",
       "stream": "stdout",
       "text": [
        "\r",
        "8.512343699903816"
       ]
      },
      {
       "output_type": "stream",
       "stream": "stdout",
       "text": [
        "\r",
        "8.52837447899968"
       ]
      },
      {
       "output_type": "stream",
       "stream": "stdout",
       "text": [
        "\r",
        "8.544405258095543"
       ]
      },
      {
       "output_type": "stream",
       "stream": "stdout",
       "text": [
        "\r",
        "8.560436037191407"
       ]
      },
      {
       "output_type": "stream",
       "stream": "stdout",
       "text": [
        "\r",
        "8.576466816287272"
       ]
      },
      {
       "output_type": "stream",
       "stream": "stdout",
       "text": [
        "\r",
        "8.592497595383136"
       ]
      },
      {
       "output_type": "stream",
       "stream": "stdout",
       "text": [
        "\r",
        "8.608528374478999"
       ]
      },
      {
       "output_type": "stream",
       "stream": "stdout",
       "text": [
        "\r",
        "8.624559153574864"
       ]
      },
      {
       "output_type": "stream",
       "stream": "stdout",
       "text": [
        "\r",
        "8.640589932670729"
       ]
      },
      {
       "output_type": "stream",
       "stream": "stdout",
       "text": [
        "\r",
        "8.656620711766593"
       ]
      },
      {
       "output_type": "stream",
       "stream": "stdout",
       "text": [
        "\r",
        "8.672651490862455"
       ]
      },
      {
       "output_type": "stream",
       "stream": "stdout",
       "text": [
        "\r",
        "8.68868226995832"
       ]
      },
      {
       "output_type": "stream",
       "stream": "stdout",
       "text": [
        "\r",
        "8.704713049054185"
       ]
      },
      {
       "output_type": "stream",
       "stream": "stdout",
       "text": [
        "\r",
        "8.720743828150049"
       ]
      },
      {
       "output_type": "stream",
       "stream": "stdout",
       "text": [
        "\r",
        "8.736774607245913"
       ]
      },
      {
       "output_type": "stream",
       "stream": "stdout",
       "text": [
        "\r",
        "8.752805386341777"
       ]
      },
      {
       "output_type": "stream",
       "stream": "stdout",
       "text": [
        "\r",
        "8.76883616543764"
       ]
      },
      {
       "output_type": "stream",
       "stream": "stdout",
       "text": [
        "\r",
        "8.784866944533503"
       ]
      },
      {
       "output_type": "stream",
       "stream": "stdout",
       "text": [
        "\r",
        "8.800897723629369"
       ]
      },
      {
       "output_type": "stream",
       "stream": "stdout",
       "text": [
        "\r",
        "8.816928502725233"
       ]
      },
      {
       "output_type": "stream",
       "stream": "stdout",
       "text": [
        "\r",
        "8.832959281821097"
       ]
      },
      {
       "output_type": "stream",
       "stream": "stdout",
       "text": [
        "\r",
        "8.84899006091696"
       ]
      },
      {
       "output_type": "stream",
       "stream": "stdout",
       "text": [
        "\r",
        "8.865020840012825"
       ]
      },
      {
       "output_type": "stream",
       "stream": "stdout",
       "text": [
        "\r",
        "8.881051619108689"
       ]
      },
      {
       "output_type": "stream",
       "stream": "stdout",
       "text": [
        "\r",
        "8.897082398204553"
       ]
      },
      {
       "output_type": "stream",
       "stream": "stdout",
       "text": [
        "\r",
        "8.913113177300417"
       ]
      },
      {
       "output_type": "stream",
       "stream": "stdout",
       "text": [
        "\r",
        "8.929143956396281"
       ]
      },
      {
       "output_type": "stream",
       "stream": "stdout",
       "text": [
        "\r",
        "8.945174735492145"
       ]
      },
      {
       "output_type": "stream",
       "stream": "stdout",
       "text": [
        "\r",
        "8.96120551458801"
       ]
      },
      {
       "output_type": "stream",
       "stream": "stdout",
       "text": [
        "\r",
        "8.977236293683873"
       ]
      },
      {
       "output_type": "stream",
       "stream": "stdout",
       "text": [
        "\r",
        "8.993267072779737"
       ]
      },
      {
       "output_type": "stream",
       "stream": "stdout",
       "text": [
        "\r",
        "9.009297851875601"
       ]
      },
      {
       "output_type": "stream",
       "stream": "stdout",
       "text": [
        "\r",
        "9.025328630971465"
       ]
      },
      {
       "output_type": "stream",
       "stream": "stdout",
       "text": [
        "\r",
        "9.04135941006733"
       ]
      },
      {
       "output_type": "stream",
       "stream": "stdout",
       "text": [
        "\r",
        "9.057390189163193"
       ]
      },
      {
       "output_type": "stream",
       "stream": "stdout",
       "text": [
        "\r",
        "9.073420968259057"
       ]
      },
      {
       "output_type": "stream",
       "stream": "stdout",
       "text": [
        "\r",
        "9.089451747354921"
       ]
      },
      {
       "output_type": "stream",
       "stream": "stdout",
       "text": [
        "\r",
        "9.105482526450785"
       ]
      },
      {
       "output_type": "stream",
       "stream": "stdout",
       "text": [
        "\r",
        "9.12151330554665"
       ]
      },
      {
       "output_type": "stream",
       "stream": "stdout",
       "text": [
        "\r",
        "9.137544084642514"
       ]
      },
      {
       "output_type": "stream",
       "stream": "stdout",
       "text": [
        "\r",
        "9.153574863738378"
       ]
      },
      {
       "output_type": "stream",
       "stream": "stdout",
       "text": [
        "\r",
        "9.169605642834242"
       ]
      },
      {
       "output_type": "stream",
       "stream": "stdout",
       "text": [
        "\r",
        "9.185636421930106"
       ]
      },
      {
       "output_type": "stream",
       "stream": "stdout",
       "text": [
        "\r",
        "9.20166720102597"
       ]
      },
      {
       "output_type": "stream",
       "stream": "stdout",
       "text": [
        "\r",
        "9.217697980121834"
       ]
      },
      {
       "output_type": "stream",
       "stream": "stdout",
       "text": [
        "\r",
        "9.233728759217698"
       ]
      },
      {
       "output_type": "stream",
       "stream": "stdout",
       "text": [
        "\r",
        "9.249759538313562"
       ]
      },
      {
       "output_type": "stream",
       "stream": "stdout",
       "text": [
        "\r",
        "9.265790317409426"
       ]
      },
      {
       "output_type": "stream",
       "stream": "stdout",
       "text": [
        "\r",
        "9.28182109650529"
       ]
      },
      {
       "output_type": "stream",
       "stream": "stdout",
       "text": [
        "\r",
        "9.297851875601154"
       ]
      },
      {
       "output_type": "stream",
       "stream": "stdout",
       "text": [
        "\r",
        "9.313882654697018"
       ]
      },
      {
       "output_type": "stream",
       "stream": "stdout",
       "text": [
        "\r",
        "9.329913433792884"
       ]
      },
      {
       "output_type": "stream",
       "stream": "stdout",
       "text": [
        "\r",
        "9.345944212888746"
       ]
      },
      {
       "output_type": "stream",
       "stream": "stdout",
       "text": [
        "\r",
        "9.36197499198461"
       ]
      },
      {
       "output_type": "stream",
       "stream": "stdout",
       "text": [
        "\r",
        "9.378005771080474"
       ]
      },
      {
       "output_type": "stream",
       "stream": "stdout",
       "text": [
        "\r",
        "9.39403655017634"
       ]
      },
      {
       "output_type": "stream",
       "stream": "stdout",
       "text": [
        "\r",
        "9.410067329272202"
       ]
      },
      {
       "output_type": "stream",
       "stream": "stdout",
       "text": [
        "\r",
        "9.426098108368066"
       ]
      },
      {
       "output_type": "stream",
       "stream": "stdout",
       "text": [
        "\r",
        "9.442128887463932"
       ]
      },
      {
       "output_type": "stream",
       "stream": "stdout",
       "text": [
        "\r",
        "9.458159666559794"
       ]
      },
      {
       "output_type": "stream",
       "stream": "stdout",
       "text": [
        "\r",
        "9.474190445655658"
       ]
      },
      {
       "output_type": "stream",
       "stream": "stdout",
       "text": [
        "\r",
        "9.490221224751522"
       ]
      },
      {
       "output_type": "stream",
       "stream": "stdout",
       "text": [
        "\r",
        "9.506252003847388"
       ]
      },
      {
       "output_type": "stream",
       "stream": "stdout",
       "text": [
        "\r",
        "9.52228278294325"
       ]
      },
      {
       "output_type": "stream",
       "stream": "stdout",
       "text": [
        "\r",
        "9.538313562039114"
       ]
      },
      {
       "output_type": "stream",
       "stream": "stdout",
       "text": [
        "\r",
        "9.554344341134978"
       ]
      },
      {
       "output_type": "stream",
       "stream": "stdout",
       "text": [
        "\r",
        "9.570375120230844"
       ]
      },
      {
       "output_type": "stream",
       "stream": "stdout",
       "text": [
        "\r",
        "9.586405899326707"
       ]
      },
      {
       "output_type": "stream",
       "stream": "stdout",
       "text": [
        "\r",
        "9.60243667842257"
       ]
      },
      {
       "output_type": "stream",
       "stream": "stdout",
       "text": [
        "\r",
        "9.618467457518436"
       ]
      },
      {
       "output_type": "stream",
       "stream": "stdout",
       "text": [
        "\r",
        "9.6344982366143"
       ]
      },
      {
       "output_type": "stream",
       "stream": "stdout",
       "text": [
        "\r",
        "9.650529015710163"
       ]
      },
      {
       "output_type": "stream",
       "stream": "stdout",
       "text": [
        "\r",
        "9.666559794806027"
       ]
      },
      {
       "output_type": "stream",
       "stream": "stdout",
       "text": [
        "\r",
        "9.682590573901892"
       ]
      },
      {
       "output_type": "stream",
       "stream": "stdout",
       "text": [
        "\r",
        "9.698621352997757"
       ]
      },
      {
       "output_type": "stream",
       "stream": "stdout",
       "text": [
        "\r",
        "9.714652132093619"
       ]
      },
      {
       "output_type": "stream",
       "stream": "stdout",
       "text": [
        "\r",
        "9.730682911189485"
       ]
      },
      {
       "output_type": "stream",
       "stream": "stdout",
       "text": [
        "\r",
        "9.746713690285349"
       ]
      },
      {
       "output_type": "stream",
       "stream": "stdout",
       "text": [
        "\r",
        "9.76274446938121"
       ]
      },
      {
       "output_type": "stream",
       "stream": "stdout",
       "text": [
        "\r",
        "9.778775248477075"
       ]
      },
      {
       "output_type": "stream",
       "stream": "stdout",
       "text": [
        "\r",
        "9.79480602757294"
       ]
      },
      {
       "output_type": "stream",
       "stream": "stdout",
       "text": [
        "\r",
        "9.810836806668805"
       ]
      },
      {
       "output_type": "stream",
       "stream": "stdout",
       "text": [
        "\r",
        "9.826867585764667"
       ]
      },
      {
       "output_type": "stream",
       "stream": "stdout",
       "text": [
        "\r",
        "9.842898364860533"
       ]
      },
      {
       "output_type": "stream",
       "stream": "stdout",
       "text": [
        "\r",
        "9.858929143956397"
       ]
      },
      {
       "output_type": "stream",
       "stream": "stdout",
       "text": [
        "\r",
        "9.874959923052261"
       ]
      },
      {
       "output_type": "stream",
       "stream": "stdout",
       "text": [
        "\r",
        "9.890990702148123"
       ]
      },
      {
       "output_type": "stream",
       "stream": "stdout",
       "text": [
        "\r",
        "9.907021481243989"
       ]
      },
      {
       "output_type": "stream",
       "stream": "stdout",
       "text": [
        "\r",
        "9.923052260339853"
       ]
      },
      {
       "output_type": "stream",
       "stream": "stdout",
       "text": [
        "\r",
        "9.939083039435717"
       ]
      },
      {
       "output_type": "stream",
       "stream": "stdout",
       "text": [
        "\r",
        "9.95511381853158"
       ]
      },
      {
       "output_type": "stream",
       "stream": "stdout",
       "text": [
        "\r",
        "9.971144597627445"
       ]
      },
      {
       "output_type": "stream",
       "stream": "stdout",
       "text": [
        "\r",
        "9.98717537672331"
       ]
      },
      {
       "output_type": "stream",
       "stream": "stdout",
       "text": [
        "\r",
        "10.003206155819173"
       ]
      },
      {
       "output_type": "stream",
       "stream": "stdout",
       "text": [
        "\r",
        "10.019236934915037"
       ]
      },
      {
       "output_type": "stream",
       "stream": "stdout",
       "text": [
        "\r",
        "10.035267714010901"
       ]
      },
      {
       "output_type": "stream",
       "stream": "stdout",
       "text": [
        "\r",
        "10.051298493106765"
       ]
      },
      {
       "output_type": "stream",
       "stream": "stdout",
       "text": [
        "\r",
        "10.067329272202628"
       ]
      },
      {
       "output_type": "stream",
       "stream": "stdout",
       "text": [
        "\r",
        "10.083360051298493"
       ]
      },
      {
       "output_type": "stream",
       "stream": "stdout",
       "text": [
        "\r",
        "10.099390830394357"
       ]
      },
      {
       "output_type": "stream",
       "stream": "stdout",
       "text": [
        "\r",
        "10.115421609490221"
       ]
      },
      {
       "output_type": "stream",
       "stream": "stdout",
       "text": [
        "\r",
        "10.131452388586085"
       ]
      },
      {
       "output_type": "stream",
       "stream": "stdout",
       "text": [
        "\r",
        "10.14748316768195"
       ]
      },
      {
       "output_type": "stream",
       "stream": "stdout",
       "text": [
        "\r",
        "10.163513946777814"
       ]
      },
      {
       "output_type": "stream",
       "stream": "stdout",
       "text": [
        "\r",
        "10.179544725873678"
       ]
      },
      {
       "output_type": "stream",
       "stream": "stdout",
       "text": [
        "\r",
        "10.195575504969542"
       ]
      },
      {
       "output_type": "stream",
       "stream": "stdout",
       "text": [
        "\r",
        "10.211606284065406"
       ]
      },
      {
       "output_type": "stream",
       "stream": "stdout",
       "text": [
        "\r",
        "10.22763706316127"
       ]
      },
      {
       "output_type": "stream",
       "stream": "stdout",
       "text": [
        "\r",
        "10.243667842257134"
       ]
      },
      {
       "output_type": "stream",
       "stream": "stdout",
       "text": [
        "\r",
        "10.259698621352998"
       ]
      },
      {
       "output_type": "stream",
       "stream": "stdout",
       "text": [
        "\r",
        "10.275729400448862"
       ]
      },
      {
       "output_type": "stream",
       "stream": "stdout",
       "text": [
        "\r",
        "10.291760179544726"
       ]
      },
      {
       "output_type": "stream",
       "stream": "stdout",
       "text": [
        "\r",
        "10.30779095864059"
       ]
      },
      {
       "output_type": "stream",
       "stream": "stdout",
       "text": [
        "\r",
        "10.323821737736454"
       ]
      },
      {
       "output_type": "stream",
       "stream": "stdout",
       "text": [
        "\r",
        "10.339852516832318"
       ]
      },
      {
       "output_type": "stream",
       "stream": "stdout",
       "text": [
        "\r",
        "10.355883295928182"
       ]
      },
      {
       "output_type": "stream",
       "stream": "stdout",
       "text": [
        "\r",
        "10.371914075024048"
       ]
      },
      {
       "output_type": "stream",
       "stream": "stdout",
       "text": [
        "\r",
        "10.38794485411991"
       ]
      },
      {
       "output_type": "stream",
       "stream": "stdout",
       "text": [
        "\r",
        "10.403975633215774"
       ]
      },
      {
       "output_type": "stream",
       "stream": "stdout",
       "text": [
        "\r",
        "10.420006412311638"
       ]
      },
      {
       "output_type": "stream",
       "stream": "stdout",
       "text": [
        "\r",
        "10.436037191407502"
       ]
      },
      {
       "output_type": "stream",
       "stream": "stdout",
       "text": [
        "\r",
        "10.452067970503366"
       ]
      },
      {
       "output_type": "stream",
       "stream": "stdout",
       "text": [
        "\r",
        "10.46809874959923"
       ]
      },
      {
       "output_type": "stream",
       "stream": "stdout",
       "text": [
        "\r",
        "10.484129528695094"
       ]
      },
      {
       "output_type": "stream",
       "stream": "stdout",
       "text": [
        "\r",
        "10.500160307790958"
       ]
      },
      {
       "output_type": "stream",
       "stream": "stdout",
       "text": [
        "\r",
        "10.516191086886822"
       ]
      },
      {
       "output_type": "stream",
       "stream": "stdout",
       "text": [
        "\r",
        "10.532221865982686"
       ]
      },
      {
       "output_type": "stream",
       "stream": "stdout",
       "text": [
        "\r",
        "10.548252645078552"
       ]
      },
      {
       "output_type": "stream",
       "stream": "stdout",
       "text": [
        "\r",
        "10.564283424174414"
       ]
      },
      {
       "output_type": "stream",
       "stream": "stdout",
       "text": [
        "\r",
        "10.580314203270278"
       ]
      },
      {
       "output_type": "stream",
       "stream": "stdout",
       "text": [
        "\r",
        "10.596344982366142"
       ]
      },
      {
       "output_type": "stream",
       "stream": "stdout",
       "text": [
        "\r",
        "10.612375761462008"
       ]
      },
      {
       "output_type": "stream",
       "stream": "stdout",
       "text": [
        "\r",
        "10.62840654055787"
       ]
      },
      {
       "output_type": "stream",
       "stream": "stdout",
       "text": [
        "\r",
        "10.644437319653735"
       ]
      },
      {
       "output_type": "stream",
       "stream": "stdout",
       "text": [
        "\r",
        "10.6604680987496"
       ]
      },
      {
       "output_type": "stream",
       "stream": "stdout",
       "text": [
        "\r",
        "10.676498877845464"
       ]
      },
      {
       "output_type": "stream",
       "stream": "stdout",
       "text": [
        "\r",
        "10.692529656941327"
       ]
      },
      {
       "output_type": "stream",
       "stream": "stdout",
       "text": [
        "\r",
        "10.70856043603719"
       ]
      },
      {
       "output_type": "stream",
       "stream": "stdout",
       "text": [
        "\r",
        "10.724591215133056"
       ]
      },
      {
       "output_type": "stream",
       "stream": "stdout",
       "text": [
        "\r",
        "10.740621994228919"
       ]
      },
      {
       "output_type": "stream",
       "stream": "stdout",
       "text": [
        "\r",
        "10.756652773324783"
       ]
      },
      {
       "output_type": "stream",
       "stream": "stdout",
       "text": [
        "\r",
        "10.772683552420649"
       ]
      },
      {
       "output_type": "stream",
       "stream": "stdout",
       "text": [
        "\r",
        "10.788714331516513"
       ]
      },
      {
       "output_type": "stream",
       "stream": "stdout",
       "text": [
        "\r",
        "10.804745110612375"
       ]
      },
      {
       "output_type": "stream",
       "stream": "stdout",
       "text": [
        "\r",
        "10.820775889708239"
       ]
      },
      {
       "output_type": "stream",
       "stream": "stdout",
       "text": [
        "\r",
        "10.836806668804105"
       ]
      },
      {
       "output_type": "stream",
       "stream": "stdout",
       "text": [
        "\r",
        "10.852837447899969"
       ]
      },
      {
       "output_type": "stream",
       "stream": "stdout",
       "text": [
        "\r",
        "10.868868226995831"
       ]
      },
      {
       "output_type": "stream",
       "stream": "stdout",
       "text": [
        "\r",
        "10.884899006091695"
       ]
      },
      {
       "output_type": "stream",
       "stream": "stdout",
       "text": [
        "\r",
        "10.90092978518756"
       ]
      },
      {
       "output_type": "stream",
       "stream": "stdout",
       "text": [
        "\r",
        "10.916960564283425"
       ]
      },
      {
       "output_type": "stream",
       "stream": "stdout",
       "text": [
        "\r",
        "10.932991343379287"
       ]
      },
      {
       "output_type": "stream",
       "stream": "stdout",
       "text": [
        "\r",
        "10.949022122475153"
       ]
      },
      {
       "output_type": "stream",
       "stream": "stdout",
       "text": [
        "\r",
        "10.965052901571017"
       ]
      },
      {
       "output_type": "stream",
       "stream": "stdout",
       "text": [
        "\r",
        "10.981083680666881"
       ]
      },
      {
       "output_type": "stream",
       "stream": "stdout",
       "text": [
        "\r",
        "10.997114459762743"
       ]
      },
      {
       "output_type": "stream",
       "stream": "stdout",
       "text": [
        "\r",
        "11.013145238858609"
       ]
      },
      {
       "output_type": "stream",
       "stream": "stdout",
       "text": [
        "\r",
        "11.029176017954473"
       ]
      },
      {
       "output_type": "stream",
       "stream": "stdout",
       "text": [
        "\r",
        "11.045206797050337"
       ]
      },
      {
       "output_type": "stream",
       "stream": "stdout",
       "text": [
        "\r",
        "11.061237576146201"
       ]
      },
      {
       "output_type": "stream",
       "stream": "stdout",
       "text": [
        "\r",
        "11.077268355242065"
       ]
      },
      {
       "output_type": "stream",
       "stream": "stdout",
       "text": [
        "\r",
        "11.09329913433793"
       ]
      },
      {
       "output_type": "stream",
       "stream": "stdout",
       "text": [
        "\r",
        "11.109329913433792"
       ]
      },
      {
       "output_type": "stream",
       "stream": "stdout",
       "text": [
        "\r",
        "11.125360692529657"
       ]
      },
      {
       "output_type": "stream",
       "stream": "stdout",
       "text": [
        "\r",
        "11.141391471625521"
       ]
      },
      {
       "output_type": "stream",
       "stream": "stdout",
       "text": [
        "\r",
        "11.157422250721385"
       ]
      },
      {
       "output_type": "stream",
       "stream": "stdout",
       "text": [
        "\r",
        "11.17345302981725"
       ]
      },
      {
       "output_type": "stream",
       "stream": "stdout",
       "text": [
        "\r",
        "11.189483808913113"
       ]
      },
      {
       "output_type": "stream",
       "stream": "stdout",
       "text": [
        "\r",
        "11.205514588008977"
       ]
      },
      {
       "output_type": "stream",
       "stream": "stdout",
       "text": [
        "\r",
        "11.221545367104842"
       ]
      },
      {
       "output_type": "stream",
       "stream": "stdout",
       "text": [
        "\r",
        "11.237576146200706"
       ]
      },
      {
       "output_type": "stream",
       "stream": "stdout",
       "text": [
        "\r",
        "11.25360692529657"
       ]
      },
      {
       "output_type": "stream",
       "stream": "stdout",
       "text": [
        "\r",
        "11.269637704392434"
       ]
      },
      {
       "output_type": "stream",
       "stream": "stdout",
       "text": [
        "\r",
        "11.285668483488298"
       ]
      },
      {
       "output_type": "stream",
       "stream": "stdout",
       "text": [
        "\r",
        "11.301699262584162"
       ]
      },
      {
       "output_type": "stream",
       "stream": "stdout",
       "text": [
        "\r",
        "11.317730041680026"
       ]
      },
      {
       "output_type": "stream",
       "stream": "stdout",
       "text": [
        "\r",
        "11.33376082077589"
       ]
      },
      {
       "output_type": "stream",
       "stream": "stdout",
       "text": [
        "\r",
        "11.349791599871754"
       ]
      },
      {
       "output_type": "stream",
       "stream": "stdout",
       "text": [
        "\r",
        "11.365822378967618"
       ]
      },
      {
       "output_type": "stream",
       "stream": "stdout",
       "text": [
        "\r",
        "11.381853158063482"
       ]
      },
      {
       "output_type": "stream",
       "stream": "stdout",
       "text": [
        "\r",
        "11.397883937159346"
       ]
      },
      {
       "output_type": "stream",
       "stream": "stdout",
       "text": [
        "\r",
        "11.41391471625521"
       ]
      },
      {
       "output_type": "stream",
       "stream": "stdout",
       "text": [
        "\r",
        "11.429945495351074"
       ]
      },
      {
       "output_type": "stream",
       "stream": "stdout",
       "text": [
        "\r",
        "11.445976274446938"
       ]
      },
      {
       "output_type": "stream",
       "stream": "stdout",
       "text": [
        "\r",
        "11.462007053542802"
       ]
      },
      {
       "output_type": "stream",
       "stream": "stdout",
       "text": [
        "\r",
        "11.478037832638666"
       ]
      },
      {
       "output_type": "stream",
       "stream": "stdout",
       "text": [
        "\r",
        "11.49406861173453"
       ]
      },
      {
       "output_type": "stream",
       "stream": "stdout",
       "text": [
        "\r",
        "11.510099390830394"
       ]
      },
      {
       "output_type": "stream",
       "stream": "stdout",
       "text": [
        "\r",
        "11.526130169926258"
       ]
      },
      {
       "output_type": "stream",
       "stream": "stdout",
       "text": [
        "\r",
        "11.542160949022122"
       ]
      },
      {
       "output_type": "stream",
       "stream": "stdout",
       "text": [
        "\r",
        "11.558191728117986"
       ]
      },
      {
       "output_type": "stream",
       "stream": "stdout",
       "text": [
        "\r",
        "11.57422250721385"
       ]
      },
      {
       "output_type": "stream",
       "stream": "stdout",
       "text": [
        "\r",
        "11.590253286309714"
       ]
      },
      {
       "output_type": "stream",
       "stream": "stdout",
       "text": [
        "\r",
        "11.606284065405578"
       ]
      },
      {
       "output_type": "stream",
       "stream": "stdout",
       "text": [
        "\r",
        "11.622314844501442"
       ]
      },
      {
       "output_type": "stream",
       "stream": "stdout",
       "text": [
        "\r",
        "11.638345623597306"
       ]
      },
      {
       "output_type": "stream",
       "stream": "stdout",
       "text": [
        "\r",
        "11.654376402693172"
       ]
      },
      {
       "output_type": "stream",
       "stream": "stdout",
       "text": [
        "\r",
        "11.670407181789034"
       ]
      },
      {
       "output_type": "stream",
       "stream": "stdout",
       "text": [
        "\r",
        "11.686437960884899"
       ]
      },
      {
       "output_type": "stream",
       "stream": "stdout",
       "text": [
        "\r",
        "11.702468739980763"
       ]
      },
      {
       "output_type": "stream",
       "stream": "stdout",
       "text": [
        "\r",
        "11.718499519076628"
       ]
      },
      {
       "output_type": "stream",
       "stream": "stdout",
       "text": [
        "\r",
        "11.73453029817249"
       ]
      },
      {
       "output_type": "stream",
       "stream": "stdout",
       "text": [
        "\r",
        "11.750561077268355"
       ]
      },
      {
       "output_type": "stream",
       "stream": "stdout",
       "text": [
        "\r",
        "11.76659185636422"
       ]
      },
      {
       "output_type": "stream",
       "stream": "stdout",
       "text": [
        "\r",
        "11.782622635460083"
       ]
      },
      {
       "output_type": "stream",
       "stream": "stdout",
       "text": [
        "\r",
        "11.798653414555947"
       ]
      },
      {
       "output_type": "stream",
       "stream": "stdout",
       "text": [
        "\r",
        "11.81468419365181"
       ]
      },
      {
       "output_type": "stream",
       "stream": "stdout",
       "text": [
        "\r",
        "11.830714972747677"
       ]
      },
      {
       "output_type": "stream",
       "stream": "stdout",
       "text": [
        "\r",
        "11.846745751843539"
       ]
      },
      {
       "output_type": "stream",
       "stream": "stdout",
       "text": [
        "\r",
        "11.862776530939403"
       ]
      },
      {
       "output_type": "stream",
       "stream": "stdout",
       "text": [
        "\r",
        "11.878807310035269"
       ]
      },
      {
       "output_type": "stream",
       "stream": "stdout",
       "text": [
        "\r",
        "11.894838089131133"
       ]
      },
      {
       "output_type": "stream",
       "stream": "stdout",
       "text": [
        "\r",
        "11.910868868226995"
       ]
      },
      {
       "output_type": "stream",
       "stream": "stdout",
       "text": [
        "\r",
        "11.926899647322859"
       ]
      },
      {
       "output_type": "stream",
       "stream": "stdout",
       "text": [
        "\r",
        "11.942930426418725"
       ]
      },
      {
       "output_type": "stream",
       "stream": "stdout",
       "text": [
        "\r",
        "11.958961205514589"
       ]
      },
      {
       "output_type": "stream",
       "stream": "stdout",
       "text": [
        "\r",
        "11.974991984610451"
       ]
      },
      {
       "output_type": "stream",
       "stream": "stdout",
       "text": [
        "\r",
        "11.991022763706315"
       ]
      },
      {
       "output_type": "stream",
       "stream": "stdout",
       "text": [
        "\r",
        "12.007053542802181"
       ]
      },
      {
       "output_type": "stream",
       "stream": "stdout",
       "text": [
        "\r",
        "12.023084321898045"
       ]
      },
      {
       "output_type": "stream",
       "stream": "stdout",
       "text": [
        "\r",
        "12.039115100993907"
       ]
      },
      {
       "output_type": "stream",
       "stream": "stdout",
       "text": [
        "\r",
        "12.055145880089773"
       ]
      },
      {
       "output_type": "stream",
       "stream": "stdout",
       "text": [
        "\r",
        "12.071176659185637"
       ]
      },
      {
       "output_type": "stream",
       "stream": "stdout",
       "text": [
        "\r",
        "12.0872074382815"
       ]
      },
      {
       "output_type": "stream",
       "stream": "stdout",
       "text": [
        "\r",
        "12.103238217377363"
       ]
      },
      {
       "output_type": "stream",
       "stream": "stdout",
       "text": [
        "\r",
        "12.11926899647323"
       ]
      },
      {
       "output_type": "stream",
       "stream": "stdout",
       "text": [
        "\r",
        "12.135299775569093"
       ]
      },
      {
       "output_type": "stream",
       "stream": "stdout",
       "text": [
        "\r",
        "12.151330554664955"
       ]
      },
      {
       "output_type": "stream",
       "stream": "stdout",
       "text": [
        "\r",
        "12.167361333760821"
       ]
      },
      {
       "output_type": "stream",
       "stream": "stdout",
       "text": [
        "\r",
        "12.183392112856685"
       ]
      },
      {
       "output_type": "stream",
       "stream": "stdout",
       "text": [
        "\r",
        "12.19942289195255"
       ]
      },
      {
       "output_type": "stream",
       "stream": "stdout",
       "text": [
        "\r",
        "12.215453671048412"
       ]
      },
      {
       "output_type": "stream",
       "stream": "stdout",
       "text": [
        "\r",
        "12.231484450144277"
       ]
      },
      {
       "output_type": "stream",
       "stream": "stdout",
       "text": [
        "\r",
        "12.247515229240141"
       ]
      },
      {
       "output_type": "stream",
       "stream": "stdout",
       "text": [
        "\r",
        "12.263546008336005"
       ]
      },
      {
       "output_type": "stream",
       "stream": "stdout",
       "text": [
        "\r",
        "12.27957678743187"
       ]
      },
      {
       "output_type": "stream",
       "stream": "stdout",
       "text": [
        "\r",
        "12.295607566527734"
       ]
      },
      {
       "output_type": "stream",
       "stream": "stdout",
       "text": [
        "\r",
        "12.311638345623598"
       ]
      },
      {
       "output_type": "stream",
       "stream": "stdout",
       "text": [
        "\r",
        "12.327669124719462"
       ]
      },
      {
       "output_type": "stream",
       "stream": "stdout",
       "text": [
        "\r",
        "12.343699903815326"
       ]
      },
      {
       "output_type": "stream",
       "stream": "stdout",
       "text": [
        "\r",
        "12.35973068291119"
       ]
      },
      {
       "output_type": "stream",
       "stream": "stdout",
       "text": [
        "\r",
        "12.375761462007054"
       ]
      },
      {
       "output_type": "stream",
       "stream": "stdout",
       "text": [
        "\r",
        "12.391792241102918"
       ]
      },
      {
       "output_type": "stream",
       "stream": "stdout",
       "text": [
        "\r",
        "12.407823020198782"
       ]
      },
      {
       "output_type": "stream",
       "stream": "stdout",
       "text": [
        "\r",
        "12.423853799294646"
       ]
      },
      {
       "output_type": "stream",
       "stream": "stdout",
       "text": [
        "\r",
        "12.43988457839051"
       ]
      },
      {
       "output_type": "stream",
       "stream": "stdout",
       "text": [
        "\r",
        "12.455915357486374"
       ]
      },
      {
       "output_type": "stream",
       "stream": "stdout",
       "text": [
        "\r",
        "12.471946136582238"
       ]
      },
      {
       "output_type": "stream",
       "stream": "stdout",
       "text": [
        "\r",
        "12.487976915678102"
       ]
      },
      {
       "output_type": "stream",
       "stream": "stdout",
       "text": [
        "\r",
        "12.504007694773966"
       ]
      },
      {
       "output_type": "stream",
       "stream": "stdout",
       "text": [
        "\r",
        "12.52003847386983"
       ]
      },
      {
       "output_type": "stream",
       "stream": "stdout",
       "text": [
        "\r",
        "12.536069252965696"
       ]
      },
      {
       "output_type": "stream",
       "stream": "stdout",
       "text": [
        "\r",
        "12.552100032061558"
       ]
      },
      {
       "output_type": "stream",
       "stream": "stdout",
       "text": [
        "\r",
        "12.568130811157422"
       ]
      },
      {
       "output_type": "stream",
       "stream": "stdout",
       "text": [
        "\r",
        "12.584161590253288"
       ]
      },
      {
       "output_type": "stream",
       "stream": "stdout",
       "text": [
        "\r",
        "12.60019236934915"
       ]
      },
      {
       "output_type": "stream",
       "stream": "stdout",
       "text": [
        "\r",
        "12.616223148445012"
       ]
      },
      {
       "output_type": "stream",
       "stream": "stdout",
       "text": [
        "\r",
        "12.632253927540878"
       ]
      },
      {
       "output_type": "stream",
       "stream": "stdout",
       "text": [
        "\r",
        "12.648284706636742"
       ]
      },
      {
       "output_type": "stream",
       "stream": "stdout",
       "text": [
        "\r",
        "12.664315485732608"
       ]
      },
      {
       "output_type": "stream",
       "stream": "stdout",
       "text": [
        "\r",
        "12.68034626482847"
       ]
      },
      {
       "output_type": "stream",
       "stream": "stdout",
       "text": [
        "\r",
        "12.696377043924334"
       ]
      },
      {
       "output_type": "stream",
       "stream": "stdout",
       "text": [
        "\r",
        "12.7124078230202"
       ]
      },
      {
       "output_type": "stream",
       "stream": "stdout",
       "text": [
        "\r",
        "12.728438602116062"
       ]
      },
      {
       "output_type": "stream",
       "stream": "stdout",
       "text": [
        "\r",
        "12.744469381211927"
       ]
      },
      {
       "output_type": "stream",
       "stream": "stdout",
       "text": [
        "\r",
        "12.760500160307792"
       ]
      },
      {
       "output_type": "stream",
       "stream": "stdout",
       "text": [
        "\r",
        "12.776530939403655"
       ]
      },
      {
       "output_type": "stream",
       "stream": "stdout",
       "text": [
        "\r",
        "12.792561718499517"
       ]
      },
      {
       "output_type": "stream",
       "stream": "stdout",
       "text": [
        "\r",
        "12.808592497595384"
       ]
      },
      {
       "output_type": "stream",
       "stream": "stdout",
       "text": [
        "\r",
        "12.824623276691247"
       ]
      },
      {
       "output_type": "stream",
       "stream": "stdout",
       "text": [
        "\r",
        "12.840654055787112"
       ]
      },
      {
       "output_type": "stream",
       "stream": "stdout",
       "text": [
        "\r",
        "12.856684834882975"
       ]
      },
      {
       "output_type": "stream",
       "stream": "stdout",
       "text": [
        "\r",
        "12.872715613978839"
       ]
      },
      {
       "output_type": "stream",
       "stream": "stdout",
       "text": [
        "\r",
        "12.888746393074705"
       ]
      },
      {
       "output_type": "stream",
       "stream": "stdout",
       "text": [
        "\r",
        "12.904777172170567"
       ]
      },
      {
       "output_type": "stream",
       "stream": "stdout",
       "text": [
        "\r",
        "12.920807951266431"
       ]
      },
      {
       "output_type": "stream",
       "stream": "stdout",
       "text": [
        "\r",
        "12.936838730362297"
       ]
      },
      {
       "output_type": "stream",
       "stream": "stdout",
       "text": [
        "\r",
        "12.952869509458159"
       ]
      },
      {
       "output_type": "stream",
       "stream": "stdout",
       "text": [
        "\r",
        "12.968900288554025"
       ]
      },
      {
       "output_type": "stream",
       "stream": "stdout",
       "text": [
        "\r",
        "12.984931067649889"
       ]
      },
      {
       "output_type": "stream",
       "stream": "stdout",
       "text": [
        "\r",
        "13.000961846745751"
       ]
      },
      {
       "output_type": "stream",
       "stream": "stdout",
       "text": [
        "\r",
        "13.016992625841617"
       ]
      },
      {
       "output_type": "stream",
       "stream": "stdout",
       "text": [
        "\r",
        "13.03302340493748"
       ]
      },
      {
       "output_type": "stream",
       "stream": "stdout",
       "text": [
        "\r",
        "13.049054184033343"
       ]
      },
      {
       "output_type": "stream",
       "stream": "stdout",
       "text": [
        "\r",
        "13.065084963129209"
       ]
      },
      {
       "output_type": "stream",
       "stream": "stdout",
       "text": [
        "\r",
        "13.081115742225071"
       ]
      },
      {
       "output_type": "stream",
       "stream": "stdout",
       "text": [
        "\r",
        "13.097146521320935"
       ]
      },
      {
       "output_type": "stream",
       "stream": "stdout",
       "text": [
        "\r",
        "13.113177300416801"
       ]
      },
      {
       "output_type": "stream",
       "stream": "stdout",
       "text": [
        "\r",
        "13.129208079512663"
       ]
      },
      {
       "output_type": "stream",
       "stream": "stdout",
       "text": [
        "\r",
        "13.14523885860853"
       ]
      },
      {
       "output_type": "stream",
       "stream": "stdout",
       "text": [
        "\r",
        "13.161269637704393"
       ]
      }
     ]
    },
    {
     "cell_type": "code",
     "collapsed": false,
     "input": [
      "import numpy as np\n",
      "users_posts[\"recommendations\"] = [np.unique(x) for x in recommendations]\n",
      "users_posts[\"views\"] = [np.unique(x) for x in views]\n",
      "users_posts[\"votes\"] = [np.unique(x) for x in votes]\n",
      "users_posts[\"clear_votes\"] = [np.unique(x) for x in clear_votes]\n",
      "users_posts[\"comments\"] = [np.unique(x) for x in comments]\n",
      "users_posts[\"user\"] = events[\"user_id\"].unique()"
     ],
     "language": "python",
     "metadata": {},
     "outputs": []
    },
    {
     "cell_type": "code",
     "collapsed": false,
     "input": [
      "users_posts[\"recommendations\"] = users_posts[\"recommendations\"].apply(lambda x: [\"@\" + s[1:-1] for s in x])"
     ],
     "language": "python",
     "metadata": {},
     "outputs": []
    },
    {
     "cell_type": "code",
     "collapsed": false,
     "input": [
      "users_posts[\"views\"] = users_posts[\"views\"].apply(lambda x: [\"/\".join(s.split(\"/\")[4:]) for s in x])"
     ],
     "language": "python",
     "metadata": {},
     "outputs": []
    },
    {
     "cell_type": "code",
     "collapsed": false,
     "input": [
      "users_posts[\"comments\"] = users_posts[\"comments\"].apply(lambda x: [\"/\".join(str(s).split(\"/\")[4:]) for s in x])"
     ],
     "language": "python",
     "metadata": {},
     "outputs": []
    },
    {
     "cell_type": "code",
     "collapsed": false,
     "input": [
      "events[events[\"from_same_page\"]].shape[0]/events[events[\"event_type\"] == \"Vote\"].shape[0]"
     ],
     "language": "python",
     "metadata": {},
     "outputs": []
    },
    {
     "cell_type": "markdown",
     "metadata": {},
     "source": [
      "\u0411\u0435\u0440\u0435\u043c \u0432\u0441\u0435 \u043f\u043e\u0441\u0442\u044b \u0434\u043b\u044f \u043f\u043e\u043b\u044c\u0437\u043e\u0432\u0430\u0442\u0435\u043b\u044f, flatten + unique\n",
      "- \u041a\u043b\u0438\u0440\u0432\u043e\u0443\u0442 - 1, break;\n",
      "- \u041a\u043e\u043c\u043c\u0435\u043d\u0442 - 1, break;\n",
      "- \u041e\u0431\u044b\u0447\u043d\u044b\u0439 \u0432\u043e\u0443\u0442 \u0441 \u043f\u0440\u043e\u0441\u043c\u043e\u0442\u0440\u043e\u043c \u0440\u0430\u043d\u0435\u0435 - 1, break;\n",
      "- \u041e\u0431\u044b\u0447\u043d\u044b\u0439 \u0432\u043e\u0443\u0442 - 0.5, break;\n",
      "- \u041f\u0440\u043e\u0441\u043c\u043e\u0442\u0440 - 0.5, break;\n",
      "- \u0420\u0435\u043a\u043e\u043c\u0435\u043d\u0434\u0430\u0446\u0438\u044f - -1, break;"
     ]
    },
    {
     "cell_type": "code",
     "collapsed": false,
     "input": [
      "dataset = pd.DataFrame()\n",
      "users = []\n",
      "posts = []\n",
      "likes = []\n",
      "number = users_posts.shape[0]\n",
      "\n",
      "for index, row in users_posts.iterrows():\n",
      "    print(float(index / number) * 100, end=\"\\r\")\n",
      "    user_posts = [row[\"views\"], row[\"comments\"], row[\"votes\"], row[\"clear_votes\"], row[\"recommendations\"]]\n",
      "    user_posts = np.unique([item for sublist in user_posts for item in sublist])\n",
      "    for post in user_posts:\n",
      "        users.append(row[\"user\"])\n",
      "        posts.append(post)\n",
      "        if post in row[\"clear_votes\"]:\n",
      "            likes.append(1)\n",
      "        elif post in row[\"comments\"]:\n",
      "            likes.append(1)\n",
      "        elif (post in row[\"votes\"]) and (post in row[\"views\"]):\n",
      "            likes.append(1)\n",
      "        elif (post in row[\"votes\"]) or (post in row[\"views\"]):\n",
      "            likes.append(0.5)\n",
      "        elif (post in row[\"recommendations\"]):\n",
      "            likes.append(-1)\n",
      "        else:\n",
      "            likes.append(0) # WTF"
     ],
     "language": "python",
     "metadata": {},
     "outputs": [
      {
       "output_type": "stream",
       "stream": "stdout",
       "text": [
        "0.0\r",
        "0.016030779095864058\r",
        "0.032061558191728116\r",
        "0.04809233728759218\r",
        "0.06412311638345623"
       ]
      },
      {
       "output_type": "stream",
       "stream": "stdout",
       "text": [
        "\r",
        "0.0801538954793203"
       ]
      },
      {
       "output_type": "stream",
       "stream": "stdout",
       "text": [
        "\r",
        "0.09618467457518436\r",
        "0.11221545367104842\r",
        "0.12824623276691247\r",
        "0.14427701186277653\r",
        "0.1603077909586406"
       ]
      },
      {
       "output_type": "stream",
       "stream": "stdout",
       "text": [
        "\r",
        "0.17633857005450465"
       ]
      },
      {
       "output_type": "stream",
       "stream": "stdout",
       "text": [
        "\r",
        "0.1923693491503687"
       ]
      },
      {
       "output_type": "stream",
       "stream": "stdout",
       "text": [
        "\r",
        "0.20840012824623277\r",
        "0.22443090734209684"
       ]
      },
      {
       "output_type": "stream",
       "stream": "stdout",
       "text": [
        "\r",
        "0.24046168643796087\r",
        "0.25649246553382493\r",
        "0.272523244629689"
       ]
      },
      {
       "output_type": "stream",
       "stream": "stdout",
       "text": [
        "\r",
        "0.28855402372555305"
       ]
      },
      {
       "output_type": "stream",
       "stream": "stdout",
       "text": [
        "\r",
        "0.30458480282141714\r",
        "0.3206155819172812"
       ]
      },
      {
       "output_type": "stream",
       "stream": "stdout",
       "text": [
        "\r",
        "0.33664636101314527"
       ]
      },
      {
       "output_type": "stream",
       "stream": "stdout",
       "text": [
        "\r",
        "0.3526771401090093"
       ]
      },
      {
       "output_type": "stream",
       "stream": "stdout",
       "text": [
        "\r",
        "0.36870791920487334\r",
        "0.3847386983007374\r",
        "0.40076947739660146"
       ]
      },
      {
       "output_type": "stream",
       "stream": "stdout",
       "text": [
        "\r",
        "0.41680025649246555"
       ]
      },
      {
       "output_type": "stream",
       "stream": "stdout",
       "text": [
        "\r",
        "0.4328310355883296"
       ]
      },
      {
       "output_type": "stream",
       "stream": "stdout",
       "text": [
        "\r",
        "0.44886181468419367\r",
        "0.46489259378005765"
       ]
      },
      {
       "output_type": "stream",
       "stream": "stdout",
       "text": [
        "\r",
        "0.48092337287592174\r",
        "0.49695415197178583"
       ]
      },
      {
       "output_type": "stream",
       "stream": "stdout",
       "text": [
        "\r",
        "0.5129849310676499"
       ]
      },
      {
       "output_type": "stream",
       "stream": "stdout",
       "text": [
        "\r",
        "0.529015710163514\r",
        "0.545046489259378\r",
        "0.5610772683552421"
       ]
      },
      {
       "output_type": "stream",
       "stream": "stdout",
       "text": [
        "\r",
        "0.5771080474511061\r",
        "0.5931388265469701\r",
        "0.6091696056428343"
       ]
      },
      {
       "output_type": "stream",
       "stream": "stdout",
       "text": [
        "\r",
        "0.6252003847386983"
       ]
      },
      {
       "output_type": "stream",
       "stream": "stdout",
       "text": [
        "\r",
        "0.6412311638345624\r",
        "0.6572619429304264"
       ]
      },
      {
       "output_type": "stream",
       "stream": "stdout",
       "text": [
        "\r",
        "0.6732927220262905"
       ]
      },
      {
       "output_type": "stream",
       "stream": "stdout",
       "text": [
        "\r",
        "0.6893235011221546"
       ]
      },
      {
       "output_type": "stream",
       "stream": "stdout",
       "text": [
        "\r",
        "0.7053542802180186\r",
        "0.7213850593138826"
       ]
      },
      {
       "output_type": "stream",
       "stream": "stdout",
       "text": [
        "\r",
        "0.7374158384097467\r",
        "0.7534466175056108\r",
        "0.7694773966014749"
       ]
      },
      {
       "output_type": "stream",
       "stream": "stdout",
       "text": [
        "\r",
        "0.7855081756973389\r",
        "0.8015389547932029"
       ]
      },
      {
       "output_type": "stream",
       "stream": "stdout",
       "text": [
        "\r",
        "0.817569733889067"
       ]
      },
      {
       "output_type": "stream",
       "stream": "stdout",
       "text": [
        "\r",
        "0.8336005129849311"
       ]
      },
      {
       "output_type": "stream",
       "stream": "stdout",
       "text": [
        "\r",
        "0.8496312920807951\r",
        "0.8656620711766592\r",
        "0.8816928502725233"
       ]
      },
      {
       "output_type": "stream",
       "stream": "stdout",
       "text": [
        "\r",
        "0.8977236293683873"
       ]
      },
      {
       "output_type": "stream",
       "stream": "stdout",
       "text": [
        "\r",
        "0.9137544084642515\r",
        "0.9297851875601153\r",
        "0.9458159666559794\r",
        "0.9618467457518435\r",
        "0.9778775248477076\r",
        "0.9939083039435717"
       ]
      },
      {
       "output_type": "stream",
       "stream": "stdout",
       "text": [
        "\r",
        "1.0099390830394357"
       ]
      },
      {
       "output_type": "stream",
       "stream": "stdout",
       "text": [
        "\r",
        "1.0259698621352997\r",
        "1.042000641231164\r",
        "1.058031420327028\r",
        "1.074062199422892"
       ]
      },
      {
       "output_type": "stream",
       "stream": "stdout",
       "text": [
        "\r",
        "1.090092978518756\r",
        "1.10612375761462\r",
        "1.1221545367104842\r",
        "1.1381853158063482"
       ]
      },
      {
       "output_type": "stream",
       "stream": "stdout",
       "text": [
        "\r",
        "1.1542160949022122"
       ]
      },
      {
       "output_type": "stream",
       "stream": "stdout",
       "text": [
        "\r",
        "1.1702468739980763\r",
        "1.1862776530939403\r",
        "1.2023084321898045\r",
        "1.2183392112856686"
       ]
      },
      {
       "output_type": "stream",
       "stream": "stdout",
       "text": [
        "\r",
        "1.2343699903815326\r",
        "1.2504007694773966"
       ]
      },
      {
       "output_type": "stream",
       "stream": "stdout",
       "text": [
        "\r",
        "1.2664315485732607\r",
        "1.2824623276691247\r",
        "1.2984931067649887"
       ]
      },
      {
       "output_type": "stream",
       "stream": "stdout",
       "text": [
        "\r",
        "1.3145238858608528\r",
        "1.3305546649567168\r",
        "1.346585444052581\r",
        "1.362616223148445\r",
        "1.3786470022443091\r",
        "1.3946777813401732\r",
        "1.4107085604360372\r",
        "1.4267393395319012"
       ]
      },
      {
       "output_type": "stream",
       "stream": "stdout",
       "text": [
        "\r",
        "1.4427701186277653\r",
        "1.4588008977236293\r",
        "1.4748316768194933"
       ]
      },
      {
       "output_type": "stream",
       "stream": "stdout",
       "text": [
        "\r",
        "1.4908624559153574\r",
        "1.5068932350112216"
       ]
      },
      {
       "output_type": "stream",
       "stream": "stdout",
       "text": [
        "\r",
        "1.5229240141070857\r",
        "1.5389547932029497"
       ]
      },
      {
       "output_type": "stream",
       "stream": "stdout",
       "text": [
        "\r",
        "1.5549855722988137\r",
        "1.5710163513946778"
       ]
      },
      {
       "output_type": "stream",
       "stream": "stdout",
       "text": [
        "\r",
        "1.5870471304905418"
       ]
      },
      {
       "output_type": "stream",
       "stream": "stdout",
       "text": [
        "\r",
        "1.6030779095864058\r",
        "1.6191086886822699\r",
        "1.635139467778134"
       ]
      },
      {
       "output_type": "stream",
       "stream": "stdout",
       "text": [
        "\r",
        "1.6511702468739982"
       ]
      },
      {
       "output_type": "stream",
       "stream": "stdout",
       "text": [
        "\r",
        "1.6672010259698622\r",
        "1.6832318050657262\r",
        "1.6992625841615903\r",
        "1.7152933632574543\r",
        "1.7313241423533183\r",
        "1.7473549214491826"
       ]
      },
      {
       "output_type": "stream",
       "stream": "stdout",
       "text": [
        "\r",
        "1.7633857005450466\r",
        "1.7794164796409107"
       ]
      },
      {
       "output_type": "stream",
       "stream": "stdout",
       "text": [
        "\r",
        "1.7954472587367747\r",
        "1.8114780378326387\r",
        "1.827508816928503\r",
        "1.843539596024367\r",
        "1.8595703751202306\r",
        "1.8756011542160949"
       ]
      },
      {
       "output_type": "stream",
       "stream": "stdout",
       "text": [
        "\r",
        "1.891631933311959\r",
        "1.907662712407823"
       ]
      },
      {
       "output_type": "stream",
       "stream": "stdout",
       "text": [
        "\r",
        "1.923693491503687"
       ]
      },
      {
       "output_type": "stream",
       "stream": "stdout",
       "text": [
        "\r",
        "1.939724270599551"
       ]
      },
      {
       "output_type": "stream",
       "stream": "stdout",
       "text": [
        "\r",
        "1.9557550496954152"
       ]
      },
      {
       "output_type": "stream",
       "stream": "stdout",
       "text": [
        "\r",
        "1.9717858287912793\r",
        "1.9878166078871433\r",
        "2.0038473869830074"
       ]
      },
      {
       "output_type": "stream",
       "stream": "stdout",
       "text": [
        "\r",
        "2.0198781660788714\r",
        "2.0359089451747354\r",
        "2.0519397242705995\r",
        "2.0679705033664635\r",
        "2.084001282462328\r",
        "2.100032061558192\r",
        "2.116062840654056\r",
        "2.13209361974992"
       ]
      },
      {
       "output_type": "stream",
       "stream": "stdout",
       "text": [
        "\r",
        "2.148124398845784\r",
        "2.164155177941648\r",
        "2.180185957037512\r",
        "2.1962167361333758\r",
        "2.21224751522924\r",
        "2.2282782943251043"
       ]
      },
      {
       "output_type": "stream",
       "stream": "stdout",
       "text": [
        "\r",
        "2.2443090734209683\r",
        "2.2603398525168323"
       ]
      },
      {
       "output_type": "stream",
       "stream": "stdout",
       "text": [
        "\r",
        "2.2763706316126964\r",
        "2.2924014107085604"
       ]
      },
      {
       "output_type": "stream",
       "stream": "stdout",
       "text": [
        "\r",
        "2.3084321898044244\r",
        "2.3244629689002885\r",
        "2.3404937479961525\r",
        "2.3565245270920165\r",
        "2.3725553061878806"
       ]
      },
      {
       "output_type": "stream",
       "stream": "stdout",
       "text": [
        "\r",
        "2.3885860852837446\r",
        "2.404616864379609\r",
        "2.420647643475473\r",
        "2.436678422571337\r",
        "2.452709201667201"
       ]
      },
      {
       "output_type": "stream",
       "stream": "stdout",
       "text": [
        "\r",
        "2.4687399807630652"
       ]
      },
      {
       "output_type": "stream",
       "stream": "stdout",
       "text": [
        "\r",
        "2.4847707598589293\r",
        "2.5008015389547933\r",
        "2.516832318050657\r",
        "2.5328630971465214\r",
        "2.5488938762423854\r",
        "2.5649246553382494\r",
        "2.5809554344341135"
       ]
      },
      {
       "output_type": "stream",
       "stream": "stdout",
       "text": [
        "\r",
        "2.5969862135299775"
       ]
      },
      {
       "output_type": "stream",
       "stream": "stdout",
       "text": [
        "\r",
        "2.6130169926258415\r",
        "2.6290477717217056\r",
        "2.6450785508175696\r",
        "2.6611093299134336\r",
        "2.6771401090092977"
       ]
      },
      {
       "output_type": "stream",
       "stream": "stdout",
       "text": [
        "\r",
        "2.693170888105162\r",
        "2.709201667201026"
       ]
      },
      {
       "output_type": "stream",
       "stream": "stdout",
       "text": [
        "\r",
        "2.72523244629689\r",
        "2.7412632253927542"
       ]
      },
      {
       "output_type": "stream",
       "stream": "stdout",
       "text": [
        "\r",
        "2.7572940044886183\r",
        "2.7733247835844823\r",
        "2.7893555626803463\r",
        "2.8053863417762104\r",
        "2.8214171208720744\r",
        "2.8374478999679384\r",
        "2.8534786790638025\r",
        "2.8695094581596665\r",
        "2.8855402372555305"
       ]
      },
      {
       "output_type": "stream",
       "stream": "stdout",
       "text": [
        "\r",
        "2.9015710163513946\r",
        "2.9176017954472586\r",
        "2.9336325745431227"
       ]
      },
      {
       "output_type": "stream",
       "stream": "stdout",
       "text": [
        "\r",
        "2.9496633536389867\r",
        "2.9656941327348507"
       ]
      },
      {
       "output_type": "stream",
       "stream": "stdout",
       "text": [
        "\r",
        "2.9817249118307148\r",
        "2.997755690926579\r",
        "3.0137864700224433"
       ]
      },
      {
       "output_type": "stream",
       "stream": "stdout",
       "text": [
        "\r",
        "3.0298172491183073"
       ]
      },
      {
       "output_type": "stream",
       "stream": "stdout",
       "text": [
        "\r",
        "3.0458480282141713"
       ]
      },
      {
       "output_type": "stream",
       "stream": "stdout",
       "text": [
        "\r",
        "3.0618788073100354\r",
        "3.0779095864058994\r",
        "3.0939403655017634"
       ]
      },
      {
       "output_type": "stream",
       "stream": "stdout",
       "text": [
        "\r",
        "3.1099711445976275\r",
        "3.1260019236934915\r",
        "3.1420327027893555\r",
        "3.1580634818852196\r",
        "3.1740942609810836"
       ]
      },
      {
       "output_type": "stream",
       "stream": "stdout",
       "text": [
        "\r",
        "3.190125040076948\r",
        "3.2061558191728117"
       ]
      },
      {
       "output_type": "stream",
       "stream": "stdout",
       "text": [
        "\r",
        "3.222186598268676\r",
        "3.2382173773645397"
       ]
      },
      {
       "output_type": "stream",
       "stream": "stdout",
       "text": [
        "\r",
        "3.254248156460404"
       ]
      },
      {
       "output_type": "stream",
       "stream": "stdout",
       "text": [
        "\r",
        "3.270278935556268\r",
        "3.2863097146521323\r",
        "3.3023404937479963\r",
        "3.3183712728438604"
       ]
      },
      {
       "output_type": "stream",
       "stream": "stdout",
       "text": [
        "\r",
        "3.3344020519397244\r",
        "3.350432831035589"
       ]
      },
      {
       "output_type": "stream",
       "stream": "stdout",
       "text": [
        "\r",
        "3.3664636101314525\r",
        "3.382494389227316\r",
        "3.3985251683231805"
       ]
      },
      {
       "output_type": "stream",
       "stream": "stdout",
       "text": [
        "\r",
        "3.414555947419044"
       ]
      },
      {
       "output_type": "stream",
       "stream": "stdout",
       "text": [
        "\r",
        "3.4305867265149086"
       ]
      },
      {
       "output_type": "stream",
       "stream": "stdout",
       "text": [
        "\r",
        "3.4466175056107726\r",
        "3.4626482847066367"
       ]
      },
      {
       "output_type": "stream",
       "stream": "stdout",
       "text": [
        "\r",
        "3.4786790638025007\r",
        "3.494709842898365\r",
        "3.5107406219942288\r",
        "3.5267714010900932\r",
        "3.542802180185957"
       ]
      },
      {
       "output_type": "stream",
       "stream": "stdout",
       "text": [
        "\r",
        "3.5588329592818213\r",
        "3.574863738377685\r",
        "3.5908945174735494"
       ]
      },
      {
       "output_type": "stream",
       "stream": "stdout",
       "text": [
        "\r",
        "3.606925296569413\r",
        "3.6229560756652774"
       ]
      },
      {
       "output_type": "stream",
       "stream": "stdout",
       "text": [
        "\r",
        "3.6389868547611415\r",
        "3.655017633857006\r",
        "3.6710484129528695\r",
        "3.687079192048734"
       ]
      },
      {
       "output_type": "stream",
       "stream": "stdout",
       "text": [
        "\r",
        "3.7031099711445976\r",
        "3.719140750240461\r",
        "3.7351715293363257\r",
        "3.7512023084321897\r",
        "3.7672330875280537\r",
        "3.783263866623918"
       ]
      },
      {
       "output_type": "stream",
       "stream": "stdout",
       "text": [
        "\r",
        "3.7992946457197823\r",
        "3.815325424815646\r",
        "3.8313562039115103"
       ]
      },
      {
       "output_type": "stream",
       "stream": "stdout",
       "text": [
        "\r",
        "3.847386983007374\r",
        "3.8634177621032384\r",
        "3.879448541199102\r",
        "3.8954793202949665"
       ]
      },
      {
       "output_type": "stream",
       "stream": "stdout",
       "text": [
        "\r",
        "3.9115100993908305\r",
        "3.9275408784866945\r",
        "3.9435716575825586"
       ]
      },
      {
       "output_type": "stream",
       "stream": "stdout",
       "text": [
        "\r",
        "3.959602436678423\r",
        "3.9756332157742866"
       ]
      },
      {
       "output_type": "stream",
       "stream": "stdout",
       "text": [
        "\r",
        "3.991663994870151\r",
        "4.007694773966015\r",
        "4.023725553061879\r",
        "4.039756332157743"
       ]
      },
      {
       "output_type": "stream",
       "stream": "stdout",
       "text": [
        "\r",
        "4.055787111253607"
       ]
      },
      {
       "output_type": "stream",
       "stream": "stdout",
       "text": [
        "\r",
        "4.071817890349471\r",
        "4.087848669445335\r",
        "4.103879448541199\r",
        "4.119910227637063\r",
        "4.135941006732927\r",
        "4.151971785828791"
       ]
      },
      {
       "output_type": "stream",
       "stream": "stdout",
       "text": [
        "\r",
        "4.168002564924656\r",
        "4.184033344020519\r",
        "4.200064123116384\r",
        "4.216094902212247\r",
        "4.232125681308112\r",
        "4.248156460403975\r",
        "4.26418723949984\r",
        "4.280218018595703\r",
        "4.296248797691568\r",
        "4.312279576787432\r",
        "4.328310355883296"
       ]
      },
      {
       "output_type": "stream",
       "stream": "stdout",
       "text": [
        "\r",
        "4.34434113497916\r",
        "4.360371914075024\r",
        "4.376402693170888\r",
        "4.3924334722667515\r",
        "4.408464251362616\r",
        "4.42449503045848\r",
        "4.4405258095543445\r",
        "4.4565565886502085\r",
        "4.472587367746073"
       ]
      },
      {
       "output_type": "stream",
       "stream": "stdout",
       "text": [
        "\r",
        "4.488618146841937"
       ]
      },
      {
       "output_type": "stream",
       "stream": "stdout",
       "text": [
        "\r",
        "4.504648925937801"
       ]
      },
      {
       "output_type": "stream",
       "stream": "stdout",
       "text": [
        "\r",
        "4.520679705033665\r",
        "4.536710484129529"
       ]
      },
      {
       "output_type": "stream",
       "stream": "stdout",
       "text": [
        "\r",
        "4.552741263225393\r",
        "4.568772042321257\r",
        "4.584802821417121\r",
        "4.600833600512985"
       ]
      },
      {
       "output_type": "stream",
       "stream": "stdout",
       "text": [
        "\r",
        "4.616864379608849\r",
        "4.632895158704713\r",
        "4.648925937800577\r",
        "4.664956716896442\r",
        "4.680987495992305\r",
        "4.69701827508817"
       ]
      },
      {
       "output_type": "stream",
       "stream": "stdout",
       "text": [
        "\r",
        "4.713049054184033\r",
        "4.729079833279897\r",
        "4.745110612375761\r",
        "4.761141391471625\r",
        "4.777172170567489"
       ]
      },
      {
       "output_type": "stream",
       "stream": "stdout",
       "text": [
        "\r",
        "4.793202949663353\r",
        "4.809233728759218\r",
        "4.825264507855081\r",
        "4.841295286950946\r",
        "4.857326066046809\r",
        "4.873356845142674\r",
        "4.8893876242385375\r",
        "4.905418403334402"
       ]
      },
      {
       "output_type": "stream",
       "stream": "stdout",
       "text": [
        "\r",
        "4.921449182430266"
       ]
      },
      {
       "output_type": "stream",
       "stream": "stdout",
       "text": [
        "\r",
        "4.9374799615261304"
       ]
      },
      {
       "output_type": "stream",
       "stream": "stdout",
       "text": [
        "\r",
        "4.9535107406219945\r",
        "4.9695415197178585\r",
        "4.9855722988137225\r",
        "5.001603077909587\r",
        "5.017633857005451\r",
        "5.033664636101314"
       ]
      },
      {
       "output_type": "stream",
       "stream": "stdout",
       "text": [
        "\r",
        "5.049695415197179\r",
        "5.065726194293043\r",
        "5.081756973388907"
       ]
      },
      {
       "output_type": "stream",
       "stream": "stdout",
       "text": [
        "\r",
        "5.097787752484771\r",
        "5.113818531580635\r",
        "5.129849310676499"
       ]
      },
      {
       "output_type": "stream",
       "stream": "stdout",
       "text": [
        "\r",
        "5.145880089772363"
       ]
      },
      {
       "output_type": "stream",
       "stream": "stdout",
       "text": [
        "\r",
        "5.161910868868227\r",
        "5.177941647964091\r",
        "5.193972427059955\r",
        "5.210003206155819"
       ]
      },
      {
       "output_type": "stream",
       "stream": "stdout",
       "text": [
        "\r",
        "5.226033985251683\r",
        "5.242064764347547\r",
        "5.258095543443411\r",
        "5.274126322539276\r",
        "5.290157101635139\r",
        "5.306187880731004\r",
        "5.322218659826867\r",
        "5.338249438922732"
       ]
      },
      {
       "output_type": "stream",
       "stream": "stdout",
       "text": [
        "\r",
        "5.354280218018595"
       ]
      },
      {
       "output_type": "stream",
       "stream": "stdout",
       "text": [
        "\r",
        "5.370310997114459\r",
        "5.386341776210324"
       ]
      },
      {
       "output_type": "stream",
       "stream": "stdout",
       "text": [
        "\r",
        "5.402372555306187\r",
        "5.418403334402052\r",
        "5.4344341134979155\r",
        "5.45046489259378\r",
        "5.466495671689644"
       ]
      },
      {
       "output_type": "stream",
       "stream": "stdout",
       "text": [
        "\r",
        "5.4825264507855085\r",
        "5.498557229881372"
       ]
      },
      {
       "output_type": "stream",
       "stream": "stdout",
       "text": [
        "\r",
        "5.5145880089772366\r",
        "5.530618788073101"
       ]
      },
      {
       "output_type": "stream",
       "stream": "stdout",
       "text": [
        "\r",
        "5.546649567168965\r",
        "5.562680346264829"
       ]
      },
      {
       "output_type": "stream",
       "stream": "stdout",
       "text": [
        "\r",
        "5.578711125360693\r",
        "5.594741904456557\r",
        "5.610772683552421\r",
        "5.626803462648285\r",
        "5.642834241744149\r",
        "5.658865020840013\r",
        "5.674895799935877"
       ]
      },
      {
       "output_type": "stream",
       "stream": "stdout",
       "text": [
        "\r",
        "5.690926579031741\r",
        "5.706957358127605\r",
        "5.722988137223469\r",
        "5.739018916319333"
       ]
      },
      {
       "output_type": "stream",
       "stream": "stdout",
       "text": [
        "\r",
        "5.755049695415197"
       ]
      },
      {
       "output_type": "stream",
       "stream": "stdout",
       "text": [
        "\r",
        "5.771080474511061"
       ]
      },
      {
       "output_type": "stream",
       "stream": "stdout",
       "text": [
        "\r",
        "5.787111253606925\r",
        "5.803142032702789\r",
        "5.819172811798653"
       ]
      },
      {
       "output_type": "stream",
       "stream": "stdout",
       "text": [
        "\r",
        "5.835203590894517\r",
        "5.851234369990381\r",
        "5.867265149086245\r",
        "5.88329592818211\r",
        "5.899326707277973\r",
        "5.915357486373838\r",
        "5.931388265469701\r",
        "5.947419044565566\r",
        "5.9634498236614295\r",
        "5.979480602757294\r",
        "5.995511381853158"
       ]
      },
      {
       "output_type": "stream",
       "stream": "stdout",
       "text": [
        "\r",
        "6.0115421609490225\r",
        "6.0275729400448865\r",
        "6.04360371914075\r",
        "6.059634498236615\r",
        "6.075665277332478\r",
        "6.091696056428343\r",
        "6.107726835524206"
       ]
      },
      {
       "output_type": "stream",
       "stream": "stdout",
       "text": [
        "\r",
        "6.123757614620071\r",
        "6.139788393715935\r",
        "6.155819172811799"
       ]
      },
      {
       "output_type": "stream",
       "stream": "stdout",
       "text": [
        "\r",
        "6.171849951907663\r",
        "6.187880731003527\r",
        "6.203911510099391\r",
        "6.219942289195255\r",
        "6.235973068291119"
       ]
      },
      {
       "output_type": "stream",
       "stream": "stdout",
       "text": [
        "\r",
        "6.252003847386983"
       ]
      },
      {
       "output_type": "stream",
       "stream": "stdout",
       "text": [
        "\r",
        "6.268034626482848"
       ]
      },
      {
       "output_type": "stream",
       "stream": "stdout",
       "text": [
        "\r",
        "6.284065405578711\r",
        "6.300096184674575\r",
        "6.316126963770439"
       ]
      },
      {
       "output_type": "stream",
       "stream": "stdout",
       "text": [
        "\r",
        "6.332157742866304\r",
        "6.348188521962167\r",
        "6.364219301058031\r",
        "6.380250080153896"
       ]
      },
      {
       "output_type": "stream",
       "stream": "stdout",
       "text": [
        "\r",
        "6.396280859249758\r",
        "6.412311638345623"
       ]
      },
      {
       "output_type": "stream",
       "stream": "stdout",
       "text": [
        "\r",
        "6.428342417441487\r",
        "6.444373196537352\r",
        "6.4604039756332154"
       ]
      },
      {
       "output_type": "stream",
       "stream": "stdout",
       "text": [
        "\r",
        "6.4764347547290795\r",
        "6.492465533824944"
       ]
      },
      {
       "output_type": "stream",
       "stream": "stdout",
       "text": [
        "\r",
        "6.508496312920808\r",
        "6.524527092016672\r",
        "6.540557871112536"
       ]
      },
      {
       "output_type": "stream",
       "stream": "stdout",
       "text": [
        "\r",
        "6.5565886502084005\r",
        "6.572619429304265"
       ]
      },
      {
       "output_type": "stream",
       "stream": "stdout",
       "text": [
        "\r",
        "6.588650208400128\r",
        "6.604680987495993\r",
        "6.620711766591857\r",
        "6.636742545687721\r",
        "6.652773324783584"
       ]
      },
      {
       "output_type": "stream",
       "stream": "stdout",
       "text": [
        "\r",
        "6.668804103879449\r",
        "6.684834882975313"
       ]
      },
      {
       "output_type": "stream",
       "stream": "stdout",
       "text": [
        "\r",
        "6.700865662071178"
       ]
      },
      {
       "output_type": "stream",
       "stream": "stdout",
       "text": [
        "\r",
        "6.71689644116704\r",
        "6.732927220262905\r",
        "6.748957999358769\r",
        "6.764988778454632"
       ]
      },
      {
       "output_type": "stream",
       "stream": "stdout",
       "text": [
        "\r",
        "6.781019557550497"
       ]
      },
      {
       "output_type": "stream",
       "stream": "stdout",
       "text": [
        "\r",
        "6.797050336646361\r",
        "6.813081115742225\r",
        "6.829111894838088\r",
        "6.845142673933953"
       ]
      },
      {
       "output_type": "stream",
       "stream": "stdout",
       "text": [
        "\r",
        "6.861173453029817\r",
        "6.877204232125682\r",
        "6.893235011221545\r",
        "6.909265790317409\r",
        "6.925296569413273\r",
        "6.941327348509138"
       ]
      },
      {
       "output_type": "stream",
       "stream": "stdout",
       "text": [
        "\r",
        "6.957358127605001\r",
        "6.973388906700865\r",
        "6.98941968579673"
       ]
      },
      {
       "output_type": "stream",
       "stream": "stdout",
       "text": [
        "\r",
        "7.005450464892594"
       ]
      },
      {
       "output_type": "stream",
       "stream": "stdout",
       "text": [
        "\r",
        "7.0214812439884575\r",
        "7.0375120230843216\r",
        "7.0535428021801865"
       ]
      },
      {
       "output_type": "stream",
       "stream": "stdout",
       "text": [
        "\r",
        "7.06957358127605\r",
        "7.085604360371914"
       ]
      },
      {
       "output_type": "stream",
       "stream": "stdout",
       "text": [
        "\r",
        "7.101635139467779\r",
        "7.117665918563643\r",
        "7.133696697659506\r",
        "7.14972747675537"
       ]
      },
      {
       "output_type": "stream",
       "stream": "stdout",
       "text": [
        "\r",
        "7.165758255851235\r",
        "7.181789034947099\r",
        "7.197819814042962"
       ]
      },
      {
       "output_type": "stream",
       "stream": "stdout",
       "text": [
        "\r",
        "7.213850593138826\r",
        "7.229881372234691"
       ]
      },
      {
       "output_type": "stream",
       "stream": "stdout",
       "text": [
        "\r",
        "7.245912151330555\r",
        "7.261942930426418"
       ]
      },
      {
       "output_type": "stream",
       "stream": "stdout",
       "text": [
        "\r",
        "7.277973709522283\r",
        "7.294004488618147\r",
        "7.310035267714012"
       ]
      },
      {
       "output_type": "stream",
       "stream": "stdout",
       "text": [
        "\r",
        "7.326066046809874\r",
        "7.342096825905739\r",
        "7.358127605001603\r",
        "7.374158384097468\r",
        "7.390189163193331\r",
        "7.406219942289195"
       ]
      },
      {
       "output_type": "stream",
       "stream": "stdout",
       "text": [
        "\r",
        "7.42225072138506\r",
        "7.438281500480922\r",
        "7.454312279576787\r",
        "7.470343058672651"
       ]
      },
      {
       "output_type": "stream",
       "stream": "stdout",
       "text": [
        "\r",
        "7.486373837768516\r",
        "7.502404616864379\r",
        "7.5184353959602435"
       ]
      },
      {
       "output_type": "stream",
       "stream": "stdout",
       "text": [
        "\r",
        "7.5344661750561075"
       ]
      },
      {
       "output_type": "stream",
       "stream": "stdout",
       "text": [
        "\r",
        "7.550496954151972\r",
        "7.566527733247836\r",
        "7.5825585123437\r",
        "7.5985892914395645\r",
        "7.6146200705354286"
       ]
      },
      {
       "output_type": "stream",
       "stream": "stdout",
       "text": [
        "\r",
        "7.630650849631292"
       ]
      },
      {
       "output_type": "stream",
       "stream": "stdout",
       "text": [
        "\r",
        "7.646681628727156\r",
        "7.662712407823021\r",
        "7.678743186918885"
       ]
      },
      {
       "output_type": "stream",
       "stream": "stdout",
       "text": [
        "\r",
        "7.694773966014748"
       ]
      },
      {
       "output_type": "stream",
       "stream": "stdout",
       "text": [
        "\r",
        "7.710804745110613\r",
        "7.726835524206477"
       ]
      },
      {
       "output_type": "stream",
       "stream": "stdout",
       "text": [
        "\r",
        "7.74286630330234"
       ]
      },
      {
       "output_type": "stream",
       "stream": "stdout",
       "text": [
        "\r",
        "7.758897082398204\r",
        "7.774927861494069\r",
        "7.790958640589933\r",
        "7.806989419685796"
       ]
      },
      {
       "output_type": "stream",
       "stream": "stdout",
       "text": [
        "\r",
        "7.823020198781661\r",
        "7.839050977877525"
       ]
      },
      {
       "output_type": "stream",
       "stream": "stdout",
       "text": [
        "\r",
        "7.855081756973389"
       ]
      },
      {
       "output_type": "stream",
       "stream": "stdout",
       "text": [
        "\r",
        "7.871112536069252"
       ]
      },
      {
       "output_type": "stream",
       "stream": "stdout",
       "text": [
        "\r",
        "7.887143315165117\r",
        "7.903174094260981"
       ]
      },
      {
       "output_type": "stream",
       "stream": "stdout",
       "text": [
        "\r",
        "7.919204873356846"
       ]
      },
      {
       "output_type": "stream",
       "stream": "stdout",
       "text": [
        "\r",
        "7.935235652452708"
       ]
      },
      {
       "output_type": "stream",
       "stream": "stdout",
       "text": [
        "\r",
        "7.951266431548573\r",
        "7.967297210644437\r",
        "7.983327989740302\r",
        "7.999358768836165"
       ]
      },
      {
       "output_type": "stream",
       "stream": "stdout",
       "text": [
        "\r",
        "8.01538954793203\r",
        "8.031420327027893\r",
        "8.047451106123757"
       ]
      },
      {
       "output_type": "stream",
       "stream": "stdout",
       "text": [
        "\r",
        "8.063481885219622"
       ]
      },
      {
       "output_type": "stream",
       "stream": "stdout",
       "text": [
        "\r",
        "8.079512664315486"
       ]
      },
      {
       "output_type": "stream",
       "stream": "stdout",
       "text": [
        "\r",
        "8.09554344341135\r",
        "8.111574222507214"
       ]
      },
      {
       "output_type": "stream",
       "stream": "stdout",
       "text": [
        "\r",
        "8.127605001603078\r",
        "8.143635780698942"
       ]
      },
      {
       "output_type": "stream",
       "stream": "stdout",
       "text": [
        "\r",
        "8.159666559794806"
       ]
      },
      {
       "output_type": "stream",
       "stream": "stdout",
       "text": [
        "\r",
        "8.17569733889067\r",
        "8.191728117986534"
       ]
      },
      {
       "output_type": "stream",
       "stream": "stdout",
       "text": [
        "\r",
        "8.207758897082398\r",
        "8.223789676178264\r",
        "8.239820455274126"
       ]
      },
      {
       "output_type": "stream",
       "stream": "stdout",
       "text": [
        "\r",
        "8.25585123436999\r",
        "8.271882013465854\r",
        "8.28791279256172\r",
        "8.303943571657582"
       ]
      },
      {
       "output_type": "stream",
       "stream": "stdout",
       "text": [
        "\r",
        "8.319974350753446\r",
        "8.336005129849312\r",
        "8.352035908945176"
       ]
      },
      {
       "output_type": "stream",
       "stream": "stdout",
       "text": [
        "\r",
        "8.368066688041038"
       ]
      },
      {
       "output_type": "stream",
       "stream": "stdout",
       "text": [
        "\r",
        "8.384097467136902\r",
        "8.400128246232768\r",
        "8.41615902532863\r",
        "8.432189804424494\r",
        "8.448220583520358\r",
        "8.464251362616224\r",
        "8.480282141712086"
       ]
      },
      {
       "output_type": "stream",
       "stream": "stdout",
       "text": [
        "\r",
        "8.49631292080795\r",
        "8.512343699903816\r",
        "8.52837447899968"
       ]
      },
      {
       "output_type": "stream",
       "stream": "stdout",
       "text": [
        "\r",
        "8.544405258095543\r",
        "8.560436037191407\r",
        "8.576466816287272"
       ]
      },
      {
       "output_type": "stream",
       "stream": "stdout",
       "text": [
        "\r",
        "8.592497595383136\r",
        "8.608528374478999\r",
        "8.624559153574864\r",
        "8.640589932670729"
       ]
      },
      {
       "output_type": "stream",
       "stream": "stdout",
       "text": [
        "\r",
        "8.656620711766593\r",
        "8.672651490862455\r",
        "8.68868226995832\r",
        "8.704713049054185"
       ]
      },
      {
       "output_type": "stream",
       "stream": "stdout",
       "text": [
        "\r",
        "8.720743828150049\r",
        "8.736774607245913\r",
        "8.752805386341777\r",
        "8.76883616543764\r",
        "8.784866944533503"
       ]
      },
      {
       "output_type": "stream",
       "stream": "stdout",
       "text": [
        "\r",
        "8.800897723629369"
       ]
      },
      {
       "output_type": "stream",
       "stream": "stdout",
       "text": [
        "\r",
        "8.816928502725233\r",
        "8.832959281821097"
       ]
      },
      {
       "output_type": "stream",
       "stream": "stdout",
       "text": [
        "\r",
        "8.84899006091696"
       ]
      },
      {
       "output_type": "stream",
       "stream": "stdout",
       "text": [
        "\r",
        "8.865020840012825\r",
        "8.881051619108689\r",
        "8.897082398204553"
       ]
      },
      {
       "output_type": "stream",
       "stream": "stdout",
       "text": [
        "\r",
        "8.913113177300417"
       ]
      },
      {
       "output_type": "stream",
       "stream": "stdout",
       "text": [
        "\r",
        "8.929143956396281"
       ]
      },
      {
       "output_type": "stream",
       "stream": "stdout",
       "text": [
        "\r",
        "8.945174735492145"
       ]
      },
      {
       "output_type": "stream",
       "stream": "stdout",
       "text": [
        "\r",
        "8.96120551458801\r",
        "8.977236293683873\r",
        "8.993267072779737\r",
        "9.009297851875601\r",
        "9.025328630971465\r",
        "9.04135941006733"
       ]
      },
      {
       "output_type": "stream",
       "stream": "stdout",
       "text": [
        "\r",
        "9.057390189163193\r",
        "9.073420968259057"
       ]
      },
      {
       "output_type": "stream",
       "stream": "stdout",
       "text": [
        "\r",
        "9.089451747354921\r",
        "9.105482526450785"
       ]
      },
      {
       "output_type": "stream",
       "stream": "stdout",
       "text": [
        "\r",
        "9.12151330554665"
       ]
      },
      {
       "output_type": "stream",
       "stream": "stdout",
       "text": [
        "\r",
        "9.137544084642514\r",
        "9.153574863738378"
       ]
      },
      {
       "output_type": "stream",
       "stream": "stdout",
       "text": [
        "\r",
        "9.169605642834242"
       ]
      },
      {
       "output_type": "stream",
       "stream": "stdout",
       "text": [
        "\r",
        "9.185636421930106\r",
        "9.20166720102597"
       ]
      },
      {
       "output_type": "stream",
       "stream": "stdout",
       "text": [
        "\r",
        "9.217697980121834\r",
        "9.233728759217698\r",
        "9.249759538313562\r",
        "9.265790317409426"
       ]
      },
      {
       "output_type": "stream",
       "stream": "stdout",
       "text": [
        "\r",
        "9.28182109650529"
       ]
      },
      {
       "output_type": "stream",
       "stream": "stdout",
       "text": [
        "\r",
        "9.297851875601154\r",
        "9.313882654697018\r",
        "9.329913433792884\r",
        "9.345944212888746"
       ]
      },
      {
       "output_type": "stream",
       "stream": "stdout",
       "text": [
        "\r",
        "9.36197499198461\r",
        "9.378005771080474\r",
        "9.39403655017634\r",
        "9.410067329272202"
       ]
      },
      {
       "output_type": "stream",
       "stream": "stdout",
       "text": [
        "\r",
        "9.426098108368066\r",
        "9.442128887463932"
       ]
      },
      {
       "output_type": "stream",
       "stream": "stdout",
       "text": [
        "\r",
        "9.458159666559794\r",
        "9.474190445655658\r",
        "9.490221224751522\r",
        "9.506252003847388\r",
        "9.52228278294325"
       ]
      },
      {
       "output_type": "stream",
       "stream": "stdout",
       "text": [
        "\r",
        "9.538313562039114\r",
        "9.554344341134978\r",
        "9.570375120230844\r",
        "9.586405899326707\r",
        "9.60243667842257\r",
        "9.618467457518436\r",
        "9.6344982366143\r",
        "9.650529015710163\r",
        "9.666559794806027\r",
        "9.682590573901892"
       ]
      },
      {
       "output_type": "stream",
       "stream": "stdout",
       "text": [
        "\r",
        "9.698621352997757"
       ]
      },
      {
       "output_type": "stream",
       "stream": "stdout",
       "text": [
        "\r",
        "9.714652132093619\r",
        "9.730682911189485\r",
        "9.746713690285349\r",
        "9.76274446938121"
       ]
      },
      {
       "output_type": "stream",
       "stream": "stdout",
       "text": [
        "\r",
        "9.778775248477075"
       ]
      },
      {
       "output_type": "stream",
       "stream": "stdout",
       "text": [
        "\r",
        "9.79480602757294\r",
        "9.810836806668805"
       ]
      },
      {
       "output_type": "stream",
       "stream": "stdout",
       "text": [
        "\r",
        "9.826867585764667\r",
        "9.842898364860533\r",
        "9.858929143956397"
       ]
      },
      {
       "output_type": "stream",
       "stream": "stdout",
       "text": [
        "\r",
        "9.874959923052261\r",
        "9.890990702148123\r",
        "9.907021481243989\r",
        "9.923052260339853\r",
        "9.939083039435717"
       ]
      },
      {
       "output_type": "stream",
       "stream": "stdout",
       "text": [
        "\r",
        "9.95511381853158\r",
        "9.971144597627445\r",
        "9.98717537672331\r",
        "10.003206155819173"
       ]
      },
      {
       "output_type": "stream",
       "stream": "stdout",
       "text": [
        "\r",
        "10.019236934915037\r",
        "10.035267714010901\r",
        "10.051298493106765"
       ]
      },
      {
       "output_type": "stream",
       "stream": "stdout",
       "text": [
        "\r",
        "10.067329272202628\r",
        "10.083360051298493\r",
        "10.099390830394357"
       ]
      },
      {
       "output_type": "stream",
       "stream": "stdout",
       "text": [
        "\r",
        "10.115421609490221\r",
        "10.131452388586085"
       ]
      },
      {
       "output_type": "stream",
       "stream": "stdout",
       "text": [
        "\r",
        "10.14748316768195\r",
        "10.163513946777814"
       ]
      },
      {
       "output_type": "stream",
       "stream": "stdout",
       "text": [
        "\r",
        "10.179544725873678\r",
        "10.195575504969542"
       ]
      },
      {
       "output_type": "stream",
       "stream": "stdout",
       "text": [
        "\r",
        "10.211606284065406\r",
        "10.22763706316127"
       ]
      },
      {
       "output_type": "stream",
       "stream": "stdout",
       "text": [
        "\r",
        "10.243667842257134\r",
        "10.259698621352998"
       ]
      },
      {
       "output_type": "stream",
       "stream": "stdout",
       "text": [
        "\r",
        "10.275729400448862\r",
        "10.291760179544726"
       ]
      },
      {
       "output_type": "stream",
       "stream": "stdout",
       "text": [
        "\r",
        "10.30779095864059\r",
        "10.323821737736454\r",
        "10.339852516832318\r",
        "10.355883295928182\r",
        "10.371914075024048\r",
        "10.38794485411991"
       ]
      },
      {
       "output_type": "stream",
       "stream": "stdout",
       "text": [
        "\r",
        "10.403975633215774\r",
        "10.420006412311638\r",
        "10.436037191407502\r",
        "10.452067970503366"
       ]
      },
      {
       "output_type": "stream",
       "stream": "stdout",
       "text": [
        "\r",
        "10.46809874959923\r",
        "10.484129528695094\r",
        "10.500160307790958\r",
        "10.516191086886822\r",
        "10.532221865982686"
       ]
      },
      {
       "output_type": "stream",
       "stream": "stdout",
       "text": [
        "\r",
        "10.548252645078552\r",
        "10.564283424174414\r",
        "10.580314203270278\r",
        "10.596344982366142\r",
        "10.612375761462008\r",
        "10.62840654055787\r",
        "10.644437319653735"
       ]
      },
      {
       "output_type": "stream",
       "stream": "stdout",
       "text": [
        "\r",
        "10.6604680987496"
       ]
      },
      {
       "output_type": "stream",
       "stream": "stdout",
       "text": [
        "\r",
        "10.676498877845464"
       ]
      },
      {
       "output_type": "stream",
       "stream": "stdout",
       "text": [
        "\r",
        "10.692529656941327\r",
        "10.70856043603719\r",
        "10.724591215133056"
       ]
      },
      {
       "output_type": "stream",
       "stream": "stdout",
       "text": [
        "\r",
        "10.740621994228919\r",
        "10.756652773324783\r",
        "10.772683552420649\r",
        "10.788714331516513\r",
        "10.804745110612375\r",
        "10.820775889708239\r",
        "10.836806668804105"
       ]
      },
      {
       "output_type": "stream",
       "stream": "stdout",
       "text": [
        "\r",
        "10.852837447899969\r",
        "10.868868226995831\r",
        "10.884899006091695"
       ]
      },
      {
       "output_type": "stream",
       "stream": "stdout",
       "text": [
        "\r",
        "10.90092978518756\r",
        "10.916960564283425\r",
        "10.932991343379287\r",
        "10.949022122475153\r",
        "10.965052901571017\r",
        "10.981083680666881"
       ]
      },
      {
       "output_type": "stream",
       "stream": "stdout",
       "text": [
        "\r",
        "10.997114459762743\r",
        "11.013145238858609"
       ]
      },
      {
       "output_type": "stream",
       "stream": "stdout",
       "text": [
        "\r",
        "11.029176017954473\r",
        "11.045206797050337"
       ]
      },
      {
       "output_type": "stream",
       "stream": "stdout",
       "text": [
        "\r",
        "11.061237576146201"
       ]
      },
      {
       "output_type": "stream",
       "stream": "stdout",
       "text": [
        "\r",
        "11.077268355242065\r",
        "11.09329913433793\r",
        "11.109329913433792"
       ]
      },
      {
       "output_type": "stream",
       "stream": "stdout",
       "text": [
        "\r",
        "11.125360692529657"
       ]
      },
      {
       "output_type": "stream",
       "stream": "stdout",
       "text": [
        "\r",
        "11.141391471625521"
       ]
      },
      {
       "output_type": "stream",
       "stream": "stdout",
       "text": [
        "\r",
        "11.157422250721385\r",
        "11.17345302981725\r",
        "11.189483808913113\r",
        "11.205514588008977"
       ]
      },
      {
       "output_type": "stream",
       "stream": "stdout",
       "text": [
        "\r",
        "11.221545367104842\r",
        "11.237576146200706\r",
        "11.25360692529657\r",
        "11.269637704392434"
       ]
      },
      {
       "output_type": "stream",
       "stream": "stdout",
       "text": [
        "\r",
        "11.285668483488298\r",
        "11.301699262584162\r",
        "11.317730041680026\r",
        "11.33376082077589\r",
        "11.349791599871754\r",
        "11.365822378967618"
       ]
      },
      {
       "output_type": "stream",
       "stream": "stdout",
       "text": [
        "\r",
        "11.381853158063482"
       ]
      },
      {
       "output_type": "stream",
       "stream": "stdout",
       "text": [
        "\r",
        "11.397883937159346\r",
        "11.41391471625521\r",
        "11.429945495351074"
       ]
      },
      {
       "output_type": "stream",
       "stream": "stdout",
       "text": [
        "\r",
        "11.445976274446938\r",
        "11.462007053542802\r",
        "11.478037832638666\r",
        "11.49406861173453\r",
        "11.510099390830394"
       ]
      },
      {
       "output_type": "stream",
       "stream": "stdout",
       "text": [
        "\r",
        "11.526130169926258\r",
        "11.542160949022122"
       ]
      },
      {
       "output_type": "stream",
       "stream": "stdout",
       "text": [
        "\r",
        "11.558191728117986\r",
        "11.57422250721385"
       ]
      },
      {
       "output_type": "stream",
       "stream": "stdout",
       "text": [
        "\r",
        "11.590253286309714\r",
        "11.606284065405578\r",
        "11.622314844501442\r",
        "11.638345623597306"
       ]
      },
      {
       "output_type": "stream",
       "stream": "stdout",
       "text": [
        "\r",
        "11.654376402693172\r",
        "11.670407181789034"
       ]
      },
      {
       "output_type": "stream",
       "stream": "stdout",
       "text": [
        "\r",
        "11.686437960884899\r",
        "11.702468739980763"
       ]
      },
      {
       "output_type": "stream",
       "stream": "stdout",
       "text": [
        "\r",
        "11.718499519076628\r",
        "11.73453029817249\r",
        "11.750561077268355"
       ]
      },
      {
       "output_type": "stream",
       "stream": "stdout",
       "text": [
        "\r",
        "11.76659185636422"
       ]
      },
      {
       "output_type": "stream",
       "stream": "stdout",
       "text": [
        "\r",
        "11.782622635460083\r",
        "11.798653414555947\r",
        "11.81468419365181"
       ]
      },
      {
       "output_type": "stream",
       "stream": "stdout",
       "text": [
        "\r",
        "11.830714972747677\r",
        "11.846745751843539"
       ]
      },
      {
       "output_type": "stream",
       "stream": "stdout",
       "text": [
        "\r",
        "11.862776530939403\r",
        "11.878807310035269\r",
        "11.894838089131133\r",
        "11.910868868226995\r",
        "11.926899647322859\r",
        "11.942930426418725"
       ]
      },
      {
       "output_type": "stream",
       "stream": "stdout",
       "text": [
        "\r",
        "11.958961205514589\r",
        "11.974991984610451\r",
        "11.991022763706315"
       ]
      },
      {
       "output_type": "stream",
       "stream": "stdout",
       "text": [
        "\r",
        "12.007053542802181\r",
        "12.023084321898045\r",
        "12.039115100993907\r",
        "12.055145880089773"
       ]
      },
      {
       "output_type": "stream",
       "stream": "stdout",
       "text": [
        "\r",
        "12.071176659185637\r",
        "12.0872074382815"
       ]
      },
      {
       "output_type": "stream",
       "stream": "stdout",
       "text": [
        "\r",
        "12.103238217377363\r",
        "12.11926899647323\r",
        "12.135299775569093"
       ]
      },
      {
       "output_type": "stream",
       "stream": "stdout",
       "text": [
        "\r",
        "12.151330554664955\r",
        "12.167361333760821"
       ]
      },
      {
       "output_type": "stream",
       "stream": "stdout",
       "text": [
        "\r",
        "12.183392112856685\r",
        "12.19942289195255\r",
        "12.215453671048412\r",
        "12.231484450144277\r",
        "12.247515229240141"
       ]
      },
      {
       "output_type": "stream",
       "stream": "stdout",
       "text": [
        "\r",
        "12.263546008336005\r",
        "12.27957678743187\r",
        "12.295607566527734\r",
        "12.311638345623598\r",
        "12.327669124719462\r",
        "12.343699903815326"
       ]
      },
      {
       "output_type": "stream",
       "stream": "stdout",
       "text": [
        "\r",
        "12.35973068291119\r",
        "12.375761462007054\r",
        "12.391792241102918"
       ]
      },
      {
       "output_type": "stream",
       "stream": "stdout",
       "text": [
        "\r",
        "12.407823020198782\r",
        "12.423853799294646\r",
        "12.43988457839051"
       ]
      },
      {
       "output_type": "stream",
       "stream": "stdout",
       "text": [
        "\r",
        "12.455915357486374\r",
        "12.471946136582238\r",
        "12.487976915678102\r",
        "12.504007694773966\r",
        "12.52003847386983"
       ]
      },
      {
       "output_type": "stream",
       "stream": "stdout",
       "text": [
        "\r",
        "12.536069252965696\r",
        "12.552100032061558\r",
        "12.568130811157422"
       ]
      },
      {
       "output_type": "stream",
       "stream": "stdout",
       "text": [
        "\r",
        "12.584161590253288\r",
        "12.60019236934915\r",
        "12.616223148445012"
       ]
      },
      {
       "output_type": "stream",
       "stream": "stdout",
       "text": [
        "\r",
        "12.632253927540878"
       ]
      },
      {
       "output_type": "stream",
       "stream": "stdout",
       "text": [
        "\r",
        "12.648284706636742\r",
        "12.664315485732608\r",
        "12.68034626482847\r",
        "12.696377043924334\r",
        "12.7124078230202\r",
        "12.728438602116062"
       ]
      },
      {
       "output_type": "stream",
       "stream": "stdout",
       "text": [
        "\r",
        "12.744469381211927"
       ]
      },
      {
       "output_type": "stream",
       "stream": "stdout",
       "text": [
        "\r",
        "12.760500160307792\r",
        "12.776530939403655"
       ]
      },
      {
       "output_type": "stream",
       "stream": "stdout",
       "text": [
        "\r",
        "12.792561718499517\r",
        "12.808592497595384"
       ]
      },
      {
       "output_type": "stream",
       "stream": "stdout",
       "text": [
        "\r",
        "12.824623276691247\r",
        "12.840654055787112\r",
        "12.856684834882975"
       ]
      },
      {
       "output_type": "stream",
       "stream": "stdout",
       "text": [
        "\r",
        "12.872715613978839\r",
        "12.888746393074705"
       ]
      },
      {
       "output_type": "stream",
       "stream": "stdout",
       "text": [
        "\r",
        "12.904777172170567\r",
        "12.920807951266431\r",
        "12.936838730362297"
       ]
      },
      {
       "output_type": "stream",
       "stream": "stdout",
       "text": [
        "\r",
        "12.952869509458159\r",
        "12.968900288554025\r",
        "12.984931067649889\r",
        "13.000961846745751\r",
        "13.016992625841617\r",
        "13.03302340493748"
       ]
      },
      {
       "output_type": "stream",
       "stream": "stdout",
       "text": [
        "\r",
        "13.049054184033343"
       ]
      },
      {
       "output_type": "stream",
       "stream": "stdout",
       "text": [
        "\r",
        "13.065084963129209\r",
        "13.081115742225071"
       ]
      },
      {
       "output_type": "stream",
       "stream": "stdout",
       "text": [
        "\r",
        "13.097146521320935"
       ]
      },
      {
       "output_type": "stream",
       "stream": "stdout",
       "text": [
        "\r",
        "13.113177300416801\r",
        "13.129208079512663\r",
        "13.14523885860853"
       ]
      },
      {
       "output_type": "stream",
       "stream": "stdout",
       "text": [
        "\r",
        "13.161269637704393\r",
        "13.177300416800255"
       ]
      },
      {
       "output_type": "stream",
       "stream": "stdout",
       "text": [
        "\r",
        "13.193331195896121\r",
        "13.209361974991985\r",
        "13.225392754087848\r",
        "13.241423533183713\r",
        "13.257454312279576"
       ]
      },
      {
       "output_type": "stream",
       "stream": "stdout",
       "text": [
        "\r",
        "13.273485091375441"
       ]
      },
      {
       "output_type": "stream",
       "stream": "stdout",
       "text": [
        "\r",
        "13.289515870471305"
       ]
      },
      {
       "output_type": "stream",
       "stream": "stdout",
       "text": [
        "\r",
        "13.305546649567168\r",
        "13.321577428663034\r",
        "13.337608207758898\r",
        "13.35363898685476\r",
        "13.369669765950626"
       ]
      },
      {
       "output_type": "stream",
       "stream": "stdout",
       "text": [
        "\r",
        "13.38570054504649"
       ]
      },
      {
       "output_type": "stream",
       "stream": "stdout",
       "text": [
        "\r",
        "13.401731324142355\r",
        "13.417762103238218"
       ]
      },
      {
       "output_type": "stream",
       "stream": "stdout",
       "text": [
        "\r",
        "13.43379288233408\r",
        "13.449823661429946\r",
        "13.46585444052581"
       ]
      },
      {
       "output_type": "stream",
       "stream": "stdout",
       "text": [
        "\r",
        "13.481885219621672\r",
        "13.497915998717538"
       ]
      },
      {
       "output_type": "stream",
       "stream": "stdout",
       "text": [
        "\r",
        "13.513946777813402\r",
        "13.529977556909264\r",
        "13.54600833600513\r",
        "13.562039115100994"
       ]
      },
      {
       "output_type": "stream",
       "stream": "stdout",
       "text": [
        "\r",
        "13.57806989419686\r",
        "13.594100673292722"
       ]
      },
      {
       "output_type": "stream",
       "stream": "stdout",
       "text": [
        "\r",
        "13.610131452388586\r",
        "13.62616223148445\r",
        "13.642193010580314\r",
        "13.658223789676176\r",
        "13.674254568772042\r",
        "13.690285347867906\r",
        "13.706316126963772"
       ]
      },
      {
       "output_type": "stream",
       "stream": "stdout",
       "text": [
        "\r",
        "13.722346906059634\r",
        "13.738377685155498\r",
        "13.754408464251364\r",
        "13.770439243347226"
       ]
      },
      {
       "output_type": "stream",
       "stream": "stdout",
       "text": [
        "\r",
        "13.78647002244309\r",
        "13.802500801538956\r",
        "13.818531580634819"
       ]
      },
      {
       "output_type": "stream",
       "stream": "stdout",
       "text": [
        "\r",
        "13.83456235973068"
       ]
      },
      {
       "output_type": "stream",
       "stream": "stdout",
       "text": [
        "\r",
        "13.850593138826547\r",
        "13.86662391792241\r",
        "13.882654697018276"
       ]
      },
      {
       "output_type": "stream",
       "stream": "stdout",
       "text": [
        "\r",
        "13.898685476114139\r",
        "13.914716255210003\r",
        "13.930747034305869"
       ]
      },
      {
       "output_type": "stream",
       "stream": "stdout",
       "text": [
        "\r",
        "13.94677781340173\r",
        "13.962808592497595"
       ]
      },
      {
       "output_type": "stream",
       "stream": "stdout",
       "text": [
        "\r",
        "13.97883937159346\r",
        "13.994870150689323\r",
        "14.010900929785189"
       ]
      },
      {
       "output_type": "stream",
       "stream": "stdout",
       "text": [
        "\r",
        "14.026931708881051\r",
        "14.042962487976915"
       ]
      },
      {
       "output_type": "stream",
       "stream": "stdout",
       "text": [
        "\r",
        "14.05899326707278"
       ]
      },
      {
       "output_type": "stream",
       "stream": "stdout",
       "text": [
        "\r",
        "14.075024046168643\r",
        "14.091054825264507"
       ]
      },
      {
       "output_type": "stream",
       "stream": "stdout",
       "text": [
        "\r",
        "14.107085604360373\r",
        "14.123116383456235\r",
        "14.1391471625521\r",
        "14.155177941647965\r",
        "14.171208720743827\r",
        "14.187239499839693\r",
        "14.203270278935557"
       ]
      },
      {
       "output_type": "stream",
       "stream": "stdout",
       "text": [
        "\r",
        "14.21930105803142\r",
        "14.235331837127285\r",
        "14.251362616223147\r",
        "14.267393395319012"
       ]
      },
      {
       "output_type": "stream",
       "stream": "stdout",
       "text": [
        "\r",
        "14.283424174414877\r",
        "14.29945495351074\r",
        "14.315485732606605\r",
        "14.33151651170247"
       ]
      },
      {
       "output_type": "stream",
       "stream": "stdout",
       "text": [
        "\r",
        "14.347547290798332\r",
        "14.363578069894197"
       ]
      },
      {
       "output_type": "stream",
       "stream": "stdout",
       "text": [
        "\r",
        "14.379608848990062\r",
        "14.395639628085924"
       ]
      },
      {
       "output_type": "stream",
       "stream": "stdout",
       "text": [
        "\r",
        "14.41167040718179\r",
        "14.427701186277652\r",
        "14.443731965373516\r",
        "14.459762744469382\r",
        "14.475793523565244\r",
        "14.49182430266111\r",
        "14.507855081756974"
       ]
      },
      {
       "output_type": "stream",
       "stream": "stdout",
       "text": [
        "\r",
        "14.523885860852836"
       ]
      },
      {
       "output_type": "stream",
       "stream": "stdout",
       "text": [
        "\r",
        "14.539916639948702\r",
        "14.555947419044566"
       ]
      },
      {
       "output_type": "stream",
       "stream": "stdout",
       "text": [
        "\r",
        "14.571978198140428\r",
        "14.588008977236294"
       ]
      },
      {
       "output_type": "stream",
       "stream": "stdout",
       "text": [
        "\r",
        "14.604039756332158\r",
        "14.620070535428024\r",
        "14.636101314523886"
       ]
      },
      {
       "output_type": "stream",
       "stream": "stdout",
       "text": [
        "\r",
        "14.652132093619748\r",
        "14.668162872715614"
       ]
      },
      {
       "output_type": "stream",
       "stream": "stdout",
       "text": [
        "\r",
        "14.684193651811478\r",
        "14.70022443090734"
       ]
      },
      {
       "output_type": "stream",
       "stream": "stdout",
       "text": [
        "\r",
        "14.716255210003206\r",
        "14.73228598909907"
       ]
      },
      {
       "output_type": "stream",
       "stream": "stdout",
       "text": [
        "\r",
        "14.748316768194936\r",
        "14.764347547290798\r",
        "14.780378326386662"
       ]
      },
      {
       "output_type": "stream",
       "stream": "stdout",
       "text": [
        "\r",
        "14.796409105482528\r",
        "14.81243988457839"
       ]
      },
      {
       "output_type": "stream",
       "stream": "stdout",
       "text": [
        "\r",
        "14.828470663674253\r",
        "14.84450144277012\r",
        "14.860532221865983\r",
        "14.876563000961845\r",
        "14.89259378005771"
       ]
      },
      {
       "output_type": "stream",
       "stream": "stdout",
       "text": [
        "\r",
        "14.908624559153575\r",
        "14.92465533824944"
       ]
      },
      {
       "output_type": "stream",
       "stream": "stdout",
       "text": [
        "\r",
        "14.940686117345303\r",
        "14.956716896441167\r",
        "14.972747675537033\r",
        "14.988778454632895\r",
        "15.004809233728759"
       ]
      },
      {
       "output_type": "stream",
       "stream": "stdout",
       "text": [
        "\r",
        "15.020840012824625\r",
        "15.036870791920487"
       ]
      },
      {
       "output_type": "stream",
       "stream": "stdout",
       "text": [
        "\r",
        "15.052901571016353\r",
        "15.068932350112215"
       ]
      },
      {
       "output_type": "stream",
       "stream": "stdout",
       "text": [
        "\r",
        "15.084963129208079\r",
        "15.100993908303945"
       ]
      },
      {
       "output_type": "stream",
       "stream": "stdout",
       "text": [
        "\r",
        "15.117024687399807\r",
        "15.133055466495671\r",
        "15.149086245591537\r",
        "15.1651170246874"
       ]
      },
      {
       "output_type": "stream",
       "stream": "stdout",
       "text": [
        "\r",
        "15.181147803783263\r",
        "15.197178582879129\r",
        "15.213209361974991"
       ]
      },
      {
       "output_type": "stream",
       "stream": "stdout",
       "text": [
        "\r",
        "15.229240141070857\r",
        "15.245270920166721\r",
        "15.261301699262583\r",
        "15.27733247835845\r",
        "15.293363257454311\r",
        "15.309394036550175\r",
        "15.325424815646041"
       ]
      },
      {
       "output_type": "stream",
       "stream": "stdout",
       "text": [
        "\r",
        "15.341455594741904"
       ]
      },
      {
       "output_type": "stream",
       "stream": "stdout",
       "text": [
        "\r",
        "15.35748637383777\r",
        "15.373517152933633\r",
        "15.389547932029496"
       ]
      },
      {
       "output_type": "stream",
       "stream": "stdout",
       "text": [
        "\r",
        "15.405578711125361\r",
        "15.421609490221226"
       ]
      },
      {
       "output_type": "stream",
       "stream": "stdout",
       "text": [
        "\r",
        "15.437640269317088\r",
        "15.453671048412954"
       ]
      },
      {
       "output_type": "stream",
       "stream": "stdout",
       "text": [
        "\r",
        "15.469701827508816\r",
        "15.48573260660468\r",
        "15.501763385700546\r",
        "15.517794164796408\r",
        "15.533824943892274\r",
        "15.549855722988138"
       ]
      },
      {
       "output_type": "stream",
       "stream": "stdout",
       "text": [
        "\r",
        "15.565886502084\r",
        "15.581917281179866\r",
        "15.59794806027573\r",
        "15.613978839371592"
       ]
      },
      {
       "output_type": "stream",
       "stream": "stdout",
       "text": [
        "\r",
        "15.630009618467458\r",
        "15.646040397563322"
       ]
      },
      {
       "output_type": "stream",
       "stream": "stdout",
       "text": [
        "\r",
        "15.662071176659186\r",
        "15.67810195575505"
       ]
      },
      {
       "output_type": "stream",
       "stream": "stdout",
       "text": [
        "\r",
        "15.694132734850912\r",
        "15.710163513946778\r",
        "15.726194293042642\r",
        "15.742225072138504\r",
        "15.75825585123437\r",
        "15.774286630330234\r",
        "15.790317409426097"
       ]
      },
      {
       "output_type": "stream",
       "stream": "stdout",
       "text": [
        "\r",
        "15.806348188521962\r",
        "15.822378967617826\r",
        "15.838409746713692"
       ]
      },
      {
       "output_type": "stream",
       "stream": "stdout",
       "text": [
        "\r",
        "15.854440525809554\r",
        "15.870471304905417\r",
        "15.886502084001282\r",
        "15.902532863097147\r",
        "15.918563642193009"
       ]
      },
      {
       "output_type": "stream",
       "stream": "stdout",
       "text": [
        "\r",
        "15.934594421288875\r",
        "15.950625200384739"
       ]
      },
      {
       "output_type": "stream",
       "stream": "stdout",
       "text": [
        "\r",
        "15.966655979480604\r",
        "15.982686758576467\r",
        "15.99871753767233\r",
        "16.014748316768195"
       ]
      },
      {
       "output_type": "stream",
       "stream": "stdout",
       "text": [
        "\r",
        "16.03077909586406\r",
        "16.046809874959923\r",
        "16.062840654055787"
       ]
      },
      {
       "output_type": "stream",
       "stream": "stdout",
       "text": [
        "\r",
        "16.07887143315165\r",
        "16.094902212247515\r",
        "16.11093299134338"
       ]
      },
      {
       "output_type": "stream",
       "stream": "stdout",
       "text": [
        "\r",
        "16.126963770439243\r",
        "16.142994549535107\r",
        "16.15902532863097\r",
        "16.175056107726835"
       ]
      },
      {
       "output_type": "stream",
       "stream": "stdout",
       "text": [
        "\r",
        "16.1910868868227\r",
        "16.207117665918563\r",
        "16.223148445014427\r",
        "16.23917922411029\r",
        "16.255210003206155\r",
        "16.271240782302023\r",
        "16.287271561397883\r",
        "16.303302340493747\r",
        "16.31933311958961\r",
        "16.335363898685475"
       ]
      },
      {
       "output_type": "stream",
       "stream": "stdout",
       "text": [
        "\r",
        "16.35139467778134"
       ]
      },
      {
       "output_type": "stream",
       "stream": "stdout",
       "text": [
        "\r",
        "16.367425456877204\r",
        "16.383456235973068\r",
        "16.399487015068935\r",
        "16.415517794164796\r",
        "16.43154857326066"
       ]
      },
      {
       "output_type": "stream",
       "stream": "stdout",
       "text": [
        "\r",
        "16.447579352356527\r",
        "16.463610131452388\r",
        "16.47964091054825"
       ]
      },
      {
       "output_type": "stream",
       "stream": "stdout",
       "text": [
        "\r",
        "16.495671689644116\r",
        "16.51170246873998"
       ]
      },
      {
       "output_type": "stream",
       "stream": "stdout",
       "text": [
        "\r",
        "16.527733247835844\r",
        "16.543764026931708\r",
        "16.559794806027572\r",
        "16.57582558512344"
       ]
      },
      {
       "output_type": "stream",
       "stream": "stdout",
       "text": [
        "\r",
        "16.5918563642193"
       ]
      },
      {
       "output_type": "stream",
       "stream": "stdout",
       "text": [
        "\r",
        "16.607887143315164\r",
        "16.62391792241103\r",
        "16.639948701506892"
       ]
      },
      {
       "output_type": "stream",
       "stream": "stdout",
       "text": [
        "\r",
        "16.655979480602756\r",
        "16.672010259698624\r",
        "16.688041038794484\r",
        "16.704071817890352"
       ]
      },
      {
       "output_type": "stream",
       "stream": "stdout",
       "text": [
        "\r",
        "16.720102596986212\r",
        "16.736133376082076"
       ]
      },
      {
       "output_type": "stream",
       "stream": "stdout",
       "text": [
        "\r",
        "16.752164155177944\r",
        "16.768194934273804\r",
        "16.78422571336967"
       ]
      },
      {
       "output_type": "stream",
       "stream": "stdout",
       "text": [
        "\r",
        "16.800256492465536\r",
        "16.816287271561396\r",
        "16.83231805065726"
       ]
      },
      {
       "output_type": "stream",
       "stream": "stdout",
       "text": [
        "\r",
        "16.848348829753128\r",
        "16.86437960884899\r",
        "16.880410387944856\r",
        "16.896441167040717"
       ]
      },
      {
       "output_type": "stream",
       "stream": "stdout",
       "text": [
        "\r",
        "16.91247194613658\r",
        "16.92850272523245\r",
        "16.94453350432831\r",
        "16.960564283424173"
       ]
      },
      {
       "output_type": "stream",
       "stream": "stdout",
       "text": [
        "\r",
        "16.97659506252004\r",
        "16.9926258416159\r",
        "17.00865662071177\r",
        "17.024687399807632\r",
        "17.040718178903493\r",
        "17.05674895799936\r",
        "17.072779737095225\r",
        "17.088810516191085\r",
        "17.104841295286953"
       ]
      },
      {
       "output_type": "stream",
       "stream": "stdout",
       "text": [
        "\r",
        "17.120872074382813\r",
        "17.136902853478677"
       ]
      },
      {
       "output_type": "stream",
       "stream": "stdout",
       "text": [
        "\r",
        "17.152933632574545\r",
        "17.168964411670405"
       ]
      },
      {
       "output_type": "stream",
       "stream": "stdout",
       "text": [
        "\r",
        "17.184995190766273\r",
        "17.201025969862137"
       ]
      },
      {
       "output_type": "stream",
       "stream": "stdout",
       "text": [
        "\r",
        "17.217056748957997\r",
        "17.233087528053865\r",
        "17.24911830714973"
       ]
      },
      {
       "output_type": "stream",
       "stream": "stdout",
       "text": [
        "\r",
        "17.26514908624559"
       ]
      },
      {
       "output_type": "stream",
       "stream": "stdout",
       "text": [
        "\r",
        "17.281179865341457\r",
        "17.297210644437317\r",
        "17.313241423533185\r",
        "17.32927220262905"
       ]
      },
      {
       "output_type": "stream",
       "stream": "stdout",
       "text": [
        "\r",
        "17.34530298172491\r",
        "17.361333760820777\r",
        "17.37736453991664"
       ]
      },
      {
       "output_type": "stream",
       "stream": "stdout",
       "text": [
        "\r",
        "17.3933953190125"
       ]
      },
      {
       "output_type": "stream",
       "stream": "stdout",
       "text": [
        "\r",
        "17.40942609810837\r",
        "17.425456877204233\r",
        "17.441487656300097\r",
        "17.45751843539596"
       ]
      },
      {
       "output_type": "stream",
       "stream": "stdout",
       "text": [
        "\r",
        "17.473549214491825\r",
        "17.48957999358769"
       ]
      },
      {
       "output_type": "stream",
       "stream": "stdout",
       "text": [
        "\r",
        "17.505610772683553\r",
        "17.521641551779414\r",
        "17.53767233087528\r",
        "17.553703109971146\r",
        "17.569733889067006\r",
        "17.585764668162874"
       ]
      },
      {
       "output_type": "stream",
       "stream": "stdout",
       "text": [
        "\r",
        "17.601795447258738\r",
        "17.6178262263546\r",
        "17.633857005450466\r",
        "17.64988778454633\r",
        "17.665918563642194"
       ]
      },
      {
       "output_type": "stream",
       "stream": "stdout",
       "text": [
        "\r",
        "17.681949342738058\r",
        "17.69798012183392\r",
        "17.714010900929786\r",
        "17.73004168002565"
       ]
      },
      {
       "output_type": "stream",
       "stream": "stdout",
       "text": [
        "\r",
        "17.746072459121514\r",
        "17.762103238217378"
       ]
      },
      {
       "output_type": "stream",
       "stream": "stdout",
       "text": [
        "\r",
        "17.778134017313242\r",
        "17.794164796409106\r",
        "17.81019557550497"
       ]
      },
      {
       "output_type": "stream",
       "stream": "stdout",
       "text": [
        "\r",
        "17.826226354600834\r",
        "17.842257133696698"
       ]
      },
      {
       "output_type": "stream",
       "stream": "stdout",
       "text": [
        "\r",
        "17.858287912792562\r",
        "17.874318691888426\r",
        "17.89034947098429\r",
        "17.906380250080154\r",
        "17.92241102917602\r",
        "17.938441808271882\r",
        "17.954472587367746"
       ]
      },
      {
       "output_type": "stream",
       "stream": "stdout",
       "text": [
        "\r",
        "17.97050336646361\r",
        "17.986534145559474\r",
        "18.00256492465534\r",
        "18.018595703751203\r",
        "18.034626482847067\r",
        "18.05065726194293"
       ]
      },
      {
       "output_type": "stream",
       "stream": "stdout",
       "text": [
        "\r",
        "18.066688041038795"
       ]
      },
      {
       "output_type": "stream",
       "stream": "stdout",
       "text": [
        "\r",
        "18.08271882013466\r",
        "18.098749599230523\r",
        "18.114780378326387"
       ]
      },
      {
       "output_type": "stream",
       "stream": "stdout",
       "text": [
        "\r",
        "18.13081115742225\r",
        "18.146841936518115\r",
        "18.16287271561398"
       ]
      },
      {
       "output_type": "stream",
       "stream": "stdout",
       "text": [
        "\r",
        "18.178903494709843\r",
        "18.194934273805707"
       ]
      },
      {
       "output_type": "stream",
       "stream": "stdout",
       "text": [
        "\r",
        "18.21096505290157\r",
        "18.226995831997435\r",
        "18.2430266110933\r",
        "18.259057390189163\r",
        "18.275088169285027"
       ]
      },
      {
       "output_type": "stream",
       "stream": "stdout",
       "text": [
        "\r",
        "18.29111894838089\r",
        "18.307149727476755\r",
        "18.32318050657262\r",
        "18.339211285668483\r",
        "18.355242064764347\r",
        "18.37127284386021"
       ]
      },
      {
       "output_type": "stream",
       "stream": "stdout",
       "text": [
        "\r",
        "18.387303622956075\r",
        "18.40333440205194\r",
        "18.419365181147803\r",
        "18.435395960243667\r",
        "18.45142673933953\r",
        "18.467457518435396\r",
        "18.48348829753126\r",
        "18.499519076627124"
       ]
      },
      {
       "output_type": "stream",
       "stream": "stdout",
       "text": [
        "\r",
        "18.515549855722988"
       ]
      },
      {
       "output_type": "stream",
       "stream": "stdout",
       "text": [
        "\r",
        "18.53158063481885"
       ]
      },
      {
       "output_type": "stream",
       "stream": "stdout",
       "text": [
        "\r",
        "18.547611413914716\r",
        "18.56364219301058"
       ]
      },
      {
       "output_type": "stream",
       "stream": "stdout",
       "text": [
        "\r",
        "18.579672972106444"
       ]
      },
      {
       "output_type": "stream",
       "stream": "stdout",
       "text": [
        "\r",
        "18.595703751202308\r",
        "18.611734530298172\r",
        "18.627765309394036\r",
        "18.6437960884899\r",
        "18.659826867585767\r",
        "18.675857646681628\r",
        "18.691888425777492\r",
        "18.707919204873356\r",
        "18.72394998396922"
       ]
      },
      {
       "output_type": "stream",
       "stream": "stdout",
       "text": [
        "\r",
        "18.739980763065084\r",
        "18.756011542160948\r",
        "18.772042321256812\r",
        "18.78807310035268\r",
        "18.80410387944854"
       ]
      },
      {
       "output_type": "stream",
       "stream": "stdout",
       "text": [
        "\r",
        "18.820134658544404\r",
        "18.836165437640272\r",
        "18.852196216736132\r",
        "18.868226995831996"
       ]
      },
      {
       "output_type": "stream",
       "stream": "stdout",
       "text": [
        "\r",
        "18.884257774927864\r",
        "18.900288554023724\r",
        "18.91631933311959"
       ]
      },
      {
       "output_type": "stream",
       "stream": "stdout",
       "text": [
        "\r",
        "18.932350112215452\r",
        "18.948380891311317\r",
        "18.964411670407184\r",
        "18.980442449503045\r",
        "18.99647322859891\r",
        "19.012504007694776\r",
        "19.028534786790637"
       ]
      },
      {
       "output_type": "stream",
       "stream": "stdout",
       "text": [
        "\r",
        "19.0445655658865\r",
        "19.06059634498237\r",
        "19.07662712407823\r",
        "19.092657903174096\r",
        "19.108688682269957\r",
        "19.12471946136582"
       ]
      },
      {
       "output_type": "stream",
       "stream": "stdout",
       "text": [
        "\r",
        "19.14075024046169\r",
        "19.15678101955755\r",
        "19.172811798653413\r",
        "19.18884257774928\r",
        "19.20487335684514\r",
        "19.220904135941005\r",
        "19.236934915036873\r",
        "19.252965694132733\r",
        "19.2689964732286\r",
        "19.285027252324465\r",
        "19.301058031420325"
       ]
      },
      {
       "output_type": "stream",
       "stream": "stdout",
       "text": [
        "\r",
        "19.317088810516193"
       ]
      },
      {
       "output_type": "stream",
       "stream": "stdout",
       "text": [
        "\r",
        "19.333119589612053\r",
        "19.349150368707917"
       ]
      },
      {
       "output_type": "stream",
       "stream": "stdout",
       "text": [
        "\r",
        "19.365181147803785\r",
        "19.381211926899645\r",
        "19.397242705995513\r",
        "19.413273485091377"
       ]
      },
      {
       "output_type": "stream",
       "stream": "stdout",
       "text": [
        "\r",
        "19.429304264187238\r",
        "19.445335043283105"
       ]
      },
      {
       "output_type": "stream",
       "stream": "stdout",
       "text": [
        "\r",
        "19.46136582237897\r",
        "19.47739660147483\r",
        "19.493427380570697\r",
        "19.509458159666558\r",
        "19.52548893876242\r",
        "19.54151971785829"
       ]
      },
      {
       "output_type": "stream",
       "stream": "stdout",
       "text": [
        "\r",
        "19.55755049695415\r",
        "19.573581276050017\r",
        "19.58961205514588\r",
        "19.605642834241742\r",
        "19.62167361333761\r",
        "19.637704392433474\r",
        "19.653735171529334\r",
        "19.6697659506252\r",
        "19.685796729721066"
       ]
      },
      {
       "output_type": "stream",
       "stream": "stdout",
       "text": [
        "\r",
        "19.70182750881693\r",
        "19.717858287912794\r",
        "19.733889067008654\r",
        "19.749919846104522"
       ]
      },
      {
       "output_type": "stream",
       "stream": "stdout",
       "text": [
        "\r",
        "19.765950625200386\r",
        "19.781981404296246"
       ]
      },
      {
       "output_type": "stream",
       "stream": "stdout",
       "text": [
        "\r",
        "19.798012183392114"
       ]
      },
      {
       "output_type": "stream",
       "stream": "stdout",
       "text": [
        "\r",
        "19.814042962487978\r",
        "19.83007374158384"
       ]
      },
      {
       "output_type": "stream",
       "stream": "stdout",
       "text": [
        "\r",
        "19.846104520679706"
       ]
      },
      {
       "output_type": "stream",
       "stream": "stdout",
       "text": [
        "\r",
        "19.86213529977557\r",
        "19.878166078871434\r",
        "19.894196857967298"
       ]
      },
      {
       "output_type": "stream",
       "stream": "stdout",
       "text": [
        "\r",
        "19.91022763706316\r",
        "19.926258416159026\r",
        "19.94228919525489\r",
        "19.95831997435075\r",
        "19.97435075344662\r",
        "19.990381532542482\r",
        "20.006412311638346"
       ]
      },
      {
       "output_type": "stream",
       "stream": "stdout",
       "text": [
        "\r",
        "20.02244309073421\r",
        "20.038473869830074\r",
        "20.05450464892594\r",
        "20.070535428021802"
       ]
      },
      {
       "output_type": "stream",
       "stream": "stdout",
       "text": [
        "\r",
        "20.086566207117666\r",
        "20.10259698621353\r",
        "20.118627765309395\r",
        "20.134658544405255"
       ]
      },
      {
       "output_type": "stream",
       "stream": "stdout",
       "text": [
        "\r",
        "20.150689323501123\r",
        "20.166720102596987\r",
        "20.18275088169285"
       ]
      },
      {
       "output_type": "stream",
       "stream": "stdout",
       "text": [
        "\r",
        "20.198781660788715"
       ]
      },
      {
       "output_type": "stream",
       "stream": "stdout",
       "text": [
        "\r",
        "20.21481243988458\r",
        "20.230843218980443\r",
        "20.246873998076307\r",
        "20.26290477717217"
       ]
      },
      {
       "output_type": "stream",
       "stream": "stdout",
       "text": [
        "\r",
        "20.278935556268035\r",
        "20.2949663353639"
       ]
      },
      {
       "output_type": "stream",
       "stream": "stdout",
       "text": [
        "\r",
        "20.310997114459763"
       ]
      },
      {
       "output_type": "stream",
       "stream": "stdout",
       "text": [
        "\r",
        "20.327027893555627\r",
        "20.34305867265149\r",
        "20.359089451747355\r",
        "20.37512023084322\r",
        "20.391151009939083"
       ]
      },
      {
       "output_type": "stream",
       "stream": "stdout",
       "text": [
        "\r",
        "20.407181789034947\r",
        "20.42321256813081\r",
        "20.439243347226675\r",
        "20.45527412632254"
       ]
      },
      {
       "output_type": "stream",
       "stream": "stdout",
       "text": [
        "\r",
        "20.471304905418403\r",
        "20.487335684514267"
       ]
      },
      {
       "output_type": "stream",
       "stream": "stdout",
       "text": [
        "\r",
        "20.50336646361013\r",
        "20.519397242705995\r",
        "20.53542802180186\r",
        "20.551458800897723"
       ]
      },
      {
       "output_type": "stream",
       "stream": "stdout",
       "text": [
        "\r",
        "20.567489579993588\r",
        "20.58352035908945\r",
        "20.599551138185316\r",
        "20.61558191728118\r",
        "20.631612696377044"
       ]
      },
      {
       "output_type": "stream",
       "stream": "stdout",
       "text": [
        "\r",
        "20.647643475472908\r",
        "20.66367425456877"
       ]
      },
      {
       "output_type": "stream",
       "stream": "stdout",
       "text": [
        "\r",
        "20.679705033664636\r",
        "20.6957358127605\r",
        "20.711766591856364"
       ]
      },
      {
       "output_type": "stream",
       "stream": "stdout",
       "text": [
        "\r",
        "20.727797370952228\r",
        "20.743828150048095\r",
        "20.759858929143956\r",
        "20.77588970823982\r",
        "20.791920487335684\r",
        "20.807951266431548\r",
        "20.823982045527412\r",
        "20.840012824623276\r",
        "20.85604360371914"
       ]
      },
      {
       "output_type": "stream",
       "stream": "stdout",
       "text": [
        "\r",
        "20.872074382815004"
       ]
      },
      {
       "output_type": "stream",
       "stream": "stdout",
       "text": [
        "\r",
        "20.888105161910868"
       ]
      },
      {
       "output_type": "stream",
       "stream": "stdout",
       "text": [
        "\r",
        "20.904135941006732"
       ]
      },
      {
       "output_type": "stream",
       "stream": "stdout",
       "text": [
        "\r",
        "20.9201667201026\r",
        "20.93619749919846\r",
        "20.952228278294324\r",
        "20.96825905739019\r",
        "20.984289836486052\r",
        "21.000320615581916\r",
        "21.01635139467778"
       ]
      },
      {
       "output_type": "stream",
       "stream": "stdout",
       "text": [
        "\r",
        "21.032382173773644\r",
        "21.048412952869512"
       ]
      },
      {
       "output_type": "stream",
       "stream": "stdout",
       "text": [
        "\r",
        "21.064443731965373\r",
        "21.080474511061237\r",
        "21.096505290157104\r",
        "21.112536069252965\r",
        "21.12856684834883\r",
        "21.144597627444696\r",
        "21.160628406540557"
       ]
      },
      {
       "output_type": "stream",
       "stream": "stdout",
       "text": [
        "\r",
        "21.17665918563642\r",
        "21.192689964732285"
       ]
      },
      {
       "output_type": "stream",
       "stream": "stdout",
       "text": [
        "\r",
        "21.20872074382815\r",
        "21.224751522924016\r",
        "21.240782302019877\r",
        "21.25681308111574\r",
        "21.27284386021161\r",
        "21.28887463930747"
       ]
      },
      {
       "output_type": "stream",
       "stream": "stdout",
       "text": [
        "\r",
        "21.304905418403333\r",
        "21.3209361974992\r",
        "21.33696697659506\r",
        "21.35299775569093\r",
        "21.36902853478679"
       ]
      },
      {
       "output_type": "stream",
       "stream": "stdout",
       "text": [
        "\r",
        "21.385059313882653\r",
        "21.40109009297852\r",
        "21.41712087207438\r",
        "21.433151651170245\r",
        "21.449182430266113\r",
        "21.465213209361973\r",
        "21.481243988457837\r",
        "21.497274767553705\r",
        "21.513305546649566\r",
        "21.529336325745433"
       ]
      },
      {
       "output_type": "stream",
       "stream": "stdout",
       "text": [
        "\r",
        "21.545367104841297\r",
        "21.561397883937158\r",
        "21.577428663033025"
       ]
      },
      {
       "output_type": "stream",
       "stream": "stdout",
       "text": [
        "\r",
        "21.593459442128886\r",
        "21.60949022122475\r",
        "21.625521000320617\r",
        "21.641551779416478\r",
        "21.657582558512345\r",
        "21.67361333760821\r",
        "21.68964411670407\r",
        "21.705674895799937\r",
        "21.7217056748958\r",
        "21.737736453991662"
       ]
      },
      {
       "output_type": "stream",
       "stream": "stdout",
       "text": [
        "\r",
        "21.75376723308753\r",
        "21.76979801218339\r",
        "21.785828791279258\r",
        "21.80185957037512\r",
        "21.817890349470982\r",
        "21.83392112856685"
       ]
      },
      {
       "output_type": "stream",
       "stream": "stdout",
       "text": [
        "\r",
        "21.849951907662714\r",
        "21.865982686758574\r",
        "21.882013465854442\r",
        "21.898044244950306\r",
        "21.914075024046166\r",
        "21.930105803142034"
       ]
      },
      {
       "output_type": "stream",
       "stream": "stdout",
       "text": [
        "\r",
        "21.946136582237898\r",
        "21.962167361333762"
       ]
      },
      {
       "output_type": "stream",
       "stream": "stdout",
       "text": [
        "\r",
        "21.978198140429626\r",
        "21.994228919525487\r",
        "22.010259698621354"
       ]
      },
      {
       "output_type": "stream",
       "stream": "stdout",
       "text": [
        "\r",
        "22.026290477717218\r",
        "22.04232125681308\r",
        "22.058352035908946\r",
        "22.07438281500481\r",
        "22.090413594100674\r",
        "22.10644437319654\r",
        "22.122475152292402"
       ]
      },
      {
       "output_type": "stream",
       "stream": "stdout",
       "text": [
        "\r",
        "22.138505931388266\r",
        "22.15453671048413\r",
        "22.17056748957999\r",
        "22.18659826867586\r",
        "22.202629047771723\r",
        "22.218659826867583\r",
        "22.23469060596345"
       ]
      },
      {
       "output_type": "stream",
       "stream": "stdout",
       "text": [
        "\r",
        "22.250721385059315\r",
        "22.26675216415518\r",
        "22.282782943251043\r",
        "22.298813722346907\r",
        "22.31484450144277\r",
        "22.330875280538635"
       ]
      },
      {
       "output_type": "stream",
       "stream": "stdout",
       "text": [
        "\r",
        "22.3469060596345\r",
        "22.362936838730363\r",
        "22.378967617826227\r",
        "22.39499839692209"
       ]
      },
      {
       "output_type": "stream",
       "stream": "stdout",
       "text": [
        "\r",
        "22.411029176017955\r",
        "22.42705995511382\r",
        "22.443090734209683"
       ]
      },
      {
       "output_type": "stream",
       "stream": "stdout",
       "text": [
        "\r",
        "22.459121513305547\r",
        "22.47515229240141\r",
        "22.491183071497275\r",
        "22.50721385059314\r",
        "22.523244629689003\r",
        "22.539275408784867\r",
        "22.55530618788073"
       ]
      },
      {
       "output_type": "stream",
       "stream": "stdout",
       "text": [
        "\r",
        "22.571336966976595\r",
        "22.58736774607246\r",
        "22.603398525168323\r",
        "22.619429304264187"
       ]
      },
      {
       "output_type": "stream",
       "stream": "stdout",
       "text": [
        "\r",
        "22.63546008336005\r",
        "22.651490862455915\r",
        "22.66752164155178\r",
        "22.683552420647644"
       ]
      },
      {
       "output_type": "stream",
       "stream": "stdout",
       "text": [
        "\r",
        "22.699583199743508\r",
        "22.71561397883937\r",
        "22.731644757935236\r",
        "22.7476755370311\r",
        "22.763706316126964\r",
        "22.779737095222828\r",
        "22.795767874318692\r",
        "22.811798653414556\r",
        "22.82782943251042"
       ]
      },
      {
       "output_type": "stream",
       "stream": "stdout",
       "text": [
        "\r",
        "22.843860211606284\r",
        "22.859890990702148"
       ]
      },
      {
       "output_type": "stream",
       "stream": "stdout",
       "text": [
        "\r",
        "22.875921769798012"
       ]
      },
      {
       "output_type": "stream",
       "stream": "stdout",
       "text": [
        "\r",
        "22.891952548893876\r",
        "22.90798332798974\r",
        "22.924014107085604\r",
        "22.940044886181468\r",
        "22.956075665277332"
       ]
      },
      {
       "output_type": "stream",
       "stream": "stdout",
       "text": [
        "\r",
        "22.972106444373196\r",
        "22.98813722346906\r",
        "23.004168002564924\r",
        "23.02019878166079"
       ]
      },
      {
       "output_type": "stream",
       "stream": "stdout",
       "text": [
        "\r",
        "23.036229560756652\r",
        "23.052260339852516\r",
        "23.06829111894838\r",
        "23.084321898044244"
       ]
      },
      {
       "output_type": "stream",
       "stream": "stdout",
       "text": [
        "\r",
        "23.10035267714011\r",
        "23.116383456235972"
       ]
      },
      {
       "output_type": "stream",
       "stream": "stdout",
       "text": [
        "\r",
        "23.13241423533184\r",
        "23.1484450144277\r",
        "23.164475793523565"
       ]
      },
      {
       "output_type": "stream",
       "stream": "stdout",
       "text": [
        "\r",
        "23.18050657261943"
       ]
      },
      {
       "output_type": "stream",
       "stream": "stdout",
       "text": [
        "\r",
        "23.196537351715293\r",
        "23.212568130811157\r",
        "23.22859890990702\r",
        "23.244629689002885\r",
        "23.26066046809875\r",
        "23.276691247194613\r",
        "23.292722026290477"
       ]
      },
      {
       "output_type": "stream",
       "stream": "stdout",
       "text": [
        "\r",
        "23.308752805386344\r",
        "23.324783584482205\r",
        "23.34081436357807"
       ]
      },
      {
       "output_type": "stream",
       "stream": "stdout",
       "text": [
        "\r",
        "23.356845142673937\r",
        "23.372875921769797"
       ]
      },
      {
       "output_type": "stream",
       "stream": "stdout",
       "text": [
        "\r",
        "23.38890670086566\r",
        "23.404937479961525\r",
        "23.42096825905739"
       ]
      },
      {
       "output_type": "stream",
       "stream": "stdout",
       "text": [
        "\r",
        "23.436999038153257\r",
        "23.453029817249117\r",
        "23.46906059634498"
       ]
      },
      {
       "output_type": "stream",
       "stream": "stdout",
       "text": [
        "\r",
        "23.48509137544085"
       ]
      },
      {
       "output_type": "stream",
       "stream": "stdout",
       "text": [
        "\r",
        "23.50112215453671\r",
        "23.517152933632573\r",
        "23.53318371272844\r",
        "23.5492144918243\r",
        "23.565245270920165\r",
        "23.58127605001603\r",
        "23.597306829111893"
       ]
      },
      {
       "output_type": "stream",
       "stream": "stdout",
       "text": [
        "\r",
        "23.61333760820776\r",
        "23.62936838730362\r",
        "23.645399166399486"
       ]
      },
      {
       "output_type": "stream",
       "stream": "stdout",
       "text": [
        "\r",
        "23.661429945495353\r",
        "23.677460724591214\r",
        "23.693491503687078\r",
        "23.709522282782945"
       ]
      },
      {
       "output_type": "stream",
       "stream": "stdout",
       "text": [
        "\r",
        "23.725553061878806\r",
        "23.741583840974673\r",
        "23.757614620070537\r",
        "23.773645399166398\r",
        "23.789676178262265\r",
        "23.805706957358126\r",
        "23.82173773645399\r",
        "23.837768515549858\r",
        "23.853799294645718\r",
        "23.869830073741582\r",
        "23.88586085283745\r",
        "23.90189163193331"
       ]
      },
      {
       "output_type": "stream",
       "stream": "stdout",
       "text": [
        "\r",
        "23.917922411029178\r",
        "23.93395319012504\r",
        "23.949983969220902"
       ]
      },
      {
       "output_type": "stream",
       "stream": "stdout",
       "text": [
        "\r",
        "23.96601474831677\r",
        "23.98204552741263\r",
        "23.998076306508494\r",
        "24.014107085604362\r",
        "24.030137864700222\r",
        "24.04616864379609"
       ]
      },
      {
       "output_type": "stream",
       "stream": "stdout",
       "text": [
        "\r",
        "24.062199422891954\r",
        "24.078230201987814"
       ]
      },
      {
       "output_type": "stream",
       "stream": "stdout",
       "text": [
        "\r",
        "24.094260981083682\r",
        "24.110291760179546\r",
        "24.126322539275407"
       ]
      },
      {
       "output_type": "stream",
       "stream": "stdout",
       "text": [
        "\r",
        "24.142353318371274\r",
        "24.158384097467138"
       ]
      },
      {
       "output_type": "stream",
       "stream": "stdout",
       "text": [
        "\r",
        "24.174414876563\r",
        "24.190445655658866\r",
        "24.206476434754727\r",
        "24.222507213850594\r",
        "24.23853799294646\r",
        "24.25456877204232\r",
        "24.270599551138186\r",
        "24.28663033023405\r",
        "24.30266110932991"
       ]
      },
      {
       "output_type": "stream",
       "stream": "stdout",
       "text": [
        "\r",
        "24.31869188842578\r",
        "24.334722667521643"
       ]
      },
      {
       "output_type": "stream",
       "stream": "stdout",
       "text": [
        "\r",
        "24.350753446617507\r",
        "24.36678422571337\r",
        "24.38281500480923\r",
        "24.3988457839051\r",
        "24.414876563000963"
       ]
      },
      {
       "output_type": "stream",
       "stream": "stdout",
       "text": [
        "\r",
        "24.430907342096823\r",
        "24.44693812119269\r",
        "24.462968900288555\r",
        "24.47899967938442\r",
        "24.495030458480283\r",
        "24.511061237576147"
       ]
      },
      {
       "output_type": "stream",
       "stream": "stdout",
       "text": [
        "\r",
        "24.52709201667201\r",
        "24.543122795767875\r",
        "24.55915357486374\r",
        "24.575184353959603\r",
        "24.591215133055467\r",
        "24.607245912151328\r",
        "24.623276691247195\r",
        "24.63930747034306\r",
        "24.655338249438923\r",
        "24.671369028534787\r",
        "24.68739980763065\r",
        "24.703430586726515\r",
        "24.71946136582238\r",
        "24.735492144918243\r",
        "24.751522924014107\r",
        "24.76755370310997\r",
        "24.783584482205836"
       ]
      },
      {
       "output_type": "stream",
       "stream": "stdout",
       "text": [
        "\r",
        "24.7996152613017\r",
        "24.815646040397564\r",
        "24.831676819493428\r",
        "24.84770759858929\r",
        "24.863738377685156\r",
        "24.87976915678102\r",
        "24.895799935876884\r",
        "24.911830714972748"
       ]
      },
      {
       "output_type": "stream",
       "stream": "stdout",
       "text": [
        "\r",
        "24.927861494068612\r",
        "24.943892273164476\r",
        "24.95992305226034"
       ]
      },
      {
       "output_type": "stream",
       "stream": "stdout",
       "text": [
        "\r",
        "24.975953831356204\r",
        "24.991984610452068\r",
        "25.008015389547932\r",
        "25.0240461686438\r",
        "25.04007694773966\r",
        "25.056107726835524\r",
        "25.07213850593139\r",
        "25.088169285027252\r",
        "25.104200064123116\r",
        "25.120230843218984\r",
        "25.136261622314844"
       ]
      },
      {
       "output_type": "stream",
       "stream": "stdout",
       "text": [
        "\r",
        "25.15229240141071\r",
        "25.168323180506576"
       ]
      },
      {
       "output_type": "stream",
       "stream": "stdout",
       "text": [
        "\r",
        "25.184353959602433"
       ]
      },
      {
       "output_type": "stream",
       "stream": "stdout",
       "text": [
        "\r",
        "25.2003847386983\r",
        "25.216415517794168\r",
        "25.232446296890025\r",
        "25.248477075985893\r",
        "25.264507855081757"
       ]
      },
      {
       "output_type": "stream",
       "stream": "stdout",
       "text": [
        "\r",
        "25.280538634177617\r",
        "25.296569413273485\r",
        "25.31260019236935"
       ]
      },
      {
       "output_type": "stream",
       "stream": "stdout",
       "text": [
        "\r",
        "25.328630971465216\r",
        "25.344661750561077"
       ]
      },
      {
       "output_type": "stream",
       "stream": "stdout",
       "text": [
        "\r",
        "25.36069252965694\r",
        "25.37672330875281\r",
        "25.39275408784867\r",
        "25.408784866944533\r",
        "25.4248156460404\r",
        "25.44084642513626\r",
        "25.456877204232125\r",
        "25.472907983327993\r",
        "25.488938762423853\r",
        "25.504969541519717\r",
        "25.521000320615585\r",
        "25.537031099711445\r",
        "25.55306187880731\r",
        "25.569092657903177\r",
        "25.585123436999034\r",
        "25.6011542160949\r",
        "25.61718499519077\r",
        "25.633215774286633\r",
        "25.649246553382493"
       ]
      },
      {
       "output_type": "stream",
       "stream": "stdout",
       "text": [
        "\r",
        "25.665277332478357\r",
        "25.681308111574225\r",
        "25.697338890670085\r",
        "25.71336966976595\r",
        "25.729400448861817\r",
        "25.745431227957678\r",
        "25.76146200705354\r",
        "25.77749278614941"
       ]
      },
      {
       "output_type": "stream",
       "stream": "stdout",
       "text": [
        "\r",
        "25.79352356524527\r",
        "25.809554344341134\r",
        "25.825585123437"
       ]
      },
      {
       "output_type": "stream",
       "stream": "stdout",
       "text": [
        "\r",
        "25.841615902532862\r",
        "25.857646681628726\r",
        "25.873677460724593"
       ]
      },
      {
       "output_type": "stream",
       "stream": "stdout",
       "text": [
        "\r",
        "25.889708239820454\r",
        "25.905739018916318\r",
        "25.921769798012186"
       ]
      },
      {
       "output_type": "stream",
       "stream": "stdout",
       "text": [
        "\r",
        "25.93780057710805\r",
        "25.95383135620391\r",
        "25.969862135299778\r",
        "25.98589291439564\r",
        "26.001923693491502\r",
        "26.01795447258737"
       ]
      },
      {
       "output_type": "stream",
       "stream": "stdout",
       "text": [
        "\r",
        "26.033985251683234\r",
        "26.050016030779094\r",
        "26.06604680987496\r",
        "26.082077588970826\r",
        "26.098108368066686\r",
        "26.11413914716255\r",
        "26.130169926258418"
       ]
      },
      {
       "output_type": "stream",
       "stream": "stdout",
       "text": [
        "\r",
        "26.14620070535428\r",
        "26.162231484450142\r",
        "26.17826226354601\r",
        "26.19429304264187\r",
        "26.210323821737735"
       ]
      },
      {
       "output_type": "stream",
       "stream": "stdout",
       "text": [
        "\r",
        "26.226354600833602"
       ]
      },
      {
       "output_type": "stream",
       "stream": "stdout",
       "text": [
        "\r",
        "26.242385379929466\r",
        "26.258416159025327\r",
        "26.274446938121194\r",
        "26.29047771721706\r",
        "26.30650849631292\r",
        "26.322539275408786\r",
        "26.33857005450465\r",
        "26.35460083360051\r",
        "26.37063161269638\r",
        "26.386662391792242\r",
        "26.402693170888103"
       ]
      },
      {
       "output_type": "stream",
       "stream": "stdout",
       "text": [
        "\r",
        "26.41872394998397\r",
        "26.434754729079835\r",
        "26.450785508175695\r",
        "26.46681628727156\r",
        "26.482847066367427\r",
        "26.49887784546329\r",
        "26.51490862455915\r",
        "26.53093940365502\r",
        "26.546970182750883\r",
        "26.563000961846743\r",
        "26.57903174094261\r",
        "26.595062520038475\r",
        "26.611093299134335\r",
        "26.627124078230203\r",
        "26.643154857326067\r",
        "26.659185636421928\r",
        "26.675216415517795\r",
        "26.69124719461366"
       ]
      },
      {
       "output_type": "stream",
       "stream": "stdout",
       "text": [
        "\r",
        "26.70727797370952\r",
        "26.723308752805387\r",
        "26.73933953190125\r",
        "26.75537031099711\r",
        "26.77140109009298\r",
        "26.787431869188843"
       ]
      },
      {
       "output_type": "stream",
       "stream": "stdout",
       "text": [
        "\r",
        "26.80346264828471\r",
        "26.81949342738057\r",
        "26.835524206476435"
       ]
      },
      {
       "output_type": "stream",
       "stream": "stdout",
       "text": [
        "\r",
        "26.8515549855723\r",
        "26.86758576466816\r",
        "26.883616543764028\r",
        "26.89964732285989\r",
        "26.915678101955752\r",
        "26.93170888105162\r",
        "26.947739660147484\r",
        "26.963770439243344\r",
        "26.97980121833921\r",
        "26.995831997435076\r",
        "27.011862776530936\r",
        "27.027893555626804"
       ]
      },
      {
       "output_type": "stream",
       "stream": "stdout",
       "text": [
        "\r",
        "27.043924334722668\r",
        "27.05995511381853\r",
        "27.075985892914396\r",
        "27.09201667201026\r",
        "27.108047451106128"
       ]
      },
      {
       "output_type": "stream",
       "stream": "stdout",
       "text": [
        "\r",
        "27.124078230201988\r",
        "27.140109009297852\r",
        "27.15613978839372\r",
        "27.17217056748958\r",
        "27.188201346585444\r",
        "27.20423212568131\r",
        "27.220262904777172\r",
        "27.236293683873036"
       ]
      },
      {
       "output_type": "stream",
       "stream": "stdout",
       "text": [
        "\r",
        "27.2523244629689\r",
        "27.26835524206476\r",
        "27.28438602116063\r",
        "27.300416800256492\r",
        "27.316447579352353\r",
        "27.33247835844822\r",
        "27.348509137544085\r",
        "27.364539916639945\r",
        "27.380570695735813\r",
        "27.396601474831677\r",
        "27.412632253927544\r",
        "27.428663033023405\r",
        "27.44469381211927\r",
        "27.460724591215136"
       ]
      },
      {
       "output_type": "stream",
       "stream": "stdout",
       "text": [
        "\r",
        "27.476755370310997\r",
        "27.49278614940686\r",
        "27.50881692850273\r",
        "27.52484770759859\r",
        "27.540878486694453\r",
        "27.55690926579032\r",
        "27.57294004488618\r",
        "27.588970823982045\r",
        "27.605001603077913\r",
        "27.621032382173773\r",
        "27.637063161269637\r",
        "27.6530939403655\r",
        "27.66912471946136\r",
        "27.68515549855723\r",
        "27.701186277653093\r",
        "27.71721705674896\r",
        "27.73324783584482"
       ]
      },
      {
       "output_type": "stream",
       "stream": "stdout",
       "text": [
        "\r",
        "27.749278614940685\r",
        "27.765309394036553\r",
        "27.781340173132413\r",
        "27.797370952228277\r",
        "27.813401731324145\r",
        "27.829432510420006\r",
        "27.84546328951587\r",
        "27.861494068611737\r",
        "27.877524847707598\r",
        "27.89355562680346\r",
        "27.90958640589933\r",
        "27.92561718499519\r",
        "27.941647964091054"
       ]
      },
      {
       "output_type": "stream",
       "stream": "stdout",
       "text": [
        "\r",
        "27.95767874318692\r",
        "27.973709522282782\r",
        "27.989740301378646\r",
        "28.005771080474513\r",
        "28.021801859570378"
       ]
      },
      {
       "output_type": "stream",
       "stream": "stdout",
       "text": [
        "\r",
        "28.037832638666238\r",
        "28.053863417762102\r",
        "28.06989419685797\r",
        "28.08592497595383\r",
        "28.101955755049694\r",
        "28.11798653414556\r",
        "28.134017313241422\r",
        "28.150048092337286\r",
        "28.166078871433154\r",
        "28.182109650529014\r",
        "28.19814042962488\r",
        "28.214171208720746\r",
        "28.230201987816606\r",
        "28.24623276691247\r",
        "28.262263546008338\r",
        "28.2782943251042\r",
        "28.294325104200063\r",
        "28.31035588329593"
       ]
      },
      {
       "output_type": "stream",
       "stream": "stdout",
       "text": [
        "\r",
        "28.326386662391794\r",
        "28.342417441487655\r",
        "28.358448220583522"
       ]
      },
      {
       "output_type": "stream",
       "stream": "stdout",
       "text": [
        "\r",
        "28.374478999679386\r",
        "28.390509778775247\r",
        "28.406540557871114\r",
        "28.42257133696698\r",
        "28.43860211606284\r",
        "28.454632895158703\r",
        "28.47066367425457\r",
        "28.48669445335043\r",
        "28.502725232446295\r",
        "28.518756011542163\r",
        "28.534786790638023\r",
        "28.550817569733887"
       ]
      },
      {
       "output_type": "stream",
       "stream": "stdout",
       "text": [
        "\r",
        "28.566848348829755\r",
        "28.582879127925615\r",
        "28.59890990702148\r",
        "28.614940686117347\r",
        "28.63097146521321\r",
        "28.64700224430907\r",
        "28.66303302340494\r",
        "28.679063802500803"
       ]
      },
      {
       "output_type": "stream",
       "stream": "stdout",
       "text": [
        "\r",
        "28.695094581596663\r",
        "28.71112536069253\r",
        "28.727156139788395\r",
        "28.743186918884255\r",
        "28.759217697980123\r",
        "28.775248477075987\r",
        "28.791279256171848\r",
        "28.807310035267715"
       ]
      },
      {
       "output_type": "stream",
       "stream": "stdout",
       "text": [
        "\r",
        "28.82334081436358\r",
        "28.83937159345944\r",
        "28.855402372555304\r",
        "28.87143315165117\r",
        "28.887463930747032\r",
        "28.903494709842896\r",
        "28.919525488938763\r",
        "28.935556268034627\r",
        "28.951587047130488\r",
        "28.967617826226356\r",
        "28.98364860532222\r",
        "28.99967938441808\r",
        "29.015710163513948\r",
        "29.03174094260981"
       ]
      },
      {
       "output_type": "stream",
       "stream": "stdout",
       "text": [
        "\r",
        "29.047771721705672\r",
        "29.06380250080154\r",
        "29.079833279897404\r",
        "29.095864058993264"
       ]
      },
      {
       "output_type": "stream",
       "stream": "stdout",
       "text": [
        "\r",
        "29.111894838089132\r",
        "29.127925617184996\r",
        "29.143956396280856\r",
        "29.159987175376724\r",
        "29.176017954472588"
       ]
      },
      {
       "output_type": "stream",
       "stream": "stdout",
       "text": [
        "\r",
        "29.192048733568456\r",
        "29.208079512664316\r",
        "29.22411029176018\r",
        "29.240141070856048\r",
        "29.256171849951905\r",
        "29.272202629047772\r",
        "29.28823340814364\r",
        "29.304264187239497\r",
        "29.320294966335364\r",
        "29.33632574543123"
       ]
      },
      {
       "output_type": "stream",
       "stream": "stdout",
       "text": [
        "\r",
        "29.35235652452709\r",
        "29.368387303622956\r",
        "29.38441808271882\r",
        "29.40044886181468\r",
        "29.41647964091055\r",
        "29.432510420006412"
       ]
      },
      {
       "output_type": "stream",
       "stream": "stdout",
       "text": [
        "\r",
        "29.448541199102273\r",
        "29.46457197819814\r",
        "29.480602757294005\r",
        "29.496633536389872\r",
        "29.512664315485733\r",
        "29.528695094581597\r",
        "29.544725873677464\r",
        "29.560756652773325\r",
        "29.57678743186919\r",
        "29.592818210965056\r",
        "29.608848990060917\r",
        "29.62487976915678\r",
        "29.64091054825265\r",
        "29.656941327348505\r",
        "29.672972106444373\r",
        "29.68900288554024"
       ]
      },
      {
       "output_type": "stream",
       "stream": "stdout",
       "text": [
        "\r",
        "29.705033664636098\r",
        "29.721064443731965\r",
        "29.73709522282783\r",
        "29.75312600192369\r",
        "29.769156781019557\r",
        "29.78518756011542"
       ]
      },
      {
       "output_type": "stream",
       "stream": "stdout",
       "text": [
        "\r",
        "29.80121833921129\r",
        "29.81724911830715\r",
        "29.833279897403013\r",
        "29.84931067649888\r",
        "29.86534145559474\r",
        "29.881372234690605"
       ]
      },
      {
       "output_type": "stream",
       "stream": "stdout",
       "text": [
        "\r",
        "29.897403013786473"
       ]
      },
      {
       "output_type": "stream",
       "stream": "stdout",
       "text": [
        "\r",
        "29.913433792882334\r",
        "29.929464571978198\r",
        "29.945495351074065\r",
        "29.961526130169926"
       ]
      },
      {
       "output_type": "stream",
       "stream": "stdout",
       "text": [
        "\r",
        "29.97755690926579\r",
        "29.993587688361657\r",
        "30.009618467457518\r",
        "30.02564924655338\r",
        "30.04168002564925\r",
        "30.057710804745106\r",
        "30.073741583840974\r",
        "30.08977236293684\r",
        "30.105803142032705\r",
        "30.121833921128566\r",
        "30.13786470022443\r",
        "30.153895479320298\r",
        "30.169926258416158\r",
        "30.185957037512022"
       ]
      },
      {
       "output_type": "stream",
       "stream": "stdout",
       "text": [
        "\r",
        "30.20198781660789\r",
        "30.21801859570375\r",
        "30.234049374799614\r",
        "30.25008015389548\r",
        "30.266110932991342\r",
        "30.282141712087206\r",
        "30.298172491183074\r",
        "30.314203270278934\r",
        "30.3302340493748\r",
        "30.346264828470666"
       ]
      },
      {
       "output_type": "stream",
       "stream": "stdout",
       "text": [
        "\r",
        "30.362295607566526\r",
        "30.37832638666239\r",
        "30.394357165758258\r",
        "30.410387944854122\r",
        "30.426418723949983\r",
        "30.44244950304585\r",
        "30.458480282141714\r",
        "30.474511061237575\r",
        "30.490541840333442\r",
        "30.506572619429306\r",
        "30.522603398525167\r",
        "30.53863417762103\r",
        "30.5546649567169"
       ]
      },
      {
       "output_type": "stream",
       "stream": "stdout",
       "text": [
        "\r",
        "30.57069573581276\r",
        "30.586726514908623\r",
        "30.60275729400449\r",
        "30.61878807310035\r",
        "30.634818852196215\r",
        "30.650849631292083\r",
        "30.666880410387943"
       ]
      },
      {
       "output_type": "stream",
       "stream": "stdout",
       "text": [
        "\r",
        "30.682911189483807\r",
        "30.698941968579675\r",
        "30.71497274767554\r",
        "30.7310035267714\r",
        "30.747034305867267\r",
        "30.76306508496313\r",
        "30.77909586405899\r",
        "30.79512664315486\r",
        "30.811157422250723\r",
        "30.827188201346583\r",
        "30.84321898044245\r",
        "30.859249759538315\r",
        "30.875280538634176\r",
        "30.891311317730043\r",
        "30.907342096825907\r",
        "30.923372875921768\r",
        "30.93940365501763\r",
        "30.9554344341135\r",
        "30.97146521320936"
       ]
      },
      {
       "output_type": "stream",
       "stream": "stdout",
       "text": [
        "\r",
        "30.987495992305224\r",
        "31.00352677140109\r",
        "31.019557550496955\r",
        "31.035588329592816"
       ]
      },
      {
       "output_type": "stream",
       "stream": "stdout",
       "text": [
        "\r",
        "31.051619108688683\r",
        "31.067649887784548\r",
        "31.083680666880408\r",
        "31.099711445976276\r",
        "31.11574222507214\r",
        "31.131773004168\r",
        "31.147803783263868"
       ]
      },
      {
       "output_type": "stream",
       "stream": "stdout",
       "text": [
        "\r",
        "31.16383456235973\r",
        "31.179865341455592\r",
        "31.19589612055146\r",
        "31.211926899647324\r",
        "31.227957678743184\r",
        "31.243988457839052\r",
        "31.260019236934916\r",
        "31.276050016030776\r",
        "31.292080795126644\r",
        "31.308111574222508\r",
        "31.324142353318372\r",
        "31.340173132414233\r",
        "31.3562039115101\r",
        "31.372234690605964\r",
        "31.388265469701825\r",
        "31.404296248797692\r",
        "31.420327027893556\r",
        "31.436357806989417\r",
        "31.452388586085284\r",
        "31.46841936518115\r",
        "31.48445014427701\r",
        "31.500480923372876\r",
        "31.51651170246874\r",
        "31.5325424815646"
       ]
      },
      {
       "output_type": "stream",
       "stream": "stdout",
       "text": [
        "\r",
        "31.54857326066047\r",
        "31.564604039756333\r",
        "31.580634818852193\r",
        "31.59666559794806\r",
        "31.612696377043925\r",
        "31.628727156139792\r",
        "31.644757935235653\r",
        "31.660788714331517\r",
        "31.676819493427384"
       ]
      },
      {
       "output_type": "stream",
       "stream": "stdout",
       "text": [
        "\r",
        "31.692850272523245\r",
        "31.70888105161911\r",
        "31.724911830714973\r",
        "31.740942609810833\r",
        "31.7569733889067\r",
        "31.773004168002565\r",
        "31.789034947098425\r",
        "31.805065726194293\r",
        "31.821096505290157\r",
        "31.837127284386018\r",
        "31.853158063481885\r",
        "31.86918884257775\r",
        "31.88521962167361\r",
        "31.901250400769477\r",
        "31.91728117986534\r",
        "31.93331195896121"
       ]
      },
      {
       "output_type": "stream",
       "stream": "stdout",
       "text": [
        "\r",
        "31.94934273805707\r",
        "31.965373517152933\r",
        "31.9814042962488\r",
        "31.99743507534466\r",
        "32.013465854440526\r",
        "32.02949663353639\r",
        "32.045527412632254\r",
        "32.06155819172812\r",
        "32.07758897082398\r",
        "32.093619749919846\r",
        "32.10965052901571\r",
        "32.125681308111574\r",
        "32.14171208720744"
       ]
      },
      {
       "output_type": "stream",
       "stream": "stdout",
       "text": [
        "\r",
        "32.1577428663033"
       ]
      },
      {
       "output_type": "stream",
       "stream": "stdout",
       "text": [
        "\r",
        "32.173773645399166\r",
        "32.18980442449503\r",
        "32.205835203590894\r",
        "32.22186598268676\r",
        "32.23789676178262\r",
        "32.253927540878486\r",
        "32.26995831997435\r",
        "32.285989099070214\r",
        "32.30201987816608\r",
        "32.31805065726194\r",
        "32.334081436357806\r",
        "32.35011221545367\r",
        "32.366142994549534\r",
        "32.3821737736454\r",
        "32.39820455274126"
       ]
      },
      {
       "output_type": "stream",
       "stream": "stdout",
       "text": [
        "\r",
        "32.414235331837126\r",
        "32.43026611093299\r",
        "32.446296890028854"
       ]
      },
      {
       "output_type": "stream",
       "stream": "stdout",
       "text": [
        "\r",
        "32.46232766912472\r",
        "32.47835844822058\r",
        "32.494389227316454\r",
        "32.51042000641231\r",
        "32.526450785508175\r",
        "32.542481564604046\r",
        "32.5585123436999\r",
        "32.57454312279577\r",
        "32.59057390189163\r",
        "32.606604680987495\r",
        "32.62263546008336\r",
        "32.63866623917922\r",
        "32.65469701827509\r",
        "32.67072779737095\r",
        "32.686758576466815\r",
        "32.70278935556268\r",
        "32.71882013465854\r",
        "32.73485091375441\r",
        "32.75088169285027\r",
        "32.766912471946135\r",
        "32.782943251042\r",
        "32.79897403013787\r",
        "32.81500480923373"
       ]
      },
      {
       "output_type": "stream",
       "stream": "stdout",
       "text": [
        "\r",
        "32.83103558832959\r",
        "32.84706636742546\r",
        "32.86309714652132\r",
        "32.87912792561718\r",
        "32.895158704713054\r",
        "32.91118948380891\r",
        "32.927220262904775\r",
        "32.94325104200064\r",
        "32.9592818210965\r",
        "32.97531260019237\r",
        "32.99134337928823"
       ]
      },
      {
       "output_type": "stream",
       "stream": "stdout",
       "text": [
        "\r",
        "33.007374158384096\r",
        "33.02340493747996\r",
        "33.039435716575824\r",
        "33.05546649567169\r",
        "33.07149727476755\r",
        "33.087528053863416\r",
        "33.10355883295929\r",
        "33.119589612055144\r",
        "33.13562039115101\r",
        "33.15165117024688\r",
        "33.167681949342736\r",
        "33.1837127284386\r",
        "33.19974350753447"
       ]
      },
      {
       "output_type": "stream",
       "stream": "stdout",
       "text": [
        "\r",
        "33.21577428663033\r",
        "33.23180506572619\r",
        "33.24783584482206\r",
        "33.26386662391792\r",
        "33.279897403013784\r",
        "33.295928182109655\r",
        "33.31195896120551"
       ]
      },
      {
       "output_type": "stream",
       "stream": "stdout",
       "text": [
        "\r",
        "33.327989740301376\r",
        "33.34402051939725\r",
        "33.360051298493104\r",
        "33.37608207758897\r",
        "33.39211285668483\r",
        "33.408143635780704\r",
        "33.42417441487656\r",
        "33.440205193972425\r",
        "33.456235973068296\r",
        "33.47226675216415\r",
        "33.48829753126002\r",
        "33.50432831035589"
       ]
      },
      {
       "output_type": "stream",
       "stream": "stdout",
       "text": [
        "\r",
        "33.520359089451745\r",
        "33.53638986854761\r",
        "33.55242064764348"
       ]
      },
      {
       "output_type": "stream",
       "stream": "stdout",
       "text": [
        "\r",
        "33.56845142673934\r",
        "33.5844822058352\r",
        "33.60051298493107\r",
        "33.61654376402693\r",
        "33.63257454312279\r",
        "33.648605322218664\r",
        "33.66463610131452\r",
        "33.680666880410385\r",
        "33.696697659506256"
       ]
      },
      {
       "output_type": "stream",
       "stream": "stdout",
       "text": [
        "\r",
        "33.71272843860212\r",
        "33.72875921769798\r",
        "33.74478999679384\r",
        "33.76082077588971\r",
        "33.77685155498557\r",
        "33.79288233408143\r",
        "33.808913113177304\r",
        "33.82494389227316\r",
        "33.840974671369025\r",
        "33.8570054504649\r",
        "33.87303622956075\r",
        "33.88906700865662\r",
        "33.90509778775249\r",
        "33.921128566848346\r",
        "33.93715934594421\r",
        "33.95319012504008\r",
        "33.96922090413594\r",
        "33.9852516832318\r",
        "34.00128246232767\r",
        "34.01731324142354"
       ]
      },
      {
       "output_type": "stream",
       "stream": "stdout",
       "text": [
        "\r",
        "34.033344020519394\r",
        "34.049374799615265\r",
        "34.06540557871113\r",
        "34.081436357806986\r",
        "34.09746713690286\r",
        "34.11349791599872\r",
        "34.12952869509458"
       ]
      },
      {
       "output_type": "stream",
       "stream": "stdout",
       "text": [
        "\r",
        "34.14555947419045\r",
        "34.16159025328631\r",
        "34.17762103238217\r",
        "34.193651811478034\r",
        "34.209682590573905\r",
        "34.22571336966976\r",
        "34.241744148765626\r",
        "34.2577749278615\r",
        "34.273805706957354\r",
        "34.28983648605322\r",
        "34.30586726514909\r",
        "34.32189804424495\r",
        "34.33792882334081\r",
        "34.35395960243668\r",
        "34.369990381532546\r",
        "34.3860211606284\r",
        "34.402051939724274\r",
        "34.41808271882014"
       ]
      },
      {
       "output_type": "stream",
       "stream": "stdout",
       "text": [
        "\r",
        "34.434113497915995\r",
        "34.450144277011866\r",
        "34.46617505610773\r",
        "34.48220583520359\r",
        "34.49823661429946\r",
        "34.51426739339532\r",
        "34.53029817249118\r",
        "34.54632895158704"
       ]
      },
      {
       "output_type": "stream",
       "stream": "stdout",
       "text": [
        "\r",
        "34.562359730682914\r",
        "34.57839050977877\r",
        "34.594421288874635\r",
        "34.610452067970506\r",
        "34.62648284706637"
       ]
      },
      {
       "output_type": "stream",
       "stream": "stdout",
       "text": [
        "\r",
        "34.64251362616223\r",
        "34.6585444052581\r",
        "34.67457518435396\r",
        "34.69060596344982\r",
        "34.70663674254569\r",
        "34.722667521641554\r",
        "34.73869830073741"
       ]
      },
      {
       "output_type": "stream",
       "stream": "stdout",
       "text": [
        "\r",
        "34.75472907983328\r",
        "34.770759858929146\r",
        "34.786790638025\r",
        "34.802821417120875\r",
        "34.81885219621674\r",
        "34.834882975312595\r",
        "34.85091375440847\r",
        "34.86694453350433\r",
        "34.882975312600195\r",
        "34.89900609169606"
       ]
      },
      {
       "output_type": "stream",
       "stream": "stdout",
       "text": [
        "\r",
        "34.91503687079192\r",
        "34.93106764988779\r",
        "34.94709842898365\r",
        "34.963129208079515\r",
        "34.97915998717538\r",
        "34.995190766271236\r",
        "35.01122154536711\r",
        "35.02725232446297\r",
        "35.04328310355883\r",
        "35.0593138826547"
       ]
      },
      {
       "output_type": "stream",
       "stream": "stdout",
       "text": [
        "\r",
        "35.07534466175056\r",
        "35.09137544084642\r",
        "35.10740621994229\r",
        "35.123436999038155\r",
        "35.13946777813401\r",
        "35.15549855722988\r",
        "35.17152933632575\r",
        "35.18756011542161\r",
        "35.203590894517475\r",
        "35.21962167361334\r",
        "35.2356524527092\r",
        "35.25168323180507"
       ]
      },
      {
       "output_type": "stream",
       "stream": "stdout",
       "text": [
        "\r",
        "35.26771401090093\r",
        "35.283744789996796"
       ]
      },
      {
       "output_type": "stream",
       "stream": "stdout",
       "text": [
        "\r",
        "35.29977556909266\r",
        "35.315806348188524\r",
        "35.33183712728439\r",
        "35.347867906380245\r",
        "35.363898685476116\r",
        "35.37992946457198\r",
        "35.39596024366784\r",
        "35.41199102276371\r",
        "35.42802180185957\r",
        "35.44405258095543\r",
        "35.4600833600513"
       ]
      },
      {
       "output_type": "stream",
       "stream": "stdout",
       "text": [
        "\r",
        "35.476114139147164\r",
        "35.49214491824303\r",
        "35.50817569733889\r",
        "35.524206476434756\r",
        "35.54023725553062\r",
        "35.556268034626484\r",
        "35.57229881372235"
       ]
      },
      {
       "output_type": "stream",
       "stream": "stdout",
       "text": [
        "\r",
        "35.58832959281821\r",
        "35.604360371914076\r",
        "35.62039115100994\r",
        "35.636421930105804\r",
        "35.65245270920167\r",
        "35.66848348829753\r",
        "35.684514267393396\r",
        "35.70054504648926\r",
        "35.716575825585124\r",
        "35.73260660468099\r",
        "35.74863738377685\r",
        "35.76466816287272"
       ]
      },
      {
       "output_type": "stream",
       "stream": "stdout",
       "text": [
        "\r",
        "35.78069894196858\r",
        "35.796729721064445\r",
        "35.81276050016031\r",
        "35.82879127925617\r",
        "35.84482205835204\r",
        "35.8608528374479\r",
        "35.876883616543765\r",
        "35.89291439563963\r",
        "35.90894517473549\r",
        "35.92497595383136\r",
        "35.94100673292722\r",
        "35.957037512023085\r",
        "35.97306829111895\r",
        "35.98909907021481"
       ]
      },
      {
       "output_type": "stream",
       "stream": "stdout",
       "text": [
        "\r",
        "36.00512984931068\r",
        "36.02116062840654\r",
        "36.037191407502405\r",
        "36.05322218659827"
       ]
      },
      {
       "output_type": "stream",
       "stream": "stdout",
       "text": [
        "\r",
        "36.06925296569413\r",
        "36.08528374479\r",
        "36.10131452388586\r",
        "36.117345302981725\r",
        "36.13337608207759\r",
        "36.14940686117345\r",
        "36.16543764026932\r",
        "36.18146841936518\r",
        "36.197499198461045\r",
        "36.21352997755691"
       ]
      },
      {
       "output_type": "stream",
       "stream": "stdout",
       "text": [
        "\r",
        "36.22956075665277\r",
        "36.24559153574864\r",
        "36.2616223148445\r",
        "36.277653093940366\r",
        "36.29368387303623\r",
        "36.309714652132094\r",
        "36.32574543122796"
       ]
      },
      {
       "output_type": "stream",
       "stream": "stdout",
       "text": [
        "\r",
        "36.34177621032382\r",
        "36.357806989419686"
       ]
      },
      {
       "output_type": "stream",
       "stream": "stdout",
       "text": [
        "\r",
        "36.37383776851555\r",
        "36.389868547611414\r",
        "36.40589932670728\r",
        "36.42193010580314\r",
        "36.437960884899006\r",
        "36.45399166399487\r",
        "36.470022443090734\r",
        "36.4860532221866\r",
        "36.50208400128246\r",
        "36.518114780378326\r",
        "36.53414555947419\r",
        "36.550176338570054\r",
        "36.56620711766592"
       ]
      },
      {
       "output_type": "stream",
       "stream": "stdout",
       "text": [
        "\r",
        "36.58223789676178\r",
        "36.598268675857646\r",
        "36.61429945495351\r",
        "36.630330234049374\r",
        "36.64636101314524\r",
        "36.6623917922411\r",
        "36.67842257133697\r",
        "36.69445335043283\r",
        "36.710484129528695\r",
        "36.72651490862456"
       ]
      },
      {
       "output_type": "stream",
       "stream": "stdout",
       "text": [
        "\r",
        "36.74254568772042\r",
        "36.75857646681629\r",
        "36.77460724591215\r",
        "36.790638025008015\r",
        "36.80666880410388\r",
        "36.82269958319974\r",
        "36.83873036229561\r",
        "36.85476114139147"
       ]
      },
      {
       "output_type": "stream",
       "stream": "stdout",
       "text": [
        "\r",
        "36.870791920487335\r",
        "36.8868226995832\r",
        "36.90285347867906\r",
        "36.91888425777493"
       ]
      },
      {
       "output_type": "stream",
       "stream": "stdout",
       "text": [
        "\r",
        "36.93491503687079\r",
        "36.950945815966655\r",
        "36.96697659506252\r",
        "36.98300737415838\r",
        "36.99903815325425\r",
        "37.01506893235012\r",
        "37.031099711445975\r",
        "37.04713049054184\r",
        "37.0631612696377\r",
        "37.07919204873357\r",
        "37.09522282782943\r",
        "37.111253606925295\r",
        "37.12728438602116\r",
        "37.14331516511702"
       ]
      },
      {
       "output_type": "stream",
       "stream": "stdout",
       "text": [
        "\r",
        "37.15934594421289\r",
        "37.17537672330875\r",
        "37.191407502404616\r",
        "37.20743828150048\r",
        "37.223469060596344\r",
        "37.23949983969221\r",
        "37.25553061878807"
       ]
      },
      {
       "output_type": "stream",
       "stream": "stdout",
       "text": [
        "\r",
        "37.271561397883936\r",
        "37.2875921769798\r",
        "37.303622956075664\r",
        "37.319653735171535\r",
        "37.33568451426739"
       ]
      },
      {
       "output_type": "stream",
       "stream": "stdout",
       "text": [
        "\r",
        "37.351715293363256\r",
        "37.36774607245913\r",
        "37.383776851554984"
       ]
      },
      {
       "output_type": "stream",
       "stream": "stdout",
       "text": [
        "\r",
        "37.39980763065085\r",
        "37.41583840974671\r",
        "37.431869188842576\r",
        "37.44789996793844\r",
        "37.463930747034304\r",
        "37.47996152613017\r",
        "37.49599230522603\r",
        "37.512023084321896\r",
        "37.52805386341776\r",
        "37.544084642513624\r",
        "37.56011542160949"
       ]
      },
      {
       "output_type": "stream",
       "stream": "stdout",
       "text": [
        "\r",
        "37.57614620070536\r",
        "37.592176979801216\r",
        "37.60820775889708\r",
        "37.62423853799295\r",
        "37.64026931708881"
       ]
      },
      {
       "output_type": "stream",
       "stream": "stdout",
       "text": [
        "\r",
        "37.65630009618467"
       ]
      },
      {
       "output_type": "stream",
       "stream": "stdout",
       "text": [
        "\r",
        "37.672330875280544\r",
        "37.6883616543764\r",
        "37.704392433472265\r",
        "37.720423212568136\r",
        "37.73645399166399\r",
        "37.75248477075986\r",
        "37.76851554985573\r",
        "37.784546328951585\r",
        "37.80057710804745"
       ]
      },
      {
       "output_type": "stream",
       "stream": "stdout",
       "text": [
        "\r",
        "37.81660788714332\r",
        "37.83263866623918\r",
        "37.84866944533504\r",
        "37.864700224430905\r",
        "37.880731003526776\r",
        "37.89676178262263\r",
        "37.9127925617185\r",
        "37.92882334081437"
       ]
      },
      {
       "output_type": "stream",
       "stream": "stdout",
       "text": [
        "\r",
        "37.944854119910225\r",
        "37.96088489900609\r",
        "37.97691567810196\r",
        "37.99294645719782\r",
        "38.00897723629368\r",
        "38.02500801538955\r",
        "38.04103879448541\r",
        "38.05706957358127\r",
        "38.073100352677145\r",
        "38.089131131773\r",
        "38.105161910868866\r",
        "38.12119268996474\r",
        "38.137223469060594\r",
        "38.15325424815646\r",
        "38.16928502725233\r",
        "38.18531580634819\r",
        "38.20134658544405\r",
        "38.217377364539914\r",
        "38.233408143635785\r",
        "38.24943892273164\r",
        "38.265469701827506\r",
        "38.28150048092338\r",
        "38.297531260019234\r",
        "38.3135620391151\r",
        "38.32959281821097\r",
        "38.345623597306826\r",
        "38.36165437640269\r",
        "38.37768515549856"
       ]
      },
      {
       "output_type": "stream",
       "stream": "stdout",
       "text": [
        "\r",
        "38.39371593459442\r",
        "38.40974671369028\r",
        "38.42577749278615\r",
        "38.44180827188201\r",
        "38.457839050977874\r",
        "38.473869830073745\r",
        "38.48990060916961\r",
        "38.505931388265466"
       ]
      },
      {
       "output_type": "stream",
       "stream": "stdout",
       "text": [
        "\r",
        "38.52196216736134\r",
        "38.5379929464572\r",
        "38.55402372555306"
       ]
      },
      {
       "output_type": "stream",
       "stream": "stdout",
       "text": [
        "\r",
        "38.57005450464893\r",
        "38.586085283744794\r",
        "38.60211606284065\r",
        "38.61814684193652\r",
        "38.634177621032386\r",
        "38.65020840012824\r",
        "38.66623917922411\r",
        "38.68226995831998\r",
        "38.698300737415835\r",
        "38.7143315165117\r",
        "38.73036229560757\r",
        "38.74639307470343\r",
        "38.76242385379929\r",
        "38.77845463289516\r",
        "38.794485411991026\r",
        "38.81051619108688\r",
        "38.826546970182754\r",
        "38.84257774927862\r",
        "38.858608528374475\r",
        "38.874639307470346\r",
        "38.89067008656621\r",
        "38.90670086566207\r",
        "38.92273164475794\r",
        "38.9387624238538\r",
        "38.95479320294966\r",
        "38.97082398204553\r",
        "38.986854761141394"
       ]
      },
      {
       "output_type": "stream",
       "stream": "stdout",
       "text": [
        "\r",
        "39.00288554023725\r",
        "39.018916319333115\r",
        "39.03494709842899\r",
        "39.05097787752484\r",
        "39.06700865662071\r",
        "39.08303943571658\r",
        "39.09907021481244\r",
        "39.1151009939083\r",
        "39.13113177300417"
       ]
      },
      {
       "output_type": "stream",
       "stream": "stdout",
       "text": [
        "\r",
        "39.147162552100035\r",
        "39.16319333119589\r",
        "39.17922411029176\r",
        "39.19525488938763\r",
        "39.211285668483484\r",
        "39.227316447579355\r",
        "39.24334722667522\r",
        "39.259378005771076\r",
        "39.27540878486695\r",
        "39.29143956396281\r",
        "39.30747034305867\r",
        "39.32350112215454\r",
        "39.3395319012504\r",
        "39.35556268034626"
       ]
      },
      {
       "output_type": "stream",
       "stream": "stdout",
       "text": [
        "\r",
        "39.37159345944213\r",
        "39.387624238537995\r",
        "39.40365501763386\r",
        "39.41968579672972\r",
        "39.43571657582559\r",
        "39.45174735492145\r",
        "39.46777813401731\r",
        "39.48380891311318\r",
        "39.499839692209044"
       ]
      },
      {
       "output_type": "stream",
       "stream": "stdout",
       "text": [
        "\r",
        "39.5158704713049\r",
        "39.53190125040077\r",
        "39.547932029496636\r",
        "39.56396280859249\r",
        "39.579993587688364\r",
        "39.59602436678423\r",
        "39.612055145880085\r",
        "39.628085924975956\r",
        "39.64411670407182\r",
        "39.66014748316768\r",
        "39.67617826226355\r",
        "39.69220904135941"
       ]
      },
      {
       "output_type": "stream",
       "stream": "stdout",
       "text": [
        "\r",
        "39.708239820455276\r",
        "39.72427059955114\r",
        "39.740301378647004"
       ]
      },
      {
       "output_type": "stream",
       "stream": "stdout",
       "text": [
        "\r",
        "39.75633215774287\r",
        "39.77236293683873\r",
        "39.788393715934596\r",
        "39.80442449503046\r",
        "39.82045527412632\r",
        "39.83648605322219\r",
        "39.85251683231805\r",
        "39.86854761141391\r",
        "39.88457839050978\r",
        "39.900609169605644\r",
        "39.9166399487015\r",
        "39.93267072779737\r",
        "39.94870150689324\r",
        "39.96473228598909"
       ]
      },
      {
       "output_type": "stream",
       "stream": "stdout",
       "text": [
        "\r",
        "39.980763065084965\r",
        "39.99679384418083\r",
        "40.01282462327669\r",
        "40.02885540237256\r",
        "40.04488618146842\r",
        "40.060916960564285\r",
        "40.07694773966015\r",
        "40.09297851875601\r",
        "40.10900929785188\r",
        "40.12504007694774"
       ]
      },
      {
       "output_type": "stream",
       "stream": "stdout",
       "text": [
        "\r",
        "40.141070856043605\r",
        "40.15710163513947\r",
        "40.17313241423533\r",
        "40.1891631933312\r",
        "40.20519397242706\r",
        "40.221224751522925\r",
        "40.23725553061879\r",
        "40.25328630971465\r",
        "40.26931708881051\r",
        "40.28534786790638\r",
        "40.301378647002245\r",
        "40.31740942609811\r",
        "40.33344020519397\r",
        "40.34947098428984\r",
        "40.3655017633857\r",
        "40.381532542481565"
       ]
      },
      {
       "output_type": "stream",
       "stream": "stdout",
       "text": [
        "\r",
        "40.39756332157743"
       ]
      },
      {
       "output_type": "stream",
       "stream": "stdout",
       "text": [
        "\r",
        "40.41359410067329\r",
        "40.42962487976916\r",
        "40.44565565886502\r",
        "40.461686437960886\r",
        "40.47771721705675\r",
        "40.493747996152614\r",
        "40.50977877524848\r",
        "40.52580955434434\r",
        "40.541840333440206\r",
        "40.55787111253607\r",
        "40.573901891631934\r",
        "40.5899326707278\r",
        "40.60596344982366\r",
        "40.621994228919526\r",
        "40.63802500801539\r",
        "40.654055787111254"
       ]
      },
      {
       "output_type": "stream",
       "stream": "stdout",
       "text": [
        "\r",
        "40.67008656620712\r",
        "40.68611734530298\r",
        "40.702148124398846\r",
        "40.71817890349471\r",
        "40.734209682590574\r",
        "40.75024046168644\r",
        "40.7662712407823\r",
        "40.782302019878166\r",
        "40.79833279897403\r",
        "40.814363578069894\r",
        "40.83039435716576"
       ]
      },
      {
       "output_type": "stream",
       "stream": "stdout",
       "text": [
        "\r",
        "40.84642513626162\r",
        "40.862455915357486\r",
        "40.87848669445335\r",
        "40.894517473549215\r",
        "40.91054825264508\r",
        "40.92657903174094\r",
        "40.94260981083681\r",
        "40.95864058993267\r",
        "40.974671369028535\r",
        "40.9907021481244\r",
        "41.00673292722026\r",
        "41.02276370631613\r",
        "41.03879448541199\r",
        "41.054825264507855\r",
        "41.07085604360372\r",
        "41.08688682269958\r",
        "41.10291760179545\r",
        "41.11894838089131\r",
        "41.134979159987175\r",
        "41.15100993908304\r",
        "41.1670407181789\r",
        "41.18307149727477\r",
        "41.19910227637063\r",
        "41.215133055466495"
       ]
      },
      {
       "output_type": "stream",
       "stream": "stdout",
       "text": [
        "\r",
        "41.23116383456236\r",
        "41.24719461365822\r",
        "41.26322539275409\r",
        "41.27925617184995\r",
        "41.295286950945815\r",
        "41.31131773004168\r",
        "41.32734850913754\r",
        "41.34337928823341\r",
        "41.35941006732927\r",
        "41.375440846425136\r",
        "41.391471625521\r",
        "41.407502404616864\r",
        "41.42353318371273\r",
        "41.43956396280859"
       ]
      },
      {
       "output_type": "stream",
       "stream": "stdout",
       "text": [
        "\r",
        "41.455594741904456\r",
        "41.47162552100032\r",
        "41.48765630009619\r",
        "41.50368707919205\r",
        "41.51971785828791\r",
        "41.535748637383776\r",
        "41.55177941647964\r",
        "41.567810195575504\r",
        "41.58384097467137\r",
        "41.59987175376723\r",
        "41.615902532863096\r",
        "41.63193331195896\r",
        "41.647964091054824\r",
        "41.66399487015069\r",
        "41.68002564924655\r",
        "41.696056428342416\r",
        "41.71208720743828\r",
        "41.728117986534144\r",
        "41.74414876563001\r",
        "41.76017954472587\r",
        "41.776210323821736\r",
        "41.79224110291761\r",
        "41.808271882013464\r",
        "41.82430266110933\r",
        "41.8403334402052\r",
        "41.85636421930106\r",
        "41.87239499839692\r",
        "41.888425777492785\r",
        "41.90445655658865\r",
        "41.92048733568451"
       ]
      },
      {
       "output_type": "stream",
       "stream": "stdout",
       "text": [
        "\r",
        "41.93651811478038\r",
        "41.95254889387624\r",
        "41.968579672972105\r",
        "41.98461045206797\r",
        "42.00064123116383\r",
        "42.0166720102597\r",
        "42.03270278935556\r",
        "42.048733568451425\r",
        "42.06476434754729\r",
        "42.08079512664315\r",
        "42.096825905739024\r",
        "42.11285668483488\r",
        "42.128887463930745\r",
        "42.144918243026616\r",
        "42.16094902212247\r",
        "42.17697980121834\r",
        "42.19301058031421\r",
        "42.209041359410065\r",
        "42.22507213850593\r",
        "42.2411029176018\r",
        "42.25713369669766\r",
        "42.27316447579352\r",
        "42.28919525488939"
       ]
      },
      {
       "output_type": "stream",
       "stream": "stdout",
       "text": [
        "\r",
        "42.30522603398525\r",
        "42.32125681308111\r",
        "42.33728759217698\r",
        "42.35331837127284\r",
        "42.369349150368706\r",
        "42.38537992946457\r",
        "42.40141070856044\r",
        "42.4174414876563\r",
        "42.43347226675216\r",
        "42.44950304584803\r",
        "42.46553382494389\r",
        "42.481564604039754\r",
        "42.497595383135625\r",
        "42.51362616223148\r",
        "42.529656941327346\r",
        "42.54568772042322"
       ]
      },
      {
       "output_type": "stream",
       "stream": "stdout",
       "text": [
        "\r",
        "42.561718499519074\r",
        "42.57774927861494\r",
        "42.59378005771081\r",
        "42.609810836806666\r",
        "42.62584161590253\r",
        "42.6418723949984\r",
        "42.65790317409426"
       ]
      },
      {
       "output_type": "stream",
       "stream": "stdout",
       "text": [
        "\r",
        "42.67393395319012\r",
        "42.689964732285986\r",
        "42.70599551138186\r",
        "42.722026290477714\r",
        "42.73805706957358\r",
        "42.75408784866945\r",
        "42.77011862776531\r",
        "42.78614940686117\r",
        "42.80218018595704\r",
        "42.8182109650529\r",
        "42.83424174414876\r",
        "42.850272523244634\r",
        "42.86630330234049\r",
        "42.882334081436355\r",
        "42.898364860532226\r",
        "42.91439563962808\r",
        "42.93042641872395\r",
        "42.94645719781982\r",
        "42.962487976915675\r",
        "42.97851875601154\r",
        "42.99454953510741\r",
        "43.010580314203274"
       ]
      },
      {
       "output_type": "stream",
       "stream": "stdout",
       "text": [
        "\r",
        "43.02661109329913\r",
        "43.042641872395\r",
        "43.058672651490866\r",
        "43.07470343058672\r",
        "43.090734209682594\r",
        "43.10676498877846\r",
        "43.122795767874315\r",
        "43.13882654697018\r",
        "43.15485732606605\r",
        "43.17088810516191\r",
        "43.18691888425777\r",
        "43.20294966335364\r",
        "43.2189804424495\r",
        "43.23501122154536\r",
        "43.251042000641235\r",
        "43.2670727797371\r",
        "43.283103558832956\r",
        "43.29913433792883\r",
        "43.31516511702469\r",
        "43.33119589612055\r",
        "43.34722667521642"
       ]
      },
      {
       "output_type": "stream",
       "stream": "stdout",
       "text": [
        "\r",
        "43.36325745431228\r",
        "43.37928823340814\r",
        "43.39531901250401\r",
        "43.411349791599875\r",
        "43.42738057069573"
       ]
      },
      {
       "output_type": "stream",
       "stream": "stdout",
       "text": [
        "\r",
        "43.4434113497916\r",
        "43.45944212888747\r",
        "43.475472907983324\r",
        "43.49150368707919\r",
        "43.50753446617506\r",
        "43.523565245270916\r",
        "43.53959602436678\r",
        "43.55562680346265\r",
        "43.571657582558515\r",
        "43.58768836165437"
       ]
      },
      {
       "output_type": "stream",
       "stream": "stdout",
       "text": [
        "\r",
        "43.60371914075024\r",
        "43.61974991984611\r",
        "43.635780698941964\r",
        "43.651811478037835\r",
        "43.6678422571337\r",
        "43.683873036229556\r",
        "43.69990381532543\r",
        "43.71593459442129\r",
        "43.73196537351715\r",
        "43.74799615261302\r",
        "43.764026931708884"
       ]
      },
      {
       "output_type": "stream",
       "stream": "stdout",
       "text": [
        "\r",
        "43.78005771080474\r",
        "43.79608848990061\r",
        "43.812119268996476\r",
        "43.82815004809233\r",
        "43.844180827188204\r",
        "43.86021160628407\r",
        "43.87624238537993\r",
        "43.892273164475796"
       ]
      },
      {
       "output_type": "stream",
       "stream": "stdout",
       "text": [
        "\r",
        "43.90830394357166\r",
        "43.924334722667524\r",
        "43.94036550176338\r",
        "43.95639628085925\r",
        "43.972427059955116\r",
        "43.98845783905097\r",
        "44.004488618146844\r",
        "44.02051939724271\r",
        "44.036550176338565\r",
        "44.052580955434436\r",
        "44.0686117345303\r",
        "44.08464251362616\r",
        "44.10067329272203\r",
        "44.11670407181789\r",
        "44.13273485091375\r",
        "44.14876563000962\r",
        "44.164796409105485"
       ]
      },
      {
       "output_type": "stream",
       "stream": "stdout",
       "text": [
        "\r",
        "44.18082718820135\r",
        "44.19685796729721\r",
        "44.21288874639308\r",
        "44.22891952548894\r",
        "44.244950304584805\r",
        "44.26098108368067\r",
        "44.27701186277653\r",
        "44.29304264187239\r",
        "44.30907342096826\r",
        "44.325104200064125\r",
        "44.34113497915998\r",
        "44.35716575825585\r",
        "44.37319653735172\r",
        "44.389227316447574\r",
        "44.405258095543445\r",
        "44.42128887463931\r",
        "44.437319653735166\r",
        "44.45335043283104\r",
        "44.4693812119269\r",
        "44.485411991022765"
       ]
      },
      {
       "output_type": "stream",
       "stream": "stdout",
       "text": [
        "\r",
        "44.50144277011863\r",
        "44.51747354921449\r",
        "44.53350432831036\r",
        "44.54953510740622\r",
        "44.565565886502085\r",
        "44.58159666559795\r",
        "44.59762744469381\r",
        "44.61365822378968\r",
        "44.62968900288554\r",
        "44.645719781981406\r",
        "44.66175056107727\r",
        "44.677781340173134\r",
        "44.693812119269\r",
        "44.70984289836486\r",
        "44.725873677460726\r",
        "44.74190445655658"
       ]
      },
      {
       "output_type": "stream",
       "stream": "stdout",
       "text": [
        "\r",
        "44.757935235652454\r",
        "44.77396601474832\r",
        "44.78999679384418\r",
        "44.806027572940046\r",
        "44.82205835203591\r",
        "44.838089131131774\r",
        "44.85411991022764\r",
        "44.8701506893235\r",
        "44.886181468419366\r",
        "44.90221224751523\r",
        "44.918243026611094\r",
        "44.93427380570696\r",
        "44.95030458480282\r",
        "44.966335363898686\r",
        "44.98236614299455\r",
        "44.998396922090414\r",
        "45.01442770118628\r",
        "45.03045848028214\r",
        "45.046489259378006\r",
        "45.06252003847387\r",
        "45.078550817569734\r",
        "45.0945815966656\r",
        "45.11061237576146\r",
        "45.12664315485733"
       ]
      },
      {
       "output_type": "stream",
       "stream": "stdout",
       "text": [
        "\r",
        "45.14267393395319\r",
        "45.158704713049055\r",
        "45.17473549214492\r",
        "45.19076627124078\r",
        "45.20679705033665\r",
        "45.22282782943251\r",
        "45.238858608528375\r",
        "45.25488938762424\r",
        "45.2709201667201\r",
        "45.28695094581597\r",
        "45.30298172491183\r",
        "45.319012504007695\r",
        "45.33504328310356\r",
        "45.35107406219942\r",
        "45.36710484129529\r",
        "45.38313562039115\r",
        "45.399166399487015\r",
        "45.41519717858288\r",
        "45.43122795767874\r",
        "45.44725873677461"
       ]
      },
      {
       "output_type": "stream",
       "stream": "stdout",
       "text": [
        "\r",
        "45.46328951587047\r",
        "45.479320294966335\r",
        "45.4953510740622\r",
        "45.51138185315806\r",
        "45.52741263225393\r",
        "45.54344341134979\r",
        "45.559474190445655\r",
        "45.57550496954152\r",
        "45.591535748637384\r",
        "45.60756652773325\r",
        "45.62359730682911\r",
        "45.639628085924976\r",
        "45.65565886502084\r",
        "45.671689644116704\r",
        "45.68772042321257\r",
        "45.70375120230843\r",
        "45.719781981404296\r",
        "45.73581276050016\r",
        "45.751843539596024\r",
        "45.76787431869189\r",
        "45.78390509778775\r",
        "45.799935876883616\r",
        "45.81596665597948"
       ]
      },
      {
       "output_type": "stream",
       "stream": "stdout",
       "text": [
        "\r",
        "45.831997435075344\r",
        "45.84802821417121\r",
        "45.86405899326707\r",
        "45.880089772362936\r",
        "45.8961205514588\r",
        "45.912151330554664\r",
        "45.92818210965053\r",
        "45.94421288874639\r",
        "45.96024366784226\r",
        "45.97627444693812\r",
        "45.992305226033984\r",
        "46.00833600512985\r",
        "46.02436678422571\r",
        "46.04039756332158\r",
        "46.05642834241744\r",
        "46.072459121513305\r",
        "46.08848990060917"
       ]
      },
      {
       "output_type": "stream",
       "stream": "stdout",
       "text": [
        "\r",
        "46.10452067970503\r",
        "46.1205514588009\r",
        "46.13658223789676\r",
        "46.152613016992625\r",
        "46.16864379608849\r",
        "46.18467457518435\r",
        "46.20070535428022\r",
        "46.21673613337608\r",
        "46.232766912471945\r",
        "46.24879769156781\r",
        "46.26482847066368\r",
        "46.28085924975954\r",
        "46.2968900288554\r",
        "46.31292080795127\r",
        "46.32895158704713\r",
        "46.34498236614299\r",
        "46.36101314523886\r",
        "46.37704392433472\r",
        "46.393074703430585\r",
        "46.40910548252645\r",
        "46.42513626162231\r",
        "46.44116704071818\r",
        "46.45719781981404\r",
        "46.473228598909905\r",
        "46.48925937800577\r",
        "46.50529015710163\r",
        "46.5213209361975\r",
        "46.53735171529336"
       ]
      },
      {
       "output_type": "stream",
       "stream": "stdout",
       "text": [
        "\r",
        "46.553382494389226\r",
        "46.5694132734851\r",
        "46.585444052580954\r",
        "46.60147483167682\r",
        "46.61750561077269\r",
        "46.633536389868546\r",
        "46.64956716896441\r",
        "46.66559794806028\r",
        "46.68162872715614\r",
        "46.697659506252\r",
        "46.71369028534787\r",
        "46.72972106444373\r",
        "46.745751843539594\r",
        "46.761782622635465\r",
        "46.77781340173132\r",
        "46.793844180827186\r",
        "46.80987495992305\r",
        "46.825905739018914\r",
        "46.84193651811478\r",
        "46.85796729721064\r",
        "46.87399807630651\r",
        "46.89002885540237"
       ]
      },
      {
       "output_type": "stream",
       "stream": "stdout",
       "text": [
        "\r",
        "46.906059634498234\r",
        "46.922090413594105\r",
        "46.93812119268996\r",
        "46.954151971785826\r",
        "46.9701827508817\r",
        "46.986213529977555\r",
        "47.00224430907342\r",
        "47.01827508816929\r",
        "47.03430586726515\r",
        "47.05033664636101\r",
        "47.06636742545688\r",
        "47.08239820455274\r",
        "47.0984289836486\r",
        "47.114459762744474\r",
        "47.13049054184033\r",
        "47.146521320936195\r",
        "47.16255210003206\r",
        "47.17858287912793\r",
        "47.19461365822379\r",
        "47.21064443731965\r",
        "47.22667521641552\r",
        "47.24270599551138\r",
        "47.25873677460724"
       ]
      },
      {
       "output_type": "stream",
       "stream": "stdout",
       "text": [
        "\r",
        "47.274767553703114\r",
        "47.29079833279897\r",
        "47.306829111894835\r",
        "47.322859890990706\r",
        "47.33889067008656\r",
        "47.35492144918243\r",
        "47.3709522282783\r",
        "47.386983007374155\r",
        "47.40301378647002\r",
        "47.41904456556589\r",
        "47.43507534466175\r",
        "47.45110612375761\r",
        "47.46713690285348\r",
        "47.48316768194935\r",
        "47.499198461045204\r",
        "47.515229240141075\r",
        "47.53126001923694\r",
        "47.547290798332796\r",
        "47.56332157742867"
       ]
      },
      {
       "output_type": "stream",
       "stream": "stdout",
       "text": [
        "\r",
        "47.57935235652453\r",
        "47.59538313562039\r",
        "47.61141391471625\r",
        "47.62744469381212\r",
        "47.64347547290798\r",
        "47.659506252003844\r",
        "47.675537031099715\r",
        "47.69156781019557\r",
        "47.707598589291436\r",
        "47.72362936838731\r",
        "47.739660147483164\r",
        "47.75569092657903\r",
        "47.7717217056749\r",
        "47.78775248477076\r",
        "47.80378326386662\r",
        "47.81981404296249\r",
        "47.835844822058355\r",
        "47.85187560115421\r",
        "47.86790638025008\r",
        "47.88393715934595\r",
        "47.899967938441804\r",
        "47.915998717537676\r",
        "47.93202949663354\r",
        "47.9480602757294\r",
        "47.96409105482526\r",
        "47.98012183392113\r",
        "47.99615261301699\r",
        "48.01218339211285\r",
        "48.028214171208724\r",
        "48.04424495030458\r",
        "48.060275729400445\r",
        "48.076306508496316\r",
        "48.09233728759218\r",
        "48.10836806668804\r",
        "48.12439884578391\r",
        "48.14042962487977\r",
        "48.15646040397563\r",
        "48.1724911830715\r",
        "48.188521962167364\r",
        "48.20455274126322\r",
        "48.22058352035909\r",
        "48.236614299454956\r",
        "48.25264507855081\r",
        "48.268675857646684"
       ]
      },
      {
       "output_type": "stream",
       "stream": "stdout",
       "text": [
        "\r",
        "48.28470663674255\r",
        "48.300737415838405\r",
        "48.316768194934276\r",
        "48.33279897403014\r",
        "48.348829753126\r",
        "48.36486053222187\r",
        "48.38089131131773\r",
        "48.3969220904136\r",
        "48.41295286950945\r",
        "48.428983648605325\r",
        "48.44501442770119\r",
        "48.461045206797046\r",
        "48.47707598589292\r",
        "48.49310676498878\r",
        "48.50913754408464\r",
        "48.52516832318051\r",
        "48.54119910227637\r",
        "48.55722988137223\r",
        "48.5732606604681\r",
        "48.589291439563965\r",
        "48.60532221865982\r",
        "48.62135299775569\r",
        "48.63738377685156\r",
        "48.65341455594742\r",
        "48.669445335043285\r",
        "48.68547611413915\r",
        "48.70150689323501\r",
        "48.71753767233088\r",
        "48.73356845142674\r",
        "48.749599230522605\r",
        "48.76563000961846\r",
        "48.78166078871433\r",
        "48.7976915678102\r",
        "48.813722346906054\r",
        "48.829753126001926"
       ]
      },
      {
       "output_type": "stream",
       "stream": "stdout",
       "text": [
        "\r",
        "48.84578390509779\r",
        "48.86181468419365\r",
        "48.87784546328952\r",
        "48.89387624238538\r",
        "48.90990702148124\r",
        "48.92593780057711\r",
        "48.941968579672974\r",
        "48.95799935876884\r",
        "48.9740301378647\r",
        "48.990060916960566\r",
        "49.00609169605643\r",
        "49.022122475152294\r",
        "49.03815325424816\r",
        "49.05418403334402\r",
        "49.070214812439886\r",
        "49.08624559153575\r",
        "49.102276370631614\r",
        "49.11830714972748"
       ]
      },
      {
       "output_type": "stream",
       "stream": "stdout",
       "text": [
        "\r",
        "49.13433792882334\r",
        "49.150368707919206\r",
        "49.16639948701507\r",
        "49.182430266110934\r",
        "49.1984610452068\r",
        "49.214491824302655\r",
        "49.230522603398526\r",
        "49.24655338249439\r",
        "49.262584161590254\r",
        "49.27861494068612\r",
        "49.29464571978198\r",
        "49.31067649887785\r",
        "49.32670727797371\r",
        "49.342738057069575\r",
        "49.35876883616544\r",
        "49.3747996152613\r",
        "49.39083039435717\r",
        "49.40686117345303\r",
        "49.422891952548895\r",
        "49.43892273164476\r",
        "49.45495351074062\r",
        "49.47098428983649\r",
        "49.48701506893235\r",
        "49.503045848028215\r",
        "49.51907662712408\r",
        "49.53510740621994\r",
        "49.55113818531581\r",
        "49.56716896441167\r",
        "49.583199743507535\r",
        "49.5992305226034"
       ]
      },
      {
       "output_type": "stream",
       "stream": "stdout",
       "text": [
        "\r",
        "49.61526130169926\r",
        "49.63129208079513\r",
        "49.64732285989099\r",
        "49.663353638986855\r",
        "49.67938441808272\r",
        "49.69541519717858\r",
        "49.71144597627445\r",
        "49.72747675537031\r",
        "49.743507534466175\r",
        "49.75953831356204\r",
        "49.7755690926579\r",
        "49.79159987175377\r",
        "49.80763065084963\r",
        "49.823661429945496\r",
        "49.83969220904136\r",
        "49.855722988137224\r",
        "49.87175376723309\r",
        "49.88778454632895\r",
        "49.903815325424816\r",
        "49.91984610452068\r",
        "49.935876883616544\r",
        "49.95190766271241\r",
        "49.96793844180827\r",
        "49.983969220904136\r",
        "50.0\r",
        "50.016030779095864\r",
        "50.03206155819173\r",
        "50.0480923372876\r",
        "50.06412311638345\r",
        "50.08015389547932\r",
        "50.096184674575184\r",
        "50.11221545367105"
       ]
      },
      {
       "output_type": "stream",
       "stream": "stdout",
       "text": [
        "\r",
        "50.12824623276691\r",
        "50.14427701186278\r",
        "50.16030779095863\r",
        "50.176338570054504\r",
        "50.19236934915037\r",
        "50.20840012824623\r",
        "50.2244309073421\r",
        "50.24046168643797\r",
        "50.25649246553382\r",
        "50.27252324462969\r",
        "50.28855402372555\r",
        "50.30458480282142\r",
        "50.32061558191728\r",
        "50.33664636101315\r",
        "50.352677140109016\r",
        "50.368707919204866\r",
        "50.38473869830074\r",
        "50.4007694773966\r",
        "50.416800256492465\r",
        "50.432831035588336\r",
        "50.4488618146842\r",
        "50.46489259378005\r",
        "50.48092337287592\r",
        "50.496954151971785\r",
        "50.51298493106765\r",
        "50.52901571016351\r",
        "50.545046489259384\r",
        "50.561077268355234\r",
        "50.577108047451105"
       ]
      },
      {
       "output_type": "stream",
       "stream": "stdout",
       "text": [
        "\r",
        "50.59313882654697\r",
        "50.60916960564283\r",
        "50.6252003847387\r",
        "50.64123116383457\r",
        "50.65726194293043\r",
        "50.67329272202629\r",
        "50.68932350112215\r",
        "50.70535428021802\r",
        "50.72138505931388\r",
        "50.73741583840975\r",
        "50.75344661750562\r",
        "50.769477396601474\r",
        "50.78550817569734\r",
        "50.8015389547932\r",
        "50.817569733889066\r",
        "50.83360051298493\r",
        "50.8496312920808\r",
        "50.86566207117665\r",
        "50.88169285027252\r",
        "50.897723629368386\r",
        "50.91375440846425\r",
        "50.929785187560114\r",
        "50.945815966655985"
       ]
      },
      {
       "output_type": "stream",
       "stream": "stdout",
       "text": [
        "\r",
        "50.96184674575185\r",
        "50.977877524847706\r",
        "50.99390830394357\r",
        "51.009939083039434\r",
        "51.0259698621353\r",
        "51.04200064123117\r",
        "51.05803142032703\r",
        "51.07406219942289\r",
        "51.090092978518754\r",
        "51.10612375761462\r",
        "51.12215453671048\r",
        "51.13818531580635\r",
        "51.15421609490222\r",
        "51.17024687399807\r",
        "51.18627765309394\r",
        "51.2023084321898\r",
        "51.21833921128567\r",
        "51.23436999038154"
       ]
      },
      {
       "output_type": "stream",
       "stream": "stdout",
       "text": [
        "\r",
        "51.2504007694774\r",
        "51.266431548573266\r",
        "51.28246232766912\r",
        "51.29849310676499\r",
        "51.31452388586085\r",
        "51.330554664956715\r",
        "51.346585444052586\r",
        "51.36261622314845\r",
        "51.37864700224431\r",
        "51.39467778134017\r",
        "51.410708560436035\r",
        "51.4267393395319\r",
        "51.44277011862777\r",
        "51.458800897723634\r",
        "51.47483167681949\r",
        "51.490862455915355\r",
        "51.50689323501122\r",
        "51.52292401410708\r",
        "51.538954793202954\r",
        "51.55498557229882\r",
        "51.57101635139468\r",
        "51.58704713049054\r",
        "51.6030779095864\r",
        "51.61910868868227\r",
        "51.63513946777813\r",
        "51.651170246874"
       ]
      },
      {
       "output_type": "stream",
       "stream": "stdout",
       "text": [
        "\r",
        "51.66720102596987\r",
        "51.683231805065724\r",
        "51.69926258416159\r",
        "51.71529336325745\r",
        "51.731324142353316\r",
        "51.74735492144919\r",
        "51.76338570054505\r",
        "51.77941647964091\r",
        "51.79544725873677"
       ]
      },
      {
       "output_type": "stream",
       "stream": "stdout",
       "text": [
        "\r",
        "51.811478037832636\r",
        "51.8275088169285\r",
        "51.84353959602437\r",
        "51.859570375120235\r",
        "51.8756011542161\r",
        "51.891631933311956\r",
        "51.90766271240782\r",
        "51.923693491503684\r",
        "51.939724270599555\r",
        "51.95575504969542\r",
        "51.97178582879128\r",
        "51.98781660788714\r",
        "52.003847386983004"
       ]
      },
      {
       "output_type": "stream",
       "stream": "stdout",
       "text": [
        "\r",
        "52.01987816607887\r",
        "52.03590894517474\r",
        "52.0519397242706\r",
        "52.06797050336647\r",
        "52.084001282462324\r",
        "52.10003206155819\r",
        "52.11606284065405\r",
        "52.13209361974992\r",
        "52.14812439884579\r",
        "52.16415517794165\r",
        "52.180185957037516\r",
        "52.19621673613337\r",
        "52.21224751522924\r",
        "52.2282782943251\r",
        "52.24430907342097\r",
        "52.260339852516836\r",
        "52.2763706316127\r",
        "52.29240141070856\r",
        "52.30843218980442\r",
        "52.324462968900285\r",
        "52.340493747996156\r",
        "52.35652452709202\r",
        "52.372555306187884"
       ]
      },
      {
       "output_type": "stream",
       "stream": "stdout",
       "text": [
        "\r",
        "52.38858608528374\r",
        "52.404616864379605\r",
        "52.42064764347547\r",
        "52.43667842257133\r",
        "52.452709201667204\r",
        "52.46873998076307\r",
        "52.48477075985893\r",
        "52.50080153895479\r",
        "52.51683231805065\r",
        "52.53286309714652\r",
        "52.54889387624239\r",
        "52.56492465533825\r",
        "52.58095543443412\r",
        "52.59698621352997\r",
        "52.61301699262584\r",
        "52.6290477717217\r",
        "52.64507855081757\r",
        "52.66110932991344"
       ]
      },
      {
       "output_type": "stream",
       "stream": "stdout",
       "text": [
        "\r",
        "52.6771401090093"
       ]
      },
      {
       "output_type": "stream",
       "stream": "stdout",
       "text": [
        "\r",
        "52.69317088810516\r",
        "52.70920166720102\r",
        "52.725232446296886\r",
        "52.74126322539276\r",
        "52.75729400448862\r",
        "52.773324783584485\r",
        "52.78935556268035\r",
        "52.805386341776206\r",
        "52.82141712087207\r",
        "52.83744789996794\r",
        "52.853478679063805\r",
        "52.86950945815967\r",
        "52.88554023725553\r",
        "52.90157101635139\r",
        "52.917601795447254\r",
        "52.93363257454312\r",
        "52.94966335363899\r",
        "52.96569413273485\r",
        "52.98172491183072\r",
        "52.99775569092658"
       ]
      },
      {
       "output_type": "stream",
       "stream": "stdout",
       "text": [
        "\r",
        "53.01378647002244\r",
        "53.0298172491183\r",
        "53.045848028214174\r",
        "53.06187880731004\r",
        "53.0779095864059\r",
        "53.093940365501766\r",
        "53.10997114459762\r",
        "53.12600192369349\r",
        "53.14203270278936\r",
        "53.15806348188522\r",
        "53.174094260981086\r",
        "53.19012504007695\r",
        "53.20615581917281\r",
        "53.22218659826867\r",
        "53.238217377364535\r",
        "53.254248156460406\r",
        "53.27027893555627\r",
        "53.286309714652134\r",
        "53.302340493748005\r",
        "53.318371272843855\r",
        "53.33440205193972\r",
        "53.35043283103559\r",
        "53.366463610131454\r",
        "53.38249438922732\r",
        "53.39852516832318\r",
        "53.41455594741904\r",
        "53.4305867265149\r",
        "53.446617505610774\r",
        "53.46264828470664\r",
        "53.4786790638025\r",
        "53.49470984289837\r",
        "53.51074062199422\r",
        "53.52677140109009\r",
        "53.54280218018596\r",
        "53.55883295928182"
       ]
      },
      {
       "output_type": "stream",
       "stream": "stdout",
       "text": [
        "\r",
        "53.57486373837769\r",
        "53.59089451747355\r",
        "53.60692529656942\r",
        "53.62295607566527\r",
        "53.63898685476114\r",
        "53.65501763385701\r",
        "53.67104841295287\r",
        "53.687079192048735\r",
        "53.7031099711446"
       ]
      },
      {
       "output_type": "stream",
       "stream": "stdout",
       "text": [
        "\r",
        "53.719140750240456\r",
        "53.73517152933632\r",
        "53.75120230843219\r",
        "53.767233087528055\r",
        "53.78326386662392\r",
        "53.79929464571978\r",
        "53.81532542481564\r",
        "53.831356203911504\r",
        "53.847386983007375\r",
        "53.86341776210324\r",
        "53.8794485411991\r",
        "53.89547932029497\r",
        "53.91151009939084\r",
        "53.92754087848669\r",
        "53.94357165758256\r",
        "53.95960243667842\r",
        "53.97563321577429"
       ]
      },
      {
       "output_type": "stream",
       "stream": "stdout",
       "text": [
        "\r",
        "53.99166399487015\r",
        "54.00769477396602\r",
        "54.02372555306187\r",
        "54.03975633215774\r",
        "54.05578711125361\r",
        "54.07181789034947\r",
        "54.087848669445336\r",
        "54.10387944854121\r",
        "54.11991022763706\r",
        "54.13594100673292\r",
        "54.15197178582879\r",
        "54.168002564924656\r",
        "54.18403334402052\r",
        "54.200064123116384\r",
        "54.216094902212255\r",
        "54.232125681308105\r",
        "54.248156460403976\r",
        "54.26418723949984\r",
        "54.280218018595704\r",
        "54.29624879769157\r",
        "54.31227957678744\r",
        "54.32831035588329\r",
        "54.34434113497916\r",
        "54.360371914075024\r",
        "54.37640269317089\r",
        "54.39243347226675\r",
        "54.40846425136262\r",
        "54.42449503045847"
       ]
      },
      {
       "output_type": "stream",
       "stream": "stdout",
       "text": [
        "\r",
        "54.440525809554345\r",
        "54.45655658865021\r",
        "54.47258736774607\r",
        "54.48861814684194\r",
        "54.5046489259378\r",
        "54.52067970503367\r",
        "54.53671048412952\r",
        "54.55274126322539\r",
        "54.56877204232126\r",
        "54.58480282141712\r",
        "54.600833600512985"
       ]
      },
      {
       "output_type": "stream",
       "stream": "stdout",
       "text": [
        "\r",
        "54.616864379608856\r",
        "54.632895158704706\r",
        "54.64892593780058\r",
        "54.66495671689644\r",
        "54.680987495992305\r",
        "54.69701827508817\r",
        "54.71304905418404\r",
        "54.72907983327989\r",
        "54.74511061237576\r",
        "54.761141391471625\r",
        "54.77717217056749\r",
        "54.79320294966335\r",
        "54.809233728759224\r",
        "54.82526450785509\r",
        "54.84129528695094\r",
        "54.85732606604681\r",
        "54.87335684514267\r",
        "54.88938762423854\r",
        "54.90541840333441\r",
        "54.92144918243027\r",
        "54.93747996152612\r",
        "54.953510740621994\r",
        "54.96954151971786\r",
        "54.98557229881372\r",
        "55.001603077909586"
       ]
      },
      {
       "output_type": "stream",
       "stream": "stdout",
       "text": [
        "\r",
        "55.01763385700546\r",
        "55.03366463610131\r",
        "55.04969541519718\r",
        "55.06572619429304\r",
        "55.081756973388906\r",
        "55.09778775248477\r",
        "55.11381853158064\r",
        "55.129849310676505\r",
        "55.14588008977236\r",
        "55.161910868868226"
       ]
      },
      {
       "output_type": "stream",
       "stream": "stdout",
       "text": [
        "\r",
        "55.17794164796409\r",
        "55.193972427059954\r",
        "55.210003206155825\r",
        "55.22603398525169\r",
        "55.242064764347546\r",
        "55.25809554344341\r",
        "55.274126322539274\r",
        "55.29015710163514\r",
        "55.306187880731\r",
        "55.32221865982687\r",
        "55.33824943892272\r",
        "55.354280218018594\r",
        "55.37031099711446\r",
        "55.38634177621032"
       ]
      },
      {
       "output_type": "stream",
       "stream": "stdout",
       "text": [
        "\r",
        "55.40237255530619\r",
        "55.41840333440206\r",
        "55.43443411349792\r",
        "55.45046489259378\r",
        "55.46649567168964\r",
        "55.48252645078551\r",
        "55.49855722988137\r",
        "55.51458800897724\r",
        "55.530618788073106\r",
        "55.54664956716896\r",
        "55.56268034626483\r",
        "55.57871112536069\r",
        "55.594741904456555\r",
        "55.610772683552426\r",
        "55.62680346264829\r",
        "55.64283424174414\r",
        "55.65886502084001\r",
        "55.674895799935875\r",
        "55.69092657903174\r",
        "55.70695735812761"
       ]
      },
      {
       "output_type": "stream",
       "stream": "stdout",
       "text": [
        "\r",
        "55.722988137223474\r",
        "55.73901891631934\r",
        "55.755049695415195\r",
        "55.77108047451106\r",
        "55.78711125360692\r",
        "55.80314203270279\r",
        "55.81917281179866\r",
        "55.83520359089452\r",
        "55.85123436999038\r",
        "55.86726514908624\r",
        "55.88329592818211"
       ]
      },
      {
       "output_type": "stream",
       "stream": "stdout",
       "text": [
        "\r",
        "55.89932670727797\r",
        "55.91535748637384\r",
        "55.93138826546971\r",
        "55.947419044565564\r",
        "55.96344982366143\r",
        "55.97948060275729\r",
        "55.995511381853156\r",
        "56.01154216094903\r",
        "56.02757294004489\r",
        "56.043603719140755\r",
        "56.05963449823661\r",
        "56.075665277332476\r",
        "56.09169605642834\r",
        "56.107726835524204\r",
        "56.123757614620075\r",
        "56.13978839371594\r",
        "56.155819172811796\r",
        "56.17184995190766\r",
        "56.187880731003524\r",
        "56.20391151009939\r",
        "56.21994228919526\r",
        "56.23597306829112\r",
        "56.25200384738698"
       ]
      },
      {
       "output_type": "stream",
       "stream": "stdout",
       "text": [
        "\r",
        "56.268034626482844\r",
        "56.28406540557871\r",
        "56.30009618467457\r",
        "56.316126963770444\r",
        "56.33215774286631\r",
        "56.34818852196217\r",
        "56.36421930105803\r",
        "56.38025008015389\r",
        "56.39628085924976\r",
        "56.41231163834563\r",
        "56.42834241744149\r",
        "56.444373196537356\r",
        "56.46040397563321\r",
        "56.47643475472908\r",
        "56.49246553382494\r",
        "56.50849631292081\r",
        "56.524527092016676\r",
        "56.54055787111254\r",
        "56.5565886502084\r",
        "56.57261942930426\r",
        "56.588650208400125\r",
        "56.60468098749599"
       ]
      },
      {
       "output_type": "stream",
       "stream": "stdout",
       "text": [
        "\r",
        "56.62071176659186\r",
        "56.636742545687724\r",
        "56.65277332478359\r",
        "56.668804103879445\r",
        "56.68483488297531\r",
        "56.70086566207117\r",
        "56.716896441167044\r",
        "56.73292722026291\r",
        "56.74895799935877\r",
        "56.76498877845463\r",
        "56.78101955755049\r",
        "56.79705033664636\r",
        "56.81308111574223\r",
        "56.82911189483809\r",
        "56.84514267393396\r",
        "56.861173453029814\r",
        "56.87720423212568\r",
        "56.89323501122154\r",
        "56.909265790317406\r",
        "56.92529656941328\r",
        "56.94132734850914\r",
        "56.957358127605005\r",
        "56.97338890670086\r",
        "56.989419685796726\r",
        "57.00545046489259\r",
        "57.02148124398846"
       ]
      },
      {
       "output_type": "stream",
       "stream": "stdout",
       "text": [
        "\r",
        "57.037512023084325\r",
        "57.05354280218019\r",
        "57.069573581276046\r",
        "57.08560436037191\r",
        "57.101635139467774\r",
        "57.117665918563645\r",
        "57.13369669765951\r",
        "57.14972747675537\r",
        "57.16575825585123\r",
        "57.181789034947094\r",
        "57.19781981404296\r",
        "57.21385059313883\r",
        "57.22988137223469\r",
        "57.24591215133056\r",
        "57.26194293042642\r",
        "57.27797370952228\r",
        "57.29400448861814\r",
        "57.310035267714014\r",
        "57.32606604680988\r",
        "57.34209682590574\r",
        "57.358127605001606\r",
        "57.37415838409746\r",
        "57.39018916319333"
       ]
      },
      {
       "output_type": "stream",
       "stream": "stdout",
       "text": [
        "\r",
        "57.40621994228919\r",
        "57.42225072138506\r",
        "57.438281500480926\r",
        "57.45431227957679\r",
        "57.47034305867265\r",
        "57.48637383776851\r",
        "57.502404616864375\r",
        "57.518435395960246\r",
        "57.53446617505611\r",
        "57.550496954151974\r",
        "57.56652773324784\r",
        "57.582558512343695\r",
        "57.59858929143956\r",
        "57.61462007053543\r",
        "57.630650849631294\r",
        "57.64668162872716\r",
        "57.66271240782302\r",
        "57.67874318691888\r",
        "57.69477396601474"
       ]
      },
      {
       "output_type": "stream",
       "stream": "stdout",
       "text": [
        "\r",
        "57.71080474511061\r",
        "57.72683552420648\r",
        "57.74286630330234\r",
        "57.75889708239821\r",
        "57.774927861494064\r",
        "57.79095864058993\r",
        "57.80698941968579\r",
        "57.82302019878166\r",
        "57.83905097787753\r",
        "57.85508175697339\r",
        "57.871112536069255\r",
        "57.88714331516511\r",
        "57.903174094260976\r",
        "57.91920487335685\r",
        "57.93523565245271\r",
        "57.951266431548575\r",
        "57.96729721064444\r",
        "57.983327989740296\r",
        "57.99935876883616\r",
        "58.01538954793203\r",
        "58.031420327027895\r",
        "58.04745110612376\r",
        "58.06348188521962\r",
        "58.07951266431548\r",
        "58.095543443411344"
       ]
      },
      {
       "output_type": "stream",
       "stream": "stdout",
       "text": [
        "\r",
        "58.111574222507215\r",
        "58.12760500160308\r",
        "58.14363578069894\r",
        "58.15966655979481\r",
        "58.17569733889067\r",
        "58.19172811798653"
       ]
      },
      {
       "output_type": "stream",
       "stream": "stdout",
       "text": [
        "\r",
        "58.20775889708239\r",
        "58.223789676178264\r",
        "58.23982045527413\r",
        "58.25585123436999\r",
        "58.271882013465856\r",
        "58.28791279256171\r",
        "58.30394357165758\r",
        "58.31997435075345\r",
        "58.33600512984931\r",
        "58.352035908945176\r",
        "58.36806668804104\r",
        "58.38409746713691\r",
        "58.40012824623276\r",
        "58.41615902532863\r",
        "58.432189804424496\r",
        "58.44822058352036\r",
        "58.464251362616224\r",
        "58.480282141712095\r",
        "58.496312920807945\r",
        "58.51234369990381\r",
        "58.52837447899968"
       ]
      },
      {
       "output_type": "stream",
       "stream": "stdout",
       "text": [
        "\r",
        "58.544405258095544\r",
        "58.56043603719141\r",
        "58.57646681628728\r",
        "58.59249759538313\r",
        "58.60852837447899\r",
        "58.624559153574864\r",
        "58.64058993267073\r",
        "58.65662071176659\r",
        "58.67265149086246\r",
        "58.68868226995833\r",
        "58.70471304905418\r",
        "58.72074382815005\r",
        "58.73677460724591\r",
        "58.75280538634178\r",
        "58.76883616543764\r",
        "58.78486694453351\r",
        "58.80089772362936\r",
        "58.81692850272523\r",
        "58.8329592818211\r",
        "58.84899006091696\r",
        "58.865020840012825\r",
        "58.881051619108696\r",
        "58.897082398204546\r",
        "58.91311317730042\r",
        "58.92914395639628\r",
        "58.945174735492145\r",
        "58.96120551458801\r",
        "58.97723629368387\r",
        "58.993267072779744\r",
        "59.009297851875594"
       ]
      },
      {
       "output_type": "stream",
       "stream": "stdout",
       "text": [
        "\r",
        "59.025328630971465\r",
        "59.04135941006733\r",
        "59.05739018916319\r",
        "59.07342096825906\r",
        "59.08945174735493\r",
        "59.10548252645078\r",
        "59.12151330554665\r",
        "59.137544084642514\r",
        "59.15357486373838\r",
        "59.16960564283424\r",
        "59.18563642193011\r",
        "59.20166720102596\r",
        "59.217697980121834\r",
        "59.2337287592177\r",
        "59.24975953831356\r",
        "59.265790317409426\r",
        "59.2818210965053\r",
        "59.29785187560116\r",
        "59.31388265469701\r",
        "59.32991343379288\r",
        "59.345944212888746\r",
        "59.36197499198461\r",
        "59.37800577108048"
       ]
      },
      {
       "output_type": "stream",
       "stream": "stdout",
       "text": [
        "\r",
        "59.394036550176345\r",
        "59.410067329272195\r",
        "59.426098108368066\r",
        "59.44212888746393\r",
        "59.458159666559794\r",
        "59.47419044565566\r",
        "59.49022122475153"
       ]
      },
      {
       "output_type": "stream",
       "stream": "stdout",
       "text": [
        "\r",
        "59.50625200384738\r",
        "59.52228278294325\r",
        "59.538313562039114\r",
        "59.55434434113498\r",
        "59.57037512023084\r",
        "59.586405899326714\r",
        "59.60243667842258\r",
        "59.618467457518435\r",
        "59.6344982366143\r",
        "59.65052901571016\r",
        "59.66655979480603\r",
        "59.6825905739019\r",
        "59.69862135299776\r",
        "59.71465213209362\r",
        "59.73068291118948\r",
        "59.74671369028535\r",
        "59.76274446938121\r",
        "59.778775248477075\r",
        "59.794806027572946\r",
        "59.810836806668796\r",
        "59.82686758576467\r",
        "59.84289836486053"
       ]
      },
      {
       "output_type": "stream",
       "stream": "stdout",
       "text": [
        "\r",
        "59.858929143956395\r",
        "59.87495992305226\r",
        "59.89099070214813\r",
        "59.907021481243994\r",
        "59.92305226033985\r",
        "59.939083039435715\r",
        "59.95511381853158\r",
        "59.97114459762744\r",
        "59.987175376723314\r",
        "60.00320615581918\r",
        "60.019236934915035\r",
        "60.0352677140109\r",
        "60.05129849310676\r",
        "60.06732927220263\r",
        "60.0833600512985\r",
        "60.09939083039436\r",
        "60.11542160949021\r",
        "60.131452388586084\r",
        "60.14748316768195\r",
        "60.16351394677781\r",
        "60.17954472587368\r",
        "60.19557550496955\r",
        "60.21160628406541\r",
        "60.22763706316127\r",
        "60.24366784225713\r",
        "60.259698621352996\r",
        "60.27572940044886\r",
        "60.29176017954473\r",
        "60.307790958640595\r",
        "60.32382173773645"
       ]
      },
      {
       "output_type": "stream",
       "stream": "stdout",
       "text": [
        "\r",
        "60.339852516832316\r",
        "60.35588329592818\r",
        "60.371914075024044\r",
        "60.387944854119915\r",
        "60.40397563321578\r",
        "60.420006412311636\r",
        "60.4360371914075\r",
        "60.452067970503364\r",
        "60.46809874959923\r",
        "60.4841295286951\r",
        "60.50016030779096\r",
        "60.51619108688683\r",
        "60.532221865982685\r",
        "60.54825264507855\r",
        "60.56428342417441\r",
        "60.58031420327028\r",
        "60.59634498236615\r",
        "60.61237576146201\r",
        "60.62840654055787\r",
        "60.64443731965373\r",
        "60.6604680987496\r",
        "60.67649887784546\r",
        "60.69252965694133\r",
        "60.708560436037196\r",
        "60.72459121513305\r",
        "60.74062199422892\r",
        "60.75665277332478"
       ]
      },
      {
       "output_type": "stream",
       "stream": "stdout",
       "text": [
        "\r",
        "60.772683552420645\r",
        "60.788714331516516\r",
        "60.80474511061238\r",
        "60.820775889708244\r",
        "60.8368066688041\r",
        "60.852837447899965\r",
        "60.86886822699583\r",
        "60.8848990060917\r",
        "60.900929785187564\r",
        "60.91696056428343\r",
        "60.932991343379285\r",
        "60.94902212247515\r",
        "60.96505290157101\r",
        "60.981083680666885\r",
        "60.99711445976275\r",
        "61.01314523885861\r",
        "61.02917601795447\r",
        "61.045206797050334"
       ]
      },
      {
       "output_type": "stream",
       "stream": "stdout",
       "text": [
        "\r",
        "61.0612375761462\r",
        "61.07726835524206\r",
        "61.09329913433793\r",
        "61.1093299134338\r",
        "61.12536069252966\r",
        "61.14139147162552\r",
        "61.15742225072138\r",
        "61.173453029817246\r",
        "61.18948380891312\r",
        "61.20551458800898\r",
        "61.221545367104845\r",
        "61.2375761462007\r",
        "61.253606925296566\r",
        "61.26963770439243\r",
        "61.2856684834883\r",
        "61.301699262584165\r",
        "61.31773004168003\r",
        "61.333760820775886\r",
        "61.34979159987175\r",
        "61.365822378967614\r",
        "61.38185315806348\r",
        "61.39788393715935\r",
        "61.41391471625521\r",
        "61.42994549535108\r",
        "61.445976274446934\r",
        "61.4620070535428\r",
        "61.47803783263866\r",
        "61.494068611734534\r",
        "61.5100993908304\r",
        "61.52613016992626\r",
        "61.54216094902212\r",
        "61.55819172811798\r",
        "61.57422250721385\r",
        "61.59025328630972\r",
        "61.60628406540558\r",
        "61.622314844501446\r",
        "61.6383456235973\r",
        "61.65437640269317\r",
        "61.67040718178903"
       ]
      },
      {
       "output_type": "stream",
       "stream": "stdout",
       "text": [
        "\r",
        "61.6864379608849\r",
        "61.702468739980766\r",
        "61.71849951907663\r",
        "61.734530298172494\r",
        "61.75056107726835\r",
        "61.766591856364215\r",
        "61.782622635460086\r",
        "61.79865341455595\r",
        "61.814684193651814\r",
        "61.83071497274768\r",
        "61.846745751843535\r",
        "61.8627765309394\r",
        "61.87880731003526\r",
        "61.894838089131134\r",
        "61.910868868227\r",
        "61.92689964732286\r",
        "61.94293042641872\r",
        "61.95896120551458\r",
        "61.97499198461045\r",
        "61.99102276370632\r",
        "62.00705354280218\r",
        "62.02308432189805\r",
        "62.03911510099391\r",
        "62.05514588008977\r",
        "62.07117665918563\r",
        "62.0872074382815\r",
        "62.10323821737737\r",
        "62.11926899647323\r",
        "62.135299775569095\r",
        "62.15133055466495\r",
        "62.167361333760816\r",
        "62.18339211285668\r",
        "62.19942289195255\r",
        "62.215453671048415\r",
        "62.23148445014428\r",
        "62.247515229240136"
       ]
      },
      {
       "output_type": "stream",
       "stream": "stdout",
       "text": [
        "\r",
        "62.263546008336\r",
        "62.279576787431864\r",
        "62.295607566527735\r",
        "62.3116383456236\r",
        "62.32766912471946\r",
        "62.34369990381533\r",
        "62.359730682911184\r",
        "62.37576146200705\r",
        "62.39179224110292\r",
        "62.407823020198784\r",
        "62.42385379929465\r",
        "62.43988457839051\r",
        "62.45591535748637\r",
        "62.47194613658223\r",
        "62.487976915678104\r",
        "62.50400769477397"
       ]
      },
      {
       "output_type": "stream",
       "stream": "stdout",
       "text": [
        "\r",
        "62.52003847386983\r",
        "62.536069252965696\r",
        "62.55210003206155\r",
        "62.56813081115742\r",
        "62.58416159025329\r",
        "62.60019236934915\r",
        "62.616223148445016\r",
        "62.63225392754088\r",
        "62.648284706636744\r",
        "62.6643154857326\r",
        "62.680346264828465\r",
        "62.696377043924336\r",
        "62.7124078230202\r",
        "62.728438602116064\r",
        "62.74446938121193\r",
        "62.760500160307785\r",
        "62.77653093940365\r",
        "62.79256171849952\r",
        "62.808592497595384\r",
        "62.82462327669125\r",
        "62.84065405578711\r",
        "62.85668483488297\r",
        "62.87271561397883\r",
        "62.888746393074705\r",
        "62.90477717217057\r",
        "62.92080795126643\r",
        "62.9368387303623\r",
        "62.95286950945817"
       ]
      },
      {
       "output_type": "stream",
       "stream": "stdout",
       "text": [
        "\r",
        "62.96890028855402\r",
        "62.98493106764988\r",
        "63.00096184674575\r",
        "63.01699262584162\r",
        "63.03302340493748\r",
        "63.04905418403335\r",
        "63.0650849631292\r",
        "63.081115742225066\r",
        "63.09714652132094\r",
        "63.1131773004168\r",
        "63.129208079512665\r",
        "63.14523885860853"
       ]
      },
      {
       "output_type": "stream",
       "stream": "stdout",
       "text": [
        "\r",
        "63.161269637704386\r",
        "63.17730041680025\r",
        "63.19333119589612\r",
        "63.209361974991985\r",
        "63.22539275408785\r",
        "63.24142353318371\r",
        "63.257454312279584\r",
        "63.273485091375434"
       ]
      },
      {
       "output_type": "stream",
       "stream": "stdout",
       "text": [
        "\r",
        "63.289515870471305\r",
        "63.30554664956717\r",
        "63.32157742866303\r",
        "63.3376082077589\r",
        "63.35363898685477\r",
        "63.36966976595062\r",
        "63.38570054504649\r",
        "63.401731324142354\r",
        "63.41776210323822\r",
        "63.43379288233408\r",
        "63.449823661429946\r",
        "63.4658544405258\r",
        "63.48188521962167\r",
        "63.49791599871754\r",
        "63.5139467778134\r",
        "63.529977556909266\r",
        "63.54600833600513"
       ]
      },
      {
       "output_type": "stream",
       "stream": "stdout",
       "text": [
        "\r",
        "63.562039115101\r",
        "63.57806989419685\r",
        "63.59410067329272\r",
        "63.610131452388586\r",
        "63.62616223148445\r",
        "63.642193010580314\r",
        "63.658223789676185\r",
        "63.674254568772035\r",
        "63.690285347867906\r",
        "63.70631612696377\r",
        "63.722346906059634\r",
        "63.7383776851555\r",
        "63.75440846425137\r",
        "63.77043924334722\r",
        "63.78647002244308\r",
        "63.802500801538955\r",
        "63.81853158063482"
       ]
      },
      {
       "output_type": "stream",
       "stream": "stdout",
       "text": [
        "\r",
        "63.83456235973068\r",
        "63.850593138826554\r",
        "63.86662391792242\r",
        "63.88265469701827\r",
        "63.89868547611414\r",
        "63.91471625521\r",
        "63.93074703430587\r",
        "63.94677781340173\r",
        "63.9628085924976"
       ]
      },
      {
       "output_type": "stream",
       "stream": "stdout",
       "text": [
        "\r",
        "63.97883937159345\r",
        "63.99487015068932\r",
        "64.01090092978518\r",
        "64.02693170888105\r",
        "64.04296248797692\r",
        "64.05899326707278\r",
        "64.07502404616865\r",
        "64.09105482526451\r",
        "64.10708560436036"
       ]
      },
      {
       "output_type": "stream",
       "stream": "stdout",
       "text": [
        "\r",
        "64.12311638345624\r",
        "64.1391471625521\r",
        "64.15517794164796\r",
        "64.17120872074383\r",
        "64.18723949983969\r",
        "64.20327027893555\r",
        "64.21930105803142\r",
        "64.23533183712729\r",
        "64.25136261622315\r",
        "64.26739339531902\r",
        "64.28342417441488\r",
        "64.29945495351073\r",
        "64.3154857326066\r",
        "64.33151651170247\r",
        "64.34754729079833\r",
        "64.3635780698942\r",
        "64.37960884899006\r",
        "64.39563962808592\r",
        "64.41167040718179\r",
        "64.42770118627766\r",
        "64.44373196537352\r",
        "64.45976274446939"
       ]
      },
      {
       "output_type": "stream",
       "stream": "stdout",
       "text": [
        "\r",
        "64.47579352356524\r",
        "64.4918243026611\r",
        "64.50785508175697\r",
        "64.52388586085284\r",
        "64.5399166399487\r",
        "64.55594741904457\r",
        "64.57197819814043\r",
        "64.58800897723629\r",
        "64.60403975633216\r",
        "64.62007053542803\r",
        "64.63610131452388\r",
        "64.65213209361976\r",
        "64.66816287271561\r",
        "64.68419365181148\r",
        "64.70022443090734\r",
        "64.7162552100032\r",
        "64.73228598909907\r",
        "64.74831676819494\r",
        "64.7643475472908\r",
        "64.78037832638667\r",
        "64.79640910548252\r",
        "64.81243988457838"
       ]
      },
      {
       "output_type": "stream",
       "stream": "stdout",
       "text": [
        "\r",
        "64.82847066367425\r",
        "64.84450144277012\r",
        "64.86053222186598\r",
        "64.87656300096185\r",
        "64.89259378005771\r",
        "64.90862455915357\r",
        "64.92465533824944\r",
        "64.94068611734531\r",
        "64.95671689644116\r",
        "64.97274767553704\r",
        "64.98877845463291\r",
        "65.00480923372875\r",
        "65.02084001282462\r",
        "65.03687079192049\r",
        "65.05290157101635\r",
        "65.06893235011222\r",
        "65.08496312920809\r",
        "65.10099390830393\r",
        "65.1170246873998\r",
        "65.13305546649568\r",
        "65.14908624559153\r",
        "65.1651170246874\r",
        "65.18114780378326\r",
        "65.19717858287912\r",
        "65.21320936197499\r",
        "65.22924014107086\r",
        "65.24527092016672\r",
        "65.26130169926259\r",
        "65.27733247835845"
       ]
      },
      {
       "output_type": "stream",
       "stream": "stdout",
       "text": [
        "\r",
        "65.29336325745432\r",
        "65.30939403655017\r",
        "65.32542481564604\r",
        "65.3414555947419\r",
        "65.35748637383777\r",
        "65.37351715293363\r",
        "65.3895479320295\r",
        "65.40557871112536\r",
        "65.42160949022121\r",
        "65.43764026931709\r",
        "65.45367104841296\r",
        "65.46970182750881\r",
        "65.48573260660469\r",
        "65.50176338570054\r",
        "65.5177941647964\r",
        "65.53382494389227\r",
        "65.54985572298814\r",
        "65.565886502084"
       ]
      },
      {
       "output_type": "stream",
       "stream": "stdout",
       "text": [
        "\r",
        "65.58191728117987\r",
        "65.59794806027574\r",
        "65.61397883937158\r",
        "65.63000961846745\r",
        "65.64604039756333\r",
        "65.66207117665918\r",
        "65.67810195575505\r",
        "65.69413273485092\r",
        "65.71016351394677\r",
        "65.72619429304264\r",
        "65.74222507213851\r",
        "65.75825585123437\r",
        "65.77428663033024\r",
        "65.79031740942611\r",
        "65.80634818852195\r",
        "65.82237896761782\r",
        "65.8384097467137\r",
        "65.85444052580955\r",
        "65.87047130490542\r",
        "65.88650208400128\r",
        "65.90253286309715\r",
        "65.918563642193\r",
        "65.93459442128888\r",
        "65.95062520038474\r",
        "65.9666559794806\r",
        "65.98268675857646\r",
        "65.99871753767233\r",
        "66.01474831676819\r",
        "66.03077909586406\r",
        "66.04680987495992\r",
        "66.06284065405579\r",
        "66.07887143315165\r",
        "66.09490221224752\r",
        "66.11093299134338\r",
        "66.12696377043925\r",
        "66.1429945495351\r",
        "66.15902532863097\r",
        "66.17505610772683\r",
        "66.1910868868227\r",
        "66.20711766591857\r",
        "66.22314844501443\r",
        "66.23917922411029\r",
        "66.25521000320616\r",
        "66.27124078230202\r",
        "66.28727156139789\r",
        "66.30330234049376\r",
        "66.3193331195896\r",
        "66.33536389868547\r",
        "66.35139467778134\r",
        "66.3674254568772\r",
        "66.38345623597307"
       ]
      },
      {
       "output_type": "stream",
       "stream": "stdout",
       "text": [
        "\r",
        "66.39948701506894\r",
        "66.41551779416478\r",
        "66.43154857326066\r",
        "66.44757935235653\r",
        "66.46361013145238\r",
        "66.47964091054826\r",
        "66.49567168964413\r",
        "66.51170246873998\r",
        "66.52773324783584\r",
        "66.54376402693171\r",
        "66.55979480602757\r",
        "66.57582558512344\r",
        "66.59185636421931\r",
        "66.60788714331517\r",
        "66.62391792241102\r",
        "66.6399487015069\r",
        "66.65597948060275\r",
        "66.67201025969862\r",
        "66.6880410387945\r",
        "66.70407181789035\r",
        "66.72010259698621\r",
        "66.73613337608208\r",
        "66.75216415517794\r",
        "66.76819493427381\r",
        "66.78422571336966\r",
        "66.80025649246554\r",
        "66.81628727156141\r",
        "66.83231805065726\r",
        "66.84834882975312\r",
        "66.86437960884899\r",
        "66.88041038794485\r",
        "66.89644116704072\r",
        "66.91247194613659\r",
        "66.92850272523245\r",
        "66.9445335043283"
       ]
      },
      {
       "output_type": "stream",
       "stream": "stdout",
       "text": [
        "\r",
        "66.96056428342418\r",
        "66.97659506252003\r",
        "66.9926258416159"
       ]
      },
      {
       "output_type": "stream",
       "stream": "stdout",
       "text": [
        "\r",
        "67.00865662071178\r",
        "67.02468739980762\r",
        "67.04071817890349\r",
        "67.05674895799936\r",
        "67.07277973709522\r",
        "67.08881051619109\r",
        "67.10484129528696\r",
        "67.12087207438282\r",
        "67.13690285347867\r",
        "67.15293363257454\r",
        "67.1689644116704\r",
        "67.18499519076627\r",
        "67.20102596986214\r",
        "67.217056748958\r",
        "67.23308752805386\r",
        "67.24911830714973\r",
        "67.26514908624559\r",
        "67.28117986534146\r",
        "67.29721064443733\r",
        "67.31324142353319\r",
        "67.32927220262904\r",
        "67.34530298172491\r",
        "67.36133376082077\r",
        "67.37736453991664\r",
        "67.39339531901251\r",
        "67.40942609810837\r",
        "67.42545687720424\r",
        "67.4414876563001\r",
        "67.45751843539595\r",
        "67.47354921449183\r",
        "67.48957999358768\r",
        "67.50561077268355\r",
        "67.52164155177942\r",
        "67.53767233087528\r",
        "67.55370310997114\r",
        "67.56973388906701\r",
        "67.58576466816287\r",
        "67.60179544725874\r",
        "67.61782622635461\r",
        "67.63385700545047\r",
        "67.64988778454632\r",
        "67.6659185636422\r",
        "67.68194934273805\r",
        "67.69798012183392\r",
        "67.7140109009298\r",
        "67.73004168002565\r",
        "67.7460724591215\r",
        "67.76210323821738"
       ]
      },
      {
       "output_type": "stream",
       "stream": "stdout",
       "text": [
        "\r",
        "67.77813401731323\r",
        "67.7941647964091\r",
        "67.81019557550498\r",
        "67.82622635460083\r",
        "67.84225713369669\r",
        "67.85828791279256\r",
        "67.87431869188842\r",
        "67.89034947098429\r",
        "67.90638025008016\r",
        "67.92241102917602\r",
        "67.93844180827188\r",
        "67.95447258736775\r",
        "67.9705033664636\r",
        "67.98653414555947\r",
        "68.00256492465535\r",
        "68.0185957037512\r",
        "68.03462648284707\r",
        "68.05065726194293\r",
        "68.06668804103879\r",
        "68.08271882013466\r",
        "68.09874959923053"
       ]
      },
      {
       "output_type": "stream",
       "stream": "stdout",
       "text": [
        "\r",
        "68.11478037832639\r",
        "68.13081115742226\r",
        "68.14684193651811\r",
        "68.16287271561397\r",
        "68.17890349470984\r",
        "68.19493427380571\r",
        "68.21096505290157\r",
        "68.22699583199744"
       ]
      },
      {
       "output_type": "stream",
       "stream": "stdout",
       "text": [
        "\r",
        "68.2430266110933\r",
        "68.25905739018916\r",
        "68.27508816928503\r",
        "68.2911189483809\r",
        "68.30714972747676\r",
        "68.32318050657263\r",
        "68.33921128566848\r",
        "68.35524206476434\r",
        "68.37127284386021\r",
        "68.38730362295607\r",
        "68.40333440205194\r",
        "68.41936518114781\r",
        "68.43539596024367\r",
        "68.45142673933952\r",
        "68.4674575184354\r",
        "68.48348829753125\r",
        "68.49951907662712\r",
        "68.515549855723\r",
        "68.53158063481885\r",
        "68.54761141391471\r",
        "68.56364219301058\r",
        "68.57967297210644\r",
        "68.59570375120231\r",
        "68.61173453029818\r",
        "68.62776530939404\r",
        "68.6437960884899\r",
        "68.65982686758576\r",
        "68.67585764668162\r",
        "68.69188842577749\r",
        "68.70791920487336\r",
        "68.72394998396922\r",
        "68.73998076306509\r",
        "68.75601154216095\r",
        "68.7720423212568\r",
        "68.78807310035268\r",
        "68.80410387944855\r",
        "68.8201346585444\r",
        "68.83616543764028\r",
        "68.85219621673613\r",
        "68.86822699583199\r",
        "68.88425777492786\r",
        "68.90028855402373\r",
        "68.91631933311959\r",
        "68.93235011221546\r",
        "68.94838089131132\r",
        "68.96441167040717\r",
        "68.98044244950304\r",
        "68.99647322859892\r",
        "69.01250400769477\r",
        "69.02853478679064"
       ]
      },
      {
       "output_type": "stream",
       "stream": "stdout",
       "text": [
        "\r",
        "69.0445655658865\r",
        "69.06059634498236\r",
        "69.07662712407823\r",
        "69.09265790317409\r",
        "69.10868868226996\r",
        "69.12471946136583\r",
        "69.14075024046168\r",
        "69.15678101955754\r",
        "69.17281179865341\r",
        "69.18884257774927\r",
        "69.20487335684514\r",
        "69.22090413594101\r",
        "69.23693491503687\r",
        "69.25296569413274\r",
        "69.2689964732286\r",
        "69.28502725232445\r",
        "69.30105803142033\r",
        "69.3170888105162\r",
        "69.33311958961205\r",
        "69.34915036870792\r",
        "69.36518114780378\r",
        "69.38121192689964\r",
        "69.39724270599551\r",
        "69.41327348509138\r",
        "69.42930426418724"
       ]
      },
      {
       "output_type": "stream",
       "stream": "stdout",
       "text": [
        "\r",
        "69.44533504328311\r",
        "69.46136582237898\r",
        "69.47739660147482\r",
        "69.4934273805707\r",
        "69.50945815966656\r",
        "69.52548893876242\r",
        "69.54151971785829\r",
        "69.55755049695415\r",
        "69.57358127605\r",
        "69.58961205514588\r",
        "69.60564283424175\r",
        "69.6216736133376\r",
        "69.63770439243348\r",
        "69.65373517152933\r",
        "69.66976595062519\r",
        "69.68579672972106\r",
        "69.70182750881693\r",
        "69.71785828791279\r",
        "69.73388906700866\r",
        "69.74991984610452\r",
        "69.76595062520039\r",
        "69.78198140429625\r",
        "69.79801218339212\r",
        "69.81404296248797"
       ]
      },
      {
       "output_type": "stream",
       "stream": "stdout",
       "text": [
        "\r",
        "69.83007374158385\r",
        "69.8461045206797\r",
        "69.86213529977557\r",
        "69.87816607887143\r",
        "69.8941968579673\r",
        "69.91022763706316\r",
        "69.92625841615903\r",
        "69.94228919525489\r",
        "69.95831997435076\r",
        "69.97435075344661\r",
        "69.99038153254247\r",
        "70.00641231163834\r",
        "70.02244309073421\r",
        "70.03847386983007\r",
        "70.05450464892594\r",
        "70.07053542802181\r",
        "70.08656620711766\r",
        "70.10259698621353\r",
        "70.1186277653094\r",
        "70.13465854440526\r",
        "70.15068932350113\r",
        "70.166720102597\r",
        "70.18275088169284\r",
        "70.19878166078871\r",
        "70.21481243988458\r",
        "70.23084321898044\r",
        "70.24687399807631\r",
        "70.26290477717218\r",
        "70.27893555626802\r",
        "70.2949663353639\r",
        "70.31099711445977\r",
        "70.32702789355562\r",
        "70.3430586726515\r",
        "70.35908945174737\r",
        "70.37512023084322\r",
        "70.39115100993908\r",
        "70.40718178903495\r",
        "70.42321256813081\r",
        "70.43924334722668"
       ]
      },
      {
       "output_type": "stream",
       "stream": "stdout",
       "text": [
        "\r",
        "70.45527412632254\r",
        "70.4713049054184\r",
        "70.48733568451426\r",
        "70.50336646361013\r",
        "70.51939724270599\r",
        "70.53542802180186\r",
        "70.55145880089772\r",
        "70.56748957999359\r",
        "70.58352035908945\r",
        "70.59955113818532\r",
        "70.61558191728118\r",
        "70.63161269637705\r",
        "70.6476434754729\r",
        "70.66367425456878\r",
        "70.67970503366465\r",
        "70.69573581276049\r",
        "70.71176659185636\r",
        "70.72779737095223\r",
        "70.74382815004809\r",
        "70.75985892914396\r",
        "70.77588970823983"
       ]
      },
      {
       "output_type": "stream",
       "stream": "stdout",
       "text": [
        "\r",
        "70.79192048733567\r",
        "70.80795126643154\r",
        "70.82398204552742\r",
        "70.84001282462327\r",
        "70.85604360371914\r",
        "70.87207438281501\r",
        "70.88810516191086\r",
        "70.90413594100673\r",
        "70.9201667201026\r",
        "70.93619749919846\r",
        "70.95222827829433\r",
        "70.9682590573902\r",
        "70.98428983648606\r",
        "71.00032061558191\r",
        "71.01635139467778\r",
        "71.03238217377364\r",
        "71.04841295286951\r",
        "71.06444373196538\r",
        "71.08047451106124\r",
        "71.0965052901571\r",
        "71.11253606925297\r",
        "71.12856684834883\r",
        "71.1445976274447\r",
        "71.16062840654055\r",
        "71.17665918563642\r",
        "71.19268996473228\r",
        "71.20872074382815\r",
        "71.22475152292401"
       ]
      },
      {
       "output_type": "stream",
       "stream": "stdout",
       "text": [
        "\r",
        "71.24078230201988\r",
        "71.25681308111574\r",
        "71.27284386021161\r",
        "71.28887463930748\r",
        "71.30490541840334\r",
        "71.3209361974992\r",
        "71.33696697659506\r",
        "71.35299775569092\r",
        "71.36902853478679\r",
        "71.38505931388266\r",
        "71.40109009297852\r",
        "71.41712087207438\r",
        "71.43315165117025\r",
        "71.4491824302661\r",
        "71.46521320936198\r",
        "71.48124398845785\r",
        "71.4972747675537\r",
        "71.51330554664956\r",
        "71.52933632574543\r",
        "71.54536710484129\r",
        "71.56139788393716\r",
        "71.57742866303303\r",
        "71.59345944212889\r",
        "71.60949022122475\r",
        "71.62552100032062\r",
        "71.64155177941647\r",
        "71.65758255851235\r",
        "71.67361333760822\r",
        "71.68964411670407\r",
        "71.70567489579993\r",
        "71.7217056748958\r",
        "71.73773645399166"
       ]
      },
      {
       "output_type": "stream",
       "stream": "stdout",
       "text": [
        "\r",
        "71.75376723308753\r",
        "71.7697980121834\r",
        "71.78582879127926\r",
        "71.80185957037511\r",
        "71.81789034947099\r",
        "71.83392112856684\r",
        "71.84995190766271\r",
        "71.86598268675858\r",
        "71.88201346585444\r",
        "71.89804424495031\r",
        "71.91407502404617\r",
        "71.93010580314203\r",
        "71.9461365822379\r",
        "71.96216736133377\r",
        "71.97819814042963\r",
        "71.9942289195255\r",
        "72.01025969862135\r",
        "72.02629047771721\r",
        "72.04232125681308\r",
        "72.05835203590894\r",
        "72.07438281500481\r",
        "72.09041359410068\r",
        "72.10644437319654\r",
        "72.1224751522924\r",
        "72.13850593138827\r",
        "72.15453671048412\r",
        "72.17056748958\r",
        "72.18659826867587\r",
        "72.20262904777172\r",
        "72.21865982686758\r",
        "72.23469060596345\r",
        "72.25072138505931\r",
        "72.26675216415518\r",
        "72.28278294325105\r",
        "72.2988137223469\r",
        "72.31484450144276"
       ]
      },
      {
       "output_type": "stream",
       "stream": "stdout",
       "text": [
        "\r",
        "72.33087528053863\r",
        "72.34690605963449\r",
        "72.36293683873036\r",
        "72.37896761782623\r",
        "72.39499839692209\r",
        "72.41102917601795\r",
        "72.42705995511382\r",
        "72.44309073420968\r",
        "72.45912151330555\r",
        "72.47515229240142\r",
        "72.49118307149728\r",
        "72.50721385059315\r",
        "72.523244629689\r",
        "72.53927540878486\r",
        "72.55530618788073\r",
        "72.5713369669766\r",
        "72.58736774607246\r",
        "72.60339852516833\r",
        "72.61942930426419\r",
        "72.63546008336004\r",
        "72.65149086245592\r",
        "72.66752164155179\r",
        "72.68355242064764\r",
        "72.69958319974351\r",
        "72.71561397883937\r",
        "72.73164475793523\r",
        "72.7476755370311\r",
        "72.76370631612696\r",
        "72.77973709522283"
       ]
      },
      {
       "output_type": "stream",
       "stream": "stdout",
       "text": [
        "\r",
        "72.7957678743187\r",
        "72.81179865341456\r",
        "72.82782943251041\r",
        "72.84386021160628\r",
        "72.85989099070214\r",
        "72.87592176979801\r",
        "72.89195254889388\r",
        "72.90798332798974\r",
        "72.9240141070856\r",
        "72.94004488618147\r",
        "72.95607566527733\r",
        "72.9721064443732\r",
        "72.98813722346907\r",
        "73.00416800256492\r",
        "73.02019878166078\r",
        "73.03622956075665\r",
        "73.05226033985251\r",
        "73.06829111894838\r",
        "73.08432189804425\r",
        "73.10035267714011\r",
        "73.11638345623598\r",
        "73.13241423533184\r",
        "73.1484450144277\r",
        "73.16447579352356\r",
        "73.18050657261944\r",
        "73.19653735171529\r",
        "73.21256813081116\r",
        "73.22859890990702\r",
        "73.24462968900288\r",
        "73.26066046809875\r",
        "73.27669124719462\r",
        "73.29272202629048\r",
        "73.30875280538635\r",
        "73.3247835844822\r",
        "73.34081436357806\r",
        "73.35684514267393\r",
        "73.3728759217698\r",
        "73.38890670086566\r",
        "73.40493747996153\r",
        "73.42096825905739\r",
        "73.43699903815325\r",
        "73.45302981724912\r",
        "73.46906059634499\r",
        "73.48509137544085\r",
        "73.50112215453672\r",
        "73.51715293363257\r",
        "73.53318371272843"
       ]
      },
      {
       "output_type": "stream",
       "stream": "stdout",
       "text": [
        "\r",
        "73.5492144918243\r",
        "73.56524527092017\r",
        "73.58127605001603\r",
        "73.5973068291119\r",
        "73.61333760820776\r",
        "73.62936838730361\r",
        "73.64539916639949\r",
        "73.66142994549534\r",
        "73.67746072459121\r",
        "73.69349150368708\r",
        "73.70952228278294\r",
        "73.72555306187881\r",
        "73.74158384097467\r",
        "73.75761462007053\r",
        "73.7736453991664\r",
        "73.78967617826227\r",
        "73.80570695735813\r",
        "73.821737736454\r",
        "73.83776851554985\r",
        "73.85379929464571\r",
        "73.86983007374158\r",
        "73.88586085283745\r",
        "73.90189163193331\r",
        "73.91792241102918\r",
        "73.93395319012504\r",
        "73.9499839692209\r",
        "73.96601474831677\r",
        "73.98204552741264\r",
        "73.9980763065085\r",
        "74.01410708560437\r",
        "74.03013786470024\r",
        "74.04616864379608\r",
        "74.06219942289195\r",
        "74.07823020198782\r",
        "74.09426098108368\r",
        "74.11029176017955\r",
        "74.1263225392754\r",
        "74.14235331837126\r",
        "74.15838409746713\r",
        "74.174414876563\r",
        "74.19044565565886\r",
        "74.20647643475473\r",
        "74.22250721385059\r",
        "74.23853799294645\r",
        "74.25456877204232\r",
        "74.27059955113819\r",
        "74.28663033023405\r",
        "74.30266110932992\r",
        "74.31869188842578\r",
        "74.33472266752165\r",
        "74.3507534466175"
       ]
      },
      {
       "output_type": "stream",
       "stream": "stdout",
       "text": [
        "\r",
        "74.36678422571336\r",
        "74.38281500480923\r",
        "74.3988457839051\r",
        "74.41487656300096\r",
        "74.43090734209683\r",
        "74.44693812119269\r",
        "74.46296890028854\r",
        "74.47899967938442\r",
        "74.49503045848029\r",
        "74.51106123757614\r",
        "74.52709201667201\r",
        "74.54312279576787\r",
        "74.55915357486373"
       ]
      },
      {
       "output_type": "stream",
       "stream": "stdout",
       "text": [
        "\r",
        "74.5751843539596\r",
        "74.59121513305547\r",
        "74.60724591215133\r",
        "74.6232766912472\r",
        "74.63930747034307\r",
        "74.65533824943891\r",
        "74.67136902853478\r",
        "74.68739980763065\r",
        "74.70343058672651\r",
        "74.71946136582238\r",
        "74.73549214491825\r",
        "74.7515229240141\r",
        "74.76755370310997\r",
        "74.78358448220584\r",
        "74.7996152613017\r",
        "74.81564604039757\r",
        "74.83167681949342\r",
        "74.84770759858928\r",
        "74.86373837768515\r",
        "74.87976915678102\r",
        "74.89579993587688\r",
        "74.91183071497275\r",
        "74.92786149406861\r",
        "74.94389227316448\r",
        "74.95992305226034\r",
        "74.97595383135621\r",
        "74.99198461045206\r",
        "75.00801538954794\r",
        "75.02404616864379\r",
        "75.04007694773966\r",
        "75.05610772683552\r",
        "75.07213850593139\r",
        "75.08816928502725\r",
        "75.10420006412312"
       ]
      },
      {
       "output_type": "stream",
       "stream": "stdout",
       "text": [
        "\r",
        "75.12023084321898\r",
        "75.13626162231485\r",
        "75.15229240141072\r",
        "75.16832318050658\r",
        "75.18435395960243\r",
        "75.2003847386983\r",
        "75.21641551779416\r",
        "75.23244629689003\r",
        "75.2484770759859\r",
        "75.26450785508175\r",
        "75.28053863417762\r",
        "75.29656941327349\r",
        "75.31260019236935\r",
        "75.32863097146522\r",
        "75.34466175056109\r",
        "75.36069252965693\r",
        "75.3767233087528\r",
        "75.39275408784867\r",
        "75.40878486694453\r",
        "75.4248156460404\r",
        "75.44084642513627\r",
        "75.45687720423213\r",
        "75.47290798332799\r",
        "75.48893876242386\r",
        "75.50496954151971\r",
        "75.52100032061558\r",
        "75.53703109971146\r",
        "75.55306187880731\r",
        "75.56909265790317\r",
        "75.58512343699904\r",
        "75.6011542160949\r",
        "75.61718499519077\r",
        "75.63321577428664\r",
        "75.6492465533825\r",
        "75.66527733247835\r",
        "75.68130811157422\r",
        "75.69733889067008\r",
        "75.71336966976595\r",
        "75.72940044886181\r",
        "75.74543122795768\r",
        "75.76146200705355\r",
        "75.77749278614941\r",
        "75.79352356524527\r",
        "75.80955434434114\r",
        "75.825585123437\r",
        "75.84161590253287\r",
        "75.85764668162874\r",
        "75.8736774607246\r",
        "75.88970823982045\r",
        "75.90573901891632\r",
        "75.92176979801218\r",
        "75.93780057710805"
       ]
      },
      {
       "output_type": "stream",
       "stream": "stdout",
       "text": [
        "\r",
        "75.95383135620392\r",
        "75.96986213529976\r",
        "75.98589291439563\r",
        "76.0019236934915\r",
        "76.01795447258736\r",
        "76.03398525168323\r",
        "76.0500160307791\r",
        "76.06604680987496\r",
        "76.08207758897082\r",
        "76.09810836806669\r",
        "76.11413914716255\r",
        "76.13016992625842\r",
        "76.14620070535429\r",
        "76.16223148445015\r",
        "76.178262263546\r",
        "76.19429304264187"
       ]
      },
      {
       "output_type": "stream",
       "stream": "stdout",
       "text": [
        "\r",
        "76.21032382173773\r",
        "76.2263546008336\r",
        "76.24238537992947\r",
        "76.25841615902533\r",
        "76.27444693812119\r",
        "76.29047771721706\r",
        "76.30650849631292\r",
        "76.32253927540879\r",
        "76.33857005450466\r",
        "76.35460083360051\r",
        "76.37063161269639\r",
        "76.38666239179224\r",
        "76.4026931708881\r",
        "76.41872394998397\r",
        "76.43475472907983\r",
        "76.4507855081757"
       ]
      },
      {
       "output_type": "stream",
       "stream": "stdout",
       "text": [
        "\r",
        "76.46681628727157\r",
        "76.48284706636743\r",
        "76.49887784546328\r",
        "76.51490862455915\r",
        "76.53093940365501\r",
        "76.54697018275088\r",
        "76.56300096184675\r",
        "76.57903174094261\r",
        "76.59506252003847\r",
        "76.61109329913434\r",
        "76.6271240782302\r",
        "76.64315485732607\r",
        "76.65918563642194\r",
        "76.6752164155178\r",
        "76.69124719461365\r",
        "76.70727797370952\r",
        "76.72330875280538\r",
        "76.73933953190125\r",
        "76.75537031099712\r",
        "76.77140109009298\r",
        "76.78743186918884\r",
        "76.80346264828471\r",
        "76.81949342738056\r",
        "76.83552420647644\r",
        "76.8515549855723"
       ]
      },
      {
       "output_type": "stream",
       "stream": "stdout",
       "text": [
        "\r",
        "76.86758576466816\r",
        "76.88361654376402\r",
        "76.89964732285989\r",
        "76.91567810195575\r",
        "76.93170888105162\r",
        "76.94773966014749\r",
        "76.96377043924335\r",
        "76.97980121833922\r",
        "76.99583199743508\r",
        "77.01186277653093\r",
        "77.0278935556268\r",
        "77.04392433472267\r",
        "77.05995511381853\r",
        "77.0759858929144\r",
        "77.09201667201026"
       ]
      },
      {
       "output_type": "stream",
       "stream": "stdout",
       "text": [
        "\r",
        "77.10804745110612\r",
        "77.12407823020199\r",
        "77.14010900929786\r",
        "77.15613978839372\r",
        "77.17217056748959\r",
        "77.18820134658544\r",
        "77.2042321256813\r",
        "77.22026290477717\r",
        "77.23629368387304\r",
        "77.2523244629689\r",
        "77.26835524206477\r",
        "77.28438602116063\r",
        "77.30041680025649\r",
        "77.31644757935236\r",
        "77.33247835844821\r",
        "77.34850913754408\r",
        "77.36453991663996\r",
        "77.38057069573581\r",
        "77.39660147483167\r",
        "77.41263225392754\r",
        "77.4286630330234\r",
        "77.44469381211927\r",
        "77.46072459121514\r",
        "77.476755370311\r",
        "77.49278614940685\r",
        "77.50881692850272\r",
        "77.52484770759858\r",
        "77.54087848669445\r",
        "77.55690926579032\r",
        "77.57294004488618\r",
        "77.58897082398205\r",
        "77.60500160307791\r",
        "77.62103238217377"
       ]
      },
      {
       "output_type": "stream",
       "stream": "stdout",
       "text": [
        "\r",
        "77.63706316126964\r",
        "77.65309394036551\r",
        "77.66912471946137\r",
        "77.68515549855724\r",
        "77.7011862776531\r",
        "77.71721705674895\r",
        "77.73324783584482\r",
        "77.74927861494069\r",
        "77.76530939403655\r",
        "77.78134017313242\r",
        "77.79737095222828\r",
        "77.81340173132413\r",
        "77.82943251042\r",
        "77.84546328951588\r",
        "77.86149406861173\r",
        "77.8775248477076\r",
        "77.89355562680346\r",
        "77.90958640589932\r",
        "77.92561718499519\r",
        "77.94164796409106\r",
        "77.95767874318692\r",
        "77.97370952228279\r",
        "77.98974030137865\r",
        "78.0057710804745\r",
        "78.02180185957037\r",
        "78.03783263866623"
       ]
      },
      {
       "output_type": "stream",
       "stream": "stdout",
       "text": [
        "\r",
        "78.0538634177621\r",
        "78.06989419685797\r",
        "78.08592497595383\r",
        "78.10195575504969\r",
        "78.11798653414556\r",
        "78.13401731324142\r",
        "78.15004809233729\r",
        "78.16607887143316\r",
        "78.18210965052901\r",
        "78.19814042962489\r",
        "78.21417120872074\r",
        "78.2302019878166\r",
        "78.24623276691247\r",
        "78.26226354600834\r",
        "78.2782943251042\r",
        "78.29432510420007\r",
        "78.31035588329593\r",
        "78.32638666239178\r",
        "78.34241744148765\r",
        "78.35844822058353\r",
        "78.37447899967938\r",
        "78.39050977877525\r",
        "78.40654055787111\r",
        "78.42257133696697\r",
        "78.43860211606284\r",
        "78.45463289515871\r",
        "78.47066367425457\r",
        "78.48669445335044\r",
        "78.5027252324463\r",
        "78.51875601154215\r",
        "78.53478679063802\r",
        "78.5508175697339\r",
        "78.56684834882975\r",
        "78.58287912792562\r",
        "78.59890990702148\r",
        "78.61494068611734\r",
        "78.63097146521321\r",
        "78.64700224430908\r",
        "78.66303302340494\r",
        "78.6790638025008\r",
        "78.69509458159666\r",
        "78.71112536069252\r",
        "78.72715613978839\r",
        "78.74318691888426\r",
        "78.75921769798012\r",
        "78.77524847707599\r",
        "78.79127925617185\r",
        "78.80731003526772\r",
        "78.82334081436358\r",
        "78.83937159345945\r",
        "78.8554023725553\r",
        "78.87143315165117\r",
        "78.88746393074703\r",
        "78.9034947098429\r",
        "78.91952548893876\r",
        "78.93555626803462\r",
        "78.95158704713049\r",
        "78.96761782622636\r",
        "78.98364860532222\r",
        "78.99967938441809\r",
        "79.01571016351394\r",
        "79.0317409426098\r",
        "79.04777172170567\r",
        "79.06380250080154\r",
        "79.0798332798974"
       ]
      },
      {
       "output_type": "stream",
       "stream": "stdout",
       "text": [
        "\r",
        "79.09586405899327\r",
        "79.11189483808914\r",
        "79.12792561718499\r",
        "79.14395639628086\r",
        "79.15998717537673\r",
        "79.17601795447258\r",
        "79.19204873356846\r",
        "79.20807951266433\r",
        "79.22411029176017\r",
        "79.24014107085604\r",
        "79.25617184995191\r",
        "79.27220262904777\r",
        "79.28823340814364\r",
        "79.30426418723951\r",
        "79.32029496633535\r",
        "79.33632574543122\r",
        "79.3523565245271\r",
        "79.36838730362295\r",
        "79.38441808271882\r",
        "79.40044886181468\r",
        "79.41647964091055\r",
        "79.43251042000641\r",
        "79.44854119910228\r",
        "79.46457197819814\r",
        "79.48060275729401\r",
        "79.49663353638987\r",
        "79.51266431548574\r",
        "79.5286950945816\r",
        "79.54472587367746\r",
        "79.56075665277332\r",
        "79.57678743186919\r",
        "79.59281821096505\r",
        "79.60884899006092\r",
        "79.62487976915678\r",
        "79.64091054825263\r",
        "79.6569413273485\r",
        "79.67297210644438\r",
        "79.68900288554023"
       ]
      },
      {
       "output_type": "stream",
       "stream": "stdout",
       "text": [
        "\r",
        "79.7050336646361\r",
        "79.72106444373198\r",
        "79.73709522282782\r",
        "79.75312600192369\r",
        "79.76915678101956\r",
        "79.78518756011542\r",
        "79.80121833921129\r",
        "79.81724911830716\r",
        "79.833279897403\r",
        "79.84931067649887\r",
        "79.86534145559474\r",
        "79.8813722346906\r",
        "79.89740301378647\r",
        "79.91343379288234\r",
        "79.92946457197819\r",
        "79.94549535107406\r",
        "79.96152613016993\r",
        "79.97755690926579\r",
        "79.99358768836166\r",
        "80.00961846745753\r",
        "80.02564924655339\r",
        "80.04168002564924\r",
        "80.05771080474511\r",
        "80.07374158384097\r",
        "80.08977236293684\r",
        "80.1058031420327\r",
        "80.12183392112857\r",
        "80.13786470022443\r",
        "80.1538954793203\r",
        "80.16992625841615\r",
        "80.18595703751203\r",
        "80.20198781660788\r",
        "80.21801859570375\r",
        "80.23404937479961\r",
        "80.25008015389548\r",
        "80.26611093299134\r",
        "80.28214171208721\r",
        "80.29817249118307\r",
        "80.31420327027894\r",
        "80.33023404937481\r",
        "80.34626482847067\r",
        "80.36229560756652\r",
        "80.3783263866624\r",
        "80.39435716575825\r",
        "80.41038794485412\r",
        "80.42641872395\r",
        "80.44244950304585"
       ]
      },
      {
       "output_type": "stream",
       "stream": "stdout",
       "text": [
        "\r",
        "80.45848028214171\r",
        "80.47451106123758\r",
        "80.49054184033344\r",
        "80.5065726194293\r",
        "80.52260339852518\r",
        "80.53863417762102\r",
        "80.55466495671689\r",
        "80.57069573581276\r",
        "80.58672651490862\r",
        "80.60275729400449\r",
        "80.61878807310036\r",
        "80.63481885219622\r",
        "80.65084963129208\r",
        "80.66688041038795\r",
        "80.6829111894838\r",
        "80.69894196857967\r",
        "80.71497274767555\r",
        "80.7310035267714\r",
        "80.74703430586726\r",
        "80.76306508496313\r",
        "80.77909586405899\r",
        "80.79512664315486\r",
        "80.81115742225073\r",
        "80.82718820134659\r",
        "80.84321898044246\r",
        "80.85924975953832\r",
        "80.87528053863417\r",
        "80.89131131773004\r",
        "80.90734209682591\r",
        "80.92337287592177\r",
        "80.93940365501764\r",
        "80.9554344341135\r",
        "80.97146521320936\r",
        "80.98749599230523\r",
        "81.00352677140108\r",
        "81.01955755049696"
       ]
      },
      {
       "output_type": "stream",
       "stream": "stdout",
       "text": [
        "\r",
        "81.03558832959283\r",
        "81.05161910868868\r",
        "81.06764988778454\r",
        "81.08368066688041\r",
        "81.09971144597627\r",
        "81.11574222507214\r",
        "81.13177300416801\r",
        "81.14780378326387\r",
        "81.16383456235972\r",
        "81.1798653414556\r",
        "81.19589612055145\r",
        "81.21192689964732\r",
        "81.2279576787432\r",
        "81.24398845783905\r",
        "81.26001923693491\r",
        "81.27605001603078\r",
        "81.29208079512664\r",
        "81.30811157422251\r",
        "81.32414235331838\r",
        "81.34017313241424\r",
        "81.3562039115101\r",
        "81.37223469060596\r",
        "81.38826546970182\r",
        "81.40429624879769\r",
        "81.42032702789356\r",
        "81.43635780698942\r",
        "81.45238858608529\r",
        "81.46841936518115\r",
        "81.484450144277\r",
        "81.50048092337288\r",
        "81.51651170246875\r",
        "81.5325424815646\r",
        "81.54857326066048\r",
        "81.56460403975633"
       ]
      },
      {
       "output_type": "stream",
       "stream": "stdout",
       "text": [
        "\r",
        "81.58063481885219\r",
        "81.59666559794806\r",
        "81.61269637704393\r",
        "81.62872715613979\r",
        "81.64475793523566\r",
        "81.66078871433152\r",
        "81.67681949342737\r",
        "81.69285027252324\r",
        "81.7088810516191\r",
        "81.72491183071497\r",
        "81.74094260981084\r",
        "81.7569733889067\r",
        "81.77300416800256\r",
        "81.78903494709843\r",
        "81.80506572619429\r",
        "81.82109650529016\r",
        "81.83712728438603\r",
        "81.85315806348189\r",
        "81.86918884257774\r",
        "81.88521962167361\r",
        "81.90125040076947\r",
        "81.91728117986534\r",
        "81.93331195896121\r",
        "81.94934273805707\r",
        "81.96537351715293\r",
        "81.9814042962488\r",
        "81.99743507534465\r",
        "82.01346585444053\r",
        "82.0294966335364\r",
        "82.04552741263225\r",
        "82.06155819172812\r",
        "82.07758897082398\r",
        "82.09361974991984\r",
        "82.10965052901571\r",
        "82.12568130811158\r",
        "82.14171208720744\r",
        "82.15774286630331\r",
        "82.17377364539917"
       ]
      },
      {
       "output_type": "stream",
       "stream": "stdout",
       "text": [
        "\r",
        "82.18980442449502\r",
        "82.2058352035909\r",
        "82.22186598268677\r",
        "82.23789676178262\r",
        "82.2539275408785\r",
        "82.26995831997435\r",
        "82.2859890990702\r",
        "82.30201987816608\r",
        "82.31805065726195\r",
        "82.3340814363578\r",
        "82.35011221545368\r",
        "82.36614299454953\r",
        "82.38217377364539\r",
        "82.39820455274126\r",
        "82.41423533183713\r",
        "82.43026611093299\r",
        "82.44629689002886\r",
        "82.46232766912472\r",
        "82.47835844822058\r",
        "82.49438922731645\r",
        "82.51042000641232\r",
        "82.52645078550817\r",
        "82.54248156460405\r",
        "82.5585123436999\r",
        "82.57454312279576\r",
        "82.59057390189163\r",
        "82.60660468098749\r",
        "82.62263546008336\r",
        "82.63866623917923\r",
        "82.65469701827509\r",
        "82.67072779737096\r",
        "82.68675857646681\r",
        "82.70278935556267\r",
        "82.71882013465854\r",
        "82.73485091375441\r",
        "82.75088169285027\r",
        "82.76691247194614\r",
        "82.782943251042\r",
        "82.79897403013786"
       ]
      },
      {
       "output_type": "stream",
       "stream": "stdout",
       "text": [
        "\r",
        "82.81500480923373\r",
        "82.8310355883296\r",
        "82.84706636742546\r",
        "82.86309714652133\r",
        "82.87912792561718\r",
        "82.89515870471304\r",
        "82.91118948380891\r",
        "82.92722026290478\r",
        "82.94325104200064\r",
        "82.95928182109651\r",
        "82.97531260019238\r",
        "82.99134337928822\r",
        "83.0073741583841\r",
        "83.02340493747997\r",
        "83.03943571657582\r",
        "83.0554664956717\r",
        "83.07149727476755\r",
        "83.08752805386341\r",
        "83.10355883295928\r",
        "83.11958961205515\r",
        "83.13562039115101\r",
        "83.15165117024688\r",
        "83.16768194934274\r",
        "83.18371272843859\r",
        "83.19974350753446\r",
        "83.21577428663034\r",
        "83.23180506572619\r",
        "83.24783584482206\r",
        "83.26386662391792\r",
        "83.27989740301379\r",
        "83.29592818210965\r",
        "83.3119589612055\r",
        "83.32798974030138\r",
        "83.34402051939725\r",
        "83.3600512984931\r",
        "83.37608207758898\r",
        "83.39211285668483\r",
        "83.40814363578069\r",
        "83.42417441487656\r",
        "83.44020519397243"
       ]
      },
      {
       "output_type": "stream",
       "stream": "stdout",
       "text": [
        "\r",
        "83.45623597306829\r",
        "83.47226675216416\r",
        "83.48829753126002\r",
        "83.50432831035587\r",
        "83.52035908945174\r",
        "83.53638986854762\r",
        "83.55242064764347\r",
        "83.56845142673934\r",
        "83.58448220583522\r",
        "83.60051298493106\r",
        "83.61654376402693\r",
        "83.6325745431228\r",
        "83.64860532221866\r",
        "83.66463610131453\r",
        "83.6806668804104\r",
        "83.69669765950624\r",
        "83.71272843860211\r",
        "83.72875921769798\r",
        "83.74478999679384\r",
        "83.76082077588971\r",
        "83.77685155498557\r",
        "83.79288233408143\r",
        "83.8089131131773\r",
        "83.82494389227317\r",
        "83.84097467136903\r",
        "83.8570054504649\r",
        "83.87303622956075\r",
        "83.88906700865662\r",
        "83.90509778775248\r",
        "83.92112856684835\r",
        "83.93715934594421\r",
        "83.95319012504008\r",
        "83.96922090413594\r",
        "83.98525168323181\r",
        "84.00128246232767\r",
        "84.01731324142354\r",
        "84.0333440205194\r",
        "84.04937479961526"
       ]
      },
      {
       "output_type": "stream",
       "stream": "stdout",
       "text": [
        "\r",
        "84.06540557871112\r",
        "84.081436357807\r",
        "84.09746713690285\r",
        "84.11349791599872\r",
        "84.12952869509458\r",
        "84.14555947419045\r",
        "84.1615902532863\r",
        "84.17762103238218\r",
        "84.19365181147805\r",
        "84.20968259057389\r",
        "84.22571336966976\r",
        "84.24174414876563\r",
        "84.25777492786149\r",
        "84.27380570695736\r",
        "84.28983648605323\r",
        "84.30586726514908\r",
        "84.32189804424495\r",
        "84.33792882334082\r",
        "84.35395960243667\r",
        "84.36999038153255\r",
        "84.38602116062842\r",
        "84.40205193972426\r",
        "84.41808271882013\r",
        "84.434113497916\r",
        "84.45014427701186\r",
        "84.46617505610773\r",
        "84.4822058352036\r",
        "84.49823661429946\r",
        "84.51426739339531\r",
        "84.53029817249119\r",
        "84.54632895158704\r",
        "84.56235973068291\r",
        "84.57839050977879\r",
        "84.59442128887464\r",
        "84.6104520679705\r",
        "84.62648284706637\r",
        "84.64251362616223\r",
        "84.6585444052581\r",
        "84.67457518435396\r",
        "84.69060596344983\r",
        "84.70663674254568\r",
        "84.72266752164155\r",
        "84.73869830073741\r",
        "84.75472907983328\r",
        "84.77075985892914\r",
        "84.78679063802501\r",
        "84.80282141712088\r",
        "84.81885219621674\r",
        "84.8348829753126\r",
        "84.85091375440847\r",
        "84.86694453350432\r",
        "84.8829753126002"
       ]
      },
      {
       "output_type": "stream",
       "stream": "stdout",
       "text": [
        "\r",
        "84.89900609169607\r",
        "84.91503687079191\r",
        "84.93106764988778\r",
        "84.94709842898365\r",
        "84.96312920807951\r",
        "84.97915998717538\r",
        "84.99519076627125\r",
        "85.01122154536709\r",
        "85.02725232446296\r",
        "85.04328310355884\r",
        "85.05931388265469\r",
        "85.07534466175056\r",
        "85.09137544084643\r",
        "85.10740621994229\r",
        "85.12343699903815\r",
        "85.13946777813402\r",
        "85.15549855722988\r",
        "85.17152933632575\r",
        "85.18756011542162\r",
        "85.20359089451748\r",
        "85.21962167361333\r",
        "85.2356524527092\r",
        "85.25168323180506\r",
        "85.26771401090093\r",
        "85.2837447899968\r",
        "85.29977556909266\r",
        "85.31580634818852\r",
        "85.33183712728439\r",
        "85.34786790638024\r",
        "85.36389868547612\r",
        "85.37992946457197\r",
        "85.39596024366784\r",
        "85.41199102276371\r",
        "85.42802180185957\r",
        "85.44405258095543\r",
        "85.4600833600513\r",
        "85.47611413914716\r",
        "85.49214491824303\r",
        "85.5081756973389"
       ]
      },
      {
       "output_type": "stream",
       "stream": "stdout",
       "text": [
        "\r",
        "85.52420647643476\r",
        "85.54023725553061\r",
        "85.55626803462648\r",
        "85.57229881372234\r",
        "85.58832959281821\r",
        "85.60436037191408\r",
        "85.62039115100994\r",
        "85.6364219301058\r",
        "85.65245270920167\r",
        "85.66848348829753\r",
        "85.6845142673934\r",
        "85.70054504648927\r",
        "85.71657582558512\r",
        "85.73260660468098\r",
        "85.74863738377685\r",
        "85.76466816287271\r",
        "85.78069894196858\r",
        "85.79672972106445\r",
        "85.81276050016031\r",
        "85.82879127925617\r",
        "85.84482205835204\r",
        "85.8608528374479\r",
        "85.87688361654376\r",
        "85.89291439563964\r",
        "85.90894517473549\r",
        "85.92497595383135\r",
        "85.94100673292722\r",
        "85.95703751202308\r",
        "85.97306829111895\r",
        "85.98909907021482\r",
        "86.00512984931068\r",
        "86.02116062840655\r",
        "86.0371914075024\r",
        "86.05322218659826\r",
        "86.06925296569413\r",
        "86.08528374479\r",
        "86.10131452388586"
       ]
      },
      {
       "output_type": "stream",
       "stream": "stdout",
       "text": [
        "\r",
        "86.11734530298173\r",
        "86.13337608207759\r",
        "86.14940686117345\r",
        "86.16543764026932\r",
        "86.18146841936519\r",
        "86.19749919846105\r",
        "86.21352997755692\r",
        "86.22956075665277\r",
        "86.24559153574863\r",
        "86.2616223148445\r",
        "86.27765309394036\r",
        "86.29368387303623\r",
        "86.3097146521321\r",
        "86.32574543122796\r",
        "86.34177621032381\r",
        "86.35780698941969\r",
        "86.37383776851554\r",
        "86.38986854761141\r",
        "86.40589932670729\r",
        "86.42193010580314\r",
        "86.437960884899\r",
        "86.45399166399487\r",
        "86.47002244309073\r",
        "86.4860532221866\r",
        "86.50208400128247\r",
        "86.51811478037833\r",
        "86.5341455594742\r",
        "86.55017633857005\r",
        "86.56620711766591\r",
        "86.58223789676178\r",
        "86.59826867585765"
       ]
      },
      {
       "output_type": "stream",
       "stream": "stdout",
       "text": [
        "\r",
        "86.61429945495351\r",
        "86.63033023404938\r",
        "86.64636101314524\r",
        "86.6623917922411\r",
        "86.67842257133697\r",
        "86.69445335043284\r",
        "86.7104841295287\r",
        "86.72651490862457\r",
        "86.74254568772042\r",
        "86.75857646681628\r",
        "86.77460724591215\r",
        "86.79063802500802\r",
        "86.80666880410388\r",
        "86.82269958319975\r",
        "86.8387303622956\r",
        "86.85476114139146\r",
        "86.87079192048733\r",
        "86.8868226995832\r",
        "86.90285347867906\r",
        "86.91888425777493\r",
        "86.93491503687079\r",
        "86.95094581596665\r",
        "86.96697659506252\r",
        "86.98300737415838\r",
        "86.99903815325425\r",
        "87.01506893235012\r",
        "87.03109971144598\r",
        "87.04713049054183\r",
        "87.0631612696377\r",
        "87.07919204873356\r",
        "87.09522282782943\r",
        "87.1112536069253\r",
        "87.12728438602116\r",
        "87.14331516511703\r",
        "87.15934594421289\r",
        "87.17537672330874\r",
        "87.19140750240462\r",
        "87.20743828150049\r",
        "87.22346906059634\r",
        "87.23949983969221\r",
        "87.25553061878807\r",
        "87.27156139788393\r",
        "87.2875921769798\r",
        "87.30362295607567\r",
        "87.31965373517153\r",
        "87.3356845142674\r",
        "87.35171529336326\r",
        "87.36774607245911\r",
        "87.38377685155498\r",
        "87.39980763065086\r",
        "87.41583840974671\r",
        "87.43186918884258\r",
        "87.44789996793844\r",
        "87.4639307470343\r",
        "87.47996152613017\r",
        "87.49599230522604\r",
        "87.5120230843219\r",
        "87.52805386341777\r",
        "87.54408464251362\r",
        "87.56011542160948\r",
        "87.57614620070535\r",
        "87.59217697980122\r",
        "87.60820775889708\r",
        "87.62423853799295\r",
        "87.64026931708881\r",
        "87.65630009618467\r",
        "87.67233087528054\r",
        "87.68836165437641\r",
        "87.70439243347226"
       ]
      },
      {
       "output_type": "stream",
       "stream": "stdout",
       "text": [
        "\r",
        "87.72042321256814\r",
        "87.73645399166399\r",
        "87.75248477075986\r",
        "87.76851554985572\r",
        "87.78454632895159\r",
        "87.80057710804745\r",
        "87.81660788714332\r",
        "87.83263866623918\r",
        "87.84866944533505\r",
        "87.8647002244309\r",
        "87.88073100352676\r",
        "87.89676178262263\r",
        "87.9127925617185\r",
        "87.92882334081436\r",
        "87.94485411991023\r",
        "87.96088489900609\r",
        "87.97691567810195\r",
        "87.99294645719782\r",
        "88.00897723629369\r",
        "88.02500801538955\r",
        "88.04103879448542\r",
        "88.05706957358129\r",
        "88.07310035267713\r",
        "88.089131131773\r",
        "88.10516191086887\r",
        "88.12119268996473\r",
        "88.1372234690606\r",
        "88.15325424815647\r",
        "88.16928502725231\r",
        "88.18531580634819"
       ]
      },
      {
       "output_type": "stream",
       "stream": "stdout",
       "text": [
        "\r",
        "88.20134658544406\r",
        "88.21737736453991\r",
        "88.23340814363578\r",
        "88.24943892273166\r",
        "88.2654697018275\r",
        "88.28150048092337\r",
        "88.29753126001924\r",
        "88.3135620391151\r",
        "88.32959281821097\r",
        "88.34562359730683\r",
        "88.3616543764027\r",
        "88.37768515549855\r",
        "88.39371593459443\r",
        "88.40974671369028\r",
        "88.42577749278615\r",
        "88.44180827188201\r",
        "88.45783905097788\r",
        "88.47386983007374\r",
        "88.48990060916961\r",
        "88.50593138826547\r",
        "88.52196216736134\r",
        "88.5379929464572\r",
        "88.55402372555307\r",
        "88.57005450464892\r",
        "88.58608528374478\r",
        "88.60211606284065\r",
        "88.61814684193652\r",
        "88.63417762103238\r",
        "88.65020840012825\r",
        "88.66623917922412\r",
        "88.68226995831996\r",
        "88.69830073741583\r",
        "88.7143315165117\r",
        "88.73036229560756\r",
        "88.74639307470343\r",
        "88.7624238537993\r",
        "88.77845463289515\r",
        "88.79448541199102\r",
        "88.81051619108689\r",
        "88.82654697018275\r",
        "88.84257774927862\r",
        "88.85860852837449\r",
        "88.87463930747033\r",
        "88.8906700865662\r",
        "88.90670086566207\r",
        "88.92273164475793\r",
        "88.9387624238538\r",
        "88.95479320294967\r",
        "88.97082398204553\r",
        "88.98685476114139\r",
        "89.00288554023726\r",
        "89.01891631933312\r",
        "89.03494709842899\r",
        "89.05097787752484\r",
        "89.06700865662071\r",
        "89.08303943571657\r",
        "89.09907021481244\r",
        "89.1151009939083\r",
        "89.13113177300417\r",
        "89.14716255210003\r",
        "89.1631933311959\r",
        "89.17922411029176\r",
        "89.19525488938763\r",
        "89.21128566848348\r",
        "89.22731644757935\r",
        "89.24334722667521\r",
        "89.25937800577108\r",
        "89.27540878486695\r",
        "89.29143956396281\r",
        "89.30747034305867\r",
        "89.32350112215454\r",
        "89.3395319012504\r",
        "89.35556268034627\r",
        "89.37159345944214"
       ]
      },
      {
       "output_type": "stream",
       "stream": "stdout",
       "text": [
        "\r",
        "89.387624238538\r",
        "89.40365501763385\r",
        "89.41968579672972\r",
        "89.43571657582558\r",
        "89.45174735492145\r",
        "89.46777813401732\r",
        "89.48380891311317\r",
        "89.49983969220904\r",
        "89.51587047130491\r",
        "89.53190125040076\r",
        "89.54793202949664\r",
        "89.5639628085925\r",
        "89.57999358768836\r",
        "89.59602436678422\r",
        "89.61205514588009\r",
        "89.62808592497595\r",
        "89.64411670407182\r",
        "89.66014748316769\r",
        "89.67617826226355\r",
        "89.6922090413594\r",
        "89.70823982045528\r",
        "89.72427059955113\r",
        "89.740301378647\r",
        "89.75633215774288\r",
        "89.77236293683873\r",
        "89.78839371593459\r",
        "89.80442449503046\r",
        "89.82045527412632\r",
        "89.83648605322219\r",
        "89.85251683231806\r",
        "89.86854761141392\r",
        "89.88457839050979\r",
        "89.90060916960564\r",
        "89.9166399487015\r",
        "89.93267072779737\r",
        "89.94870150689323\r",
        "89.9647322859891\r",
        "89.98076306508497\r",
        "89.99679384418083\r",
        "90.01282462327669\r",
        "90.02885540237256\r",
        "90.04488618146841\r",
        "90.06091696056428\r",
        "90.07694773966016\r",
        "90.09297851875601\r",
        "90.10900929785187\r",
        "90.12504007694774\r",
        "90.1410708560436\r",
        "90.15710163513947\r",
        "90.17313241423534\r",
        "90.1891631933312\r",
        "90.20519397242705\r",
        "90.22122475152293\r",
        "90.23725553061878\r",
        "90.25328630971465\r",
        "90.26931708881052"
       ]
      },
      {
       "output_type": "stream",
       "stream": "stdout",
       "text": [
        "\r",
        "90.28534786790638\r",
        "90.30137864700224\r",
        "90.31740942609811\r",
        "90.33344020519397\r",
        "90.34947098428984\r",
        "90.36550176338571\r",
        "90.38153254248157\r",
        "90.39756332157742\r",
        "90.4135941006733\r",
        "90.42962487976915\r",
        "90.44565565886502\r",
        "90.46168643796089\r",
        "90.47771721705675\r",
        "90.49374799615262\r",
        "90.50977877524848\r",
        "90.52580955434433\r",
        "90.5418403334402\r",
        "90.55787111253608\r",
        "90.57390189163193\r",
        "90.5899326707278\r",
        "90.60596344982366\r",
        "90.62199422891952\r",
        "90.63802500801539\r",
        "90.65405578711125\r",
        "90.67008656620712\r",
        "90.68611734530299\r",
        "90.70214812439885\r",
        "90.7181789034947\r",
        "90.73420968259057\r",
        "90.75024046168643\r",
        "90.7662712407823\r",
        "90.78230201987817\r",
        "90.79833279897403\r",
        "90.81436357806989\r",
        "90.83039435716576\r",
        "90.84642513626162\r",
        "90.86245591535749\r",
        "90.87848669445336\r",
        "90.89451747354921\r",
        "90.91054825264507\r",
        "90.92657903174094\r",
        "90.9426098108368\r",
        "90.95864058993267\r",
        "90.97467136902854\r",
        "90.9907021481244\r",
        "91.00673292722026\r",
        "91.02276370631613\r",
        "91.03879448541198\r",
        "91.05482526450785\r",
        "91.07085604360373\r",
        "91.08688682269958\r",
        "91.10291760179545\r",
        "91.11894838089131\r",
        "91.13497915998717\r",
        "91.15100993908304\r",
        "91.16704071817891\r",
        "91.18307149727477\r",
        "91.19910227637064\r",
        "91.2151330554665\r",
        "91.23116383456235\r",
        "91.24719461365822\r",
        "91.2632253927541\r",
        "91.27925617184995\r",
        "91.29528695094582\r",
        "91.31131773004168\r",
        "91.32734850913754\r",
        "91.34337928823341\r",
        "91.35941006732928\r",
        "91.37544084642514"
       ]
      },
      {
       "output_type": "stream",
       "stream": "stdout",
       "text": [
        "\r",
        "91.391471625521\r",
        "91.40750240461686\r",
        "91.42353318371272\r",
        "91.43956396280859\r",
        "91.45559474190446\r",
        "91.47162552100032\r",
        "91.48765630009619\r",
        "91.50368707919205\r",
        "91.5197178582879\r",
        "91.53574863738378\r",
        "91.55177941647963\r",
        "91.5678101955755\r",
        "91.58384097467138\r",
        "91.59987175376723\r",
        "91.61590253286309\r",
        "91.63193331195896\r",
        "91.64796409105482\r",
        "91.66399487015069\r",
        "91.68002564924656\r",
        "91.69605642834242\r",
        "91.71208720743829\r",
        "91.72811798653414\r",
        "91.74414876563\r",
        "91.76017954472587\r",
        "91.77621032382174\r",
        "91.7922411029176\r",
        "91.80827188201347\r",
        "91.82430266110933\r",
        "91.84033344020519\r",
        "91.85636421930106\r",
        "91.87239499839693\r",
        "91.88842577749278\r",
        "91.90445655658866\r",
        "91.92048733568453"
       ]
      },
      {
       "output_type": "stream",
       "stream": "stdout",
       "text": [
        "\r",
        "91.93651811478037\r",
        "91.95254889387624\r",
        "91.96857967297211\r",
        "91.98461045206797\r",
        "92.00064123116384\r",
        "92.0166720102597\r",
        "92.03270278935555\r",
        "92.04873356845142\r",
        "92.0647643475473\r",
        "92.08079512664315\r",
        "92.09682590573902\r",
        "92.11285668483488\r",
        "92.12888746393074\r",
        "92.14491824302661\r",
        "92.16094902212248\r",
        "92.17697980121834\r",
        "92.19301058031421\r",
        "92.20904135941007\r",
        "92.22507213850594\r",
        "92.2411029176018\r",
        "92.25713369669765\r",
        "92.27316447579352\r",
        "92.28919525488939\r",
        "92.30522603398525\r",
        "92.32125681308112\r",
        "92.33728759217698\r",
        "92.35331837127283\r",
        "92.3693491503687\r",
        "92.38537992946458\r",
        "92.40141070856043\r",
        "92.4174414876563\r",
        "92.43347226675216\r",
        "92.44950304584802\r",
        "92.46553382494389\r",
        "92.48156460403976\r",
        "92.49759538313562\r",
        "92.51362616223149\r",
        "92.52965694132736\r",
        "92.5456877204232\r",
        "92.56171849951907\r",
        "92.57774927861495\r",
        "92.5937800577108\r",
        "92.60981083680667\r",
        "92.62584161590254\r",
        "92.64187239499839\r",
        "92.65790317409426\r",
        "92.67393395319013"
       ]
      },
      {
       "output_type": "stream",
       "stream": "stdout",
       "text": [
        "\r",
        "92.68996473228599\r",
        "92.70599551138186\r",
        "92.72202629047771\r",
        "92.73805706957357\r",
        "92.75408784866944\r",
        "92.77011862776531\r",
        "92.78614940686117\r",
        "92.80218018595704\r",
        "92.8182109650529\r",
        "92.83424174414877\r",
        "92.85027252324463\r",
        "92.8663033023405\r",
        "92.88233408143635\r",
        "92.89836486053223\r",
        "92.91439563962808\r",
        "92.93042641872395\r",
        "92.94645719781981\r",
        "92.96248797691568\r",
        "92.97851875601154\r",
        "92.99454953510741\r",
        "93.01058031420327\r",
        "93.02661109329914\r",
        "93.042641872395\r",
        "93.05867265149087\r",
        "93.07470343058672\r",
        "93.0907342096826\r",
        "93.10676498877845\r",
        "93.12279576787432\r",
        "93.1388265469702\r",
        "93.15485732606604\r",
        "93.17088810516191\r",
        "93.18691888425778\r",
        "93.20294966335364\r",
        "93.2189804424495\r",
        "93.23501122154538\r",
        "93.25104200064122\r",
        "93.26707277973709\r",
        "93.28310355883296\r",
        "93.29913433792882\r",
        "93.31516511702469\r",
        "93.33119589612056\r",
        "93.3472266752164\r",
        "93.36325745431228\r",
        "93.37928823340815\r",
        "93.395319012504"
       ]
      },
      {
       "output_type": "stream",
       "stream": "stdout",
       "text": [
        "\r",
        "93.41134979159987\r",
        "93.42738057069575\r",
        "93.4434113497916\r",
        "93.45944212888746\r",
        "93.47547290798333\r",
        "93.49150368707919\r",
        "93.50753446617506\r",
        "93.52356524527093\r",
        "93.53959602436679\r",
        "93.55562680346264\r",
        "93.57165758255852\r",
        "93.58768836165437\r",
        "93.60371914075024\r",
        "93.6197499198461\r",
        "93.63578069894197\r",
        "93.65181147803783\r",
        "93.6678422571337\r",
        "93.68387303622956\r",
        "93.69990381532543\r",
        "93.71593459442128\r",
        "93.73196537351716\r",
        "93.74799615261303\r",
        "93.76402693170888\r",
        "93.78005771080474\r",
        "93.79608848990061\r",
        "93.81211926899647\r",
        "93.82815004809234\r",
        "93.84418082718821\r",
        "93.86021160628405\r",
        "93.87624238537992\r",
        "93.8922731644758\r",
        "93.90830394357165\r",
        "93.92433472266752\r",
        "93.9403655017634\r",
        "93.95639628085924\r",
        "93.97242705995511\r",
        "93.98845783905098\r",
        "94.00448861814684\r",
        "94.02051939724271\r",
        "94.03655017633858\r",
        "94.05258095543444\r",
        "94.0686117345303\r",
        "94.08464251362616\r",
        "94.10067329272202\r",
        "94.11670407181789\r",
        "94.13273485091376\r",
        "94.14876563000962\r",
        "94.16479640910548\r",
        "94.18082718820135\r",
        "94.1968579672972\r",
        "94.21288874639308\r",
        "94.22891952548895\r",
        "94.2449503045848\r",
        "94.26098108368066\r",
        "94.27701186277653\r",
        "94.29304264187239\r",
        "94.30907342096826\r",
        "94.32510420006412\r",
        "94.34113497915999\r",
        "94.35716575825586\r",
        "94.37319653735172\r",
        "94.38922731644757\r",
        "94.40525809554345\r",
        "94.4212888746393\r",
        "94.43731965373517\r",
        "94.45335043283104\r",
        "94.4693812119269\r",
        "94.48541199102276\r",
        "94.50144277011863"
       ]
      },
      {
       "output_type": "stream",
       "stream": "stdout",
       "text": [
        "\r",
        "94.51747354921449\r",
        "94.53350432831036\r",
        "94.54953510740623\r",
        "94.56556588650209\r",
        "94.58159666559794\r",
        "94.59762744469381\r",
        "94.61365822378967\r",
        "94.62968900288554\r",
        "94.64571978198141\r",
        "94.66175056107727\r",
        "94.67778134017313\r",
        "94.693812119269\r",
        "94.70984289836485\r",
        "94.72587367746073\r",
        "94.7419044565566\r",
        "94.75793523565245\r",
        "94.77396601474831\r",
        "94.78999679384418\r",
        "94.80602757294004\r",
        "94.82205835203591\r",
        "94.83808913113178\r",
        "94.85411991022764\r",
        "94.8701506893235\r",
        "94.88618146841937\r",
        "94.90221224751522\r",
        "94.9182430266111\r",
        "94.93427380570697\r",
        "94.95030458480282\r",
        "94.9663353638987\r",
        "94.98236614299455\r",
        "94.99839692209041\r",
        "95.01442770118628\r",
        "95.03045848028215\r",
        "95.046489259378\r",
        "95.06252003847388\r",
        "95.07855081756973\r",
        "95.09458159666559\r",
        "95.11061237576146\r",
        "95.12664315485733\r",
        "95.14267393395319\r",
        "95.15870471304906\r",
        "95.17473549214492\r",
        "95.19076627124078\r",
        "95.20679705033665\r",
        "95.2228278294325\r",
        "95.23885860852837\r",
        "95.25488938762425\r",
        "95.2709201667201\r",
        "95.28695094581596\r",
        "95.30298172491183\r",
        "95.31901250400769\r",
        "95.33504328310356\r",
        "95.35107406219943\r",
        "95.36710484129529\r",
        "95.38313562039114\r",
        "95.39916639948702\r",
        "95.41519717858287\r",
        "95.43122795767874\r",
        "95.44725873677461\r",
        "95.46328951587047\r",
        "95.47932029496633\r",
        "95.4953510740622\r",
        "95.51138185315806\r",
        "95.52741263225393\r",
        "95.5434434113498\r",
        "95.55947419044566\r",
        "95.57550496954153\r",
        "95.59153574863738\r",
        "95.60756652773324\r",
        "95.62359730682911\r",
        "95.63962808592498\r",
        "95.65565886502084\r",
        "95.67168964411671\r",
        "95.68772042321257\r",
        "95.70375120230842\r",
        "95.7197819814043\r",
        "95.73581276050017\r",
        "95.75184353959602\r",
        "95.7678743186919\r",
        "95.78390509778775\r",
        "95.79993587688361"
       ]
      },
      {
       "output_type": "stream",
       "stream": "stdout",
       "text": [
        "\r",
        "95.81596665597948\r",
        "95.83199743507535\r",
        "95.84802821417121\r",
        "95.86405899326708\r",
        "95.88008977236294\r",
        "95.8961205514588\r",
        "95.91215133055466\r",
        "95.92818210965052\r",
        "95.94421288874639\r",
        "95.96024366784226\r",
        "95.97627444693812\r",
        "95.99230522603398\r",
        "96.00833600512985\r",
        "96.0243667842257\r",
        "96.04039756332158\r",
        "96.05642834241745\r",
        "96.0724591215133\r",
        "96.08848990060916\r",
        "96.10452067970503\r",
        "96.12055145880089\r",
        "96.13658223789676\r",
        "96.15261301699263\r",
        "96.16864379608849\r",
        "96.18467457518436\r",
        "96.20070535428022\r",
        "96.21673613337607\r",
        "96.23276691247194\r",
        "96.24879769156782\r",
        "96.26482847066367\r",
        "96.28085924975954\r",
        "96.2968900288554\r",
        "96.31292080795126\r",
        "96.32895158704713\r",
        "96.344982366143\r",
        "96.36101314523886\r",
        "96.37704392433473\r",
        "96.39307470343059\r",
        "96.40910548252644\r",
        "96.42513626162231\r",
        "96.44116704071818\r",
        "96.45719781981404\r",
        "96.47322859890991\r",
        "96.48925937800577\r",
        "96.50529015710163\r",
        "96.5213209361975\r",
        "96.53735171529337\r",
        "96.55338249438923\r",
        "96.5694132734851\r",
        "96.58544405258095\r",
        "96.60147483167681\r",
        "96.61750561077268\r",
        "96.63353638986855\r",
        "96.64956716896441\r",
        "96.66559794806028\r",
        "96.68162872715614\r",
        "96.697659506252\r",
        "96.71369028534787\r",
        "96.72972106444374\r",
        "96.7457518435396\r",
        "96.76178262263547\r",
        "96.77781340173132\r",
        "96.7938441808272\r",
        "96.80987495992305\r",
        "96.8259057390189\r",
        "96.84193651811478\r",
        "96.85796729721065\r",
        "96.8739980763065\r",
        "96.89002885540238\r",
        "96.90605963449823\r",
        "96.92209041359409\r",
        "96.93812119268996\r",
        "96.95415197178583\r",
        "96.97018275088169\r",
        "96.98621352997756\r",
        "97.00224430907342\r",
        "97.01827508816928\r",
        "97.03430586726515\r",
        "97.05033664636102\r",
        "97.06636742545687\r",
        "97.08239820455275"
       ]
      },
      {
       "output_type": "stream",
       "stream": "stdout",
       "text": [
        "\r",
        "97.09842898364862\r",
        "97.11445976274446\r",
        "97.13049054184033\r",
        "97.1465213209362\r",
        "97.16255210003206\r",
        "97.17858287912793\r",
        "97.1946136582238\r",
        "97.21064443731964\r",
        "97.22667521641552\r",
        "97.24270599551139\r",
        "97.25873677460724\r",
        "97.27476755370311\r",
        "97.29079833279897\r",
        "97.30682911189484\r",
        "97.3228598909907\r",
        "97.33889067008657\r",
        "97.35492144918243\r",
        "97.3709522282783\r",
        "97.38698300737416\r",
        "97.40301378647003\r",
        "97.41904456556588\r",
        "97.43507534466175\r",
        "97.45110612375761\r",
        "97.46713690285348\r",
        "97.48316768194934\r",
        "97.49919846104521\r",
        "97.51522924014107\r",
        "97.53126001923692\r",
        "97.5472907983328\r",
        "97.56332157742867\r",
        "97.57935235652452\r",
        "97.5953831356204\r",
        "97.61141391471627\r",
        "97.62744469381211\r",
        "97.64347547290798\r",
        "97.65950625200385\r",
        "97.67553703109971\r",
        "97.69156781019558\r",
        "97.70759858929145\r",
        "97.7236293683873\r",
        "97.73966014748316\r",
        "97.75569092657904\r",
        "97.77172170567489\r",
        "97.78775248477076\r",
        "97.80378326386663\r",
        "97.81981404296248\r",
        "97.83584482205835\r",
        "97.85187560115422\r",
        "97.86790638025008\r",
        "97.88393715934595\r",
        "97.89996793844182\r",
        "97.91599871753768\r",
        "97.93202949663353\r",
        "97.9480602757294\r",
        "97.96409105482526\r",
        "97.98012183392113\r",
        "97.99615261301699\r",
        "98.01218339211286\r",
        "98.02821417120872\r",
        "98.04424495030459"
       ]
      },
      {
       "output_type": "stream",
       "stream": "stdout",
       "text": [
        "\r",
        "98.06027572940044\r",
        "98.07630650849632\r",
        "98.09233728759217\r",
        "98.10836806668804\r",
        "98.1243988457839\r",
        "98.14042962487977\r",
        "98.15646040397563\r",
        "98.1724911830715\r",
        "98.18852196216736\r",
        "98.20455274126323\r",
        "98.2205835203591\r",
        "98.23661429945496\r",
        "98.25264507855081\r",
        "98.26867585764668\r",
        "98.28470663674254\r",
        "98.30073741583841\r",
        "98.31676819493428\r",
        "98.33279897403014\r",
        "98.348829753126\r",
        "98.36486053222187\r",
        "98.38089131131773\r",
        "98.3969220904136\r",
        "98.41295286950947\r",
        "98.42898364860531\r",
        "98.44501442770118\r",
        "98.46104520679705\r",
        "98.47707598589291\r",
        "98.49310676498878\r",
        "98.50913754408465\r",
        "98.52516832318051\r",
        "98.54119910227637\r",
        "98.55722988137224\r",
        "98.5732606604681\r",
        "98.58929143956397\r",
        "98.60532221865984\r",
        "98.6213529977557\r",
        "98.63738377685155\r",
        "98.65341455594742\r",
        "98.66944533504328\r",
        "98.68547611413915\r",
        "98.70150689323502\r",
        "98.71753767233088\r",
        "98.73356845142673\r",
        "98.7495992305226\r",
        "98.76563000961846\r",
        "98.78166078871433\r",
        "98.7976915678102\r",
        "98.81372234690606\r",
        "98.82975312600193\r",
        "98.84578390509779\r",
        "98.86181468419365\r",
        "98.87784546328952\r",
        "98.89387624238537\r",
        "98.90990702148125\r",
        "98.92593780057712\r",
        "98.94196857967297\r",
        "98.95799935876883\r",
        "98.9740301378647\r",
        "98.99006091696056\r",
        "99.00609169605643\r",
        "99.0221224751523\r",
        "99.03815325424816\r",
        "99.05418403334401\r",
        "99.07021481243989\r",
        "99.08624559153574\r",
        "99.10227637063161"
       ]
      },
      {
       "output_type": "stream",
       "stream": "stdout",
       "text": [
        "\r",
        "99.11830714972749\r",
        "99.13433792882334\r",
        "99.1503687079192\r",
        "99.16639948701507\r",
        "99.18243026611093\r",
        "99.1984610452068\r",
        "99.21449182430267\r",
        "99.23052260339853\r",
        "99.24655338249438\r",
        "99.26258416159025\r",
        "99.27861494068611\r",
        "99.29464571978198\r",
        "99.31067649887785\r",
        "99.32670727797371\r",
        "99.34273805706957\r",
        "99.35876883616544\r",
        "99.3747996152613\r",
        "99.39083039435717\r",
        "99.40686117345304\r",
        "99.4228919525489\r",
        "99.43892273164477\r",
        "99.45495351074062\r",
        "99.47098428983648\r",
        "99.48701506893235\r",
        "99.50304584802822\r",
        "99.51907662712408\r",
        "99.53510740621995\r",
        "99.5511381853158\r",
        "99.56716896441166\r",
        "99.58319974350754\r",
        "99.59923052260339\r",
        "99.61526130169926\r",
        "99.63129208079513\r",
        "99.64732285989099\r",
        "99.66335363898685\r",
        "99.67938441808272\r",
        "99.69541519717858\r",
        "99.71144597627445\r",
        "99.72747675537032\r",
        "99.74350753446618\r",
        "99.75953831356203\r",
        "99.7755690926579\r",
        "99.79159987175376\r",
        "99.80763065084963\r",
        "99.8236614299455\r",
        "99.83969220904136\r",
        "99.85572298813722\r",
        "99.87175376723309\r",
        "99.88778454632894\r",
        "99.90381532542482\r",
        "99.91984610452069\r",
        "99.93587688361654\r",
        "99.9519076627124\r",
        "99.96793844180827\r",
        "99.98396922090413\r"
       ]
      },
      {
       "output_type": "stream",
       "stream": "stderr",
       "text": [
        "-c:14: FutureWarning: elementwise comparison failed; returning scalar instead, but in the future will perform elementwise comparison\n",
        "-c:18: FutureWarning: elementwise comparison failed; returning scalar instead, but in the future will perform elementwise comparison\n",
        "-c:20: FutureWarning: elementwise comparison failed; returning scalar instead, but in the future will perform elementwise comparison\n"
       ]
      }
     ],
     "prompt_number": 118
    },
    {
     "cell_type": "code",
     "collapsed": false,
     "input": [
      "dataset[\"user_id\"] = users\n",
      "dataset[\"post_permlink\"] = posts\n",
      "dataset[\"like\"] = likes"
     ],
     "language": "python",
     "metadata": {},
     "outputs": [],
     "prompt_number": 119
    },
    {
     "cell_type": "code",
     "collapsed": false,
     "input": [
      "dataset.to_csv(\"./events.csv\")"
     ],
     "language": "python",
     "metadata": {},
     "outputs": [],
     "prompt_number": 123
    },
    {
     "cell_type": "markdown",
     "metadata": {},
     "source": [
      "\u0421\u043b\u0443\u0447\u0430\u0438\n",
      "- \u042e\u0437\u0435\u0440 \u0443\u0432\u0438\u0434\u0435\u043b \u0432 \u0440\u0435\u043a\u043e\u043c\u0435\u043d\u0434\u043e\u0432\u0430\u043d\u043d\u044b\u0445\n",
      "- \u042e\u0437\u0435\u0440 \u043f\u0440\u043e\u0441\u043c\u043e\u0442\u0440\u0435\u043b\n",
      "- \u042e\u0437\u0435\u0440 \u0432\u043e\u0443\u0442\u043d\u0443\u043b\n",
      "- \u042e\u0437\u0435\u0440 \u043f\u043e\u0441\u0442\u0430\u0432\u0438\u043b \u0444\u043b\u0430\u0433\n",
      "- \u042e\u0437\u0435\u0440 \u043e\u0442\u043a\u043e\u043c\u043c\u0435\u043d\u0442\u0438\u043b\n",
      "\n",
      "\u0420\u0435\u0439\u0442\u0438\u043d\u0433\n",
      "- \u042e\u0437\u0435\u0440 \u0443\u0432\u0438\u0434\u0435\u043b \u0432 \u0440\u0435\u043a\u043e\u043c\u0435\u043d\u0434\u043e\u0432\u0430\u043d\u043d\u044b\u0445 \u0438 \u0431\u043e\u043b\u044c\u0448\u0435 \u043d\u0438\u0447\u0435\u0433\u043e \u043d\u0435 \u0441\u0434\u0435\u043b\u0430\u043b\n",
      "- \u042e\u0437\u0435\u0440 \u043f\u0440\u043e\u0441\u043c\u043e\u0442\u0440\u0435\u043b\n",
      "- \u042e\u0437\u0435\u0440 \u043e\u0442\u043a\u043e\u043c\u043c\u0435\u043d\u0442\u0438\u043b\n",
      "- \u042e\u0437\u0435\u0440 \u0432\u043e\u0443\u0442\u043d\u0443\u043b \u043d\u0435 \u0433\u043b\u044f\u0434\u044f\n",
      "- \u042e\u0437\u0435\u0440 \u043f\u043e\u0441\u043c\u043e\u0442\u0440\u0435\u043b \u0438 \u0432\u043e\u0443\u0442\u043d\u0443\u043b"
     ]
    },
    {
     "cell_type": "code",
     "collapsed": false,
     "input": [
      "dataset.shape"
     ],
     "language": "python",
     "metadata": {},
     "outputs": []
    },
    {
     "cell_type": "code",
     "collapsed": false,
     "input": [
      "import pymongo\n",
      "from pymongo import MongoClient\n",
      "client = MongoClient()"
     ],
     "language": "python",
     "metadata": {},
     "outputs": [],
     "prompt_number": 106
    },
    {
     "cell_type": "code",
     "collapsed": false,
     "input": [
      "db = client.steemdb_4\n",
      "db.collection_names()"
     ],
     "language": "python",
     "metadata": {},
     "outputs": [
      {
       "metadata": {},
       "output_type": "pyout",
       "prompt_number": 112,
       "text": [
        "['follow',\n",
        " 'vesting_deposit',\n",
        " 'witness_vote',\n",
        " 'vesting_withdraw',\n",
        " 'account',\n",
        " 'block',\n",
        " 'comment',\n",
        " 'block_30d',\n",
        " 'vote',\n",
        " 'status',\n",
        " 'transfer',\n",
        " 'pow',\n",
        " 'reblog']"
       ]
      }
     ],
     "prompt_number": 112
    },
    {
     "cell_type": "code",
     "collapsed": false,
     "input": [
      "db.comment.count()"
     ],
     "language": "python",
     "metadata": {},
     "outputs": [
      {
       "metadata": {},
       "output_type": "pyout",
       "prompt_number": 113,
       "text": [
        "512365"
       ]
      }
     ],
     "prompt_number": 113
    },
    {
     "cell_type": "code",
     "collapsed": false,
     "input": [
      "for collection in db.collection_names():\n",
      "    print(collection)\n",
      "    print(db[collection].find_one())\n",
      "    print(\"====\")"
     ],
     "language": "python",
     "metadata": {},
     "outputs": [
      {
       "output_type": "stream",
       "stream": "stdout",
       "text": [
        "follow\n",
        "{'_ts': datetime.datetime(2016, 10, 18, 12, 28, 51), 'follower': 'on0tole', '_id': ObjectId('5a1829593f33f4c8b83573ea'), 'following': 'lehard', 'what': [], '_block': 1677}\n",
        "====\n",
        "vesting_deposit\n",
        "{'_ts': datetime.datetime(2016, 10, 18, 11, 7, 36), 'amount': 1.0, '_id': '111/testzcrypto-04/testz', 'from': 'testzcrypto-04', 'to': 'testz'}\n",
        "====\n",
        "witness_vote\n",
        "{'_ts': datetime.datetime(2016, 10, 18, 11, 10, 54), 'account': 'testz', '_id': ObjectId('5a1829523f33f4c8b8354790'), 'witness': 'testz', 'approve': True}\n",
        "====\n",
        "vesting_withdraw\n",
        "{'withdrawn': 1730.76923, '_ts': datetime.datetime(2016, 10, 25, 12, 32, 21), '_id': '202782/phenom/phenom', 'from_account': 'phenom', 'to_account': 'phenom', 'deposited': 0.173}\n",
        "====\n",
        "account\n",
        "{'comment_count': 0, 'active': {'key_auths': [['GLS5nLHpDVW8A6LjepUbGz7YgEGKHQbS85SvdP4N1SZpo7fFPCNAr', 1]], 'weight_threshold': 1, 'account_auths': []}, 'owner_challenged': False, 'posting_rewards': 0, 'scanned': datetime.datetime(2017, 11, 24, 18, 13, 56, 554000), 'average_bandwidth': 109997569, 'next_vesting_withdrawal': datetime.datetime(1969, 12, 31, 23, 59, 59), 'last_root_post': datetime.datetime(1970, 1, 1, 0, 0), 'savings_sbd_last_interest_payment': datetime.datetime(1970, 1, 1, 0, 0), 'last_account_recovery': datetime.datetime(1970, 1, 1, 0, 0), 'received_vesting_shares': '0.000000 GESTS', 'savings_sbd_seconds_last_update': datetime.datetime(1970, 1, 1, 0, 0), 'active_challenged': False, '_id': 'testzcrypto-04', 'following': [], 'guest_bloggers': [], 'savings_sbd_seconds': '0', 'proxy_witness': 0.0, 'tags_usage': [], 'balance': 0.0, 'sbd_seconds': 0.0, 'withdrawn': '750005313022', 'post_count': 0, 'post_bandwidth': 10000, 'total_sbd_balance': 0.0, 'created': datetime.datetime(2016, 10, 18, 11, 4, 27), 'savings_sbd_balance': 0.0, 'followers_mvest': 0, 'last_bandwidth_update': datetime.datetime(2017, 3, 2, 4, 18, 12), 'memo_key': 'GLS5nLHpDVW8A6LjepUbGz7YgEGKHQbS85SvdP4N1SZpo7fFPCNAr', 'vesting_shares': 0.0, 'to_withdraw': 750005313022.0, 'posting': {'key_auths': [['GLS5nLHpDVW8A6LjepUbGz7YgEGKHQbS85SvdP4N1SZpo7fFPCNAr', 1]], 'weight_threshold': 1, 'account_auths': []}, 'followers': [], 'savings_balance': 0.0, 'savings_withdraw_requests': 0, 'reset_account': 'null', 'withdraw_routes': 1, 'proxied_vsf_votes': [0, 0, 0, 0], 'other_history': [], 'mined': True, 'last_active_proved': datetime.datetime(1970, 1, 1, 0, 0), 'json_metadata': '', 'curation_rewards': 1, 'last_vote_time': datetime.datetime(2017, 1, 19, 11, 39), 'last_account_update': datetime.datetime(1970, 1, 1, 0, 0), 'delegated_vesting_shares': '0.000000 GESTS', 'average_market_bandwidth': 116000000, 'voting_power': 9950, 'lifetime_bandwidth': 706000000.0, 'reputation': 0.0, 'vesting_withdraw_rate': 0.0, 'recovery_account': '', 'last_post': datetime.datetime(1970, 1, 1, 0, 0), 'lifetime_vote_count': 0, 'name': 'testzcrypto-04', 'owner': {'key_auths': [['GLS5nLHpDVW8A6LjepUbGz7YgEGKHQbS85SvdP4N1SZpo7fFPCNAr', 1]], 'weight_threshold': 1, 'account_auths': []}, 'transfer_history': [], 'blog_category': {}, 'vesting_balance': 0.0, 'last_owner_update': datetime.datetime(1970, 1, 1, 0, 0), 'post_history': [], 'market_history': [], 'last_owner_proved': datetime.datetime(1970, 1, 1, 0, 0), 'new_average_bandwidth': 212961805, 'following_count': 0, 'id': 8382, '_dirty': True, 'proxy': 'testz', 'new_average_market_bandwidth': 1160000000, 'witnesses_voted_for': 0, 'followers_count': 0, 'sbd_seconds_last_update': datetime.datetime(1970, 1, 1, 0, 0), 'sbd_last_interest_payment': datetime.datetime(1970, 1, 1, 0, 0), 'total_balance': 0.0, 'last_market_bandwidth_update': datetime.datetime(2016, 10, 18, 11, 7, 30), 'sbd_balance': 0.0, 'can_vote': True, 'witness_votes': [], 'vote_history': []}\n",
        "====\n",
        "block\n",
        "{'extensions': [[1, '0.14.2'], [2, {'hf_time': '2016-10-18T11:02:00', 'hf_version': '0.6.0'}]], '_ts': datetime.datetime(2016, 10, 18, 11, 1, 51), 'timestamp': '2016-10-18T11:01:51', 'transactions': [], '_id': 2, 'witness': 'cyberfounder', 'transaction_merkle_root': '0000000000000000000000000000000000000000', 'previous': '0000000124e9a697d13b4b133b9d4048a631e952', 'witness_signature': '205b4e25f261c9fb4b66607007be4fdead9b98ba06371627c071218a0ec9e1356e0b39237bff40e46d0263696fa5276ea347fc784813df25c97d9ff72d3ca83fef'}\n",
        "====\n",
        "comment\n",
        "{'author_reputation': 57839098574841.0, 'abs_rshares': 0.0, 'parent_permlink': 'ru--vpered', 'body_length': 0, 'vote_rshares': 0.0, 'active': datetime.datetime(2016, 11, 1, 4, 16, 42), 'last_payout': datetime.datetime(2017, 2, 14, 11, 0, 6), 'last_reply': datetime.datetime(2016, 11, 1, 4, 16, 42), 'total_payout_value': 0.0, 'percent_steem_dollars': 10000, 'allow_curation_rewards': True, '_id': 'hipster/post-dobra', 'curator_payout_value': 0.0, 'children_rshares2': 0.0, 'promoted': '0.000 GBG', 'category': 'ru--vpered', 'net_votes': 11, 'children': 5, 'children_abs_rshares': 0.0, 'created': datetime.datetime(2016, 10, 18, 11, 46, 3), 'parent_author': '', 'body': '\u0412\u0441\u0435\u043c \u0434\u043e\u0431\u0440\u0430', 'author_rewards': 0, 'active_votes': [{'rshares': 4300000000.0, 'reputation': '8384654052423', 'time': datetime.datetime(2016, 10, 18, 12, 29, 18), 'percent': 10000, 'voter': 'pfunk', 'weight': 1.9789616566371484e+16}, {'rshares': 0.0, 'reputation': '57839098574841', 'time': datetime.datetime(2017, 10, 19, 1, 30, 6), 'percent': 8500, 'voter': 'hipster', 'weight': 0.0}, {'rshares': 1955000000.0, 'reputation': '88516863831269', 'time': datetime.datetime(2016, 10, 18, 12, 18, 24), 'percent': 10000, 'voter': 'lehard', 'weight': 9011441823834144.0}, {'rshares': 1950000000.0, 'reputation': '51440945418196', 'time': datetime.datetime(2016, 10, 18, 12, 30, 39), 'percent': 10000, 'voter': 'on0tole', 'weight': 8960367266612542.0}, {'rshares': 250000000.0, 'reputation': '49709826879644', 'time': datetime.datetime(2016, 10, 19, 7, 54, 54), 'percent': 10000, 'voter': 'mrgreen', 'weight': 1145769371535190.0}, {'rshares': 2950000000.0, 'reputation': '1177822741105', 'time': datetime.datetime(2016, 10, 18, 12, 39, 33), 'percent': 10000, 'voter': 'jesta', 'weight': 1.3538868184289952e+16}, {'rshares': 0.0, 'reputation': '31910532064100', 'time': datetime.datetime(2017, 9, 9, 20, 50, 57), 'percent': 10000, 'voter': 'litvintech', 'weight': 0.0}, {'rshares': 245000000.0, 'reputation': '36004265454206', 'time': datetime.datetime(2016, 10, 19, 2, 20, 3), 'percent': 10000, 'voter': 'kibela', 'weight': 1123101684710461.0}, {'rshares': 245000000.0, 'reputation': '36312226335', 'time': datetime.datetime(2016, 10, 18, 16, 30), 'percent': 10000, 'voter': 'numberone', 'weight': 1123238864957892.0}, {'rshares': 195000000.0, 'reputation': '1865260106486', 'time': datetime.datetime(2016, 10, 19, 6, 39, 18), 'percent': 10000, 'voter': 'stepanoff', 'weight': 893799232971924.0}, {'rshares': 250000000.0, 'reputation': '911566240353', 'time': datetime.datetime(2016, 10, 18, 13, 29, 42), 'percent': 10000, 'voter': 'wanker', 'weight': 1146446430855800.0}, {'rshares': 250000000.0, 'reputation': '167545076702', 'time': datetime.datetime(2016, 10, 18, 15, 44, 18), 'percent': 10000, 'voter': 'dionis', 'weight': 1146303541396107.0}, {'rshares': 245000000.0, 'reputation': '932884847910', 'time': datetime.datetime(2016, 10, 20, 13, 56, 57), 'percent': 10000, 'voter': 'visitor', 'weight': 1122715475363875.0}, {'rshares': 0.0, 'reputation': '51798627106323', 'time': datetime.datetime(2017, 9, 9, 20, 51, 3), 'percent': 2000, 'voter': 'rusldv', 'weight': 0.0}, {'rshares': 0.0, 'reputation': '6163868007350', 'time': datetime.datetime(2017, 10, 19, 1, 30, 30), 'percent': 1500, 'voter': 'dmitriu', 'weight': 0.0}, {'rshares': 0.0, 'reputation': '84960473436349', 'time': datetime.datetime(2017, 6, 10, 16, 17, 12), 'percent': 10000, 'voter': 'zaxar', 'weight': 0.0}, {'rshares': 0.0, 'reputation': '7617048983163', 'time': datetime.datetime(2017, 3, 25, 20, 47, 45), 'percent': 10000, 'voter': 'seriy', 'weight': 0.0}, {'rshares': 0.0, 'reputation': '17770916426595', 'time': datetime.datetime(2017, 10, 18, 18, 34, 51), 'percent': 100, 'voter': 'gryph0n', 'weight': 0.0}, {'rshares': 0.0, 'reputation': '20658408317514', 'time': datetime.datetime(2017, 10, 18, 11, 25, 12), 'percent': 10000, 'voter': 'urri', 'weight': 0.0}, {'rshares': 0.0, 'reputation': '10355663269728', 'time': datetime.datetime(2017, 9, 9, 20, 51, 48), 'percent': 500, 'voter': 'vika-teplo', 'weight': 0.0}, {'rshares': 0.0, 'reputation': '181803116782', 'time': datetime.datetime(2017, 10, 20, 7, 4, 33), 'percent': 10000, 'voter': 'pros', 'weight': 0.0}, {'rshares': 0.0, 'reputation': 0, 'time': datetime.datetime(2017, 7, 26, 13, 27, 54), 'percent': 10000, 'voter': 'djomushka', 'weight': 0.0}], 'beneficiaries': [], 'reward_weight': 10000, 'scanned': datetime.datetime(2017, 11, 24, 18, 31, 24, 42000), 'total_pending_payout_value': 0.0, 'url': '/ru--vpered/@hipster/post-dobra', 'json_metadata': {'tags': ['ru--vpered', 'ru--golos']}, 'id': 0, 'permlink': 'post-dobra', 'total_vote_weight': 0, 'pending_payout_value': 0.0, 'cashout_time': datetime.datetime(1969, 12, 31, 23, 59, 59), 'author': 'hipster', 'net_rshares': 0.0, 'max_accepted_payout': 1000000.0, 'replies': [], 'reblogged_by': [], 'allow_votes': True, 'allow_replies': True, 'root_title': '\u041f\u043e\u0441\u0442 \u0434\u043e\u0431\u0440\u0430', 'root_comment': 0, 'max_cashout_time': datetime.datetime(1969, 12, 31, 23, 59, 59), 'last_reply_by': 'smailer', 'last_update': datetime.datetime(2016, 10, 18, 11, 46, 3), 'title': '\u041f\u043e\u0441\u0442 \u0434\u043e\u0431\u0440\u0430', 'depth': 0}\n",
        "====\n",
        "block_30d\n",
        "{'extensions': [[1, '0.14.2'], [2, {'hf_time': '2016-10-18T11:02:00', 'hf_version': '0.6.0'}]], '_ts': datetime.datetime(2016, 10, 18, 11, 1, 51), 'timestamp': '2016-10-18T11:01:51', 'transactions': [], '_id': 2, 'witness': 'cyberfounder', 'transaction_merkle_root': '0000000000000000000000000000000000000000', 'previous': '0000000124e9a697d13b4b133b9d4048a631e952', 'witness_signature': '205b4e25f261c9fb4b66607007be4fdead9b98ba06371627c071218a0ec9e1356e0b39237bff40e46d0263696fa5276ea347fc784813df25c97d9ff72d3ca83fef'}\n",
        "====\n",
        "vote\n",
        "{'_ts': datetime.datetime(2016, 10, 18, 11, 49, 39), 'weight': 10000, '_id': '900/primus/primus/nastroika-nod-mainera-i-delegata-dlya-raboty-v-golose-rabochie-konfigi-i-poyasneniya-po-ustanovke', 'voter': 'primus', 'permlink': 'nastroika-nod-mainera-i-delegata-dlya-raboty-v-golose-rabochie-konfigi-i-poyasneniya-po-ustanovke', 'author': 'primus'}\n",
        "====\n",
        "status\n",
        "{'_id': 'height', 'value': 10084011}\n",
        "====\n",
        "transfer\n",
        "{'_ts': datetime.datetime(2016, 10, 18, 11, 17, 36), '_id': '286/cyberfounder/cyberdrop', 'memo': '', 'type': 'GOLOS', 'amount': 4512000.0, 'to': 'cyberdrop', 'from': 'cyberfounder'}\n",
        "====\n",
        "pow\n",
        "{'_ts': datetime.datetime(2016, 10, 18, 11, 3, 3), 'work': [0, {'input': {'worker_account': 'initfounder', 'nonce': '14618240069569735498', 'prev_block': '00000019c11cc0b431626637cc2e5896473ecead'}, 'pow_summary': 4194738265}], '_id': '26-initfounder', 'new_owner_key': 'GLS6hhoECYq2yxgJLUsoUDDU6TeqWDtUmG45rvNuYANWaZpmk1JCN', 'block': 26, 'props': {'maximum_block_size': 131072, 'sbd_interest_rate': 1000, 'account_creation_fee': '3.000 GOLOS'}}\n",
        "====\n",
        "reblog\n",
        "{'account': 'hipster', 'author': 'lehard', 'permlink': 'komanda-golos-nastoyashie-kosmonavty', '_ts': datetime.datetime(2016, 10, 18, 13, 48, 6), '_block': 3261, '_id': ObjectId('5a1837363f33f4c8b85a42b6')}\n",
        "====\n"
       ]
      }
     ],
     "prompt_number": 11
    },
    {
     "cell_type": "code",
     "collapsed": false,
     "input": [
      "import pandas as pd\n",
      "from bs4 import BeautifulSoup\n",
      "import warnings\n",
      "warnings.filterwarnings(\"ignore\", category=UserWarning, module='bs4')\n",
      "\n",
      "posts = pd.DataFrame()\n",
      "\n",
      "links = []\n",
      "texts = []\n",
      "for index, post in enumerate(db.comment.find()):\n",
      "    print(float(index / db.comment.count()) * 100, end=\"\\r\")\n",
      "    links.append(\"http://golos.io/@{}/{}\".format(post[\"author\"], post[\"permlink\"]))\n",
      "    texts.append(BeautifulSoup(post[\"body\"], 'html.parser').get_text())\n",
      "posts[\"permlink\"] = links\n",
      "posts[\"text\"] = texts"
     ],
     "language": "python",
     "metadata": {},
     "outputs": []
    },
    {
     "cell_type": "code",
     "collapsed": false,
     "input": [
      "posts.to_csv(\"./posts.csv\")"
     ],
     "language": "python",
     "metadata": {},
     "outputs": []
    },
    {
     "cell_type": "code",
     "collapsed": false,
     "input": [
      "from pymongo import MongoClient\n",
      "import numpy as np\n",
      "import pandas as pd\n",
      "\n",
      "client = MongoClient(\"localhost:27017\")\n",
      "database = client[\"steemdb_4\"]\n",
      "collection_comment = database[\"comment\"]\n",
      "\n",
      "comment_df = pd.DataFrame(list(collection_comment.find({'_id' : {'$exists' : True},\n",
      "                                                      'permlink': {'$exists' : True},\n",
      "                                                      'author' : {'$exists' : True},\n",
      "                                                      'last_payout' : {'$exists' : True},\n",
      "                                                      'reward_weight' : {'$exists' : True},\n",
      "                                                      'net_rshares' : {'$exists' : True},\n",
      "                                                      'net_votes' : {'$exists' : True},\n",
      "                                                      'total_payout_value' : {'$exists' : True},\n",
      "                                                      'root_comment' : {'$exists' : True},\n",
      "                                                      'last_payout' : {'$exists' : True},\n",
      "                                                      'depth': 0\n",
      "                                                       },                                              \n",
      "\n",
      "                                                     {'_id': 1, \n",
      "                                                      'permlink': 1,\n",
      "                                                      'author': 1, \n",
      "                                                      'title': 1,\n",
      "                                                      'body' : 1,\n",
      "                                                      'depth' : 1,\n",
      "                                                      'parent_permlink': 1,\n",
      "                                                      'created': 1,\n",
      "                                                      'json_metadata': 1})))"
     ],
     "language": "python",
     "metadata": {},
     "outputs": [],
     "prompt_number": 114
    },
    {
     "cell_type": "code",
     "collapsed": false,
     "input": [
      "comment_df.shape"
     ],
     "language": "python",
     "metadata": {},
     "outputs": [
      {
       "metadata": {},
       "output_type": "pyout",
       "prompt_number": 115,
       "text": [
        "(51387, 9)"
       ]
      }
     ],
     "prompt_number": 115
    },
    {
     "cell_type": "code",
     "collapsed": false,
     "input": [
      "comment_df[\"post_permlink\"] = [\"@\" + x[\"author\"] + \"/\" + x[\"permlink\"] for _, x in comment_df.iterrows()]"
     ],
     "language": "python",
     "metadata": {},
     "outputs": []
    },
    {
     "cell_type": "code",
     "collapsed": false,
     "input": [
      "def extract_tags(x):\n",
      "    if str(x).count(\"{\") == 0:\n",
      "        return []\n",
      "    x = eval(str(x))\n",
      "    if 'tags' in x:\n",
      "        return x['tags']\n",
      "    else:\n",
      "        return []"
     ],
     "language": "python",
     "metadata": {},
     "outputs": [],
     "prompt_number": 89
    },
    {
     "cell_type": "code",
     "collapsed": false,
     "input": [
      "comment_df[\"tags\"] = comment_df[\"json_metadata\"].apply(extract_tags)"
     ],
     "language": "python",
     "metadata": {},
     "outputs": [],
     "prompt_number": 90
    },
    {
     "cell_type": "code",
     "collapsed": false,
     "input": [
      "comment_df[\"tags\"]"
     ],
     "language": "python",
     "metadata": {},
     "outputs": [
      {
       "metadata": {},
       "output_type": "pyout",
       "prompt_number": 91,
       "text": [
        "0         [ru--ijguyie, ru--vopros, ru--zadacha, ru--vdo...\n",
        "1         [ru--osnova, ru--bukvy, ru--yadra, ru--smysl, ...\n",
        "2         [ru--absolyutizacziya, ru--korrelyacziya, ru--...\n",
        "3         [ru--putx, ru--stikhi, ru--perezhivaniya, ru--...\n",
        "4          [ru--stikhi, ru--pesnya, ru--temnota, ru--minor]\n",
        "5                    [art, ru--dyevi, ru--boginya, ru--art]\n",
        "6         [ru--yesse, ru--vdokhnovenie, ru--zametki, ru-...\n",
        "7         [ru--lyubovx, ru--pamyatx, ru--korrelyacziya, ...\n",
        "8         [ru--absolyut, ru--stikhi, ru--nitx, ru--smysl...\n",
        "9                         [ru--bog, ru--kasanie, ru--smysl]\n",
        "10        [ru--postmodernizm, ru--absolyutizacziya, ru--...\n",
        "11             [ru--maijning, cpu, hexx, ru--kriptovalyuta]\n",
        "12        [ru--stikhi, ru--vdokhnovenxe, ru--zvezda, you...\n",
        "13                       [ru--stikhi, ru--art, ru--lyubovx]\n",
        "14        [ru--imya, ru--bog, ru--boginya, ru--uzory, ru...\n",
        "15                                         [now, new, post]\n",
        "16                       [ru--pesnya, ru--slavy, ru--ogonx]\n",
        "17        [ru--lyubovx, ru--vospominanie, ru--mechta, ru...\n",
        "18                                [ru--fotokollazh, ru--om]\n",
        "19        [ru--alfavit, ru--bukva, ru--a, ru--absolyut, ...\n",
        "20        [ru--samoderzhavnyij, ru--programmist, ru--ros...\n",
        "21        [ru--absolyut, ru--stikhi, ru--korrelyacziya, ...\n",
        "22        [ru--absolyut, ru--stikhi, ru--korrelyacziya, ...\n",
        "23        [ru--molitva, ru--stikhi, ru--gospodx, ru--iss...\n",
        "24        [ru--stikhi, ru--poisk, ru--sublimacziya, ru--...\n",
        "25                           [ru--stikhi, ru--probuzhdenie]\n",
        "26        [ru--pesnya, ru--akkordy, ru--vdokhnovenie, ru...\n",
        "27                           [ru--stikhi, ru--probuzhdenie]\n",
        "28        [ru--vzglyad, ru--vselennaya, ru--gospodx, ru-...\n",
        "29        [ru--kosmos, ru--art, ru--fotokollazh, ru--vdo...\n",
        "                                ...                        \n",
        "229363    [ru--pifotopremiya, ru--fotografiya, ru--khoch...\n",
        "229364    [ru--pifotopremiya, ru--fotografiya, ru--khoch...\n",
        "229365    [ru--pifotopremiya, ru--fotografiya, ru--khoch...\n",
        "229366    [ru--pifotopremiya, ru--fotografiya, ru--khoch...\n",
        "229367    [ru--pifotopremiya, ru--fotografiya, ru--khoch...\n",
        "229368    [ru--pifotopremiya, ru--fotografiya, ru--khoch...\n",
        "229369    [photo, ru--foto, ru--puteshestvie, ru--nikola...\n",
        "229370    [ru--kriptovalyuty, ru--blokcheijn, lbc, lbry,...\n",
        "229371                                          [ru--mmvpv]\n",
        "229372                                     [ru--beshenstvo]\n",
        "229373                          [ru--kastorovoe, ru--maslo]\n",
        "229374                         [ru--primenyayut, ru--banki]\n",
        "229375    [ru--normalxnuyu, ru--yerekcziyu, \u0441\u043a\u0438\u0434\u043a\u0430, ru--...\n",
        "229376                [ru--ot, ru--stroitelxnoij, ru--pyli]\n",
        "229377    [ru--idunavzlyot, ru--muzyka, music, ru--novin...\n",
        "229378    [ru--muzyka, music, arcadefire, ru--novinki, r...\n",
        "229379    [ru--muzyka, music, cagetheelephant, ru--novin...\n",
        "229380    [ru--idunavzlyot, ru--muzyka, music, ru--recze...\n",
        "229381    [ru--stavki, ru--sport, ru--bitkoin, ru--kappe...\n",
        "229382    [ru--kriptovalyuta, ru--novosti, ru--kasperski...\n",
        "229383                 [ethereum, bitcoin, cloud, mining, ]\n",
        "229384    [ru--saakashvili, ru--timoshenko, ru--grazhdan...\n",
        "229385    [ru--kriptovalyuta, ru--vkontakte, ru--zapret,...\n",
        "229386      [ru--kriptovalyuta, ru--novosti, ru--startap, ]\n",
        "229387                                              [golos]\n",
        "229388                               [ru--obratnaya-svyazx]\n",
        "229389    [ru--ochishchenie, ru--zhiznx, ru--obrazovanie...\n",
        "229390                                    [ru--dukhovnostx]\n",
        "229391    [ru--pishcha, ru--eda, ru--yenergetika, ru--bi...\n",
        "229392                                 [ico, zrcoin, waves]\n",
        "Name: tags, Length: 229393, dtype: object"
       ]
      }
     ],
     "prompt_number": 91
    },
    {
     "cell_type": "code",
     "collapsed": false,
     "input": [
      "body = []\n",
      "for _, post in comment_df.iterrows():\n",
      "    body.append(\" \".join(post[\"tags\"]) + \" \" + post[\"parent_permlink\"] + \" \" + post[\"title\"] + \" \" + post[\"body\"])\n",
      "comment_df[\"body\"] = body"
     ],
     "language": "python",
     "metadata": {},
     "outputs": [],
     "prompt_number": 100
    },
    {
     "cell_type": "code",
     "collapsed": false,
     "input": [
      "comment_df.iloc[10][\"body\"]"
     ],
     "language": "python",
     "metadata": {},
     "outputs": [
      {
       "metadata": {},
       "output_type": "pyout",
       "prompt_number": 105,
       "text": [
        "'https://pp.userapi.com/c841231/v841231184/34fd4/7w06k8jSADk.jpg\\n\\n\u0412 \u0448\u043a\u043e\u043b\u044c\u043d\u044b\u0435 \u0433\u043e\u0434\u044b \u0443 \u043c\u0435\u043d\u044f \u0431\u044b\u043b \u0442\u0430\u043a\u043e\u0439 \u0430\u0437\u0430\u0440\u0442: \u043f\u043e\u043f\u0440\u043e\u0431\u043e\u0432\u0430\u0442\u044c \u0432\u0441\u0435 \u0432\u0438\u0434\u044b \u0440\u0443\u043a\u043e\u0434\u0435\u043b\u0438\u044f, \u0434\u043e \u043a\u043e\u0442\u043e\u0440\u044b\u0445 \u043c\u043e\u0436\u043d\u043e \u0434\u043e\u0442\u044f\u043d\u0443\u0442\u044c\u0441\u044f. \u041a \u0441\u0442\u0430\u0440\u0448\u0435\u0439 \u0448\u043a\u043e\u043b\u0435, \u043e\u0441\u0432\u043e\u0438\u0432 \u043c\u0430\u043a\u0440\u0430\u043c\u0435, \u0432\u044b\u0448\u0438\u0432\u043a\u0443, \u0432\u044f\u0437\u0430\u043d\u0438\u0435 \u043a\u0440\u044e\u0447\u043a\u043e\u043c, \u043b\u0435\u043f\u043a\u0443 \u0438\u0437 \u0433\u043b\u0438\u043d\u044b \u0438 \u043c\u0443\u043a\u043e\u0441\u043e\u043b\u0430, \u043d\u0435\u043c\u043d\u043e\u0433\u043e \u2013 \u0444\u0440\u0438\u0432\u043e\u043b\u0438\u0442\u0435, \u043f\u043b\u0435\u0442\u0435\u043d\u0438\u0435 \u0438\u0437 \u0431\u0435\u0440\u0435\u0441\u0442\u044b, \u0441\u0430\u043c\u044b\u0435 \u0440\u0430\u0437\u043d\u043e\u043e\u0431\u0440\u0430\u0437\u043d\u044b\u0435 \u043a\u043e\u043b\u043b\u0430\u0436\u0438 \u0438 \u043f\u0440\u043e\u0443\u0447\u0438\u0432\u0448\u0438\u0441\u044c \u043c\u043d\u043e\u0433\u043e \u043b\u0435\u0442 \u0432 \u0445\u0443\u0434\u043e\u0436\u0435\u0441\u0442\u0432\u0435\u043d\u043d\u043e\u0439 \u0448\u043a\u043e\u043b\u0435 \u044f \u0432\u0434\u0440\u0443\u0433 \u0443\u0432\u0438\u0434\u0435\u043b\u0430 \u0432 \u043c\u0430\u0433\u0430\u0437\u0438\u043d\u0435 \u0430\u043a\u0440\u0438\u043b\u043e\u0432\u044b\u0435 \u043a\u0440\u0430\u0441\u043a\u0438 \u043f\u043e \u0441\u0442\u0435\u043a\u043b\u0443 \u0438 \u043a\u0435\u0440\u0430\u043c\u0438\u043a\u0435. \u0418 \u043d\u0435 \u0432\u0430\u0436\u043d\u043e, \u0447\u0442\u043e \u044f \u043d\u0430 \u043d\u0438\u0445 \u0432\u044b\u043b\u043e\u0436\u0438\u043b\u0430 \u0432\u0441\u0435 \u043a\u0430\u0440\u043c\u0430\u043d\u043d\u044b\u0435 \u0434\u0435\u043d\u044c\u0433\u0438 \u2013 \u044f \u0437\u0430\u0433\u043e\u0440\u0435\u043b\u0430\u0441\u044c \u043d\u043e\u0432\u043e\u0439 \u0442\u0435\u0445\u043d\u0438\u043a\u043e\u0439: \u0440\u0438\u0441\u043e\u0432\u0430\u043d\u0438\u0435\u043c \u043f\u043e \u0441\u0442\u0435\u043a\u043b\u0443. \\n\\n\u0421\u0440\u0435\u0434\u0438 \u043f\u0435\u0440\u0432\u044b\u0445 \u0440\u0430\u0431\u043e\u0442 \u044f \u0440\u0430\u0441\u043f\u0438\u0441\u0430\u043b\u0430 \u0441\u0442\u0430\u043a\u0430\u043d\u044b \u0438 \u0441\u0434\u0430\u043b\u0430 \u0438\u0445 \u043d\u0430 \u043f\u0440\u043e\u0434\u0430\u0436\u0443 \u0432 \u0426\u0435\u043d\u0442\u0440 \u0442\u0440\u0430\u0434\u0438\u0446\u0438\u043e\u043d\u043d\u043e\u0439 \u043d\u0430\u0440\u043e\u0434\u043d\u043e\u0439 \u043a\u0443\u043b\u044c\u0442\u0443\u0440\u044b (\u0426\u0422\u041d\u041a) \u0433. \u041a\u043e\u043b\u043e\u0433\u0440\u0438\u0432\u0430, \u0433\u0434\u0435 \u0432 \u0442\u0435\u0447\u0435\u043d\u0438\u0435 \u043c\u043d\u043e\u0433\u0438\u0445 \u043b\u0435\u0442 \u0443\u0441\u043f\u0435\u0448\u043d\u043e \u043f\u0440\u043e\u0434\u0430\u0432\u0430\u043b\u0438\u0441\u044c \u043c\u043e\u0438 \u0440\u0430\u0437\u043b\u0438\u0447\u043d\u044b\u0435 \u0440\u0430\u0431\u043e\u0442\u044b. \u0422\u0430\u043a \u043c\u043e\u044e \u0440\u043e\u0441\u043f\u0438\u0441\u044c \u0443\u0432\u0438\u0434\u0435\u043b \u0438\u0441\u043a\u0443\u0441\u0441\u0442\u0432\u043e\u0432\u0435\u0434 \u0438 \u043a\u0443\u043b\u044c\u0442\u0443\u0440\u043e\u043b\u043e\u0433 [\u0421\u0435\u0440\u0433\u0435\u0439 \u0412\u043b\u0430\u0434\u0438\u043c\u0438\u0440\u043e\u0432\u0438\u0447 \u041c\u0430\u0440\u043a\u0443\u0441](https://ru.wikipedia.org/wiki/%D0%9C%D0%B0%D1%80%D0%BA%D1%83%D1%81,_%D0%A1%D0%B5%D1%80%D0%B3%D0%B5%D0%B9_%D0%92%D0%BB%D0%B0%D0%B4%D0%B8%D0%BC%D0%B8%D1%80%D0%BE%D0%B2%D0%B8%D1%87). \\n\\n\u041b\u0438\u0447\u043d\u043e \u0441 \u0421\u0435\u0440\u0433\u0435\u0435\u043c \u0412\u043b\u0430\u0434\u0438\u043c\u0438\u0440\u043e\u0432\u0438\u0447\u0435\u043c \u044f \u043d\u0435 \u0432\u0438\u0434\u0435\u043b\u0430\u0441\u044c, \u0442\u043e\u043b\u044c\u043a\u043e \u0434\u0438\u0440\u0435\u043a\u0442\u043e\u0440 \u0426\u0422\u041d\u041a \u043f\u0435\u0440\u0435\u0434\u0430\u043b\u0430 \u0435\u0433\u043e \u0437\u0430\u043a\u0430\u0437: \u0441\u0434\u0435\u043b\u0430\u0442\u044c \u0440\u043e\u0441\u043f\u0438\u0441\u044c \u0431\u0443\u0442\u044b\u043b\u043a\u0438 \u0432\u0438\u0434\u0430\u043c\u0438 \u041a\u043e\u043b\u043e\u0433\u0440\u0438\u0432\u0430. \u0417\u0430 \u0440\u0430\u0431\u043e\u0442\u0443 \u044f \u0432\u0437\u044f\u043b\u0430\u0441\u044c \u043e\u0445\u043e\u0442\u043d\u043e: \u0432\u043e-\u043f\u0435\u0440\u0432\u044b\u0445, \u043d\u0430\u043a\u043e\u043d\u0435\u0446-\u0442\u043e \u043d\u0435 \u043f\u043e\u0442\u043e\u043a\u043e\u0432\u0430\u044f \u0441\u0443\u0432\u0435\u043d\u0438\u0440\u043a\u0430, \u0430 \u0432\u0435\u0449\u044c, \u043d\u0430\u0434 \u043a\u043e\u0442\u043e\u0440\u043e\u0439 \u043d\u0430\u0434\u043e \u0434\u043e\u043b\u0433\u043e \u0438 \u0442\u0449\u0430\u0442\u0435\u043b\u044c\u043d\u043e \u0440\u0430\u0431\u043e\u0442\u0430\u0442\u044c \u0437\u0430 \u0445\u043e\u0440\u043e\u0448\u0443\u044e \u0446\u0435\u043d\u0443, \u0438 \u044d\u0442\u043e -  \u0432\u043e-\u0432\u0442\u043e\u0440\u044b\u0445.\\n\\n\u0411\u0443\u0442\u044b\u043b\u043a\u0443 \u0434\u043b\u044f \u0440\u043e\u0441\u043f\u0438\u0441\u0438 \u043c\u043d\u0435 \u0432\u044b\u0434\u0430\u043b\u0438. \u0418\u0437-\u043f\u043e\u0434 \u0447\u0435\u0433\u043e \u0431\u044b\u043b\u0430 \u044d\u0442\u0430 \u0442\u0430\u0440\u0430, \u044f \u043d\u0435 \u0437\u043d\u0430\u044e. \u0421\u043a\u0430\u0437\u0430\u043b\u0438, \u0447\u0442\u043e \u0431\u044b\u043b\u0430 \u043d\u0430\u0439\u0434\u0435\u043d\u0430 \u0432 \u043a\u0430\u043a\u043e\u043c-\u0442\u043e \u0441\u0442\u0430\u0440\u043e\u043c \u0437\u0430\u0431\u0440\u043e\u0448\u0435\u043d\u043d\u043e\u043c \u0434\u043e\u043c\u0435. \u042d\u0441\u043a\u0438\u0437 \u0440\u0438\u0441\u0443\u043d\u043a\u0430 \u043c\u043d\u0435 \u0441\u0440\u0430\u0437\u0443 \u043f\u0440\u0438\u0448\u0435\u043b \u0432 \u0433\u043e\u043b\u043e\u0432\u0443. \u0411\u044b\u043b\u043e \u0440\u0435\u0448\u0435\u043d\u043e \u0437\u0430\u043f\u0435\u0447\u0430\u0442\u043b\u0435\u0442\u044c \u0442\u0440\u0438 \u043c\u0435\u0441\u0442\u043d\u044b\u0445 \u0434\u043e\u0441\u0442\u043e\u043f\u0440\u0438\u043c\u0435\u0447\u0430\u0442\u0435\u043b\u044c\u043d\u043e\u0441\u0442\u0438: \u0423\u0441\u043f\u0435\u043d\u0441\u043a\u0438\u0439 \u0441\u043e\u0431\u043e\u0440 \u0432 \u041a\u043e\u043b\u043e\u0433\u0440\u0438\u0432\u0435, \u0442\u0435\u0445\u043d\u0438\u043a\u0443\u043c \u0438\u043c. \u0427\u0438\u0436\u043e\u0432\u0430 \u0432 \u0415\u043a\u0438\u043c\u0446\u0435\u0432\u0435 \u0438 \u0431\u0435\u0441\u0435\u0434\u043a\u0443 \u0415\u0444\u0438\u043c\u043e\u0432\u0430 \u043a\u043b\u044e\u0447\u0438\u043a\u0430 \u0432 \u0428\u0430\u0431\u043b\u043e\u0432\u0435 (\u0415\u043a\u0438\u043c\u0446\u0435\u0432\u043e \u0438 \u0428\u0430\u0431\u043b\u043e\u0432\u043e \u2013 \u0434\u0435\u0440\u0435\u0432\u043d\u0438 \u041a\u043e\u043b\u043e\u0433\u0440\u0438\u0432\u0441\u043a\u043e\u0433\u043e \u0440\u0430\u0439\u043e\u043d\u0430).  \\n\\n\u0420\u0430\u0431\u043e\u0442\u0430 \u043f\u043e\u0448\u043b\u0430 \u043b\u0435\u0433\u043a\u043e. \u041f\u043e\u043c\u043d\u044e, \u0447\u0442\u043e, \u0432 \u043e\u0442\u043b\u0438\u0447\u0438\u0435 \u043e\u0442 \u043c\u043d\u043e\u0433\u0438\u0445 \u0440\u0430\u0431\u043e\u0442, \u044f \u043d\u0438 \u0440\u0430\u0437\u0443 \u043d\u0435 \u0441\u043c\u044b\u0432\u0430\u043b\u0430 \u0440\u0438\u0441\u0443\u043d\u043e\u043a - \u0432\u0441\u0435 \u043c\u0430\u0437\u043a\u0438 \u043b\u043e\u0436\u0438\u043b\u0438\u0441\u044c \u0441\u0440\u0430\u0437\u0443 \u043d\u0430 \u0441\u0432\u043e\u0435 \u043c\u0435\u0441\u0442\u043e. \u0422\u043e\u0433\u0434\u0430 \u044f \u0440\u0438\u0441\u043e\u0432\u0430\u043b\u0430 \u0432\u0441\u0435 \u0442\u0435\u043c \u0436\u0435 \u043a\u0443\u043f\u043b\u0435\u043d\u043d\u044b\u043c \u043d\u0430\u0431\u043e\u0440\u043e\u043c \u043a\u0440\u0430\u0441\u043e\u043a \"\u0414\u0435\u043a\u043e\u043b\u0430\": 6 \u0446\u0432\u0435\u0442\u043e\u0432 + 2 \u043a\u043e\u043d\u0442\u0443\u0440\u0430, \u0441\u0435\u0440\u0435\u0431\u0440\u0438\u0441\u0442\u044b\u0439 \u0438 \u0437\u043e\u043b\u043e\u0442\u043e\u0439.\\n\\n\u0412\u043e\u0442 \u0447\u0442\u043e \u0443 \u043c\u0435\u043d\u044f \u043f\u043e\u043b\u0443\u0447\u0438\u043b\u043e\u0441\u044c:\\n\u0423\u0441\u043f\u0435\u043d\u0441\u043a\u0438\u0439 \u0441\u043e\u0431\u043e\u0440:\\n\\nhttps://pp.userapi.com/c841231/v841231184/35054/ICZiq9ecyms.jpg\\n\\n\u0414\u043b\u044f \u0441\u0440\u0430\u0432\u043d\u0435\u043d\u0438\u044f - \u0435\u0433\u043e \u0444\u043e\u0442\u043e, \u043f\u0440\u0430\u0432\u0434\u0430, \u0437\u0438\u043c\u043d\u0435\u0435:\\n\\nhttps://pp.userapi.com/c841231/v841231184/35024/AbSXQDnI34A.jpg\\n\\n\u0415\u0441\u043b\u0438 \u043f\u0440\u0438\u0441\u043c\u043e\u0442\u0440\u0438\u0442\u0435\u0441\u044c, \u0437\u0430 \u043a\u0440\u044b\u0448\u0435\u0439, \u0447\u0442\u043e \u0432\u043d\u0438\u0437\u0443 \u0444\u043e\u0442\u043e\u0433\u0440\u0430\u0444\u0438\u0438 \u043d\u0430 \u043f\u0435\u0440\u0435\u0434\u043d\u0435\u043c \u043f\u043b\u0430\u043d\u0435, \u043f\u0440\u043e\u0441\u043c\u0430\u0442\u0440\u0438\u0432\u0430\u044e\u0442\u0441\u044f \u0440\u043e\u0437\u043e\u0432\u043e\u0435 \u0434\u0432\u0443\u0445\u044d\u0442\u0430\u0436\u043d\u043e\u0435 \u0437\u043d\u0430\u043d\u0438\u0435 \u0441\u043f\u0440\u0430\u0432\u0430 \u0438 \u0434\u043e\u043c\u0438\u043a \u0441 \u043e\u0441\u0442\u0440\u043e\u0439 \u043a\u0440\u044b\u0448\u0435\u0439 \u0441\u043b\u0435\u0432\u0430, \u043a\u043e\u0442\u043e\u0440\u044b\u0435 \u043f\u0440\u0438\u0441\u0443\u0442\u0441\u0442\u0432\u0443\u044e\u0442 \u043d\u0430 \u0440\u043e\u0441\u043f\u0438\u0441\u0438.\\n\\n\u041a\u043e\u043b\u043e\u0433\u0440\u0438\u0432\u0441\u043a\u0438\u0439 \u0442\u0435\u0445\u043d\u0438\u043a\u0443\u043c \u0436\u0438\u0432\u043e\u0442\u043d\u043e\u0432\u043e\u0434\u0441\u0442\u0432\u0430:\\n\\nhttps://pp.userapi.com/c841231/v841231184/3505e/ViIKfrTlA4I.jpg\\n\\n\u0414\u043b\u044f \u0441\u0440\u0430\u0432\u043d\u0435\u043d\u0438\u044f \u0444\u043e\u0442\u043e, \u043f\u0440\u0430\u0432\u0434\u0430, \u043e\u043f\u044f\u0442\u044c \u043d\u0435 \u043b\u0435\u0442\u043e:\\n\\nhttps://pp.userapi.com/c841231/v841231184/3502e/f5c4NQntnLY.jpg\\n\\n\u0421 \u044d\u0442\u043e\u0433\u043e \u0440\u0430\u043a\u0443\u0440\u0441\u0430 \u043d\u0435 \u0432\u0438\u0434\u043d\u043e \u0437\u043d\u0430\u043c\u0435\u043d\u0438\u0442\u043e\u0439 \u043b\u0438\u043f\u043e\u0432\u043e\u0439 \u0430\u043b\u043b\u0435\u0438, \u043a\u043e\u0442\u043e\u0440\u0430\u044f \u043f\u0440\u0438\u0441\u0443\u0442\u0441\u0442\u0432\u0443\u0435\u0442 \u043d\u0430 \u0440\u043e\u0441\u043f\u0438\u0441\u0438. \u041d\u043e \u0432 \u0440\u0435\u0430\u043b\u044c\u043d\u043e\u0441\u0442\u0438 \u0430\u043b\u043b\u0435\u044f \u0432\u0441\u0435 \u0436\u0435 \u0435\u0441\u0442\u044c:\\n\\nhttps://pp.userapi.com/c841231/v841231184/35068/17ZP7vLB5BE.jpg\\n\\n\u0418 - \u0415\u0444\u0438\u043c\u043e\u0432 \u043a\u043b\u044e\u0447\u0438\u043a (\u043d\u0430\u0437\u0432\u0430\u043d\u043d\u044b\u0439 \u0432 \u0447\u0435\u0441\u0442\u044c \u043d\u0430\u0448\u0435\u0433\u043e \u043c\u0435\u0441\u0442\u043d\u043e\u0433\u043e \u0445\u0443\u0434\u043e\u0436\u043d\u0438\u043a\u0430 \u0415\u0444\u0438\u043c\u0430 \u0412\u0430\u0441\u0438\u043b\u044c\u0435\u0432\u0438\u0447\u0430 \u0427\u0435\u0441\u0442\u043d\u044f\u043a\u043e\u0432\u0430, \u043d\u0430 \u0440\u043e\u0434\u0438\u043d\u0435 \u0442\u0430\u043a\u0436\u0435 \u0438\u0437\u0432\u0435\u0441\u0442\u043d\u043e\u0433\u043e \u043a\u0430\u043a \u043c\u044b\u0441\u043b\u0438\u0442\u0435\u043b\u044c, \u043f\u0440\u0435\u0434\u0441\u043a\u0430\u0437\u0430\u0442\u0435\u043b\u044c \u0438 \u0446\u0435\u043b\u0438\u0442\u0435\u043b\u044c)\\n\\nhttps://pp.userapi.com/c841231/v841231184/3501a/8D8na-p-ZB0.jpg\\n\\n\u0424\u043e\u0442\u043e \u043a\u043b\u044e\u0447\u0438\u043a\u0430:\\n\\nhttps://pp.userapi.com/c841231/v841231184/35038/jzrIQ-D6cCc.jpg\\n\\n\u041d\u0430 \u043c\u043e\u0435\u043c \u0440\u0438\u0441\u0443\u043d\u043a\u0435 \u043d\u0435\u0442 \u043a\u0440\u0435\u0441\u0442\u0430 \u043d\u0430 \u043c\u0430\u043a\u0443\u0448\u043a\u0435 \u0431\u0435\u0441\u0435\u0434\u043a\u0438: \u044d\u0442\u043e \u043d\u0435 \u0438\u0434\u0435\u0439\u043d\u043e\u0435 \u043e\u0442\u0441\u0442\u0443\u043f\u043b\u0435\u043d\u0438\u0435, \u043f\u0440\u043e\u0441\u0442\u043e \u044d\u0442\u043e\u0442 \u043a\u0440\u0435\u0441\u0442 \u043d\u0435\u0441\u043a\u043e\u043b\u044c\u043a\u043e \u0440\u0430\u0437 \u0434\u0435\u043c\u043e\u043d\u0442\u0438\u0440\u043e\u0432\u0430\u043b\u0438 \u0438 \u0441\u0442\u0430\u0432\u0438\u043b\u0438 \u043d\u043e\u0432\u044b\u0439, \u0438 \u043d\u0430 \u0444\u043e\u0442\u043e, \u0441 \u043a\u043e\u0442\u043e\u0440\u043e\u0433\u043e \u0434\u0435\u043b\u0430\u043b\u0441\u044f \u0440\u0438\u0441\u0443\u043d\u043e\u043a, \u0435\u0433\u043e \u043d\u0435 \u0431\u044b\u043b\u043e.\\n\\n\u0411\u0443\u0442\u044b\u043b\u043a\u0443 \u044f \u0437\u0430\u043a\u043e\u043d\u0447\u0438\u043b\u0430 \u0438 \u043e\u0442\u0434\u0430\u043b\u0430 \u0432 \u0426\u0422\u041d\u041a. \u0414\u0438\u0440\u0435\u043a\u0442\u043e\u0440 \u043f\u043e\u0441\u043b\u0430\u043b\u0430 \u0444\u043e\u0442\u043e \u0440\u0430\u0431\u043e\u0442\u044b \u0437\u0430\u043a\u0430\u0437\u0447\u0438\u043a\u0443, \u0435\u043c\u0443 \u043e\u0447\u0435\u043d\u044c \u043f\u043e\u043d\u0440\u0430\u0432\u0438\u043b\u043e\u0441\u044c. \u0411\u044b\u043b\u043e \u0440\u0435\u0448\u0435\u043d\u043e, \u0447\u0442\u043e \u0437\u0430 \u0431\u0443\u0442\u044b\u043b\u043a\u043e\u0439 \u043f\u0440\u0438\u0435\u0434\u0435\u0442 \u0435\u0433\u043e \u0434\u0440\u0443\u0433, \u0444\u043e\u0442\u043e\u0433\u0440\u0430\u0444 \u0438 \u043a\u0438\u043d\u043e\u043e\u043f\u0435\u0440\u0430\u0442\u043e\u0440 [\u0424\u0435\u0434\u043e\u0440 \u0411\u0430\u043a\u0443\u043b\u0438\u043d](http://rgdoc.ru/industry/professional/1257-fyedor-bakulin/). \u0417\u0430\u043e\u0434\u043d\u043e \u043e\u043d \u043f\u043e\u043f\u0440\u043e\u0441\u0438\u043b \u0441\u0434\u0435\u043b\u0430\u0442\u044c \u0444\u043e\u0442\u043e\u0441\u0435\u0441\u0441\u0438\u044e \u043c\u0435\u043d\u044f - \u0430\u0432\u0442\u043e\u0440\u0430 \u0441 \u043c\u043e\u0435\u0439 \u0440\u0430\u0431\u043e\u0442\u043e\u0439. \u0412\u043e\u0442 \u0444\u043e\u0442\u043e\u0433\u0440\u0430\u0444\u0438\u0438 \u0430\u0432\u0442\u043e\u0440\u0441\u0442\u0432\u0430 \u0424\u0435\u0434\u043e\u0440\u0430 \u0411\u0430\u043a\u0443\u043b\u0438\u043d\u0430:\\n\\nhttps://pp.userapi.com/c841231/v841231184/34fd4/7w06k8jSADk.jpg\\n\\nhttps://pp.userapi.com/c841231/v841231184/34fde/aYdpANDRlDg.jpg\\n\\n\u0414\u0430, \u0442\u0443\u0442 \u043c\u043d\u0435 18 \u043b\u0435\u0442:)  \u041e \u0434\u0440\u0443\u0433\u043e\u0439 \u043c\u043e\u0435\u0439 \u0440\u0430\u0431\u043e\u0442\u0435 \u0432 \u0442\u0435\u0445\u043d\u0438\u043a\u0435 \u0440\u043e\u0441\u043f\u0438\u0441\u0438 \u043f\u043e \u0441\u0442\u0435\u043a\u043b\u0443 \u043c\u043e\u0436\u043d\u043e \u043f\u0440\u043e\u0447\u0438\u0442\u0430\u0442\u044c [\u0437\u0434\u0435\u0441\u044c](https://golos.io/ru--tvorchestvo/@a-n-n-a/moe-rukodelie-rospis-po-steklu-servanty)'"
       ]
      }
     ],
     "prompt_number": 105
    },
    {
     "cell_type": "code",
     "collapsed": false,
     "input": [
      "comment_df.to_csv(\"./posts.csv\")"
     ],
     "language": "python",
     "metadata": {},
     "outputs": [],
     "prompt_number": 102
    }
   ],
   "metadata": {}
  }
 ]
}