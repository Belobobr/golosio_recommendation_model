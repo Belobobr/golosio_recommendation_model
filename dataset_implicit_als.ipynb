{
 "metadata": {
  "name": "",
  "signature": "sha256:df7f1bb6b7b4512bc77c169f7ff7b6a4c7d86a0c0e1f160fdb77eae1dd5e892f"
 },
 "nbformat": 3,
 "nbformat_minor": 0,
 "worksheets": [
  {
   "cells": [
    {
     "cell_type": "markdown",
     "metadata": {},
     "source": [
      "### Create dataset for FFM from golos events"
     ]
    },
    {
     "cell_type": "code",
     "collapsed": false,
     "input": [
      "import pandas as pd\n",
      "events = pd.read_csv(\"./datasets/events_golos_io_09-23_nov_2017.csv\")"
     ],
     "language": "python",
     "metadata": {},
     "outputs": []
    },
    {
     "cell_type": "code",
     "collapsed": false,
     "input": [
      "events[\"from_post\"] = events[\"refurl\"].apply(lambda x: str(x).count('/') >= 5)"
     ],
     "language": "python",
     "metadata": {},
     "outputs": []
    },
    {
     "cell_type": "code",
     "collapsed": false,
     "input": [
      "events = events.fillna(\"nan\")\n",
      "nan_events = events[(events[\"event_type\"] == \"PageView\") & (events[\"value\"] == \"nan\") & (events[\"from_post\"])]\n",
      "nan_events[\"value\"] = nan_events[\"refurl\"]"
     ],
     "language": "python",
     "metadata": {},
     "outputs": []
    },
    {
     "cell_type": "code",
     "collapsed": false,
     "input": [
      "events[(events[\"event_type\"] == \"PageView\") & (events[\"value\"].apply(lambda x: str(x) == \"[]\"))]"
     ],
     "language": "python",
     "metadata": {},
     "outputs": []
    },
    {
     "cell_type": "markdown",
     "metadata": {},
     "source": [
      "For each user\n",
      "- Get recommendations\n",
      "- Get views history\n",
      "- Get votes history\n",
      "- Get \"clear\" votes history (vote with page view)\n",
      "- Get comments history"
     ]
    },
    {
     "cell_type": "code",
     "collapsed": false,
     "input": [
      "def parse_array(string):\n",
      "    if string == \"[]\": \n",
      "        return []\n",
      "    string = string.replace(\"[\", \"\").replace(\"]\", \"\")\n",
      "    return string.split(\",\")"
     ],
     "language": "python",
     "metadata": {},
     "outputs": []
    },
    {
     "cell_type": "code",
     "collapsed": false,
     "input": [
      "events[\"from_same_page\"] = [str(x[\"value\"]) in str(x[\"refurl\"]) for _, x in events.iterrows()]"
     ],
     "language": "python",
     "metadata": {},
     "outputs": []
    },
    {
     "cell_type": "code",
     "collapsed": false,
     "input": [
      "users_posts = pd.DataFrame()\n",
      "recommendations = []\n",
      "views = []\n",
      "votes = []\n",
      "clear_votes = []\n",
      "comments = []\n",
      "users_number = events[\"user_id\"].unique().shape[0]\n",
      "\n",
      "for index, user in enumerate(events[\"user_id\"].unique()):\n",
      "    print(float(index / users_number) * 100, end=\"\\r\")\n",
      "    user_events = events[events[\"user_id\"] == user]\n",
      "    user_recommendations = [parse_array(x) for x in user_events[user_events[\"event_type\"] == \"PageView\"][\"value\"] if \"[\" in str(x)]\n",
      "    recommendations.append([item for sublist in user_recommendations for item in sublist])\n",
      "    views.append([x for x in user_events[user_events[\"event_type\"] == \"PageView\"][\"refurl\"] if str(x).count(\"/\") >= 5])\n",
      "    votes.append([x for x in user_events[(user_events[\"event_type\"] == \"Vote\")][\"value\"]])\n",
      "    clear_votes.append([x for x in user_events[(user_events[\"event_type\"] == \"Vote\") & (user_events[\"from_same_page\"])][\"value\"]])\n",
      "    comments.append([x for x in user_events[user_events[\"event_type\"] == \"Comment\"][\"refurl\"]])"
     ],
     "language": "python",
     "metadata": {},
     "outputs": []
    },
    {
     "cell_type": "code",
     "collapsed": false,
     "input": [
      "import numpy as np\n",
      "users_posts[\"recommendations\"] = [np.unique(x) for x in recommendations]\n",
      "users_posts[\"views\"] = [np.unique(x) for x in views]\n",
      "users_posts[\"votes\"] = [np.unique(x) for x in votes]\n",
      "users_posts[\"clear_votes\"] = [np.unique(x) for x in clear_votes]\n",
      "users_posts[\"comments\"] = [np.unique(x) for x in comments]\n",
      "users_posts[\"user\"] = events[\"user_id\"].unique()"
     ],
     "language": "python",
     "metadata": {},
     "outputs": []
    },
    {
     "cell_type": "markdown",
     "metadata": {},
     "source": [
      "Normalize links for each type of event"
     ]
    },
    {
     "cell_type": "code",
     "collapsed": false,
     "input": [
      "users_posts[\"recommendations\"] = users_posts[\"recommendations\"].apply(lambda x: [\"@\" + s[1:-1] for s in x])"
     ],
     "language": "python",
     "metadata": {},
     "outputs": []
    },
    {
     "cell_type": "code",
     "collapsed": false,
     "input": [
      "users_posts[\"views\"] = users_posts[\"views\"].apply(lambda x: [\"/\".join(s.split(\"/\")[4:]) for s in x])"
     ],
     "language": "python",
     "metadata": {},
     "outputs": []
    },
    {
     "cell_type": "code",
     "collapsed": false,
     "input": [
      "users_posts[\"comments\"] = users_posts[\"comments\"].apply(lambda x: [\"/\".join(str(s).split(\"/\")[4:]) for s in x])"
     ],
     "language": "python",
     "metadata": {},
     "outputs": []
    },
    {
     "cell_type": "code",
     "collapsed": false,
     "input": [
      "events[events[\"from_same_page\"]].shape[0]/events[events[\"event_type\"] == \"Vote\"].shape[0]"
     ],
     "language": "python",
     "metadata": {},
     "outputs": []
    },
    {
     "cell_type": "markdown",
     "metadata": {},
     "source": [
      "Create dataset from events\n",
      "- Clear vote - 1\n",
      "- Comment - 1\n",
      "- Vote after page view - 1\n",
      "- Vote - 0.5\n",
      "- Page view - 0.5\n",
      "- Recommendation without page view - -1"
     ]
    },
    {
     "cell_type": "code",
     "collapsed": false,
     "input": [
      "dataset = pd.DataFrame()\n",
      "users = []\n",
      "posts = []\n",
      "likes = []\n",
      "number = users_posts.shape[0]\n",
      "\n",
      "for index, row in users_posts.iterrows():\n",
      "    print(float(index / number) * 100, end=\"\\r\")\n",
      "    user_posts = [row[\"views\"], row[\"comments\"], row[\"votes\"], row[\"clear_votes\"], row[\"recommendations\"]]\n",
      "    user_posts = np.unique([item for sublist in user_posts for item in sublist])\n",
      "    for post in user_posts:\n",
      "        users.append(row[\"user\"])\n",
      "        posts.append(post)\n",
      "        if post in row[\"clear_votes\"]:\n",
      "            likes.append(1)\n",
      "        elif post in row[\"comments\"]:\n",
      "            likes.append(1)\n",
      "        elif (post in row[\"votes\"]) and (post in row[\"views\"]):\n",
      "            likes.append(1)\n",
      "        elif (post in row[\"votes\"]) or (post in row[\"views\"]):\n",
      "            likes.append(0.5)\n",
      "        elif (post in row[\"recommendations\"]):\n",
      "            likes.append(-1)\n",
      "        else:\n",
      "            likes.append(0) # WTF"
     ],
     "language": "python",
     "metadata": {},
     "outputs": []
    },
    {
     "cell_type": "code",
     "collapsed": false,
     "input": [
      "dataset[\"user_id\"] = users\n",
      "dataset[\"post_permlink\"] = posts\n",
      "dataset[\"like\"] = likes"
     ],
     "language": "python",
     "metadata": {},
     "outputs": []
    },
    {
     "cell_type": "code",
     "collapsed": false,
     "input": [
      "dataset.to_csv(\"./events.csv\")"
     ],
     "language": "python",
     "metadata": {},
     "outputs": []
    },
    {
     "cell_type": "markdown",
     "metadata": {},
     "source": [
      "Extract votes and comments from mongo"
     ]
    },
    {
     "cell_type": "code",
     "collapsed": false,
     "input": [
      "from pymongo import MongoClient\n",
      "import numpy as np\n",
      "import pandas as pd\n",
      "\n",
      "client = MongoClient(\"localhost:27017\")\n",
      "database = client[\"steemdb_1\"]\n",
      "collection_vote = database[\"vote\"]\n",
      "\n",
      "votes_df = pd.DataFrame(list(collection_vote.find({'_id' : {'$exists' : True},\n",
      "                                                      'permlink': {'$exists' : True},\n",
      "                                                      'voter' : {'$exists' : True},\n",
      "                                                      '_ts' : {'$exists' : True},\n",
      "                                                       },                                              \n",
      "\n",
      "                                                     {'_id': 1, \n",
      "                                                      'permlink': 1,\n",
      "                                                      'voter': 1, \n",
      "                                                      '_ts': 1,\n",
      "                                                      })))"
     ],
     "language": "python",
     "metadata": {},
     "outputs": []
    },
    {
     "cell_type": "code",
     "collapsed": false,
     "input": [
      "votes_df.to_csv(\"./votes.csv\")"
     ],
     "language": "python",
     "metadata": {},
     "outputs": []
    },
    {
     "cell_type": "code",
     "collapsed": false,
     "input": [
      "collection_comment = database[\"comment\"]\n",
      "comment_df = pd.DataFrame(list(collection_comment.find({'_id' : {'$exists' : True},\n",
      "                                                      'permlink': {'$exists' : True},\n",
      "                                                      'author' : {'$exists' : True},\n",
      "                                                      'last_payout' : {'$exists' : True},\n",
      "                                                      'reward_weight' : {'$exists' : True},\n",
      "                                                      'net_rshares' : {'$exists' : True},\n",
      "                                                      'net_votes' : {'$exists' : True},\n",
      "                                                      'total_payout_value' : {'$exists' : True},\n",
      "                                                      'root_comment' : {'$exists' : True},\n",
      "                                                      'last_payout' : {'$exists' : True},\n",
      "                                                      'depth': 0\n",
      "                                                       },                                              \n",
      "\n",
      "                                                     {'_id': 1, \n",
      "                                                      'permlink': 1,\n",
      "                                                      'author': 1, \n",
      "                                                      'title': 1,\n",
      "                                                      'body' : 1,\n",
      "                                                      'depth' : 1,\n",
      "                                                      'parent_permlink': 1,\n",
      "                                                      'created': 1,\n",
      "                                                      'json_metadata': 1})))"
     ],
     "language": "python",
     "metadata": {},
     "outputs": []
    },
    {
     "cell_type": "code",
     "collapsed": false,
     "input": [
      "pd.to_datetime(comment_df[\"created\"]).max()"
     ],
     "language": "python",
     "metadata": {},
     "outputs": []
    },
    {
     "cell_type": "markdown",
     "metadata": {},
     "source": [
      "Prepare comments\n",
      "- Normalize permlink\n",
      "- Extract tags and parent permlink and add it to a body"
     ]
    },
    {
     "cell_type": "code",
     "collapsed": false,
     "input": [
      "comment_df[\"post_permlink\"] = [\"@\" + x[\"author\"] + \"/\" + x[\"permlink\"] for _, x in comment_df.iterrows()]"
     ],
     "language": "python",
     "metadata": {},
     "outputs": []
    },
    {
     "cell_type": "code",
     "collapsed": false,
     "input": [
      "def extract_tags(x):\n",
      "    test = \"test\"\n",
      "    if str(x).count(\"{\") == 0:\n",
      "        return []\n",
      "    x = eval(str(x))\n",
      "    if 'tags' in x:\n",
      "        return x['tags']\n",
      "    else:\n",
      "        return []"
     ],
     "language": "python",
     "metadata": {},
     "outputs": []
    },
    {
     "cell_type": "code",
     "collapsed": false,
     "input": [
      "comment_df[\"tags\"] = comment_df[\"json_metadata\"].apply(extract_tags)"
     ],
     "language": "python",
     "metadata": {},
     "outputs": []
    },
    {
     "cell_type": "code",
     "collapsed": false,
     "input": [
      "comment_df[\"tags\"]"
     ],
     "language": "python",
     "metadata": {},
     "outputs": []
    },
    {
     "cell_type": "code",
     "collapsed": false,
     "input": [
      "body = []\n",
      "for _, post in comment_df.iterrows():\n",
      "    body.append(\" \".join(post[\"tags\"]) + \" \" + post[\"parent_permlink\"] + \" \" + post[\"title\"] + \" \" + post[\"body\"])\n",
      "comment_df[\"body\"] = body"
     ],
     "language": "python",
     "metadata": {},
     "outputs": []
    },
    {
     "cell_type": "code",
     "collapsed": false,
     "input": [
      "comment_df.iloc[10][\"body\"]"
     ],
     "language": "python",
     "metadata": {},
     "outputs": []
    },
    {
     "cell_type": "code",
     "collapsed": false,
     "input": [
      "comment_df.to_csv(\"./posts.csv\")"
     ],
     "language": "python",
     "metadata": {},
     "outputs": []
    }
   ],
   "metadata": {}
  }
 ]
}