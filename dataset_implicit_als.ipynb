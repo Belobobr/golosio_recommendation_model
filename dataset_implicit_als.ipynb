{
 "metadata": {
  "name": "",
  "signature": "sha256:4fb29928c16715ec39d44a7dfd8eaef00b1bfcfe79adb6ab49cd840504e45363"
 },
 "nbformat": 3,
 "nbformat_minor": 0,
 "worksheets": [
  {
   "cells": [
    {
     "cell_type": "markdown",
     "metadata": {},
     "source": [
      "### Create dataset for FFM from golos events"
     ]
    },
    {
     "cell_type": "markdown",
     "metadata": {},
     "source": [
      "Remove excess events from dataset"
     ]
    },
    {
     "cell_type": "code",
     "collapsed": false,
     "input": [
      "import pandas as pd\n",
      "import numpy as np\n",
      "events = pd.read_csv(\"events_golos_io_11_dec_2017.csv\", nrows=3277856)"
     ],
     "language": "python",
     "metadata": {},
     "outputs": [],
     "prompt_number": 341
    },
    {
     "cell_type": "code",
     "collapsed": false,
     "input": [
      "events.shape"
     ],
     "language": "python",
     "metadata": {},
     "outputs": [
      {
       "metadata": {},
       "output_type": "pyout",
       "prompt_number": 342,
       "text": [
        "(3277856, 7)"
       ]
      }
     ],
     "prompt_number": 342
    },
    {
     "cell_type": "code",
     "collapsed": false,
     "input": [
      "events = events.loc[events[\"created_at\"].dropna().index]"
     ],
     "language": "python",
     "metadata": {},
     "outputs": [],
     "prompt_number": 343
    },
    {
     "cell_type": "code",
     "collapsed": false,
     "input": [
      "events = events.loc[events[\"user_id\"].dropna().index]"
     ],
     "language": "python",
     "metadata": {},
     "outputs": [],
     "prompt_number": 344
    },
    {
     "cell_type": "code",
     "collapsed": false,
     "input": [
      "events[\"from_post\"] = events[\"refurl\"].apply(lambda x: str(x).count('/') >= 5)"
     ],
     "language": "python",
     "metadata": {},
     "outputs": [],
     "prompt_number": 345
    },
    {
     "cell_type": "code",
     "collapsed": false,
     "input": [
      "events = events.fillna(\"nan\")\n",
      "nan_events = events[(events[\"event_type\"] == \"PageView\") & (events[\"value\"] == \"nan\") & (events[\"from_post\"])]\n",
      "events.loc[nan_events.index][\"value\"] = nan_events[\"refurl\"]"
     ],
     "language": "python",
     "metadata": {},
     "outputs": [],
     "prompt_number": 346
    },
    {
     "cell_type": "markdown",
     "metadata": {},
     "source": [
      "Find user_id mapping"
     ]
    },
    {
     "cell_type": "code",
     "collapsed": false,
     "input": [
      "accounts = pd.read_csv(\"accounts_golos_io_23_nov_2017.csv\")"
     ],
     "language": "python",
     "metadata": {},
     "outputs": [],
     "prompt_number": 348
    },
    {
     "cell_type": "code",
     "collapsed": false,
     "input": [
      "accounts[accounts[\"name\"] == \"groovybear\"]"
     ],
     "language": "python",
     "metadata": {},
     "outputs": [
      {
       "html": [
        "<div style=\"max-width:1500px;overflow:auto;\">\n",
        "<style>\n",
        "    .dataframe thead tr:only-child th {\n",
        "        text-align: right;\n",
        "    }\n",
        "\n",
        "    .dataframe thead th {\n",
        "        text-align: left;\n",
        "    }\n",
        "\n",
        "    .dataframe tbody tr th {\n",
        "        vertical-align: top;\n",
        "    }\n",
        "</style>\n",
        "<table border=\"1\" class=\"dataframe\">\n",
        "  <thead>\n",
        "    <tr style=\"text-align: right;\">\n",
        "      <th></th>\n",
        "      <th>id</th>\n",
        "      <th>user_id</th>\n",
        "      <th>name</th>\n",
        "      <th>ignored</th>\n",
        "      <th>created_at</th>\n",
        "      <th>updated_at</th>\n",
        "    </tr>\n",
        "  </thead>\n",
        "  <tbody>\n",
        "    <tr>\n",
        "      <th>15866</th>\n",
        "      <td>15910</td>\n",
        "      <td>20823</td>\n",
        "      <td>groovybear</td>\n",
        "      <td>NaN</td>\n",
        "      <td>2017-06-13 21:52:51</td>\n",
        "      <td>2017-06-13 21:52:51</td>\n",
        "    </tr>\n",
        "  </tbody>\n",
        "</table>\n",
        "</div>"
       ],
       "metadata": {},
       "output_type": "pyout",
       "prompt_number": 349,
       "text": [
        "          id  user_id        name  ignored           created_at  \\\n",
        "15866  15910    20823  groovybear      NaN  2017-06-13 21:52:51   \n",
        "\n",
        "                updated_at  \n",
        "15866  2017-06-13 21:52:51  "
       ]
      }
     ],
     "prompt_number": 349
    },
    {
     "cell_type": "code",
     "collapsed": false,
     "input": [
      "usernames = pd.DataFrame()\n",
      "usernames[\"user_id\"] = ids\n",
      "usernames[\"username\"] = username"
     ],
     "language": "python",
     "metadata": {},
     "outputs": [],
     "prompt_number": 350
    },
    {
     "cell_type": "markdown",
     "metadata": {},
     "source": [
      "Find periods"
     ]
    },
    {
     "cell_type": "code",
     "collapsed": false,
     "input": [
      "t_max = pd.to_datetime(events[\"created_at\"]).max()\n",
      "t_min = pd.to_datetime(events[\"created_at\"]).min()"
     ],
     "language": "python",
     "metadata": {},
     "outputs": [],
     "prompt_number": 191
    },
    {
     "cell_type": "code",
     "collapsed": false,
     "input": [
      "t_min"
     ],
     "language": "python",
     "metadata": {},
     "outputs": [
      {
       "metadata": {},
       "output_type": "pyout",
       "prompt_number": 192,
       "text": [
        "Timestamp('2017-11-09 00:00:04')"
       ]
      }
     ],
     "prompt_number": 192
    },
    {
     "cell_type": "code",
     "collapsed": false,
     "input": [
      "t_max"
     ],
     "language": "python",
     "metadata": {},
     "outputs": [
      {
       "metadata": {},
       "output_type": "pyout",
       "prompt_number": 193,
       "text": [
        "Timestamp('2017-11-18 12:41:34')"
       ]
      }
     ],
     "prompt_number": 193
    },
    {
     "cell_type": "code",
     "collapsed": false,
     "input": [
      "timedelta = (t_max - t_min)"
     ],
     "language": "python",
     "metadata": {},
     "outputs": [],
     "prompt_number": 194
    },
    {
     "cell_type": "code",
     "collapsed": false,
     "input": [
      "timedelta = timedelta / 9"
     ],
     "language": "python",
     "metadata": {},
     "outputs": [],
     "prompt_number": 195
    },
    {
     "cell_type": "code",
     "collapsed": false,
     "input": [
      "periods = [(t_min + timedelta*start, t_min + timedelta*finish) for start, finish in zip(range(0, 9), range(1, 10))]"
     ],
     "language": "python",
     "metadata": {},
     "outputs": [],
     "prompt_number": 196
    },
    {
     "cell_type": "code",
     "collapsed": false,
     "input": [
      "periods"
     ],
     "language": "python",
     "metadata": {},
     "outputs": [
      {
       "metadata": {},
       "output_type": "pyout",
       "prompt_number": 197,
       "text": [
        "[(Timestamp('2017-11-09 00:00:04'),\n",
        "  Timestamp('2017-11-10 01:24:40.666666666')),\n",
        " (Timestamp('2017-11-10 01:24:40.666666666'),\n",
        "  Timestamp('2017-11-11 02:49:17.333333332')),\n",
        " (Timestamp('2017-11-11 02:49:17.333333332'),\n",
        "  Timestamp('2017-11-12 04:13:53.999999998')),\n",
        " (Timestamp('2017-11-12 04:13:53.999999998'),\n",
        "  Timestamp('2017-11-13 05:38:30.666666664')),\n",
        " (Timestamp('2017-11-13 05:38:30.666666664'),\n",
        "  Timestamp('2017-11-14 07:03:07.333333330')),\n",
        " (Timestamp('2017-11-14 07:03:07.333333330'),\n",
        "  Timestamp('2017-11-15 08:27:43.999999996')),\n",
        " (Timestamp('2017-11-15 08:27:43.999999996'),\n",
        "  Timestamp('2017-11-16 09:52:20.666666662')),\n",
        " (Timestamp('2017-11-16 09:52:20.666666662'),\n",
        "  Timestamp('2017-11-17 11:16:57.333333328')),\n",
        " (Timestamp('2017-11-17 11:16:57.333333328'),\n",
        "  Timestamp('2017-11-18 12:41:33.999999994'))]"
       ]
      }
     ],
     "prompt_number": 197
    },
    {
     "cell_type": "markdown",
     "metadata": {},
     "source": [
      "For each user and each period\n",
      "- Get recommendations\n",
      "- Get views history\n",
      "- Get votes history\n",
      "- Get \"clear\" votes history (vote with page view)\n",
      "- Get comments history"
     ]
    },
    {
     "cell_type": "code",
     "collapsed": false,
     "input": [
      "def parse_array(string):\n",
      "    if string == \"[]\": \n",
      "        return []\n",
      "    string = string.replace(\"[\", \"\").replace(\"]\", \"\")\n",
      "    return string.split(\",\")"
     ],
     "language": "python",
     "metadata": {},
     "outputs": [],
     "prompt_number": 353
    },
    {
     "cell_type": "code",
     "collapsed": false,
     "input": [
      "events[\"from_same_page\"] = [str(x[\"value\"]) in str(x[\"refurl\"]) for _, x in events.iterrows()]"
     ],
     "language": "python",
     "metadata": {},
     "outputs": [],
     "prompt_number": 354
    },
    {
     "cell_type": "code",
     "collapsed": false,
     "input": [
      "events['created_at'] = pd.to_datetime(events['created_at'])"
     ],
     "language": "python",
     "metadata": {},
     "outputs": [],
     "prompt_number": 355
    },
    {
     "cell_type": "code",
     "collapsed": false,
     "input": [
      "from tqdm import *\n",
      "users_posts = pd.DataFrame()\n",
      "recommendations = []\n",
      "views = []\n",
      "votes = []\n",
      "clear_votes = []\n",
      "comments = []\n",
      "# period_numbers = []\n",
      "users = []\n",
      "users_number = events[\"user_id\"].unique().shape[0]\n",
      "for user in tqdm(events[\"user_id\"].unique()):\n",
      "#     for period, (start, end) in enumerate(periods):\n",
      "#     user_events = events[(events[\"user_id\"] == user) & (events['created_at'] > start) & (events['created_at'] < end)]\n",
      "    user_events = events[events[\"user_id\"] == user]\n",
      "    user_recommendations = [parse_array(x) for x in user_events[user_events[\"event_type\"] == \"PageView\"][\"value\"] if \"[\" in str(x)]\n",
      "    recommendations.append([item for sublist in user_recommendations for item in sublist])\n",
      "    views.append([x for x in user_events[user_events[\"event_type\"] == \"PageView\"][\"refurl\"] if str(x).count(\"/\") >= 5])\n",
      "    votes.append([x for x in user_events[(user_events[\"event_type\"] == \"Vote\")][\"value\"]])\n",
      "    clear_votes.append([x for x in user_events[(user_events[\"event_type\"] == \"Vote\") & (user_events[\"from_same_page\"])][\"value\"]])\n",
      "    comments.append([x for x in user_events[user_events[\"event_type\"] == \"Comment\"][\"refurl\"]])\n",
      "    users.append(user)\n",
      "#     period_numbers.append(period)"
     ],
     "language": "python",
     "metadata": {},
     "outputs": [
      {
       "output_type": "stream",
       "stream": "stderr",
       "text": [
        "\r",
        "  0%|          | 0/9182 [00:00<?, ?it/s]"
       ]
      },
      {
       "output_type": "stream",
       "stream": "stderr",
       "text": [
        "\r",
        "  0%|          | 4/9182 [00:00<06:25, 23.81it/s]"
       ]
      },
      {
       "output_type": "stream",
       "stream": "stderr",
       "text": [
        "\r",
        "  0%|          | 12/9182 [00:00<03:37, 42.19it/s]"
       ]
      },
      {
       "output_type": "stream",
       "stream": "stderr",
       "text": [
        "\r",
        "  0%|          | 17/9182 [00:00<03:28, 43.89it/s]"
       ]
      },
      {
       "output_type": "stream",
       "stream": "stderr",
       "text": [
        "\r",
        "  0%|          | 24/9182 [00:00<03:09, 48.32it/s]"
       ]
      },
      {
       "output_type": "stream",
       "stream": "stderr",
       "text": [
        "\r",
        "  0%|          | 31/9182 [00:00<02:56, 51.83it/s]"
       ]
      },
      {
       "output_type": "stream",
       "stream": "stderr",
       "text": [
        "\r",
        "  0%|          | 38/9182 [00:00<02:55, 52.15it/s]"
       ]
      },
      {
       "output_type": "stream",
       "stream": "stderr",
       "text": [
        "\r",
        "  0%|          | 44/9182 [00:00<02:52, 52.89it/s]"
       ]
      },
      {
       "output_type": "stream",
       "stream": "stderr",
       "text": [
        "\r",
        "  1%|          | 51/9182 [00:00<02:48, 54.18it/s]"
       ]
      },
      {
       "output_type": "stream",
       "stream": "stderr",
       "text": [
        "\r",
        "  1%|          | 61/9182 [00:01<02:36, 58.43it/s]"
       ]
      },
      {
       "output_type": "stream",
       "stream": "stderr",
       "text": [
        "\r",
        "  1%|          | 68/9182 [00:01<02:35, 58.45it/s]"
       ]
      },
      {
       "output_type": "stream",
       "stream": "stderr",
       "text": [
        "\r",
        "  1%|          | 77/9182 [00:01<02:30, 60.43it/s]"
       ]
      },
      {
       "output_type": "stream",
       "stream": "stderr",
       "text": [
        "\r",
        "  1%|          | 89/9182 [00:01<02:20, 64.73it/s]"
       ]
      },
      {
       "output_type": "stream",
       "stream": "stderr",
       "text": [
        "\r",
        "  1%|          | 98/9182 [00:01<02:17, 66.07it/s]"
       ]
      },
      {
       "output_type": "stream",
       "stream": "stderr",
       "text": [
        "\r",
        "  1%|          | 108/9182 [00:01<02:13, 68.21it/s]"
       ]
      },
      {
       "output_type": "stream",
       "stream": "stderr",
       "text": [
        "\r",
        "  1%|\u258f         | 118/9182 [00:01<02:09, 70.04it/s]"
       ]
      },
      {
       "output_type": "stream",
       "stream": "stderr",
       "text": [
        "\r",
        "  1%|\u258f         | 128/9182 [00:01<02:06, 71.66it/s]"
       ]
      },
      {
       "output_type": "stream",
       "stream": "stderr",
       "text": [
        "\r",
        "  2%|\u258f         | 140/9182 [00:01<02:02, 74.00it/s]"
       ]
      },
      {
       "output_type": "stream",
       "stream": "stderr",
       "text": [
        "\r",
        "  2%|\u258f         | 153/9182 [00:02<01:58, 76.44it/s]"
       ]
      },
      {
       "output_type": "stream",
       "stream": "stderr",
       "text": [
        "\r",
        "  2%|\u258f         | 166/9182 [00:02<01:54, 78.66it/s]"
       ]
      },
      {
       "output_type": "stream",
       "stream": "stderr",
       "text": [
        "\r",
        "  2%|\u258f         | 179/9182 [00:02<01:51, 80.88it/s]"
       ]
      },
      {
       "output_type": "stream",
       "stream": "stderr",
       "text": [
        "\r",
        "  2%|\u258f         | 191/9182 [00:02<01:50, 81.30it/s]"
       ]
      },
      {
       "output_type": "stream",
       "stream": "stderr",
       "text": [
        "\r",
        "  2%|\u258f         | 202/9182 [00:09<06:56, 21.58it/s]"
       ]
      },
      {
       "output_type": "stream",
       "stream": "stderr",
       "text": [
        "\r",
        "  2%|\u258f         | 212/9182 [00:09<06:40, 22.40it/s]"
       ]
      },
      {
       "output_type": "stream",
       "stream": "stderr",
       "text": [
        "\r",
        "  2%|\u258f         | 223/9182 [00:09<06:24, 23.29it/s]"
       ]
      },
      {
       "output_type": "stream",
       "stream": "stderr",
       "text": [
        "\r",
        "  3%|\u258e         | 232/9182 [00:09<06:13, 23.95it/s]"
       ]
      },
      {
       "output_type": "stream",
       "stream": "stderr",
       "text": [
        "\r",
        "  3%|\u258e         | 242/9182 [00:09<06:01, 24.71it/s]"
       ]
      },
      {
       "output_type": "stream",
       "stream": "stderr",
       "text": [
        "\r",
        "  3%|\u258e         | 254/9182 [00:09<05:47, 25.68it/s]"
       ]
      },
      {
       "output_type": "stream",
       "stream": "stderr",
       "text": [
        "\r",
        "  3%|\u258e         | 266/9182 [00:09<05:34, 26.62it/s]"
       ]
      },
      {
       "output_type": "stream",
       "stream": "stderr",
       "text": [
        "\r",
        "  3%|\u258e         | 279/9182 [00:10<05:22, 27.63it/s]"
       ]
      },
      {
       "output_type": "stream",
       "stream": "stderr",
       "text": [
        "\r",
        "  3%|\u258e         | 291/9182 [00:10<05:11, 28.50it/s]"
       ]
      },
      {
       "output_type": "stream",
       "stream": "stderr",
       "text": [
        "\r",
        "  3%|\u258e         | 304/9182 [00:10<05:01, 29.47it/s]"
       ]
      },
      {
       "output_type": "stream",
       "stream": "stderr",
       "text": [
        "\r",
        "  3%|\u258e         | 316/9182 [00:10<04:53, 30.23it/s]"
       ]
      },
      {
       "output_type": "stream",
       "stream": "stderr",
       "text": [
        "\r",
        "  4%|\u258e         | 327/9182 [00:10<04:46, 30.94it/s]"
       ]
      },
      {
       "output_type": "stream",
       "stream": "stderr",
       "text": [
        "\r",
        "  4%|\u258e         | 338/9182 [00:10<04:39, 31.67it/s]"
       ]
      },
      {
       "output_type": "stream",
       "stream": "stderr",
       "text": [
        "\r",
        "  4%|\u258d         | 349/9182 [00:10<04:32, 32.36it/s]"
       ]
      },
      {
       "output_type": "stream",
       "stream": "stderr",
       "text": [
        "\r",
        "  4%|\u258d         | 360/9182 [00:10<04:26, 33.04it/s]"
       ]
      },
      {
       "output_type": "stream",
       "stream": "stderr",
       "text": [
        "\r",
        "  4%|\u258d         | 374/9182 [00:11<04:19, 33.99it/s]"
       ]
      },
      {
       "output_type": "stream",
       "stream": "stderr",
       "text": [
        "\r",
        "  4%|\u258d         | 386/9182 [00:11<04:13, 34.77it/s]"
       ]
      },
      {
       "output_type": "stream",
       "stream": "stderr",
       "text": [
        "\r",
        "  4%|\u258d         | 398/9182 [00:11<04:07, 35.48it/s]"
       ]
      },
      {
       "output_type": "stream",
       "stream": "stderr",
       "text": [
        "\r",
        "  4%|\u258d         | 410/9182 [00:11<04:02, 36.13it/s]"
       ]
      },
      {
       "output_type": "stream",
       "stream": "stderr",
       "text": [
        "\r",
        "  5%|\u258d         | 421/9182 [00:11<03:58, 36.76it/s]"
       ]
      },
      {
       "output_type": "stream",
       "stream": "stderr",
       "text": [
        "\r",
        "  5%|\u258d         | 434/9182 [00:11<03:52, 37.56it/s]"
       ]
      },
      {
       "output_type": "stream",
       "stream": "stderr",
       "text": [
        "\r",
        "  5%|\u258d         | 446/9182 [00:11<03:48, 38.21it/s]"
       ]
      },
      {
       "output_type": "stream",
       "stream": "stderr",
       "text": [
        "\r",
        "  5%|\u258d         | 457/9182 [00:11<03:44, 38.81it/s]"
       ]
      },
      {
       "output_type": "stream",
       "stream": "stderr",
       "text": [
        "\r",
        "  5%|\u258c         | 469/9182 [00:11<03:40, 39.48it/s]"
       ]
      },
      {
       "output_type": "stream",
       "stream": "stderr",
       "text": [
        "\r",
        "  5%|\u258c         | 481/9182 [00:12<03:37, 40.01it/s]"
       ]
      },
      {
       "output_type": "stream",
       "stream": "stderr",
       "text": [
        "\r",
        "  5%|\u258c         | 492/9182 [00:12<03:35, 40.40it/s]"
       ]
      },
      {
       "output_type": "stream",
       "stream": "stderr",
       "text": [
        "\r",
        "  5%|\u258c         | 502/9182 [00:12<03:32, 40.84it/s]"
       ]
      },
      {
       "output_type": "stream",
       "stream": "stderr",
       "text": [
        "\r",
        "  6%|\u258c         | 512/9182 [00:12<03:30, 41.09it/s]"
       ]
      },
      {
       "output_type": "stream",
       "stream": "stderr",
       "text": [
        "\r",
        "  6%|\u258c         | 521/9182 [00:12<03:29, 41.40it/s]"
       ]
      },
      {
       "output_type": "stream",
       "stream": "stderr",
       "text": [
        "\r",
        "  6%|\u258c         | 532/9182 [00:12<03:26, 41.94it/s]"
       ]
      },
      {
       "output_type": "stream",
       "stream": "stderr",
       "text": [
        "\r",
        "  6%|\u258c         | 543/9182 [00:12<03:23, 42.45it/s]"
       ]
      },
      {
       "output_type": "stream",
       "stream": "stderr",
       "text": [
        "\r",
        "  6%|\u258c         | 554/9182 [00:12<03:20, 42.95it/s]"
       ]
      },
      {
       "output_type": "stream",
       "stream": "stderr",
       "text": [
        "\r",
        "  6%|\u258c         | 565/9182 [00:13<03:18, 43.45it/s]"
       ]
      },
      {
       "output_type": "stream",
       "stream": "stderr",
       "text": [
        "\r",
        "  6%|\u258b         | 575/9182 [00:13<03:16, 43.85it/s]"
       ]
      },
      {
       "output_type": "stream",
       "stream": "stderr",
       "text": [
        "\r",
        "  6%|\u258b         | 587/9182 [00:13<03:13, 44.41it/s]"
       ]
      },
      {
       "output_type": "stream",
       "stream": "stderr",
       "text": [
        "\r",
        "  7%|\u258b         | 601/9182 [00:13<03:10, 45.12it/s]"
       ]
      },
      {
       "output_type": "stream",
       "stream": "stderr",
       "text": [
        "\r",
        "  7%|\u258b         | 613/9182 [00:13<03:09, 45.34it/s]"
       ]
      },
      {
       "output_type": "stream",
       "stream": "stderr",
       "text": [
        "\r",
        "  7%|\u258b         | 626/9182 [00:13<03:06, 45.91it/s]"
       ]
      },
      {
       "output_type": "stream",
       "stream": "stderr",
       "text": [
        "\r",
        "  7%|\u258b         | 637/9182 [00:13<03:04, 46.21it/s]"
       ]
      },
      {
       "output_type": "stream",
       "stream": "stderr",
       "text": [
        "\r",
        "  7%|\u258b         | 650/9182 [00:13<03:02, 46.81it/s]"
       ]
      },
      {
       "output_type": "stream",
       "stream": "stderr",
       "text": [
        "\r",
        "  7%|\u258b         | 664/9182 [00:13<02:59, 47.45it/s]"
       ]
      },
      {
       "output_type": "stream",
       "stream": "stderr",
       "text": [
        "\r",
        "  7%|\u258b         | 677/9182 [00:14<02:57, 48.01it/s]"
       ]
      },
      {
       "output_type": "stream",
       "stream": "stderr",
       "text": [
        "\r",
        "  8%|\u258a         | 689/9182 [00:14<02:55, 48.41it/s]"
       ]
      },
      {
       "output_type": "stream",
       "stream": "stderr",
       "text": [
        "\r",
        "  8%|\u258a         | 700/9182 [00:14<02:53, 48.80it/s]"
       ]
      },
      {
       "output_type": "stream",
       "stream": "stderr",
       "text": [
        "\r",
        "  8%|\u258a         | 713/9182 [00:14<02:51, 49.36it/s]"
       ]
      },
      {
       "output_type": "stream",
       "stream": "stderr",
       "text": [
        "\r",
        "  8%|\u258a         | 725/9182 [00:14<02:49, 49.76it/s]"
       ]
      },
      {
       "output_type": "stream",
       "stream": "stderr",
       "text": [
        "\r",
        "  8%|\u258a         | 736/9182 [00:14<02:48, 50.13it/s]"
       ]
      },
      {
       "output_type": "stream",
       "stream": "stderr",
       "text": [
        "\r",
        "  8%|\u258a         | 749/9182 [00:14<02:46, 50.67it/s]"
       ]
      },
      {
       "output_type": "stream",
       "stream": "stderr",
       "text": [
        "\r",
        "  8%|\u258a         | 761/9182 [00:14<02:45, 51.03it/s]"
       ]
      },
      {
       "output_type": "stream",
       "stream": "stderr",
       "text": [
        "\r",
        "  8%|\u258a         | 772/9182 [00:15<02:43, 51.37it/s]"
       ]
      },
      {
       "output_type": "stream",
       "stream": "stderr",
       "text": [
        "\r",
        "  9%|\u258a         | 783/9182 [00:15<02:42, 51.71it/s]"
       ]
      },
      {
       "output_type": "stream",
       "stream": "stderr",
       "text": [
        "\r",
        "  9%|\u258a         | 796/9182 [00:15<02:40, 52.19it/s]"
       ]
      },
      {
       "output_type": "stream",
       "stream": "stderr",
       "text": [
        "\r",
        "  9%|\u2589         | 807/9182 [00:15<02:39, 52.51it/s]"
       ]
      },
      {
       "output_type": "stream",
       "stream": "stderr",
       "text": [
        "\r",
        "  9%|\u2589         | 818/9182 [00:15<02:38, 52.88it/s]"
       ]
      },
      {
       "output_type": "stream",
       "stream": "stderr",
       "text": [
        "\r",
        "  9%|\u2589         | 829/9182 [00:15<02:37, 53.20it/s]"
       ]
      },
      {
       "output_type": "stream",
       "stream": "stderr",
       "text": [
        "\r",
        "  9%|\u2589         | 841/9182 [00:15<02:35, 53.62it/s]"
       ]
      },
      {
       "output_type": "stream",
       "stream": "stderr",
       "text": [
        "\r",
        "  9%|\u2589         | 855/9182 [00:15<02:33, 54.15it/s]"
       ]
      },
      {
       "output_type": "stream",
       "stream": "stderr",
       "text": [
        "\r",
        "  9%|\u2589         | 868/9182 [00:15<02:32, 54.62it/s]"
       ]
      },
      {
       "output_type": "stream",
       "stream": "stderr",
       "text": [
        "\r",
        " 10%|\u2589         | 880/9182 [00:15<02:30, 55.02it/s]"
       ]
      },
      {
       "output_type": "stream",
       "stream": "stderr",
       "text": [
        "\r",
        " 10%|\u2589         | 893/9182 [00:16<02:29, 55.46it/s]"
       ]
      },
      {
       "output_type": "stream",
       "stream": "stderr",
       "text": [
        "\r",
        " 10%|\u2589         | 905/9182 [00:16<02:28, 55.83it/s]"
       ]
      },
      {
       "output_type": "stream",
       "stream": "stderr",
       "text": [
        "\r",
        " 10%|\u2589         | 917/9182 [00:16<02:27, 56.14it/s]"
       ]
      },
      {
       "output_type": "stream",
       "stream": "stderr",
       "text": [
        "\r",
        " 10%|\u2588         | 930/9182 [00:16<02:25, 56.55it/s]"
       ]
      },
      {
       "output_type": "stream",
       "stream": "stderr",
       "text": [
        "\r",
        " 10%|\u2588         | 942/9182 [00:16<02:24, 56.89it/s]"
       ]
      },
      {
       "output_type": "stream",
       "stream": "stderr",
       "text": [
        "\r",
        " 10%|\u2588         | 955/9182 [00:16<02:23, 57.30it/s]"
       ]
      },
      {
       "output_type": "stream",
       "stream": "stderr",
       "text": [
        "\r",
        " 11%|\u2588         | 967/9182 [00:16<02:22, 57.56it/s]"
       ]
      },
      {
       "output_type": "stream",
       "stream": "stderr",
       "text": [
        "\r",
        " 11%|\u2588         | 980/9182 [00:16<02:21, 57.98it/s]"
       ]
      },
      {
       "output_type": "stream",
       "stream": "stderr",
       "text": [
        "\r",
        " 11%|\u2588         | 992/9182 [00:17<02:20, 58.21it/s]"
       ]
      },
      {
       "output_type": "stream",
       "stream": "stderr",
       "text": [
        "\r",
        " 11%|\u2588         | 1003/9182 [00:17<02:19, 58.52it/s]"
       ]
      },
      {
       "output_type": "stream",
       "stream": "stderr",
       "text": [
        "\r",
        " 11%|\u2588         | 1016/9182 [00:17<02:18, 58.91it/s]"
       ]
      },
      {
       "output_type": "stream",
       "stream": "stderr",
       "text": [
        "\r",
        " 11%|\u2588         | 1028/9182 [00:17<02:17, 59.22it/s]"
       ]
      },
      {
       "output_type": "stream",
       "stream": "stderr",
       "text": [
        "\r",
        " 11%|\u2588\u258f        | 1039/9182 [00:17<02:16, 59.47it/s]"
       ]
      },
      {
       "output_type": "stream",
       "stream": "stderr",
       "text": [
        "\r",
        " 11%|\u2588\u258f        | 1051/9182 [00:17<02:15, 59.81it/s]"
       ]
      },
      {
       "output_type": "stream",
       "stream": "stderr",
       "text": [
        "\r",
        " 12%|\u2588\u258f        | 1064/9182 [00:17<02:14, 60.20it/s]"
       ]
      },
      {
       "output_type": "stream",
       "stream": "stderr",
       "text": [
        "\r",
        " 12%|\u2588\u258f        | 1076/9182 [00:17<02:14, 60.45it/s]"
       ]
      },
      {
       "output_type": "stream",
       "stream": "stderr",
       "text": [
        "\r",
        " 12%|\u2588\u258f        | 1087/9182 [00:17<02:13, 60.72it/s]"
       ]
      },
      {
       "output_type": "stream",
       "stream": "stderr",
       "text": [
        "\r",
        " 12%|\u2588\u258f        | 1098/9182 [00:18<02:12, 60.99it/s]"
       ]
      },
      {
       "output_type": "stream",
       "stream": "stderr",
       "text": [
        "\r",
        " 12%|\u2588\u258f        | 1110/9182 [00:18<02:11, 61.30it/s]"
       ]
      },
      {
       "output_type": "stream",
       "stream": "stderr",
       "text": [
        "\r",
        " 12%|\u2588\u258f        | 1124/9182 [00:18<02:10, 61.72it/s]"
       ]
      },
      {
       "output_type": "stream",
       "stream": "stderr",
       "text": [
        "\r",
        " 12%|\u2588\u258f        | 1136/9182 [00:18<02:09, 61.97it/s]"
       ]
      },
      {
       "output_type": "stream",
       "stream": "stderr",
       "text": [
        "\r",
        " 13%|\u2588\u258e        | 1151/9182 [00:18<02:08, 62.43it/s]"
       ]
      },
      {
       "output_type": "stream",
       "stream": "stderr",
       "text": [
        "\r",
        " 13%|\u2588\u258e        | 1164/9182 [00:18<02:07, 62.75it/s]"
       ]
      },
      {
       "output_type": "stream",
       "stream": "stderr",
       "text": [
        "\r",
        " 13%|\u2588\u258e        | 1176/9182 [00:18<02:06, 63.05it/s]"
       ]
      },
      {
       "output_type": "stream",
       "stream": "stderr",
       "text": [
        "\r",
        " 13%|\u2588\u258e        | 1189/9182 [00:18<02:06, 63.40it/s]"
       ]
      },
      {
       "output_type": "stream",
       "stream": "stderr",
       "text": [
        "\r",
        " 13%|\u2588\u258e        | 1204/9182 [00:18<02:04, 63.84it/s]"
       ]
      },
      {
       "output_type": "stream",
       "stream": "stderr",
       "text": [
        "\r",
        " 13%|\u2588\u258e        | 1218/9182 [00:18<02:04, 64.21it/s]"
       ]
      },
      {
       "output_type": "stream",
       "stream": "stderr",
       "text": [
        "\r",
        " 13%|\u2588\u258e        | 1232/9182 [00:19<02:03, 64.61it/s]"
       ]
      },
      {
       "output_type": "stream",
       "stream": "stderr",
       "text": [
        "\r",
        " 14%|\u2588\u258e        | 1246/9182 [00:19<02:02, 64.84it/s]"
       ]
      },
      {
       "output_type": "stream",
       "stream": "stderr",
       "text": [
        "\r",
        " 14%|\u2588\u258e        | 1259/9182 [00:19<02:01, 65.15it/s]"
       ]
      },
      {
       "output_type": "stream",
       "stream": "stderr",
       "text": [
        "\r",
        " 14%|\u2588\u258d        | 1271/9182 [00:19<02:01, 65.36it/s]"
       ]
      },
      {
       "output_type": "stream",
       "stream": "stderr",
       "text": [
        "\r",
        " 14%|\u2588\u258d        | 1283/9182 [00:19<02:00, 65.61it/s]"
       ]
      },
      {
       "output_type": "stream",
       "stream": "stderr",
       "text": [
        "\r",
        " 14%|\u2588\u258d        | 1295/9182 [00:19<01:59, 65.89it/s]"
       ]
      },
      {
       "output_type": "stream",
       "stream": "stderr",
       "text": [
        "\r",
        " 14%|\u2588\u258d        | 1307/9182 [00:19<01:59, 66.15it/s]"
       ]
      },
      {
       "output_type": "stream",
       "stream": "stderr",
       "text": [
        "\r",
        " 14%|\u2588\u258d        | 1321/9182 [00:19<01:58, 66.49it/s]"
       ]
      },
      {
       "output_type": "stream",
       "stream": "stderr",
       "text": [
        "\r",
        " 15%|\u2588\u258d        | 1334/9182 [00:19<01:57, 66.80it/s]"
       ]
      },
      {
       "output_type": "stream",
       "stream": "stderr",
       "text": [
        "\r",
        " 15%|\u2588\u258d        | 1347/9182 [00:20<01:56, 67.10it/s]"
       ]
      },
      {
       "output_type": "stream",
       "stream": "stderr",
       "text": [
        "\r",
        " 15%|\u2588\u258d        | 1361/9182 [00:20<01:55, 67.43it/s]"
       ]
      },
      {
       "output_type": "stream",
       "stream": "stderr",
       "text": [
        "\r",
        " 15%|\u2588\u258d        | 1374/9182 [00:20<01:55, 67.66it/s]"
       ]
      },
      {
       "output_type": "stream",
       "stream": "stderr",
       "text": [
        "\r",
        " 15%|\u2588\u258c        | 1389/9182 [00:20<01:54, 68.06it/s]"
       ]
      },
      {
       "output_type": "stream",
       "stream": "stderr",
       "text": [
        "\r",
        " 15%|\u2588\u258c        | 1402/9182 [00:20<01:54, 68.24it/s]"
       ]
      },
      {
       "output_type": "stream",
       "stream": "stderr",
       "text": [
        "\r",
        " 15%|\u2588\u258c        | 1414/9182 [00:20<01:53, 68.49it/s]"
       ]
      },
      {
       "output_type": "stream",
       "stream": "stderr",
       "text": [
        "\r",
        " 16%|\u2588\u258c        | 1428/9182 [00:20<01:52, 68.80it/s]"
       ]
      },
      {
       "output_type": "stream",
       "stream": "stderr",
       "text": [
        "\r",
        " 16%|\u2588\u258c        | 1441/9182 [00:20<01:52, 68.98it/s]"
       ]
      },
      {
       "output_type": "stream",
       "stream": "stderr",
       "text": [
        "\r",
        " 16%|\u2588\u258c        | 1453/9182 [00:21<01:51, 69.19it/s]"
       ]
      },
      {
       "output_type": "stream",
       "stream": "stderr",
       "text": [
        "\r",
        " 16%|\u2588\u258c        | 1465/9182 [00:21<01:51, 69.38it/s]"
       ]
      },
      {
       "output_type": "stream",
       "stream": "stderr",
       "text": [
        "\r",
        " 16%|\u2588\u258c        | 1476/9182 [00:21<01:50, 69.47it/s]"
       ]
      },
      {
       "output_type": "stream",
       "stream": "stderr",
       "text": [
        "\r",
        " 16%|\u2588\u258c        | 1487/9182 [00:21<01:50, 69.66it/s]"
       ]
      },
      {
       "output_type": "stream",
       "stream": "stderr",
       "text": [
        "\r",
        " 16%|\u2588\u258b        | 1499/9182 [00:21<01:49, 69.88it/s]"
       ]
      },
      {
       "output_type": "stream",
       "stream": "stderr",
       "text": [
        "\r",
        " 16%|\u2588\u258b        | 1510/9182 [00:21<01:49, 70.01it/s]"
       ]
      },
      {
       "output_type": "stream",
       "stream": "stderr",
       "text": [
        "\r",
        " 17%|\u2588\u258b        | 1522/9182 [00:21<01:49, 70.24it/s]"
       ]
      },
      {
       "output_type": "stream",
       "stream": "stderr",
       "text": [
        "\r",
        " 17%|\u2588\u258b        | 1536/9182 [00:21<01:48, 70.55it/s]"
       ]
      },
      {
       "output_type": "stream",
       "stream": "stderr",
       "text": [
        "\r",
        " 17%|\u2588\u258b        | 1552/9182 [00:21<01:47, 70.95it/s]"
       ]
      },
      {
       "output_type": "stream",
       "stream": "stderr",
       "text": [
        "\r",
        " 17%|\u2588\u258b        | 1567/9182 [00:21<01:46, 71.31it/s]"
       ]
      },
      {
       "output_type": "stream",
       "stream": "stderr",
       "text": [
        "\r",
        " 17%|\u2588\u258b        | 1581/9182 [00:22<01:46, 71.52it/s]"
       ]
      },
      {
       "output_type": "stream",
       "stream": "stderr",
       "text": [
        "\r",
        " 17%|\u2588\u258b        | 1598/9182 [00:22<01:45, 71.95it/s]"
       ]
      },
      {
       "output_type": "stream",
       "stream": "stderr",
       "text": [
        "\r",
        " 18%|\u2588\u258a        | 1613/9182 [00:22<01:44, 72.24it/s]"
       ]
      },
      {
       "output_type": "stream",
       "stream": "stderr",
       "text": [
        "\r",
        " 18%|\u2588\u258a        | 1627/9182 [00:22<01:44, 72.52it/s]"
       ]
      },
      {
       "output_type": "stream",
       "stream": "stderr",
       "text": [
        "\r",
        " 18%|\u2588\u258a        | 1642/9182 [00:22<01:43, 72.85it/s]"
       ]
      },
      {
       "output_type": "stream",
       "stream": "stderr",
       "text": [
        "\r",
        " 18%|\u2588\u258a        | 1658/9182 [00:22<01:42, 73.24it/s]"
       ]
      },
      {
       "output_type": "stream",
       "stream": "stderr",
       "text": [
        "\r",
        " 18%|\u2588\u258a        | 1673/9182 [00:22<01:42, 73.57it/s]"
       ]
      },
      {
       "output_type": "stream",
       "stream": "stderr",
       "text": [
        "\r",
        " 18%|\u2588\u258a        | 1689/9182 [00:22<01:41, 73.94it/s]"
       ]
      },
      {
       "output_type": "stream",
       "stream": "stderr",
       "text": [
        "\r",
        " 19%|\u2588\u258a        | 1705/9182 [00:22<01:40, 74.30it/s]"
       ]
      },
      {
       "output_type": "stream",
       "stream": "stderr",
       "text": [
        "\r",
        " 19%|\u2588\u258a        | 1721/9182 [00:23<01:39, 74.66it/s]"
       ]
      },
      {
       "output_type": "stream",
       "stream": "stderr",
       "text": [
        "\r",
        " 19%|\u2588\u2589        | 1737/9182 [00:23<01:39, 74.96it/s]"
       ]
      },
      {
       "output_type": "stream",
       "stream": "stderr",
       "text": [
        "\r",
        " 19%|\u2588\u2589        | 1752/9182 [00:23<01:38, 75.26it/s]"
       ]
      },
      {
       "output_type": "stream",
       "stream": "stderr",
       "text": [
        "\r",
        " 19%|\u2588\u2589        | 1768/9182 [00:23<01:38, 75.61it/s]"
       ]
      },
      {
       "output_type": "stream",
       "stream": "stderr",
       "text": [
        "\r",
        " 19%|\u2588\u2589        | 1784/9182 [00:23<01:37, 75.97it/s]"
       ]
      },
      {
       "output_type": "stream",
       "stream": "stderr",
       "text": [
        "\r",
        " 20%|\u2588\u2589        | 1800/9182 [00:23<01:36, 76.31it/s]"
       ]
      },
      {
       "output_type": "stream",
       "stream": "stderr",
       "text": [
        "\r",
        " 20%|\u2588\u2589        | 1816/9182 [00:23<01:36, 76.61it/s]"
       ]
      },
      {
       "output_type": "stream",
       "stream": "stderr",
       "text": [
        "\r",
        " 20%|\u2588\u2589        | 1831/9182 [00:23<01:35, 76.91it/s]"
       ]
      },
      {
       "output_type": "stream",
       "stream": "stderr",
       "text": [
        "\r",
        " 20%|\u2588\u2588        | 1847/9182 [00:23<01:34, 77.24it/s]"
       ]
      },
      {
       "output_type": "stream",
       "stream": "stderr",
       "text": [
        "\r",
        " 20%|\u2588\u2588        | 1862/9182 [00:24<01:34, 77.54it/s]"
       ]
      },
      {
       "output_type": "stream",
       "stream": "stderr",
       "text": [
        "\r",
        " 20%|\u2588\u2588        | 1877/9182 [00:24<01:33, 77.81it/s]"
       ]
      },
      {
       "output_type": "stream",
       "stream": "stderr",
       "text": [
        "\r",
        " 21%|\u2588\u2588        | 1892/9182 [00:24<01:33, 78.11it/s]"
       ]
      },
      {
       "output_type": "stream",
       "stream": "stderr",
       "text": [
        "\r",
        " 21%|\u2588\u2588        | 1907/9182 [00:24<01:32, 78.38it/s]"
       ]
      },
      {
       "output_type": "stream",
       "stream": "stderr",
       "text": [
        "\r",
        " 21%|\u2588\u2588        | 1923/9182 [00:24<01:32, 78.71it/s]"
       ]
      },
      {
       "output_type": "stream",
       "stream": "stderr",
       "text": [
        "\r",
        " 21%|\u2588\u2588        | 1938/9182 [00:24<01:31, 78.99it/s]"
       ]
      },
      {
       "output_type": "stream",
       "stream": "stderr",
       "text": [
        "\r",
        " 21%|\u2588\u2588\u258f       | 1953/9182 [00:24<01:31, 79.26it/s]"
       ]
      },
      {
       "output_type": "stream",
       "stream": "stderr",
       "text": [
        "\r",
        " 21%|\u2588\u2588\u258f       | 1969/9182 [00:24<01:30, 79.58it/s]"
       ]
      },
      {
       "output_type": "stream",
       "stream": "stderr",
       "text": [
        "\r",
        " 22%|\u2588\u2588\u258f       | 1984/9182 [00:24<01:30, 79.85it/s]"
       ]
      },
      {
       "output_type": "stream",
       "stream": "stderr",
       "text": [
        "\r",
        " 22%|\u2588\u2588\u258f       | 2000/9182 [00:24<01:29, 80.17it/s]"
       ]
      },
      {
       "output_type": "stream",
       "stream": "stderr",
       "text": [
        "\r",
        " 22%|\u2588\u2588\u258f       | 2016/9182 [00:25<01:29, 80.47it/s]"
       ]
      },
      {
       "output_type": "stream",
       "stream": "stderr",
       "text": [
        "\r",
        " 22%|\u2588\u2588\u258f       | 2032/9182 [00:25<01:28, 80.67it/s]"
       ]
      },
      {
       "output_type": "stream",
       "stream": "stderr",
       "text": [
        "\r",
        " 22%|\u2588\u2588\u258f       | 2049/9182 [00:25<01:28, 81.01it/s]"
       ]
      },
      {
       "output_type": "stream",
       "stream": "stderr",
       "text": [
        "\r",
        " 22%|\u2588\u2588\u258f       | 2064/9182 [00:25<01:27, 81.28it/s]"
       ]
      },
      {
       "output_type": "stream",
       "stream": "stderr",
       "text": [
        "\r",
        " 23%|\u2588\u2588\u258e       | 2080/9182 [00:25<01:27, 81.58it/s]"
       ]
      },
      {
       "output_type": "stream",
       "stream": "stderr",
       "text": [
        "\r",
        " 23%|\u2588\u2588\u258e       | 2096/9182 [00:25<01:26, 81.79it/s]"
       ]
      },
      {
       "output_type": "stream",
       "stream": "stderr",
       "text": [
        "\r",
        " 23%|\u2588\u2588\u258e       | 2113/9182 [00:25<01:26, 82.11it/s]"
       ]
      },
      {
       "output_type": "stream",
       "stream": "stderr",
       "text": [
        "\r",
        " 23%|\u2588\u2588\u258e       | 2129/9182 [00:25<01:25, 82.40it/s]"
       ]
      },
      {
       "output_type": "stream",
       "stream": "stderr",
       "text": [
        "\r",
        " 23%|\u2588\u2588\u258e       | 2146/9182 [00:25<01:25, 82.72it/s]"
       ]
      },
      {
       "output_type": "stream",
       "stream": "stderr",
       "text": [
        "\r",
        " 24%|\u2588\u2588\u258e       | 2162/9182 [00:26<01:24, 83.00it/s]"
       ]
      },
      {
       "output_type": "stream",
       "stream": "stderr",
       "text": [
        "\r",
        " 24%|\u2588\u2588\u258e       | 2178/9182 [00:26<01:24, 83.28it/s]"
       ]
      },
      {
       "output_type": "stream",
       "stream": "stderr",
       "text": [
        "\r",
        " 24%|\u2588\u2588\u258d       | 2194/9182 [00:26<01:23, 83.57it/s]"
       ]
      },
      {
       "output_type": "stream",
       "stream": "stderr",
       "text": [
        "\r",
        " 24%|\u2588\u2588\u258d       | 2210/9182 [00:26<01:23, 83.84it/s]"
       ]
      },
      {
       "output_type": "stream",
       "stream": "stderr",
       "text": [
        "\r",
        " 24%|\u2588\u2588\u258d       | 2226/9182 [00:26<01:22, 84.08it/s]"
       ]
      },
      {
       "output_type": "stream",
       "stream": "stderr",
       "text": [
        "\r",
        " 24%|\u2588\u2588\u258d       | 2242/9182 [00:26<01:22, 84.37it/s]"
       ]
      },
      {
       "output_type": "stream",
       "stream": "stderr",
       "text": [
        "\r",
        " 25%|\u2588\u2588\u258d       | 2258/9182 [00:26<01:21, 84.62it/s]"
       ]
      },
      {
       "output_type": "stream",
       "stream": "stderr",
       "text": [
        "\r",
        " 25%|\u2588\u2588\u258d       | 2274/9182 [00:26<01:21, 84.86it/s]"
       ]
      },
      {
       "output_type": "stream",
       "stream": "stderr",
       "text": [
        "\r",
        " 25%|\u2588\u2588\u258d       | 2290/9182 [00:26<01:20, 85.11it/s]"
       ]
      },
      {
       "output_type": "stream",
       "stream": "stderr",
       "text": [
        "\r",
        " 25%|\u2588\u2588\u258c       | 2305/9182 [00:27<01:20, 85.31it/s]"
       ]
      },
      {
       "output_type": "stream",
       "stream": "stderr",
       "text": [
        "\r",
        " 25%|\u2588\u2588\u258c       | 2320/9182 [00:27<01:20, 85.53it/s]"
       ]
      },
      {
       "output_type": "stream",
       "stream": "stderr",
       "text": [
        "\r",
        " 25%|\u2588\u2588\u258c       | 2335/9182 [00:27<01:19, 85.76it/s]"
       ]
      },
      {
       "output_type": "stream",
       "stream": "stderr",
       "text": [
        "\r",
        " 26%|\u2588\u2588\u258c       | 2350/9182 [00:27<01:19, 85.98it/s]"
       ]
      },
      {
       "output_type": "stream",
       "stream": "stderr",
       "text": [
        "\r",
        " 26%|\u2588\u2588\u258c       | 2366/9182 [00:27<01:19, 86.24it/s]"
       ]
      },
      {
       "output_type": "stream",
       "stream": "stderr",
       "text": [
        "\r",
        " 26%|\u2588\u2588\u258c       | 2383/9182 [00:27<01:18, 86.53it/s]"
       ]
      },
      {
       "output_type": "stream",
       "stream": "stderr",
       "text": [
        "\r",
        " 26%|\u2588\u2588\u258c       | 2400/9182 [00:27<01:18, 86.82it/s]"
       ]
      },
      {
       "output_type": "stream",
       "stream": "stderr",
       "text": [
        "\r",
        " 26%|\u2588\u2588\u258b       | 2416/9182 [00:27<01:17, 87.07it/s]"
       ]
      },
      {
       "output_type": "stream",
       "stream": "stderr",
       "text": [
        "\r",
        " 26%|\u2588\u2588\u258b       | 2432/9182 [00:27<01:17, 87.33it/s]"
       ]
      },
      {
       "output_type": "stream",
       "stream": "stderr",
       "text": [
        "\r",
        " 27%|\u2588\u2588\u258b       | 2449/9182 [00:27<01:16, 87.62it/s]"
       ]
      },
      {
       "output_type": "stream",
       "stream": "stderr",
       "text": [
        "\r",
        " 27%|\u2588\u2588\u258b       | 2465/9182 [00:28<01:16, 87.85it/s]"
       ]
      },
      {
       "output_type": "stream",
       "stream": "stderr",
       "text": [
        "\r",
        " 27%|\u2588\u2588\u258b       | 2481/9182 [00:28<01:16, 88.10it/s]"
       ]
      },
      {
       "output_type": "stream",
       "stream": "stderr",
       "text": [
        "\r",
        " 27%|\u2588\u2588\u258b       | 2498/9182 [00:28<01:15, 88.37it/s]"
       ]
      },
      {
       "output_type": "stream",
       "stream": "stderr",
       "text": [
        "\r",
        " 27%|\u2588\u2588\u258b       | 2514/9182 [00:28<01:15, 88.62it/s]"
       ]
      },
      {
       "output_type": "stream",
       "stream": "stderr",
       "text": [
        "\r",
        " 28%|\u2588\u2588\u258a       | 2530/9182 [00:28<01:14, 88.86it/s]"
       ]
      },
      {
       "output_type": "stream",
       "stream": "stderr",
       "text": [
        "\r",
        " 28%|\u2588\u2588\u258a       | 2546/9182 [00:28<01:14, 89.10it/s]"
       ]
      },
      {
       "output_type": "stream",
       "stream": "stderr",
       "text": [
        "\r",
        " 28%|\u2588\u2588\u258a       | 2563/9182 [00:28<01:14, 89.38it/s]"
       ]
      },
      {
       "output_type": "stream",
       "stream": "stderr",
       "text": [
        "\r",
        " 28%|\u2588\u2588\u258a       | 2580/9182 [00:28<01:13, 89.65it/s]"
       ]
      },
      {
       "output_type": "stream",
       "stream": "stderr",
       "text": [
        "\r",
        " 28%|\u2588\u2588\u258a       | 2597/9182 [00:28<01:13, 89.89it/s]"
       ]
      },
      {
       "output_type": "stream",
       "stream": "stderr",
       "text": [
        "\r",
        " 28%|\u2588\u2588\u258a       | 2614/9182 [00:28<01:12, 90.16it/s]"
       ]
      },
      {
       "output_type": "stream",
       "stream": "stderr",
       "text": [
        "\r",
        " 29%|\u2588\u2588\u258a       | 2631/9182 [00:29<01:12, 90.33it/s]"
       ]
      },
      {
       "output_type": "stream",
       "stream": "stderr",
       "text": [
        "\r",
        " 29%|\u2588\u2588\u2589       | 2648/9182 [00:29<01:12, 90.59it/s]"
       ]
      },
      {
       "output_type": "stream",
       "stream": "stderr",
       "text": [
        "\r",
        " 29%|\u2588\u2588\u2589       | 2664/9182 [00:29<01:11, 90.82it/s]"
       ]
      },
      {
       "output_type": "stream",
       "stream": "stderr",
       "text": [
        "\r",
        " 29%|\u2588\u2588\u2589       | 2681/9182 [00:29<01:11, 91.08it/s]"
       ]
      },
      {
       "output_type": "stream",
       "stream": "stderr",
       "text": [
        "\r",
        " 29%|\u2588\u2588\u2589       | 2698/9182 [00:29<01:10, 91.34it/s]"
       ]
      },
      {
       "output_type": "stream",
       "stream": "stderr",
       "text": [
        "\r",
        " 30%|\u2588\u2588\u2589       | 2715/9182 [00:29<01:10, 91.57it/s]"
       ]
      },
      {
       "output_type": "stream",
       "stream": "stderr",
       "text": [
        "\r",
        " 30%|\u2588\u2588\u2589       | 2731/9182 [00:29<01:10, 91.77it/s]"
       ]
      },
      {
       "output_type": "stream",
       "stream": "stderr",
       "text": [
        "\r",
        " 30%|\u2588\u2588\u2589       | 2747/9182 [00:29<01:09, 91.97it/s]"
       ]
      },
      {
       "output_type": "stream",
       "stream": "stderr",
       "text": [
        "\r",
        " 30%|\u2588\u2588\u2588       | 2764/9182 [00:29<01:09, 92.21it/s]"
       ]
      },
      {
       "output_type": "stream",
       "stream": "stderr",
       "text": [
        "\r",
        " 30%|\u2588\u2588\u2588       | 2781/9182 [00:30<01:09, 92.45it/s]"
       ]
      },
      {
       "output_type": "stream",
       "stream": "stderr",
       "text": [
        "\r",
        " 30%|\u2588\u2588\u2588       | 2797/9182 [00:30<01:08, 92.67it/s]"
       ]
      },
      {
       "output_type": "stream",
       "stream": "stderr",
       "text": [
        "\r",
        " 31%|\u2588\u2588\u2588       | 2814/9182 [00:30<01:08, 92.92it/s]"
       ]
      },
      {
       "output_type": "stream",
       "stream": "stderr",
       "text": [
        "\r",
        " 31%|\u2588\u2588\u2588       | 2830/9182 [00:30<01:08, 93.12it/s]"
       ]
      },
      {
       "output_type": "stream",
       "stream": "stderr",
       "text": [
        "\r",
        " 31%|\u2588\u2588\u2588       | 2847/9182 [00:30<01:07, 93.36it/s]"
       ]
      },
      {
       "output_type": "stream",
       "stream": "stderr",
       "text": [
        "\r",
        " 31%|\u2588\u2588\u2588       | 2863/9182 [00:30<01:07, 93.38it/s]"
       ]
      },
      {
       "output_type": "stream",
       "stream": "stderr",
       "text": [
        "\r",
        " 31%|\u2588\u2588\u2588\u258f      | 2878/9182 [00:30<01:07, 93.55it/s]"
       ]
      },
      {
       "output_type": "stream",
       "stream": "stderr",
       "text": [
        "\r",
        " 32%|\u2588\u2588\u2588\u258f      | 2894/9182 [00:30<01:07, 93.75it/s]"
       ]
      },
      {
       "output_type": "stream",
       "stream": "stderr",
       "text": [
        "\r",
        " 32%|\u2588\u2588\u2588\u258f      | 2911/9182 [00:30<01:06, 93.99it/s]"
       ]
      },
      {
       "output_type": "stream",
       "stream": "stderr",
       "text": [
        "\r",
        " 32%|\u2588\u2588\u2588\u258f      | 2927/9182 [00:31<01:06, 94.20it/s]"
       ]
      },
      {
       "output_type": "stream",
       "stream": "stderr",
       "text": [
        "\r",
        " 32%|\u2588\u2588\u2588\u258f      | 2944/9182 [00:31<01:06, 94.42it/s]"
       ]
      },
      {
       "output_type": "stream",
       "stream": "stderr",
       "text": [
        "\r",
        " 32%|\u2588\u2588\u2588\u258f      | 2960/9182 [00:31<01:05, 94.62it/s]"
       ]
      },
      {
       "output_type": "stream",
       "stream": "stderr",
       "text": [
        "\r",
        " 32%|\u2588\u2588\u2588\u258f      | 2977/9182 [00:31<01:05, 94.84it/s]"
       ]
      },
      {
       "output_type": "stream",
       "stream": "stderr",
       "text": [
        "\r",
        " 33%|\u2588\u2588\u2588\u258e      | 2993/9182 [00:31<01:05, 95.05it/s]"
       ]
      },
      {
       "output_type": "stream",
       "stream": "stderr",
       "text": [
        "\r",
        " 33%|\u2588\u2588\u2588\u258e      | 3010/9182 [00:31<01:04, 95.27it/s]"
       ]
      },
      {
       "output_type": "stream",
       "stream": "stderr",
       "text": [
        "\r",
        " 33%|\u2588\u2588\u2588\u258e      | 3027/9182 [00:31<01:04, 95.50it/s]"
       ]
      },
      {
       "output_type": "stream",
       "stream": "stderr",
       "text": [
        "\r",
        " 33%|\u2588\u2588\u2588\u258e      | 3044/9182 [00:31<01:04, 95.72it/s]"
       ]
      },
      {
       "output_type": "stream",
       "stream": "stderr",
       "text": [
        "\r",
        " 33%|\u2588\u2588\u2588\u258e      | 3061/9182 [00:31<01:03, 95.92it/s]"
       ]
      },
      {
       "output_type": "stream",
       "stream": "stderr",
       "text": [
        "\r",
        " 34%|\u2588\u2588\u2588\u258e      | 3078/9182 [00:32<01:03, 96.14it/s]"
       ]
      },
      {
       "output_type": "stream",
       "stream": "stderr",
       "text": [
        "\r",
        " 34%|\u2588\u2588\u2588\u258e      | 3095/9182 [00:32<01:03, 96.34it/s]"
       ]
      },
      {
       "output_type": "stream",
       "stream": "stderr",
       "text": [
        "\r",
        " 34%|\u2588\u2588\u2588\u258d      | 3112/9182 [00:32<01:02, 96.56it/s]"
       ]
      },
      {
       "output_type": "stream",
       "stream": "stderr",
       "text": [
        "\r",
        " 34%|\u2588\u2588\u2588\u258d      | 3129/9182 [00:32<01:02, 96.76it/s]"
       ]
      },
      {
       "output_type": "stream",
       "stream": "stderr",
       "text": [
        "\r",
        " 34%|\u2588\u2588\u2588\u258d      | 3146/9182 [00:32<01:02, 96.97it/s]"
       ]
      },
      {
       "output_type": "stream",
       "stream": "stderr",
       "text": [
        "\r",
        " 34%|\u2588\u2588\u2588\u258d      | 3163/9182 [00:32<01:01, 97.17it/s]"
       ]
      },
      {
       "output_type": "stream",
       "stream": "stderr",
       "text": [
        "\r",
        " 35%|\u2588\u2588\u2588\u258d      | 3180/9182 [00:32<01:01, 97.38it/s]"
       ]
      },
      {
       "output_type": "stream",
       "stream": "stderr",
       "text": [
        "\r",
        " 35%|\u2588\u2588\u2588\u258d      | 3196/9182 [00:32<01:01, 97.57it/s]"
       ]
      },
      {
       "output_type": "stream",
       "stream": "stderr",
       "text": [
        "\r",
        " 35%|\u2588\u2588\u2588\u258d      | 3212/9182 [00:32<01:01, 97.75it/s]"
       ]
      },
      {
       "output_type": "stream",
       "stream": "stderr",
       "text": [
        "\r",
        " 35%|\u2588\u2588\u2588\u258c      | 3228/9182 [00:32<01:00, 97.93it/s]"
       ]
      },
      {
       "output_type": "stream",
       "stream": "stderr",
       "text": [
        "\r",
        " 35%|\u2588\u2588\u2588\u258c      | 3244/9182 [00:33<01:00, 98.11it/s]"
       ]
      },
      {
       "output_type": "stream",
       "stream": "stderr",
       "text": [
        "\r",
        " 36%|\u2588\u2588\u2588\u258c      | 3260/9182 [00:33<01:00, 98.29it/s]"
       ]
      },
      {
       "output_type": "stream",
       "stream": "stderr",
       "text": [
        "\r",
        " 36%|\u2588\u2588\u2588\u258c      | 3277/9182 [00:33<00:59, 98.49it/s]"
       ]
      },
      {
       "output_type": "stream",
       "stream": "stderr",
       "text": [
        "\r",
        " 36%|\u2588\u2588\u2588\u258c      | 3293/9182 [00:33<00:59, 98.67it/s]"
       ]
      },
      {
       "output_type": "stream",
       "stream": "stderr",
       "text": [
        "\r",
        " 36%|\u2588\u2588\u2588\u258c      | 3309/9182 [00:33<00:59, 98.85it/s]"
       ]
      },
      {
       "output_type": "stream",
       "stream": "stderr",
       "text": [
        "\r",
        " 36%|\u2588\u2588\u2588\u258c      | 3326/9182 [00:33<00:59, 99.04it/s]"
       ]
      },
      {
       "output_type": "stream",
       "stream": "stderr",
       "text": [
        "\r",
        " 36%|\u2588\u2588\u2588\u258b      | 3343/9182 [00:33<00:58, 99.24it/s]"
       ]
      },
      {
       "output_type": "stream",
       "stream": "stderr",
       "text": [
        "\r",
        " 37%|\u2588\u2588\u2588\u258b      | 3359/9182 [00:33<00:58, 99.41it/s]"
       ]
      },
      {
       "output_type": "stream",
       "stream": "stderr",
       "text": [
        "\r",
        " 37%|\u2588\u2588\u2588\u258b      | 3375/9182 [00:33<00:58, 99.58it/s]"
       ]
      },
      {
       "output_type": "stream",
       "stream": "stderr",
       "text": [
        "\r",
        " 37%|\u2588\u2588\u2588\u258b      | 3392/9182 [00:33<00:58, 99.77it/s]"
       ]
      },
      {
       "output_type": "stream",
       "stream": "stderr",
       "text": [
        "\r",
        " 37%|\u2588\u2588\u2588\u258b      | 3408/9182 [00:34<00:57, 99.94it/s]"
       ]
      },
      {
       "output_type": "stream",
       "stream": "stderr",
       "text": [
        "\r",
        " 37%|\u2588\u2588\u2588\u258b      | 3424/9182 [00:34<00:57, 100.11it/s]"
       ]
      },
      {
       "output_type": "stream",
       "stream": "stderr",
       "text": [
        "\r",
        " 37%|\u2588\u2588\u2588\u258b      | 3440/9182 [00:34<00:57, 100.28it/s]"
       ]
      },
      {
       "output_type": "stream",
       "stream": "stderr",
       "text": [
        "\r",
        " 38%|\u2588\u2588\u2588\u258a      | 3456/9182 [00:34<00:57, 100.44it/s]"
       ]
      },
      {
       "output_type": "stream",
       "stream": "stderr",
       "text": [
        "\r",
        " 38%|\u2588\u2588\u2588\u258a      | 3473/9182 [00:34<00:56, 100.63it/s]"
       ]
      },
      {
       "output_type": "stream",
       "stream": "stderr",
       "text": [
        "\r",
        " 38%|\u2588\u2588\u2588\u258a      | 3489/9182 [00:34<00:56, 100.77it/s]"
       ]
      },
      {
       "output_type": "stream",
       "stream": "stderr",
       "text": [
        "\r",
        " 38%|\u2588\u2588\u2588\u258a      | 3506/9182 [00:34<00:56, 100.96it/s]"
       ]
      },
      {
       "output_type": "stream",
       "stream": "stderr",
       "text": [
        "\r",
        " 38%|\u2588\u2588\u2588\u258a      | 3522/9182 [00:34<00:55, 101.12it/s]"
       ]
      },
      {
       "output_type": "stream",
       "stream": "stderr",
       "text": [
        "\r",
        " 39%|\u2588\u2588\u2588\u258a      | 3539/9182 [00:34<00:55, 101.30it/s]"
       ]
      },
      {
       "output_type": "stream",
       "stream": "stderr",
       "text": [
        "\r",
        " 39%|\u2588\u2588\u2588\u258a      | 3556/9182 [00:35<00:55, 101.49it/s]"
       ]
      },
      {
       "output_type": "stream",
       "stream": "stderr",
       "text": [
        "\r",
        " 39%|\u2588\u2588\u2588\u2589      | 3573/9182 [00:35<00:55, 101.67it/s]"
       ]
      },
      {
       "output_type": "stream",
       "stream": "stderr",
       "text": [
        "\r",
        " 39%|\u2588\u2588\u2588\u2589      | 3590/9182 [00:35<00:54, 101.84it/s]"
       ]
      },
      {
       "output_type": "stream",
       "stream": "stderr",
       "text": [
        "\r",
        " 39%|\u2588\u2588\u2588\u2589      | 3606/9182 [00:35<00:54, 102.00it/s]"
       ]
      },
      {
       "output_type": "stream",
       "stream": "stderr",
       "text": [
        "\r",
        " 39%|\u2588\u2588\u2588\u2589      | 3623/9182 [00:35<00:54, 102.17it/s]"
       ]
      },
      {
       "output_type": "stream",
       "stream": "stderr",
       "text": [
        "\r",
        " 40%|\u2588\u2588\u2588\u2589      | 3639/9182 [00:35<00:54, 102.31it/s]"
       ]
      },
      {
       "output_type": "stream",
       "stream": "stderr",
       "text": [
        "\r",
        " 40%|\u2588\u2588\u2588\u2589      | 3655/9182 [00:35<00:54, 102.29it/s]"
       ]
      },
      {
       "output_type": "stream",
       "stream": "stderr",
       "text": [
        "\r",
        " 40%|\u2588\u2588\u2588\u2589      | 3669/9182 [00:35<00:53, 102.33it/s]"
       ]
      },
      {
       "output_type": "stream",
       "stream": "stderr",
       "text": [
        "\r",
        " 40%|\u2588\u2588\u2588\u2588      | 3685/9182 [00:35<00:53, 102.49it/s]"
       ]
      },
      {
       "output_type": "stream",
       "stream": "stderr",
       "text": [
        "\r",
        " 40%|\u2588\u2588\u2588\u2588      | 3702/9182 [00:36<00:53, 102.66it/s]"
       ]
      },
      {
       "output_type": "stream",
       "stream": "stderr",
       "text": [
        "\r",
        " 40%|\u2588\u2588\u2588\u2588      | 3717/9182 [00:36<00:53, 102.66it/s]"
       ]
      },
      {
       "output_type": "stream",
       "stream": "stderr",
       "text": [
        "\r",
        " 41%|\u2588\u2588\u2588\u2588      | 3733/9182 [00:36<00:53, 102.80it/s]"
       ]
      },
      {
       "output_type": "stream",
       "stream": "stderr",
       "text": [
        "\r",
        " 41%|\u2588\u2588\u2588\u2588      | 3749/9182 [00:36<00:52, 102.95it/s]"
       ]
      },
      {
       "output_type": "stream",
       "stream": "stderr",
       "text": [
        "\r",
        " 41%|\u2588\u2588\u2588\u2588      | 3765/9182 [00:36<00:52, 103.10it/s]"
       ]
      },
      {
       "output_type": "stream",
       "stream": "stderr",
       "text": [
        "\r",
        " 41%|\u2588\u2588\u2588\u2588      | 3781/9182 [00:36<00:52, 103.26it/s]"
       ]
      },
      {
       "output_type": "stream",
       "stream": "stderr",
       "text": [
        "\r",
        " 41%|\u2588\u2588\u2588\u2588\u258f     | 3797/9182 [00:36<00:52, 103.40it/s]"
       ]
      },
      {
       "output_type": "stream",
       "stream": "stderr",
       "text": [
        "\r",
        " 42%|\u2588\u2588\u2588\u2588\u258f     | 3813/9182 [00:36<00:51, 103.54it/s]"
       ]
      },
      {
       "output_type": "stream",
       "stream": "stderr",
       "text": [
        "\r",
        " 42%|\u2588\u2588\u2588\u2588\u258f     | 3829/9182 [00:36<00:51, 103.66it/s]"
       ]
      },
      {
       "output_type": "stream",
       "stream": "stderr",
       "text": [
        "\r",
        " 42%|\u2588\u2588\u2588\u2588\u258f     | 3844/9182 [00:37<00:51, 103.78it/s]"
       ]
      },
      {
       "output_type": "stream",
       "stream": "stderr",
       "text": [
        "\r",
        " 42%|\u2588\u2588\u2588\u2588\u258f     | 3860/9182 [00:37<00:51, 103.92it/s]"
       ]
      },
      {
       "output_type": "stream",
       "stream": "stderr",
       "text": [
        "\r",
        " 42%|\u2588\u2588\u2588\u2588\u258f     | 3876/9182 [00:37<00:50, 104.07it/s]"
       ]
      },
      {
       "output_type": "stream",
       "stream": "stderr",
       "text": [
        "\r",
        " 42%|\u2588\u2588\u2588\u2588\u258f     | 3892/9182 [00:37<00:50, 104.22it/s]"
       ]
      },
      {
       "output_type": "stream",
       "stream": "stderr",
       "text": [
        "\r",
        " 43%|\u2588\u2588\u2588\u2588\u258e     | 3908/9182 [00:37<00:50, 104.36it/s]"
       ]
      },
      {
       "output_type": "stream",
       "stream": "stderr",
       "text": [
        "\r",
        " 43%|\u2588\u2588\u2588\u2588\u258e     | 3925/9182 [00:37<00:50, 104.52it/s]"
       ]
      },
      {
       "output_type": "stream",
       "stream": "stderr",
       "text": [
        "\r",
        " 43%|\u2588\u2588\u2588\u2588\u258e     | 3941/9182 [00:37<00:50, 104.66it/s]"
       ]
      },
      {
       "output_type": "stream",
       "stream": "stderr",
       "text": [
        "\r",
        " 43%|\u2588\u2588\u2588\u2588\u258e     | 3957/9182 [00:37<00:49, 104.78it/s]"
       ]
      },
      {
       "output_type": "stream",
       "stream": "stderr",
       "text": [
        "\r",
        " 43%|\u2588\u2588\u2588\u2588\u258e     | 3973/9182 [00:37<00:49, 104.92it/s]"
       ]
      },
      {
       "output_type": "stream",
       "stream": "stderr",
       "text": [
        "\r",
        " 43%|\u2588\u2588\u2588\u2588\u258e     | 3989/9182 [00:37<00:49, 105.03it/s]"
       ]
      },
      {
       "output_type": "stream",
       "stream": "stderr",
       "text": [
        "\r",
        " 44%|\u2588\u2588\u2588\u2588\u258e     | 4005/9182 [00:38<00:49, 105.17it/s]"
       ]
      },
      {
       "output_type": "stream",
       "stream": "stderr",
       "text": [
        "\r",
        " 44%|\u2588\u2588\u2588\u2588\u258d     | 4021/9182 [00:38<00:49, 105.31it/s]"
       ]
      },
      {
       "output_type": "stream",
       "stream": "stderr",
       "text": [
        "\r",
        " 44%|\u2588\u2588\u2588\u2588\u258d     | 4038/9182 [00:38<00:48, 105.47it/s]"
       ]
      },
      {
       "output_type": "stream",
       "stream": "stderr",
       "text": [
        "\r",
        " 44%|\u2588\u2588\u2588\u2588\u258d     | 4054/9182 [00:38<00:48, 105.60it/s]"
       ]
      },
      {
       "output_type": "stream",
       "stream": "stderr",
       "text": [
        "\r",
        " 44%|\u2588\u2588\u2588\u2588\u258d     | 4071/9182 [00:38<00:48, 105.75it/s]"
       ]
      },
      {
       "output_type": "stream",
       "stream": "stderr",
       "text": [
        "\r",
        " 45%|\u2588\u2588\u2588\u2588\u258d     | 4087/9182 [00:38<00:48, 105.79it/s]"
       ]
      },
      {
       "output_type": "stream",
       "stream": "stderr",
       "text": [
        "\r",
        " 45%|\u2588\u2588\u2588\u2588\u258d     | 4102/9182 [00:38<00:47, 105.90it/s]"
       ]
      },
      {
       "output_type": "stream",
       "stream": "stderr",
       "text": [
        "\r",
        " 45%|\u2588\u2588\u2588\u2588\u258d     | 4118/9182 [00:38<00:47, 106.04it/s]"
       ]
      },
      {
       "output_type": "stream",
       "stream": "stderr",
       "text": [
        "\r",
        " 45%|\u2588\u2588\u2588\u2588\u258c     | 4134/9182 [00:38<00:47, 106.18it/s]"
       ]
      },
      {
       "output_type": "stream",
       "stream": "stderr",
       "text": [
        "\r",
        " 45%|\u2588\u2588\u2588\u2588\u258c     | 4150/9182 [00:39<00:47, 106.31it/s]"
       ]
      },
      {
       "output_type": "stream",
       "stream": "stderr",
       "text": [
        "\r",
        " 45%|\u2588\u2588\u2588\u2588\u258c     | 4166/9182 [00:39<00:47, 106.44it/s]"
       ]
      },
      {
       "output_type": "stream",
       "stream": "stderr",
       "text": [
        "\r",
        " 46%|\u2588\u2588\u2588\u2588\u258c     | 4182/9182 [00:39<00:46, 106.55it/s]"
       ]
      },
      {
       "output_type": "stream",
       "stream": "stderr",
       "text": [
        "\r",
        " 46%|\u2588\u2588\u2588\u2588\u258c     | 4198/9182 [00:39<00:46, 106.68it/s]"
       ]
      },
      {
       "output_type": "stream",
       "stream": "stderr",
       "text": [
        "\r",
        " 46%|\u2588\u2588\u2588\u2588\u258c     | 4215/9182 [00:39<00:46, 106.82it/s]"
       ]
      },
      {
       "output_type": "stream",
       "stream": "stderr",
       "text": [
        "\r",
        " 46%|\u2588\u2588\u2588\u2588\u258c     | 4231/9182 [00:39<00:46, 106.94it/s]"
       ]
      },
      {
       "output_type": "stream",
       "stream": "stderr",
       "text": [
        "\r",
        " 46%|\u2588\u2588\u2588\u2588\u258b     | 4247/9182 [00:39<00:46, 107.02it/s]"
       ]
      },
      {
       "output_type": "stream",
       "stream": "stderr",
       "text": [
        "\r",
        " 46%|\u2588\u2588\u2588\u2588\u258b     | 4262/9182 [00:39<00:45, 106.98it/s]"
       ]
      },
      {
       "output_type": "stream",
       "stream": "stderr",
       "text": [
        "\r",
        " 47%|\u2588\u2588\u2588\u2588\u258b     | 4278/9182 [00:39<00:45, 107.09it/s]"
       ]
      },
      {
       "output_type": "stream",
       "stream": "stderr",
       "text": [
        "\r",
        " 47%|\u2588\u2588\u2588\u2588\u258b     | 4294/9182 [00:40<00:45, 107.23it/s]"
       ]
      },
      {
       "output_type": "stream",
       "stream": "stderr",
       "text": [
        "\r",
        " 47%|\u2588\u2588\u2588\u2588\u258b     | 4310/9182 [00:40<00:45, 107.35it/s]"
       ]
      },
      {
       "output_type": "stream",
       "stream": "stderr",
       "text": [
        "\r",
        " 47%|\u2588\u2588\u2588\u2588\u258b     | 4326/9182 [00:40<00:45, 107.47it/s]"
       ]
      },
      {
       "output_type": "stream",
       "stream": "stderr",
       "text": [
        "\r",
        " 47%|\u2588\u2588\u2588\u2588\u258b     | 4342/9182 [00:40<00:44, 107.59it/s]"
       ]
      },
      {
       "output_type": "stream",
       "stream": "stderr",
       "text": [
        "\r",
        " 47%|\u2588\u2588\u2588\u2588\u258b     | 4358/9182 [00:40<00:44, 107.72it/s]"
       ]
      },
      {
       "output_type": "stream",
       "stream": "stderr",
       "text": [
        "\r",
        " 48%|\u2588\u2588\u2588\u2588\u258a     | 4374/9182 [00:40<00:44, 107.84it/s]"
       ]
      },
      {
       "output_type": "stream",
       "stream": "stderr",
       "text": [
        "\r",
        " 48%|\u2588\u2588\u2588\u2588\u258a     | 4390/9182 [00:40<00:44, 107.93it/s]"
       ]
      },
      {
       "output_type": "stream",
       "stream": "stderr",
       "text": [
        "\r",
        " 48%|\u2588\u2588\u2588\u2588\u258a     | 4405/9182 [00:40<00:44, 108.02it/s]"
       ]
      },
      {
       "output_type": "stream",
       "stream": "stderr",
       "text": [
        "\r",
        " 48%|\u2588\u2588\u2588\u2588\u258a     | 4420/9182 [00:40<00:44, 108.12it/s]"
       ]
      },
      {
       "output_type": "stream",
       "stream": "stderr",
       "text": [
        "\r",
        " 48%|\u2588\u2588\u2588\u2588\u258a     | 4437/9182 [00:40<00:43, 108.26it/s]"
       ]
      },
      {
       "output_type": "stream",
       "stream": "stderr",
       "text": [
        "\r",
        " 48%|\u2588\u2588\u2588\u2588\u258a     | 4453/9182 [00:41<00:43, 108.37it/s]"
       ]
      },
      {
       "output_type": "stream",
       "stream": "stderr",
       "text": [
        "\r",
        " 49%|\u2588\u2588\u2588\u2588\u258a     | 4470/9182 [00:41<00:43, 108.51it/s]"
       ]
      },
      {
       "output_type": "stream",
       "stream": "stderr",
       "text": [
        "\r",
        " 49%|\u2588\u2588\u2588\u2588\u2589     | 4487/9182 [00:41<00:43, 108.64it/s]"
       ]
      },
      {
       "output_type": "stream",
       "stream": "stderr",
       "text": [
        "\r",
        " 49%|\u2588\u2588\u2588\u2588\u2589     | 4504/9182 [00:41<00:43, 108.78it/s]"
       ]
      },
      {
       "output_type": "stream",
       "stream": "stderr",
       "text": [
        "\r",
        " 49%|\u2588\u2588\u2588\u2588\u2589     | 4521/9182 [00:41<00:42, 108.92it/s]"
       ]
      },
      {
       "output_type": "stream",
       "stream": "stderr",
       "text": [
        "\r",
        " 49%|\u2588\u2588\u2588\u2588\u2589     | 4538/9182 [00:41<00:42, 109.05it/s]"
       ]
      },
      {
       "output_type": "stream",
       "stream": "stderr",
       "text": [
        "\r",
        " 50%|\u2588\u2588\u2588\u2588\u2589     | 4555/9182 [00:41<00:42, 109.17it/s]"
       ]
      },
      {
       "output_type": "stream",
       "stream": "stderr",
       "text": [
        "\r",
        " 50%|\u2588\u2588\u2588\u2588\u2589     | 4572/9182 [00:41<00:42, 109.30it/s]"
       ]
      },
      {
       "output_type": "stream",
       "stream": "stderr",
       "text": [
        "\r",
        " 50%|\u2588\u2588\u2588\u2588\u2589     | 4588/9182 [00:41<00:41, 109.41it/s]"
       ]
      },
      {
       "output_type": "stream",
       "stream": "stderr",
       "text": [
        "\r",
        " 50%|\u2588\u2588\u2588\u2588\u2588     | 4604/9182 [00:42<00:41, 109.52it/s]"
       ]
      },
      {
       "output_type": "stream",
       "stream": "stderr",
       "text": [
        "\r",
        " 50%|\u2588\u2588\u2588\u2588\u2588     | 4620/9182 [00:42<00:41, 109.63it/s]"
       ]
      },
      {
       "output_type": "stream",
       "stream": "stderr",
       "text": [
        "\r",
        " 50%|\u2588\u2588\u2588\u2588\u2588     | 4636/9182 [00:42<00:41, 109.74it/s]"
       ]
      },
      {
       "output_type": "stream",
       "stream": "stderr",
       "text": [
        "\r",
        " 51%|\u2588\u2588\u2588\u2588\u2588     | 4652/9182 [00:42<00:41, 109.84it/s]"
       ]
      },
      {
       "output_type": "stream",
       "stream": "stderr",
       "text": [
        "\r",
        " 51%|\u2588\u2588\u2588\u2588\u2588     | 4668/9182 [00:42<00:41, 109.87it/s]"
       ]
      },
      {
       "output_type": "stream",
       "stream": "stderr",
       "text": [
        "\r",
        " 51%|\u2588\u2588\u2588\u2588\u2588     | 4684/9182 [00:42<00:40, 109.98it/s]"
       ]
      },
      {
       "output_type": "stream",
       "stream": "stderr",
       "text": [
        "\r",
        " 51%|\u2588\u2588\u2588\u2588\u2588     | 4701/9182 [00:42<00:40, 110.11it/s]"
       ]
      },
      {
       "output_type": "stream",
       "stream": "stderr",
       "text": [
        "\r",
        " 51%|\u2588\u2588\u2588\u2588\u2588\u258f    | 4718/9182 [00:42<00:40, 110.24it/s]"
       ]
      },
      {
       "output_type": "stream",
       "stream": "stderr",
       "text": [
        "\r",
        " 52%|\u2588\u2588\u2588\u2588\u2588\u258f    | 4734/9182 [00:42<00:40, 110.34it/s]"
       ]
      },
      {
       "output_type": "stream",
       "stream": "stderr",
       "text": [
        "\r",
        " 52%|\u2588\u2588\u2588\u2588\u2588\u258f    | 4750/9182 [00:43<00:40, 110.44it/s]"
       ]
      },
      {
       "output_type": "stream",
       "stream": "stderr",
       "text": [
        "\r",
        " 52%|\u2588\u2588\u2588\u2588\u2588\u258f    | 4766/9182 [00:43<00:39, 110.54it/s]"
       ]
      },
      {
       "output_type": "stream",
       "stream": "stderr",
       "text": [
        "\r",
        " 52%|\u2588\u2588\u2588\u2588\u2588\u258f    | 4782/9182 [00:43<00:39, 110.62it/s]"
       ]
      },
      {
       "output_type": "stream",
       "stream": "stderr",
       "text": [
        "\r",
        " 52%|\u2588\u2588\u2588\u2588\u2588\u258f    | 4798/9182 [00:43<00:39, 110.73it/s]"
       ]
      },
      {
       "output_type": "stream",
       "stream": "stderr",
       "text": [
        "\r",
        " 52%|\u2588\u2588\u2588\u2588\u2588\u258f    | 4814/9182 [00:43<00:39, 110.79it/s]"
       ]
      },
      {
       "output_type": "stream",
       "stream": "stderr",
       "text": [
        "\r",
        " 53%|\u2588\u2588\u2588\u2588\u2588\u258e    | 4829/9182 [00:43<00:39, 110.87it/s]"
       ]
      },
      {
       "output_type": "stream",
       "stream": "stderr",
       "text": [
        "\r",
        " 53%|\u2588\u2588\u2588\u2588\u2588\u258e    | 4845/9182 [00:43<00:39, 110.98it/s]"
       ]
      },
      {
       "output_type": "stream",
       "stream": "stderr",
       "text": [
        "\r",
        " 53%|\u2588\u2588\u2588\u2588\u2588\u258e    | 4862/9182 [00:43<00:38, 111.10it/s]"
       ]
      },
      {
       "output_type": "stream",
       "stream": "stderr",
       "text": [
        "\r",
        " 53%|\u2588\u2588\u2588\u2588\u2588\u258e    | 4878/9182 [00:43<00:38, 111.19it/s]"
       ]
      },
      {
       "output_type": "stream",
       "stream": "stderr",
       "text": [
        "\r",
        " 53%|\u2588\u2588\u2588\u2588\u2588\u258e    | 4895/9182 [00:43<00:38, 111.31it/s]"
       ]
      },
      {
       "output_type": "stream",
       "stream": "stderr",
       "text": [
        "\r",
        " 53%|\u2588\u2588\u2588\u2588\u2588\u258e    | 4911/9182 [00:44<00:38, 111.42it/s]"
       ]
      },
      {
       "output_type": "stream",
       "stream": "stderr",
       "text": [
        "\r",
        " 54%|\u2588\u2588\u2588\u2588\u2588\u258e    | 4927/9182 [00:44<00:38, 111.52it/s]"
       ]
      },
      {
       "output_type": "stream",
       "stream": "stderr",
       "text": [
        "\r",
        " 54%|\u2588\u2588\u2588\u2588\u2588\u258d    | 4944/9182 [00:44<00:37, 111.65it/s]"
       ]
      },
      {
       "output_type": "stream",
       "stream": "stderr",
       "text": [
        "\r",
        " 54%|\u2588\u2588\u2588\u2588\u2588\u258d    | 4960/9182 [00:44<00:37, 111.68it/s]"
       ]
      },
      {
       "output_type": "stream",
       "stream": "stderr",
       "text": [
        "\r",
        " 54%|\u2588\u2588\u2588\u2588\u2588\u258d    | 4976/9182 [00:44<00:37, 111.78it/s]"
       ]
      },
      {
       "output_type": "stream",
       "stream": "stderr",
       "text": [
        "\r",
        " 54%|\u2588\u2588\u2588\u2588\u2588\u258d    | 4992/9182 [00:44<00:37, 111.89it/s]"
       ]
      },
      {
       "output_type": "stream",
       "stream": "stderr",
       "text": [
        "\r",
        " 55%|\u2588\u2588\u2588\u2588\u2588\u258d    | 5009/9182 [00:44<00:37, 112.01it/s]"
       ]
      },
      {
       "output_type": "stream",
       "stream": "stderr",
       "text": [
        "\r",
        " 55%|\u2588\u2588\u2588\u2588\u2588\u258d    | 5025/9182 [00:44<00:37, 112.11it/s]"
       ]
      },
      {
       "output_type": "stream",
       "stream": "stderr",
       "text": [
        "\r",
        " 55%|\u2588\u2588\u2588\u2588\u2588\u258d    | 5041/9182 [00:44<00:36, 112.21it/s]"
       ]
      },
      {
       "output_type": "stream",
       "stream": "stderr",
       "text": [
        "\r",
        " 55%|\u2588\u2588\u2588\u2588\u2588\u258c    | 5058/9182 [00:45<00:36, 112.33it/s]"
       ]
      },
      {
       "output_type": "stream",
       "stream": "stderr",
       "text": [
        "\r",
        " 55%|\u2588\u2588\u2588\u2588\u2588\u258c    | 5074/9182 [00:45<00:36, 112.43it/s]"
       ]
      },
      {
       "output_type": "stream",
       "stream": "stderr",
       "text": [
        "\r",
        " 55%|\u2588\u2588\u2588\u2588\u2588\u258c    | 5091/9182 [00:45<00:36, 112.55it/s]"
       ]
      },
      {
       "output_type": "stream",
       "stream": "stderr",
       "text": [
        "\r",
        " 56%|\u2588\u2588\u2588\u2588\u2588\u258c    | 5108/9182 [00:45<00:36, 112.67it/s]"
       ]
      },
      {
       "output_type": "stream",
       "stream": "stderr",
       "text": [
        "\r",
        " 56%|\u2588\u2588\u2588\u2588\u2588\u258c    | 5125/9182 [00:45<00:36, 112.68it/s]"
       ]
      },
      {
       "output_type": "stream",
       "stream": "stderr",
       "text": [
        "\r",
        " 56%|\u2588\u2588\u2588\u2588\u2588\u258c    | 5141/9182 [00:45<00:35, 112.78it/s]"
       ]
      },
      {
       "output_type": "stream",
       "stream": "stderr",
       "text": [
        "\r",
        " 56%|\u2588\u2588\u2588\u2588\u2588\u258c    | 5157/9182 [00:45<00:35, 112.89it/s]"
       ]
      },
      {
       "output_type": "stream",
       "stream": "stderr",
       "text": [
        "\r",
        " 56%|\u2588\u2588\u2588\u2588\u2588\u258b    | 5173/9182 [00:45<00:35, 112.98it/s]"
       ]
      },
      {
       "output_type": "stream",
       "stream": "stderr",
       "text": [
        "\r",
        " 57%|\u2588\u2588\u2588\u2588\u2588\u258b    | 5189/9182 [00:45<00:35, 113.03it/s]"
       ]
      },
      {
       "output_type": "stream",
       "stream": "stderr",
       "text": [
        "\r",
        " 57%|\u2588\u2588\u2588\u2588\u2588\u258b    | 5205/9182 [00:46<00:35, 113.12it/s]"
       ]
      },
      {
       "output_type": "stream",
       "stream": "stderr",
       "text": [
        "\r",
        " 57%|\u2588\u2588\u2588\u2588\u2588\u258b    | 5222/9182 [00:46<00:34, 113.23it/s]"
       ]
      },
      {
       "output_type": "stream",
       "stream": "stderr",
       "text": [
        "\r",
        " 57%|\u2588\u2588\u2588\u2588\u2588\u258b    | 5239/9182 [00:46<00:34, 113.34it/s]"
       ]
      },
      {
       "output_type": "stream",
       "stream": "stderr",
       "text": [
        "\r",
        " 57%|\u2588\u2588\u2588\u2588\u2588\u258b    | 5255/9182 [00:46<00:34, 113.44it/s]"
       ]
      },
      {
       "output_type": "stream",
       "stream": "stderr",
       "text": [
        "\r",
        " 57%|\u2588\u2588\u2588\u2588\u2588\u258b    | 5272/9182 [00:46<00:34, 113.54it/s]"
       ]
      },
      {
       "output_type": "stream",
       "stream": "stderr",
       "text": [
        "\r",
        " 58%|\u2588\u2588\u2588\u2588\u2588\u258a    | 5288/9182 [00:46<00:34, 113.64it/s]"
       ]
      },
      {
       "output_type": "stream",
       "stream": "stderr",
       "text": [
        "\r",
        " 58%|\u2588\u2588\u2588\u2588\u2588\u258a    | 5304/9182 [00:46<00:34, 113.73it/s]"
       ]
      },
      {
       "output_type": "stream",
       "stream": "stderr",
       "text": [
        "\r",
        " 58%|\u2588\u2588\u2588\u2588\u2588\u258a    | 5320/9182 [00:46<00:33, 113.81it/s]"
       ]
      },
      {
       "output_type": "stream",
       "stream": "stderr",
       "text": [
        "\r",
        " 58%|\u2588\u2588\u2588\u2588\u2588\u258a    | 5336/9182 [00:46<00:33, 113.89it/s]"
       ]
      },
      {
       "output_type": "stream",
       "stream": "stderr",
       "text": [
        "\r",
        " 58%|\u2588\u2588\u2588\u2588\u2588\u258a    | 5352/9182 [00:46<00:33, 113.99it/s]"
       ]
      },
      {
       "output_type": "stream",
       "stream": "stderr",
       "text": [
        "\r",
        " 58%|\u2588\u2588\u2588\u2588\u2588\u258a    | 5368/9182 [00:47<00:33, 114.08it/s]"
       ]
      },
      {
       "output_type": "stream",
       "stream": "stderr",
       "text": [
        "\r",
        " 59%|\u2588\u2588\u2588\u2588\u2588\u258a    | 5384/9182 [00:47<00:33, 114.17it/s]"
       ]
      },
      {
       "output_type": "stream",
       "stream": "stderr",
       "text": [
        "\r",
        " 59%|\u2588\u2588\u2588\u2588\u2588\u2589    | 5401/9182 [00:47<00:33, 114.28it/s]"
       ]
      },
      {
       "output_type": "stream",
       "stream": "stderr",
       "text": [
        "\r",
        " 59%|\u2588\u2588\u2588\u2588\u2588\u2589    | 5417/9182 [00:47<00:32, 114.37it/s]"
       ]
      },
      {
       "output_type": "stream",
       "stream": "stderr",
       "text": [
        "\r",
        " 59%|\u2588\u2588\u2588\u2588\u2588\u2589    | 5433/9182 [00:47<00:32, 114.45it/s]"
       ]
      },
      {
       "output_type": "stream",
       "stream": "stderr",
       "text": [
        "\r",
        " 59%|\u2588\u2588\u2588\u2588\u2588\u2589    | 5449/9182 [00:47<00:32, 114.52it/s]"
       ]
      },
      {
       "output_type": "stream",
       "stream": "stderr",
       "text": [
        "\r",
        " 60%|\u2588\u2588\u2588\u2588\u2588\u2589    | 5466/9182 [00:47<00:32, 114.62it/s]"
       ]
      },
      {
       "output_type": "stream",
       "stream": "stderr",
       "text": [
        "\r",
        " 60%|\u2588\u2588\u2588\u2588\u2588\u2589    | 5482/9182 [00:47<00:32, 114.71it/s]"
       ]
      },
      {
       "output_type": "stream",
       "stream": "stderr",
       "text": [
        "\r",
        " 60%|\u2588\u2588\u2588\u2588\u2588\u2589    | 5498/9182 [00:47<00:32, 114.71it/s]"
       ]
      },
      {
       "output_type": "stream",
       "stream": "stderr",
       "text": [
        "\r",
        " 60%|\u2588\u2588\u2588\u2588\u2588\u2588    | 5513/9182 [00:48<00:31, 114.71it/s]"
       ]
      },
      {
       "output_type": "stream",
       "stream": "stderr",
       "text": [
        "\r",
        " 60%|\u2588\u2588\u2588\u2588\u2588\u2588    | 5528/9182 [00:48<00:31, 114.78it/s]"
       ]
      },
      {
       "output_type": "stream",
       "stream": "stderr",
       "text": [
        "\r",
        " 60%|\u2588\u2588\u2588\u2588\u2588\u2588    | 5544/9182 [00:48<00:31, 114.86it/s]"
       ]
      },
      {
       "output_type": "stream",
       "stream": "stderr",
       "text": [
        "\r",
        " 61%|\u2588\u2588\u2588\u2588\u2588\u2588    | 5561/9182 [00:48<00:31, 114.96it/s]"
       ]
      },
      {
       "output_type": "stream",
       "stream": "stderr",
       "text": [
        "\r",
        " 61%|\u2588\u2588\u2588\u2588\u2588\u2588    | 5576/9182 [00:48<00:31, 115.00it/s]"
       ]
      },
      {
       "output_type": "stream",
       "stream": "stderr",
       "text": [
        "\r",
        " 61%|\u2588\u2588\u2588\u2588\u2588\u2588    | 5593/9182 [00:48<00:31, 115.11it/s]"
       ]
      },
      {
       "output_type": "stream",
       "stream": "stderr",
       "text": [
        "\r",
        " 61%|\u2588\u2588\u2588\u2588\u2588\u2588    | 5610/9182 [00:48<00:31, 115.21it/s]"
       ]
      },
      {
       "output_type": "stream",
       "stream": "stderr",
       "text": [
        "\r",
        " 61%|\u2588\u2588\u2588\u2588\u2588\u2588\u258f   | 5627/9182 [00:48<00:30, 115.31it/s]"
       ]
      },
      {
       "output_type": "stream",
       "stream": "stderr",
       "text": [
        "\r",
        " 61%|\u2588\u2588\u2588\u2588\u2588\u2588\u258f   | 5643/9182 [00:48<00:30, 115.37it/s]"
       ]
      },
      {
       "output_type": "stream",
       "stream": "stderr",
       "text": [
        "\r",
        " 62%|\u2588\u2588\u2588\u2588\u2588\u2588\u258f   | 5659/9182 [00:49<00:30, 115.46it/s]"
       ]
      },
      {
       "output_type": "stream",
       "stream": "stderr",
       "text": [
        "\r",
        " 62%|\u2588\u2588\u2588\u2588\u2588\u2588\u258f   | 5676/9182 [00:49<00:30, 115.56it/s]"
       ]
      },
      {
       "output_type": "stream",
       "stream": "stderr",
       "text": [
        "\r",
        " 62%|\u2588\u2588\u2588\u2588\u2588\u2588\u258f   | 5693/9182 [00:49<00:30, 115.66it/s]"
       ]
      },
      {
       "output_type": "stream",
       "stream": "stderr",
       "text": [
        "\r",
        " 62%|\u2588\u2588\u2588\u2588\u2588\u2588\u258f   | 5710/9182 [00:49<00:29, 115.77it/s]"
       ]
      },
      {
       "output_type": "stream",
       "stream": "stderr",
       "text": [
        "\r",
        " 62%|\u2588\u2588\u2588\u2588\u2588\u2588\u258f   | 5727/9182 [00:49<00:29, 115.87it/s]"
       ]
      },
      {
       "output_type": "stream",
       "stream": "stderr",
       "text": [
        "\r",
        " 63%|\u2588\u2588\u2588\u2588\u2588\u2588\u258e   | 5744/9182 [00:49<00:29, 115.97it/s]"
       ]
      },
      {
       "output_type": "stream",
       "stream": "stderr",
       "text": [
        "\r",
        " 63%|\u2588\u2588\u2588\u2588\u2588\u2588\u258e   | 5761/9182 [00:49<00:29, 116.07it/s]"
       ]
      },
      {
       "output_type": "stream",
       "stream": "stderr",
       "text": [
        "\r",
        " 63%|\u2588\u2588\u2588\u2588\u2588\u2588\u258e   | 5778/9182 [00:49<00:29, 116.16it/s]"
       ]
      },
      {
       "output_type": "stream",
       "stream": "stderr",
       "text": [
        "\r",
        " 63%|\u2588\u2588\u2588\u2588\u2588\u2588\u258e   | 5795/9182 [00:49<00:29, 116.25it/s]"
       ]
      },
      {
       "output_type": "stream",
       "stream": "stderr",
       "text": [
        "\r",
        " 63%|\u2588\u2588\u2588\u2588\u2588\u2588\u258e   | 5812/9182 [00:49<00:28, 116.36it/s]"
       ]
      },
      {
       "output_type": "stream",
       "stream": "stderr",
       "text": [
        "\r",
        " 63%|\u2588\u2588\u2588\u2588\u2588\u2588\u258e   | 5829/9182 [00:50<00:28, 116.46it/s]"
       ]
      },
      {
       "output_type": "stream",
       "stream": "stderr",
       "text": [
        "\r",
        " 64%|\u2588\u2588\u2588\u2588\u2588\u2588\u258e   | 5846/9182 [00:50<00:28, 116.55it/s]"
       ]
      },
      {
       "output_type": "stream",
       "stream": "stderr",
       "text": [
        "\r",
        " 64%|\u2588\u2588\u2588\u2588\u2588\u2588\u258d   | 5863/9182 [00:50<00:28, 116.64it/s]"
       ]
      },
      {
       "output_type": "stream",
       "stream": "stderr",
       "text": [
        "\r",
        " 64%|\u2588\u2588\u2588\u2588\u2588\u2588\u258d   | 5880/9182 [00:50<00:28, 116.74it/s]"
       ]
      },
      {
       "output_type": "stream",
       "stream": "stderr",
       "text": [
        "\r",
        " 64%|\u2588\u2588\u2588\u2588\u2588\u2588\u258d   | 5897/9182 [00:50<00:28, 116.83it/s]"
       ]
      },
      {
       "output_type": "stream",
       "stream": "stderr",
       "text": [
        "\r",
        " 64%|\u2588\u2588\u2588\u2588\u2588\u2588\u258d   | 5914/9182 [00:50<00:27, 116.93it/s]"
       ]
      },
      {
       "output_type": "stream",
       "stream": "stderr",
       "text": [
        "\r",
        " 65%|\u2588\u2588\u2588\u2588\u2588\u2588\u258d   | 5931/9182 [00:50<00:27, 117.02it/s]"
       ]
      },
      {
       "output_type": "stream",
       "stream": "stderr",
       "text": [
        "\r",
        " 65%|\u2588\u2588\u2588\u2588\u2588\u2588\u258d   | 5948/9182 [00:50<00:27, 117.07it/s]"
       ]
      },
      {
       "output_type": "stream",
       "stream": "stderr",
       "text": [
        "\r",
        " 65%|\u2588\u2588\u2588\u2588\u2588\u2588\u258d   | 5964/9182 [00:50<00:27, 117.14it/s]"
       ]
      },
      {
       "output_type": "stream",
       "stream": "stderr",
       "text": [
        "\r",
        " 65%|\u2588\u2588\u2588\u2588\u2588\u2588\u258c   | 5981/9182 [00:51<00:27, 117.23it/s]"
       ]
      },
      {
       "output_type": "stream",
       "stream": "stderr",
       "text": [
        "\r",
        " 65%|\u2588\u2588\u2588\u2588\u2588\u2588\u258c   | 5998/9182 [00:51<00:27, 117.32it/s]"
       ]
      },
      {
       "output_type": "stream",
       "stream": "stderr",
       "text": [
        "\r",
        " 65%|\u2588\u2588\u2588\u2588\u2588\u2588\u258c   | 6014/9182 [00:51<00:26, 117.41it/s]"
       ]
      },
      {
       "output_type": "stream",
       "stream": "stderr",
       "text": [
        "\r",
        " 66%|\u2588\u2588\u2588\u2588\u2588\u2588\u258c   | 6030/9182 [00:51<00:26, 117.48it/s]"
       ]
      },
      {
       "output_type": "stream",
       "stream": "stderr",
       "text": [
        "\r",
        " 66%|\u2588\u2588\u2588\u2588\u2588\u2588\u258c   | 6046/9182 [00:51<00:26, 117.56it/s]"
       ]
      },
      {
       "output_type": "stream",
       "stream": "stderr",
       "text": [
        "\r",
        " 66%|\u2588\u2588\u2588\u2588\u2588\u2588\u258c   | 6063/9182 [00:51<00:26, 117.65it/s]"
       ]
      },
      {
       "output_type": "stream",
       "stream": "stderr",
       "text": [
        "\r",
        " 66%|\u2588\u2588\u2588\u2588\u2588\u2588\u258c   | 6080/9182 [00:51<00:26, 117.74it/s]"
       ]
      },
      {
       "output_type": "stream",
       "stream": "stderr",
       "text": [
        "\r",
        " 66%|\u2588\u2588\u2588\u2588\u2588\u2588\u258b   | 6097/9182 [00:51<00:26, 117.83it/s]"
       ]
      },
      {
       "output_type": "stream",
       "stream": "stderr",
       "text": [
        "\r",
        " 67%|\u2588\u2588\u2588\u2588\u2588\u2588\u258b   | 6114/9182 [00:51<00:26, 117.91it/s]"
       ]
      },
      {
       "output_type": "stream",
       "stream": "stderr",
       "text": [
        "\r",
        " 67%|\u2588\u2588\u2588\u2588\u2588\u2588\u258b   | 6131/9182 [00:51<00:25, 118.00it/s]"
       ]
      },
      {
       "output_type": "stream",
       "stream": "stderr",
       "text": [
        "\r",
        " 67%|\u2588\u2588\u2588\u2588\u2588\u2588\u258b   | 6148/9182 [00:52<00:25, 118.10it/s]"
       ]
      },
      {
       "output_type": "stream",
       "stream": "stderr",
       "text": [
        "\r",
        " 67%|\u2588\u2588\u2588\u2588\u2588\u2588\u258b   | 6165/9182 [00:52<00:25, 118.19it/s]"
       ]
      },
      {
       "output_type": "stream",
       "stream": "stderr",
       "text": [
        "\r",
        " 67%|\u2588\u2588\u2588\u2588\u2588\u2588\u258b   | 6182/9182 [00:52<00:25, 118.27it/s]"
       ]
      },
      {
       "output_type": "stream",
       "stream": "stderr",
       "text": [
        "\r",
        " 68%|\u2588\u2588\u2588\u2588\u2588\u2588\u258a   | 6199/9182 [00:52<00:25, 118.37it/s]"
       ]
      },
      {
       "output_type": "stream",
       "stream": "stderr",
       "text": [
        "\r",
        " 68%|\u2588\u2588\u2588\u2588\u2588\u2588\u258a   | 6216/9182 [00:52<00:25, 118.45it/s]"
       ]
      },
      {
       "output_type": "stream",
       "stream": "stderr",
       "text": [
        "\r",
        " 68%|\u2588\u2588\u2588\u2588\u2588\u2588\u258a   | 6233/9182 [00:52<00:24, 118.53it/s]"
       ]
      },
      {
       "output_type": "stream",
       "stream": "stderr",
       "text": [
        "\r",
        " 68%|\u2588\u2588\u2588\u2588\u2588\u2588\u258a   | 6250/9182 [00:52<00:24, 118.51it/s]"
       ]
      },
      {
       "output_type": "stream",
       "stream": "stderr",
       "text": [
        "\r",
        " 68%|\u2588\u2588\u2588\u2588\u2588\u2588\u258a   | 6266/9182 [00:52<00:24, 118.58it/s]"
       ]
      },
      {
       "output_type": "stream",
       "stream": "stderr",
       "text": [
        "\r",
        " 68%|\u2588\u2588\u2588\u2588\u2588\u2588\u258a   | 6283/9182 [00:52<00:24, 118.67it/s]"
       ]
      },
      {
       "output_type": "stream",
       "stream": "stderr",
       "text": [
        "\r",
        " 69%|\u2588\u2588\u2588\u2588\u2588\u2588\u258a   | 6300/9182 [00:53<00:24, 118.76it/s]"
       ]
      },
      {
       "output_type": "stream",
       "stream": "stderr",
       "text": [
        "\r",
        " 69%|\u2588\u2588\u2588\u2588\u2588\u2588\u2589   | 6317/9182 [00:53<00:24, 118.85it/s]"
       ]
      },
      {
       "output_type": "stream",
       "stream": "stderr",
       "text": [
        "\r",
        " 69%|\u2588\u2588\u2588\u2588\u2588\u2588\u2589   | 6334/9182 [00:53<00:23, 118.94it/s]"
       ]
      },
      {
       "output_type": "stream",
       "stream": "stderr",
       "text": [
        "\r",
        " 69%|\u2588\u2588\u2588\u2588\u2588\u2588\u2589   | 6351/9182 [00:53<00:23, 119.02it/s]"
       ]
      },
      {
       "output_type": "stream",
       "stream": "stderr",
       "text": [
        "\r",
        " 69%|\u2588\u2588\u2588\u2588\u2588\u2588\u2589   | 6368/9182 [00:53<00:23, 119.08it/s]"
       ]
      },
      {
       "output_type": "stream",
       "stream": "stderr",
       "text": [
        "\r",
        " 70%|\u2588\u2588\u2588\u2588\u2588\u2588\u2589   | 6384/9182 [00:53<00:23, 119.13it/s]"
       ]
      },
      {
       "output_type": "stream",
       "stream": "stderr",
       "text": [
        "\r",
        " 70%|\u2588\u2588\u2588\u2588\u2588\u2588\u2589   | 6401/9182 [00:53<00:23, 119.22it/s]"
       ]
      },
      {
       "output_type": "stream",
       "stream": "stderr",
       "text": [
        "\r",
        " 70%|\u2588\u2588\u2588\u2588\u2588\u2588\u2589   | 6417/9182 [00:53<00:23, 119.29it/s]"
       ]
      },
      {
       "output_type": "stream",
       "stream": "stderr",
       "text": [
        "\r",
        " 70%|\u2588\u2588\u2588\u2588\u2588\u2588\u2588   | 6434/9182 [00:53<00:23, 119.38it/s]"
       ]
      },
      {
       "output_type": "stream",
       "stream": "stderr",
       "text": [
        "\r",
        " 70%|\u2588\u2588\u2588\u2588\u2588\u2588\u2588   | 6450/9182 [00:53<00:22, 119.45it/s]"
       ]
      },
      {
       "output_type": "stream",
       "stream": "stderr",
       "text": [
        "\r",
        " 70%|\u2588\u2588\u2588\u2588\u2588\u2588\u2588   | 6467/9182 [00:54<00:22, 119.54it/s]"
       ]
      },
      {
       "output_type": "stream",
       "stream": "stderr",
       "text": [
        "\r",
        " 71%|\u2588\u2588\u2588\u2588\u2588\u2588\u2588   | 6484/9182 [00:54<00:22, 119.61it/s]"
       ]
      },
      {
       "output_type": "stream",
       "stream": "stderr",
       "text": [
        "\r",
        " 71%|\u2588\u2588\u2588\u2588\u2588\u2588\u2588   | 6501/9182 [00:54<00:22, 119.70it/s]"
       ]
      },
      {
       "output_type": "stream",
       "stream": "stderr",
       "text": [
        "\r",
        " 71%|\u2588\u2588\u2588\u2588\u2588\u2588\u2588   | 6518/9182 [00:54<00:22, 119.78it/s]"
       ]
      },
      {
       "output_type": "stream",
       "stream": "stderr",
       "text": [
        "\r",
        " 71%|\u2588\u2588\u2588\u2588\u2588\u2588\u2588   | 6535/9182 [00:54<00:22, 119.86it/s]"
       ]
      },
      {
       "output_type": "stream",
       "stream": "stderr",
       "text": [
        "\r",
        " 71%|\u2588\u2588\u2588\u2588\u2588\u2588\u2588\u258f  | 6552/9182 [00:54<00:21, 119.94it/s]"
       ]
      },
      {
       "output_type": "stream",
       "stream": "stderr",
       "text": [
        "\r",
        " 72%|\u2588\u2588\u2588\u2588\u2588\u2588\u2588\u258f  | 6569/9182 [00:54<00:21, 120.02it/s]"
       ]
      },
      {
       "output_type": "stream",
       "stream": "stderr",
       "text": [
        "\r",
        " 72%|\u2588\u2588\u2588\u2588\u2588\u2588\u2588\u258f  | 6586/9182 [00:54<00:21, 120.11it/s]"
       ]
      },
      {
       "output_type": "stream",
       "stream": "stderr",
       "text": [
        "\r",
        " 72%|\u2588\u2588\u2588\u2588\u2588\u2588\u2588\u258f  | 6603/9182 [00:54<00:21, 120.19it/s]"
       ]
      },
      {
       "output_type": "stream",
       "stream": "stderr",
       "text": [
        "\r",
        " 72%|\u2588\u2588\u2588\u2588\u2588\u2588\u2588\u258f  | 6620/9182 [00:55<00:21, 120.28it/s]"
       ]
      },
      {
       "output_type": "stream",
       "stream": "stderr",
       "text": [
        "\r",
        " 72%|\u2588\u2588\u2588\u2588\u2588\u2588\u2588\u258f  | 6637/9182 [00:55<00:21, 120.36it/s]"
       ]
      },
      {
       "output_type": "stream",
       "stream": "stderr",
       "text": [
        "\r",
        " 72%|\u2588\u2588\u2588\u2588\u2588\u2588\u2588\u258f  | 6654/9182 [00:55<00:20, 120.44it/s]"
       ]
      },
      {
       "output_type": "stream",
       "stream": "stderr",
       "text": [
        "\r",
        " 73%|\u2588\u2588\u2588\u2588\u2588\u2588\u2588\u258e  | 6671/9182 [00:55<00:20, 120.52it/s]"
       ]
      },
      {
       "output_type": "stream",
       "stream": "stderr",
       "text": [
        "\r",
        " 73%|\u2588\u2588\u2588\u2588\u2588\u2588\u2588\u258e  | 6688/9182 [00:55<00:20, 120.60it/s]"
       ]
      },
      {
       "output_type": "stream",
       "stream": "stderr",
       "text": [
        "\r",
        " 73%|\u2588\u2588\u2588\u2588\u2588\u2588\u2588\u258e  | 6705/9182 [00:55<00:20, 120.68it/s]"
       ]
      },
      {
       "output_type": "stream",
       "stream": "stderr",
       "text": [
        "\r",
        " 73%|\u2588\u2588\u2588\u2588\u2588\u2588\u2588\u258e  | 6722/9182 [00:55<00:20, 120.76it/s]"
       ]
      },
      {
       "output_type": "stream",
       "stream": "stderr",
       "text": [
        "\r",
        " 73%|\u2588\u2588\u2588\u2588\u2588\u2588\u2588\u258e  | 6739/9182 [00:55<00:20, 120.82it/s]"
       ]
      },
      {
       "output_type": "stream",
       "stream": "stderr",
       "text": [
        "\r",
        " 74%|\u2588\u2588\u2588\u2588\u2588\u2588\u2588\u258e  | 6756/9182 [00:55<00:20, 120.89it/s]"
       ]
      },
      {
       "output_type": "stream",
       "stream": "stderr",
       "text": [
        "\r",
        " 74%|\u2588\u2588\u2588\u2588\u2588\u2588\u2588\u258d  | 6772/9182 [00:56<00:19, 120.88it/s]"
       ]
      },
      {
       "output_type": "stream",
       "stream": "stderr",
       "text": [
        "\r",
        " 74%|\u2588\u2588\u2588\u2588\u2588\u2588\u2588\u258d  | 6788/9182 [00:56<00:19, 120.95it/s]"
       ]
      },
      {
       "output_type": "stream",
       "stream": "stderr",
       "text": [
        "\r",
        " 74%|\u2588\u2588\u2588\u2588\u2588\u2588\u2588\u258d  | 6805/9182 [00:56<00:19, 121.02it/s]"
       ]
      },
      {
       "output_type": "stream",
       "stream": "stderr",
       "text": [
        "\r",
        " 74%|\u2588\u2588\u2588\u2588\u2588\u2588\u2588\u258d  | 6822/9182 [00:56<00:19, 121.10it/s]"
       ]
      },
      {
       "output_type": "stream",
       "stream": "stderr",
       "text": [
        "\r",
        " 74%|\u2588\u2588\u2588\u2588\u2588\u2588\u2588\u258d  | 6839/9182 [00:56<00:19, 121.18it/s]"
       ]
      },
      {
       "output_type": "stream",
       "stream": "stderr",
       "text": [
        "\r",
        " 75%|\u2588\u2588\u2588\u2588\u2588\u2588\u2588\u258d  | 6856/9182 [00:56<00:19, 121.25it/s]"
       ]
      },
      {
       "output_type": "stream",
       "stream": "stderr",
       "text": [
        "\r",
        " 75%|\u2588\u2588\u2588\u2588\u2588\u2588\u2588\u258d  | 6873/9182 [00:56<00:19, 121.33it/s]"
       ]
      },
      {
       "output_type": "stream",
       "stream": "stderr",
       "text": [
        "\r",
        " 75%|\u2588\u2588\u2588\u2588\u2588\u2588\u2588\u258c  | 6890/9182 [00:56<00:18, 121.40it/s]"
       ]
      },
      {
       "output_type": "stream",
       "stream": "stderr",
       "text": [
        "\r",
        " 75%|\u2588\u2588\u2588\u2588\u2588\u2588\u2588\u258c  | 6907/9182 [00:56<00:18, 121.48it/s]"
       ]
      },
      {
       "output_type": "stream",
       "stream": "stderr",
       "text": [
        "\r",
        " 75%|\u2588\u2588\u2588\u2588\u2588\u2588\u2588\u258c  | 6924/9182 [00:56<00:18, 121.55it/s]"
       ]
      },
      {
       "output_type": "stream",
       "stream": "stderr",
       "text": [
        "\r",
        " 76%|\u2588\u2588\u2588\u2588\u2588\u2588\u2588\u258c  | 6941/9182 [00:57<00:18, 121.60it/s]"
       ]
      },
      {
       "output_type": "stream",
       "stream": "stderr",
       "text": [
        "\r",
        " 76%|\u2588\u2588\u2588\u2588\u2588\u2588\u2588\u258c  | 6957/9182 [00:57<00:18, 121.67it/s]"
       ]
      },
      {
       "output_type": "stream",
       "stream": "stderr",
       "text": [
        "\r",
        " 76%|\u2588\u2588\u2588\u2588\u2588\u2588\u2588\u258c  | 6973/9182 [00:57<00:18, 121.73it/s]"
       ]
      },
      {
       "output_type": "stream",
       "stream": "stderr",
       "text": [
        "\r",
        " 76%|\u2588\u2588\u2588\u2588\u2588\u2588\u2588\u258c  | 6990/9182 [00:57<00:17, 121.81it/s]"
       ]
      },
      {
       "output_type": "stream",
       "stream": "stderr",
       "text": [
        "\r",
        " 76%|\u2588\u2588\u2588\u2588\u2588\u2588\u2588\u258b  | 7007/9182 [00:57<00:17, 121.88it/s]"
       ]
      },
      {
       "output_type": "stream",
       "stream": "stderr",
       "text": [
        "\r",
        " 76%|\u2588\u2588\u2588\u2588\u2588\u2588\u2588\u258b  | 7024/9182 [00:57<00:17, 121.96it/s]"
       ]
      },
      {
       "output_type": "stream",
       "stream": "stderr",
       "text": [
        "\r",
        " 77%|\u2588\u2588\u2588\u2588\u2588\u2588\u2588\u258b  | 7041/9182 [00:57<00:17, 122.04it/s]"
       ]
      },
      {
       "output_type": "stream",
       "stream": "stderr",
       "text": [
        "\r",
        " 77%|\u2588\u2588\u2588\u2588\u2588\u2588\u2588\u258b  | 7058/9182 [00:57<00:17, 122.11it/s]"
       ]
      },
      {
       "output_type": "stream",
       "stream": "stderr",
       "text": [
        "\r",
        " 77%|\u2588\u2588\u2588\u2588\u2588\u2588\u2588\u258b  | 7075/9182 [00:57<00:17, 122.19it/s]"
       ]
      },
      {
       "output_type": "stream",
       "stream": "stderr",
       "text": [
        "\r",
        " 77%|\u2588\u2588\u2588\u2588\u2588\u2588\u2588\u258b  | 7092/9182 [00:58<00:17, 122.27it/s]"
       ]
      },
      {
       "output_type": "stream",
       "stream": "stderr",
       "text": [
        "\r",
        " 77%|\u2588\u2588\u2588\u2588\u2588\u2588\u2588\u258b  | 7109/9182 [00:58<00:16, 122.34it/s]"
       ]
      },
      {
       "output_type": "stream",
       "stream": "stderr",
       "text": [
        "\r",
        " 78%|\u2588\u2588\u2588\u2588\u2588\u2588\u2588\u258a  | 7126/9182 [00:58<00:16, 122.42it/s]"
       ]
      },
      {
       "output_type": "stream",
       "stream": "stderr",
       "text": [
        "\r",
        " 78%|\u2588\u2588\u2588\u2588\u2588\u2588\u2588\u258a  | 7143/9182 [00:58<00:16, 122.49it/s]"
       ]
      },
      {
       "output_type": "stream",
       "stream": "stderr",
       "text": [
        "\r",
        " 78%|\u2588\u2588\u2588\u2588\u2588\u2588\u2588\u258a  | 7160/9182 [00:58<00:16, 122.57it/s]"
       ]
      },
      {
       "output_type": "stream",
       "stream": "stderr",
       "text": [
        "\r",
        " 78%|\u2588\u2588\u2588\u2588\u2588\u2588\u2588\u258a  | 7177/9182 [00:58<00:16, 122.64it/s]"
       ]
      },
      {
       "output_type": "stream",
       "stream": "stderr",
       "text": [
        "\r",
        " 78%|\u2588\u2588\u2588\u2588\u2588\u2588\u2588\u258a  | 7194/9182 [00:58<00:16, 122.72it/s]"
       ]
      },
      {
       "output_type": "stream",
       "stream": "stderr",
       "text": [
        "\r",
        " 79%|\u2588\u2588\u2588\u2588\u2588\u2588\u2588\u258a  | 7211/9182 [00:58<00:16, 122.80it/s]"
       ]
      },
      {
       "output_type": "stream",
       "stream": "stderr",
       "text": [
        "\r",
        " 79%|\u2588\u2588\u2588\u2588\u2588\u2588\u2588\u258a  | 7228/9182 [00:58<00:15, 122.82it/s]"
       ]
      },
      {
       "output_type": "stream",
       "stream": "stderr",
       "text": [
        "\r",
        " 79%|\u2588\u2588\u2588\u2588\u2588\u2588\u2588\u2589  | 7244/9182 [00:58<00:15, 122.88it/s]"
       ]
      },
      {
       "output_type": "stream",
       "stream": "stderr",
       "text": [
        "\r",
        " 79%|\u2588\u2588\u2588\u2588\u2588\u2588\u2588\u2589  | 7261/9182 [00:59<00:15, 122.95it/s]"
       ]
      },
      {
       "output_type": "stream",
       "stream": "stderr",
       "text": [
        "\r",
        " 79%|\u2588\u2588\u2588\u2588\u2588\u2588\u2588\u2589  | 7278/9182 [00:59<00:15, 123.02it/s]"
       ]
      },
      {
       "output_type": "stream",
       "stream": "stderr",
       "text": [
        "\r",
        " 79%|\u2588\u2588\u2588\u2588\u2588\u2588\u2588\u2589  | 7294/9182 [00:59<00:15, 123.04it/s]"
       ]
      },
      {
       "output_type": "stream",
       "stream": "stderr",
       "text": [
        "\r",
        " 80%|\u2588\u2588\u2588\u2588\u2588\u2588\u2588\u2589  | 7311/9182 [00:59<00:15, 123.12it/s]"
       ]
      },
      {
       "output_type": "stream",
       "stream": "stderr",
       "text": [
        "\r",
        " 80%|\u2588\u2588\u2588\u2588\u2588\u2588\u2588\u2589  | 7328/9182 [00:59<00:15, 123.19it/s]"
       ]
      },
      {
       "output_type": "stream",
       "stream": "stderr",
       "text": [
        "\r",
        " 80%|\u2588\u2588\u2588\u2588\u2588\u2588\u2588\u2589  | 7345/9182 [00:59<00:14, 123.27it/s]"
       ]
      },
      {
       "output_type": "stream",
       "stream": "stderr",
       "text": [
        "\r",
        " 80%|\u2588\u2588\u2588\u2588\u2588\u2588\u2588\u2588  | 7362/9182 [00:59<00:14, 123.33it/s]"
       ]
      },
      {
       "output_type": "stream",
       "stream": "stderr",
       "text": [
        "\r",
        " 80%|\u2588\u2588\u2588\u2588\u2588\u2588\u2588\u2588  | 7379/9182 [00:59<00:14, 123.40it/s]"
       ]
      },
      {
       "output_type": "stream",
       "stream": "stderr",
       "text": [
        "\r",
        " 81%|\u2588\u2588\u2588\u2588\u2588\u2588\u2588\u2588  | 7396/9182 [00:59<00:14, 123.47it/s]"
       ]
      },
      {
       "output_type": "stream",
       "stream": "stderr",
       "text": [
        "\r",
        " 81%|\u2588\u2588\u2588\u2588\u2588\u2588\u2588\u2588  | 7413/9182 [01:00<00:14, 123.54it/s]"
       ]
      },
      {
       "output_type": "stream",
       "stream": "stderr",
       "text": [
        "\r",
        " 81%|\u2588\u2588\u2588\u2588\u2588\u2588\u2588\u2588  | 7430/9182 [01:00<00:14, 123.61it/s]"
       ]
      },
      {
       "output_type": "stream",
       "stream": "stderr",
       "text": [
        "\r",
        " 81%|\u2588\u2588\u2588\u2588\u2588\u2588\u2588\u2588  | 7447/9182 [01:00<00:14, 123.68it/s]"
       ]
      },
      {
       "output_type": "stream",
       "stream": "stderr",
       "text": [
        "\r",
        " 81%|\u2588\u2588\u2588\u2588\u2588\u2588\u2588\u2588\u258f | 7464/9182 [01:00<00:13, 123.75it/s]"
       ]
      },
      {
       "output_type": "stream",
       "stream": "stderr",
       "text": [
        "\r",
        " 81%|\u2588\u2588\u2588\u2588\u2588\u2588\u2588\u2588\u258f | 7481/9182 [01:00<00:13, 123.82it/s]"
       ]
      },
      {
       "output_type": "stream",
       "stream": "stderr",
       "text": [
        "\r",
        " 82%|\u2588\u2588\u2588\u2588\u2588\u2588\u2588\u2588\u258f | 7498/9182 [01:00<00:13, 123.89it/s]"
       ]
      },
      {
       "output_type": "stream",
       "stream": "stderr",
       "text": [
        "\r",
        " 82%|\u2588\u2588\u2588\u2588\u2588\u2588\u2588\u2588\u258f | 7515/9182 [01:00<00:13, 123.97it/s]"
       ]
      },
      {
       "output_type": "stream",
       "stream": "stderr",
       "text": [
        "\r",
        " 82%|\u2588\u2588\u2588\u2588\u2588\u2588\u2588\u2588\u258f | 7532/9182 [01:00<00:13, 124.03it/s]"
       ]
      },
      {
       "output_type": "stream",
       "stream": "stderr",
       "text": [
        "\r",
        " 82%|\u2588\u2588\u2588\u2588\u2588\u2588\u2588\u2588\u258f | 7549/9182 [01:00<00:13, 124.10it/s]"
       ]
      },
      {
       "output_type": "stream",
       "stream": "stderr",
       "text": [
        "\r",
        " 82%|\u2588\u2588\u2588\u2588\u2588\u2588\u2588\u2588\u258f | 7566/9182 [01:00<00:13, 124.17it/s]"
       ]
      },
      {
       "output_type": "stream",
       "stream": "stderr",
       "text": [
        "\r",
        " 83%|\u2588\u2588\u2588\u2588\u2588\u2588\u2588\u2588\u258e | 7583/9182 [01:01<00:12, 124.20it/s]"
       ]
      },
      {
       "output_type": "stream",
       "stream": "stderr",
       "text": [
        "\r",
        " 83%|\u2588\u2588\u2588\u2588\u2588\u2588\u2588\u2588\u258e | 7599/9182 [01:01<00:12, 124.25it/s]"
       ]
      },
      {
       "output_type": "stream",
       "stream": "stderr",
       "text": [
        "\r",
        " 83%|\u2588\u2588\u2588\u2588\u2588\u2588\u2588\u2588\u258e | 7616/9182 [01:01<00:12, 124.31it/s]"
       ]
      },
      {
       "output_type": "stream",
       "stream": "stderr",
       "text": [
        "\r",
        " 83%|\u2588\u2588\u2588\u2588\u2588\u2588\u2588\u2588\u258e | 7633/9182 [01:01<00:12, 124.38it/s]"
       ]
      },
      {
       "output_type": "stream",
       "stream": "stderr",
       "text": [
        "\r",
        " 83%|\u2588\u2588\u2588\u2588\u2588\u2588\u2588\u2588\u258e | 7650/9182 [01:01<00:12, 124.45it/s]"
       ]
      },
      {
       "output_type": "stream",
       "stream": "stderr",
       "text": [
        "\r",
        " 84%|\u2588\u2588\u2588\u2588\u2588\u2588\u2588\u2588\u258e | 7667/9182 [01:01<00:12, 124.51it/s]"
       ]
      },
      {
       "output_type": "stream",
       "stream": "stderr",
       "text": [
        "\r",
        " 84%|\u2588\u2588\u2588\u2588\u2588\u2588\u2588\u2588\u258e | 7684/9182 [01:01<00:12, 124.55it/s]"
       ]
      },
      {
       "output_type": "stream",
       "stream": "stderr",
       "text": [
        "\r",
        " 84%|\u2588\u2588\u2588\u2588\u2588\u2588\u2588\u2588\u258d | 7700/9182 [01:01<00:11, 124.58it/s]"
       ]
      },
      {
       "output_type": "stream",
       "stream": "stderr",
       "text": [
        "\r",
        " 84%|\u2588\u2588\u2588\u2588\u2588\u2588\u2588\u2588\u258d | 7717/9182 [01:01<00:11, 124.64it/s]"
       ]
      },
      {
       "output_type": "stream",
       "stream": "stderr",
       "text": [
        "\r",
        " 84%|\u2588\u2588\u2588\u2588\u2588\u2588\u2588\u2588\u258d | 7733/9182 [01:02<00:11, 124.69it/s]"
       ]
      },
      {
       "output_type": "stream",
       "stream": "stderr",
       "text": [
        "\r",
        " 84%|\u2588\u2588\u2588\u2588\u2588\u2588\u2588\u2588\u258d | 7749/9182 [01:02<00:11, 124.75it/s]"
       ]
      },
      {
       "output_type": "stream",
       "stream": "stderr",
       "text": [
        "\r",
        " 85%|\u2588\u2588\u2588\u2588\u2588\u2588\u2588\u2588\u258d | 7765/9182 [01:02<00:11, 124.80it/s]"
       ]
      },
      {
       "output_type": "stream",
       "stream": "stderr",
       "text": [
        "\r",
        " 85%|\u2588\u2588\u2588\u2588\u2588\u2588\u2588\u2588\u258d | 7781/9182 [01:02<00:11, 124.85it/s]"
       ]
      },
      {
       "output_type": "stream",
       "stream": "stderr",
       "text": [
        "\r",
        " 85%|\u2588\u2588\u2588\u2588\u2588\u2588\u2588\u2588\u258d | 7797/9182 [01:02<00:11, 124.91it/s]"
       ]
      },
      {
       "output_type": "stream",
       "stream": "stderr",
       "text": [
        "\r",
        " 85%|\u2588\u2588\u2588\u2588\u2588\u2588\u2588\u2588\u258c | 7814/9182 [01:02<00:10, 124.98it/s]"
       ]
      },
      {
       "output_type": "stream",
       "stream": "stderr",
       "text": [
        "\r",
        " 85%|\u2588\u2588\u2588\u2588\u2588\u2588\u2588\u2588\u258c | 7831/9182 [01:02<00:10, 125.04it/s]"
       ]
      },
      {
       "output_type": "stream",
       "stream": "stderr",
       "text": [
        "\r",
        " 85%|\u2588\u2588\u2588\u2588\u2588\u2588\u2588\u2588\u258c | 7848/9182 [01:02<00:10, 125.05it/s]"
       ]
      },
      {
       "output_type": "stream",
       "stream": "stderr",
       "text": [
        "\r",
        " 86%|\u2588\u2588\u2588\u2588\u2588\u2588\u2588\u2588\u258c | 7864/9182 [01:02<00:10, 125.09it/s]"
       ]
      },
      {
       "output_type": "stream",
       "stream": "stderr",
       "text": [
        "\r",
        " 86%|\u2588\u2588\u2588\u2588\u2588\u2588\u2588\u2588\u258c | 7881/9182 [01:02<00:10, 125.15it/s]"
       ]
      },
      {
       "output_type": "stream",
       "stream": "stderr",
       "text": [
        "\r",
        " 86%|\u2588\u2588\u2588\u2588\u2588\u2588\u2588\u2588\u258c | 7898/9182 [01:03<00:10, 125.22it/s]"
       ]
      },
      {
       "output_type": "stream",
       "stream": "stderr",
       "text": [
        "\r",
        " 86%|\u2588\u2588\u2588\u2588\u2588\u2588\u2588\u2588\u258c | 7914/9182 [01:03<00:10, 125.27it/s]"
       ]
      },
      {
       "output_type": "stream",
       "stream": "stderr",
       "text": [
        "\r",
        " 86%|\u2588\u2588\u2588\u2588\u2588\u2588\u2588\u2588\u258b | 7931/9182 [01:03<00:09, 125.33it/s]"
       ]
      },
      {
       "output_type": "stream",
       "stream": "stderr",
       "text": [
        "\r",
        " 87%|\u2588\u2588\u2588\u2588\u2588\u2588\u2588\u2588\u258b | 7948/9182 [01:03<00:09, 125.40it/s]"
       ]
      },
      {
       "output_type": "stream",
       "stream": "stderr",
       "text": [
        "\r",
        " 87%|\u2588\u2588\u2588\u2588\u2588\u2588\u2588\u2588\u258b | 7965/9182 [01:03<00:09, 125.47it/s]"
       ]
      },
      {
       "output_type": "stream",
       "stream": "stderr",
       "text": [
        "\r",
        " 87%|\u2588\u2588\u2588\u2588\u2588\u2588\u2588\u2588\u258b | 7982/9182 [01:03<00:09, 125.54it/s]"
       ]
      },
      {
       "output_type": "stream",
       "stream": "stderr",
       "text": [
        "\r",
        " 87%|\u2588\u2588\u2588\u2588\u2588\u2588\u2588\u2588\u258b | 7999/9182 [01:03<00:09, 125.60it/s]"
       ]
      },
      {
       "output_type": "stream",
       "stream": "stderr",
       "text": [
        "\r",
        " 87%|\u2588\u2588\u2588\u2588\u2588\u2588\u2588\u2588\u258b | 8016/9182 [01:03<00:09, 125.66it/s]"
       ]
      },
      {
       "output_type": "stream",
       "stream": "stderr",
       "text": [
        "\r",
        " 87%|\u2588\u2588\u2588\u2588\u2588\u2588\u2588\u2588\u258b | 8033/9182 [01:03<00:09, 125.71it/s]"
       ]
      },
      {
       "output_type": "stream",
       "stream": "stderr",
       "text": [
        "\r",
        " 88%|\u2588\u2588\u2588\u2588\u2588\u2588\u2588\u2588\u258a | 8050/9182 [01:04<00:09, 125.77it/s]"
       ]
      },
      {
       "output_type": "stream",
       "stream": "stderr",
       "text": [
        "\r",
        " 88%|\u2588\u2588\u2588\u2588\u2588\u2588\u2588\u2588\u258a | 8067/9182 [01:04<00:08, 125.84it/s]"
       ]
      },
      {
       "output_type": "stream",
       "stream": "stderr",
       "text": [
        "\r",
        " 88%|\u2588\u2588\u2588\u2588\u2588\u2588\u2588\u2588\u258a | 8084/9182 [01:04<00:08, 125.91it/s]"
       ]
      },
      {
       "output_type": "stream",
       "stream": "stderr",
       "text": [
        "\r",
        " 88%|\u2588\u2588\u2588\u2588\u2588\u2588\u2588\u2588\u258a | 8101/9182 [01:04<00:08, 125.97it/s]"
       ]
      },
      {
       "output_type": "stream",
       "stream": "stderr",
       "text": [
        "\r",
        " 88%|\u2588\u2588\u2588\u2588\u2588\u2588\u2588\u2588\u258a | 8118/9182 [01:04<00:08, 126.04it/s]"
       ]
      },
      {
       "output_type": "stream",
       "stream": "stderr",
       "text": [
        "\r",
        " 89%|\u2588\u2588\u2588\u2588\u2588\u2588\u2588\u2588\u258a | 8135/9182 [01:04<00:08, 126.10it/s]"
       ]
      },
      {
       "output_type": "stream",
       "stream": "stderr",
       "text": [
        "\r",
        " 89%|\u2588\u2588\u2588\u2588\u2588\u2588\u2588\u2588\u2589 | 8152/9182 [01:04<00:08, 126.17it/s]"
       ]
      },
      {
       "output_type": "stream",
       "stream": "stderr",
       "text": [
        "\r",
        " 89%|\u2588\u2588\u2588\u2588\u2588\u2588\u2588\u2588\u2589 | 8169/9182 [01:04<00:08, 126.12it/s]"
       ]
      },
      {
       "output_type": "stream",
       "stream": "stderr",
       "text": [
        "\r",
        " 89%|\u2588\u2588\u2588\u2588\u2588\u2588\u2588\u2588\u2589 | 8186/9182 [01:04<00:07, 126.18it/s]"
       ]
      },
      {
       "output_type": "stream",
       "stream": "stderr",
       "text": [
        "\r",
        " 89%|\u2588\u2588\u2588\u2588\u2588\u2588\u2588\u2588\u2589 | 8203/9182 [01:04<00:07, 126.23it/s]"
       ]
      },
      {
       "output_type": "stream",
       "stream": "stderr",
       "text": [
        "\r",
        " 90%|\u2588\u2588\u2588\u2588\u2588\u2588\u2588\u2588\u2589 | 8220/9182 [01:05<00:07, 126.29it/s]"
       ]
      },
      {
       "output_type": "stream",
       "stream": "stderr",
       "text": [
        "\r",
        " 90%|\u2588\u2588\u2588\u2588\u2588\u2588\u2588\u2588\u2589 | 8237/9182 [01:05<00:07, 126.36it/s]"
       ]
      },
      {
       "output_type": "stream",
       "stream": "stderr",
       "text": [
        "\r",
        " 90%|\u2588\u2588\u2588\u2588\u2588\u2588\u2588\u2588\u2589 | 8254/9182 [01:05<00:07, 126.42it/s]"
       ]
      },
      {
       "output_type": "stream",
       "stream": "stderr",
       "text": [
        "\r",
        " 90%|\u2588\u2588\u2588\u2588\u2588\u2588\u2588\u2588\u2588 | 8271/9182 [01:05<00:07, 126.48it/s]"
       ]
      },
      {
       "output_type": "stream",
       "stream": "stderr",
       "text": [
        "\r",
        " 90%|\u2588\u2588\u2588\u2588\u2588\u2588\u2588\u2588\u2588 | 8288/9182 [01:05<00:07, 126.53it/s]"
       ]
      },
      {
       "output_type": "stream",
       "stream": "stderr",
       "text": [
        "\r",
        " 90%|\u2588\u2588\u2588\u2588\u2588\u2588\u2588\u2588\u2588 | 8305/9182 [01:05<00:06, 126.60it/s]"
       ]
      },
      {
       "output_type": "stream",
       "stream": "stderr",
       "text": [
        "\r",
        " 91%|\u2588\u2588\u2588\u2588\u2588\u2588\u2588\u2588\u2588 | 8322/9182 [01:05<00:06, 126.66it/s]"
       ]
      },
      {
       "output_type": "stream",
       "stream": "stderr",
       "text": [
        "\r",
        " 91%|\u2588\u2588\u2588\u2588\u2588\u2588\u2588\u2588\u2588 | 8339/9182 [01:05<00:06, 126.69it/s]"
       ]
      },
      {
       "output_type": "stream",
       "stream": "stderr",
       "text": [
        "\r",
        " 91%|\u2588\u2588\u2588\u2588\u2588\u2588\u2588\u2588\u2588 | 8356/9182 [01:05<00:06, 126.74it/s]"
       ]
      },
      {
       "output_type": "stream",
       "stream": "stderr",
       "text": [
        "\r",
        " 91%|\u2588\u2588\u2588\u2588\u2588\u2588\u2588\u2588\u2588 | 8373/9182 [01:06<00:06, 126.80it/s]"
       ]
      },
      {
       "output_type": "stream",
       "stream": "stderr",
       "text": [
        "\r",
        " 91%|\u2588\u2588\u2588\u2588\u2588\u2588\u2588\u2588\u2588\u258f| 8390/9182 [01:06<00:06, 126.86it/s]"
       ]
      },
      {
       "output_type": "stream",
       "stream": "stderr",
       "text": [
        "\r",
        " 92%|\u2588\u2588\u2588\u2588\u2588\u2588\u2588\u2588\u2588\u258f| 8407/9182 [01:06<00:06, 126.91it/s]"
       ]
      },
      {
       "output_type": "stream",
       "stream": "stderr",
       "text": [
        "\r",
        " 92%|\u2588\u2588\u2588\u2588\u2588\u2588\u2588\u2588\u2588\u258f| 8424/9182 [01:06<00:05, 126.95it/s]"
       ]
      },
      {
       "output_type": "stream",
       "stream": "stderr",
       "text": [
        "\r",
        " 92%|\u2588\u2588\u2588\u2588\u2588\u2588\u2588\u2588\u2588\u258f| 8441/9182 [01:06<00:05, 127.01it/s]"
       ]
      },
      {
       "output_type": "stream",
       "stream": "stderr",
       "text": [
        "\r",
        " 92%|\u2588\u2588\u2588\u2588\u2588\u2588\u2588\u2588\u2588\u258f| 8458/9182 [01:06<00:05, 127.07it/s]"
       ]
      },
      {
       "output_type": "stream",
       "stream": "stderr",
       "text": [
        "\r",
        " 92%|\u2588\u2588\u2588\u2588\u2588\u2588\u2588\u2588\u2588\u258f| 8475/9182 [01:06<00:05, 127.13it/s]"
       ]
      },
      {
       "output_type": "stream",
       "stream": "stderr",
       "text": [
        "\r",
        " 92%|\u2588\u2588\u2588\u2588\u2588\u2588\u2588\u2588\u2588\u258f| 8492/9182 [01:06<00:05, 127.19it/s]"
       ]
      },
      {
       "output_type": "stream",
       "stream": "stderr",
       "text": [
        "\r",
        " 93%|\u2588\u2588\u2588\u2588\u2588\u2588\u2588\u2588\u2588\u258e| 8509/9182 [01:06<00:05, 127.25it/s]"
       ]
      },
      {
       "output_type": "stream",
       "stream": "stderr",
       "text": [
        "\r",
        " 93%|\u2588\u2588\u2588\u2588\u2588\u2588\u2588\u2588\u2588\u258e| 8526/9182 [01:06<00:05, 127.31it/s]"
       ]
      },
      {
       "output_type": "stream",
       "stream": "stderr",
       "text": [
        "\r",
        " 93%|\u2588\u2588\u2588\u2588\u2588\u2588\u2588\u2588\u2588\u258e| 8543/9182 [01:07<00:05, 127.38it/s]"
       ]
      },
      {
       "output_type": "stream",
       "stream": "stderr",
       "text": [
        "\r",
        " 93%|\u2588\u2588\u2588\u2588\u2588\u2588\u2588\u2588\u2588\u258e| 8560/9182 [01:07<00:04, 127.44it/s]"
       ]
      },
      {
       "output_type": "stream",
       "stream": "stderr",
       "text": [
        "\r",
        " 93%|\u2588\u2588\u2588\u2588\u2588\u2588\u2588\u2588\u2588\u258e| 8577/9182 [01:07<00:04, 127.50it/s]"
       ]
      },
      {
       "output_type": "stream",
       "stream": "stderr",
       "text": [
        "\r",
        " 94%|\u2588\u2588\u2588\u2588\u2588\u2588\u2588\u2588\u2588\u258e| 8594/9182 [01:07<00:04, 127.56it/s]"
       ]
      },
      {
       "output_type": "stream",
       "stream": "stderr",
       "text": [
        "\r",
        " 94%|\u2588\u2588\u2588\u2588\u2588\u2588\u2588\u2588\u2588\u258d| 8611/9182 [01:07<00:04, 127.62it/s]"
       ]
      },
      {
       "output_type": "stream",
       "stream": "stderr",
       "text": [
        "\r",
        " 94%|\u2588\u2588\u2588\u2588\u2588\u2588\u2588\u2588\u2588\u258d| 8628/9182 [01:07<00:04, 127.68it/s]"
       ]
      },
      {
       "output_type": "stream",
       "stream": "stderr",
       "text": [
        "\r",
        " 94%|\u2588\u2588\u2588\u2588\u2588\u2588\u2588\u2588\u2588\u258d| 8645/9182 [01:07<00:04, 127.73it/s]"
       ]
      },
      {
       "output_type": "stream",
       "stream": "stderr",
       "text": [
        "\r",
        " 94%|\u2588\u2588\u2588\u2588\u2588\u2588\u2588\u2588\u2588\u258d| 8662/9182 [01:07<00:04, 127.78it/s]"
       ]
      },
      {
       "output_type": "stream",
       "stream": "stderr",
       "text": [
        "\r",
        " 95%|\u2588\u2588\u2588\u2588\u2588\u2588\u2588\u2588\u2588\u258d| 8679/9182 [01:07<00:03, 127.84it/s]"
       ]
      },
      {
       "output_type": "stream",
       "stream": "stderr",
       "text": [
        "\r",
        " 95%|\u2588\u2588\u2588\u2588\u2588\u2588\u2588\u2588\u2588\u258d| 8696/9182 [01:07<00:03, 127.90it/s]"
       ]
      },
      {
       "output_type": "stream",
       "stream": "stderr",
       "text": [
        "\r",
        " 95%|\u2588\u2588\u2588\u2588\u2588\u2588\u2588\u2588\u2588\u258d| 8713/9182 [01:08<00:03, 127.96it/s]"
       ]
      },
      {
       "output_type": "stream",
       "stream": "stderr",
       "text": [
        "\r",
        " 95%|\u2588\u2588\u2588\u2588\u2588\u2588\u2588\u2588\u2588\u258c| 8730/9182 [01:08<00:03, 128.01it/s]"
       ]
      },
      {
       "output_type": "stream",
       "stream": "stderr",
       "text": [
        "\r",
        " 95%|\u2588\u2588\u2588\u2588\u2588\u2588\u2588\u2588\u2588\u258c| 8747/9182 [01:08<00:03, 128.07it/s]"
       ]
      },
      {
       "output_type": "stream",
       "stream": "stderr",
       "text": [
        "\r",
        " 95%|\u2588\u2588\u2588\u2588\u2588\u2588\u2588\u2588\u2588\u258c| 8764/9182 [01:08<00:03, 128.12it/s]"
       ]
      },
      {
       "output_type": "stream",
       "stream": "stderr",
       "text": [
        "\r",
        " 96%|\u2588\u2588\u2588\u2588\u2588\u2588\u2588\u2588\u2588\u258c| 8781/9182 [01:08<00:03, 128.18it/s]"
       ]
      },
      {
       "output_type": "stream",
       "stream": "stderr",
       "text": [
        "\r",
        " 96%|\u2588\u2588\u2588\u2588\u2588\u2588\u2588\u2588\u2588\u258c| 8798/9182 [01:08<00:02, 128.24it/s]"
       ]
      },
      {
       "output_type": "stream",
       "stream": "stderr",
       "text": [
        "\r",
        " 96%|\u2588\u2588\u2588\u2588\u2588\u2588\u2588\u2588\u2588\u258c| 8815/9182 [01:08<00:02, 128.30it/s]"
       ]
      },
      {
       "output_type": "stream",
       "stream": "stderr",
       "text": [
        "\r",
        " 96%|\u2588\u2588\u2588\u2588\u2588\u2588\u2588\u2588\u2588\u258c| 8832/9182 [01:08<00:02, 128.34it/s]"
       ]
      },
      {
       "output_type": "stream",
       "stream": "stderr",
       "text": [
        "\r",
        " 96%|\u2588\u2588\u2588\u2588\u2588\u2588\u2588\u2588\u2588\u258b| 8849/9182 [01:08<00:02, 128.40it/s]"
       ]
      },
      {
       "output_type": "stream",
       "stream": "stderr",
       "text": [
        "\r",
        " 97%|\u2588\u2588\u2588\u2588\u2588\u2588\u2588\u2588\u2588\u258b| 8866/9182 [01:09<00:02, 128.46it/s]"
       ]
      },
      {
       "output_type": "stream",
       "stream": "stderr",
       "text": [
        "\r",
        " 97%|\u2588\u2588\u2588\u2588\u2588\u2588\u2588\u2588\u2588\u258b| 8883/9182 [01:09<00:02, 128.51it/s]"
       ]
      },
      {
       "output_type": "stream",
       "stream": "stderr",
       "text": [
        "\r",
        " 97%|\u2588\u2588\u2588\u2588\u2588\u2588\u2588\u2588\u2588\u258b| 8900/9182 [01:09<00:02, 128.57it/s]"
       ]
      },
      {
       "output_type": "stream",
       "stream": "stderr",
       "text": [
        "\r",
        " 97%|\u2588\u2588\u2588\u2588\u2588\u2588\u2588\u2588\u2588\u258b| 8917/9182 [01:09<00:02, 128.62it/s]"
       ]
      },
      {
       "output_type": "stream",
       "stream": "stderr",
       "text": [
        "\r",
        " 97%|\u2588\u2588\u2588\u2588\u2588\u2588\u2588\u2588\u2588\u258b| 8934/9182 [01:09<00:01, 128.68it/s]"
       ]
      },
      {
       "output_type": "stream",
       "stream": "stderr",
       "text": [
        "\r",
        " 97%|\u2588\u2588\u2588\u2588\u2588\u2588\u2588\u2588\u2588\u258b| 8951/9182 [01:09<00:01, 128.73it/s]"
       ]
      },
      {
       "output_type": "stream",
       "stream": "stderr",
       "text": [
        "\r",
        " 98%|\u2588\u2588\u2588\u2588\u2588\u2588\u2588\u2588\u2588\u258a| 8968/9182 [01:09<00:01, 128.79it/s]"
       ]
      },
      {
       "output_type": "stream",
       "stream": "stderr",
       "text": [
        "\r",
        " 98%|\u2588\u2588\u2588\u2588\u2588\u2588\u2588\u2588\u2588\u258a| 8985/9182 [01:09<00:01, 128.84it/s]"
       ]
      },
      {
       "output_type": "stream",
       "stream": "stderr",
       "text": [
        "\r",
        " 98%|\u2588\u2588\u2588\u2588\u2588\u2588\u2588\u2588\u2588\u258a| 9002/9182 [01:09<00:01, 128.89it/s]"
       ]
      },
      {
       "output_type": "stream",
       "stream": "stderr",
       "text": [
        "\r",
        " 98%|\u2588\u2588\u2588\u2588\u2588\u2588\u2588\u2588\u2588\u258a| 9019/9182 [01:09<00:01, 128.95it/s]"
       ]
      },
      {
       "output_type": "stream",
       "stream": "stderr",
       "text": [
        "\r",
        " 98%|\u2588\u2588\u2588\u2588\u2588\u2588\u2588\u2588\u2588\u258a| 9036/9182 [01:10<00:01, 129.01it/s]"
       ]
      },
      {
       "output_type": "stream",
       "stream": "stderr",
       "text": [
        "\r",
        " 99%|\u2588\u2588\u2588\u2588\u2588\u2588\u2588\u2588\u2588\u258a| 9053/9182 [01:10<00:00, 129.06it/s]"
       ]
      },
      {
       "output_type": "stream",
       "stream": "stderr",
       "text": [
        "\r",
        " 99%|\u2588\u2588\u2588\u2588\u2588\u2588\u2588\u2588\u2588\u2589| 9070/9182 [01:10<00:00, 129.11it/s]"
       ]
      },
      {
       "output_type": "stream",
       "stream": "stderr",
       "text": [
        "\r",
        " 99%|\u2588\u2588\u2588\u2588\u2588\u2588\u2588\u2588\u2588\u2589| 9087/9182 [01:10<00:00, 129.17it/s]"
       ]
      },
      {
       "output_type": "stream",
       "stream": "stderr",
       "text": [
        "\r",
        " 99%|\u2588\u2588\u2588\u2588\u2588\u2588\u2588\u2588\u2588\u2589| 9104/9182 [01:10<00:00, 129.22it/s]"
       ]
      },
      {
       "output_type": "stream",
       "stream": "stderr",
       "text": [
        "\r",
        " 99%|\u2588\u2588\u2588\u2588\u2588\u2588\u2588\u2588\u2588\u2589| 9121/9182 [01:10<00:00, 129.27it/s]"
       ]
      },
      {
       "output_type": "stream",
       "stream": "stderr",
       "text": [
        "\r",
        "100%|\u2588\u2588\u2588\u2588\u2588\u2588\u2588\u2588\u2588\u2589| 9138/9182 [01:10<00:00, 129.33it/s]"
       ]
      },
      {
       "output_type": "stream",
       "stream": "stderr",
       "text": [
        "\r",
        "100%|\u2588\u2588\u2588\u2588\u2588\u2588\u2588\u2588\u2588\u2589| 9155/9182 [01:10<00:00, 129.37it/s]"
       ]
      },
      {
       "output_type": "stream",
       "stream": "stderr",
       "text": [
        "\r",
        "100%|\u2588\u2588\u2588\u2588\u2588\u2588\u2588\u2588\u2588\u2589| 9172/9182 [01:10<00:00, 129.42it/s]"
       ]
      },
      {
       "output_type": "stream",
       "stream": "stderr",
       "text": [
        "\r",
        "100%|\u2588\u2588\u2588\u2588\u2588\u2588\u2588\u2588\u2588\u2588| 9182/9182 [01:10<00:00, 129.44it/s]"
       ]
      },
      {
       "output_type": "stream",
       "stream": "stderr",
       "text": [
        "\n"
       ]
      }
     ],
     "prompt_number": 356
    },
    {
     "cell_type": "code",
     "collapsed": false,
     "input": [
      "import numpy as np\n",
      "users_posts[\"recommendations\"] = [np.unique(x) for x in recommendations]\n",
      "users_posts[\"views\"] = [np.unique(x) for x in views]\n",
      "users_posts[\"votes\"] = [np.unique(x) for x in votes]\n",
      "users_posts[\"clear_votes\"] = [np.unique(x) for x in clear_votes]\n",
      "users_posts[\"comments\"] = [np.unique(x) for x in comments]\n",
      "users_posts[\"user\"] = users\n",
      "# users_posts[\"period\"] = period_numbers"
     ],
     "language": "python",
     "metadata": {},
     "outputs": [],
     "prompt_number": 357
    },
    {
     "cell_type": "code",
     "collapsed": false,
     "input": [
      "users_posts[users_posts[\"user\"] == 20823]"
     ],
     "language": "python",
     "metadata": {},
     "outputs": [
      {
       "html": [
        "<div style=\"max-width:1500px;overflow:auto;\">\n",
        "<style>\n",
        "    .dataframe thead tr:only-child th {\n",
        "        text-align: right;\n",
        "    }\n",
        "\n",
        "    .dataframe thead th {\n",
        "        text-align: left;\n",
        "    }\n",
        "\n",
        "    .dataframe tbody tr th {\n",
        "        vertical-align: top;\n",
        "    }\n",
        "</style>\n",
        "<table border=\"1\" class=\"dataframe\">\n",
        "  <thead>\n",
        "    <tr style=\"text-align: right;\">\n",
        "      <th></th>\n",
        "      <th>recommendations</th>\n",
        "      <th>views</th>\n",
        "      <th>votes</th>\n",
        "      <th>clear_votes</th>\n",
        "      <th>comments</th>\n",
        "      <th>user</th>\n",
        "    </tr>\n",
        "  </thead>\n",
        "  <tbody>\n",
        "    <tr>\n",
        "      <th>1685</th>\n",
        "      <td>[-aleco/neuzheli-bitfinex-stanet-novym-titanik...</td>\n",
        "      <td>[https://golos.io/habrahabr/@habreplicator/ii-...</td>\n",
        "      <td>[@aleco/neuzheli-bitfinex-stanet-novym-titanik...</td>\n",
        "      <td>[@aleco/neuzheli-bitfinex-stanet-novym-titanik...</td>\n",
        "      <td>[]</td>\n",
        "      <td>20823.0</td>\n",
        "    </tr>\n",
        "  </tbody>\n",
        "</table>\n",
        "</div>"
       ],
       "metadata": {},
       "output_type": "pyout",
       "prompt_number": 358,
       "text": [
        "                                        recommendations  \\\n",
        "1685  [-aleco/neuzheli-bitfinex-stanet-novym-titanik...   \n",
        "\n",
        "                                                  views  \\\n",
        "1685  [https://golos.io/habrahabr/@habreplicator/ii-...   \n",
        "\n",
        "                                                  votes  \\\n",
        "1685  [@aleco/neuzheli-bitfinex-stanet-novym-titanik...   \n",
        "\n",
        "                                            clear_votes comments     user  \n",
        "1685  [@aleco/neuzheli-bitfinex-stanet-novym-titanik...       []  20823.0  "
       ]
      }
     ],
     "prompt_number": 358
    },
    {
     "cell_type": "markdown",
     "metadata": {},
     "source": [
      "Normalize links for each type of event"
     ]
    },
    {
     "cell_type": "code",
     "collapsed": false,
     "input": [
      "users_posts[\"recommendations\"] = users_posts[\"recommendations\"].apply(lambda x: [\"@\" + s[1:-1] for s in x])"
     ],
     "language": "python",
     "metadata": {},
     "outputs": [],
     "prompt_number": 359
    },
    {
     "cell_type": "code",
     "collapsed": false,
     "input": [
      "users_posts[\"views\"] = users_posts[\"views\"].apply(lambda x: [\"/\".join(s.split(\"/\")[4:]) for s in x])"
     ],
     "language": "python",
     "metadata": {},
     "outputs": [],
     "prompt_number": 360
    },
    {
     "cell_type": "code",
     "collapsed": false,
     "input": [
      "users_posts[\"comments\"] = users_posts[\"comments\"].apply(lambda x: [\"/\".join(str(s).split(\"/\")[4:]) for s in x])"
     ],
     "language": "python",
     "metadata": {},
     "outputs": [],
     "prompt_number": 361
    },
    {
     "cell_type": "code",
     "collapsed": false,
     "input": [
      "events[events[\"from_same_page\"]].shape[0]/events[events[\"event_type\"] == \"Vote\"].shape[0]"
     ],
     "language": "python",
     "metadata": {},
     "outputs": [
      {
       "metadata": {},
       "output_type": "pyout",
       "prompt_number": 362,
       "text": [
        "0.2235334933236995"
       ]
      }
     ],
     "prompt_number": 362
    },
    {
     "cell_type": "markdown",
     "metadata": {},
     "source": [
      "Create dataset from events\n",
      "- Clear vote - 1\n",
      "- Comment - 1\n",
      "- Vote after page view - 1\n",
      "- Vote - 0.5\n",
      "- Page view - 0.5\n",
      "- Recommendation without page view - -1"
     ]
    },
    {
     "cell_type": "code",
     "collapsed": false,
     "input": [
      "dataset = pd.DataFrame()\n",
      "users = []\n",
      "posts = []\n",
      "likes = []\n",
      "# period_numbers = []\n",
      "number = users_posts.shape[0]"
     ],
     "language": "python",
     "metadata": {},
     "outputs": [],
     "prompt_number": 363
    },
    {
     "cell_type": "code",
     "collapsed": false,
     "input": [
      "for index, row in users_posts.iterrows():\n",
      "    print(float(index / number) * 100, end=\"\\r\")\n",
      "    user_posts = [row[\"views\"], row[\"comments\"], row[\"votes\"], row[\"clear_votes\"], row[\"recommendations\"]]\n",
      "    user_posts = np.unique([item for sublist in user_posts for item in sublist])\n",
      "    for post in user_posts:\n",
      "        users.append(row[\"user\"])\n",
      "        posts.append(post)\n",
      "#         period_numbers.append(np.exp(np.log(0.1) + (0 - np.log(0.1)) * row[\"period\"] / len(periods)))\n",
      "        if post in row[\"clear_votes\"]:\n",
      "            likes.append(1)\n",
      "        elif post in row[\"comments\"]:\n",
      "            likes.append(1)\n",
      "        elif (post in row[\"votes\"]) and (post in row[\"views\"]):\n",
      "            likes.append(1)\n",
      "        elif (post in row[\"views\"]):\n",
      "            likes.append(0.7)\n",
      "        elif (post in row[\"votes\"]):\n",
      "            likes.append(0.5)\n",
      "        elif (post in row[\"recommendations\"]):\n",
      "            likes.append(-1)\n",
      "        else:\n",
      "            likes.append(0) # WTF"
     ],
     "language": "python",
     "metadata": {},
     "outputs": [
      {
       "output_type": "stream",
       "stream": "stdout",
       "text": [
        "0.0\r",
        "0.010890873448050535\r",
        "0.02178174689610107\r",
        "0.0326726203441516"
       ]
      },
      {
       "output_type": "stream",
       "stream": "stdout",
       "text": [
        "\r",
        "0.04356349379220214"
       ]
      },
      {
       "output_type": "stream",
       "stream": "stdout",
       "text": [
        "\r",
        "0.05445436724025267\r",
        "0.0653452406883032"
       ]
      },
      {
       "output_type": "stream",
       "stream": "stdout",
       "text": [
        "\r",
        "0.07623611413635373\r",
        "0.08712698758440428\r",
        "0.0980178610324548"
       ]
      },
      {
       "output_type": "stream",
       "stream": "stdout",
       "text": [
        "\r",
        "0.10890873448050534"
       ]
      },
      {
       "output_type": "stream",
       "stream": "stdout",
       "text": [
        "\r",
        "0.11979960792855587"
       ]
      },
      {
       "output_type": "stream",
       "stream": "stdout",
       "text": [
        "\r",
        "0.1306904813766064\r",
        "0.14158135482465695"
       ]
      },
      {
       "output_type": "stream",
       "stream": "stdout",
       "text": [
        "\r",
        "0.15247222827270746\r",
        "0.163363101720758\r",
        "0.17425397516880856"
       ]
      },
      {
       "output_type": "stream",
       "stream": "stdout",
       "text": [
        "\r",
        "0.18514484861685906"
       ]
      },
      {
       "output_type": "stream",
       "stream": "stdout",
       "text": [
        "\r",
        "0.1960357220649096"
       ]
      },
      {
       "output_type": "stream",
       "stream": "stdout",
       "text": [
        "\r",
        "0.20692659551296017\r",
        "0.21781746896101067"
       ]
      },
      {
       "output_type": "stream",
       "stream": "stdout",
       "text": [
        "\r",
        "0.2287083424090612"
       ]
      },
      {
       "output_type": "stream",
       "stream": "stdout",
       "text": [
        "\r",
        "0.23959921585711175\r",
        "0.25049008930516226"
       ]
      },
      {
       "output_type": "stream",
       "stream": "stdout",
       "text": [
        "\r",
        "0.2613809627532128"
       ]
      },
      {
       "output_type": "stream",
       "stream": "stdout",
       "text": [
        "\r",
        "0.27227183620126333"
       ]
      },
      {
       "output_type": "stream",
       "stream": "stdout",
       "text": [
        "\r",
        "0.2831627096493139"
       ]
      },
      {
       "output_type": "stream",
       "stream": "stdout",
       "text": [
        "\r",
        "0.2940535830973644\r",
        "0.3049444565454149"
       ]
      },
      {
       "output_type": "stream",
       "stream": "stdout",
       "text": [
        "\r",
        "0.3158353299934655\r",
        "0.326726203441516"
       ]
      },
      {
       "output_type": "stream",
       "stream": "stdout",
       "text": [
        "\r",
        "0.33761707688956655"
       ]
      },
      {
       "output_type": "stream",
       "stream": "stdout",
       "text": [
        "\r",
        "0.3485079503376171\r",
        "0.3593988237856676\r",
        "0.37028969723371813"
       ]
      },
      {
       "output_type": "stream",
       "stream": "stdout",
       "text": [
        "\r",
        "0.3811805706817687\r",
        "0.3920714441298192\r",
        "0.40296231757786977"
       ]
      },
      {
       "output_type": "stream",
       "stream": "stdout",
       "text": [
        "\r",
        "0.41385319102592033"
       ]
      },
      {
       "output_type": "stream",
       "stream": "stdout",
       "text": [
        "\r",
        "0.4247440644739708\r",
        "0.43563493792202135"
       ]
      },
      {
       "output_type": "stream",
       "stream": "stdout",
       "text": [
        "\r",
        "0.44652581137007186"
       ]
      },
      {
       "output_type": "stream",
       "stream": "stdout",
       "text": [
        "\r",
        "0.4574166848181224"
       ]
      },
      {
       "output_type": "stream",
       "stream": "stdout",
       "text": [
        "\r",
        "0.468307558266173\r",
        "0.4791984317142235"
       ]
      },
      {
       "output_type": "stream",
       "stream": "stdout",
       "text": [
        "\r",
        "0.490089305162274"
       ]
      },
      {
       "output_type": "stream",
       "stream": "stdout",
       "text": [
        "\r",
        "0.5009801786103245"
       ]
      },
      {
       "output_type": "stream",
       "stream": "stdout",
       "text": [
        "\r",
        "0.5118710520583751"
       ]
      },
      {
       "output_type": "stream",
       "stream": "stdout",
       "text": [
        "\r",
        "0.5227619255064256\r",
        "0.5336527989544761"
       ]
      },
      {
       "output_type": "stream",
       "stream": "stdout",
       "text": [
        "\r",
        "0.5445436724025267"
       ]
      },
      {
       "output_type": "stream",
       "stream": "stdout",
       "text": [
        "\r",
        "0.5554345458505772"
       ]
      },
      {
       "output_type": "stream",
       "stream": "stdout",
       "text": [
        "\r",
        "0.5663254192986278\r",
        "0.5772162927466783\r",
        "0.5881071661947288"
       ]
      },
      {
       "output_type": "stream",
       "stream": "stdout",
       "text": [
        "\r",
        "0.5989980396427793"
       ]
      },
      {
       "output_type": "stream",
       "stream": "stdout",
       "text": [
        "\r",
        "0.6098889130908298\r",
        "0.6207797865388804\r",
        "0.631670659986931\r",
        "0.6425615334349816\r",
        "0.653452406883032\r",
        "0.6643432803310825"
       ]
      },
      {
       "output_type": "stream",
       "stream": "stdout",
       "text": [
        "\r",
        "0.6752341537791331"
       ]
      },
      {
       "output_type": "stream",
       "stream": "stdout",
       "text": [
        "\r",
        "0.6861250272271836\r",
        "0.6970159006752342\r",
        "0.7079067741232846\r",
        "0.7187976475713352"
       ]
      },
      {
       "output_type": "stream",
       "stream": "stdout",
       "text": [
        "\r",
        "0.7296885210193857"
       ]
      },
      {
       "output_type": "stream",
       "stream": "stdout",
       "text": [
        "\r",
        "0.7405793944674363\r",
        "0.7514702679154869\r",
        "0.7623611413635374"
       ]
      },
      {
       "output_type": "stream",
       "stream": "stdout",
       "text": [
        "\r",
        "0.7732520148115879"
       ]
      },
      {
       "output_type": "stream",
       "stream": "stdout",
       "text": [
        "\r",
        "0.7841428882596384\r",
        "0.7950337617076889\r",
        "0.8059246351557395"
       ]
      },
      {
       "output_type": "stream",
       "stream": "stdout",
       "text": [
        "\r",
        "0.81681550860379"
       ]
      },
      {
       "output_type": "stream",
       "stream": "stdout",
       "text": [
        "\r",
        "0.8277063820518407"
       ]
      },
      {
       "output_type": "stream",
       "stream": "stdout",
       "text": [
        "\r",
        "0.8385972554998912"
       ]
      },
      {
       "output_type": "stream",
       "stream": "stdout",
       "text": [
        "\r",
        "0.8494881289479416\r",
        "0.8603790023959921\r",
        "0.8712698758440427"
       ]
      },
      {
       "output_type": "stream",
       "stream": "stdout",
       "text": [
        "\r",
        "0.8821607492920932\r",
        "0.8930516227401437\r",
        "0.9039424961881943\r",
        "0.9148333696362448\r",
        "0.9257242430842954\r",
        "0.936615116532346\r",
        "0.9475059899803965"
       ]
      },
      {
       "output_type": "stream",
       "stream": "stdout",
       "text": [
        "\r",
        "0.958396863428447"
       ]
      },
      {
       "output_type": "stream",
       "stream": "stdout",
       "text": [
        "\r",
        "0.9692877368764974\r",
        "0.980178610324548"
       ]
      },
      {
       "output_type": "stream",
       "stream": "stdout",
       "text": [
        "\r",
        "0.9910694837725985"
       ]
      },
      {
       "output_type": "stream",
       "stream": "stdout",
       "text": [
        "\r",
        "1.001960357220649"
       ]
      },
      {
       "output_type": "stream",
       "stream": "stdout",
       "text": [
        "\r",
        "1.0128512306686996"
       ]
      },
      {
       "output_type": "stream",
       "stream": "stdout",
       "text": [
        "\r",
        "1.0237421041167503\r",
        "1.0346329775648007"
       ]
      },
      {
       "output_type": "stream",
       "stream": "stdout",
       "text": [
        "\r",
        "1.0455238510128513\r",
        "1.056414724460902"
       ]
      },
      {
       "output_type": "stream",
       "stream": "stdout",
       "text": [
        "\r",
        "1.0673055979089523"
       ]
      },
      {
       "output_type": "stream",
       "stream": "stdout",
       "text": [
        "\r",
        "1.0781964713570027\r",
        "1.0890873448050533\r",
        "1.099978218253104"
       ]
      },
      {
       "output_type": "stream",
       "stream": "stdout",
       "text": [
        "\r",
        "1.1108690917011543"
       ]
      },
      {
       "output_type": "stream",
       "stream": "stdout",
       "text": [
        "\r",
        "1.121759965149205\r",
        "1.1326508385972556\r",
        "1.143541712045306"
       ]
      },
      {
       "output_type": "stream",
       "stream": "stdout",
       "text": [
        "\r",
        "1.1544325854933566\r",
        "1.1653234589414072\r",
        "1.1762143323894576"
       ]
      },
      {
       "output_type": "stream",
       "stream": "stdout",
       "text": [
        "\r",
        "1.1871052058375082\r",
        "1.1979960792855586"
       ]
      },
      {
       "output_type": "stream",
       "stream": "stdout",
       "text": [
        "\r",
        "1.2088869527336092\r",
        "1.2197778261816596\r",
        "1.2306686996297103"
       ]
      },
      {
       "output_type": "stream",
       "stream": "stdout",
       "text": [
        "\r",
        "1.2415595730777609\r",
        "1.2524504465258113\r",
        "1.263341319973862\r",
        "1.2742321934219125\r",
        "1.2851230668699631"
       ]
      },
      {
       "output_type": "stream",
       "stream": "stdout",
       "text": [
        "\r",
        "1.2960139403180135"
       ]
      },
      {
       "output_type": "stream",
       "stream": "stdout",
       "text": [
        "\r",
        "1.306904813766064"
       ]
      },
      {
       "output_type": "stream",
       "stream": "stdout",
       "text": [
        "\r",
        "1.3177956872141146"
       ]
      },
      {
       "output_type": "stream",
       "stream": "stdout",
       "text": [
        "\r",
        "1.328686560662165\r",
        "1.3395774341102156\r",
        "1.3504683075582662"
       ]
      },
      {
       "output_type": "stream",
       "stream": "stdout",
       "text": [
        "\r",
        "1.3613591810063168\r",
        "1.3722500544543672\r",
        "1.3831409279024178\r",
        "1.3940318013504684\r",
        "1.4049226747985188\r",
        "1.4158135482465692\r",
        "1.4267044216946199\r",
        "1.4375952951426705"
       ]
      },
      {
       "output_type": "stream",
       "stream": "stdout",
       "text": [
        "\r",
        "1.4484861685907209\r",
        "1.4593770420387715\r",
        "1.4702679154868221"
       ]
      },
      {
       "output_type": "stream",
       "stream": "stdout",
       "text": [
        "\r",
        "1.4811587889348725\r",
        "1.4920496623829231\r",
        "1.5029405358309738"
       ]
      },
      {
       "output_type": "stream",
       "stream": "stdout",
       "text": [
        "\r",
        "1.5138314092790242\r",
        "1.5247222827270748"
       ]
      },
      {
       "output_type": "stream",
       "stream": "stdout",
       "text": [
        "\r",
        "1.5356131561751252\r",
        "1.5465040296231758"
       ]
      },
      {
       "output_type": "stream",
       "stream": "stdout",
       "text": [
        "\r",
        "1.5573949030712262\r",
        "1.5682857765192768\r",
        "1.5791766499673274\r",
        "1.5900675234153778\r",
        "1.6009583968634284"
       ]
      },
      {
       "output_type": "stream",
       "stream": "stdout",
       "text": [
        "\r",
        "1.611849270311479\r",
        "1.6227401437595295\r",
        "1.63363101720758\r",
        "1.6445218906556307\r",
        "1.6554127641036813"
       ]
      },
      {
       "output_type": "stream",
       "stream": "stdout",
       "text": [
        "\r",
        "1.6663036375517317"
       ]
      },
      {
       "output_type": "stream",
       "stream": "stdout",
       "text": [
        "\r",
        "1.6771945109997823\r",
        "1.688085384447833\r",
        "1.6989762578958831\r",
        "1.7098671313439335"
       ]
      },
      {
       "output_type": "stream",
       "stream": "stdout",
       "text": [
        "\r",
        "1.7207580047919842\r",
        "1.7316488782400348\r",
        "1.7425397516880854"
       ]
      },
      {
       "output_type": "stream",
       "stream": "stdout",
       "text": [
        "\r",
        "1.7534306251361358"
       ]
      },
      {
       "output_type": "stream",
       "stream": "stdout",
       "text": [
        "\r",
        "1.7643214985841864\r",
        "1.775212372032237\r",
        "1.7861032454802874"
       ]
      },
      {
       "output_type": "stream",
       "stream": "stdout",
       "text": [
        "\r",
        "1.796994118928338\r",
        "1.8078849923763887"
       ]
      },
      {
       "output_type": "stream",
       "stream": "stdout",
       "text": [
        "\r",
        "1.818775865824439\r",
        "1.8296667392724897"
       ]
      },
      {
       "output_type": "stream",
       "stream": "stdout",
       "text": [
        "\r",
        "1.8405576127205403\r",
        "1.8514484861685907"
       ]
      },
      {
       "output_type": "stream",
       "stream": "stdout",
       "text": [
        "\r",
        "1.8623393596166413"
       ]
      },
      {
       "output_type": "stream",
       "stream": "stdout",
       "text": [
        "\r",
        "1.873230233064692\r",
        "1.8841211065127423\r",
        "1.895011979960793\r",
        "1.9059028534088436\r",
        "1.916793726856894\r",
        "1.9276846003049444\r",
        "1.9385754737529948\r",
        "1.9494663472010454\r",
        "1.960357220649096"
       ]
      },
      {
       "output_type": "stream",
       "stream": "stdout",
       "text": [
        "\r",
        "1.9712480940971464\r",
        "1.982138967545197"
       ]
      },
      {
       "output_type": "stream",
       "stream": "stdout",
       "text": [
        "\r",
        "1.9930298409932476\r",
        "2.003920714441298"
       ]
      },
      {
       "output_type": "stream",
       "stream": "stdout",
       "text": [
        "\r",
        "2.0148115878893487\r",
        "2.0257024613373993\r",
        "2.03659333478545"
       ]
      },
      {
       "output_type": "stream",
       "stream": "stdout",
       "text": [
        "\r",
        "2.0474842082335005"
       ]
      },
      {
       "output_type": "stream",
       "stream": "stdout",
       "text": [
        "\r",
        "2.0583750816815507"
       ]
      },
      {
       "output_type": "stream",
       "stream": "stdout",
       "text": [
        "\r",
        "2.0692659551296013\r",
        "2.080156828577652\r",
        "2.0910477020257026"
       ]
      },
      {
       "output_type": "stream",
       "stream": "stdout",
       "text": [
        "\r",
        "2.101938575473753\r",
        "2.112829448921804"
       ]
      },
      {
       "output_type": "stream",
       "stream": "stdout",
       "text": [
        "\r",
        "2.123720322369854\r",
        "2.1346111958179046\r",
        "2.145502069265955\r",
        "2.1563929427140054"
       ]
      },
      {
       "output_type": "stream",
       "stream": "stdout",
       "text": [
        "\r",
        "2.167283816162056"
       ]
      },
      {
       "output_type": "stream",
       "stream": "stdout",
       "text": [
        "\r",
        "2.1781746896101066\r",
        "2.1890655630581572"
       ]
      },
      {
       "output_type": "stream",
       "stream": "stdout",
       "text": [
        "\r",
        "2.199956436506208"
       ]
      },
      {
       "output_type": "stream",
       "stream": "stdout",
       "text": [
        "\r",
        "2.210847309954258\r",
        "2.2217381834023087\r",
        "2.2326290568503593\r",
        "2.24351993029841"
       ]
      },
      {
       "output_type": "stream",
       "stream": "stdout",
       "text": [
        "\r",
        "2.2544108037464605\r",
        "2.265301677194511"
       ]
      },
      {
       "output_type": "stream",
       "stream": "stdout",
       "text": [
        "\r",
        "2.2761925506425618\r",
        "2.287083424090612"
       ]
      },
      {
       "output_type": "stream",
       "stream": "stdout",
       "text": [
        "\r",
        "2.2979742975386626"
       ]
      },
      {
       "output_type": "stream",
       "stream": "stdout",
       "text": [
        "\r",
        "2.308865170986713"
       ]
      },
      {
       "output_type": "stream",
       "stream": "stdout",
       "text": [
        "\r",
        "2.319756044434764"
       ]
      },
      {
       "output_type": "stream",
       "stream": "stdout",
       "text": [
        "\r",
        "2.3306469178828144"
       ]
      },
      {
       "output_type": "stream",
       "stream": "stdout",
       "text": [
        "\r",
        "2.341537791330865"
       ]
      },
      {
       "output_type": "stream",
       "stream": "stdout",
       "text": [
        "\r",
        "2.352428664778915\r",
        "2.363319538226966"
       ]
      },
      {
       "output_type": "stream",
       "stream": "stdout",
       "text": [
        "\r",
        "2.3742104116750165\r",
        "2.3851012851230666\r",
        "2.3959921585711172"
       ]
      },
      {
       "output_type": "stream",
       "stream": "stdout",
       "text": [
        "\r",
        "2.406883032019168"
       ]
      },
      {
       "output_type": "stream",
       "stream": "stdout",
       "text": [
        "\r",
        "2.4177739054672185\r",
        "2.428664778915269"
       ]
      },
      {
       "output_type": "stream",
       "stream": "stdout",
       "text": [
        "\r",
        "2.4395556523633193\r",
        "2.45044652581137"
       ]
      },
      {
       "output_type": "stream",
       "stream": "stdout",
       "text": [
        "\r",
        "2.4613373992594205\r",
        "2.472228272707471"
       ]
      },
      {
       "output_type": "stream",
       "stream": "stdout",
       "text": [
        "\r",
        "2.4831191461555218\r",
        "2.4940100196035724"
       ]
      },
      {
       "output_type": "stream",
       "stream": "stdout",
       "text": [
        "\r",
        "2.5049008930516226\r",
        "2.515791766499673\r",
        "2.526682639947724"
       ]
      },
      {
       "output_type": "stream",
       "stream": "stdout",
       "text": [
        "\r",
        "2.5375735133957744\r",
        "2.548464386843825\r",
        "2.5593552602918757"
       ]
      },
      {
       "output_type": "stream",
       "stream": "stdout",
       "text": [
        "\r",
        "2.5702461337399263\r",
        "2.5811370071879765\r",
        "2.592027880636027"
       ]
      },
      {
       "output_type": "stream",
       "stream": "stdout",
       "text": [
        "\r",
        "2.6029187540840772\r",
        "2.613809627532128\r",
        "2.6247005009801785\r",
        "2.635591374428229"
       ]
      },
      {
       "output_type": "stream",
       "stream": "stdout",
       "text": [
        "\r",
        "2.6464822478762797"
       ]
      },
      {
       "output_type": "stream",
       "stream": "stdout",
       "text": [
        "\r",
        "2.65737312132433\r",
        "2.6682639947723805"
       ]
      },
      {
       "output_type": "stream",
       "stream": "stdout",
       "text": [
        "\r",
        "2.679154868220431\r",
        "2.6900457416684818"
       ]
      },
      {
       "output_type": "stream",
       "stream": "stdout",
       "text": [
        "\r",
        "2.7009366151165324\r",
        "2.711827488564583\r",
        "2.7227183620126336"
       ]
      },
      {
       "output_type": "stream",
       "stream": "stdout",
       "text": [
        "\r",
        "2.733609235460684\r",
        "2.7445001089087344"
       ]
      },
      {
       "output_type": "stream",
       "stream": "stdout",
       "text": [
        "\r",
        "2.755390982356785\r",
        "2.7662818558048357\r",
        "2.7771727292528863\r",
        "2.788063602700937"
       ]
      },
      {
       "output_type": "stream",
       "stream": "stdout",
       "text": [
        "\r",
        "2.798954476148987\r",
        "2.8098453495970377"
       ]
      },
      {
       "output_type": "stream",
       "stream": "stdout",
       "text": [
        "\r",
        "2.8207362230450883\r",
        "2.8316270964931385\r",
        "2.842517969941189\r",
        "2.8534088433892397"
       ]
      },
      {
       "output_type": "stream",
       "stream": "stdout",
       "text": [
        "\r",
        "2.8642997168372903\r",
        "2.875190590285341\r",
        "2.886081463733391\r",
        "2.8969723371814418\r",
        "2.9078632106294924\r",
        "2.918754084077543"
       ]
      },
      {
       "output_type": "stream",
       "stream": "stdout",
       "text": [
        "\r",
        "2.9296449575255936\r",
        "2.9405358309736442\r",
        "2.951426704421695\r",
        "2.962317577869745\r",
        "2.9732084513177957\r",
        "2.9840993247658463"
       ]
      },
      {
       "output_type": "stream",
       "stream": "stdout",
       "text": [
        "\r",
        "2.994990198213897\r",
        "3.0058810716619475\r",
        "3.016771945109998\r",
        "3.0276628185580483"
       ]
      },
      {
       "output_type": "stream",
       "stream": "stdout",
       "text": [
        "\r",
        "3.038553692006099"
       ]
      },
      {
       "output_type": "stream",
       "stream": "stdout",
       "text": [
        "\r",
        "3.0494445654541495"
       ]
      },
      {
       "output_type": "stream",
       "stream": "stdout",
       "text": [
        "\r",
        "3.0603354389021997\r",
        "3.0712263123502503"
       ]
      },
      {
       "output_type": "stream",
       "stream": "stdout",
       "text": [
        "\r",
        "3.082117185798301\r",
        "3.0930080592463516\r",
        "3.103898932694402\r",
        "3.1147898061424524"
       ]
      },
      {
       "output_type": "stream",
       "stream": "stdout",
       "text": [
        "\r",
        "3.1256806795905034\r",
        "3.1365715530385536\r",
        "3.1474624264866047\r",
        "3.158353299934655"
       ]
      },
      {
       "output_type": "stream",
       "stream": "stdout",
       "text": [
        "\r",
        "3.169244173382705\r",
        "3.1801350468307557\r",
        "3.191025920278806"
       ]
      },
      {
       "output_type": "stream",
       "stream": "stdout",
       "text": [
        "\r",
        "3.201916793726857\r",
        "3.212807667174907"
       ]
      },
      {
       "output_type": "stream",
       "stream": "stdout",
       "text": [
        "\r",
        "3.223698540622958\r",
        "3.2345894140710083"
       ]
      },
      {
       "output_type": "stream",
       "stream": "stdout",
       "text": [
        "\r",
        "3.245480287519059\r",
        "3.2563711609671095\r",
        "3.26726203441516\r",
        "3.2781529078632103\r",
        "3.2890437813112614\r",
        "3.2999346547593116\r",
        "3.3108255282073626\r",
        "3.321716401655413"
       ]
      },
      {
       "output_type": "stream",
       "stream": "stdout",
       "text": [
        "\r",
        "3.3326072751034634"
       ]
      },
      {
       "output_type": "stream",
       "stream": "stdout",
       "text": [
        "\r",
        "3.3434981485515136"
       ]
      },
      {
       "output_type": "stream",
       "stream": "stdout",
       "text": [
        "\r",
        "3.3543890219995647\r",
        "3.365279895447615\r",
        "3.376170768895666\r",
        "3.387061642343716\r",
        "3.3979525157917663\r",
        "3.408843389239817"
       ]
      },
      {
       "output_type": "stream",
       "stream": "stdout",
       "text": [
        "\r",
        "3.419734262687867\r",
        "3.430625136135918"
       ]
      },
      {
       "output_type": "stream",
       "stream": "stdout",
       "text": [
        "\r",
        "3.4415160095839683"
       ]
      },
      {
       "output_type": "stream",
       "stream": "stdout",
       "text": [
        "\r",
        "3.4524068830320194\r",
        "3.4632977564800695\r",
        "3.47418862992812"
       ]
      },
      {
       "output_type": "stream",
       "stream": "stdout",
       "text": [
        "\r",
        "3.485079503376171"
       ]
      },
      {
       "output_type": "stream",
       "stream": "stdout",
       "text": [
        "\r",
        "3.4959703768242214\r",
        "3.5068612502722716\r",
        "3.5177521237203226\r",
        "3.528642997168373"
       ]
      },
      {
       "output_type": "stream",
       "stream": "stdout",
       "text": [
        "\r",
        "3.539533870616424\r",
        "3.550424744064474\r",
        "3.5613156175125247\r",
        "3.572206490960575\r",
        "3.583097364408626\r",
        "3.593988237856676\r",
        "3.604879111304727\r",
        "3.6157699847527773"
       ]
      },
      {
       "output_type": "stream",
       "stream": "stdout",
       "text": [
        "\r",
        "3.6266608582008275"
       ]
      },
      {
       "output_type": "stream",
       "stream": "stdout",
       "text": [
        "\r",
        "3.637551731648878\r",
        "3.6484426050969283"
       ]
      },
      {
       "output_type": "stream",
       "stream": "stdout",
       "text": [
        "\r",
        "3.6593334785449794\r",
        "3.6702243519930295\r",
        "3.6811152254410806\r",
        "3.692006098889131"
       ]
      },
      {
       "output_type": "stream",
       "stream": "stdout",
       "text": [
        "\r",
        "3.7028969723371814"
       ]
      },
      {
       "output_type": "stream",
       "stream": "stdout",
       "text": [
        "\r",
        "3.7137878457852316\r",
        "3.7246787192332826"
       ]
      },
      {
       "output_type": "stream",
       "stream": "stdout",
       "text": [
        "\r",
        "3.735569592681333"
       ]
      },
      {
       "output_type": "stream",
       "stream": "stdout",
       "text": [
        "\r",
        "3.746460466129384"
       ]
      },
      {
       "output_type": "stream",
       "stream": "stdout",
       "text": [
        "\r",
        "3.757351339577434\r",
        "3.7682422130254847"
       ]
      },
      {
       "output_type": "stream",
       "stream": "stdout",
       "text": [
        "\r",
        "3.779133086473535\r",
        "3.790023959921586\r",
        "3.800914833369636\r",
        "3.811805706817687\r",
        "3.8226965802657373\r",
        "3.833587453713788"
       ]
      },
      {
       "output_type": "stream",
       "stream": "stdout",
       "text": [
        "\r",
        "3.8444783271618386"
       ]
      },
      {
       "output_type": "stream",
       "stream": "stdout",
       "text": [
        "\r",
        "3.8553692006098887\r",
        "3.8662600740579394\r",
        "3.8771509475059895\r",
        "3.8880418209540406"
       ]
      },
      {
       "output_type": "stream",
       "stream": "stdout",
       "text": [
        "\r",
        "3.898932694402091"
       ]
      },
      {
       "output_type": "stream",
       "stream": "stdout",
       "text": [
        "\r",
        "3.909823567850142"
       ]
      },
      {
       "output_type": "stream",
       "stream": "stdout",
       "text": [
        "\r",
        "3.920714441298192"
       ]
      },
      {
       "output_type": "stream",
       "stream": "stdout",
       "text": [
        "\r",
        "3.9316053147462426\r",
        "3.942496188194293"
       ]
      },
      {
       "output_type": "stream",
       "stream": "stdout",
       "text": [
        "\r",
        "3.953387061642344\r",
        "3.964277935090394\r",
        "3.975168808538445\r",
        "3.9860596819864953\r",
        "3.996950555434546\r",
        "4.007841428882596"
       ]
      },
      {
       "output_type": "stream",
       "stream": "stdout",
       "text": [
        "\r",
        "4.018732302330648\r",
        "4.029623175778697\r",
        "4.040514049226748\r",
        "4.051404922674799\r",
        "4.062295796122849"
       ]
      },
      {
       "output_type": "stream",
       "stream": "stdout",
       "text": [
        "\r",
        "4.0731866695709"
       ]
      },
      {
       "output_type": "stream",
       "stream": "stdout",
       "text": [
        "\r",
        "4.0840775430189495\r",
        "4.094968416467001\r",
        "4.105859289915051\r",
        "4.116750163363101\r",
        "4.127641036811152\r",
        "4.138531910259203"
       ]
      },
      {
       "output_type": "stream",
       "stream": "stdout",
       "text": [
        "\r",
        "4.149422783707253\r",
        "4.160313657155304\r",
        "4.1712045306033545"
       ]
      },
      {
       "output_type": "stream",
       "stream": "stdout",
       "text": [
        "\r",
        "4.182095404051405"
       ]
      },
      {
       "output_type": "stream",
       "stream": "stdout",
       "text": [
        "\r",
        "4.192986277499456\r",
        "4.203877150947506\r",
        "4.214768024395556\r",
        "4.225658897843608\r",
        "4.236549771291657"
       ]
      },
      {
       "output_type": "stream",
       "stream": "stdout",
       "text": [
        "\r",
        "4.247440644739708"
       ]
      },
      {
       "output_type": "stream",
       "stream": "stdout",
       "text": [
        "\r",
        "4.258331518187759\r",
        "4.269222391635809\r",
        "4.28011326508386"
       ]
      },
      {
       "output_type": "stream",
       "stream": "stdout",
       "text": [
        "\r",
        "4.29100413853191\r",
        "4.301895011979961\r",
        "4.312785885428011\r",
        "4.323676758876062"
       ]
      },
      {
       "output_type": "stream",
       "stream": "stdout",
       "text": [
        "\r",
        "4.334567632324112\r",
        "4.345458505772163"
       ]
      },
      {
       "output_type": "stream",
       "stream": "stdout",
       "text": [
        "\r",
        "4.356349379220213"
       ]
      },
      {
       "output_type": "stream",
       "stream": "stdout",
       "text": [
        "\r",
        "4.367240252668264\r",
        "4.3781311261163145"
       ]
      },
      {
       "output_type": "stream",
       "stream": "stdout",
       "text": [
        "\r",
        "4.389021999564365\r",
        "4.399912873012416"
       ]
      },
      {
       "output_type": "stream",
       "stream": "stdout",
       "text": [
        "\r",
        "4.410803746460466"
       ]
      },
      {
       "output_type": "stream",
       "stream": "stdout",
       "text": [
        "\r",
        "4.421694619908516\r",
        "4.432585493356568"
       ]
      },
      {
       "output_type": "stream",
       "stream": "stdout",
       "text": [
        "\r",
        "4.443476366804617"
       ]
      },
      {
       "output_type": "stream",
       "stream": "stdout",
       "text": [
        "\r",
        "4.454367240252669"
       ]
      },
      {
       "output_type": "stream",
       "stream": "stdout",
       "text": [
        "\r",
        "4.465258113700719\r",
        "4.476148987148769"
       ]
      },
      {
       "output_type": "stream",
       "stream": "stdout",
       "text": [
        "\r",
        "4.48703986059682"
       ]
      },
      {
       "output_type": "stream",
       "stream": "stdout",
       "text": [
        "\r",
        "4.49793073404487\r",
        "4.508821607492921\r",
        "4.519712480940972"
       ]
      },
      {
       "output_type": "stream",
       "stream": "stdout",
       "text": [
        "\r",
        "4.530603354389022"
       ]
      },
      {
       "output_type": "stream",
       "stream": "stdout",
       "text": [
        "\r",
        "4.541494227837072"
       ]
      },
      {
       "output_type": "stream",
       "stream": "stdout",
       "text": [
        "\r",
        "4.5523851012851235\r",
        "4.563275974733173\r",
        "4.574166848181224\r",
        "4.5850577216292745"
       ]
      },
      {
       "output_type": "stream",
       "stream": "stdout",
       "text": [
        "\r",
        "4.595948595077325"
       ]
      },
      {
       "output_type": "stream",
       "stream": "stdout",
       "text": [
        "\r",
        "4.606839468525376\r",
        "4.617730341973426\r",
        "4.628621215421477\r",
        "4.639512088869528"
       ]
      },
      {
       "output_type": "stream",
       "stream": "stdout",
       "text": [
        "\r",
        "4.650402962317577\r",
        "4.661293835765629\r",
        "4.672184709213679\r",
        "4.68307558266173"
       ]
      },
      {
       "output_type": "stream",
       "stream": "stdout",
       "text": [
        "\r",
        "4.69396645610978\r",
        "4.70485732955783"
       ]
      },
      {
       "output_type": "stream",
       "stream": "stdout",
       "text": [
        "\r",
        "4.715748203005881\r",
        "4.726639076453932\r",
        "4.737529949901982"
       ]
      },
      {
       "output_type": "stream",
       "stream": "stdout",
       "text": [
        "\r",
        "4.748420823350033"
       ]
      },
      {
       "output_type": "stream",
       "stream": "stdout",
       "text": [
        "\r",
        "4.7593116967980835\r",
        "4.770202570246133\r",
        "4.781093443694184"
       ]
      },
      {
       "output_type": "stream",
       "stream": "stdout",
       "text": [
        "\r",
        "4.7919843171422345\r",
        "4.802875190590285"
       ]
      },
      {
       "output_type": "stream",
       "stream": "stdout",
       "text": [
        "\r",
        "4.813766064038336"
       ]
      },
      {
       "output_type": "stream",
       "stream": "stdout",
       "text": [
        "\r",
        "4.824656937486386\r",
        "4.835547810934437\r",
        "4.846438684382488"
       ]
      },
      {
       "output_type": "stream",
       "stream": "stdout",
       "text": [
        "\r",
        "4.857329557830538\r",
        "4.868220431278589\r",
        "4.879111304726639"
       ]
      },
      {
       "output_type": "stream",
       "stream": "stdout",
       "text": [
        "\r",
        "4.89000217817469\r",
        "4.90089305162274"
       ]
      },
      {
       "output_type": "stream",
       "stream": "stdout",
       "text": [
        "\r",
        "4.911783925070791\r",
        "4.922674798518841"
       ]
      },
      {
       "output_type": "stream",
       "stream": "stdout",
       "text": [
        "\r",
        "4.933565671966892\r",
        "4.944456545414942\r",
        "4.955347418862993"
       ]
      },
      {
       "output_type": "stream",
       "stream": "stdout",
       "text": [
        "\r",
        "4.9662382923110435\r",
        "4.977129165759094\r",
        "4.988020039207145\r",
        "4.9989109126551945\r",
        "5.009801786103245"
       ]
      },
      {
       "output_type": "stream",
       "stream": "stdout",
       "text": [
        "\r",
        "5.020692659551296"
       ]
      },
      {
       "output_type": "stream",
       "stream": "stdout",
       "text": [
        "\r",
        "5.031583532999346\r",
        "5.042474406447397\r",
        "5.053365279895448\r",
        "5.064256153343498"
       ]
      },
      {
       "output_type": "stream",
       "stream": "stdout",
       "text": [
        "\r",
        "5.075147026791549\r",
        "5.0860379002395995"
       ]
      },
      {
       "output_type": "stream",
       "stream": "stdout",
       "text": [
        "\r",
        "5.09692877368765"
       ]
      },
      {
       "output_type": "stream",
       "stream": "stdout",
       "text": [
        "\r",
        "5.1078196471357"
       ]
      },
      {
       "output_type": "stream",
       "stream": "stdout",
       "text": [
        "\r",
        "5.118710520583751\r",
        "5.129601394031801\r",
        "5.1404922674798526\r",
        "5.151383140927902\r",
        "5.162274014375953"
       ]
      },
      {
       "output_type": "stream",
       "stream": "stdout",
       "text": [
        "\r",
        "5.1731648878240035"
       ]
      },
      {
       "output_type": "stream",
       "stream": "stdout",
       "text": [
        "\r",
        "5.184055761272054\r",
        "5.194946634720105\r",
        "5.2058375081681545"
       ]
      },
      {
       "output_type": "stream",
       "stream": "stdout",
       "text": [
        "\r",
        "5.216728381616206"
       ]
      },
      {
       "output_type": "stream",
       "stream": "stdout",
       "text": [
        "\r",
        "5.227619255064256\r",
        "5.238510128512306"
       ]
      },
      {
       "output_type": "stream",
       "stream": "stdout",
       "text": [
        "\r",
        "5.249401001960357"
       ]
      },
      {
       "output_type": "stream",
       "stream": "stdout",
       "text": [
        "\r",
        "5.260291875408408\r",
        "5.271182748856458\r",
        "5.282073622304509\r",
        "5.2929644957525595"
       ]
      },
      {
       "output_type": "stream",
       "stream": "stdout",
       "text": [
        "\r",
        "5.30385536920061"
       ]
      },
      {
       "output_type": "stream",
       "stream": "stdout",
       "text": [
        "\r",
        "5.31474624264866"
       ]
      },
      {
       "output_type": "stream",
       "stream": "stdout",
       "text": [
        "\r",
        "5.325637116096711"
       ]
      },
      {
       "output_type": "stream",
       "stream": "stdout",
       "text": [
        "\r",
        "5.336527989544761"
       ]
      },
      {
       "output_type": "stream",
       "stream": "stdout",
       "text": [
        "\r",
        "5.3474188629928125"
       ]
      },
      {
       "output_type": "stream",
       "stream": "stdout",
       "text": [
        "\r",
        "5.358309736440862\r",
        "5.369200609888914"
       ]
      },
      {
       "output_type": "stream",
       "stream": "stdout",
       "text": [
        "\r",
        "5.3800914833369635"
       ]
      },
      {
       "output_type": "stream",
       "stream": "stdout",
       "text": [
        "\r",
        "5.390982356785014\r",
        "5.401873230233065\r",
        "5.412764103681115\r",
        "5.423654977129166"
       ]
      },
      {
       "output_type": "stream",
       "stream": "stdout",
       "text": [
        "\r",
        "5.434545850577216\r",
        "5.445436724025267\r",
        "5.456327597473317"
       ]
      },
      {
       "output_type": "stream",
       "stream": "stdout",
       "text": [
        "\r",
        "5.467218470921368"
       ]
      },
      {
       "output_type": "stream",
       "stream": "stdout",
       "text": [
        "\r",
        "5.478109344369418"
       ]
      },
      {
       "output_type": "stream",
       "stream": "stdout",
       "text": [
        "\r",
        "5.489000217817469"
       ]
      },
      {
       "output_type": "stream",
       "stream": "stdout",
       "text": [
        "\r",
        "5.4998910912655194"
       ]
      },
      {
       "output_type": "stream",
       "stream": "stdout",
       "text": [
        "\r",
        "5.51078196471357\r",
        "5.521672838161621"
       ]
      },
      {
       "output_type": "stream",
       "stream": "stdout",
       "text": [
        "\r",
        "5.532563711609671"
       ]
      },
      {
       "output_type": "stream",
       "stream": "stdout",
       "text": [
        "\r",
        "5.543454585057721\r",
        "5.5543454585057725"
       ]
      },
      {
       "output_type": "stream",
       "stream": "stdout",
       "text": [
        "\r",
        "5.565236331953822\r",
        "5.576127205401874"
       ]
      },
      {
       "output_type": "stream",
       "stream": "stdout",
       "text": [
        "\r",
        "5.5870180788499235\r",
        "5.597908952297974"
       ]
      },
      {
       "output_type": "stream",
       "stream": "stdout",
       "text": [
        "\r",
        "5.608799825746025\r",
        "5.619690699194075\r",
        "5.630581572642126"
       ]
      },
      {
       "output_type": "stream",
       "stream": "stdout",
       "text": [
        "\r",
        "5.641472446090177\r",
        "5.652363319538227\r",
        "5.663254192986277"
       ]
      },
      {
       "output_type": "stream",
       "stream": "stdout",
       "text": [
        "\r",
        "5.6741450664343285"
       ]
      },
      {
       "output_type": "stream",
       "stream": "stdout",
       "text": [
        "\r",
        "5.685035939882378\r",
        "5.695926813330429\r",
        "5.7068176867784794"
       ]
      },
      {
       "output_type": "stream",
       "stream": "stdout",
       "text": [
        "\r",
        "5.71770856022653\r",
        "5.728599433674581\r",
        "5.739490307122631\r",
        "5.750381180570682"
       ]
      },
      {
       "output_type": "stream",
       "stream": "stdout",
       "text": [
        "\r",
        "5.7612720540187325\r",
        "5.772162927466782\r",
        "5.783053800914834"
       ]
      },
      {
       "output_type": "stream",
       "stream": "stdout",
       "text": [
        "\r",
        "5.7939446743628835\r",
        "5.804835547810935\r",
        "5.815726421258985"
       ]
      },
      {
       "output_type": "stream",
       "stream": "stdout",
       "text": [
        "\r",
        "5.826617294707035\r",
        "5.837508168155086\r",
        "5.848399041603137\r",
        "5.859289915051187"
       ]
      },
      {
       "output_type": "stream",
       "stream": "stdout",
       "text": [
        "\r",
        "5.870180788499238\r",
        "5.8810716619472885\r",
        "5.891962535395338"
       ]
      },
      {
       "output_type": "stream",
       "stream": "stdout",
       "text": [
        "\r",
        "5.90285340884339"
       ]
      },
      {
       "output_type": "stream",
       "stream": "stdout",
       "text": [
        "\r",
        "5.9137442822914394\r",
        "5.92463515573949\r",
        "5.935526029187541\r",
        "5.946416902635591\r",
        "5.957307776083642"
       ]
      },
      {
       "output_type": "stream",
       "stream": "stdout",
       "text": [
        "\r",
        "5.9681986495316925"
       ]
      },
      {
       "output_type": "stream",
       "stream": "stdout",
       "text": [
        "\r",
        "5.979089522979743"
       ]
      },
      {
       "output_type": "stream",
       "stream": "stdout",
       "text": [
        "\r",
        "5.989980396427794"
       ]
      },
      {
       "output_type": "stream",
       "stream": "stdout",
       "text": [
        "\r",
        "6.0008712698758435"
       ]
      },
      {
       "output_type": "stream",
       "stream": "stdout",
       "text": [
        "\r",
        "6.011762143323895"
       ]
      },
      {
       "output_type": "stream",
       "stream": "stdout",
       "text": [
        "\r",
        "6.022653016771945\r",
        "6.033543890219996"
       ]
      },
      {
       "output_type": "stream",
       "stream": "stdout",
       "text": [
        "\r",
        "6.044434763668046"
       ]
      },
      {
       "output_type": "stream",
       "stream": "stdout",
       "text": [
        "\r",
        "6.055325637116097"
       ]
      },
      {
       "output_type": "stream",
       "stream": "stdout",
       "text": [
        "\r",
        "6.066216510564147"
       ]
      },
      {
       "output_type": "stream",
       "stream": "stdout",
       "text": [
        "\r",
        "6.077107384012198\r",
        "6.0879982574602485"
       ]
      },
      {
       "output_type": "stream",
       "stream": "stdout",
       "text": [
        "\r",
        "6.098889130908299\r",
        "6.10978000435635\r",
        "6.1206708778043994"
       ]
      },
      {
       "output_type": "stream",
       "stream": "stdout",
       "text": [
        "\r",
        "6.13156175125245"
       ]
      },
      {
       "output_type": "stream",
       "stream": "stdout",
       "text": [
        "\r",
        "6.142452624700501\r",
        "6.153343498148551"
       ]
      },
      {
       "output_type": "stream",
       "stream": "stdout",
       "text": [
        "\r",
        "6.164234371596602\r",
        "6.1751252450446525"
       ]
      },
      {
       "output_type": "stream",
       "stream": "stdout",
       "text": [
        "\r",
        "6.186016118492703"
       ]
      },
      {
       "output_type": "stream",
       "stream": "stdout",
       "text": [
        "\r",
        "6.196906991940754\r",
        "6.207797865388804"
       ]
      },
      {
       "output_type": "stream",
       "stream": "stdout",
       "text": [
        "\r",
        "6.218688738836855"
       ]
      },
      {
       "output_type": "stream",
       "stream": "stdout",
       "text": [
        "\r",
        "6.229579612284905\r",
        "6.240470485732956"
       ]
      },
      {
       "output_type": "stream",
       "stream": "stdout",
       "text": [
        "\r",
        "6.251361359181007\r",
        "6.262252232629057"
       ]
      },
      {
       "output_type": "stream",
       "stream": "stdout",
       "text": [
        "\r",
        "6.273143106077107\r",
        "6.284033979525158"
       ]
      },
      {
       "output_type": "stream",
       "stream": "stdout",
       "text": [
        "\r",
        "6.294924852973209"
       ]
      },
      {
       "output_type": "stream",
       "stream": "stdout",
       "text": [
        "\r",
        "6.305815726421258\r",
        "6.31670659986931\r",
        "6.32759747331736\r",
        "6.33848834676541"
       ]
      },
      {
       "output_type": "stream",
       "stream": "stdout",
       "text": [
        "\r",
        "6.349379220213461\r",
        "6.360270093661511"
       ]
      },
      {
       "output_type": "stream",
       "stream": "stdout",
       "text": [
        "\r",
        "6.371160967109563\r",
        "6.382051840557612"
       ]
      },
      {
       "output_type": "stream",
       "stream": "stdout",
       "text": [
        "\r",
        "6.392942714005663\r",
        "6.403833587453714"
       ]
      },
      {
       "output_type": "stream",
       "stream": "stdout",
       "text": [
        "\r",
        "6.414724460901764\r",
        "6.425615334349814\r",
        "6.436506207797866\r",
        "6.447397081245916"
       ]
      },
      {
       "output_type": "stream",
       "stream": "stdout",
       "text": [
        "\r",
        "6.458287954693967"
       ]
      },
      {
       "output_type": "stream",
       "stream": "stdout",
       "text": [
        "\r",
        "6.469178828142017\r",
        "6.480069701590067\r",
        "6.490960575038118\r",
        "6.501851448486169\r",
        "6.512742321934219\r",
        "6.52363319538227\r",
        "6.53452406883032\r",
        "6.545414942278372\r",
        "6.556305815726421"
       ]
      },
      {
       "output_type": "stream",
       "stream": "stdout",
       "text": [
        "\r",
        "6.567196689174472"
       ]
      },
      {
       "output_type": "stream",
       "stream": "stdout",
       "text": [
        "\r",
        "6.578087562622523"
       ]
      },
      {
       "output_type": "stream",
       "stream": "stdout",
       "text": [
        "\r",
        "6.5889784360705725\r",
        "6.599869309518623\r",
        "6.610760182966674"
       ]
      },
      {
       "output_type": "stream",
       "stream": "stdout",
       "text": [
        "\r",
        "6.621651056414725\r",
        "6.632541929862774"
       ]
      },
      {
       "output_type": "stream",
       "stream": "stdout",
       "text": [
        "\r",
        "6.643432803310826\r",
        "6.654323676758876"
       ]
      },
      {
       "output_type": "stream",
       "stream": "stdout",
       "text": [
        "\r",
        "6.665214550206927\r",
        "6.676105423654977\r",
        "6.686996297103027"
       ]
      },
      {
       "output_type": "stream",
       "stream": "stdout",
       "text": [
        "\r",
        "6.697887170551079\r",
        "6.708778043999129\r",
        "6.719668917447179\r",
        "6.73055979089523\r",
        "6.74145066434328"
       ]
      },
      {
       "output_type": "stream",
       "stream": "stdout",
       "text": [
        "\r",
        "6.752341537791332\r",
        "6.763232411239381\r",
        "6.774123284687432"
       ]
      },
      {
       "output_type": "stream",
       "stream": "stdout",
       "text": [
        "\r",
        "6.785014158135483"
       ]
      },
      {
       "output_type": "stream",
       "stream": "stdout",
       "text": [
        "\r",
        "6.7959050315835325\r",
        "6.806795905031583\r",
        "6.817686778479634"
       ]
      },
      {
       "output_type": "stream",
       "stream": "stdout",
       "text": [
        "\r",
        "6.828577651927685\r",
        "6.839468525375734\r",
        "6.850359398823786"
       ]
      },
      {
       "output_type": "stream",
       "stream": "stdout",
       "text": [
        "\r",
        "6.861250272271836\r",
        "6.872141145719887"
       ]
      },
      {
       "output_type": "stream",
       "stream": "stdout",
       "text": [
        "\r",
        "6.883032019167937"
       ]
      },
      {
       "output_type": "stream",
       "stream": "stdout",
       "text": [
        "\r",
        "6.893922892615987"
       ]
      },
      {
       "output_type": "stream",
       "stream": "stdout",
       "text": [
        "\r",
        "6.904813766064039\r",
        "6.915704639512089"
       ]
      },
      {
       "output_type": "stream",
       "stream": "stdout",
       "text": [
        "\r",
        "6.926595512960139\r",
        "6.93748638640819"
       ]
      },
      {
       "output_type": "stream",
       "stream": "stdout",
       "text": [
        "\r",
        "6.94837725985624\r",
        "6.959268133304292"
       ]
      },
      {
       "output_type": "stream",
       "stream": "stdout",
       "text": [
        "\r",
        "6.970159006752342\r",
        "6.981049880200392"
       ]
      },
      {
       "output_type": "stream",
       "stream": "stdout",
       "text": [
        "\r",
        "6.991940753648443\r",
        "7.002831627096493\r",
        "7.013722500544543\r",
        "7.024613373992594\r",
        "7.035504247440645\r",
        "7.046395120888695"
       ]
      },
      {
       "output_type": "stream",
       "stream": "stdout",
       "text": [
        "\r",
        "7.057285994336746\r",
        "7.068176867784796"
       ]
      },
      {
       "output_type": "stream",
       "stream": "stdout",
       "text": [
        "\r",
        "7.079067741232848\r",
        "7.089958614680897"
       ]
      },
      {
       "output_type": "stream",
       "stream": "stdout",
       "text": [
        "\r",
        "7.100849488128948\r",
        "7.111740361576999\r",
        "7.122631235025049"
       ]
      },
      {
       "output_type": "stream",
       "stream": "stdout",
       "text": [
        "\r",
        "7.133522108473099\r",
        "7.14441298192115"
       ]
      },
      {
       "output_type": "stream",
       "stream": "stdout",
       "text": [
        "\r",
        "7.155303855369201\r",
        "7.166194728817252\r",
        "7.177085602265302\r",
        "7.187976475713352\r",
        "7.198867349161403\r",
        "7.209758222609454"
       ]
      },
      {
       "output_type": "stream",
       "stream": "stdout",
       "text": [
        "\r",
        "7.220649096057503"
       ]
      },
      {
       "output_type": "stream",
       "stream": "stdout",
       "text": [
        "\r",
        "7.231539969505555"
       ]
      },
      {
       "output_type": "stream",
       "stream": "stdout",
       "text": [
        "\r",
        "7.242430842953605"
       ]
      },
      {
       "output_type": "stream",
       "stream": "stdout",
       "text": [
        "\r",
        "7.253321716401655\r",
        "7.264212589849706\r",
        "7.275103463297756"
       ]
      },
      {
       "output_type": "stream",
       "stream": "stdout",
       "text": [
        "\r",
        "7.285994336745808"
       ]
      },
      {
       "output_type": "stream",
       "stream": "stdout",
       "text": [
        "\r",
        "7.296885210193857\r",
        "7.307776083641908\r",
        "7.318666957089959\r",
        "7.329557830538009\r",
        "7.340448703986059\r",
        "7.35133957743411"
       ]
      },
      {
       "output_type": "stream",
       "stream": "stdout",
       "text": [
        "\r",
        "7.362230450882161\r",
        "7.373121324330212"
       ]
      },
      {
       "output_type": "stream",
       "stream": "stdout",
       "text": [
        "\r",
        "7.384012197778262\r",
        "7.394903071226312\r",
        "7.405793944674363"
       ]
      },
      {
       "output_type": "stream",
       "stream": "stdout",
       "text": [
        "\r",
        "7.416684818122414\r",
        "7.427575691570463\r",
        "7.438466565018515\r",
        "7.449357438466565"
       ]
      },
      {
       "output_type": "stream",
       "stream": "stdout",
       "text": [
        "\r",
        "7.460248311914616\r",
        "7.471139185362666"
       ]
      },
      {
       "output_type": "stream",
       "stream": "stdout",
       "text": [
        "\r",
        "7.482030058810716"
       ]
      },
      {
       "output_type": "stream",
       "stream": "stdout",
       "text": [
        "\r",
        "7.492920932258768"
       ]
      },
      {
       "output_type": "stream",
       "stream": "stdout",
       "text": [
        "\r",
        "7.5038118057068175"
       ]
      },
      {
       "output_type": "stream",
       "stream": "stdout",
       "text": [
        "\r",
        "7.514702679154868\r",
        "7.525593552602919\r",
        "7.536484426050969"
       ]
      },
      {
       "output_type": "stream",
       "stream": "stdout",
       "text": [
        "\r",
        "7.547375299499019"
       ]
      },
      {
       "output_type": "stream",
       "stream": "stdout",
       "text": [
        "\r",
        "7.55826617294707"
       ]
      },
      {
       "output_type": "stream",
       "stream": "stdout",
       "text": [
        "\r",
        "7.569157046395121\r",
        "7.580047919843172"
       ]
      },
      {
       "output_type": "stream",
       "stream": "stdout",
       "text": [
        "\r",
        "7.590938793291222\r",
        "7.601829666739272\r",
        "7.612720540187324"
       ]
      },
      {
       "output_type": "stream",
       "stream": "stdout",
       "text": [
        "\r",
        "7.623611413635374\r",
        "7.634502287083424\r",
        "7.645393160531475"
       ]
      },
      {
       "output_type": "stream",
       "stream": "stdout",
       "text": [
        "\r",
        "7.656284033979525\r",
        "7.667174907427576\r",
        "7.678065780875626\r",
        "7.688956654323677\r",
        "7.699847527771728\r",
        "7.7107384012197775"
       ]
      },
      {
       "output_type": "stream",
       "stream": "stdout",
       "text": [
        "\r",
        "7.721629274667828"
       ]
      },
      {
       "output_type": "stream",
       "stream": "stdout",
       "text": [
        "\r",
        "7.732520148115879\r",
        "7.74341102156393\r",
        "7.754301895011979"
       ]
      },
      {
       "output_type": "stream",
       "stream": "stdout",
       "text": [
        "\r",
        "7.765192768460031\r",
        "7.776083641908081\r",
        "7.786974515356132"
       ]
      },
      {
       "output_type": "stream",
       "stream": "stdout",
       "text": [
        "\r",
        "7.797865388804182\r",
        "7.808756262252232"
       ]
      },
      {
       "output_type": "stream",
       "stream": "stdout",
       "text": [
        "\r",
        "7.819647135700284\r",
        "7.830538009148334"
       ]
      },
      {
       "output_type": "stream",
       "stream": "stdout",
       "text": [
        "\r",
        "7.841428882596384\r",
        "7.852319756044435"
       ]
      },
      {
       "output_type": "stream",
       "stream": "stdout",
       "text": [
        "\r",
        "7.863210629492485"
       ]
      },
      {
       "output_type": "stream",
       "stream": "stdout",
       "text": [
        "\r",
        "7.874101502940537\r",
        "7.884992376388586\r",
        "7.895883249836637"
       ]
      },
      {
       "output_type": "stream",
       "stream": "stdout",
       "text": [
        "\r",
        "7.906774123284688\r",
        "7.917664996732738"
       ]
      },
      {
       "output_type": "stream",
       "stream": "stdout",
       "text": [
        "\r",
        "7.928555870180788\r",
        "7.939446743628839"
       ]
      },
      {
       "output_type": "stream",
       "stream": "stdout",
       "text": [
        "\r",
        "7.95033761707689\r",
        "7.961228490524939"
       ]
      },
      {
       "output_type": "stream",
       "stream": "stdout",
       "text": [
        "\r",
        "7.972119363972991"
       ]
      },
      {
       "output_type": "stream",
       "stream": "stdout",
       "text": [
        "\r",
        "7.983010237421041"
       ]
      },
      {
       "output_type": "stream",
       "stream": "stdout",
       "text": [
        "\r",
        "7.993901110869092\r",
        "8.004791984317142\r",
        "8.015682857765192"
       ]
      },
      {
       "output_type": "stream",
       "stream": "stdout",
       "text": [
        "\r",
        "8.026573731213244\r",
        "8.037464604661295"
       ]
      },
      {
       "output_type": "stream",
       "stream": "stdout",
       "text": [
        "\r",
        "8.048355478109343\r",
        "8.059246351557395\r",
        "8.070137225005446\r",
        "8.081028098453496\r",
        "8.091918971901546"
       ]
      },
      {
       "output_type": "stream",
       "stream": "stdout",
       "text": [
        "\r",
        "8.102809845349597"
       ]
      },
      {
       "output_type": "stream",
       "stream": "stdout",
       "text": [
        "\r",
        "8.113700718797649\r",
        "8.124591592245698\r",
        "8.135482465693748"
       ]
      },
      {
       "output_type": "stream",
       "stream": "stdout",
       "text": [
        "\r",
        "8.1463733391418\r",
        "8.15726421258985\r",
        "8.168155086037899\r",
        "8.17904595948595"
       ]
      },
      {
       "output_type": "stream",
       "stream": "stdout",
       "text": [
        "\r",
        "8.189936832934002"
       ]
      },
      {
       "output_type": "stream",
       "stream": "stdout",
       "text": [
        "\r",
        "8.200827706382052"
       ]
      },
      {
       "output_type": "stream",
       "stream": "stdout",
       "text": [
        "\r",
        "8.211718579830102\r",
        "8.222609453278153\r",
        "8.233500326726203"
       ]
      },
      {
       "output_type": "stream",
       "stream": "stdout",
       "text": [
        "\r",
        "8.244391200174254"
       ]
      },
      {
       "output_type": "stream",
       "stream": "stdout",
       "text": [
        "\r",
        "8.255282073622304"
       ]
      },
      {
       "output_type": "stream",
       "stream": "stdout",
       "text": [
        "\r",
        "8.266172947070356\r",
        "8.277063820518405\r",
        "8.287954693966457"
       ]
      },
      {
       "output_type": "stream",
       "stream": "stdout",
       "text": [
        "\r",
        "8.298845567414507\r",
        "8.309736440862556"
       ]
      },
      {
       "output_type": "stream",
       "stream": "stdout",
       "text": [
        "\r",
        "8.320627314310608\r",
        "8.33151818775866\r",
        "8.342409061206709\r",
        "8.353299934654759"
       ]
      },
      {
       "output_type": "stream",
       "stream": "stdout",
       "text": [
        "\r",
        "8.36419080810281\r",
        "8.37508168155086"
       ]
      },
      {
       "output_type": "stream",
       "stream": "stdout",
       "text": [
        "\r",
        "8.385972554998911\r",
        "8.396863428446961\r",
        "8.407754301895013"
       ]
      },
      {
       "output_type": "stream",
       "stream": "stdout",
       "text": [
        "\r",
        "8.418645175343062\r",
        "8.429536048791112\r",
        "8.440426922239164"
       ]
      },
      {
       "output_type": "stream",
       "stream": "stdout",
       "text": [
        "\r",
        "8.451317795687215\r",
        "8.462208669135265\r",
        "8.473099542583315\r",
        "8.483990416031366\r",
        "8.494881289479416"
       ]
      },
      {
       "output_type": "stream",
       "stream": "stdout",
       "text": [
        "\r",
        "8.505772162927466"
       ]
      },
      {
       "output_type": "stream",
       "stream": "stdout",
       "text": [
        "\r",
        "8.516663036375517\r",
        "8.527553909823569"
       ]
      },
      {
       "output_type": "stream",
       "stream": "stdout",
       "text": [
        "\r",
        "8.538444783271618\r",
        "8.549335656719668\r",
        "8.56022653016772"
       ]
      },
      {
       "output_type": "stream",
       "stream": "stdout",
       "text": [
        "\r",
        "8.571117403615771"
       ]
      },
      {
       "output_type": "stream",
       "stream": "stdout",
       "text": [
        "\r",
        "8.58200827706382\r",
        "8.59289915051187\r",
        "8.603790023959922\r",
        "8.614680897407972\r",
        "8.625571770856022"
       ]
      },
      {
       "output_type": "stream",
       "stream": "stdout",
       "text": [
        "\r",
        "8.636462644304073\r",
        "8.647353517752125"
       ]
      },
      {
       "output_type": "stream",
       "stream": "stdout",
       "text": [
        "\r",
        "8.658244391200174\r",
        "8.669135264648224"
       ]
      },
      {
       "output_type": "stream",
       "stream": "stdout",
       "text": [
        "\r",
        "8.680026138096276\r",
        "8.690917011544325"
       ]
      },
      {
       "output_type": "stream",
       "stream": "stdout",
       "text": [
        "\r",
        "8.701807884992377\r",
        "8.712698758440427\r",
        "8.723589631888478"
       ]
      },
      {
       "output_type": "stream",
       "stream": "stdout",
       "text": [
        "\r",
        "8.734480505336528\r",
        "8.74537137878458"
       ]
      },
      {
       "output_type": "stream",
       "stream": "stdout",
       "text": [
        "\r",
        "8.756262252232629\r",
        "8.767153125680679"
       ]
      },
      {
       "output_type": "stream",
       "stream": "stdout",
       "text": [
        "\r",
        "8.77804399912873"
       ]
      },
      {
       "output_type": "stream",
       "stream": "stdout",
       "text": [
        "\r",
        "8.788934872576782\r",
        "8.799825746024831\r",
        "8.810716619472881"
       ]
      },
      {
       "output_type": "stream",
       "stream": "stdout",
       "text": [
        "\r",
        "8.821607492920933\r",
        "8.832498366368982\r",
        "8.843389239817032\r",
        "8.854280113265084"
       ]
      },
      {
       "output_type": "stream",
       "stream": "stdout",
       "text": [
        "\r",
        "8.865170986713135"
       ]
      },
      {
       "output_type": "stream",
       "stream": "stdout",
       "text": [
        "\r",
        "8.876061860161185"
       ]
      },
      {
       "output_type": "stream",
       "stream": "stdout",
       "text": [
        "\r",
        "8.886952733609235"
       ]
      },
      {
       "output_type": "stream",
       "stream": "stdout",
       "text": [
        "\r",
        "8.897843607057286\r",
        "8.908734480505338\r",
        "8.919625353953386"
       ]
      },
      {
       "output_type": "stream",
       "stream": "stdout",
       "text": [
        "\r",
        "8.930516227401437\r",
        "8.941407100849489"
       ]
      },
      {
       "output_type": "stream",
       "stream": "stdout",
       "text": [
        "\r",
        "8.952297974297538\r",
        "8.963188847745588\r",
        "8.97407972119364\r",
        "8.984970594641691"
       ]
      },
      {
       "output_type": "stream",
       "stream": "stdout",
       "text": [
        "\r",
        "8.99586146808974"
       ]
      },
      {
       "output_type": "stream",
       "stream": "stdout",
       "text": [
        "\r",
        "9.00675234153779"
       ]
      },
      {
       "output_type": "stream",
       "stream": "stdout",
       "text": [
        "\r",
        "9.017643214985842"
       ]
      },
      {
       "output_type": "stream",
       "stream": "stdout",
       "text": [
        "\r",
        "9.028534088433894\r",
        "9.039424961881943\r",
        "9.050315835329993"
       ]
      },
      {
       "output_type": "stream",
       "stream": "stdout",
       "text": [
        "\r",
        "9.061206708778045\r",
        "9.072097582226094\r",
        "9.082988455674144"
       ]
      },
      {
       "output_type": "stream",
       "stream": "stdout",
       "text": [
        "\r",
        "9.093879329122196"
       ]
      },
      {
       "output_type": "stream",
       "stream": "stdout",
       "text": [
        "\r",
        "9.104770202570247\r",
        "9.115661076018297\r",
        "9.126551949466347"
       ]
      },
      {
       "output_type": "stream",
       "stream": "stdout",
       "text": [
        "\r",
        "9.137442822914398"
       ]
      },
      {
       "output_type": "stream",
       "stream": "stdout",
       "text": [
        "\r",
        "9.148333696362448\r",
        "9.1592245698105"
       ]
      },
      {
       "output_type": "stream",
       "stream": "stdout",
       "text": [
        "\r",
        "9.170115443258549\r",
        "9.1810063167066\r",
        "9.19189719015465"
       ]
      },
      {
       "output_type": "stream",
       "stream": "stdout",
       "text": [
        "\r",
        "9.202788063602702"
       ]
      },
      {
       "output_type": "stream",
       "stream": "stdout",
       "text": [
        "\r",
        "9.213678937050751\r",
        "9.224569810498801"
       ]
      },
      {
       "output_type": "stream",
       "stream": "stdout",
       "text": [
        "\r",
        "9.235460683946853\r",
        "9.246351557394904\r",
        "9.257242430842954"
       ]
      },
      {
       "output_type": "stream",
       "stream": "stdout",
       "text": [
        "\r",
        "9.268133304291004\r",
        "9.279024177739055\r",
        "9.289915051187105\r",
        "9.300805924635155\r",
        "9.311696798083206\r",
        "9.322587671531258"
       ]
      },
      {
       "output_type": "stream",
       "stream": "stdout",
       "text": [
        "\r",
        "9.333478544979307\r",
        "9.344369418427357"
       ]
      },
      {
       "output_type": "stream",
       "stream": "stdout",
       "text": [
        "\r",
        "9.355260291875409\r",
        "9.36615116532346\r",
        "9.377042038771508"
       ]
      },
      {
       "output_type": "stream",
       "stream": "stdout",
       "text": [
        "\r",
        "9.38793291221956"
       ]
      },
      {
       "output_type": "stream",
       "stream": "stdout",
       "text": [
        "\r",
        "9.398823785667611\r",
        "9.40971465911566\r",
        "9.42060553256371"
       ]
      },
      {
       "output_type": "stream",
       "stream": "stdout",
       "text": [
        "\r",
        "9.431496406011762"
       ]
      },
      {
       "output_type": "stream",
       "stream": "stdout",
       "text": [
        "\r",
        "9.442387279459814\r",
        "9.453278152907863"
       ]
      },
      {
       "output_type": "stream",
       "stream": "stdout",
       "text": [
        "\r",
        "9.464169026355913\r",
        "9.475059899803965"
       ]
      },
      {
       "output_type": "stream",
       "stream": "stdout",
       "text": [
        "\r",
        "9.485950773252014"
       ]
      },
      {
       "output_type": "stream",
       "stream": "stdout",
       "text": [
        "\r",
        "9.496841646700066\r",
        "9.507732520148116\r",
        "9.518623393596167\r",
        "9.529514267044217"
       ]
      },
      {
       "output_type": "stream",
       "stream": "stdout",
       "text": [
        "\r",
        "9.540405140492267"
       ]
      },
      {
       "output_type": "stream",
       "stream": "stdout",
       "text": [
        "\r",
        "9.551296013940318\r",
        "9.562186887388368"
       ]
      },
      {
       "output_type": "stream",
       "stream": "stdout",
       "text": [
        "\r",
        "9.57307776083642\r",
        "9.583968634284469\r",
        "9.59485950773252"
       ]
      },
      {
       "output_type": "stream",
       "stream": "stdout",
       "text": [
        "\r",
        "9.60575038118057\r",
        "9.616641254628622"
       ]
      },
      {
       "output_type": "stream",
       "stream": "stdout",
       "text": [
        "\r",
        "9.627532128076671\r",
        "9.638423001524723\r",
        "9.649313874972773\r",
        "9.660204748420824\r",
        "9.671095621868874"
       ]
      },
      {
       "output_type": "stream",
       "stream": "stdout",
       "text": [
        "\r",
        "9.681986495316924\r",
        "9.692877368764975"
       ]
      },
      {
       "output_type": "stream",
       "stream": "stdout",
       "text": [
        "\r",
        "9.703768242213027"
       ]
      },
      {
       "output_type": "stream",
       "stream": "stdout",
       "text": [
        "\r",
        "9.714659115661076\r",
        "9.725549989109126\r",
        "9.736440862557178\r",
        "9.747331736005227"
       ]
      },
      {
       "output_type": "stream",
       "stream": "stdout",
       "text": [
        "\r",
        "9.758222609453277\r",
        "9.769113482901329"
       ]
      },
      {
       "output_type": "stream",
       "stream": "stdout",
       "text": [
        "\r",
        "9.78000435634938\r",
        "9.79089522979743\r",
        "9.80178610324548"
       ]
      },
      {
       "output_type": "stream",
       "stream": "stdout",
       "text": [
        "\r",
        "9.812676976693531\r",
        "9.823567850141583\r",
        "9.83445872358963\r",
        "9.845349597037682"
       ]
      },
      {
       "output_type": "stream",
       "stream": "stdout",
       "text": [
        "\r",
        "9.856240470485734"
       ]
      },
      {
       "output_type": "stream",
       "stream": "stdout",
       "text": [
        "\r",
        "9.867131343933783\r",
        "9.878022217381833"
       ]
      },
      {
       "output_type": "stream",
       "stream": "stdout",
       "text": [
        "\r",
        "9.888913090829885\r",
        "9.899803964277936"
       ]
      },
      {
       "output_type": "stream",
       "stream": "stdout",
       "text": [
        "\r",
        "9.910694837725986"
       ]
      },
      {
       "output_type": "stream",
       "stream": "stdout",
       "text": [
        "\r",
        "9.921585711174036\r",
        "9.932476584622087\r",
        "9.943367458070137\r",
        "9.954258331518188"
       ]
      },
      {
       "output_type": "stream",
       "stream": "stdout",
       "text": [
        "\r",
        "9.965149204966238\r",
        "9.97604007841429"
       ]
      },
      {
       "output_type": "stream",
       "stream": "stdout",
       "text": [
        "\r",
        "9.98693095186234"
       ]
      },
      {
       "output_type": "stream",
       "stream": "stdout",
       "text": [
        "\r",
        "9.997821825310389"
       ]
      },
      {
       "output_type": "stream",
       "stream": "stdout",
       "text": [
        "\r",
        "10.00871269875844"
       ]
      },
      {
       "output_type": "stream",
       "stream": "stdout",
       "text": [
        "\r",
        "10.01960357220649\r",
        "10.030494445654542"
       ]
      },
      {
       "output_type": "stream",
       "stream": "stdout",
       "text": [
        "\r",
        "10.041385319102591\r",
        "10.052276192550643"
       ]
      },
      {
       "output_type": "stream",
       "stream": "stdout",
       "text": [
        "\r",
        "10.063167065998693\r",
        "10.074057939446744\r",
        "10.084948812894794\r",
        "10.095839686342845\r",
        "10.106730559790895"
       ]
      },
      {
       "output_type": "stream",
       "stream": "stdout",
       "text": [
        "\r",
        "10.117621433238947\r",
        "10.128512306686996"
       ]
      },
      {
       "output_type": "stream",
       "stream": "stdout",
       "text": [
        "\r",
        "10.139403180135046\r",
        "10.150294053583098\r",
        "10.16118492703115\r",
        "10.172075800479199\r",
        "10.182966673927249"
       ]
      },
      {
       "output_type": "stream",
       "stream": "stdout",
       "text": [
        "\r",
        "10.1938575473753\r",
        "10.20474842082335"
       ]
      },
      {
       "output_type": "stream",
       "stream": "stdout",
       "text": [
        "\r",
        "10.2156392942714\r",
        "10.226530167719451"
       ]
      },
      {
       "output_type": "stream",
       "stream": "stdout",
       "text": [
        "\r",
        "10.237421041167503\r",
        "10.248311914615552"
       ]
      },
      {
       "output_type": "stream",
       "stream": "stdout",
       "text": [
        "\r",
        "10.259202788063602\r",
        "10.270093661511654\r",
        "10.280984534959705\r",
        "10.291875408407753"
       ]
      },
      {
       "output_type": "stream",
       "stream": "stdout",
       "text": [
        "\r",
        "10.302766281855805"
       ]
      },
      {
       "output_type": "stream",
       "stream": "stdout",
       "text": [
        "\r",
        "10.313657155303856\r",
        "10.324548028751906\r",
        "10.335438902199956\r",
        "10.346329775648007\r",
        "10.357220649096059"
       ]
      },
      {
       "output_type": "stream",
       "stream": "stdout",
       "text": [
        "\r",
        "10.368111522544108\r",
        "10.379002395992158\r",
        "10.38989326944021\r",
        "10.40078414288826"
       ]
      },
      {
       "output_type": "stream",
       "stream": "stdout",
       "text": [
        "\r",
        "10.411675016336309"
       ]
      },
      {
       "output_type": "stream",
       "stream": "stdout",
       "text": [
        "\r",
        "10.42256588978436\r",
        "10.433456763232412\r",
        "10.444347636680462"
       ]
      },
      {
       "output_type": "stream",
       "stream": "stdout",
       "text": [
        "\r",
        "10.455238510128511\r",
        "10.466129383576563"
       ]
      },
      {
       "output_type": "stream",
       "stream": "stdout",
       "text": [
        "\r",
        "10.477020257024613\r",
        "10.487911130472664"
       ]
      },
      {
       "output_type": "stream",
       "stream": "stdout",
       "text": [
        "\r",
        "10.498802003920714"
       ]
      },
      {
       "output_type": "stream",
       "stream": "stdout",
       "text": [
        "\r",
        "10.509692877368765\r",
        "10.520583750816815\r",
        "10.531474624264867\r",
        "10.542365497712916\r",
        "10.553256371160966"
       ]
      },
      {
       "output_type": "stream",
       "stream": "stdout",
       "text": [
        "\r",
        "10.564147244609018\r",
        "10.57503811805707\r",
        "10.585928991505119"
       ]
      },
      {
       "output_type": "stream",
       "stream": "stdout",
       "text": [
        "\r",
        "10.596819864953169"
       ]
      },
      {
       "output_type": "stream",
       "stream": "stdout",
       "text": [
        "\r",
        "10.60771073840122\r",
        "10.618601611849272"
       ]
      },
      {
       "output_type": "stream",
       "stream": "stdout",
       "text": [
        "\r",
        "10.62949248529732"
       ]
      },
      {
       "output_type": "stream",
       "stream": "stdout",
       "text": [
        "\r",
        "10.640383358745371\r",
        "10.651274232193423"
       ]
      },
      {
       "output_type": "stream",
       "stream": "stdout",
       "text": [
        "\r",
        "10.662165105641472\r",
        "10.673055979089522\r",
        "10.683946852537574\r",
        "10.694837725985625\r",
        "10.705728599433675\r",
        "10.716619472881725"
       ]
      },
      {
       "output_type": "stream",
       "stream": "stdout",
       "text": [
        "\r",
        "10.727510346329776"
       ]
      },
      {
       "output_type": "stream",
       "stream": "stdout",
       "text": [
        "\r",
        "10.738401219777828\r",
        "10.749292093225876"
       ]
      },
      {
       "output_type": "stream",
       "stream": "stdout",
       "text": [
        "\r",
        "10.760182966673927\r",
        "10.771073840121979\r",
        "10.781964713570028\r",
        "10.792855587018078\r",
        "10.80374646046613"
       ]
      },
      {
       "output_type": "stream",
       "stream": "stdout",
       "text": [
        "\r",
        "10.814637333914181\r",
        "10.82552820736223"
       ]
      },
      {
       "output_type": "stream",
       "stream": "stdout",
       "text": [
        "\r",
        "10.83641908081028"
       ]
      },
      {
       "output_type": "stream",
       "stream": "stdout",
       "text": [
        "\r",
        "10.847309954258332\r",
        "10.858200827706382"
       ]
      },
      {
       "output_type": "stream",
       "stream": "stdout",
       "text": [
        "\r",
        "10.869091701154431\r",
        "10.879982574602483\r",
        "10.890873448050534\r",
        "10.901764321498584"
       ]
      },
      {
       "output_type": "stream",
       "stream": "stdout",
       "text": [
        "\r",
        "10.912655194946634\r",
        "10.923546068394685\r",
        "10.934436941842735"
       ]
      },
      {
       "output_type": "stream",
       "stream": "stdout",
       "text": [
        "\r",
        "10.945327815290787\r",
        "10.956218688738836\r",
        "10.967109562186888\r",
        "10.978000435634938"
       ]
      },
      {
       "output_type": "stream",
       "stream": "stdout",
       "text": [
        "\r",
        "10.98889130908299\r",
        "10.999782182531039\r",
        "11.010673055979089\r",
        "11.02156392942714"
       ]
      },
      {
       "output_type": "stream",
       "stream": "stdout",
       "text": [
        "\r",
        "11.032454802875192\r",
        "11.043345676323241\r",
        "11.054236549771291\r",
        "11.065127423219343\r",
        "11.076018296667394\r",
        "11.086909170115442"
       ]
      },
      {
       "output_type": "stream",
       "stream": "stdout",
       "text": [
        "\r",
        "11.097800043563494"
       ]
      },
      {
       "output_type": "stream",
       "stream": "stdout",
       "text": [
        "\r",
        "11.108690917011545\r",
        "11.119581790459595\r",
        "11.130472663907645\r",
        "11.141363537355696"
       ]
      },
      {
       "output_type": "stream",
       "stream": "stdout",
       "text": [
        "\r",
        "11.152254410803748"
       ]
      },
      {
       "output_type": "stream",
       "stream": "stdout",
       "text": [
        "\r",
        "11.163145284251797\r",
        "11.174036157699847\r",
        "11.184927031147899"
       ]
      },
      {
       "output_type": "stream",
       "stream": "stdout",
       "text": [
        "\r",
        "11.195817904595948\r",
        "11.206708778043998"
       ]
      },
      {
       "output_type": "stream",
       "stream": "stdout",
       "text": [
        "\r",
        "11.21759965149205\r",
        "11.228490524940101"
       ]
      },
      {
       "output_type": "stream",
       "stream": "stdout",
       "text": [
        "\r",
        "11.23938139838815\r",
        "11.2502722718362"
       ]
      },
      {
       "output_type": "stream",
       "stream": "stdout",
       "text": [
        "\r",
        "11.261163145284252"
       ]
      },
      {
       "output_type": "stream",
       "stream": "stdout",
       "text": [
        "\r",
        "11.272054018732302\r",
        "11.282944892180353\r",
        "11.293835765628403"
       ]
      },
      {
       "output_type": "stream",
       "stream": "stdout",
       "text": [
        "\r",
        "11.304726639076454"
       ]
      },
      {
       "output_type": "stream",
       "stream": "stdout",
       "text": [
        "\r",
        "11.315617512524504\r",
        "11.326508385972554\r",
        "11.337399259420605"
       ]
      },
      {
       "output_type": "stream",
       "stream": "stdout",
       "text": [
        "\r",
        "11.348290132868657\r",
        "11.359181006316707"
       ]
      },
      {
       "output_type": "stream",
       "stream": "stdout",
       "text": [
        "\r",
        "11.370071879764756\r",
        "11.380962753212808\r",
        "11.391853626660858"
       ]
      },
      {
       "output_type": "stream",
       "stream": "stdout",
       "text": [
        "\r",
        "11.40274450010891\r",
        "11.413635373556959\r",
        "11.42452624700501"
       ]
      },
      {
       "output_type": "stream",
       "stream": "stdout",
       "text": [
        "\r",
        "11.43541712045306\r",
        "11.446307993901112\r",
        "11.457198867349161\r",
        "11.468089740797211"
       ]
      },
      {
       "output_type": "stream",
       "stream": "stdout",
       "text": [
        "\r",
        "11.478980614245263\r",
        "11.489871487693314\r",
        "11.500762361141364"
       ]
      },
      {
       "output_type": "stream",
       "stream": "stdout",
       "text": [
        "\r",
        "11.511653234589414"
       ]
      },
      {
       "output_type": "stream",
       "stream": "stdout",
       "text": [
        "\r",
        "11.522544108037465\r",
        "11.533434981485517"
       ]
      },
      {
       "output_type": "stream",
       "stream": "stdout",
       "text": [
        "\r",
        "11.544325854933565\r",
        "11.555216728381616\r",
        "11.566107601829668"
       ]
      },
      {
       "output_type": "stream",
       "stream": "stdout",
       "text": [
        "\r",
        "11.576998475277717\r",
        "11.587889348725767\r",
        "11.598780222173819\r",
        "11.60967109562187"
       ]
      },
      {
       "output_type": "stream",
       "stream": "stdout",
       "text": [
        "\r",
        "11.620561969069918\r",
        "11.63145284251797"
       ]
      },
      {
       "output_type": "stream",
       "stream": "stdout",
       "text": [
        "\r",
        "11.642343715966021\r",
        "11.65323458941407"
       ]
      },
      {
       "output_type": "stream",
       "stream": "stdout",
       "text": [
        "\r",
        "11.66412546286212"
       ]
      },
      {
       "output_type": "stream",
       "stream": "stdout",
       "text": [
        "\r",
        "11.675016336310172"
       ]
      },
      {
       "output_type": "stream",
       "stream": "stdout",
       "text": [
        "\r",
        "11.685907209758224\r",
        "11.696798083206273\r",
        "11.707688956654323"
       ]
      },
      {
       "output_type": "stream",
       "stream": "stdout",
       "text": [
        "\r",
        "11.718579830102374"
       ]
      },
      {
       "output_type": "stream",
       "stream": "stdout",
       "text": [
        "\r",
        "11.729470703550424\r",
        "11.740361576998476"
       ]
      },
      {
       "output_type": "stream",
       "stream": "stdout",
       "text": [
        "\r",
        "11.751252450446525\r",
        "11.762143323894577"
       ]
      },
      {
       "output_type": "stream",
       "stream": "stdout",
       "text": [
        "\r",
        "11.773034197342627\r",
        "11.783925070790676\r",
        "11.794815944238728"
       ]
      },
      {
       "output_type": "stream",
       "stream": "stdout",
       "text": [
        "\r",
        "11.80570681768678"
       ]
      },
      {
       "output_type": "stream",
       "stream": "stdout",
       "text": [
        "\r",
        "11.81659769113483"
       ]
      },
      {
       "output_type": "stream",
       "stream": "stdout",
       "text": [
        "\r",
        "11.827488564582879\r",
        "11.83837943803093\r",
        "11.84927031147898"
       ]
      },
      {
       "output_type": "stream",
       "stream": "stdout",
       "text": [
        "\r",
        "11.860161184927032\r",
        "11.871052058375081"
       ]
      },
      {
       "output_type": "stream",
       "stream": "stdout",
       "text": [
        "\r",
        "11.881942931823133\r",
        "11.892833805271183\r",
        "11.903724678719234\r",
        "11.914615552167284\r",
        "11.925506425615334\r",
        "11.936397299063385"
       ]
      },
      {
       "output_type": "stream",
       "stream": "stdout",
       "text": [
        "\r",
        "11.947288172511437\r",
        "11.958179045959486\r",
        "11.969069919407536"
       ]
      },
      {
       "output_type": "stream",
       "stream": "stdout",
       "text": [
        "\r",
        "11.979960792855588\r",
        "11.990851666303639\r",
        "12.001742539751687"
       ]
      },
      {
       "output_type": "stream",
       "stream": "stdout",
       "text": [
        "\r",
        "12.012633413199739\r",
        "12.02352428664779\r",
        "12.03441516009584"
       ]
      },
      {
       "output_type": "stream",
       "stream": "stdout",
       "text": [
        "\r",
        "12.04530603354389\r",
        "12.056196906991941"
       ]
      },
      {
       "output_type": "stream",
       "stream": "stdout",
       "text": [
        "\r",
        "12.067087780439993\r",
        "12.07797865388804\r",
        "12.088869527336092"
       ]
      },
      {
       "output_type": "stream",
       "stream": "stdout",
       "text": [
        "\r",
        "12.099760400784143\r",
        "12.110651274232193"
       ]
      },
      {
       "output_type": "stream",
       "stream": "stdout",
       "text": [
        "\r",
        "12.121542147680243\r",
        "12.132433021128294\r",
        "12.143323894576346"
       ]
      },
      {
       "output_type": "stream",
       "stream": "stdout",
       "text": [
        "\r",
        "12.154214768024396"
       ]
      },
      {
       "output_type": "stream",
       "stream": "stdout",
       "text": [
        "\r",
        "12.165105641472445\r",
        "12.175996514920497\r",
        "12.186887388368547"
       ]
      },
      {
       "output_type": "stream",
       "stream": "stdout",
       "text": [
        "\r",
        "12.197778261816598\r",
        "12.208669135264648\r",
        "12.2195600087127\r",
        "12.23045088216075\r",
        "12.241341755608799"
       ]
      },
      {
       "output_type": "stream",
       "stream": "stdout",
       "text": [
        "\r",
        "12.25223262905685\r",
        "12.2631235025049"
       ]
      },
      {
       "output_type": "stream",
       "stream": "stdout",
       "text": [
        "\r",
        "12.274014375952952"
       ]
      },
      {
       "output_type": "stream",
       "stream": "stdout",
       "text": [
        "\r",
        "12.284905249401001\r",
        "12.295796122849053\r",
        "12.306686996297103"
       ]
      },
      {
       "output_type": "stream",
       "stream": "stdout",
       "text": [
        "\r",
        "12.317577869745154\r",
        "12.328468743193204"
       ]
      },
      {
       "output_type": "stream",
       "stream": "stdout",
       "text": [
        "\r",
        "12.339359616641254\r",
        "12.350250490089305"
       ]
      },
      {
       "output_type": "stream",
       "stream": "stdout",
       "text": [
        "\r",
        "12.361141363537357\r",
        "12.372032236985406\r",
        "12.382923110433456\r",
        "12.393813983881508"
       ]
      },
      {
       "output_type": "stream",
       "stream": "stdout",
       "text": [
        "\r",
        "12.404704857329559"
       ]
      },
      {
       "output_type": "stream",
       "stream": "stdout",
       "text": [
        "\r",
        "12.415595730777609\r",
        "12.426486604225659\r",
        "12.43737747767371\r",
        "12.44826835112176\r",
        "12.45915922456981\r",
        "12.470050098017861"
       ]
      },
      {
       "output_type": "stream",
       "stream": "stdout",
       "text": [
        "\r",
        "12.480940971465913\r",
        "12.491831844913962"
       ]
      },
      {
       "output_type": "stream",
       "stream": "stdout",
       "text": [
        "\r",
        "12.502722718362014\r",
        "12.513613591810063\r",
        "12.524504465258113"
       ]
      },
      {
       "output_type": "stream",
       "stream": "stdout",
       "text": [
        "\r",
        "12.535395338706165\r",
        "12.546286212154214\r",
        "12.557177085602264\r",
        "12.568067959050316"
       ]
      },
      {
       "output_type": "stream",
       "stream": "stdout",
       "text": [
        "\r",
        "12.578958832498365"
       ]
      },
      {
       "output_type": "stream",
       "stream": "stdout",
       "text": [
        "\r",
        "12.589849705946419\r",
        "12.600740579394468"
       ]
      },
      {
       "output_type": "stream",
       "stream": "stdout",
       "text": [
        "\r",
        "12.611631452842516"
       ]
      },
      {
       "output_type": "stream",
       "stream": "stdout",
       "text": [
        "\r",
        "12.62252232629057\r",
        "12.63341319973862\r",
        "12.64430407318667\r",
        "12.65519494663472\r",
        "12.66608582008277\r",
        "12.67697669353082"
       ]
      },
      {
       "output_type": "stream",
       "stream": "stdout",
       "text": [
        "\r",
        "12.687867566978872\r",
        "12.698758440426921\r",
        "12.709649313874975"
       ]
      },
      {
       "output_type": "stream",
       "stream": "stdout",
       "text": [
        "\r",
        "12.720540187323023\r",
        "12.731431060771072\r",
        "12.742321934219126\r",
        "12.753212807667175"
       ]
      },
      {
       "output_type": "stream",
       "stream": "stdout",
       "text": [
        "\r",
        "12.764103681115223"
       ]
      },
      {
       "output_type": "stream",
       "stream": "stdout",
       "text": [
        "\r",
        "12.774994554563277\r",
        "12.785885428011326\r",
        "12.796776301459378\r",
        "12.807667174907428"
       ]
      },
      {
       "output_type": "stream",
       "stream": "stdout",
       "text": [
        "\r",
        "12.818558048355477\r",
        "12.829448921803529\r",
        "12.840339795251579"
       ]
      },
      {
       "output_type": "stream",
       "stream": "stdout",
       "text": [
        "\r",
        "12.851230668699628\r",
        "12.862121542147682\r",
        "12.873012415595731\r",
        "12.883903289043783\r",
        "12.894794162491833"
       ]
      },
      {
       "output_type": "stream",
       "stream": "stdout",
       "text": [
        "\r",
        "12.905685035939882\r",
        "12.916575909387934"
       ]
      },
      {
       "output_type": "stream",
       "stream": "stdout",
       "text": [
        "\r",
        "12.927466782835983\r",
        "12.938357656284033\r",
        "12.949248529732085\r",
        "12.960139403180134\r",
        "12.971030276628184"
       ]
      },
      {
       "output_type": "stream",
       "stream": "stdout",
       "text": [
        "\r",
        "12.981921150076236"
       ]
      },
      {
       "output_type": "stream",
       "stream": "stdout",
       "text": [
        "\r",
        "12.992812023524285\r",
        "13.003702896972339\r",
        "13.014593770420388\r",
        "13.025484643868438\r",
        "13.03637551731649\r",
        "13.04726639076454\r",
        "13.05815726421259\r",
        "13.06904813766064\r",
        "13.07993901110869\r",
        "13.090829884556744\r",
        "13.101720758004792"
       ]
      },
      {
       "output_type": "stream",
       "stream": "stdout",
       "text": [
        "\r",
        "13.112611631452841"
       ]
      },
      {
       "output_type": "stream",
       "stream": "stdout",
       "text": [
        "\r",
        "13.123502504900895\r",
        "13.134393378348944"
       ]
      },
      {
       "output_type": "stream",
       "stream": "stdout",
       "text": [
        "\r",
        "13.145284251796992\r",
        "13.156175125245046\r",
        "13.167065998693095\r",
        "13.177956872141145"
       ]
      },
      {
       "output_type": "stream",
       "stream": "stdout",
       "text": [
        "\r",
        "13.188847745589197"
       ]
      },
      {
       "output_type": "stream",
       "stream": "stdout",
       "text": [
        "\r",
        "13.199738619037246\r",
        "13.210629492485298\r",
        "13.221520365933348\r",
        "13.232411239381397\r",
        "13.24330211282945"
       ]
      },
      {
       "output_type": "stream",
       "stream": "stdout",
       "text": [
        "\r",
        "13.254192986277499\r",
        "13.265083859725548"
       ]
      },
      {
       "output_type": "stream",
       "stream": "stdout",
       "text": [
        "\r",
        "13.275974733173602\r",
        "13.286865606621651\r",
        "13.297756480069703\r",
        "13.308647353517753\r",
        "13.319538226965802\r",
        "13.330429100413854"
       ]
      },
      {
       "output_type": "stream",
       "stream": "stdout",
       "text": [
        "\r",
        "13.341319973861903\r",
        "13.352210847309953\r",
        "13.363101720758005\r",
        "13.373992594206054"
       ]
      },
      {
       "output_type": "stream",
       "stream": "stdout",
       "text": [
        "\r",
        "13.384883467654104\r",
        "13.395774341102157\r",
        "13.406665214550205\r",
        "13.417556087998259\r",
        "13.428446961446308"
       ]
      },
      {
       "output_type": "stream",
       "stream": "stdout",
       "text": [
        "\r",
        "13.439337834894358"
       ]
      },
      {
       "output_type": "stream",
       "stream": "stdout",
       "text": [
        "\r",
        "13.45022870834241"
       ]
      },
      {
       "output_type": "stream",
       "stream": "stdout",
       "text": [
        "\r",
        "13.46111958179046"
       ]
      },
      {
       "output_type": "stream",
       "stream": "stdout",
       "text": [
        "\r",
        "13.47201045523851"
       ]
      },
      {
       "output_type": "stream",
       "stream": "stdout",
       "text": [
        "\r",
        "13.48290132868656\r",
        "13.49379220213461\r",
        "13.504683075582664"
       ]
      },
      {
       "output_type": "stream",
       "stream": "stdout",
       "text": [
        "\r",
        "13.515573949030713\r",
        "13.526464822478761\r",
        "13.537355695926815\r",
        "13.548246569374864\r",
        "13.559137442822914\r",
        "13.570028316270966\r",
        "13.580919189719015"
       ]
      },
      {
       "output_type": "stream",
       "stream": "stdout",
       "text": [
        "\r",
        "13.591810063167065\r",
        "13.602700936615117\r",
        "13.613591810063166\r",
        "13.624482683511218"
       ]
      },
      {
       "output_type": "stream",
       "stream": "stdout",
       "text": [
        "\r",
        "13.635373556959268\r",
        "13.646264430407317\r",
        "13.65715530385537"
       ]
      },
      {
       "output_type": "stream",
       "stream": "stdout",
       "text": [
        "\r",
        "13.66804617730342"
       ]
      },
      {
       "output_type": "stream",
       "stream": "stdout",
       "text": [
        "\r",
        "13.678937050751468\r",
        "13.689827924199522\r",
        "13.700718797647571"
       ]
      },
      {
       "output_type": "stream",
       "stream": "stdout",
       "text": [
        "\r",
        "13.711609671095623"
       ]
      },
      {
       "output_type": "stream",
       "stream": "stdout",
       "text": [
        "\r",
        "13.722500544543673\r",
        "13.733391417991722"
       ]
      },
      {
       "output_type": "stream",
       "stream": "stdout",
       "text": [
        "\r",
        "13.744282291439774\r",
        "13.755173164887823"
       ]
      },
      {
       "output_type": "stream",
       "stream": "stdout",
       "text": [
        "\r",
        "13.766064038335873\r",
        "13.776954911783927"
       ]
      },
      {
       "output_type": "stream",
       "stream": "stdout",
       "text": [
        "\r",
        "13.787845785231974"
       ]
      },
      {
       "output_type": "stream",
       "stream": "stdout",
       "text": [
        "\r",
        "13.798736658680028\r",
        "13.809627532128077\r",
        "13.820518405576127"
       ]
      },
      {
       "output_type": "stream",
       "stream": "stdout",
       "text": [
        "\r",
        "13.831409279024179\r",
        "13.842300152472228"
       ]
      },
      {
       "output_type": "stream",
       "stream": "stdout",
       "text": [
        "\r",
        "13.853191025920278\r",
        "13.86408189936833\r",
        "13.87497277281638\r",
        "13.88586364626443"
       ]
      },
      {
       "output_type": "stream",
       "stream": "stdout",
       "text": [
        "\r",
        "13.89675451971248"
       ]
      },
      {
       "output_type": "stream",
       "stream": "stdout",
       "text": [
        "\r",
        "13.90764539316053"
       ]
      },
      {
       "output_type": "stream",
       "stream": "stdout",
       "text": [
        "\r",
        "13.918536266608584\r",
        "13.929427140056633\r",
        "13.940318013504683"
       ]
      },
      {
       "output_type": "stream",
       "stream": "stdout",
       "text": [
        "\r",
        "13.951208886952735"
       ]
      },
      {
       "output_type": "stream",
       "stream": "stdout",
       "text": [
        "\r",
        "13.962099760400784\r",
        "13.972990633848834\r",
        "13.983881507296886"
       ]
      },
      {
       "output_type": "stream",
       "stream": "stdout",
       "text": [
        "\r",
        "13.994772380744935\r",
        "14.005663254192987"
       ]
      },
      {
       "output_type": "stream",
       "stream": "stdout",
       "text": [
        "\r",
        "14.016554127641037\r",
        "14.027445001089086"
       ]
      },
      {
       "output_type": "stream",
       "stream": "stdout",
       "text": [
        "\r",
        "14.03833587453714\r",
        "14.049226747985188\r",
        "14.060117621433237"
       ]
      },
      {
       "output_type": "stream",
       "stream": "stdout",
       "text": [
        "\r",
        "14.07100849488129\r",
        "14.08189936832934\r",
        "14.09279024177739\r",
        "14.103681115225442"
       ]
      },
      {
       "output_type": "stream",
       "stream": "stdout",
       "text": [
        "\r",
        "14.114571988673491\r",
        "14.125462862121543\r",
        "14.136353735569593\r",
        "14.147244609017642\r",
        "14.158135482465696"
       ]
      },
      {
       "output_type": "stream",
       "stream": "stdout",
       "text": [
        "\r",
        "14.169026355913743"
       ]
      },
      {
       "output_type": "stream",
       "stream": "stdout",
       "text": [
        "\r",
        "14.179917229361793"
       ]
      },
      {
       "output_type": "stream",
       "stream": "stdout",
       "text": [
        "\r",
        "14.190808102809847"
       ]
      },
      {
       "output_type": "stream",
       "stream": "stdout",
       "text": [
        "\r",
        "14.201698976257896\r",
        "14.212589849705948\r",
        "14.223480723153997\r",
        "14.234371596602047"
       ]
      },
      {
       "output_type": "stream",
       "stream": "stdout",
       "text": [
        "\r",
        "14.245262470050099\r",
        "14.256153343498148\r",
        "14.267044216946198"
       ]
      },
      {
       "output_type": "stream",
       "stream": "stdout",
       "text": [
        "\r",
        "14.27793509039425\r",
        "14.2888259638423"
       ]
      },
      {
       "output_type": "stream",
       "stream": "stdout",
       "text": [
        "\r",
        "14.29971683729035\r",
        "14.310607710738402\r",
        "14.32149858418645\r",
        "14.332389457634504"
       ]
      },
      {
       "output_type": "stream",
       "stream": "stdout",
       "text": [
        "\r",
        "14.343280331082553\r",
        "14.354171204530603\r",
        "14.365062077978655\r",
        "14.375952951426704"
       ]
      },
      {
       "output_type": "stream",
       "stream": "stdout",
       "text": [
        "\r",
        "14.386843824874754"
       ]
      },
      {
       "output_type": "stream",
       "stream": "stdout",
       "text": [
        "\r",
        "14.397734698322806\r",
        "14.408625571770855\r",
        "14.419516445218909\r",
        "14.430407318666957\r",
        "14.441298192115006\r",
        "14.45218906556306"
       ]
      },
      {
       "output_type": "stream",
       "stream": "stdout",
       "text": [
        "\r",
        "14.46307993901111\r",
        "14.473970812459157\r",
        "14.48486168590721"
       ]
      },
      {
       "output_type": "stream",
       "stream": "stdout",
       "text": [
        "\r",
        "14.49575255935526\r",
        "14.50664343280331"
       ]
      },
      {
       "output_type": "stream",
       "stream": "stdout",
       "text": [
        "\r",
        "14.517534306251362\r",
        "14.528425179699411\r",
        "14.539316053147463\r",
        "14.550206926595513\r",
        "14.561097800043562\r",
        "14.571988673491616\r",
        "14.582879546939665\r",
        "14.593770420387713\r",
        "14.604661293835767"
       ]
      },
      {
       "output_type": "stream",
       "stream": "stdout",
       "text": [
        "\r",
        "14.615552167283816"
       ]
      },
      {
       "output_type": "stream",
       "stream": "stdout",
       "text": [
        "\r",
        "14.626443040731868\r",
        "14.637333914179917\r",
        "14.648224787627967"
       ]
      },
      {
       "output_type": "stream",
       "stream": "stdout",
       "text": [
        "\r",
        "14.659115661076019"
       ]
      },
      {
       "output_type": "stream",
       "stream": "stdout",
       "text": [
        "\r",
        "14.670006534524068\r",
        "14.680897407972118\r",
        "14.69178828142017\r",
        "14.70267915486822\r",
        "14.71357002831627\r",
        "14.724460901764322\r",
        "14.735351775212372\r",
        "14.746242648660424\r",
        "14.757133522108473\r",
        "14.768024395556523"
       ]
      },
      {
       "output_type": "stream",
       "stream": "stdout",
       "text": [
        "\r",
        "14.778915269004575\r",
        "14.789806142452624\r",
        "14.800697015900674"
       ]
      },
      {
       "output_type": "stream",
       "stream": "stdout",
       "text": [
        "\r",
        "14.811587889348726\r",
        "14.822478762796775"
       ]
      },
      {
       "output_type": "stream",
       "stream": "stdout",
       "text": [
        "\r",
        "14.833369636244829\r",
        "14.844260509692878"
       ]
      },
      {
       "output_type": "stream",
       "stream": "stdout",
       "text": [
        "\r",
        "14.855151383140926\r",
        "14.86604225658898\r",
        "14.87693313003703\r",
        "14.887824003485079"
       ]
      },
      {
       "output_type": "stream",
       "stream": "stdout",
       "text": [
        "\r",
        "14.89871487693313\r",
        "14.90960575038118"
       ]
      },
      {
       "output_type": "stream",
       "stream": "stdout",
       "text": [
        "\r",
        "14.920496623829232\r",
        "14.931387497277282"
       ]
      },
      {
       "output_type": "stream",
       "stream": "stdout",
       "text": [
        "\r",
        "14.942278370725331"
       ]
      },
      {
       "output_type": "stream",
       "stream": "stdout",
       "text": [
        "\r",
        "14.953169244173385\r",
        "14.964060117621433\r",
        "14.974950991069482\r",
        "14.985841864517536\r",
        "14.996732737965585\r",
        "15.007623611413635\r",
        "15.018514484861686"
       ]
      },
      {
       "output_type": "stream",
       "stream": "stdout",
       "text": [
        "\r",
        "15.029405358309736\r",
        "15.040296231757788\r",
        "15.051187105205837\r",
        "15.062077978653887\r",
        "15.072968852101939"
       ]
      },
      {
       "output_type": "stream",
       "stream": "stdout",
       "text": [
        "\r",
        "15.083859725549988\r",
        "15.094750598998038"
       ]
      },
      {
       "output_type": "stream",
       "stream": "stdout",
       "text": [
        "\r",
        "15.105641472446091\r",
        "15.11653234589414\r",
        "15.127423219342193\r",
        "15.138314092790242\r",
        "15.149204966238292"
       ]
      },
      {
       "output_type": "stream",
       "stream": "stdout",
       "text": [
        "\r",
        "15.160095839686344"
       ]
      },
      {
       "output_type": "stream",
       "stream": "stdout",
       "text": [
        "\r",
        "15.170986713134393\r",
        "15.181877586582443\r",
        "15.192768460030495\r",
        "15.203659333478544"
       ]
      },
      {
       "output_type": "stream",
       "stream": "stdout",
       "text": [
        "\r",
        "15.214550206926594\r",
        "15.225441080374647"
       ]
      },
      {
       "output_type": "stream",
       "stream": "stdout",
       "text": [
        "\r",
        "15.236331953822695"
       ]
      },
      {
       "output_type": "stream",
       "stream": "stdout",
       "text": [
        "\r",
        "15.247222827270749\r",
        "15.258113700718798\r",
        "15.269004574166848\r",
        "15.2798954476149\r",
        "15.29078632106295\r",
        "15.301677194510999\r",
        "15.31256806795905"
       ]
      },
      {
       "output_type": "stream",
       "stream": "stdout",
       "text": [
        "\r",
        "15.3234589414071\r",
        "15.334349814855152\r",
        "15.345240688303202"
       ]
      },
      {
       "output_type": "stream",
       "stream": "stdout",
       "text": [
        "\r",
        "15.356131561751251"
       ]
      },
      {
       "output_type": "stream",
       "stream": "stdout",
       "text": [
        "\r",
        "15.367022435199305\r",
        "15.377913308647354\r",
        "15.388804182095402\r",
        "15.399695055543456"
       ]
      },
      {
       "output_type": "stream",
       "stream": "stdout",
       "text": [
        "\r",
        "15.410585928991505\r",
        "15.421476802439555\r",
        "15.432367675887606\r",
        "15.443258549335656\r",
        "15.454149422783708\r",
        "15.465040296231757\r",
        "15.475931169679807\r",
        "15.48682204312786"
       ]
      },
      {
       "output_type": "stream",
       "stream": "stdout",
       "text": [
        "\r",
        "15.497712916575908\r",
        "15.508603790023958\r",
        "15.519494663472011"
       ]
      },
      {
       "output_type": "stream",
       "stream": "stdout",
       "text": [
        "\r",
        "15.530385536920061"
       ]
      },
      {
       "output_type": "stream",
       "stream": "stdout",
       "text": [
        "\r",
        "15.541276410368113\r",
        "15.552167283816162"
       ]
      },
      {
       "output_type": "stream",
       "stream": "stdout",
       "text": [
        "\r",
        "15.563058157264212\r",
        "15.573949030712264\r",
        "15.584839904160313\r",
        "15.595730777608363"
       ]
      },
      {
       "output_type": "stream",
       "stream": "stdout",
       "text": [
        "\r",
        "15.606621651056415\r",
        "15.617512524504464\r",
        "15.628403397952514"
       ]
      },
      {
       "output_type": "stream",
       "stream": "stdout",
       "text": [
        "\r",
        "15.639294271400567\r",
        "15.650185144848617\r",
        "15.661076018296669\r",
        "15.671966891744718"
       ]
      },
      {
       "output_type": "stream",
       "stream": "stdout",
       "text": [
        "\r",
        "15.682857765192768\r",
        "15.69374863864082"
       ]
      },
      {
       "output_type": "stream",
       "stream": "stdout",
       "text": [
        "\r",
        "15.70463951208887\r",
        "15.715530385536919\r",
        "15.72642125898497"
       ]
      },
      {
       "output_type": "stream",
       "stream": "stdout",
       "text": [
        "\r",
        "15.73731213243302"
       ]
      },
      {
       "output_type": "stream",
       "stream": "stdout",
       "text": [
        "\r",
        "15.748203005881074\r",
        "15.759093879329122\r",
        "15.769984752777171\r",
        "15.780875626225225\r",
        "15.791766499673274\r",
        "15.802657373121324"
       ]
      },
      {
       "output_type": "stream",
       "stream": "stdout",
       "text": [
        "\r",
        "15.813548246569376"
       ]
      },
      {
       "output_type": "stream",
       "stream": "stdout",
       "text": [
        "\r",
        "15.824439120017425\r",
        "15.835329993465477\r",
        "15.846220866913526"
       ]
      },
      {
       "output_type": "stream",
       "stream": "stdout",
       "text": [
        "\r",
        "15.857111740361576\r",
        "15.86800261380963"
       ]
      },
      {
       "output_type": "stream",
       "stream": "stdout",
       "text": [
        "\r",
        "15.878893487257677\r",
        "15.889784360705727\r",
        "15.90067523415378"
       ]
      },
      {
       "output_type": "stream",
       "stream": "stdout",
       "text": [
        "\r",
        "15.91156610760183\r",
        "15.922456981049878\r",
        "15.933347854497931"
       ]
      },
      {
       "output_type": "stream",
       "stream": "stdout",
       "text": [
        "\r",
        "15.944238727945981"
       ]
      },
      {
       "output_type": "stream",
       "stream": "stdout",
       "text": [
        "\r",
        "15.955129601394033\r",
        "15.966020474842082\r",
        "15.976911348290132\r",
        "15.987802221738184"
       ]
      },
      {
       "output_type": "stream",
       "stream": "stdout",
       "text": [
        "\r",
        "15.998693095186233\r",
        "16.009583968634285\r",
        "16.020474842082336"
       ]
      },
      {
       "output_type": "stream",
       "stream": "stdout",
       "text": [
        "\r",
        "16.031365715530384\r",
        "16.042256588978436\r",
        "16.053147462426487"
       ]
      },
      {
       "output_type": "stream",
       "stream": "stdout",
       "text": [
        "\r",
        "16.064038335874535\r",
        "16.07492920932259"
       ]
      },
      {
       "output_type": "stream",
       "stream": "stdout",
       "text": [
        "\r",
        "16.08582008277064\r",
        "16.096710956218686\r",
        "16.10760182966674\r",
        "16.11849270311479"
       ]
      },
      {
       "output_type": "stream",
       "stream": "stdout",
       "text": [
        "\r",
        "16.129383576562837\r",
        "16.140274450010892\r",
        "16.15116532345894\r",
        "16.162056196906992"
       ]
      },
      {
       "output_type": "stream",
       "stream": "stdout",
       "text": [
        "\r",
        "16.172947070355043\r",
        "16.18383794380309\r",
        "16.194728817251143\r",
        "16.205619690699194\r",
        "16.216510564147242\r",
        "16.227401437595297"
       ]
      },
      {
       "output_type": "stream",
       "stream": "stdout",
       "text": [
        "\r",
        "16.238292311043345\r",
        "16.249183184491397"
       ]
      },
      {
       "output_type": "stream",
       "stream": "stdout",
       "text": [
        "\r",
        "16.26007405793945\r",
        "16.270964931387496\r",
        "16.281855804835548\r",
        "16.2927466782836\r",
        "16.303637551731647"
       ]
      },
      {
       "output_type": "stream",
       "stream": "stdout",
       "text": [
        "\r",
        "16.3145284251797\r",
        "16.32541929862775"
       ]
      },
      {
       "output_type": "stream",
       "stream": "stdout",
       "text": [
        "\r",
        "16.336310172075798"
       ]
      },
      {
       "output_type": "stream",
       "stream": "stdout",
       "text": [
        "\r",
        "16.347201045523853"
       ]
      },
      {
       "output_type": "stream",
       "stream": "stdout",
       "text": [
        "\r",
        "16.3580919189719\r",
        "16.368982792419953\r",
        "16.379873665868004"
       ]
      },
      {
       "output_type": "stream",
       "stream": "stdout",
       "text": [
        "\r",
        "16.390764539316052\r",
        "16.401655412764104"
       ]
      },
      {
       "output_type": "stream",
       "stream": "stdout",
       "text": [
        "\r",
        "16.412546286212155\r",
        "16.423437159660203\r",
        "16.434328033108255\r",
        "16.445218906556306"
       ]
      },
      {
       "output_type": "stream",
       "stream": "stdout",
       "text": [
        "\r",
        "16.456109780004358\r",
        "16.467000653452406\r",
        "16.477891526900457\r",
        "16.48878240034851\r",
        "16.49967327379656"
       ]
      },
      {
       "output_type": "stream",
       "stream": "stdout",
       "text": [
        "\r",
        "16.510564147244608\r",
        "16.52145502069266"
       ]
      },
      {
       "output_type": "stream",
       "stream": "stdout",
       "text": [
        "\r",
        "16.53234589414071\r",
        "16.54323676758876\r",
        "16.55412764103681\r",
        "16.565018514484862"
       ]
      },
      {
       "output_type": "stream",
       "stream": "stdout",
       "text": [
        "\r",
        "16.575909387932914"
       ]
      },
      {
       "output_type": "stream",
       "stream": "stdout",
       "text": [
        "\r",
        "16.58680026138096"
       ]
      },
      {
       "output_type": "stream",
       "stream": "stdout",
       "text": [
        "\r",
        "16.597691134829013\r",
        "16.608582008277065\r",
        "16.619472881725113\r",
        "16.630363755173164\r",
        "16.641254628621216"
       ]
      },
      {
       "output_type": "stream",
       "stream": "stdout",
       "text": [
        "\r",
        "16.652145502069267\r",
        "16.66303637551732\r",
        "16.673927248965366\r",
        "16.684818122413418\r",
        "16.69570899586147\r",
        "16.706599869309517\r",
        "16.71749074275757\r",
        "16.72838161620562"
       ]
      },
      {
       "output_type": "stream",
       "stream": "stdout",
       "text": [
        "\r",
        "16.73927248965367\r",
        "16.75016336310172\r",
        "16.76105423654977\r",
        "16.771945109997823\r",
        "16.782835983445874\r",
        "16.793726856893922\r",
        "16.804617730341974\r",
        "16.815508603790025\r",
        "16.826399477238073"
       ]
      },
      {
       "output_type": "stream",
       "stream": "stdout",
       "text": [
        "\r",
        "16.837290350686125\r",
        "16.848181224134176\r",
        "16.859072097582224\r",
        "16.86996297103028\r",
        "16.880853844478327\r",
        "16.891744717926375\r",
        "16.90263559137443\r",
        "16.91352646482248"
       ]
      },
      {
       "output_type": "stream",
       "stream": "stdout",
       "text": [
        "\r",
        "16.92441733827053\r",
        "16.93530821171858\r",
        "16.94619908516663"
       ]
      },
      {
       "output_type": "stream",
       "stream": "stdout",
       "text": [
        "\r",
        "16.95708995861468\r",
        "16.967980832062732\r",
        "16.97887170551078\r",
        "16.989762578958832\r",
        "17.000653452406883\r",
        "17.01154432585493\r",
        "17.022435199302986\r",
        "17.033326072751034"
       ]
      },
      {
       "output_type": "stream",
       "stream": "stdout",
       "text": [
        "\r",
        "17.044216946199082\r",
        "17.055107819647137\r",
        "17.065998693095185"
       ]
      },
      {
       "output_type": "stream",
       "stream": "stdout",
       "text": [
        "\r",
        "17.076889566543237\r",
        "17.08778043999129"
       ]
      },
      {
       "output_type": "stream",
       "stream": "stdout",
       "text": [
        "\r",
        "17.098671313439336"
       ]
      },
      {
       "output_type": "stream",
       "stream": "stdout",
       "text": [
        "\r",
        "17.109562186887388\r",
        "17.12045306033544\r",
        "17.131343933783487"
       ]
      },
      {
       "output_type": "stream",
       "stream": "stdout",
       "text": [
        "\r",
        "17.142234807231542\r",
        "17.15312568067959\r",
        "17.16401655412764\r",
        "17.174907427575693"
       ]
      },
      {
       "output_type": "stream",
       "stream": "stdout",
       "text": [
        "\r",
        "17.18579830102374"
       ]
      },
      {
       "output_type": "stream",
       "stream": "stdout",
       "text": [
        "\r",
        "17.196689174471793"
       ]
      },
      {
       "output_type": "stream",
       "stream": "stdout",
       "text": [
        "\r",
        "17.207580047919844"
       ]
      },
      {
       "output_type": "stream",
       "stream": "stdout",
       "text": [
        "\r",
        "17.218470921367892\r",
        "17.229361794815944\r",
        "17.240252668263995\r",
        "17.251143541712043\r",
        "17.262034415160095\r",
        "17.272925288608146\r",
        "17.283816162056198\r",
        "17.29470703550425\r",
        "17.305597908952297\r",
        "17.31648878240035\r",
        "17.3273796558484\r",
        "17.338270529296448\r",
        "17.3491614027445\r",
        "17.36005227619255"
       ]
      },
      {
       "output_type": "stream",
       "stream": "stdout",
       "text": [
        "\r",
        "17.370943149640603\r",
        "17.38183402308865\r",
        "17.392724896536702\r",
        "17.403615769984754\r",
        "17.4145066434328"
       ]
      },
      {
       "output_type": "stream",
       "stream": "stdout",
       "text": [
        "\r",
        "17.425397516880853\r",
        "17.436288390328905\r",
        "17.447179263776956\r",
        "17.458070137225004\r",
        "17.468961010673056"
       ]
      },
      {
       "output_type": "stream",
       "stream": "stdout",
       "text": [
        "\r",
        "17.479851884121107\r",
        "17.49074275756916\r",
        "17.501633631017206\r",
        "17.512524504465258\r",
        "17.52341537791331\r",
        "17.534306251361357"
       ]
      },
      {
       "output_type": "stream",
       "stream": "stdout",
       "text": [
        "\r",
        "17.54519712480941"
       ]
      },
      {
       "output_type": "stream",
       "stream": "stdout",
       "text": [
        "\r",
        "17.55608799825746\r",
        "17.566978871705512"
       ]
      },
      {
       "output_type": "stream",
       "stream": "stdout",
       "text": [
        "\r",
        "17.577869745153563\r",
        "17.58876061860161\r",
        "17.599651492049663"
       ]
      },
      {
       "output_type": "stream",
       "stream": "stdout",
       "text": [
        "\r",
        "17.610542365497714\r",
        "17.621433238945762\r",
        "17.632324112393814\r",
        "17.643214985841865\r",
        "17.654105859289913\r",
        "17.664996732737965"
       ]
      },
      {
       "output_type": "stream",
       "stream": "stdout",
       "text": [
        "\r",
        "17.675887606186016\r",
        "17.686778479634064\r",
        "17.69766935308212\r",
        "17.708560226530167\r",
        "17.71945109997822"
       ]
      },
      {
       "output_type": "stream",
       "stream": "stdout",
       "text": [
        "\r",
        "17.73034197342627\r",
        "17.74123284687432\r",
        "17.75212372032237\r",
        "17.76301459377042\r",
        "17.77390546721847\r",
        "17.784796340666524\r",
        "17.795687214114572"
       ]
      },
      {
       "output_type": "stream",
       "stream": "stdout",
       "text": [
        "\r",
        "17.80657808756262"
       ]
      },
      {
       "output_type": "stream",
       "stream": "stdout",
       "text": [
        "\r",
        "17.817468961010675\r",
        "17.828359834458723\r",
        "17.83925070790677\r",
        "17.850141581354826\r",
        "17.861032454802874\r",
        "17.871923328250926\r",
        "17.882814201698977"
       ]
      },
      {
       "output_type": "stream",
       "stream": "stdout",
       "text": [
        "\r",
        "17.893705075147025\r",
        "17.904595948595077\r",
        "17.91548682204313\r",
        "17.926377695491176\r",
        "17.93726856893923\r",
        "17.94815944238728\r",
        "17.959050315835327\r",
        "17.969941189283382\r",
        "17.98083206273143\r",
        "17.99172293617948\r",
        "18.002613809627533\r",
        "18.01350468307558\r",
        "18.024395556523633\r",
        "18.035286429971684\r",
        "18.046177303419732"
       ]
      },
      {
       "output_type": "stream",
       "stream": "stdout",
       "text": [
        "\r",
        "18.057068176867787\r",
        "18.067959050315835\r",
        "18.078849923763887\r",
        "18.089740797211938\r",
        "18.100631670659986\r",
        "18.111522544108038\r",
        "18.12241341755609"
       ]
      },
      {
       "output_type": "stream",
       "stream": "stdout",
       "text": [
        "\r",
        "18.133304291004137\r",
        "18.14419516445219\r",
        "18.15508603790024\r",
        "18.165976911348288"
       ]
      },
      {
       "output_type": "stream",
       "stream": "stdout",
       "text": [
        "\r",
        "18.17686778479634"
       ]
      },
      {
       "output_type": "stream",
       "stream": "stdout",
       "text": [
        "\r",
        "18.18775865824439\r",
        "18.198649531692443\r",
        "18.209540405140494\r",
        "18.220431278588542"
       ]
      },
      {
       "output_type": "stream",
       "stream": "stdout",
       "text": [
        "\r",
        "18.231322152036594\r",
        "18.242213025484645\r",
        "18.253103898932693\r",
        "18.263994772380745\r",
        "18.274885645828796\r",
        "18.285776519276848\r",
        "18.296667392724896\r",
        "18.307558266172947\r",
        "18.318449139621"
       ]
      },
      {
       "output_type": "stream",
       "stream": "stdout",
       "text": [
        "\r",
        "18.329340013069046\r",
        "18.340230886517098\r",
        "18.35112175996515"
       ]
      },
      {
       "output_type": "stream",
       "stream": "stdout",
       "text": [
        "\r",
        "18.3620126334132\r",
        "18.37290350686125\r",
        "18.3837943803093\r",
        "18.394685253757352\r",
        "18.405576127205403"
       ]
      },
      {
       "output_type": "stream",
       "stream": "stdout",
       "text": [
        "\r",
        "18.41646700065345\r",
        "18.427357874101503\r",
        "18.438248747549554\r",
        "18.449139620997602\r",
        "18.460030494445654\r",
        "18.470921367893705\r",
        "18.481812241341757\r",
        "18.49270311478981"
       ]
      },
      {
       "output_type": "stream",
       "stream": "stdout",
       "text": [
        "\r",
        "18.503593988237856\r",
        "18.514484861685908\r",
        "18.52537573513396\r",
        "18.536266608582007\r",
        "18.54715748203006\r",
        "18.55804835547811\r",
        "18.56893922892616\r",
        "18.57983010237421\r",
        "18.59072097582226\r",
        "18.60161184927031\r",
        "18.612502722718364"
       ]
      },
      {
       "output_type": "stream",
       "stream": "stdout",
       "text": [
        "\r",
        "18.623393596166412\r",
        "18.634284469614464\r",
        "18.645175343062515"
       ]
      },
      {
       "output_type": "stream",
       "stream": "stdout",
       "text": [
        "\r",
        "18.656066216510563\r",
        "18.666957089958615\r",
        "18.677847963406666\r",
        "18.688738836854714\r",
        "18.699629710302766\r",
        "18.710520583750817\r",
        "18.721411457198865\r",
        "18.73230233064692\r",
        "18.74319320409497\r",
        "18.754084077543016"
       ]
      },
      {
       "output_type": "stream",
       "stream": "stdout",
       "text": [
        "\r",
        "18.76497495099107\r",
        "18.77586582443912\r",
        "18.78675669788717\r",
        "18.797647571335222\r",
        "18.80853844478327\r",
        "18.81942931823132"
       ]
      },
      {
       "output_type": "stream",
       "stream": "stdout",
       "text": [
        "\r",
        "18.830320191679373"
       ]
      },
      {
       "output_type": "stream",
       "stream": "stdout",
       "text": [
        "\r",
        "18.84121106512742\r",
        "18.852101938575476\r",
        "18.862992812023524\r",
        "18.873883685471572\r",
        "18.884774558919627\r",
        "18.895665432367675\r",
        "18.906556305815727"
       ]
      },
      {
       "output_type": "stream",
       "stream": "stdout",
       "text": [
        "\r",
        "18.917447179263778\r",
        "18.928338052711826\r",
        "18.939228926159878\r",
        "18.95011979960793\r",
        "18.961010673055977\r",
        "18.97190154650403"
       ]
      },
      {
       "output_type": "stream",
       "stream": "stdout",
       "text": [
        "\r",
        "18.98279241995208\r",
        "18.99368329340013\r",
        "19.004574166848183\r",
        "19.01546504029623"
       ]
      },
      {
       "output_type": "stream",
       "stream": "stdout",
       "text": [
        "\r",
        "19.026355913744283"
       ]
      },
      {
       "output_type": "stream",
       "stream": "stdout",
       "text": [
        "\r",
        "19.037246787192334\r",
        "19.048137660640382\r",
        "19.059028534088434\r",
        "19.069919407536485\r",
        "19.080810280984533\r",
        "19.091701154432585\r",
        "19.102592027880636\r",
        "19.113482901328688\r",
        "19.124373774776736\r",
        "19.135264648224787\r",
        "19.14615552167284\r",
        "19.15704639512089"
       ]
      },
      {
       "output_type": "stream",
       "stream": "stdout",
       "text": [
        "\r",
        "19.167937268568938\r",
        "19.17882814201699\r",
        "19.18971901546504\r",
        "19.200609888913093\r",
        "19.21150076236114\r",
        "19.222391635809192\r",
        "19.233282509257243\r",
        "19.24417338270529"
       ]
      },
      {
       "output_type": "stream",
       "stream": "stdout",
       "text": [
        "\r",
        "19.255064256153343\r",
        "19.265955129601394\r",
        "19.276846003049446\r",
        "19.287736876497494\r",
        "19.298627749945545\r",
        "19.309518623393597\r",
        "19.32040949684165\r",
        "19.331300370289696\r",
        "19.342191243737748\r",
        "19.3530821171858"
       ]
      },
      {
       "output_type": "stream",
       "stream": "stdout",
       "text": [
        "\r",
        "19.363972990633847\r",
        "19.3748638640819\r",
        "19.38575473752995"
       ]
      },
      {
       "output_type": "stream",
       "stream": "stdout",
       "text": [
        "\r",
        "19.396645610978\r",
        "19.407536484426053"
       ]
      },
      {
       "output_type": "stream",
       "stream": "stdout",
       "text": [
        "\r",
        "19.4184273578741\r",
        "19.429318231322153\r",
        "19.440209104770204\r",
        "19.451099978218252\r",
        "19.461990851666304\r",
        "19.472881725114355\r",
        "19.483772598562403\r",
        "19.494663472010455\r",
        "19.505554345458506"
       ]
      },
      {
       "output_type": "stream",
       "stream": "stdout",
       "text": [
        "\r",
        "19.516445218906554\r",
        "19.52733609235461\r",
        "19.538226965802657\r",
        "19.549117839250705\r",
        "19.56000871269876"
       ]
      },
      {
       "output_type": "stream",
       "stream": "stdout",
       "text": [
        "\r",
        "19.57089958614681\r",
        "19.58179045959486\r",
        "19.59268133304291\r",
        "19.60357220649096\r",
        "19.61446307993901"
       ]
      },
      {
       "output_type": "stream",
       "stream": "stdout",
       "text": [
        "\r",
        "19.625353953387062\r",
        "19.63624482683511\r",
        "19.647135700283165\r",
        "19.658026573731213\r",
        "19.66891744717926\r",
        "19.679808320627316\r",
        "19.690699194075364\r",
        "19.701590067523416\r",
        "19.712480940971467"
       ]
      },
      {
       "output_type": "stream",
       "stream": "stdout",
       "text": [
        "\r",
        "19.723371814419515"
       ]
      },
      {
       "output_type": "stream",
       "stream": "stdout",
       "text": [
        "\r",
        "19.734262687867567\r",
        "19.745153561315618\r",
        "19.756044434763666"
       ]
      },
      {
       "output_type": "stream",
       "stream": "stdout",
       "text": [
        "\r",
        "19.76693530821172\r",
        "19.77782618165977"
       ]
      },
      {
       "output_type": "stream",
       "stream": "stdout",
       "text": [
        "\r",
        "19.788717055107817\r",
        "19.799607928555872\r",
        "19.81049880200392\r",
        "19.82138967545197"
       ]
      },
      {
       "output_type": "stream",
       "stream": "stdout",
       "text": [
        "\r",
        "19.832280548900023\r",
        "19.84317142234807\r",
        "19.854062295796123\r",
        "19.864953169244174\r",
        "19.875844042692222\r",
        "19.886734916140274\r",
        "19.897625789588325\r",
        "19.908516663036377"
       ]
      },
      {
       "output_type": "stream",
       "stream": "stdout",
       "text": [
        "\r",
        "19.919407536484428\r",
        "19.930298409932476"
       ]
      },
      {
       "output_type": "stream",
       "stream": "stdout",
       "text": [
        "\r",
        "19.941189283380528\r",
        "19.95208015682858\r",
        "19.962971030276627"
       ]
      },
      {
       "output_type": "stream",
       "stream": "stdout",
       "text": [
        "\r",
        "19.97386190372468\r",
        "19.98475277717273"
       ]
      },
      {
       "output_type": "stream",
       "stream": "stdout",
       "text": [
        "\r",
        "19.995643650620778\r",
        "20.00653452406883\r",
        "20.01742539751688\r",
        "20.028316270964932\r",
        "20.03920714441298"
       ]
      },
      {
       "output_type": "stream",
       "stream": "stdout",
       "text": [
        "\r",
        "20.050098017861032\r",
        "20.060988891309083\r",
        "20.071879764757135\r",
        "20.082770638205183\r",
        "20.093661511653234"
       ]
      },
      {
       "output_type": "stream",
       "stream": "stdout",
       "text": [
        "\r",
        "20.104552385101286\r",
        "20.115443258549337\r",
        "20.126334131997385\r",
        "20.137225005445437\r",
        "20.14811587889349\r",
        "20.159006752341536"
       ]
      },
      {
       "output_type": "stream",
       "stream": "stdout",
       "text": [
        "\r",
        "20.169897625789588\r",
        "20.18078849923764\r",
        "20.19167937268569\r",
        "20.20257024613374\r",
        "20.21346111958179\r",
        "20.224351993029842"
       ]
      },
      {
       "output_type": "stream",
       "stream": "stdout",
       "text": [
        "\r",
        "20.235242866477893\r",
        "20.24613373992594\r",
        "20.257024613373993\r",
        "20.267915486822044\r",
        "20.278806360270092\r",
        "20.289697233718144"
       ]
      },
      {
       "output_type": "stream",
       "stream": "stdout",
       "text": [
        "\r",
        "20.300588107166195"
       ]
      },
      {
       "output_type": "stream",
       "stream": "stdout",
       "text": [
        "\r",
        "20.311478980614243\r",
        "20.3223698540623\r",
        "20.333260727510346\r",
        "20.344151600958398"
       ]
      },
      {
       "output_type": "stream",
       "stream": "stdout",
       "text": [
        "\r",
        "20.35504247440645\r",
        "20.365933347854497\r",
        "20.37682422130255\r",
        "20.3877150947506\r",
        "20.39860596819865\r",
        "20.4094968416467\r",
        "20.42038771509475\r",
        "20.4312785885428\r",
        "20.442169461990854\r",
        "20.453060335438902\r",
        "20.46395120888695"
       ]
      },
      {
       "output_type": "stream",
       "stream": "stdout",
       "text": [
        "\r",
        "20.474842082335005\r",
        "20.485732955783053\r",
        "20.496623829231105\r",
        "20.507514702679156\r",
        "20.518405576127204"
       ]
      },
      {
       "output_type": "stream",
       "stream": "stdout",
       "text": [
        "\r",
        "20.529296449575256\r",
        "20.540187323023307\r",
        "20.551078196471355\r",
        "20.56196906991941\r",
        "20.572859943367458\r",
        "20.583750816815506"
       ]
      },
      {
       "output_type": "stream",
       "stream": "stdout",
       "text": [
        "\r",
        "20.59464169026356\r",
        "20.60553256371161\r",
        "20.61642343715966"
       ]
      },
      {
       "output_type": "stream",
       "stream": "stdout",
       "text": [
        "\r",
        "20.627314310607712\r",
        "20.63820518405576\r",
        "20.64909605750381\r",
        "20.659986930951863\r",
        "20.67087780439991\r",
        "20.681768677847963\r",
        "20.692659551296014\r",
        "20.703550424744062\r",
        "20.714441298192117\r",
        "20.725332171640165\r",
        "20.736223045088217\r",
        "20.747113918536268"
       ]
      },
      {
       "output_type": "stream",
       "stream": "stdout",
       "text": [
        "\r",
        "20.758004791984316\r",
        "20.768895665432368\r",
        "20.77978653888042\r",
        "20.790677412328467\r",
        "20.80156828577652\r",
        "20.81245915922457\r",
        "20.823350032672618"
       ]
      },
      {
       "output_type": "stream",
       "stream": "stdout",
       "text": [
        "\r",
        "20.83424090612067\r",
        "20.84513177956872\r",
        "20.856022653016772\r",
        "20.866913526464824\r",
        "20.877804399912872\r",
        "20.888695273360923\r",
        "20.899586146808975\r",
        "20.910477020257023\r",
        "20.921367893705074\r",
        "20.932258767153126\r",
        "20.943149640601177\r",
        "20.954040514049225\r",
        "20.964931387497277\r",
        "20.97582226094533\r",
        "20.98671313439338\r",
        "20.997604007841428\r",
        "21.00849488128948\r",
        "21.01938575473753\r",
        "21.030276628185582"
       ]
      },
      {
       "output_type": "stream",
       "stream": "stdout",
       "text": [
        "\r",
        "21.04116750163363\r",
        "21.052058375081682\r",
        "21.062949248529733"
       ]
      },
      {
       "output_type": "stream",
       "stream": "stdout",
       "text": [
        "\r",
        "21.07384012197778\r",
        "21.084730995425833\r",
        "21.095621868873884\r",
        "21.106512742321932\r",
        "21.117403615769984\r",
        "21.128294489218035\r",
        "21.139185362666087\r",
        "21.15007623611414"
       ]
      },
      {
       "output_type": "stream",
       "stream": "stdout",
       "text": [
        "\r",
        "21.160967109562186\r",
        "21.171857983010238\r",
        "21.18274885645829\r",
        "21.193639729906337\r",
        "21.20453060335439\r",
        "21.21542147680244\r",
        "21.22631235025049\r",
        "21.237203223698543\r",
        "21.24809409714659\r",
        "21.25898497059464\r",
        "21.269875844042694\r",
        "21.280766717490742"
       ]
      },
      {
       "output_type": "stream",
       "stream": "stdout",
       "text": [
        "\r",
        "21.291657590938794\r",
        "21.302548464386845\r",
        "21.313439337834893\r",
        "21.324330211282945\r",
        "21.335221084730996\r",
        "21.346111958179044\r",
        "21.3570028316271\r",
        "21.367893705075147\r",
        "21.378784578523195\r",
        "21.38967545197125\r",
        "21.400566325419298\r",
        "21.41145719886735"
       ]
      },
      {
       "output_type": "stream",
       "stream": "stdout",
       "text": [
        "\r",
        "21.4223480723154\r",
        "21.43323894576345\r",
        "21.4441298192115\r",
        "21.455020692659552\r",
        "21.4659115661076\r",
        "21.476802439555655\r",
        "21.487693313003703\r",
        "21.49858418645175"
       ]
      },
      {
       "output_type": "stream",
       "stream": "stdout",
       "text": [
        "\r",
        "21.509475059899806"
       ]
      },
      {
       "output_type": "stream",
       "stream": "stdout",
       "text": [
        "\r",
        "21.520365933347854\r",
        "21.531256806795902\r",
        "21.542147680243957\r",
        "21.553038553692005\r",
        "21.563929427140057\r",
        "21.574820300588108\r",
        "21.585711174036156"
       ]
      },
      {
       "output_type": "stream",
       "stream": "stdout",
       "text": [
        "\r",
        "21.596602047484208\r",
        "21.60749292093226\r",
        "21.618383794380307\r",
        "21.629274667828362\r",
        "21.64016554127641\r",
        "21.65105641472446\r",
        "21.661947288172513\r",
        "21.67283816162056\r",
        "21.683729035068612"
       ]
      },
      {
       "output_type": "stream",
       "stream": "stdout",
       "text": [
        "\r",
        "21.694619908516664\r",
        "21.705510781964712\r",
        "21.716401655412763\r",
        "21.727292528860815\r",
        "21.738183402308863\r",
        "21.749074275756914\r",
        "21.759965149204966\r",
        "21.770856022653017\r",
        "21.78174689610107\r",
        "21.792637769549117\r",
        "21.80352864299717"
       ]
      },
      {
       "output_type": "stream",
       "stream": "stdout",
       "text": [
        "\r",
        "21.81441951644522\r",
        "21.825310389893268\r",
        "21.83620126334132"
       ]
      },
      {
       "output_type": "stream",
       "stream": "stdout",
       "text": [
        "\r",
        "21.84709213678937\r",
        "21.857983010237422\r",
        "21.86887388368547\r",
        "21.879764757133522\r",
        "21.890655630581573\r",
        "21.901546504029625\r",
        "21.912437377477673\r",
        "21.923328250925724\r",
        "21.934219124373776\r",
        "21.945109997821827"
       ]
      },
      {
       "output_type": "stream",
       "stream": "stdout",
       "text": [
        "\r",
        "21.956000871269875\r",
        "21.966891744717927\r",
        "21.97778261816598\r",
        "21.988673491614026\r",
        "21.999564365062078"
       ]
      },
      {
       "output_type": "stream",
       "stream": "stdout",
       "text": [
        "\r",
        "22.01045523851013\r",
        "22.021346111958177\r",
        "22.03223698540623"
       ]
      },
      {
       "output_type": "stream",
       "stream": "stdout",
       "text": [
        "\r",
        "22.04312785885428\r",
        "22.054018732302332\r",
        "22.064909605750383\r",
        "22.07580047919843\r",
        "22.086691352646483\r",
        "22.097582226094534\r",
        "22.108473099542582\r",
        "22.119363972990634\r",
        "22.130254846438685\r",
        "22.141145719886733"
       ]
      },
      {
       "output_type": "stream",
       "stream": "stdout",
       "text": [
        "\r",
        "22.15203659333479\r",
        "22.162927466782836\r",
        "22.173818340230884\r",
        "22.18470921367894\r",
        "22.195600087126987\r",
        "22.20649096057504\r",
        "22.21738183402309\r",
        "22.228272707471138\r",
        "22.23916358091919\r",
        "22.25005445436724\r",
        "22.26094532781529\r",
        "22.271836201263344\r",
        "22.282727074711392"
       ]
      },
      {
       "output_type": "stream",
       "stream": "stdout",
       "text": [
        "\r",
        "22.29361794815944\r",
        "22.304508821607495\r",
        "22.315399695055543\r",
        "22.326290568503595\r",
        "22.337181441951646\r",
        "22.348072315399694\r",
        "22.358963188847746\r",
        "22.369854062295797\r",
        "22.380744935743845\r",
        "22.391635809191897"
       ]
      },
      {
       "output_type": "stream",
       "stream": "stdout",
       "text": [
        "\r",
        "22.402526682639948"
       ]
      },
      {
       "output_type": "stream",
       "stream": "stdout",
       "text": [
        "\r",
        "22.413417556087996\r",
        "22.42430842953605\r",
        "22.4351993029841\r",
        "22.446090176432147\r",
        "22.456981049880202\r",
        "22.46787192332825\r",
        "22.4787627967763\r",
        "22.489653670224353\r",
        "22.5005445436724\r",
        "22.511435417120452\r",
        "22.522326290568504\r",
        "22.533217164016552"
       ]
      },
      {
       "output_type": "stream",
       "stream": "stdout",
       "text": [
        "\r",
        "22.544108037464603"
       ]
      },
      {
       "output_type": "stream",
       "stream": "stdout",
       "text": [
        "\r",
        "22.554998910912655\r",
        "22.565889784360706\r",
        "22.576780657808758\r",
        "22.587671531256806"
       ]
      },
      {
       "output_type": "stream",
       "stream": "stdout",
       "text": [
        "\r",
        "22.598562404704857\r",
        "22.60945327815291\r",
        "22.620344151600957\r",
        "22.63123502504901\r",
        "22.64212589849706\r",
        "22.653016771945108"
       ]
      },
      {
       "output_type": "stream",
       "stream": "stdout",
       "text": [
        "\r",
        "22.66390764539316\r",
        "22.67479851884121\r",
        "22.685689392289262\r",
        "22.696580265737314\r",
        "22.707471139185362\r",
        "22.718362012633413\r",
        "22.729252886081465\r",
        "22.740143759529513\r",
        "22.751034632977564"
       ]
      },
      {
       "output_type": "stream",
       "stream": "stdout",
       "text": [
        "\r",
        "22.761925506425616\r",
        "22.772816379873667\r",
        "22.783707253321715"
       ]
      },
      {
       "output_type": "stream",
       "stream": "stdout",
       "text": [
        "\r",
        "22.794598126769767\r",
        "22.80548900021782"
       ]
      },
      {
       "output_type": "stream",
       "stream": "stdout",
       "text": [
        "\r",
        "22.816379873665866\r",
        "22.827270747113918\r",
        "22.83816162056197\r",
        "22.84905249401002\r",
        "22.85994336745807\r",
        "22.87083424090612\r",
        "22.881725114354172"
       ]
      },
      {
       "output_type": "stream",
       "stream": "stdout",
       "text": [
        "\r",
        "22.892615987802223\r",
        "22.90350686125027\r",
        "22.914397734698323\r",
        "22.925288608146374\r",
        "22.936179481594422\r",
        "22.947070355042474\r",
        "22.957961228490525\r",
        "22.968852101938573\r",
        "22.97974297538663\r",
        "22.990633848834676\r",
        "23.001524722282728\r",
        "23.01241559573078\r",
        "23.023306469178827\r",
        "23.03419734262688"
       ]
      },
      {
       "output_type": "stream",
       "stream": "stdout",
       "text": [
        "\r",
        "23.04508821607493\r",
        "23.055979089522978\r",
        "23.066869962971033\r",
        "23.07776083641908\r",
        "23.08865170986713\r",
        "23.099542583315184\r",
        "23.110433456763232\r",
        "23.121324330211284"
       ]
      },
      {
       "output_type": "stream",
       "stream": "stdout",
       "text": [
        "\r",
        "23.132215203659335\r",
        "23.143106077107383\r",
        "23.153996950555435\r",
        "23.164887824003486\r",
        "23.175778697451534"
       ]
      },
      {
       "output_type": "stream",
       "stream": "stdout",
       "text": [
        "\r",
        "23.18666957089959\r",
        "23.197560444347637\r",
        "23.208451317795685\r",
        "23.21934219124374\r",
        "23.230233064691788\r",
        "23.241123938139836\r",
        "23.25201481158789\r",
        "23.26290568503594\r",
        "23.27379655848399\r",
        "23.284687431932042\r",
        "23.29557830538009\r",
        "23.30646917882814\r",
        "23.317360052276193"
       ]
      },
      {
       "output_type": "stream",
       "stream": "stdout",
       "text": [
        "\r",
        "23.32825092572424\r",
        "23.339141799172296\r",
        "23.350032672620344\r",
        "23.360923546068392\r",
        "23.371814419516447\r",
        "23.382705292964495\r",
        "23.393596166412546\r",
        "23.404487039860598\r",
        "23.415377913308646"
       ]
      },
      {
       "output_type": "stream",
       "stream": "stdout",
       "text": [
        "\r",
        "23.426268786756697\r",
        "23.43715966020475\r",
        "23.448050533652797"
       ]
      },
      {
       "output_type": "stream",
       "stream": "stdout",
       "text": [
        "\r",
        "23.45894140710085\r",
        "23.4698322805489\r",
        "23.48072315399695\r",
        "23.491614027445003\r",
        "23.50250490089305"
       ]
      },
      {
       "output_type": "stream",
       "stream": "stdout",
       "text": [
        "\r",
        "23.513395774341102"
       ]
      },
      {
       "output_type": "stream",
       "stream": "stdout",
       "text": [
        "\r",
        "23.524286647789154\r",
        "23.535177521237202\r",
        "23.546068394685253\r",
        "23.556959268133305"
       ]
      },
      {
       "output_type": "stream",
       "stream": "stdout",
       "text": [
        "\r",
        "23.567850141581353"
       ]
      },
      {
       "output_type": "stream",
       "stream": "stdout",
       "text": [
        "\r",
        "23.578741015029404\r",
        "23.589631888477456\r",
        "23.600522761925507\r",
        "23.61141363537356"
       ]
      },
      {
       "output_type": "stream",
       "stream": "stdout",
       "text": [
        "\r",
        "23.622304508821607\r",
        "23.63319538226966\r",
        "23.64408625571771\r",
        "23.654977129165758\r",
        "23.66586800261381"
       ]
      },
      {
       "output_type": "stream",
       "stream": "stdout",
       "text": [
        "\r",
        "23.67675887606186\r",
        "23.687649749509912\r",
        "23.69854062295796\r",
        "23.70943149640601\r",
        "23.720322369854063"
       ]
      },
      {
       "output_type": "stream",
       "stream": "stdout",
       "text": [
        "\r",
        "23.73121324330211\r",
        "23.742104116750163"
       ]
      },
      {
       "output_type": "stream",
       "stream": "stdout",
       "text": [
        "\r",
        "23.752994990198214\r",
        "23.763885863646266\r",
        "23.774776737094314\r",
        "23.785667610542365\r",
        "23.796558483990417\r",
        "23.80744935743847"
       ]
      },
      {
       "output_type": "stream",
       "stream": "stdout",
       "text": [
        "\r",
        "23.818340230886516\r",
        "23.829231104334568"
       ]
      },
      {
       "output_type": "stream",
       "stream": "stdout",
       "text": [
        "\r",
        "23.84012197778262\r",
        "23.851012851230667\r",
        "23.86190372467872\r",
        "23.87279459812677\r",
        "23.883685471574818\r",
        "23.894576345022873\r",
        "23.90546721847092\r",
        "23.916358091918973\r",
        "23.927248965367024\r",
        "23.938139838815072"
       ]
      },
      {
       "output_type": "stream",
       "stream": "stdout",
       "text": [
        "\r",
        "23.949030712263124\r",
        "23.959921585711175"
       ]
      },
      {
       "output_type": "stream",
       "stream": "stdout",
       "text": [
        "\r",
        "23.970812459159223\r",
        "23.981703332607278\r",
        "23.992594206055326\r",
        "24.003485079503374\r",
        "24.01437595295143\r",
        "24.025266826399477\r",
        "24.03615769984753\r",
        "24.04704857329558\r",
        "24.057939446743628\r",
        "24.06883032019168\r",
        "24.07972119363973"
       ]
      },
      {
       "output_type": "stream",
       "stream": "stdout",
       "text": [
        "\r",
        "24.09061206708778\r",
        "24.10150294053583\r",
        "24.112393813983882\r",
        "24.12328468743193\r",
        "24.134175560879985"
       ]
      },
      {
       "output_type": "stream",
       "stream": "stdout",
       "text": [
        "\r",
        "24.145066434328033\r",
        "24.15595730777608"
       ]
      },
      {
       "output_type": "stream",
       "stream": "stdout",
       "text": [
        "\r",
        "24.166848181224136\r",
        "24.177739054672184\r",
        "24.188629928120235\r",
        "24.199520801568287\r",
        "24.210411675016335\r",
        "24.221302548464386\r",
        "24.232193421912438\r",
        "24.243084295360486\r",
        "24.253975168808537\r",
        "24.26486604225659\r",
        "24.275756915704637\r",
        "24.286647789152692"
       ]
      },
      {
       "output_type": "stream",
       "stream": "stdout",
       "text": [
        "\r",
        "24.29753866260074\r",
        "24.30842953604879\r",
        "24.319320409496843\r",
        "24.33021128294489\r",
        "24.341102156392942\r",
        "24.351993029840994\r",
        "24.362883903289042\r",
        "24.373774776737093\r",
        "24.384665650185145\r",
        "24.395556523633196\r",
        "24.406447397081248\r",
        "24.417338270529296\r",
        "24.428229143977347"
       ]
      },
      {
       "output_type": "stream",
       "stream": "stdout",
       "text": [
        "\r",
        "24.4391200174254\r",
        "24.450010890873447\r",
        "24.4609017643215\r",
        "24.47179263776955\r",
        "24.482683511217598"
       ]
      },
      {
       "output_type": "stream",
       "stream": "stdout",
       "text": [
        "\r",
        "24.49357438466565\r",
        "24.5044652581137"
       ]
      },
      {
       "output_type": "stream",
       "stream": "stdout",
       "text": [
        "\r",
        "24.515356131561752\r",
        "24.5262470050098\r",
        "24.53713787845785\r",
        "24.548028751905903\r",
        "24.558919625353955\r",
        "24.569810498802003\r",
        "24.580701372250054\r",
        "24.591592245698106"
       ]
      },
      {
       "output_type": "stream",
       "stream": "stdout",
       "text": [
        "\r",
        "24.602483119146157\r",
        "24.613373992594205\r",
        "24.624264866042257\r",
        "24.63515573949031\r",
        "24.646046612938356\r",
        "24.656937486386408\r",
        "24.66782835983446"
       ]
      },
      {
       "output_type": "stream",
       "stream": "stdout",
       "text": [
        "\r",
        "24.678719233282507\r",
        "24.68961010673056"
       ]
      },
      {
       "output_type": "stream",
       "stream": "stdout",
       "text": [
        "\r",
        "24.70050098017861\r",
        "24.71139185362666\r",
        "24.722282727074713\r",
        "24.73317360052276\r",
        "24.744064473970813\r",
        "24.754955347418864\r",
        "24.765846220866912\r",
        "24.776737094314964\r",
        "24.787627967763015\r",
        "24.798518841211063"
       ]
      },
      {
       "output_type": "stream",
       "stream": "stdout",
       "text": [
        "\r",
        "24.809409714659118\r",
        "24.820300588107166\r",
        "24.831191461555218"
       ]
      },
      {
       "output_type": "stream",
       "stream": "stdout",
       "text": [
        "\r",
        "24.84208233500327\r",
        "24.852973208451317\r",
        "24.86386408189937\r",
        "24.87475495534742\r",
        "24.885645828795468\r",
        "24.89653670224352\r",
        "24.90742757569157\r",
        "24.91831844913962\r",
        "24.929209322587674\r",
        "24.940100196035722"
       ]
      },
      {
       "output_type": "stream",
       "stream": "stdout",
       "text": [
        "\r",
        "24.95099106948377\r",
        "24.961881942931825\r",
        "24.972772816379873\r",
        "24.983663689827925\r",
        "24.994554563275976\r",
        "25.005445436724028\r",
        "25.016336310172075\r",
        "25.027227183620127"
       ]
      },
      {
       "output_type": "stream",
       "stream": "stdout",
       "text": [
        "\r",
        "25.038118057068175\r",
        "25.049008930516226\r",
        "25.05989980396428\r",
        "25.07079067741233"
       ]
      },
      {
       "output_type": "stream",
       "stream": "stdout",
       "text": [
        "\r",
        "25.08168155086038\r",
        "25.09257242430843\r",
        "25.103463297756477\r",
        "25.11435417120453\r",
        "25.125245044652583\r",
        "25.13613591810063\r",
        "25.147026791548683\r",
        "25.15791766499673\r",
        "25.168808538444782\r",
        "25.179699411892837\r",
        "25.190590285340885\r",
        "25.201481158788937\r",
        "25.212372032236985\r",
        "25.223262905685033"
       ]
      },
      {
       "output_type": "stream",
       "stream": "stdout",
       "text": [
        "\r",
        "25.234153779133084\r",
        "25.24504465258114\r",
        "25.255935526029187"
       ]
      },
      {
       "output_type": "stream",
       "stream": "stdout",
       "text": [
        "\r",
        "25.26682639947724\r",
        "25.277717272925287\r",
        "25.28860814637334\r",
        "25.299499019821393"
       ]
      },
      {
       "output_type": "stream",
       "stream": "stdout",
       "text": [
        "\r",
        "25.31038989326944\r",
        "25.321280766717493\r",
        "25.33217164016554"
       ]
      },
      {
       "output_type": "stream",
       "stream": "stdout",
       "text": [
        "\r",
        "25.34306251361359\r",
        "25.35395338706164\r",
        "25.364844260509695\r",
        "25.375735133957743\r",
        "25.386626007405795"
       ]
      },
      {
       "output_type": "stream",
       "stream": "stdout",
       "text": [
        "\r",
        "25.397516880853843\r",
        "25.408407754301894\r",
        "25.41929862774995\r",
        "25.430189501197997"
       ]
      },
      {
       "output_type": "stream",
       "stream": "stdout",
       "text": [
        "\r",
        "25.441080374646045\r",
        "25.451971248094097\r",
        "25.462862121542145\r",
        "25.4737529949902\r",
        "25.48464386843825\r",
        "25.4955347418863\r",
        "25.50642561533435"
       ]
      },
      {
       "output_type": "stream",
       "stream": "stdout",
       "text": [
        "\r",
        "25.5173164887824\r",
        "25.528207362230447\r",
        "25.5390982356785\r",
        "25.549989109126553\r",
        "25.5608799825746"
       ]
      },
      {
       "output_type": "stream",
       "stream": "stdout",
       "text": [
        "\r",
        "25.571770856022653"
       ]
      },
      {
       "output_type": "stream",
       "stream": "stdout",
       "text": [
        "\r",
        "25.5826617294707\r",
        "25.593552602918756\r",
        "25.604443476366807\r",
        "25.615334349814855\r",
        "25.626225223262907\r",
        "25.637116096710955"
       ]
      },
      {
       "output_type": "stream",
       "stream": "stdout",
       "text": [
        "\r",
        "25.648006970159003\r",
        "25.658897843607058\r",
        "25.66978871705511\r",
        "25.680679590503157\r",
        "25.69157046395121\r",
        "25.702461337399257\r",
        "25.71335221084731\r",
        "25.724243084295363\r",
        "25.73513395774341"
       ]
      },
      {
       "output_type": "stream",
       "stream": "stdout",
       "text": [
        "\r",
        "25.746024831191463\r",
        "25.75691570463951"
       ]
      },
      {
       "output_type": "stream",
       "stream": "stdout",
       "text": [
        "\r",
        "25.767806578087566\r",
        "25.778697451535614\r",
        "25.789588324983665\r",
        "25.800479198431713\r",
        "25.811370071879765\r",
        "25.822260945327812\r",
        "25.833151818775868\r",
        "25.84404269222392\r",
        "25.854933565671967\r",
        "25.865824439120015\r",
        "25.876715312568066\r",
        "25.88760618601612\r",
        "25.89849705946417\r",
        "25.90938793291222\r",
        "25.92027880636027\r",
        "25.93116967980832\r",
        "25.94206055325637\r",
        "25.952951426704423\r",
        "25.96384230015247\r",
        "25.974733173600523\r",
        "25.98562404704857\r",
        "25.996514920496622\r",
        "26.007405793944677\r",
        "26.018296667392725\r",
        "26.029187540840777"
       ]
      },
      {
       "output_type": "stream",
       "stream": "stdout",
       "text": [
        "\r",
        "26.040078414288825\r",
        "26.050969287736876\r",
        "26.061860161184924\r",
        "26.07275103463298\r",
        "26.083641908081027\r",
        "26.09453278152908\r",
        "26.105423654977127\r",
        "26.11631452842518\r",
        "26.127205401873233\r",
        "26.13809627532128\r",
        "26.148987148769333"
       ]
      },
      {
       "output_type": "stream",
       "stream": "stdout",
       "text": [
        "\r",
        "26.15987802221738\r",
        "26.170768895665432\r",
        "26.181659769113487"
       ]
      },
      {
       "output_type": "stream",
       "stream": "stdout",
       "text": [
        "\r",
        "26.192550642561535\r",
        "26.203441516009583\r",
        "26.214332389457635\r",
        "26.225223262905683\r",
        "26.236114136353734\r",
        "26.24700500980179\r",
        "26.257895883249837\r",
        "26.26878675669789\r",
        "26.279677630145937\r",
        "26.290568503593985\r",
        "26.30145937704204\r",
        "26.31235025049009\r",
        "26.32324112393814\r",
        "26.33413199738619\r",
        "26.34502287083424\r",
        "26.35591374428229\r",
        "26.366804617730345\r",
        "26.377695491178393\r",
        "26.38858636462644\r",
        "26.399477238074493\r",
        "26.41036811152254"
       ]
      },
      {
       "output_type": "stream",
       "stream": "stdout",
       "text": [
        "\r",
        "26.421258984970596\r",
        "26.432149858418647\r",
        "26.443040731866695\r",
        "26.453931605314747\r",
        "26.464822478762795\r",
        "26.475713352210846\r",
        "26.4866042256589\r",
        "26.49749509910695\r",
        "26.508385972554997\r",
        "26.51927684600305\r",
        "26.530167719451097\r",
        "26.54105859289915"
       ]
      },
      {
       "output_type": "stream",
       "stream": "stdout",
       "text": [
        "\r",
        "26.551949466347203\r",
        "26.56284033979525\r",
        "26.573731213243303\r",
        "26.58462208669135\r",
        "26.595512960139406\r",
        "26.606403833587457\r",
        "26.617294707035505\r",
        "26.628185580483553\r",
        "26.639076453931605\r",
        "26.649967327379652\r",
        "26.660858200827708"
       ]
      },
      {
       "output_type": "stream",
       "stream": "stdout",
       "text": [
        "\r",
        "26.67174907427576\r",
        "26.682639947723807"
       ]
      },
      {
       "output_type": "stream",
       "stream": "stdout",
       "text": [
        "\r",
        "26.69353082117186\r",
        "26.704421694619906\r",
        "26.71531256806796\r",
        "26.72620344151601\r",
        "26.73709431496406\r",
        "26.74798518841211"
       ]
      },
      {
       "output_type": "stream",
       "stream": "stdout",
       "text": [
        "\r",
        "26.75887606186016\r",
        "26.76976693530821\r",
        "26.780657808756263\r",
        "26.791548682204315\r",
        "26.802439555652363"
       ]
      },
      {
       "output_type": "stream",
       "stream": "stdout",
       "text": [
        "\r",
        "26.81333042910041\r",
        "26.824221302548462\r",
        "26.835112175996517\r",
        "26.846003049444565\r",
        "26.856893922892617\r",
        "26.867784796340665\r",
        "26.878675669788716\r",
        "26.88956654323677\r",
        "26.90045741668482\r",
        "26.91134829013287\r",
        "26.92223916358092\r",
        "26.933130037028967\r",
        "26.94402091047702\r",
        "26.954911783925073"
       ]
      },
      {
       "output_type": "stream",
       "stream": "stdout",
       "text": [
        "\r",
        "26.96580265737312\r",
        "26.976693530821173\r",
        "26.98758440426922"
       ]
      },
      {
       "output_type": "stream",
       "stream": "stdout",
       "text": [
        "\r",
        "26.998475277717272\r",
        "27.009366151165327\r",
        "27.020257024613375\r",
        "27.031147898061427\r",
        "27.042038771509475\r",
        "27.052929644957523\r",
        "27.063820518405574\r",
        "27.07471139185363\r",
        "27.085602265301677\r",
        "27.09649313874973\r",
        "27.107384012197777\r",
        "27.118274885645828\r",
        "27.129165759093883\r",
        "27.14005663254193"
       ]
      },
      {
       "output_type": "stream",
       "stream": "stdout",
       "text": [
        "\r",
        "27.15094750598998\r",
        "27.16183837943803\r",
        "27.17272925288608\r",
        "27.18362012633413\r",
        "27.194510999782185\r",
        "27.205401873230233\r",
        "27.216292746678285\r",
        "27.227183620126333\r",
        "27.23807449357438\r",
        "27.248965367022436"
       ]
      },
      {
       "output_type": "stream",
       "stream": "stdout",
       "text": [
        "\r",
        "27.259856240470487\r",
        "27.270747113918535\r",
        "27.281637987366587\r",
        "27.292528860814635\r",
        "27.30341973426269\r",
        "27.31431060771074\r",
        "27.32520148115879\r",
        "27.33609235460684\r",
        "27.34698322805489\r",
        "27.357874101502937\r",
        "27.36876497495099\r",
        "27.379655848399043"
       ]
      },
      {
       "output_type": "stream",
       "stream": "stdout",
       "text": [
        "\r",
        "27.39054672184709\r",
        "27.401437595295143\r",
        "27.41232846874319\r",
        "27.423219342191246\r",
        "27.434110215639297"
       ]
      },
      {
       "output_type": "stream",
       "stream": "stdout",
       "text": [
        "\r",
        "27.445001089087345\r",
        "27.455891962535397\r",
        "27.466782835983444\r",
        "27.477673709431492\r",
        "27.488564582879548"
       ]
      },
      {
       "output_type": "stream",
       "stream": "stdout",
       "text": [
        "\r",
        "27.4994554563276\r",
        "27.510346329775647\r",
        "27.5212372032237\r",
        "27.532128076671746\r",
        "27.5430189501198\r",
        "27.553909823567853\r",
        "27.5648006970159\r",
        "27.57569157046395\r",
        "27.586582443912\r",
        "27.597473317360055\r",
        "27.608364190808103\r",
        "27.619255064256155\r",
        "27.630145937704203\r",
        "27.641036811152254\r",
        "27.651927684600302\r",
        "27.662818558048357\r",
        "27.673709431496405\r",
        "27.684600304944457"
       ]
      },
      {
       "output_type": "stream",
       "stream": "stdout",
       "text": [
        "\r",
        "27.695491178392505\r",
        "27.706382051840556\r",
        "27.71727292528861\r",
        "27.72816379873666"
       ]
      },
      {
       "output_type": "stream",
       "stream": "stdout",
       "text": [
        "\r",
        "27.73905467218471\r",
        "27.74994554563276\r",
        "27.76083641908081\r",
        "27.77172729252886\r",
        "27.782618165976913\r",
        "27.79350903942496\r",
        "27.804399912873013\r",
        "27.81529078632106\r",
        "27.826181659769112\r",
        "27.837072533217167\r",
        "27.847963406665215\r",
        "27.858854280113267\r",
        "27.869745153561315\r",
        "27.880636027009366\r",
        "27.891526900457414"
       ]
      },
      {
       "output_type": "stream",
       "stream": "stdout",
       "text": [
        "\r",
        "27.90241777390547\r",
        "27.913308647353517\r",
        "27.92419952080157\r",
        "27.935090394249617\r",
        "27.945981267697668\r",
        "27.956872141145723\r",
        "27.96776301459377\r",
        "27.978653888041823\r",
        "27.98954476148987\r",
        "28.00043563493792\r",
        "28.011326508385974"
       ]
      },
      {
       "output_type": "stream",
       "stream": "stdout",
       "text": [
        "\r",
        "28.022217381834025\r",
        "28.033108255282073\r",
        "28.043999128730125\r",
        "28.054890002178173\r",
        "28.065780875626224\r",
        "28.07667174907428\r",
        "28.087562622522327\r",
        "28.098453495970375\r",
        "28.109344369418427\r",
        "28.120235242866475\r",
        "28.13112611631453\r",
        "28.14201698976258"
       ]
      },
      {
       "output_type": "stream",
       "stream": "stdout",
       "text": [
        "\r",
        "28.15290786321063\r",
        "28.16379873665868\r",
        "28.17468961010673\r",
        "28.18558048355478\r",
        "28.196471357002835\r",
        "28.207362230450883\r",
        "28.21825310389893\r",
        "28.229143977346983\r",
        "28.24003485079503"
       ]
      },
      {
       "output_type": "stream",
       "stream": "stdout",
       "text": [
        "\r",
        "28.250925724243086\r",
        "28.261816597691137\r",
        "28.272707471139185\r",
        "28.283598344587237\r",
        "28.294489218035284\r",
        "28.305380091483336\r",
        "28.31627096493139\r",
        "28.32716183837944\r",
        "28.338052711827487\r",
        "28.34894358527554\r",
        "28.359834458723586\r",
        "28.37072533217164\r",
        "28.381616205619693\r",
        "28.39250707906774\r",
        "28.403397952515792\r",
        "28.41428882596384\r",
        "28.425179699411895\r",
        "28.436070572859943\r",
        "28.446961446307995"
       ]
      },
      {
       "output_type": "stream",
       "stream": "stdout",
       "text": [
        "\r",
        "28.457852319756043\r",
        "28.468743193204094"
       ]
      },
      {
       "output_type": "stream",
       "stream": "stdout",
       "text": [
        "\r",
        "28.479634066652142\r",
        "28.490524940100197\r",
        "28.50141581354825\r",
        "28.512306686996297\r",
        "28.523197560444345"
       ]
      },
      {
       "output_type": "stream",
       "stream": "stdout",
       "text": [
        "\r",
        "28.534088433892396\r",
        "28.54497930734045\r",
        "28.5558701807885\r",
        "28.56676105423655\r",
        "28.5776519276846\r",
        "28.58854280113265\r",
        "28.5994336745807\r",
        "28.610324548028753\r",
        "28.621215421476805\r",
        "28.632106294924853\r",
        "28.6429971683729\r",
        "28.653888041820952\r",
        "28.664778915269007\r",
        "28.675669788717055\r",
        "28.686560662165107\r",
        "28.697451535613155\r",
        "28.708342409061206\r",
        "28.71923328250926"
       ]
      },
      {
       "output_type": "stream",
       "stream": "stdout",
       "text": [
        "\r",
        "28.73012415595731\r",
        "28.74101502940536"
       ]
      },
      {
       "output_type": "stream",
       "stream": "stdout",
       "text": [
        "\r",
        "28.75190590285341\r",
        "28.762796776301457\r",
        "28.773687649749508\r",
        "28.784578523197563\r",
        "28.79546939664561\r",
        "28.806360270093663\r",
        "28.81725114354171\r",
        "28.828142016989762\r",
        "28.839032890437817\r",
        "28.849923763885865"
       ]
      },
      {
       "output_type": "stream",
       "stream": "stdout",
       "text": [
        "\r",
        "28.860814637333913\r",
        "28.871705510781965\r",
        "28.882596384230013\r",
        "28.893487257678064\r",
        "28.90437813112612\r",
        "28.915269004574167\r",
        "28.92615987802222\r",
        "28.937050751470267\r",
        "28.947941624918315\r",
        "28.95883249836637\r",
        "28.96972337181442"
       ]
      },
      {
       "output_type": "stream",
       "stream": "stdout",
       "text": [
        "\r",
        "28.98061424526247\r",
        "28.99150511871052\r",
        "29.00239599215857\r",
        "29.01328686560662\r",
        "29.024177739054675\r",
        "29.035068612502723\r",
        "29.045959485950775\r",
        "29.056850359398823\r",
        "29.06774123284687\r",
        "29.078632106294926\r",
        "29.089522979742977"
       ]
      },
      {
       "output_type": "stream",
       "stream": "stdout",
       "text": [
        "\r",
        "29.100413853191025\r",
        "29.111304726639077\r",
        "29.122195600087124\r",
        "29.13308647353518\r",
        "29.14397734698323\r",
        "29.15486822043128\r",
        "29.16575909387933\r",
        "29.17664996732738\r",
        "29.187540840775426\r",
        "29.19843171422348\r",
        "29.209322587671533\r",
        "29.22021346111958\r",
        "29.231104334567632\r",
        "29.24199520801568\r",
        "29.252886081463735\r",
        "29.263776954911787\r",
        "29.274667828359835\r",
        "29.285558701807883\r",
        "29.296449575255934\r",
        "29.307340448703982"
       ]
      },
      {
       "output_type": "stream",
       "stream": "stdout",
       "text": [
        "\r",
        "29.318231322152037\r",
        "29.32912219560009\r",
        "29.340013069048137\r",
        "29.35090394249619\r",
        "29.361794815944236\r",
        "29.37268568939229\r",
        "29.38357656284034\r",
        "29.39446743628839\r",
        "29.40535830973644\r",
        "29.41624918318449\r",
        "29.42714005663254\r",
        "29.438030930080593"
       ]
      },
      {
       "output_type": "stream",
       "stream": "stdout",
       "text": [
        "\r",
        "29.448921803528645\r",
        "29.459812676976693\r",
        "29.470703550424744\r",
        "29.481594423872792\r",
        "29.492485297320847"
       ]
      },
      {
       "output_type": "stream",
       "stream": "stdout",
       "text": [
        "\r",
        "29.503376170768895\r",
        "29.514267044216947\r",
        "29.525157917664995\r",
        "29.536048791113046\r",
        "29.5469396645611\r",
        "29.55783053800915\r",
        "29.5687214114572\r",
        "29.57961228490525\r",
        "29.5905031583533\r",
        "29.601394031801348"
       ]
      },
      {
       "output_type": "stream",
       "stream": "stdout",
       "text": [
        "\r",
        "29.612284905249403\r",
        "29.62317577869745\r",
        "29.634066652145503\r",
        "29.64495752559355\r",
        "29.655848399041602\r",
        "29.666739272489657\r",
        "29.677630145937705\r",
        "29.688521019385757\r",
        "29.699411892833805\r",
        "29.710302766281853\r",
        "29.721193639729904"
       ]
      },
      {
       "output_type": "stream",
       "stream": "stdout",
       "text": [
        "\r",
        "29.73208451317796\r",
        "29.742975386626007\r",
        "29.75386626007406"
       ]
      },
      {
       "output_type": "stream",
       "stream": "stdout",
       "text": [
        "\r",
        "29.764757133522107\r",
        "29.775648006970158\r",
        "29.786538880418213\r",
        "29.79742975386626\r",
        "29.80832062731431\r",
        "29.81921150076236\r",
        "29.83010237421041\r",
        "29.840993247658464\r",
        "29.851884121106515\r",
        "29.862774994554563"
       ]
      },
      {
       "output_type": "stream",
       "stream": "stdout",
       "text": [
        "\r",
        "29.873665868002615\r",
        "29.884556741450663\r",
        "29.895447614898714\r",
        "29.90633848834677\r",
        "29.917229361794817\r",
        "29.928120235242865\r",
        "29.939011108690917\r",
        "29.949901982138964\r",
        "29.96079285558702\r",
        "29.97168372903507\r",
        "29.98257460248312\r",
        "29.99346547593117\r",
        "30.00435634937922\r",
        "30.01524722282727\r",
        "30.026138096275325\r",
        "30.037028969723373\r",
        "30.04791984317142\r",
        "30.058810716619472\r",
        "30.06970159006752\r",
        "30.080592463515575\r",
        "30.091483336963627\r",
        "30.102374210411675"
       ]
      },
      {
       "output_type": "stream",
       "stream": "stdout",
       "text": [
        "\r",
        "30.113265083859726\r",
        "30.124155957307774\r",
        "30.135046830755822\r",
        "30.145937704203877\r",
        "30.15682857765193\r",
        "30.167719451099977\r",
        "30.17861032454803\r",
        "30.189501197996076\r",
        "30.20039207144413\r",
        "30.211282944892183\r",
        "30.22217381834023\r",
        "30.23306469178828\r",
        "30.24395556523633"
       ]
      },
      {
       "output_type": "stream",
       "stream": "stdout",
       "text": [
        "\r",
        "30.254846438684385\r",
        "30.265737312132433\r",
        "30.276628185580485\r",
        "30.287519059028533\r",
        "30.298409932476584\r",
        "30.309300805924632\r",
        "30.320191679372687\r",
        "30.33108255282074\r",
        "30.341973426268787\r",
        "30.352864299716835\r",
        "30.363755173164886\r",
        "30.37464604661294\r",
        "30.38553692006099"
       ]
      },
      {
       "output_type": "stream",
       "stream": "stdout",
       "text": [
        "\r",
        "30.39642779350904\r",
        "30.40731866695709\r",
        "30.41820954040514\r",
        "30.429100413853188\r",
        "30.439991287301243\r",
        "30.450882160749295\r",
        "30.461773034197343\r",
        "30.47266390764539\r",
        "30.483554781093442\r",
        "30.494445654541497\r",
        "30.505336527989545"
       ]
      },
      {
       "output_type": "stream",
       "stream": "stdout",
       "text": [
        "\r",
        "30.516227401437597\r",
        "30.527118274885645\r",
        "30.538009148333696\r",
        "30.548900021781744\r",
        "30.5597908952298\r",
        "30.570681768677847\r",
        "30.5815726421259\r",
        "30.592463515573947\r",
        "30.603354389021998\r",
        "30.614245262470053\r",
        "30.6251361359181\r",
        "30.636027009366153"
       ]
      },
      {
       "output_type": "stream",
       "stream": "stdout",
       "text": [
        "\r",
        "30.6469178828142\r",
        "30.65780875626225"
       ]
      },
      {
       "output_type": "stream",
       "stream": "stdout",
       "text": [
        "\r",
        "30.668699629710304\r",
        "30.679590503158355\r",
        "30.690481376606403\r",
        "30.701372250054455\r",
        "30.712263123502503\r",
        "30.723153996950554\r",
        "30.73404487039861\r",
        "30.744935743846657\r",
        "30.75582661729471\r",
        "30.766717490742757\r",
        "30.777608364190804\r",
        "30.78849923763886\r",
        "30.79939011108691\r",
        "30.81028098453496\r",
        "30.82117185798301"
       ]
      },
      {
       "output_type": "stream",
       "stream": "stdout",
       "text": [
        "\r",
        "30.83206273143106\r",
        "30.84295360487911\r",
        "30.853844478327165\r",
        "30.864735351775213\r",
        "30.875626225223264\r",
        "30.886517098671312\r",
        "30.89740797211936\r",
        "30.908298845567415\r",
        "30.919189719015467\r",
        "30.930080592463515"
       ]
      },
      {
       "output_type": "stream",
       "stream": "stdout",
       "text": [
        "\r",
        "30.940971465911566\r",
        "30.951862339359614\r",
        "30.96275321280767\r",
        "30.97364408625572\r",
        "30.98453495970377\r",
        "30.995425833151817\r",
        "31.00631670659987\r",
        "31.017207580047916"
       ]
      },
      {
       "output_type": "stream",
       "stream": "stdout",
       "text": [
        "\r",
        "31.02809845349597\r",
        "31.038989326944023\r",
        "31.04988020039207\r",
        "31.060771073840122\r",
        "31.07166194728817\r",
        "31.082552820736225\r",
        "31.093443694184273\r",
        "31.104334567632325\r",
        "31.115225441080373\r",
        "31.126116314528424\r",
        "31.137007187976472"
       ]
      },
      {
       "output_type": "stream",
       "stream": "stdout",
       "text": [
        "\r",
        "31.147898061424527\r",
        "31.15878893487258\r",
        "31.169679808320627\r",
        "31.18057068176868\r",
        "31.191461555216726\r",
        "31.20235242866478\r",
        "31.21324330211283\r",
        "31.22413417556088\r",
        "31.23502504900893\r",
        "31.24591592245698\r",
        "31.256806795905028\r",
        "31.267697669353083\r",
        "31.278588542801135\r",
        "31.289479416249183\r",
        "31.300370289697234"
       ]
      },
      {
       "output_type": "stream",
       "stream": "stdout",
       "text": [
        "\r",
        "31.311261163145282\r",
        "31.322152036593337\r",
        "31.333042910041385\r",
        "31.343933783489437\r",
        "31.354824656937485\r",
        "31.365715530385536\r",
        "31.37660640383359\r",
        "31.38749727728164\r",
        "31.39838815072969\r",
        "31.40927902417774"
       ]
      },
      {
       "output_type": "stream",
       "stream": "stdout",
       "text": [
        "\r",
        "31.420169897625787\r",
        "31.431060771073838\r",
        "31.441951644521893\r",
        "31.45284251796994\r",
        "31.463733391417993\r",
        "31.47462426486604\r",
        "31.485515138314092\r",
        "31.496406011762147\r",
        "31.507296885210195\r",
        "31.518187758658243\r",
        "31.529078632106295\r",
        "31.539969505554343\r",
        "31.550860379002394\r",
        "31.56175125245045\r",
        "31.572642125898497\r",
        "31.58353299934655\r",
        "31.594423872794597"
       ]
      },
      {
       "output_type": "stream",
       "stream": "stdout",
       "text": [
        "\r",
        "31.605314746242648"
       ]
      },
      {
       "output_type": "stream",
       "stream": "stdout",
       "text": [
        "\r",
        "31.616205619690703\r",
        "31.62709649313875\r",
        "31.6379873665868\r",
        "31.64887824003485\r",
        "31.6597691134829\r",
        "31.670659986930954\r",
        "31.681550860379005\r",
        "31.692441733827053\r",
        "31.703332607275104\r",
        "31.714223480723152\r",
        "31.725114354171204\r",
        "31.73600522761926\r",
        "31.746896101067307\r",
        "31.757786974515355"
       ]
      },
      {
       "output_type": "stream",
       "stream": "stdout",
       "text": [
        "\r",
        "31.768677847963406\r",
        "31.779568721411454\r",
        "31.79045959485951\r",
        "31.80135046830756\r",
        "31.81224134175561\r",
        "31.82313221520366\r",
        "31.83402308865171\r",
        "31.844913962099756\r",
        "31.85580483554781\r",
        "31.866695708995863"
       ]
      },
      {
       "output_type": "stream",
       "stream": "stdout",
       "text": [
        "\r",
        "31.87758658244391\r",
        "31.888477455891962\r",
        "31.89936832934001\r",
        "31.910259202788065\r",
        "31.921150076236117\r",
        "31.932040949684165\r",
        "31.942931823132213\r",
        "31.953822696580264\r",
        "31.964713570028312\r",
        "31.975604443476367\r",
        "31.98649531692442\r",
        "31.997386190372467\r",
        "32.008277063820515\r",
        "32.01916793726857\r",
        "32.030058810716625\r",
        "32.04094968416467\r",
        "32.05184055761272\r",
        "32.06273143106077\r",
        "32.07362230450882\r",
        "32.08451317795687\r",
        "32.09540405140493"
       ]
      },
      {
       "output_type": "stream",
       "stream": "stdout",
       "text": [
        "\r",
        "32.106294924852975\r",
        "32.11718579830102\r",
        "32.12807667174907\r",
        "32.138967545197126\r",
        "32.14985841864518\r",
        "32.16074929209323\r",
        "32.17164016554128\r",
        "32.182531038989325\r",
        "32.19342191243737\r",
        "32.20431278588543\r",
        "32.21520365933348\r",
        "32.22609453278153\r",
        "32.23698540622958\r",
        "32.24787627967763"
       ]
      },
      {
       "output_type": "stream",
       "stream": "stdout",
       "text": [
        "\r",
        "32.258767153125675\r",
        "32.26965802657374\r",
        "32.280548900021785\r",
        "32.29143977346983\r",
        "32.30233064691788\r",
        "32.31322152036593\r",
        "32.324112393813984\r",
        "32.33500326726204\r",
        "32.34589414071009\r",
        "32.356785014158135\r",
        "32.36767588760618\r",
        "32.37856676105423\r",
        "32.389457634502286\r",
        "32.40034850795034\r",
        "32.41123938139839\r",
        "32.42213025484644\r",
        "32.433021128294484\r",
        "32.44391200174254\r",
        "32.454802875190595\r",
        "32.46569374863864\r",
        "32.47658462208669\r",
        "32.48747549553474\r",
        "32.49836636898279\r",
        "32.50925724243084"
       ]
      },
      {
       "output_type": "stream",
       "stream": "stdout",
       "text": [
        "\r",
        "32.5201481158789\r",
        "32.531038989326944\r",
        "32.54192986277499\r",
        "32.55282073622304\r",
        "32.563711609671095\r",
        "32.57460248311915\r",
        "32.5854933565672\r",
        "32.596384230015246\r",
        "32.607275103463294\r",
        "32.61816597691135\r",
        "32.6290568503594\r",
        "32.63994772380745\r",
        "32.6508385972555\r",
        "32.66172947070355\r",
        "32.672620344151596\r",
        "32.68351121759965\r",
        "32.69440209104771\r",
        "32.705292964495754\r",
        "32.7161838379438\r",
        "32.72707471139185\r",
        "32.737965584839905\r",
        "32.74885645828795\r",
        "32.75974733173601\r",
        "32.770638205184056\r",
        "32.781529078632104\r",
        "32.79241995208016\r",
        "32.80331082552821"
       ]
      },
      {
       "output_type": "stream",
       "stream": "stdout",
       "text": [
        "\r",
        "32.814201698976255\r",
        "32.82509257242431\r",
        "32.83598344587236\r",
        "32.846874319320406\r",
        "32.85776519276846\r",
        "32.86865606621651\r",
        "32.879546939664564\r",
        "32.89043781311261\r",
        "32.90132868656066\r",
        "32.912219560008715\r",
        "32.92311043345676\r",
        "32.93400130690481\r",
        "32.944892180352866\r",
        "32.955783053800914\r",
        "32.96667392724896\r",
        "32.97756480069702\r",
        "32.988455674145065\r",
        "32.99934654759312\r",
        "33.01023742104117\r",
        "33.021128294489216\r",
        "33.03201916793727\r",
        "33.04291004138532\r",
        "33.05380091483337"
       ]
      },
      {
       "output_type": "stream",
       "stream": "stdout",
       "text": [
        "\r",
        "33.06469178828142\r",
        "33.07558266172947\r",
        "33.08647353517752\r",
        "33.09736440862557\r",
        "33.10825528207362\r",
        "33.119146155521676\r",
        "33.130037028969724\r",
        "33.14092790241777\r",
        "33.15181877586583\r",
        "33.162709649313875\r",
        "33.17360052276192"
       ]
      },
      {
       "output_type": "stream",
       "stream": "stdout",
       "text": [
        "\r",
        "33.18449139620998\r",
        "33.195382269658026\r",
        "33.20627314310608\r",
        "33.21716401655413\r",
        "33.22805489000218\r",
        "33.238945763450225\r",
        "33.24983663689828\r",
        "33.26072751034633\r",
        "33.27161838379438\r",
        "33.28250925724243\r",
        "33.29340013069048\r",
        "33.304291004138534"
       ]
      },
      {
       "output_type": "stream",
       "stream": "stdout",
       "text": [
        "\r",
        "33.31518187758658\r",
        "33.32607275103464\r",
        "33.336963624482685\r",
        "33.34785449793073\r",
        "33.35874537137878\r",
        "33.369636244826836\r",
        "33.380527118274884\r",
        "33.39141799172294\r",
        "33.40230886517099\r",
        "33.413199738619035\r",
        "33.42409061206709\r",
        "33.43498148551514\r",
        "33.44587235896319\r",
        "33.45676323241124\r",
        "33.46765410585929\r",
        "33.47854497930734\r",
        "33.48943585275539\r",
        "33.50032672620344\r",
        "33.511217599651495\r",
        "33.52210847309954\r",
        "33.53299934654759"
       ]
      },
      {
       "output_type": "stream",
       "stream": "stdout",
       "text": [
        "\r",
        "33.543890219995646\r",
        "33.554781093443694\r",
        "33.56567196689175\r",
        "33.5765628403398\r",
        "33.587453713787845\r",
        "33.59834458723589\r",
        "33.60923546068395\r",
        "33.620126334132\r",
        "33.63101720758005\r",
        "33.6419080810281\r",
        "33.65279895447615\r",
        "33.663689827924195\r",
        "33.67458070137225\r",
        "33.685471574820305"
       ]
      },
      {
       "output_type": "stream",
       "stream": "stdout",
       "text": [
        "\r",
        "33.69636244826835\r",
        "33.7072533217164\r",
        "33.71814419516445\r",
        "33.729035068612504\r",
        "33.73992594206056\r",
        "33.75081681550861\r",
        "33.761707688956655\r",
        "33.7725985624047\r",
        "33.78348943585275\r",
        "33.794380309300806\r",
        "33.80527118274886\r",
        "33.81616205619691\r",
        "33.82705292964496\r",
        "33.837943803093005\r",
        "33.84883467654106\r",
        "33.859725549989115\r",
        "33.87061642343716\r",
        "33.88150729688521\r",
        "33.89239817033326\r",
        "33.90328904378131\r",
        "33.91417991722936"
       ]
      },
      {
       "output_type": "stream",
       "stream": "stdout",
       "text": [
        "\r",
        "33.92507079067742\r",
        "33.935961664125465\r",
        "33.94685253757351\r",
        "33.95774341102156\r",
        "33.968634284469616\r",
        "33.979525157917664\r",
        "33.99041603136572\r",
        "34.00130690481377\r",
        "34.012197778261815\r",
        "34.02308865170986\r",
        "34.03397952515792"
       ]
      },
      {
       "output_type": "stream",
       "stream": "stdout",
       "text": [
        "\r",
        "34.04487039860597\r",
        "34.05576127205402\r",
        "34.06665214550207\r",
        "34.07754301895012\r",
        "34.088433892398164\r",
        "34.09932476584622\r",
        "34.110215639294275\r",
        "34.12110651274232\r",
        "34.13199738619037\r",
        "34.14288825963842\r",
        "34.15377913308647\r",
        "34.16467000653453\r",
        "34.17556087998258\r",
        "34.186451753430624\r",
        "34.19734262687867\r",
        "34.20823350032672\r",
        "34.219124373774775\r",
        "34.23001524722283"
       ]
      },
      {
       "output_type": "stream",
       "stream": "stdout",
       "text": [
        "\r",
        "34.24090612067088\r",
        "34.251796994118926\r",
        "34.262687867566974\r",
        "34.27357874101503\r",
        "34.284469614463084\r",
        "34.29536048791113\r",
        "34.30625136135918\r",
        "34.31714223480723\r",
        "34.32803310825528\r",
        "34.33892398170333\r",
        "34.349814855151386"
       ]
      },
      {
       "output_type": "stream",
       "stream": "stdout",
       "text": [
        "\r",
        "34.360705728599434\r",
        "34.37159660204748\r",
        "34.38248747549553\r",
        "34.393378348943585\r",
        "34.40426922239163"
       ]
      },
      {
       "output_type": "stream",
       "stream": "stdout",
       "text": [
        "\r",
        "34.41516009583969\r",
        "34.426050969287736\r",
        "34.436941842735784\r",
        "34.44783271618384\r",
        "34.45872358963189\r",
        "34.46961446307994\r",
        "34.48050533652799\r",
        "34.49139620997604\r",
        "34.502287083424086\r",
        "34.51317795687214\r",
        "34.52406883032019\r",
        "34.534959703768244\r",
        "34.54585057721629\r",
        "34.55674145066434\r",
        "34.567632324112395\r",
        "34.57852319756044\r",
        "34.5894140710085\r",
        "34.600304944456546\r",
        "34.611195817904594\r",
        "34.62208669135264\r",
        "34.6329775648007\r",
        "34.643868438248745\r",
        "34.6547593116968\r",
        "34.66565018514485\r",
        "34.676541058592896\r",
        "34.68743193204095"
       ]
      },
      {
       "output_type": "stream",
       "stream": "stdout",
       "text": [
        "\r",
        "34.698322805489\r",
        "34.709213678937054\r",
        "34.7201045523851\r",
        "34.73099542583315\r",
        "34.741886299281205\r",
        "34.75277717272925\r",
        "34.7636680461773\r",
        "34.774558919625356\r",
        "34.785449793073404\r",
        "34.79634066652145"
       ]
      },
      {
       "output_type": "stream",
       "stream": "stdout",
       "text": [
        "\r",
        "34.80723153996951\r",
        "34.818122413417555\r",
        "34.8290132868656\r",
        "34.83990416031366\r",
        "34.850795033761706\r",
        "34.86168590720976\r",
        "34.87257678065781"
       ]
      },
      {
       "output_type": "stream",
       "stream": "stdout",
       "text": [
        "\r",
        "34.88346765410586\r",
        "34.89435852755391\r",
        "34.90524940100196\r",
        "34.91614027445001\r",
        "34.92703114789806\r",
        "34.93792202134611\r",
        "34.94881289479416\r",
        "34.959703768242214\r",
        "34.97059464169026\r",
        "34.98148551513832\r",
        "34.992376388586365\r",
        "35.00326726203441\r",
        "35.01415813548247\r",
        "35.025049008930516\r",
        "35.03593988237857\r",
        "35.04683075582662\r",
        "35.05772162927467\r",
        "35.068612502722715\r",
        "35.07950337617077\r",
        "35.09039424961882\r",
        "35.10128512306687\r",
        "35.11217599651492\r",
        "35.12306686996297"
       ]
      },
      {
       "output_type": "stream",
       "stream": "stdout",
       "text": [
        "\r",
        "35.133957743411024\r",
        "35.14484861685907\r",
        "35.15573949030713\r",
        "35.166630363755175"
       ]
      },
      {
       "output_type": "stream",
       "stream": "stdout",
       "text": [
        "\r",
        "35.17752123720322\r",
        "35.18841211065127\r",
        "35.199302984099326\r",
        "35.210193857547374\r",
        "35.22108473099543\r",
        "35.23197560444348\r",
        "35.242866477891525"
       ]
      },
      {
       "output_type": "stream",
       "stream": "stdout",
       "text": [
        "\r",
        "35.25375735133957\r",
        "35.26464822478763\r",
        "35.27553909823568\r",
        "35.28642997168373\r",
        "35.29732084513178\r",
        "35.30821171857983\r",
        "35.31910259202788\r",
        "35.32999346547593\r",
        "35.340884338923985\r",
        "35.35177521237203\r",
        "35.36266608582008"
       ]
      },
      {
       "output_type": "stream",
       "stream": "stdout",
       "text": [
        "\r",
        "35.37355695926813\r",
        "35.384447832716184\r",
        "35.39533870616424\r",
        "35.40622957961229\r",
        "35.417120453060335\r",
        "35.42801132650838\r",
        "35.43890219995644\r",
        "35.44979307340449\r",
        "35.46068394685254\r",
        "35.47157482030059\r",
        "35.48246569374864\r",
        "35.493356567196685\r",
        "35.50424744064474\r",
        "35.515138314092795\r",
        "35.52602918754084\r",
        "35.53692006098889\r",
        "35.54781093443694\r",
        "35.558701807884994\r",
        "35.56959268133305\r",
        "35.5804835547811\r",
        "35.591374428229145"
       ]
      },
      {
       "output_type": "stream",
       "stream": "stdout",
       "text": [
        "\r",
        "35.60226530167719\r",
        "35.61315617512524\r",
        "35.624047048573296\r",
        "35.63493792202135\r",
        "35.6458287954694\r",
        "35.65671966891745\r",
        "35.667610542365495\r",
        "35.67850141581354\r",
        "35.689392289261605\r",
        "35.70028316270965\r",
        "35.7111740361577"
       ]
      },
      {
       "output_type": "stream",
       "stream": "stdout",
       "text": [
        "\r",
        "35.72206490960575\r",
        "35.7329557830538\r",
        "35.74384665650185\r",
        "35.75473752994991\r",
        "35.765628403397955\r",
        "35.776519276846"
       ]
      },
      {
       "output_type": "stream",
       "stream": "stdout",
       "text": [
        "\r",
        "35.78741015029405\r",
        "35.7983010237421\r",
        "35.80919189719015\r",
        "35.82008277063821\r",
        "35.83097364408626\r",
        "35.841864517534304\r",
        "35.85275539098235\r",
        "35.86364626443041\r",
        "35.87453713787846\r",
        "35.88542801132651\r",
        "35.89631888477456\r",
        "35.907209758222606"
       ]
      },
      {
       "output_type": "stream",
       "stream": "stdout",
       "text": [
        "\r",
        "35.918100631670654\r",
        "35.92899150511871\r",
        "35.939882378566764\r",
        "35.95077325201481\r",
        "35.96166412546286\r",
        "35.97255499891091\r",
        "35.98344587235896\r",
        "35.99433674580702"
       ]
      },
      {
       "output_type": "stream",
       "stream": "stdout",
       "text": [
        "\r",
        "36.005227619255066\r",
        "36.016118492703114\r",
        "36.02700936615116\r",
        "36.03790023959921\r",
        "36.048791113047265\r",
        "36.05968198649532\r",
        "36.07057285994337\r",
        "36.081463733391416\r",
        "36.092354606839464\r",
        "36.10324548028752\r",
        "36.114136353735574\r",
        "36.12502722718362\r",
        "36.13591810063167\r",
        "36.14680897407972\r",
        "36.15769984752777\r",
        "36.16859072097582\r",
        "36.179481594423876"
       ]
      },
      {
       "output_type": "stream",
       "stream": "stdout",
       "text": [
        "\r",
        "36.190372467871924\r",
        "36.20126334131997\r",
        "36.21215421476802\r",
        "36.223045088216075\r",
        "36.23393596166412\r",
        "36.24482683511218\r",
        "36.255717708560226\r",
        "36.266608582008274\r",
        "36.27749945545633\r",
        "36.28839032890438\r",
        "36.29928120235243\r",
        "36.31017207580048\r",
        "36.32106294924853\r",
        "36.331953822696576\r",
        "36.34284469614463\r",
        "36.35373556959268\r",
        "36.364626443040734\r",
        "36.37551731648878\r",
        "36.38640818993683\r",
        "36.397299063384885\r",
        "36.40818993683293"
       ]
      },
      {
       "output_type": "stream",
       "stream": "stdout",
       "text": [
        "\r",
        "36.41908081028099\r",
        "36.429971683729036\r",
        "36.440862557177084\r",
        "36.45175343062513\r",
        "36.46264430407319\r",
        "36.473535177521235"
       ]
      },
      {
       "output_type": "stream",
       "stream": "stdout",
       "text": [
        "\r",
        "36.48442605096929\r",
        "36.49531692441734"
       ]
      },
      {
       "output_type": "stream",
       "stream": "stdout",
       "text": [
        "\r",
        "36.506207797865386\r",
        "36.51709867131344\r",
        "36.52798954476149\r",
        "36.538880418209544\r",
        "36.54977129165759\r",
        "36.56066216510564\r",
        "36.571553038553695\r",
        "36.58244391200174\r",
        "36.59333478544979\r",
        "36.604225658897846\r",
        "36.615116532345894\r",
        "36.62600740579394\r",
        "36.636898279242\r",
        "36.647789152690045\r",
        "36.65868002613809"
       ]
      },
      {
       "output_type": "stream",
       "stream": "stdout",
       "text": [
        "\r",
        "36.66957089958615\r",
        "36.680461773034196\r",
        "36.69135264648225\r",
        "36.7022435199303\r",
        "36.71313439337835\r",
        "36.7240252668264\r",
        "36.73491614027445\r",
        "36.7458070137225\r",
        "36.75669788717055\r",
        "36.7675887606186\r",
        "36.77847963406665\r",
        "36.789370507514704\r",
        "36.80026138096275\r",
        "36.81115225441081\r",
        "36.822043127858855\r",
        "36.8329340013069\r",
        "36.84382487475496\r",
        "36.854715748203006\r",
        "36.86560662165106\r",
        "36.87649749509911\r",
        "36.88738836854716\r",
        "36.898279241995205"
       ]
      },
      {
       "output_type": "stream",
       "stream": "stdout",
       "text": [
        "\r",
        "36.90917011544326\r",
        "36.92006098889131\r",
        "36.93095186233936\r",
        "36.94184273578741\r",
        "36.95273360923546"
       ]
      },
      {
       "output_type": "stream",
       "stream": "stdout",
       "text": [
        "\r",
        "36.963624482683514\r",
        "36.97451535613156\r",
        "36.98540622957962\r",
        "36.996297103027665\r",
        "37.00718797647571\r",
        "37.01807884992376\r",
        "37.028969723371816\r",
        "37.039860596819864\r",
        "37.05075147026792\r",
        "37.06164234371597\r",
        "37.072533217164015"
       ]
      },
      {
       "output_type": "stream",
       "stream": "stdout",
       "text": [
        "\r",
        "37.08342409061206\r",
        "37.09431496406012\r",
        "37.10520583750817\r",
        "37.11609671095622\r",
        "37.12698758440427\r",
        "37.13787845785232"
       ]
      },
      {
       "output_type": "stream",
       "stream": "stdout",
       "text": [
        "\r",
        "37.14876933130037\r",
        "37.15966020474842\r",
        "37.170551078196475\r",
        "37.18144195164452\r",
        "37.19233282509257\r",
        "37.20322369854062\r",
        "37.214114571988674\r",
        "37.22500544543673\r",
        "37.23589631888478\r",
        "37.246787192332825\r",
        "37.25767806578087\r",
        "37.26856893922893\r",
        "37.27945981267698\r",
        "37.29035068612503\r",
        "37.30124155957308\r",
        "37.31213243302113"
       ]
      },
      {
       "output_type": "stream",
       "stream": "stdout",
       "text": [
        "\r",
        "37.323023306469175\r",
        "37.33391417991723\r",
        "37.344805053365285\r",
        "37.35569592681333\r",
        "37.36658680026138\r",
        "37.37747767370943\r",
        "37.388368547157484"
       ]
      },
      {
       "output_type": "stream",
       "stream": "stdout",
       "text": [
        "\r",
        "37.39925942060553\r",
        "37.41015029405359\r",
        "37.421041167501635\r",
        "37.43193204094968\r",
        "37.44282291439773\r",
        "37.453713787845786\r",
        "37.46460466129384"
       ]
      },
      {
       "output_type": "stream",
       "stream": "stdout",
       "text": [
        "\r",
        "37.47549553474189\r",
        "37.48638640818994\r",
        "37.497277281637984\r",
        "37.50816815508603\r",
        "37.51905902853409\r",
        "37.52994990198214\r",
        "37.54084077543019\r",
        "37.55173164887824"
       ]
      },
      {
       "output_type": "stream",
       "stream": "stdout",
       "text": [
        "\r",
        "37.562622522326286\r",
        "37.57351339577434\r",
        "37.5844042692224\r",
        "37.595295142670444\r",
        "37.60618601611849\r",
        "37.61707688956654"
       ]
      },
      {
       "output_type": "stream",
       "stream": "stdout",
       "text": [
        "\r",
        "37.62796776301459\r",
        "37.63885863646264\r",
        "37.6497495099107\r",
        "37.660640383358746\r",
        "37.671531256806794\r",
        "37.68242213025484\r",
        "37.6933130037029\r",
        "37.70420387715095"
       ]
      },
      {
       "output_type": "stream",
       "stream": "stdout",
       "text": [
        "\r",
        "37.715094750599\r",
        "37.72598562404705\r",
        "37.736876497495096\r",
        "37.747767370943144\r",
        "37.7586582443912\r",
        "37.769549117839254\r",
        "37.7804399912873\r",
        "37.79133086473535\r",
        "37.8022217381834\r",
        "37.81311261163145\r",
        "37.8240034850795\r",
        "37.834894358527556"
       ]
      },
      {
       "output_type": "stream",
       "stream": "stdout",
       "text": [
        "\r",
        "37.845785231975604\r",
        "37.85667610542365\r",
        "37.8675669788717\r",
        "37.878457852319755\r",
        "37.88934872576781\r",
        "37.90023959921586\r",
        "37.911130472663906\r",
        "37.922021346111954"
       ]
      },
      {
       "output_type": "stream",
       "stream": "stdout",
       "text": [
        "\r",
        "37.93291221956001\r",
        "37.94380309300806\r",
        "37.95469396645611\r",
        "37.96558483990416\r",
        "37.97647571335221"
       ]
      },
      {
       "output_type": "stream",
       "stream": "stdout",
       "text": [
        "\r",
        "37.98736658680026\r",
        "37.99825746024831\r",
        "38.009148333696366\r",
        "38.020039207144414\r",
        "38.03093008059246\r",
        "38.04182095404051\r",
        "38.052711827488565\r",
        "38.06360270093661\r",
        "38.07449357438467\r",
        "38.085384447832716\r",
        "38.096275321280764\r",
        "38.10716619472882\r",
        "38.11805706817687\r",
        "38.12894794162492\r",
        "38.13983881507297\r",
        "38.15072968852102\r",
        "38.161620561969066\r",
        "38.17251143541712\r",
        "38.18340230886517\r",
        "38.194293182313224\r",
        "38.20518405576127"
       ]
      },
      {
       "output_type": "stream",
       "stream": "stdout",
       "text": [
        "\r",
        "38.21607492920932\r",
        "38.226965802657375\r",
        "38.23785667610542\r",
        "38.24874754955347\r",
        "38.259638423001526\r",
        "38.270529296449574"
       ]
      },
      {
       "output_type": "stream",
       "stream": "stdout",
       "text": [
        "\r",
        "38.28142016989762\r",
        "38.29231104334568\r",
        "38.303201916793725\r",
        "38.31409279024178\r",
        "38.32498366368983\r",
        "38.335874537137876\r",
        "38.34676541058593\r",
        "38.35765628403398\r",
        "38.36854715748203\r",
        "38.37943803093008\r",
        "38.39032890437813\r",
        "38.401219777826185\r",
        "38.41211065127423\r",
        "38.42300152472228\r",
        "38.433892398170336\r",
        "38.444783271618384"
       ]
      },
      {
       "output_type": "stream",
       "stream": "stdout",
       "text": [
        "\r",
        "38.45567414506643\r",
        "38.46656501851449\r",
        "38.477455891962535\r",
        "38.48834676541058\r",
        "38.49923763885864\r",
        "38.510128512306686\r",
        "38.52101938575474\r",
        "38.53191025920279\r",
        "38.54280113265084\r",
        "38.55369200609889\r",
        "38.56458287954694\r",
        "38.57547375299499\r",
        "38.58636462644304\r",
        "38.59725549989109\r",
        "38.60814637333914\r",
        "38.619037246787194"
       ]
      },
      {
       "output_type": "stream",
       "stream": "stdout",
       "text": [
        "\r",
        "38.62992812023524\r",
        "38.6408189936833\r",
        "38.651709867131345\r",
        "38.66260074057939\r",
        "38.67349161402744\r",
        "38.684382487475496\r",
        "38.695273360923544\r",
        "38.7061642343716\r",
        "38.71705510781965\r",
        "38.727945981267695\r",
        "38.73883685471575\r",
        "38.7497277281638\r",
        "38.76061860161185\r",
        "38.7715094750599\r",
        "38.78240034850795\r",
        "38.793291221956\r",
        "38.80418209540405\r",
        "38.81507296885211\r",
        "38.825963842300155\r",
        "38.8368547157482\r",
        "38.84774558919625\r",
        "38.858636462644306"
       ]
      },
      {
       "output_type": "stream",
       "stream": "stdout",
       "text": [
        "\r",
        "38.869527336092354\r",
        "38.88041820954041\r",
        "38.89130908298846\r",
        "38.902199956436505\r",
        "38.91309082988455\r",
        "38.92398170333261\r",
        "38.93487257678066\r",
        "38.94576345022871\r",
        "38.95665432367676\r",
        "38.96754519712481\r",
        "38.97843607057286"
       ]
      },
      {
       "output_type": "stream",
       "stream": "stdout",
       "text": [
        "\r",
        "38.98932694402091\r",
        "39.000217817468965\r",
        "39.01110869091701\r",
        "39.02199956436506\r",
        "39.03289043781311\r",
        "39.043781311261164\r",
        "39.05467218470922\r",
        "39.06556305815727\r",
        "39.076453931605315\r",
        "39.08734480505336\r",
        "39.09823567850141\r",
        "39.10912655194947\r",
        "39.12001742539752\r",
        "39.13090829884557\r",
        "39.14179917229362"
       ]
      },
      {
       "output_type": "stream",
       "stream": "stdout",
       "text": [
        "\r",
        "39.152690045741664\r",
        "39.16358091918972\r",
        "39.174471792637775\r",
        "39.18536266608582\r",
        "39.19625353953387\r",
        "39.20714441298192\r",
        "39.218035286429966\r",
        "39.22892615987802\r",
        "39.23981703332608\r",
        "39.250707906774124\r",
        "39.26159878022217\r",
        "39.27248965367022\r",
        "39.283380527118275"
       ]
      },
      {
       "output_type": "stream",
       "stream": "stdout",
       "text": [
        "\r",
        "39.29427140056633\r",
        "39.30516227401438\r",
        "39.316053147462426\r",
        "39.326944020910474\r",
        "39.33783489435852\r",
        "39.34872576780658\r",
        "39.35961664125463\r",
        "39.37050751470268\r",
        "39.38139838815073\r",
        "39.392289261598776\r",
        "39.40318013504683\r",
        "39.414071008494886\r",
        "39.424961881942934\r",
        "39.43585275539098\r",
        "39.44674362883903\r",
        "39.45763450228708"
       ]
      },
      {
       "output_type": "stream",
       "stream": "stdout",
       "text": [
        "\r",
        "39.46852537573513\r",
        "39.47941624918319\r",
        "39.490307122631236"
       ]
      },
      {
       "output_type": "stream",
       "stream": "stdout",
       "text": [
        "\r",
        "39.501197996079284\r",
        "39.51208886952733\r",
        "39.52297974297539"
       ]
      },
      {
       "output_type": "stream",
       "stream": "stdout",
       "text": [
        "\r",
        "39.53387061642344\r",
        "39.54476148987149\r",
        "39.55565236331954\r",
        "39.566543236767586\r",
        "39.577434110215634\r",
        "39.58832498366369\r",
        "39.599215857111744\r",
        "39.61010673055979\r",
        "39.62099760400784\r",
        "39.63188847745589\r",
        "39.64277935090394\r",
        "39.65367022435199\r",
        "39.664561097800046\r",
        "39.675451971248094"
       ]
      },
      {
       "output_type": "stream",
       "stream": "stdout",
       "text": [
        "\r",
        "39.68634284469614\r",
        "39.69723371814419\r",
        "39.708124591592245\r",
        "39.7190154650403\r",
        "39.72990633848835\r",
        "39.740797211936396\r",
        "39.751688085384444"
       ]
      },
      {
       "output_type": "stream",
       "stream": "stdout",
       "text": [
        "\r",
        "39.7625789588325\r",
        "39.77346983228055\r",
        "39.7843607057286\r",
        "39.79525157917665\r",
        "39.8061424526247\r",
        "39.81703332607275\r",
        "39.8279241995208\r",
        "39.838815072968856\r",
        "39.849705946416904"
       ]
      },
      {
       "output_type": "stream",
       "stream": "stdout",
       "text": [
        "\r",
        "39.86059681986495\r",
        "39.871487693313\r",
        "39.882378566761055\r",
        "39.8932694402091\r",
        "39.90416031365716\r",
        "39.915051187105206\r",
        "39.925942060553254\r",
        "39.93683293400131\r",
        "39.94772380744936\r",
        "39.95861468089741\r",
        "39.96950555434546\r",
        "39.98039642779351\r",
        "39.991287301241556\r",
        "40.00217817468961\r",
        "40.01306904813766\r",
        "40.023959921585714\r",
        "40.03485079503376"
       ]
      },
      {
       "output_type": "stream",
       "stream": "stdout",
       "text": [
        "\r",
        "40.04574166848181\r",
        "40.056632541929865\r",
        "40.06752341537791\r",
        "40.07841428882596\r",
        "40.089305162274016\r",
        "40.100196035722064\r",
        "40.11108690917011\r",
        "40.12197778261817\r",
        "40.132868656066215\r",
        "40.14375952951427\r",
        "40.15465040296232\r",
        "40.165541276410366"
       ]
      },
      {
       "output_type": "stream",
       "stream": "stdout",
       "text": [
        "\r",
        "40.17643214985842\r",
        "40.18732302330647\r",
        "40.19821389675452\r",
        "40.20910477020257\r",
        "40.21999564365062\r",
        "40.230886517098675\r",
        "40.24177739054672\r",
        "40.25266826399477\r",
        "40.263559137442826\r",
        "40.274450010890874\r",
        "40.28534088433892\r",
        "40.29623175778698\r",
        "40.307122631235025\r",
        "40.31801350468307\r",
        "40.32890437813113"
       ]
      },
      {
       "output_type": "stream",
       "stream": "stdout",
       "text": [
        "\r",
        "40.339795251579176\r",
        "40.35068612502723\r",
        "40.36157699847528\r",
        "40.37246787192333\r",
        "40.38335874537138\r",
        "40.39424961881943\r",
        "40.40514049226748"
       ]
      },
      {
       "output_type": "stream",
       "stream": "stdout",
       "text": [
        "\r",
        "40.41603136571553\r",
        "40.42692223916358\r",
        "40.43781311261163\r",
        "40.448703986059684\r",
        "40.45959485950773\r",
        "40.47048573295579\r",
        "40.481376606403835\r",
        "40.49226747985188\r",
        "40.50315835329993\r",
        "40.514049226747986\r",
        "40.524940100196034\r",
        "40.53583097364409\r",
        "40.54672184709214\r",
        "40.557612720540185\r",
        "40.56850359398824\r",
        "40.57939446743629"
       ]
      },
      {
       "output_type": "stream",
       "stream": "stdout",
       "text": [
        "\r",
        "40.59028534088434\r",
        "40.60117621433239\r",
        "40.61206708778044\r",
        "40.62295796122849\r",
        "40.63384883467654\r",
        "40.6447397081246\r",
        "40.655630581572645\r",
        "40.66652145502069\r",
        "40.67741232846874\r",
        "40.688303201916796\r",
        "40.699194075364844\r",
        "40.7100849488129\r",
        "40.72097582226095\r",
        "40.731866695708995\r",
        "40.74275756915704\r",
        "40.7536484426051"
       ]
      },
      {
       "output_type": "stream",
       "stream": "stdout",
       "text": [
        "\r",
        "40.76453931605315\r",
        "40.7754301895012\r",
        "40.78632106294925\r",
        "40.7972119363973\r",
        "40.80810280984535\r",
        "40.8189936832934\r",
        "40.829884556741455\r",
        "40.8407754301895\r",
        "40.85166630363755\r",
        "40.8625571770856\r",
        "40.87344805053365\r",
        "40.88433892398171\r",
        "40.89522979742976\r",
        "40.906120670877804\r",
        "40.91701154432585\r",
        "40.9279024177739\r",
        "40.938793291221955\r",
        "40.94968416467001\r",
        "40.96057503811806\r",
        "40.971465911566106\r",
        "40.982356785014154\r",
        "40.99324765846221\r",
        "41.004138531910264\r",
        "41.01502940535831\r",
        "41.02592027880636\r",
        "41.03681115225441\r",
        "41.047702025702456\r",
        "41.05859289915051"
       ]
      },
      {
       "output_type": "stream",
       "stream": "stdout",
       "text": [
        "\r",
        "41.069483772598566\r",
        "41.080374646046614\r",
        "41.09126551949466\r",
        "41.10215639294271\r",
        "41.113047266390765\r",
        "41.12393813983882\r",
        "41.13482901328687\r",
        "41.145719886734916\r",
        "41.156610760182964\r",
        "41.16750163363101\r",
        "41.17839250707907\r",
        "41.18928338052712\r",
        "41.20017425397517\r",
        "41.21106512742322\r",
        "41.221956000871266\r",
        "41.23284687431932\r",
        "41.24373774776737\r",
        "41.254628621215424"
       ]
      },
      {
       "output_type": "stream",
       "stream": "stdout",
       "text": [
        "\r",
        "41.26551949466347\r",
        "41.27641036811152\r",
        "41.28730124155957\r",
        "41.29819211500762\r",
        "41.30908298845568\r",
        "41.319973861903726\r",
        "41.330864735351774\r",
        "41.34175560879982\r",
        "41.35264648224788\r",
        "41.363537355695925\r",
        "41.37442822914398\r",
        "41.38531910259203\r",
        "41.396209976040076"
       ]
      },
      {
       "output_type": "stream",
       "stream": "stdout",
       "text": [
        "\r",
        "41.407100849488124\r",
        "41.41799172293618\r",
        "41.428882596384234\r",
        "41.43977346983228\r",
        "41.45066434328033\r",
        "41.46155521672838\r",
        "41.47244609017643\r",
        "41.48333696362448\r",
        "41.494227837072536\r",
        "41.505118710520584\r",
        "41.51600958396863\r",
        "41.52690045741668\r",
        "41.537791330864735"
       ]
      },
      {
       "output_type": "stream",
       "stream": "stdout",
       "text": [
        "\r",
        "41.54868220431279\r",
        "41.55957307776084\r",
        "41.570463951208886\r",
        "41.581354824656934\r",
        "41.59224569810499\r",
        "41.60313657155304\r",
        "41.61402744500109\r",
        "41.62491831844914\r",
        "41.63580919189719\r",
        "41.646700065345236\r",
        "41.65759093879329\r",
        "41.66848181224134\r",
        "41.679372685689394\r",
        "41.69026355913744\r",
        "41.70115443258549\r",
        "41.712045306033545\r",
        "41.72293617948159\r",
        "41.73382705292965\r",
        "41.744717926377696\r",
        "41.755608799825744\r",
        "41.7664996732738\r",
        "41.77739054672185\r",
        "41.788281420169895\r",
        "41.79917229361795\r",
        "41.810063167066\r",
        "41.820954040514046\r",
        "41.8318449139621\r",
        "41.84273578741015\r",
        "41.853626660858204\r",
        "41.86451753430625\r",
        "41.8754084077543"
       ]
      },
      {
       "output_type": "stream",
       "stream": "stdout",
       "text": [
        "\r",
        "41.886299281202355\r",
        "41.8971901546504\r",
        "41.90808102809845\r",
        "41.918971901546506"
       ]
      },
      {
       "output_type": "stream",
       "stream": "stdout",
       "text": [
        "\r",
        "41.929862774994554\r",
        "41.9407536484426\r",
        "41.95164452189066\r",
        "41.962535395338705\r",
        "41.97342626878676\r",
        "41.98431714223481\r",
        "41.995208015682856\r",
        "42.00609888913091\r",
        "42.01698976257896\r",
        "42.02788063602701\r",
        "42.03877150947506\r",
        "42.04966238292311\r",
        "42.060553256371165\r",
        "42.07144412981921\r",
        "42.08233500326726\r",
        "42.09322587671531\r",
        "42.104116750163364\r",
        "42.11500762361141\r",
        "42.12589849705947\r",
        "42.136789370507515"
       ]
      },
      {
       "output_type": "stream",
       "stream": "stdout",
       "text": [
        "\r",
        "42.14768024395556\r",
        "42.15857111740362\r",
        "42.169461990851666\r",
        "42.18035286429972\r",
        "42.19124373774777\r",
        "42.20213461119582\r",
        "42.213025484643865\r",
        "42.22391635809192\r",
        "42.23480723153997\r",
        "42.24569810498802\r",
        "42.25658897843607\r",
        "42.26747985188412\r",
        "42.278370725332174\r",
        "42.28926159878022\r",
        "42.30015247222828\r",
        "42.311043345676325\r",
        "42.32193421912437\r",
        "42.33282509257242\r",
        "42.343715966020476\r",
        "42.354606839468524\r",
        "42.36549771291658\r",
        "42.37638858636463\r",
        "42.387279459812675\r",
        "42.39817033326073\r",
        "42.40906120670878\r",
        "42.41995208015683"
       ]
      },
      {
       "output_type": "stream",
       "stream": "stdout",
       "text": [
        "\r",
        "42.43084295360488\r",
        "42.44173382705293\r",
        "42.45262470050098"
       ]
      },
      {
       "output_type": "stream",
       "stream": "stdout",
       "text": [
        "\r",
        "42.46351557394903\r",
        "42.47440644739709\r",
        "42.485297320845135\r",
        "42.49618819429318\r",
        "42.50707906774123\r",
        "42.51796994118928\r",
        "42.52886081463733\r",
        "42.53975168808539\r",
        "42.55064256153344\r",
        "42.561533434981484\r",
        "42.57242430842953\r",
        "42.58331518187759\r",
        "42.59420605532564\r",
        "42.60509692877369\r",
        "42.61598780222174\r",
        "42.626878675669786\r",
        "42.637769549117834\r",
        "42.64866042256589\r",
        "42.659551296013944\r",
        "42.67044216946199\r",
        "42.68133304291004\r",
        "42.69222391635809\r",
        "42.70311478980614\r",
        "42.7140056632542\r",
        "42.724896536702246\r",
        "42.735787410150294\r",
        "42.74667828359834\r",
        "42.75756915704639\r",
        "42.768460030494445\r",
        "42.7793509039425\r",
        "42.79024177739055\r",
        "42.801132650838596"
       ]
      },
      {
       "output_type": "stream",
       "stream": "stdout",
       "text": [
        "\r",
        "42.812023524286644\r",
        "42.8229143977347\r",
        "42.833805271182754\r",
        "42.8446961446308\r",
        "42.85558701807885\r",
        "42.8664778915269\r",
        "42.877368764974946\r",
        "42.888259638423\r",
        "42.899150511871056\r",
        "42.910041385319104\r",
        "42.92093225876715\r",
        "42.9318231322152\r",
        "42.94271400566325\r",
        "42.95360487911131\r",
        "42.96449575255936"
       ]
      },
      {
       "output_type": "stream",
       "stream": "stdout",
       "text": [
        "\r",
        "42.975386626007406"
       ]
      },
      {
       "output_type": "stream",
       "stream": "stdout",
       "text": [
        "\r",
        "42.986277499455454\r",
        "42.9971683729035\r",
        "43.00805924635156\r",
        "43.01895011979961\r",
        "43.02984099324766\r",
        "43.04073186669571\r",
        "43.051622740143756\r",
        "43.062513613591804\r",
        "43.07340448703986\r",
        "43.084295360487914\r",
        "43.09518623393596\r",
        "43.10607710738401\r",
        "43.11696798083206\r",
        "43.12785885428011\r",
        "43.13874972772817\r",
        "43.149640601176216"
       ]
      },
      {
       "output_type": "stream",
       "stream": "stdout",
       "text": [
        "\r",
        "43.160531474624264\r",
        "43.17142234807231\r",
        "43.18231322152037\r",
        "43.193204094968415\r",
        "43.20409496841647\r",
        "43.21498584186452\r",
        "43.225876715312566\r",
        "43.236767588760614\r",
        "43.24765846220867\r",
        "43.258549335656724\r",
        "43.26944020910477\r",
        "43.28033108255282\r",
        "43.29122195600087\r",
        "43.30211282944892\r",
        "43.31300370289697\r",
        "43.323894576345026\r",
        "43.334785449793074\r",
        "43.34567632324112"
       ]
      },
      {
       "output_type": "stream",
       "stream": "stdout",
       "text": [
        "\r",
        "43.35656719668917\r",
        "43.367458070137225\r",
        "43.37834894358528\r",
        "43.38923981703333\r",
        "43.400130690481376\r",
        "43.411021563929424\r",
        "43.42191243737748\r",
        "43.43280331082553"
       ]
      },
      {
       "output_type": "stream",
       "stream": "stdout",
       "text": [
        "\r",
        "43.44369418427358"
       ]
      },
      {
       "output_type": "stream",
       "stream": "stdout",
       "text": [
        "\r",
        "43.45458505772163\r",
        "43.46547593116968\r",
        "43.476366804617726\r",
        "43.48725767806578\r",
        "43.49814855151383\r",
        "43.509039424961884"
       ]
      },
      {
       "output_type": "stream",
       "stream": "stdout",
       "text": [
        "\r",
        "43.51993029840993\r",
        "43.53082117185798\r",
        "43.541712045306035\r",
        "43.55260291875408\r",
        "43.56349379220214\r",
        "43.574384665650186\r",
        "43.585275539098234\r",
        "43.59616641254629\r",
        "43.60705728599434\r",
        "43.617948159442385\r",
        "43.62883903289044\r",
        "43.63972990633849\r",
        "43.650620779786536\r",
        "43.66151165323459\r",
        "43.67240252668264\r",
        "43.683293400130694\r",
        "43.69418427357874\r",
        "43.70507514702679\r",
        "43.715966020474845"
       ]
      },
      {
       "output_type": "stream",
       "stream": "stdout",
       "text": [
        "\r",
        "43.72685689392289\r",
        "43.73774776737094\r",
        "43.748638640818996\r",
        "43.759529514267044\r",
        "43.77042038771509\r",
        "43.78131126116315\r",
        "43.792202134611195"
       ]
      },
      {
       "output_type": "stream",
       "stream": "stdout",
       "text": [
        "\r",
        "43.80309300805925\r",
        "43.8139838815073\r",
        "43.824874754955346\r",
        "43.8357656284034\r",
        "43.84665650185145\r",
        "43.8575473752995\r",
        "43.86843824874755\r",
        "43.8793291221956\r",
        "43.890219995643655\r",
        "43.9011108690917\r",
        "43.91200174253975\r",
        "43.9228926159878\r",
        "43.933783489435854\r",
        "43.9446743628839\r",
        "43.95556523633196\r",
        "43.966456109780005\r",
        "43.97734698322805\r",
        "43.98823785667611\r",
        "43.999128730124156\r",
        "44.01001960357221\r",
        "44.02091047702026"
       ]
      },
      {
       "output_type": "stream",
       "stream": "stdout",
       "text": [
        "\r",
        "44.03180135046831\r",
        "44.042692223916355\r",
        "44.05358309736441\r",
        "44.06447397081246\r",
        "44.07536484426051\r",
        "44.08625571770856\r",
        "44.09714659115661\r",
        "44.108037464604664\r",
        "44.11892833805271\r",
        "44.12981921150077\r",
        "44.140710084948815\r",
        "44.15160095839686\r",
        "44.16249183184491\r",
        "44.173382705292966\r",
        "44.18427357874101\r",
        "44.19516445218907\r",
        "44.20605532563712\r",
        "44.216946199085164\r",
        "44.22783707253322"
       ]
      },
      {
       "output_type": "stream",
       "stream": "stdout",
       "text": [
        "\r",
        "44.23872794598127\r",
        "44.24961881942932\r",
        "44.26050969287737\r",
        "44.27140056632542\r",
        "44.282291439773466\r",
        "44.29318231322152\r",
        "44.30407318666958\r",
        "44.314964060117624\r",
        "44.32585493356567\r",
        "44.33674580701372\r",
        "44.34763668046177\r",
        "44.35852755390982\r",
        "44.36941842735788\r",
        "44.380309300805926\r",
        "44.391200174253974\r",
        "44.40209104770202\r",
        "44.41298192115008\r",
        "44.42387279459813\r",
        "44.43476366804618"
       ]
      },
      {
       "output_type": "stream",
       "stream": "stdout",
       "text": [
        "\r",
        "44.44565454149423\r",
        "44.456545414942276\r",
        "44.467436288390324\r",
        "44.47832716183838\r",
        "44.489218035286434\r",
        "44.50010890873448\r",
        "44.51099978218253\r",
        "44.52189065563058\r",
        "44.53278152907863\r",
        "44.54367240252669\r",
        "44.554563275974736"
       ]
      },
      {
       "output_type": "stream",
       "stream": "stdout",
       "text": [
        "\r",
        "44.565454149422784\r",
        "44.57634502287083\r",
        "44.58723589631888\r",
        "44.598126769766935\r",
        "44.60901764321499\r",
        "44.61990851666304\r",
        "44.630799390111086\r",
        "44.641690263559134\r",
        "44.65258113700719\r",
        "44.66347201045524\r",
        "44.67436288390329\r",
        "44.68525375735134\r",
        "44.69614463079939\r",
        "44.707035504247436\r",
        "44.71792637769549\r",
        "44.728817251143546\r",
        "44.739708124591594\r",
        "44.75059899803964\r",
        "44.76148987148769\r",
        "44.77238074493574\r",
        "44.78327161838379\r",
        "44.79416249183185\r",
        "44.805053365279896\r",
        "44.815944238727944\r",
        "44.82683511217599\r",
        "44.83772598562405\r",
        "44.8486168590721\r",
        "44.85950773252015\r",
        "44.8703986059682\r",
        "44.881289479416246\r",
        "44.892180352864294\r",
        "44.90307122631235\r",
        "44.913962099760404\r",
        "44.92485297320845\r",
        "44.9357438466565\r",
        "44.94663472010455\r",
        "44.9575255935526\r",
        "44.96841646700066\r",
        "44.979307340448706\r",
        "44.990198213896754\r",
        "45.0010890873448\r",
        "45.01197996079286\r",
        "45.022870834240905\r",
        "45.03376170768896\r",
        "45.04465258113701\r",
        "45.055543454585056\r",
        "45.066434328033104\r",
        "45.07732520148116\r",
        "45.08821607492921\r",
        "45.09910694837726"
       ]
      },
      {
       "output_type": "stream",
       "stream": "stdout",
       "text": [
        "\r",
        "45.10999782182531\r",
        "45.12088869527336\r",
        "45.13177956872141\r",
        "45.14267044216946\r",
        "45.153561315617516\r",
        "45.164452189065564\r",
        "45.17534306251361\r",
        "45.18623393596166\r",
        "45.197124809409715\r",
        "45.20801568285776\r",
        "45.21890655630582\r",
        "45.229797429753866\r",
        "45.240688303201914\r",
        "45.25157917664997"
       ]
      },
      {
       "output_type": "stream",
       "stream": "stdout",
       "text": [
        "\r",
        "45.26247005009802\r",
        "45.27336092354607\r",
        "45.28425179699412\r",
        "45.29514267044217\r",
        "45.306033543890216\r",
        "45.31692441733827\r",
        "45.32781529078632\r",
        "45.338706164234374\r",
        "45.34959703768242\r",
        "45.36048791113047\r",
        "45.371378784578525\r",
        "45.38226965802657\r",
        "45.39316053147463\r",
        "45.404051404922676\r",
        "45.414942278370724\r",
        "45.42583315181878\r",
        "45.43672402526683\r",
        "45.447614898714875\r",
        "45.45850577216293\r",
        "45.46939664561098\r",
        "45.480287519059026\r",
        "45.49117839250708\r",
        "45.50206926595513"
       ]
      },
      {
       "output_type": "stream",
       "stream": "stdout",
       "text": [
        "\r",
        "45.51296013940318\r",
        "45.52385101285123\r",
        "45.53474188629928\r",
        "45.545632759747335\r",
        "45.55652363319538\r",
        "45.56741450664343\r",
        "45.578305380091486\r",
        "45.589196253539534\r",
        "45.60008712698758\r",
        "45.61097800043564\r",
        "45.621868873883685\r",
        "45.63275974733173\r",
        "45.64365062077979\r",
        "45.654541494227836\r",
        "45.66543236767589\r",
        "45.67632324112394\r",
        "45.68721411457199\r",
        "45.69810498802004\r",
        "45.70899586146809\r",
        "45.71988673491614\r",
        "45.73077760836419\r",
        "45.74166848181224"
       ]
      },
      {
       "output_type": "stream",
       "stream": "stdout",
       "text": [
        "\r",
        "45.75255935526029\r",
        "45.763450228708344\r",
        "45.77434110215639\r",
        "45.78523197560445\r",
        "45.796122849052495\r",
        "45.80701372250054\r",
        "45.8179045959486\r",
        "45.828795469396646\r",
        "45.8396863428447\r",
        "45.85057721629275\r",
        "45.8614680897408\r",
        "45.872358963188844\r",
        "45.8832498366369\r",
        "45.89414071008495\r",
        "45.905031583533\r",
        "45.91592245698105\r",
        "45.9268133304291\r",
        "45.937704203877146\r",
        "45.9485950773252\r",
        "45.95948595077326\r",
        "45.970376824221304\r",
        "45.98126769766935"
       ]
      },
      {
       "output_type": "stream",
       "stream": "stdout",
       "text": [
        "\r",
        "45.9921585711174\r",
        "46.003049444565455\r",
        "46.0139403180135\r",
        "46.02483119146156"
       ]
      },
      {
       "output_type": "stream",
       "stream": "stdout",
       "text": [
        "\r",
        "46.035722064909606\r",
        "46.046612938357654\r",
        "46.0575038118057\r",
        "46.06839468525376\r",
        "46.07928555870181\r",
        "46.09017643214986\r",
        "46.10106730559791\r",
        "46.111958179045956\r",
        "46.12284905249401\r",
        "46.133739925942066\r",
        "46.144630799390114"
       ]
      },
      {
       "output_type": "stream",
       "stream": "stdout",
       "text": [
        "\r",
        "46.15552167283816\r",
        "46.16641254628621\r",
        "46.17730341973426\r",
        "46.18819429318231\r",
        "46.19908516663037\r",
        "46.209976040078416\r",
        "46.220866913526464\r",
        "46.23175778697451\r",
        "46.24264866042257\r",
        "46.25353953387062\r",
        "46.26443040731867\r",
        "46.27532128076672"
       ]
      },
      {
       "output_type": "stream",
       "stream": "stdout",
       "text": [
        "\r",
        "46.286212154214766\r",
        "46.297103027662814\r",
        "46.30799390111087\r",
        "46.318884774558924\r",
        "46.32977564800697\r",
        "46.34066652145502"
       ]
      },
      {
       "output_type": "stream",
       "stream": "stdout",
       "text": [
        "\r",
        "46.35155739490307\r",
        "46.362448268351116\r",
        "46.37333914179918\r",
        "46.384230015247226\r",
        "46.395120888695274\r",
        "46.40601176214332\r",
        "46.41690263559137\r",
        "46.427793509039425\r",
        "46.43868438248748\r",
        "46.44957525593553\r",
        "46.460466129383576\r",
        "46.471357002831624\r",
        "46.48224787627967\r",
        "46.49313874972773\r",
        "46.50402962317578\r",
        "46.51492049662383\r",
        "46.52581137007188\r",
        "46.536702243519926\r",
        "46.54759311696798\r",
        "46.558483990416036\r",
        "46.569374863864084\r",
        "46.58026573731213\r",
        "46.59115661076018\r",
        "46.60204748420823\r",
        "46.61293835765628\r",
        "46.62382923110434\r",
        "46.634720104552386\r",
        "46.645610978000434\r",
        "46.65650185144848\r",
        "46.66739272489654\r",
        "46.67828359834459\r",
        "46.68917447179264\r",
        "46.70006534524069\r",
        "46.710956218688736\r",
        "46.721847092136784\r",
        "46.73273796558484\r",
        "46.743628839032894\r",
        "46.75451971248094\r",
        "46.76541058592899\r",
        "46.77630145937704"
       ]
      },
      {
       "output_type": "stream",
       "stream": "stdout",
       "text": [
        "\r",
        "46.78719233282509\r",
        "46.79808320627315\r",
        "46.808974079721196\r",
        "46.819864953169244\r",
        "46.83075582661729\r",
        "46.84164670006534\r",
        "46.852537573513395\r",
        "46.86342844696145\r",
        "46.8743193204095\r",
        "46.885210193857546\r",
        "46.896101067305594\r",
        "46.90699194075365\r",
        "46.9178828142017\r",
        "46.92877368764975"
       ]
      },
      {
       "output_type": "stream",
       "stream": "stdout",
       "text": [
        "\r",
        "46.9396645610978\r",
        "46.95055543454585\r",
        "46.9614463079939\r",
        "46.97233718144195\r",
        "46.983228054890006\r",
        "46.994118928338054\r",
        "47.0050098017861\r",
        "47.01590067523415\r",
        "47.026791548682205\r",
        "47.03768242213025\r",
        "47.04857329557831\r",
        "47.059464169026356\r",
        "47.070355042474404\r",
        "47.08124591592246\r",
        "47.09213678937051\r",
        "47.10302766281856\r",
        "47.11391853626661\r",
        "47.12480940971466\r",
        "47.135700283162706\r",
        "47.14659115661076\r",
        "47.15748203005881\r",
        "47.168372903506864\r",
        "47.17926377695491\r",
        "47.19015465040296\r",
        "47.201045523851015\r",
        "47.21193639729906"
       ]
      },
      {
       "output_type": "stream",
       "stream": "stdout",
       "text": [
        "\r",
        "47.22282727074712\r",
        "47.233718144195166\r",
        "47.244609017643214\r",
        "47.25549989109127\r",
        "47.26639076453932\r",
        "47.277281637987365"
       ]
      },
      {
       "output_type": "stream",
       "stream": "stdout",
       "text": [
        "\r",
        "47.28817251143542\r",
        "47.29906338488347\r",
        "47.309954258331516\r",
        "47.32084513177957\r",
        "47.33173600522762\r",
        "47.34262687867567\r",
        "47.35351775212372\r",
        "47.36440862557177\r",
        "47.375299499019825\r",
        "47.38619037246787\r",
        "47.39708124591592\r",
        "47.407972119363976\r",
        "47.41886299281202\r",
        "47.42975386626007\r",
        "47.44064473970813\r",
        "47.451535613156175"
       ]
      },
      {
       "output_type": "stream",
       "stream": "stdout",
       "text": [
        "\r",
        "47.46242648660422\r",
        "47.47331736005228\r",
        "47.484208233500325\r",
        "47.49509910694838\r",
        "47.50598998039643\r",
        "47.51688085384448\r",
        "47.52777172729253\r",
        "47.53866260074058\r",
        "47.54955347418863\r",
        "47.56044434763668\r",
        "47.57133522108473\r",
        "47.58222609453278\r",
        "47.59311696798083\r",
        "47.60400784142888\r",
        "47.61489871487694\r",
        "47.625789588324984\r",
        "47.63668046177303\r",
        "47.64757133522109\r",
        "47.658462208669135\r",
        "47.66935308211719\r",
        "47.68024395556524\r",
        "47.691134829013286\r",
        "47.702025702461334\r",
        "47.71291657590939\r",
        "47.72380744935744\r",
        "47.73469832280549\r",
        "47.74558919625354\r",
        "47.75648006970159\r",
        "47.767370943149636\r",
        "47.77826181659769\r",
        "47.789152690045746\r",
        "47.800043563493794"
       ]
      },
      {
       "output_type": "stream",
       "stream": "stdout",
       "text": [
        "\r",
        "47.81093443694184\r",
        "47.82182531038989\r",
        "47.832716183837945\r",
        "47.84360705728599\r",
        "47.85449793073405\r",
        "47.865388804182096\r",
        "47.876279677630144\r",
        "47.88717055107819\r",
        "47.89806142452625"
       ]
      },
      {
       "output_type": "stream",
       "stream": "stdout",
       "text": [
        "\r",
        "47.9089522979743\r",
        "47.91984317142235\r",
        "47.9307340448704\r",
        "47.941624918318446\r",
        "47.9525157917665\r",
        "47.963406665214556\r",
        "47.974297538662604\r",
        "47.98518841211065\r",
        "47.9960792855587\r",
        "48.00697015900675\r",
        "48.0178610324548\r",
        "48.02875190590286\r",
        "48.039642779350906\r",
        "48.050533652798954\r",
        "48.061424526247"
       ]
      },
      {
       "output_type": "stream",
       "stream": "stdout",
       "text": [
        "\r",
        "48.07231539969506"
       ]
      },
      {
       "output_type": "stream",
       "stream": "stdout",
       "text": [
        "\r",
        "48.083206273143105\r",
        "48.09409714659116\r",
        "48.10498802003921\r",
        "48.115878893487256\r",
        "48.126769766935304\r",
        "48.13766064038336\r",
        "48.148551513831414\r",
        "48.15944238727946\r",
        "48.17033326072751\r",
        "48.18122413417556\r",
        "48.192115007623606\r",
        "48.20300588107166\r",
        "48.213896754519716\r",
        "48.224787627967764\r",
        "48.23567850141581\r",
        "48.24656937486386\r",
        "48.257460248311915\r",
        "48.26835112175997\r",
        "48.27924199520802\r",
        "48.290132868656066\r",
        "48.301023742104114\r",
        "48.31191461555216\r",
        "48.32280548900022\r",
        "48.33369636244827\r",
        "48.34458723589632\r",
        "48.35547810934437"
       ]
      },
      {
       "output_type": "stream",
       "stream": "stdout",
       "text": [
        "\r",
        "48.366368982792416\r",
        "48.37725985624047"
       ]
      },
      {
       "output_type": "stream",
       "stream": "stdout",
       "text": [
        "\r",
        "48.388150729688526\r",
        "48.399041603136574\r",
        "48.40993247658462\r",
        "48.42082335003267\r",
        "48.43171422348072\r",
        "48.44260509692877\r",
        "48.45349597037683\r",
        "48.464386843824876\r",
        "48.475277717272924\r",
        "48.48616859072097\r",
        "48.49705946416903\r",
        "48.507950337617075\r",
        "48.51884121106513\r",
        "48.52973208451318\r",
        "48.540622957961226\r",
        "48.551513831409274\r",
        "48.56240470485733\r",
        "48.573295578305384"
       ]
      },
      {
       "output_type": "stream",
       "stream": "stdout",
       "text": [
        "\r",
        "48.58418645175343\r",
        "48.59507732520148\r",
        "48.60596819864953\r",
        "48.61685907209758\r",
        "48.62774994554563\r",
        "48.638640818993686\r",
        "48.649531692441734\r",
        "48.66042256588978\r",
        "48.67131343933783\r",
        "48.682204312785885\r",
        "48.69309518623394\r",
        "48.70398605968199\r",
        "48.714876933130036\r",
        "48.725767806578084\r",
        "48.73665868002614"
       ]
      },
      {
       "output_type": "stream",
       "stream": "stdout",
       "text": [
        "\r",
        "48.74754955347419\r",
        "48.75844042692224\r",
        "48.76933130037029\r",
        "48.78022217381834\r",
        "48.79111304726639\r",
        "48.80200392071444\r",
        "48.812894794162496\r",
        "48.823785667610544\r",
        "48.83467654105859\r",
        "48.84556741450664\r",
        "48.856458287954695\r",
        "48.86734916140274\r",
        "48.8782400348508\r",
        "48.889130908298846\r",
        "48.900021781746894\r",
        "48.91091265519495\r",
        "48.921803528643\r",
        "48.932694402091045\r",
        "48.9435852755391\r",
        "48.95447614898715\r",
        "48.965367022435196\r",
        "48.97625789588325\r",
        "48.9871487693313\r",
        "48.998039642779354"
       ]
      },
      {
       "output_type": "stream",
       "stream": "stdout",
       "text": [
        "\r",
        "49.0089305162274\r",
        "49.01982138967545\r",
        "49.030712263123505\r",
        "49.04160313657155\r",
        "49.0524940100196\r",
        "49.063384883467656\r",
        "49.0742757569157\r",
        "49.08516663036376\r",
        "49.09605750381181\r",
        "49.106948377259855\r",
        "49.11783925070791\r",
        "49.12873012415596\r",
        "49.139620997604005\r",
        "49.15051187105206\r",
        "49.16140274450011\r",
        "49.17229361794816\r",
        "49.18318449139621\r",
        "49.19407536484426\r",
        "49.204966238292315\r",
        "49.21585711174036\r",
        "49.22674798518841\r",
        "49.237638858636465\r",
        "49.24852973208451\r",
        "49.25942060553256\r",
        "49.27031147898062\r",
        "49.281202352428664"
       ]
      },
      {
       "output_type": "stream",
       "stream": "stdout",
       "text": [
        "\r",
        "49.29209322587671\r",
        "49.30298409932477\r",
        "49.313874972772815\r",
        "49.32476584622087\r",
        "49.33565671966892\r",
        "49.346547593116966\r",
        "49.357438466565014\r",
        "49.36832934001307\r",
        "49.37922021346112\r",
        "49.39011108690917\r",
        "49.40100196035722\r",
        "49.41189283380527\r",
        "49.42278370725332\r",
        "49.43367458070137"
       ]
      },
      {
       "output_type": "stream",
       "stream": "stdout",
       "text": [
        "\r",
        "49.444565454149426\r",
        "49.455456327597474\r",
        "49.46634720104552\r",
        "49.47723807449357\r",
        "49.488128947941625\r",
        "49.49901982138968\r",
        "49.50991069483773\r",
        "49.520801568285776\r",
        "49.531692441733824\r",
        "49.54258331518188\r",
        "49.55347418862993\r",
        "49.56436506207798\r",
        "49.57525593552603\r",
        "49.58614680897408\r",
        "49.597037682422126\r",
        "49.60792855587018\r",
        "49.618819429318236\r",
        "49.629710302766284\r",
        "49.64060117621433"
       ]
      },
      {
       "output_type": "stream",
       "stream": "stdout",
       "text": [
        "\r",
        "49.65149204966238\r",
        "49.662382923110435\r",
        "49.67327379655848\r",
        "49.68416467000654\r",
        "49.695055543454586\r",
        "49.705946416902634\r",
        "49.71683729035068\r",
        "49.72772816379874\r",
        "49.73861903724679\r",
        "49.74950991069484\r",
        "49.76040078414289\r",
        "49.771291657590936\r",
        "49.782182531038984\r",
        "49.79307340448704\r",
        "49.803964277935094\r",
        "49.81485515138314\r",
        "49.82574602483119\r",
        "49.83663689827924\r",
        "49.84752777172729\r",
        "49.85841864517535\r",
        "49.869309518623396\r",
        "49.880200392071444\r",
        "49.89109126551949\r",
        "49.90198213896754\r",
        "49.912873012415595\r",
        "49.92376388586365\r",
        "49.9346547593117\r",
        "49.945545632759746\r",
        "49.956436506207794\r",
        "49.96732737965585\r",
        "49.978218253103904"
       ]
      },
      {
       "output_type": "stream",
       "stream": "stdout",
       "text": [
        "\r",
        "49.98910912655195\r",
        "50.0\r",
        "50.010890873448055\r",
        "50.021781746896096\r",
        "50.03267262034415\r",
        "50.0435634937922\r",
        "50.054454367240254\r",
        "50.06534524068831\r",
        "50.07623611413635\r",
        "50.087126987584405\r",
        "50.09801786103245\r",
        "50.10890873448051\r",
        "50.11979960792856\r",
        "50.130690481376604\r",
        "50.14158135482466\r",
        "50.15247222827271\r",
        "50.16336310172076\r",
        "50.1742539751688\r",
        "50.18514484861686\r",
        "50.19603572206491\r",
        "50.206926595512954\r",
        "50.217817468961016\r",
        "50.22870834240906\r",
        "50.23959921585711\r",
        "50.25049008930517\r",
        "50.26138096275321\r",
        "50.27227183620126\r",
        "50.28316270964931\r",
        "50.294053583097366\r",
        "50.30494445654542\r",
        "50.31583532999346\r",
        "50.32672620344152\r",
        "50.337617076889565"
       ]
      },
      {
       "output_type": "stream",
       "stream": "stdout",
       "text": [
        "\r",
        "50.34850795033762\r",
        "50.359398823785675\r",
        "50.370289697233716\r",
        "50.38118057068177\r",
        "50.39207144412982\r",
        "50.402962317577874\r",
        "50.41385319102593\r",
        "50.42474406447397\r",
        "50.435634937922025\r",
        "50.446525811370066\r",
        "50.45741668481812\r",
        "50.46830755826617\r",
        "50.479198431714224\r",
        "50.49008930516228\r",
        "50.50098017861032\r",
        "50.511871052058375\r",
        "50.52276192550642\r",
        "50.53365279895448\r",
        "50.54454367240253\r",
        "50.555434545850574\r",
        "50.56632541929863\r",
        "50.57721629274668\r",
        "50.58810716619473\r",
        "50.59899803964279"
       ]
      },
      {
       "output_type": "stream",
       "stream": "stdout",
       "text": [
        "\r",
        "50.60988891309083\r",
        "50.62077978653888\r",
        "50.63167065998692\r",
        "50.642561533434986"
       ]
      },
      {
       "output_type": "stream",
       "stream": "stdout",
       "text": [
        "\r",
        "50.653452406883034\r",
        "50.66434328033108\r",
        "50.67523415377914\r",
        "50.68612502722718\r",
        "50.69701590067523\r",
        "50.70790677412328\r",
        "50.718797647571336\r",
        "50.72968852101939\r",
        "50.74057939446743\r",
        "50.75147026791549\r",
        "50.762361141363535\r",
        "50.77325201481159\r",
        "50.784142888259645\r",
        "50.795033761707685\r",
        "50.80592463515574\r",
        "50.81681550860379\r",
        "50.82770638205184\r",
        "50.8385972554999\r",
        "50.84948812894794\r",
        "50.860379002395995\r",
        "50.871269875844035\r",
        "50.88216074929209\r",
        "50.893051622740145\r",
        "50.90394249618819"
       ]
      },
      {
       "output_type": "stream",
       "stream": "stdout",
       "text": [
        "\r",
        "50.91483336963625\r",
        "50.92572424308429\r",
        "50.936615116532344\r",
        "50.9475059899804\r",
        "50.95839686342845\r",
        "50.9692877368765\r",
        "50.98017861032454\r",
        "50.9910694837726\r",
        "51.001960357220646\r",
        "51.0128512306687\r",
        "51.02374210411676\r",
        "51.0346329775648\r",
        "51.04552385101285\r",
        "51.05641472446089\r",
        "51.067305597908955\r",
        "51.078196471357\r",
        "51.08908734480505\r",
        "51.099978218253106\r",
        "51.11086909170115\r",
        "51.1217599651492\r",
        "51.13265083859726"
       ]
      },
      {
       "output_type": "stream",
       "stream": "stdout",
       "text": [
        "\r",
        "51.143541712045305\r",
        "51.15443258549336\r",
        "51.1653234589414\r",
        "51.176214332389456\r",
        "51.18710520583751\r",
        "51.19799607928556\r",
        "51.208886952733614\r",
        "51.219777826181655\r",
        "51.23066869962971\r",
        "51.241559573077765\r",
        "51.25245044652581\r",
        "51.26334131997387\r",
        "51.27423219342191\r",
        "51.285123066869964\r",
        "51.296013940318005\r",
        "51.30690481376606\r",
        "51.317795687214115\r",
        "51.32868656066216\r",
        "51.33957743411022\r",
        "51.35046830755826\r",
        "51.361359181006314\r",
        "51.37225005445437\r",
        "51.38314092790242\r",
        "51.39403180135047\r",
        "51.40492267479851\r",
        "51.41581354824657\r",
        "51.42670442169462\r",
        "51.43759529514267\r",
        "51.448486168590726\r",
        "51.45937704203877\r",
        "51.47026791548682\r",
        "51.48115878893488\r",
        "51.492049662382925\r",
        "51.50294053583097\r",
        "51.51383140927902\r",
        "51.524722282727076\r",
        "51.53561315617513\r",
        "51.54650402962317\r",
        "51.55739490307123\r",
        "51.568285776519275\r",
        "51.57917664996733\r",
        "51.59006752341537\r",
        "51.600958396863426"
       ]
      },
      {
       "output_type": "stream",
       "stream": "stdout",
       "text": [
        "\r",
        "51.61184927031148\r",
        "51.62274014375953\r",
        "51.633631017207584\r",
        "51.644521890655625\r",
        "51.65541276410368\r",
        "51.666303637551735\r",
        "51.67719451099978\r",
        "51.68808538444784\r",
        "51.69897625789588\r",
        "51.709867131343934\r",
        "51.72075800479199\r",
        "51.73164887824003\r",
        "51.742539751688085\r",
        "51.75343062513613"
       ]
      },
      {
       "output_type": "stream",
       "stream": "stdout",
       "text": [
        "\r",
        "51.76432149858419\r",
        "51.77521237203224\r",
        "51.786103245480284\r",
        "51.79699411892834\r",
        "51.80788499237639\r",
        "51.81877586582444\r",
        "51.82966673927248\r",
        "51.84055761272054\r",
        "51.85144848616859\r",
        "51.86233935961664\r",
        "51.873230233064696\r",
        "51.88412110651274\r",
        "51.89501197996079\r",
        "51.90590285340885\r",
        "51.916793726856895\r",
        "51.92768460030494"
       ]
      },
      {
       "output_type": "stream",
       "stream": "stdout",
       "text": [
        "\r",
        "51.93857547375299\r",
        "51.949466347201046\r",
        "51.9603572206491\r",
        "51.97124809409714\r",
        "51.9821389675452\r",
        "51.993029840993245\r",
        "52.0039207144413\r",
        "52.014811587889355\r",
        "52.025702461337396"
       ]
      },
      {
       "output_type": "stream",
       "stream": "stdout",
       "text": [
        "\r",
        "52.03659333478545\r",
        "52.0474842082335\r",
        "52.058375081681554\r",
        "52.06926595512961\r",
        "52.08015682857765\r",
        "52.091047702025705\r",
        "52.10193857547375\r",
        "52.11282944892181\r",
        "52.12372032236985\r",
        "52.134611195817904\r",
        "52.14550206926596\r",
        "52.156392942714\r",
        "52.167283816162055\r",
        "52.1781746896101\r",
        "52.18906556305816\r",
        "52.19995643650621"
       ]
      },
      {
       "output_type": "stream",
       "stream": "stdout",
       "text": [
        "\r",
        "52.210847309954254\r",
        "52.22173818340231\r",
        "52.23262905685036\r",
        "52.24351993029841\r",
        "52.25441080374647\r",
        "52.26530167719451\r",
        "52.27619255064256\r",
        "52.28708342409061\r",
        "52.297974297538666\r",
        "52.30886517098672\r",
        "52.31975604443476\r",
        "52.33064691788282\r",
        "52.341537791330865\r",
        "52.35242866477891\r",
        "52.363319538226975"
       ]
      },
      {
       "output_type": "stream",
       "stream": "stdout",
       "text": [
        "\r",
        "52.374210411675016\r",
        "52.38510128512307\r",
        "52.39599215857111\r",
        "52.40688303201917\r",
        "52.417773905467214\r",
        "52.42866477891527\r",
        "52.439555652363325\r",
        "52.450446525811365\r",
        "52.46133739925942\r",
        "52.47222827270747\r",
        "52.48311914615552\r",
        "52.49401001960358\r",
        "52.50490089305162\r",
        "52.515791766499675\r",
        "52.52668263994772\r",
        "52.53757351339578\r",
        "52.54846438684383\r",
        "52.55935526029187\r",
        "52.57024613373993\r",
        "52.58113700718797\r",
        "52.592027880636024\r",
        "52.60291875408408\r",
        "52.61380962753213\r",
        "52.62470050098018\r",
        "52.63559137442822\r",
        "52.64648224787628\r",
        "52.65737312132433\r",
        "52.66826399477238"
       ]
      },
      {
       "output_type": "stream",
       "stream": "stdout",
       "text": [
        "\r",
        "52.67915486822044\r",
        "52.69004574166848\r",
        "52.70093661511653\r",
        "52.71182748856458\r",
        "52.722718362012635"
       ]
      },
      {
       "output_type": "stream",
       "stream": "stdout",
       "text": [
        "\r",
        "52.73360923546069\r",
        "52.74450010890873\r",
        "52.755390982356786\r",
        "52.766281855804834\r",
        "52.77717272925288\r",
        "52.788063602700944\r",
        "52.798954476148985\r",
        "52.80984534959704\r",
        "52.82073622304508\r",
        "52.831627096493136\r",
        "52.84251796994119\r",
        "52.85340884338924\r",
        "52.864299716837294\r",
        "52.875190590285335\r",
        "52.88608146373339\r",
        "52.896972337181445\r",
        "52.90786321062949\r",
        "52.91875408407755\r",
        "52.92964495752559\r",
        "52.940535830973644\r",
        "52.95142670442169\r",
        "52.96231757786975\r",
        "52.9732084513178\r",
        "52.98409932476584"
       ]
      },
      {
       "output_type": "stream",
       "stream": "stdout",
       "text": [
        "\r",
        "52.9949901982139\r",
        "53.00588107166194"
       ]
      },
      {
       "output_type": "stream",
       "stream": "stdout",
       "text": [
        "\r",
        "53.016771945109994\r",
        "53.02766281855805\r",
        "53.0385536920061\r",
        "53.04944456545415\r",
        "53.06033543890219\r",
        "53.07122631235025\r",
        "53.0821171857983\r",
        "53.09300805924635\r",
        "53.103898932694406\r",
        "53.11478980614245\r",
        "53.1256806795905\r",
        "53.13657155303856\r",
        "53.147462426486605\r",
        "53.15835329993466\r",
        "53.1692441733827\r",
        "53.180135046830756\r",
        "53.19102592027881\r",
        "53.20191679372685\r",
        "53.212807667174914\r",
        "53.223698540622955\r",
        "53.23458941407101\r",
        "53.24548028751905\r",
        "53.256371160967106\r",
        "53.26726203441516\r",
        "53.27815290786321\r",
        "53.289043781311264\r",
        "53.299934654759305\r",
        "53.31082552820736\r",
        "53.321716401655415\r",
        "53.33260727510346\r",
        "53.34349814855152\r",
        "53.35438902199956\r",
        "53.365279895447614\r",
        "53.37617076889567\r",
        "53.38706164234372\r",
        "53.39795251579177\r",
        "53.40884338923981\r",
        "53.41973426268787\r",
        "53.43062513613592\r",
        "53.441516009583964\r",
        "53.45240688303202\r",
        "53.46329775648007\r",
        "53.47418862992812\r",
        "53.48507950337618\r",
        "53.49597037682422\r",
        "53.50686125027227\r",
        "53.51775212372032\r",
        "53.528642997168376\r",
        "53.53953387061642\r",
        "53.55042474406447\r",
        "53.56131561751253\r",
        "53.572206490960575\r",
        "53.58309736440863\r",
        "53.59398823785667\r",
        "53.604879111304726\r",
        "53.61576998475278"
       ]
      },
      {
       "output_type": "stream",
       "stream": "stdout",
       "text": [
        "\r",
        "53.62666085820082\r",
        "53.637551731648884\r",
        "53.648442605096925\r",
        "53.65933347854498\r",
        "53.670224351993035\r",
        "53.681115225441076\r",
        "53.69200609888913\r",
        "53.70289697233718\r",
        "53.713787845785234\r",
        "53.72467871923329\r",
        "53.73556959268133\r",
        "53.746460466129385\r",
        "53.75735133957743\r",
        "53.76824221302549\r",
        "53.77913308647354\r",
        "53.790023959921584\r",
        "53.80091483336964\r",
        "53.81180570681769\r",
        "53.82269658026574\r",
        "53.83358745371378\r",
        "53.84447832716184\r",
        "53.85536920060989"
       ]
      },
      {
       "output_type": "stream",
       "stream": "stdout",
       "text": [
        "\r",
        "53.866260074057934\r",
        "53.87715094750599\r",
        "53.88804182095404\r",
        "53.89893269440209\r",
        "53.90982356785015\r",
        "53.92071444129819\r",
        "53.93160531474624\r",
        "53.94249618819429\r",
        "53.953387061642346\r",
        "53.9642779350904\r",
        "53.97516880853844\r",
        "53.9860596819865\r",
        "53.996950555434545\r",
        "54.0078414288826\r",
        "54.018732302330655\r",
        "54.029623175778696\r",
        "54.04051404922675\r",
        "54.05140492267479\r",
        "54.062295796122854\r",
        "54.073186669570894\r",
        "54.08407754301895\r",
        "54.094968416467005\r",
        "54.105859289915045\r",
        "54.1167501633631\r",
        "54.12764103681115"
       ]
      },
      {
       "output_type": "stream",
       "stream": "stdout",
       "text": [
        "\r",
        "54.1385319102592\r",
        "54.14942278370726\r",
        "54.1603136571553\r",
        "54.171204530603354\r",
        "54.1820954040514\r",
        "54.19298627749946\r",
        "54.20387715094751\r",
        "54.21476802439555\r",
        "54.22565889784361"
       ]
      },
      {
       "output_type": "stream",
       "stream": "stdout",
       "text": [
        "\r",
        "54.236549771291656\r",
        "54.24744064473971\r",
        "54.25833151818777\r",
        "54.26922239163581\r",
        "54.28011326508386\r",
        "54.2910041385319\r",
        "54.30189501197996\r",
        "54.31278588542801\r",
        "54.32367675887606\r",
        "54.33456763232412\r",
        "54.34545850577216\r",
        "54.35634937922021\r",
        "54.36724025266826\r",
        "54.378131126116315\r",
        "54.38902199956437\r",
        "54.39991287301241\r",
        "54.410803746460466\r",
        "54.421694619908514\r",
        "54.43258549335657\r",
        "54.443476366804624\r",
        "54.454367240252665\r",
        "54.46525811370072\r",
        "54.47614898714876\r",
        "54.48703986059682\r",
        "54.49793073404487\r",
        "54.50882160749292\r",
        "54.519712480940974\r",
        "54.530603354389015\r",
        "54.54149422783707\r",
        "54.552385101285125\r",
        "54.56327597473317\r",
        "54.57416684818123\r",
        "54.58505772162927\r",
        "54.595948595077324\r",
        "54.60683946852538\r",
        "54.61773034197343\r",
        "54.62862121542148\r",
        "54.63951208886952\r",
        "54.65040296231758\r",
        "54.661293835765626\r",
        "54.67218470921368\r",
        "54.683075582661736\r",
        "54.69396645610978\r",
        "54.70485732955783"
       ]
      },
      {
       "output_type": "stream",
       "stream": "stdout",
       "text": [
        "\r",
        "54.71574820300587\r",
        "54.72663907645393\r",
        "54.73752994990198\r",
        "54.74842082335003\r",
        "54.759311696798086\r",
        "54.77020257024613\r",
        "54.78109344369418\r",
        "54.79198431714224"
       ]
      },
      {
       "output_type": "stream",
       "stream": "stdout",
       "text": [
        "\r",
        "54.802875190590285\r",
        "54.81376606403834\r",
        "54.82465693748638\r",
        "54.835547810934436\r",
        "54.84643868438249\r",
        "54.85732955783054\r",
        "54.868220431278594\r",
        "54.879111304726635\r",
        "54.89000217817469\r",
        "54.900893051622745\r",
        "54.91178392507079\r",
        "54.92267479851884\r",
        "54.93356567196689\r",
        "54.944456545414944\r",
        "54.955347418862985\r",
        "54.96623829231104\r",
        "54.977129165759095\r",
        "54.98802003920714\r",
        "54.9989109126552\r",
        "55.00980178610324\r",
        "55.020692659551294\r",
        "55.03158353299935"
       ]
      },
      {
       "output_type": "stream",
       "stream": "stdout",
       "text": [
        "\r",
        "55.0424744064474\r",
        "55.05336527989545\r",
        "55.06425615334349\r",
        "55.07514702679155\r",
        "55.0860379002396\r",
        "55.09692877368765\r",
        "55.107819647135706\r",
        "55.11871052058375"
       ]
      },
      {
       "output_type": "stream",
       "stream": "stdout",
       "text": [
        "\r",
        "55.1296013940318\r",
        "55.14049226747986\r",
        "55.1513831409279\r",
        "55.16227401437595\r",
        "55.173164887824\r",
        "55.184055761272056\r",
        "55.19494663472011\r",
        "55.20583750816815\r",
        "55.21672838161621\r",
        "55.227619255064255\r",
        "55.23851012851231\r",
        "55.24940100196035\r",
        "55.260291875408406\r",
        "55.27118274885646\r",
        "55.28207362230451\r",
        "55.292964495752564\r",
        "55.303855369200605\r",
        "55.31474624264866\r",
        "55.325637116096715\r",
        "55.33652798954476\r",
        "55.34741886299281\r",
        "55.35830973644086\r",
        "55.369200609888914\r",
        "55.38009148333697\r",
        "55.39098235678501\r",
        "55.401873230233065"
       ]
      },
      {
       "output_type": "stream",
       "stream": "stdout",
       "text": [
        "\r",
        "55.41276410368111\r",
        "55.42365497712917\r",
        "55.43454585057722\r",
        "55.445436724025264\r",
        "55.45632759747332\r",
        "55.46721847092137\r",
        "55.47810934436942\r",
        "55.48900021781746\r",
        "55.49989109126552\r",
        "55.51078196471357\r",
        "55.52167283816162\r",
        "55.532563711609676"
       ]
      },
      {
       "output_type": "stream",
       "stream": "stdout",
       "text": [
        "\r",
        "55.54345458505772\r",
        "55.55434545850577\r",
        "55.56523633195383\r",
        "55.57612720540187\r",
        "55.58701807884992\r",
        "55.59790895229797\r",
        "55.608799825746026\r",
        "55.61969069919408\r",
        "55.63058157264212\r",
        "55.64147244609018\r",
        "55.652363319538225\r",
        "55.66325419298628\r",
        "55.674145066434335\r",
        "55.685035939882376\r",
        "55.69592681333043\r",
        "55.70681768677848\r",
        "55.717708560226534\r",
        "55.72859943367459\r",
        "55.73949030712263\r",
        "55.750381180570685\r",
        "55.76127205401873\r",
        "55.77216292746678\r",
        "55.78305380091483\r",
        "55.79394467436288\r",
        "55.80483554781094\r",
        "55.81572642125898"
       ]
      },
      {
       "output_type": "stream",
       "stream": "stdout",
       "text": [
        "\r",
        "55.826617294707034\r",
        "55.83750816815508\r",
        "55.84839904160314\r",
        "55.85928991505119\r",
        "55.87018078849923\r",
        "55.88107166194729\r",
        "55.891962535395336\r",
        "55.90285340884339\r",
        "55.91374428229145\r",
        "55.92463515573949\r",
        "55.93552602918754\r",
        "55.94641690263559\r",
        "55.957307776083645\r",
        "55.9681986495317\r",
        "55.97908952297974\r",
        "55.9899803964278\r",
        "56.00087126987584\r",
        "56.01176214332389\r",
        "56.02265301677195\r",
        "56.033543890219995\r",
        "56.04443476366805\r",
        "56.05532563711609\r",
        "56.066216510564146\r",
        "56.077107384012194\r",
        "56.08799825746025\r",
        "56.098889130908304\r",
        "56.109780004356345\r",
        "56.1206708778044\r",
        "56.13156175125245\r",
        "56.1424526247005\r",
        "56.15334349814856\r",
        "56.1642343715966\r",
        "56.175125245044654\r",
        "56.1860161184927\r",
        "56.19690699194075"
       ]
      },
      {
       "output_type": "stream",
       "stream": "stdout",
       "text": [
        "\r",
        "56.20779786538881\r",
        "56.21868873883685\r",
        "56.22957961228491"
       ]
      },
      {
       "output_type": "stream",
       "stream": "stdout",
       "text": [
        "\r",
        "56.24047048573295\r",
        "56.251361359181004\r",
        "56.26225223262906\r",
        "56.27314310607711\r",
        "56.28403397952516\r",
        "56.2949248529732\r",
        "56.30581572642126\r",
        "56.31670659986931\r",
        "56.32759747331736\r",
        "56.338488346765416\r",
        "56.34937922021346\r",
        "56.36027009366151\r",
        "56.37116096710956\r",
        "56.382051840557615\r",
        "56.39294271400567\r",
        "56.40383358745371\r",
        "56.414724460901766\r",
        "56.42561533434981\r",
        "56.43650620779786\r",
        "56.44739708124592\r",
        "56.458287954693965\r",
        "56.46917882814202\r",
        "56.48006970159006\r",
        "56.490960575038116\r",
        "56.50185144848617\r",
        "56.51274232193422\r",
        "56.523633195382274\r",
        "56.534524068830315\r",
        "56.54541494227837\r",
        "56.556305815726425\r",
        "56.56719668917447\r",
        "56.57808756262253\r",
        "56.58897843607057\r",
        "56.599869309518624\r",
        "56.61076018296667\r",
        "56.62165105641472\r",
        "56.63254192986278"
       ]
      },
      {
       "output_type": "stream",
       "stream": "stdout",
       "text": [
        "\r",
        "56.64343280331082\r",
        "56.65432367675888\r",
        "56.66521455020692\r",
        "56.676105423654974\r",
        "56.68699629710303"
       ]
      },
      {
       "output_type": "stream",
       "stream": "stdout",
       "text": [
        "\r",
        "56.69788717055108\r",
        "56.70877804399913\r",
        "56.71966891744717\r",
        "56.73055979089523\r",
        "56.74145066434328\r",
        "56.75234153779133\r",
        "56.763232411239386\r",
        "56.77412328468743\r",
        "56.78501415813548\r",
        "56.79590503158354\r",
        "56.806795905031585\r",
        "56.81768677847964\r",
        "56.82857765192768\r",
        "56.839468525375736\r",
        "56.85035939882379\r",
        "56.86125027227183\r",
        "56.87214114571989\r",
        "56.883032019167935\r",
        "56.89392289261599\r",
        "56.90481376606403\r",
        "56.915704639512086\r",
        "56.92659551296014\r",
        "56.93748638640819\r",
        "56.948377259856244\r",
        "56.959268133304285\r",
        "56.97015900675234\r",
        "56.981049880200395\r",
        "56.99194075364844\r",
        "57.0028316270965\r",
        "57.01372250054454\r",
        "57.024613373992594\r",
        "57.03550424744065\r",
        "57.04639512088869\r",
        "57.05728599433675\r",
        "57.06817686778479\r",
        "57.07906774123285\r",
        "57.0899586146809\r",
        "57.100849488128944\r",
        "57.111740361577\r",
        "57.12263123502505\r",
        "57.1335221084731\r",
        "57.14441298192116\r",
        "57.1553038553692\r",
        "57.16619472881725\r",
        "57.1770856022653\r",
        "57.187976475713356\r",
        "57.1988673491614\r",
        "57.20975822260945\r",
        "57.22064909605751\r",
        "57.231539969505555\r",
        "57.24243084295361"
       ]
      },
      {
       "output_type": "stream",
       "stream": "stdout",
       "text": [
        "\r",
        "57.25332171640165\r",
        "57.264212589849706\r",
        "57.27510346329776\r",
        "57.2859943367458\r",
        "57.29688521019386\r",
        "57.307776083641905\r",
        "57.31866695708996\r",
        "57.329557830538015\r",
        "57.340448703986056\r",
        "57.35133957743411\r",
        "57.36223045088216\r",
        "57.373121324330214\r",
        "57.38401219777827\r",
        "57.39490307122631\r",
        "57.405793944674365\r",
        "57.41668481812241\r",
        "57.42757569157047\r",
        "57.43846656501852\r",
        "57.44935743846656\r",
        "57.46024831191462\r",
        "57.47113918536266\r",
        "57.48203005881072\r",
        "57.49292093225876\r",
        "57.50381180570682\r",
        "57.51470267915487\r",
        "57.52559355260291\r",
        "57.53648442605097\r",
        "57.547375299499016\r",
        "57.55826617294707\r",
        "57.56915704639513\r",
        "57.58004791984317"
       ]
      },
      {
       "output_type": "stream",
       "stream": "stdout",
       "text": [
        "\r",
        "57.59093879329122\r",
        "57.60182966673927\r",
        "57.612720540187325\r",
        "57.62361141363538\r",
        "57.63450228708342\r",
        "57.645393160531476\r",
        "57.656284033979524\r",
        "57.66717490742758\r",
        "57.678065780875635\r",
        "57.688956654323675\r",
        "57.69984752777173\r",
        "57.71073840121977\r",
        "57.721629274667826\r",
        "57.732520148115874\r",
        "57.74341102156393\r",
        "57.754301895011984\r",
        "57.765192768460025\r",
        "57.77608364190808\r",
        "57.78697451535613\r",
        "57.79786538880418\r",
        "57.80875626225224"
       ]
      },
      {
       "output_type": "stream",
       "stream": "stdout",
       "text": [
        "\r",
        "57.81964713570028\r",
        "57.830538009148334\r",
        "57.84142888259638\r",
        "57.85231975604444\r",
        "57.86321062949249\r",
        "57.87410150294053\r",
        "57.88499237638859\r",
        "57.89588324983663\r",
        "57.90677412328469\r",
        "57.91766499673274\r",
        "57.92855587018079\r",
        "57.93944674362884\r",
        "57.95033761707688\r",
        "57.96122849052494\r",
        "57.97211936397299\r",
        "57.98301023742104\r",
        "57.993901110869096\r",
        "58.00479198431714\r",
        "58.01568285776519\r",
        "58.02657373121324"
       ]
      },
      {
       "output_type": "stream",
       "stream": "stdout",
       "text": [
        "\r",
        "58.037464604661295\r",
        "58.04835547810935\r",
        "58.05924635155739\r",
        "58.070137225005446\r",
        "58.081028098453494\r",
        "58.09191897190155\r",
        "58.102809845349604\r",
        "58.113700718797645\r",
        "58.1245915922457\r",
        "58.13548246569374\r",
        "58.146373339141796\r",
        "58.15726421258985\r",
        "58.1681550860379\r",
        "58.179045959485954\r",
        "58.189936832933995\r",
        "58.20082770638205\r",
        "58.211718579830105\r",
        "58.22260945327815"
       ]
      },
      {
       "output_type": "stream",
       "stream": "stdout",
       "text": [
        "\r",
        "58.23350032672621\r",
        "58.24439120017425\r",
        "58.255282073622304\r",
        "58.26617294707036\r",
        "58.27706382051841\r",
        "58.28795469396646\r",
        "58.2988455674145\r",
        "58.30973644086256\r",
        "58.3206273143106\r",
        "58.33151818775866\r",
        "58.34240906120671\r",
        "58.35329993465476\r",
        "58.36419080810281\r",
        "58.37508168155085\r",
        "58.38597255499891\r",
        "58.39686342844696\r",
        "58.40775430189501\r",
        "58.418645175343066\r",
        "58.42953604879111\r",
        "58.44042692223916\r",
        "58.45131779568722\r",
        "58.462208669135265\r",
        "58.47309954258332\r",
        "58.48399041603136\r",
        "58.494881289479416\r",
        "58.50577216292747\r",
        "58.51666303637552\r",
        "58.527553909823574\r",
        "58.538444783271615\r",
        "58.54933565671967\r",
        "58.560226530167725\r",
        "58.571117403615766\r",
        "58.58200827706382"
       ]
      },
      {
       "output_type": "stream",
       "stream": "stdout",
       "text": [
        "\r",
        "58.59289915051187\r",
        "58.603790023959924\r",
        "58.614680897407965\r",
        "58.62557177085602\r",
        "58.636462644304075\r",
        "58.64735351775212\r",
        "58.65824439120018\r",
        "58.66913526464822\r",
        "58.680026138096274\r",
        "58.69091701154433\r",
        "58.70180788499238\r",
        "58.71269875844043\r",
        "58.72358963188847\r",
        "58.73448050533653\r",
        "58.74537137878458\r",
        "58.75626225223263\r",
        "58.76715312568068\r",
        "58.77804399912873\r",
        "58.78893487257678\r",
        "58.79982574602484\r",
        "58.81071661947288\r",
        "58.82160749292093"
       ]
      },
      {
       "output_type": "stream",
       "stream": "stdout",
       "text": [
        "\r",
        "58.83249836636898\r",
        "58.843389239817036\r",
        "58.85428011326508\r",
        "58.86517098671313\r",
        "58.87606186016119\r",
        "58.886952733609235\r",
        "58.89784360705729\r",
        "58.90873448050533\r",
        "58.919625353953386\r",
        "58.93051622740144\r",
        "58.94140710084949\r",
        "58.952297974297544\r",
        "58.963188847745585\r",
        "58.97407972119364\r",
        "58.984970594641695\r",
        "58.995861468089736\r",
        "59.00675234153779\r",
        "59.01764321498584\r",
        "59.028534088433894\r",
        "59.03942496188195\r",
        "59.05031583532999\r",
        "59.061206708778045\r",
        "59.07209758222609\r",
        "59.08298845567415\r",
        "59.0938793291222\r",
        "59.10477020257024\r",
        "59.1156610760183\r",
        "59.12655194946635\r",
        "59.1374428229144\r",
        "59.14833369636244\r",
        "59.1592245698105\r",
        "59.17011544325855\r",
        "59.1810063167066\r",
        "59.19189719015465\r",
        "59.202788063602696\r",
        "59.21367893705075\r",
        "59.22456981049881\r",
        "59.23546068394685"
       ]
      },
      {
       "output_type": "stream",
       "stream": "stdout",
       "text": [
        "\r",
        "59.2463515573949\r",
        "59.25724243084295\r",
        "59.268133304291005\r",
        "59.27902417773906\r",
        "59.2899150511871\r",
        "59.300805924635156\r",
        "59.311696798083204\r",
        "59.32258767153126\r",
        "59.333478544979315\r",
        "59.344369418427355\r",
        "59.35526029187541\r",
        "59.36615116532346\r",
        "59.37704203877151\r",
        "59.38793291221957\r",
        "59.39882378566761\r",
        "59.409714659115664\r",
        "59.420605532563705\r",
        "59.43149640601176\r",
        "59.44238727945981\r",
        "59.45327815290786\r",
        "59.46416902635592\r",
        "59.47505989980396\r",
        "59.485950773252014\r",
        "59.49684164670006\r",
        "59.50773252014812\r",
        "59.51862339359617\r",
        "59.52951426704421\r",
        "59.54040514049227\r",
        "59.551296013940316\r",
        "59.56218688738837\r",
        "59.573077760836426\r",
        "59.58396863428447\r",
        "59.59485950773252\r",
        "59.60575038118057\r",
        "59.61664125462862\r",
        "59.62753212807668\r",
        "59.63842300152472\r",
        "59.649313874972776\r",
        "59.66020474842082\r",
        "59.67109562186887"
       ]
      },
      {
       "output_type": "stream",
       "stream": "stdout",
       "text": [
        "\r",
        "59.68198649531693\r",
        "59.692877368764975\r",
        "59.70376824221303\r",
        "59.71465911566107\r",
        "59.725549989109126\r",
        "59.736440862557174\r",
        "59.74733173600523\r",
        "59.758222609453284"
       ]
      },
      {
       "output_type": "stream",
       "stream": "stdout",
       "text": [
        "\r",
        "59.769113482901325\r",
        "59.78000435634938\r",
        "59.79089522979743\r",
        "59.80178610324548\r",
        "59.81267697669354\r",
        "59.82356785014158\r",
        "59.834458723589634\r",
        "59.845349597037675\r",
        "59.85624047048573\r",
        "59.867131343933785\r",
        "59.87802221738183\r",
        "59.88891309082989\r",
        "59.89980396427793"
       ]
      },
      {
       "output_type": "stream",
       "stream": "stdout",
       "text": [
        "\r",
        "59.910694837725984\r",
        "59.92158571117404\r",
        "59.93247658462209\r",
        "59.94336745807014\r",
        "59.95425833151818\r",
        "59.96514920496624\r",
        "59.976040078414286\r",
        "59.98693095186234\r",
        "59.997821825310396\r",
        "60.00871269875844\r",
        "60.01960357220649\r",
        "60.03049444565454\r",
        "60.04138531910259\r",
        "60.05227619255065\r",
        "60.06316706599869\r",
        "60.074057939446746\r",
        "60.08494881289479\r",
        "60.09583968634284\r",
        "60.1067305597909\r",
        "60.117621433238945\r",
        "60.128512306687\r",
        "60.13940318013504\r",
        "60.150294053583096\r",
        "60.16118492703115\r",
        "60.1720758004792\r",
        "60.182966673927254\r",
        "60.193857547375295\r",
        "60.20474842082335\r",
        "60.215639294271405\r",
        "60.22653016771945"
       ]
      },
      {
       "output_type": "stream",
       "stream": "stdout",
       "text": [
        "\r",
        "60.23742104116751\r",
        "60.24831191461555\r",
        "60.259202788063604\r",
        "60.270093661511645\r",
        "60.2809845349597\r",
        "60.291875408407755\r",
        "60.3027662818558\r",
        "60.31365715530386\r",
        "60.3245480287519\r",
        "60.335438902199954\r",
        "60.34632977564801\r",
        "60.35722064909606\r",
        "60.36811152254411\r",
        "60.37900239599215\r",
        "60.38989326944021\r",
        "60.40078414288826\r",
        "60.41167501633631\r",
        "60.422565889784366\r",
        "60.43345676323241\r",
        "60.44434763668046\r",
        "60.45523851012852\r",
        "60.46612938357656\r",
        "60.47702025702462\r",
        "60.48791113047266\r",
        "60.498802003920716\r",
        "60.50969287736877\r",
        "60.52058375081681\r",
        "60.53147462426487\r",
        "60.542365497712915\r",
        "60.55325637116097\r",
        "60.56414724460901\r",
        "60.575038118057066\r",
        "60.58592899150512\r",
        "60.59681986495317\r",
        "60.607710738401224\r",
        "60.618601611849265\r",
        "60.62949248529732\r",
        "60.640383358745375\r",
        "60.65127423219342"
       ]
      },
      {
       "output_type": "stream",
       "stream": "stdout",
       "text": [
        "\r",
        "60.66216510564148\r",
        "60.67305597908952\r",
        "60.683946852537574\r",
        "60.69483772598563\r",
        "60.70572859943367\r",
        "60.716619472881725\r",
        "60.72751034632977\r",
        "60.73840121977783\r",
        "60.74929209322588\r",
        "60.76018296667392\r",
        "60.77107384012198\r",
        "60.78196471357003\r",
        "60.79285558701808\r",
        "60.80374646046614\r",
        "60.81463733391418\r",
        "60.82552820736223\r",
        "60.83641908081028\r",
        "60.847309954258336\r",
        "60.858200827706376\r",
        "60.86909170115443\r",
        "60.87998257460249\r",
        "60.89087344805053\r",
        "60.90176432149859\r",
        "60.91265519494663\r",
        "60.923546068394685\r",
        "60.93443694184274\r",
        "60.94532781529078\r",
        "60.956218688738836\r",
        "60.967109562186884\r",
        "60.97800043563494\r",
        "60.988891309082994\r",
        "60.999782182531035"
       ]
      },
      {
       "output_type": "stream",
       "stream": "stdout",
       "text": [
        "\r",
        "61.01067305597909\r",
        "61.02156392942714\r",
        "61.03245480287519\r",
        "61.04334567632325\r",
        "61.05423654977129\r",
        "61.065127423219344\r",
        "61.07601829666739\r",
        "61.08690917011545\r",
        "61.09780004356349\r",
        "61.10869091701154\r",
        "61.1195817904596\r",
        "61.13047266390764\r",
        "61.141363537355694\r",
        "61.15225441080374\r",
        "61.1631452842518\r",
        "61.17403615769985\r",
        "61.18492703114789\r",
        "61.19581790459595\r",
        "61.206708778043996\r",
        "61.21759965149205\r",
        "61.228490524940106\r",
        "61.23938139838815\r",
        "61.2502722718362\r",
        "61.26116314528425\r",
        "61.272054018732305"
       ]
      },
      {
       "output_type": "stream",
       "stream": "stdout",
       "text": [
        "\r",
        "61.28294489218036\r",
        "61.2938357656284\r",
        "61.304726639076456\r",
        "61.3156175125245\r",
        "61.32650838597256\r",
        "61.33739925942061\r",
        "61.348290132868655\r",
        "61.35918100631671\r",
        "61.37007187976475\r",
        "61.380962753212806\r",
        "61.391853626660854\r",
        "61.40274450010891\r",
        "61.413635373556964\r",
        "61.424526247005005\r",
        "61.43541712045306\r",
        "61.44630799390111\r",
        "61.45719886734916\r",
        "61.46808974079722\r",
        "61.47898061424526\r",
        "61.489871487693314\r",
        "61.50076236114136\r",
        "61.51165323458942\r",
        "61.52254410803747\r",
        "61.53343498148551\r",
        "61.54432585493357"
       ]
      },
      {
       "output_type": "stream",
       "stream": "stdout",
       "text": [
        "\r",
        "61.55521672838161\r",
        "61.566107601829664\r",
        "61.57699847527772\r",
        "61.58788934872577\r",
        "61.59878022217382\r",
        "61.60967109562186\r",
        "61.62056196906992\r",
        "61.63145284251797\r",
        "61.64234371596602\r",
        "61.653234589414076\r",
        "61.66412546286212\r",
        "61.67501633631017\r",
        "61.68590720975822\r",
        "61.696798083206275\r",
        "61.70768895665433\r",
        "61.71857983010237\r",
        "61.729470703550426\r",
        "61.74036157699847\r",
        "61.75125245044653\r",
        "61.76214332389458\r",
        "61.773034197342625\r",
        "61.78392507079068\r",
        "61.79481594423872\r",
        "61.805706817686776\r",
        "61.81659769113483\r",
        "61.82748856458288\r",
        "61.838379438030934\r",
        "61.849270311478975\r",
        "61.86016118492703\r",
        "61.871052058375085\r",
        "61.88194293182313\r",
        "61.89283380527119\r",
        "61.90372467871923\r",
        "61.914615552167284\r",
        "61.92550642561534\r",
        "61.93639729906339\r",
        "61.94728817251144\r",
        "61.95817904595948\r",
        "61.96906991940754\r",
        "61.97996079285558\r",
        "61.990851666303634\r",
        "62.00174253975169\r",
        "62.01263341319974\r",
        "62.02352428664779\r",
        "62.03441516009583\r",
        "62.04530603354389\r",
        "62.05619690699194\r",
        "62.06708778043999\r",
        "62.077978653888046\r",
        "62.08886952733609"
       ]
      },
      {
       "output_type": "stream",
       "stream": "stdout",
       "text": [
        "\r",
        "62.09976040078414\r",
        "62.1106512742322\r",
        "62.121542147680245\r",
        "62.1324330211283\r",
        "62.14332389457634\r",
        "62.154214768024396\r",
        "62.16510564147245\r",
        "62.1759965149205\r",
        "62.18688738836855\r",
        "62.197778261816595\r",
        "62.20866913526465"
       ]
      },
      {
       "output_type": "stream",
       "stream": "stdout",
       "text": [
        "\r",
        "62.21956000871269\r",
        "62.230450882160746\r",
        "62.2413417556088\r",
        "62.25223262905685\r",
        "62.263123502504904\r",
        "62.274014375952945\r",
        "62.284905249401\r",
        "62.295796122849055\r",
        "62.3066869962971\r",
        "62.31757786974516\r",
        "62.3284687431932\r",
        "62.339359616641254\r",
        "62.35025049008931\r",
        "62.36114136353736\r",
        "62.37203223698541\r",
        "62.38292311043345\r",
        "62.39381398388151\r",
        "62.40470485732956\r",
        "62.4155957307776\r",
        "62.42648660422566\r",
        "62.43737747767371\r",
        "62.44826835112176\r",
        "62.45915922456982\r",
        "62.47005009801786\r",
        "62.48094097146591\r",
        "62.49183184491396\r",
        "62.502722718362016\r",
        "62.513613591810056\r",
        "62.52450446525811\r",
        "62.53539533870617\r",
        "62.546286212154214\r",
        "62.55717708560227\r",
        "62.56806795905031\r",
        "62.578958832498365\r",
        "62.58984970594642\r",
        "62.60074057939447\r",
        "62.611631452842516\r",
        "62.622522326290564\r",
        "62.63341319973862\r",
        "62.644304073186674\r",
        "62.655194946634715\r",
        "62.66608582008277\r",
        "62.67697669353082\r",
        "62.68786756697887\r",
        "62.69875844042693"
       ]
      },
      {
       "output_type": "stream",
       "stream": "stdout",
       "text": [
        "\r",
        "62.70964931387497\r",
        "62.720540187323024\r",
        "62.73143106077107\r",
        "62.74232193421913\r",
        "62.75321280766718\r",
        "62.76410368111522\r",
        "62.77499455456328\r",
        "62.785885428011326\r",
        "62.79677630145938\r",
        "62.80766717490742\r",
        "62.81855804835548"
       ]
      },
      {
       "output_type": "stream",
       "stream": "stdout",
       "text": [
        "\r",
        "62.82944892180353\r",
        "62.84033979525157\r",
        "62.85123066869963\r",
        "62.862121542147676\r",
        "62.87301241559573\r",
        "62.883903289043786\r",
        "62.89479416249183\r",
        "62.90568503593988\r",
        "62.91657590938793\r",
        "62.927466782835985\r",
        "62.93835765628404\r",
        "62.94924852973208\r",
        "62.960139403180136\r",
        "62.971030276628184\r",
        "62.98192115007624\r",
        "62.992812023524294\r",
        "63.003702896972335\r",
        "63.01459377042039\r",
        "63.02548464386844\r",
        "63.036375517316486\r",
        "63.04726639076455\r",
        "63.05815726421259\r",
        "63.069048137660644\r",
        "63.079939011108685\r",
        "63.09082988455674\r",
        "63.10172075800479\r",
        "63.11261163145284\r",
        "63.1235025049009"
       ]
      },
      {
       "output_type": "stream",
       "stream": "stdout",
       "text": [
        "\r",
        "63.13439337834894\r",
        "63.145284251796994\r",
        "63.15617512524504\r",
        "63.1670659986931\r",
        "63.17795687214115\r",
        "63.18884774558919\r",
        "63.19973861903725\r",
        "63.210629492485296\r",
        "63.22152036593335\r",
        "63.232411239381406\r",
        "63.24330211282945\r",
        "63.2541929862775\r",
        "63.26508385972554\r",
        "63.2759747331736\r",
        "63.28686560662165\r",
        "63.2977564800697\r",
        "63.308647353517756\r",
        "63.3195382269658\r",
        "63.33042910041385\r",
        "63.34131997386191\r",
        "63.352210847309955\r",
        "63.36310172075801\r",
        "63.37399259420605"
       ]
      },
      {
       "output_type": "stream",
       "stream": "stdout",
       "text": [
        "\r",
        "63.384883467654106\r",
        "63.395774341102154\r",
        "63.40666521455021\r",
        "63.417556087998264\r",
        "63.428446961446305\r",
        "63.43933783489436\r",
        "63.45022870834241\r",
        "63.461119581790456\r",
        "63.47201045523852\r",
        "63.48290132868656\r",
        "63.493792202134614\r",
        "63.504683075582655\r",
        "63.51557394903071\r",
        "63.526464822478765\r",
        "63.53735569592681\r",
        "63.54824656937487\r",
        "63.55913744282291\r",
        "63.570028316270964\r",
        "63.58091918971902\r",
        "63.59181006316707\r",
        "63.60270093661512\r",
        "63.61359181006316\r",
        "63.62448268351122\r",
        "63.635373556959266\r",
        "63.64626443040732"
       ]
      },
      {
       "output_type": "stream",
       "stream": "stdout",
       "text": [
        "\r",
        "63.657155303855376\r",
        "63.66804617730342\r",
        "63.67893705075147\r",
        "63.68982792419951\r",
        "63.70071879764757\r",
        "63.71160967109562\r",
        "63.72250054454367\r",
        "63.733391417991726\r",
        "63.74428229143977\r",
        "63.75517316488782\r",
        "63.76606403833588\r",
        "63.776954911783925\r",
        "63.78784578523198\r",
        "63.79873665868002\r",
        "63.809627532128076\r",
        "63.82051840557613\r",
        "63.83140927902418\r",
        "63.842300152472234\r",
        "63.853191025920275\r",
        "63.86408189936833\r",
        "63.874972772816385\r",
        "63.885863646264426\r",
        "63.89675451971249\r",
        "63.90764539316053\r",
        "63.918536266608584\r",
        "63.929427140056625\r",
        "63.94031801350468\r",
        "63.951208886952735"
       ]
      },
      {
       "output_type": "stream",
       "stream": "stdout",
       "text": [
        "\r",
        "63.96209976040078\r",
        "63.97299063384884\r",
        "63.98388150729688\r",
        "63.994772380744934\r",
        "64.005663254193\r",
        "64.01655412764103\r",
        "64.02744500108909\r",
        "64.03833587453714\r",
        "64.04922674798519\r",
        "64.06011762143325\r",
        "64.07100849488128\r",
        "64.08189936832935\r",
        "64.09279024177738\r",
        "64.10368111522544\r",
        "64.1145719886735\r",
        "64.12546286212154\r",
        "64.1363537355696\r",
        "64.14724460901763\r",
        "64.1581354824657\r",
        "64.16902635591374\r",
        "64.17991722936179"
       ]
      },
      {
       "output_type": "stream",
       "stream": "stdout",
       "text": [
        "\r",
        "64.19080810280985\r",
        "64.20169897625789\r",
        "64.21258984970595\r",
        "64.223480723154\r",
        "64.23437159660205\r",
        "64.24526247005011\r",
        "64.25615334349814\r",
        "64.2670442169462\r",
        "64.27793509039425\r",
        "64.2888259638423\r",
        "64.29971683729036\r",
        "64.3106077107384\r",
        "64.32149858418646\r",
        "64.33238945763449\r",
        "64.34328033108255\r",
        "64.3541712045306\r",
        "64.36506207797865\r",
        "64.37595295142671\r",
        "64.38684382487475\r",
        "64.39773469832281\r",
        "64.40862557177086\r",
        "64.4195164452189\r",
        "64.43040731866697\r",
        "64.441298192115\r",
        "64.45218906556306\r",
        "64.46307993901111\r",
        "64.47397081245916\r",
        "64.48486168590722\r",
        "64.49575255935525\r",
        "64.50664343280332\r",
        "64.51753430625135\r",
        "64.52842517969941\r",
        "64.53931605314747\r",
        "64.55020692659551\r",
        "64.56109780004357\r",
        "64.5719886734916\r",
        "64.58287954693967\r",
        "64.59377042038771\r",
        "64.60466129383576\r",
        "64.61555216728382\r",
        "64.62644304073186\r",
        "64.63733391417992\r",
        "64.64822478762797\r",
        "64.65911566107602\r",
        "64.67000653452408\r",
        "64.68089740797211\r",
        "64.69178828142017\r",
        "64.70267915486822\r",
        "64.71357002831627\r",
        "64.72446090176433"
       ]
      },
      {
       "output_type": "stream",
       "stream": "stdout",
       "text": [
        "\r",
        "64.73535177521237\r",
        "64.74624264866043\r",
        "64.75713352210846\r",
        "64.76802439555652\r",
        "64.77891526900457\r",
        "64.78980614245262\r",
        "64.80069701590068\r",
        "64.81158788934871\r",
        "64.82247876279678\r",
        "64.83336963624483\r",
        "64.84426050969287\r",
        "64.85515138314094\r",
        "64.86604225658897\r",
        "64.87693313003703\r",
        "64.88782400348508\r",
        "64.89871487693313\r",
        "64.90960575038119\r",
        "64.92049662382922\r",
        "64.93138749727729\r",
        "64.94227837072533\r",
        "64.95316924417338\r",
        "64.96406011762144\r",
        "64.97495099106948\r",
        "64.98584186451754\r",
        "64.99673273796559\r",
        "65.00762361141363\r",
        "65.01851448486168\r",
        "65.02940535830973"
       ]
      },
      {
       "output_type": "stream",
       "stream": "stdout",
       "text": [
        "\r",
        "65.0402962317578\r",
        "65.05118710520583\r",
        "65.06207797865389\r",
        "65.07296885210194\r",
        "65.08385972554998\r",
        "65.09475059899805\r",
        "65.10564147244608\r",
        "65.11653234589414\r",
        "65.12742321934219\r",
        "65.13831409279024\r",
        "65.1492049662383\r",
        "65.16009583968633\r",
        "65.1709867131344\r",
        "65.18187758658244\r",
        "65.19276846003049\r",
        "65.20365933347854\r",
        "65.21455020692659\r",
        "65.22544108037465\r",
        "65.2363319538227\r",
        "65.24722282727075\r",
        "65.2581137007188\r",
        "65.26900457416684\r",
        "65.2798954476149\r",
        "65.29078632106295\r",
        "65.301677194511\r",
        "65.31256806795905\r",
        "65.3234589414071"
       ]
      },
      {
       "output_type": "stream",
       "stream": "stdout",
       "text": [
        "\r",
        "65.33434981485516\r",
        "65.34524068830319\r",
        "65.35613156175125\r",
        "65.3670224351993\r",
        "65.37791330864735\r",
        "65.38880418209541\r",
        "65.39969505554345\r",
        "65.41058592899151\r",
        "65.42147680243956\r",
        "65.4323676758876\r",
        "65.44325854933565\r",
        "65.4541494227837\r",
        "65.46504029623176\r",
        "65.47593116967981\r",
        "65.48682204312786\r",
        "65.4977129165759\r",
        "65.50860379002395\r",
        "65.51949466347202\r",
        "65.53038553692006\r",
        "65.54127641036811\r",
        "65.55216728381616\r",
        "65.56305815726421\r",
        "65.57394903071227\r",
        "65.58483990416032\r",
        "65.59573077760837\r",
        "65.60662165105641\r",
        "65.61751252450446\r",
        "65.62840339795251\r",
        "65.63929427140056\r",
        "65.65018514484862\r",
        "65.66107601829667\r",
        "65.67196689174472\r",
        "65.68285776519276\r",
        "65.69374863864081\r",
        "65.70463951208887\r",
        "65.71553038553692\r",
        "65.72642125898497\r",
        "65.73731213243302\r",
        "65.74820300588107\r",
        "65.75909387932913\r",
        "65.76998475277718\r",
        "65.78087562622522\r",
        "65.79176649967327\r",
        "65.80265737312132\r",
        "65.81354824656938\r",
        "65.82443912001743\r",
        "65.83532999346548"
       ]
      },
      {
       "output_type": "stream",
       "stream": "stdout",
       "text": [
        "\r",
        "65.84622086691353"
       ]
      },
      {
       "output_type": "stream",
       "stream": "stdout",
       "text": [
        "\r",
        "65.85711174036157\r",
        "65.86800261380962\r",
        "65.87889348725767\r",
        "65.88978436070573\r",
        "65.90067523415378\r",
        "65.91156610760183\r",
        "65.92245698104988\r",
        "65.93334785449792\r",
        "65.94423872794599\r",
        "65.95512960139403\r",
        "65.96602047484208\r",
        "65.97691134829013\r",
        "65.98780222173818\r",
        "65.99869309518624\r",
        "66.00958396863429\r",
        "66.02047484208234\r",
        "66.03136571553038\r",
        "66.04225658897843\r",
        "66.05314746242648\r",
        "66.06403833587454\r",
        "66.07492920932259\r",
        "66.08582008277064\r",
        "66.09671095621869\r",
        "66.10760182966673\r",
        "66.1184927031148"
       ]
      },
      {
       "output_type": "stream",
       "stream": "stdout",
       "text": [
        "\r",
        "66.12938357656284\r",
        "66.14027445001089\r",
        "66.15116532345894\r",
        "66.16205619690699\r",
        "66.17294707035504\r",
        "66.1838379438031\r",
        "66.19472881725115\r",
        "66.2056196906992\r",
        "66.21651056414724\r",
        "66.22740143759529\r",
        "66.23829231104335\r",
        "66.2491831844914\r",
        "66.26007405793945\r",
        "66.2709649313875\r",
        "66.28185580483554\r",
        "66.29274667828359\r",
        "66.30363755173165"
       ]
      },
      {
       "output_type": "stream",
       "stream": "stdout",
       "text": [
        "\r",
        "66.3145284251797\r",
        "66.32541929862775\r",
        "66.3363101720758\r",
        "66.34720104552385\r",
        "66.35809191897191\r",
        "66.36898279241996\r",
        "66.379873665868\r",
        "66.39076453931605\r",
        "66.4016554127641\r",
        "66.41254628621216\r",
        "66.42343715966021\r",
        "66.43432803310826\r",
        "66.4452189065563\r",
        "66.45610978000435\r",
        "66.4670006534524\r",
        "66.47789152690045\r",
        "66.48878240034851\r",
        "66.49967327379656\r",
        "66.51056414724461\r",
        "66.52145502069266\r",
        "66.5323458941407\r",
        "66.54323676758877\r",
        "66.55412764103681\r",
        "66.56501851448486\r",
        "66.57590938793291\r",
        "66.58680026138096\r",
        "66.59769113482902\r",
        "66.60858200827707\r",
        "66.61947288172512\r",
        "66.63036375517316\r",
        "66.64125462862121\r",
        "66.65214550206927\r",
        "66.66303637551732\r",
        "66.67392724896537\r",
        "66.68481812241342\r",
        "66.69570899586147\r",
        "66.70659986930953\r",
        "66.71749074275756\r",
        "66.72838161620562\r",
        "66.73927248965367\r",
        "66.75016336310172\r",
        "66.76105423654977\r",
        "66.77194510999782\r",
        "66.78283598344588\r",
        "66.79372685689393\r",
        "66.80461773034197\r",
        "66.81550860379002\r",
        "66.82639947723807\r",
        "66.83729035068613\r",
        "66.84818122413418\r",
        "66.85907209758223\r",
        "66.86996297103028"
       ]
      },
      {
       "output_type": "stream",
       "stream": "stdout",
       "text": [
        "\r",
        "66.88085384447832\r",
        "66.89174471792639\r",
        "66.90263559137442\r",
        "66.91352646482248\r",
        "66.92441733827053\r",
        "66.93530821171858\r",
        "66.94619908516664\r",
        "66.95708995861467\r",
        "66.96798083206274\r",
        "66.97887170551078\r",
        "66.98976257895883"
       ]
      },
      {
       "output_type": "stream",
       "stream": "stdout",
       "text": [
        "\r",
        "67.00065345240688\r",
        "67.01154432585493\r",
        "67.02243519930299\r",
        "67.03332607275104\r",
        "67.04421694619909\r",
        "67.05510781964713\r",
        "67.06599869309518\r",
        "67.07688956654324\r",
        "67.08778043999129\r",
        "67.09867131343934\r",
        "67.10956218688739\r",
        "67.12045306033544\r",
        "67.1313439337835\r",
        "67.14223480723153\r",
        "67.1531256806796\r",
        "67.16401655412764\r",
        "67.17490742757569\r",
        "67.18579830102375"
       ]
      },
      {
       "output_type": "stream",
       "stream": "stdout",
       "text": [
        "\r",
        "67.19668917447179\r",
        "67.20758004791985\r",
        "67.2184709213679\r",
        "67.22936179481594\r",
        "67.240252668264\r",
        "67.25114354171204\r",
        "67.2620344151601\r",
        "67.27292528860815\r",
        "67.2838161620562\r",
        "67.29470703550425\r",
        "67.3055979089523\r",
        "67.31648878240036"
       ]
      },
      {
       "output_type": "stream",
       "stream": "stdout",
       "text": [
        "\r",
        "67.32737965584839\r",
        "67.33827052929645\r",
        "67.3491614027445\r",
        "67.36005227619255\r",
        "67.37094314964061\r",
        "67.38183402308864\r",
        "67.3927248965367\r",
        "67.40361576998475\r",
        "67.4145066434328\r",
        "67.42539751688086\r",
        "67.4362883903289\r",
        "67.44717926377696\r",
        "67.45807013722501\r",
        "67.46896101067306\r",
        "67.47985188412112\r",
        "67.49074275756915\r",
        "67.50163363101721\r",
        "67.51252450446526\r",
        "67.52341537791331"
       ]
      },
      {
       "output_type": "stream",
       "stream": "stdout",
       "text": [
        "\r",
        "67.53430625136136\r",
        "67.5451971248094\r",
        "67.55608799825747\r",
        "67.5669788717055\r",
        "67.57786974515356\r",
        "67.58876061860161\r",
        "67.59965149204966\r",
        "67.61054236549772\r",
        "67.62143323894576\r",
        "67.63232411239382\r",
        "67.64321498584187\r",
        "67.65410585928991\r",
        "67.66499673273798"
       ]
      },
      {
       "output_type": "stream",
       "stream": "stdout",
       "text": [
        "\r",
        "67.67588760618601\r",
        "67.68677847963407\r",
        "67.69766935308212\r",
        "67.70856022653017\r",
        "67.71945109997823\r",
        "67.73034197342626\r",
        "67.74123284687433\r",
        "67.75212372032236\r",
        "67.76301459377042\r",
        "67.77390546721847\r",
        "67.78479634066652\r",
        "67.79568721411458\r",
        "67.80657808756261\r",
        "67.81746896101068"
       ]
      },
      {
       "output_type": "stream",
       "stream": "stdout",
       "text": [
        "\r",
        "67.82835983445872\r",
        "67.83925070790677\r",
        "67.85014158135483\r",
        "67.86103245480287\r",
        "67.87192332825093\r",
        "67.88281420169898\r",
        "67.89370507514703\r",
        "67.90459594859509\r",
        "67.91548682204312\r",
        "67.92637769549118\r",
        "67.93726856893923\r",
        "67.94815944238728\r",
        "67.95905031583533\r",
        "67.96994118928338\r",
        "67.98083206273144\r",
        "67.99172293617947\r",
        "68.00261380962753\r",
        "68.01350468307558\r",
        "68.02439555652363"
       ]
      },
      {
       "output_type": "stream",
       "stream": "stdout",
       "text": [
        "\r",
        "68.03528642997169\r",
        "68.04617730341973\r",
        "68.05706817686779\r",
        "68.06795905031584\r",
        "68.07884992376388\r",
        "68.08974079721195\r",
        "68.10063167065998\r",
        "68.11152254410804\r",
        "68.12241341755609\r",
        "68.13330429100414\r",
        "68.1441951644522\r",
        "68.15508603790023\r",
        "68.1659769113483\r",
        "68.17686778479633\r",
        "68.18775865824439\r",
        "68.19864953169244\r",
        "68.20954040514049\r",
        "68.22043127858855\r",
        "68.23132215203658\r",
        "68.24221302548465"
       ]
      },
      {
       "output_type": "stream",
       "stream": "stdout",
       "text": [
        "\r",
        "68.2531038989327\r",
        "68.26399477238074\r",
        "68.2748856458288\r",
        "68.28577651927684\r",
        "68.2966673927249\r",
        "68.30755826617295\r",
        "68.318449139621\r",
        "68.32934001306906\r",
        "68.34023088651709\r",
        "68.35112175996515\r",
        "68.3620126334132\r",
        "68.37290350686125\r",
        "68.3837943803093\r",
        "68.39468525375734\r",
        "68.4055761272054\r",
        "68.41646700065344\r",
        "68.4273578741015\r",
        "68.43824874754955\r",
        "68.4491396209976\r",
        "68.46003049444566\r",
        "68.4709213678937\r",
        "68.48181224134176\r",
        "68.4927031147898\r",
        "68.50359398823785\r",
        "68.51448486168592\r",
        "68.52537573513395\r",
        "68.53626660858201\r",
        "68.54715748203006\r",
        "68.5580483554781\r",
        "68.56893922892617\r",
        "68.5798301023742\r",
        "68.59072097582226\r",
        "68.60161184927031\r",
        "68.61250272271836\r",
        "68.62339359616641\r",
        "68.63428446961446"
       ]
      },
      {
       "output_type": "stream",
       "stream": "stdout",
       "text": [
        "\r",
        "68.64517534306252\r",
        "68.65606621651057\r",
        "68.66695708995861"
       ]
      },
      {
       "output_type": "stream",
       "stream": "stdout",
       "text": [
        "\r",
        "68.67784796340666\r",
        "68.68873883685471\r",
        "68.69962971030277\r",
        "68.7105205837508\r",
        "68.72141145719887\r",
        "68.73230233064692\r",
        "68.74319320409496\r",
        "68.75408407754303\r",
        "68.76497495099106\r",
        "68.77586582443912"
       ]
      },
      {
       "output_type": "stream",
       "stream": "stdout",
       "text": [
        "\r",
        "68.78675669788717\r",
        "68.79764757133522\r",
        "68.80853844478327\r",
        "68.81942931823131\r",
        "68.83032019167938\r",
        "68.84121106512742\r",
        "68.85210193857547\r",
        "68.86299281202352\r",
        "68.87388368547157\r",
        "68.88477455891963\r",
        "68.89566543236768\r",
        "68.90655630581573\r",
        "68.91744717926377\r",
        "68.92833805271182\r",
        "68.93922892615988\r",
        "68.95011979960793\r",
        "68.96101067305598\r",
        "68.97190154650403\r",
        "68.98279241995208\r",
        "68.99368329340014\r",
        "69.00457416684817\r",
        "69.01546504029623\r",
        "69.02635591374428\r",
        "69.03724678719233\r",
        "69.04813766064038\r",
        "69.05902853408843\r",
        "69.06991940753649"
       ]
      },
      {
       "output_type": "stream",
       "stream": "stdout",
       "text": [
        "\r",
        "69.08081028098454\r",
        "69.09170115443258\r",
        "69.10259202788063\r",
        "69.11348290132868\r",
        "69.12437377477674\r",
        "69.13526464822479\r",
        "69.14615552167284\r",
        "69.15704639512089\r",
        "69.16793726856893"
       ]
      },
      {
       "output_type": "stream",
       "stream": "stdout",
       "text": [
        "\r",
        "69.178828142017\r",
        "69.18971901546504\r",
        "69.20060988891309\r",
        "69.21150076236114\r",
        "69.22239163580919\r",
        "69.23328250925724\r",
        "69.24417338270528"
       ]
      },
      {
       "output_type": "stream",
       "stream": "stdout",
       "text": [
        "\r",
        "69.25506425615335\r",
        "69.2659551296014\r",
        "69.27684600304944\r",
        "69.28773687649749\r",
        "69.29862774994554\r",
        "69.3095186233936\r",
        "69.32040949684165\r",
        "69.3313003702897\r",
        "69.34219124373774\r",
        "69.35308211718579\r",
        "69.36397299063385\r",
        "69.3748638640819\r",
        "69.38575473752995"
       ]
      },
      {
       "output_type": "stream",
       "stream": "stdout",
       "text": [
        "\r",
        "69.396645610978\r",
        "69.40753648442605\r",
        "69.41842735787411\r",
        "69.42931823132216\r",
        "69.4402091047702\r",
        "69.45109997821825\r",
        "69.4619908516663\r",
        "69.47288172511435\r",
        "69.48377259856241\r",
        "69.49466347201046\r",
        "69.5055543454585\r",
        "69.51644521890655\r",
        "69.5273360923546\r",
        "69.53822696580265\r",
        "69.54911783925071\r",
        "69.56000871269876\r",
        "69.57089958614681\r",
        "69.58179045959486"
       ]
      },
      {
       "output_type": "stream",
       "stream": "stdout",
       "text": [
        "\r",
        "69.5926813330429\r",
        "69.60357220649097\r",
        "69.61446307993901\r",
        "69.62535395338706\r",
        "69.63624482683511\r",
        "69.64713570028316\r",
        "69.6580265737312\r",
        "69.66891744717927\r",
        "69.67980832062732\r",
        "69.69069919407536\r",
        "69.70159006752341\r",
        "69.71248094097146\r",
        "69.72337181441952\r",
        "69.73426268786757\r",
        "69.74515356131562\r",
        "69.75604443476367"
       ]
      },
      {
       "output_type": "stream",
       "stream": "stdout",
       "text": [
        "\r",
        "69.76693530821171\r",
        "69.77782618165978\r",
        "69.78871705510782\r",
        "69.79960792855587\r",
        "69.81049880200392\r",
        "69.82138967545197\r",
        "69.83228054890002\r",
        "69.84317142234808\r",
        "69.85406229579613\r",
        "69.86495316924417\r",
        "69.87584404269222\r",
        "69.88673491614027\r",
        "69.89762578958832\r",
        "69.90851666303638\r",
        "69.91940753648443\r",
        "69.93029840993248\r",
        "69.94118928338052\r",
        "69.95208015682857\r",
        "69.96297103027663\r",
        "69.97386190372468\r",
        "69.98475277717273\r",
        "69.99564365062078\r",
        "70.00653452406883\r",
        "70.01742539751689\r",
        "70.02831627096494"
       ]
      },
      {
       "output_type": "stream",
       "stream": "stdout",
       "text": [
        "\r",
        "70.03920714441298\r",
        "70.05009801786103\r",
        "70.06098889130908\r",
        "70.07187976475714\r",
        "70.08277063820518\r",
        "70.09366151165324\r",
        "70.10455238510129\r",
        "70.11544325854933\r",
        "70.12633413199738\r",
        "70.13722500544543\r",
        "70.14811587889349\r",
        "70.15900675234154\r",
        "70.16989762578959\r",
        "70.18078849923764\r",
        "70.19167937268568\r",
        "70.20257024613375\r",
        "70.2134611195818\r",
        "70.22435199302984\r",
        "70.23524286647789\r",
        "70.24613373992594\r",
        "70.257024613374\r",
        "70.26791548682205\r",
        "70.2788063602701\r",
        "70.28969723371814\r",
        "70.30058810716619\r",
        "70.31147898061425\r",
        "70.32236985406229\r",
        "70.33326072751035\r",
        "70.3441516009584\r",
        "70.35504247440645\r",
        "70.3659333478545\r",
        "70.37682422130254\r",
        "70.3877150947506\r",
        "70.39860596819865\r",
        "70.4094968416467\r",
        "70.42038771509475\r",
        "70.4312785885428\r",
        "70.44216946199086\r",
        "70.4530603354389\r",
        "70.46395120888695\r",
        "70.474842082335\r",
        "70.48573295578305"
       ]
      },
      {
       "output_type": "stream",
       "stream": "stdout",
       "text": [
        "\r",
        "70.49662382923111\r",
        "70.50751470267915\r",
        "70.51840557612721\r",
        "70.52929644957526\r",
        "70.5401873230233\r",
        "70.55107819647137\r",
        "70.5619690699194\r",
        "70.57285994336746\r",
        "70.58375081681551\r",
        "70.59464169026356\r",
        "70.60553256371162\r",
        "70.61642343715965\r",
        "70.62731431060772\r",
        "70.63820518405576\r",
        "70.64909605750381\r",
        "70.65998693095186\r",
        "70.67087780439991\r",
        "70.68176867784797\r",
        "70.69265955129602\r",
        "70.70355042474407\r",
        "70.71444129819211\r",
        "70.72533217164016\r",
        "70.73622304508822\r",
        "70.74711391853626\r",
        "70.75800479198432\r",
        "70.76889566543237\r",
        "70.77978653888042\r",
        "70.79067741232848\r",
        "70.80156828577651\r",
        "70.81245915922457\r",
        "70.82335003267262\r",
        "70.83424090612067\r",
        "70.84513177956873\r",
        "70.85602265301677\r",
        "70.86691352646483\r",
        "70.87780439991288\r",
        "70.88869527336092\r",
        "70.89958614680899\r",
        "70.91047702025702\r",
        "70.92136789370508\r",
        "70.93225876715312\r",
        "70.94314964060118"
       ]
      },
      {
       "output_type": "stream",
       "stream": "stdout",
       "text": [
        "\r",
        "70.95404051404923\r",
        "70.96493138749727\r",
        "70.97582226094534\r",
        "70.98671313439337\r",
        "70.99760400784143\r",
        "71.00849488128948\r",
        "71.01938575473753\r",
        "71.03027662818559\r",
        "71.04116750163362\r",
        "71.05205837508169\r",
        "71.06294924852973\r",
        "71.07384012197778\r",
        "71.08473099542584\r",
        "71.09562186887388\r",
        "71.10651274232194\r",
        "71.11740361576999\r",
        "71.12829448921804\r",
        "71.1391853626661\r",
        "71.15007623611413\r",
        "71.1609671095622\r",
        "71.17185798301023\r",
        "71.18274885645829\r",
        "71.19363972990634\r",
        "71.20453060335439\r",
        "71.21542147680245"
       ]
      },
      {
       "output_type": "stream",
       "stream": "stdout",
       "text": [
        "\r",
        "71.22631235025048\r",
        "71.23720322369854\r",
        "71.24809409714659\r",
        "71.25898497059464\r",
        "71.2698758440427\r",
        "71.28076671749074\r",
        "71.2916575909388\r",
        "71.30254846438685\r",
        "71.3134393378349\r",
        "71.32433021128296\r",
        "71.33522108473099\r",
        "71.34611195817905\r",
        "71.35700283162709\r",
        "71.36789370507515\r",
        "71.37878457852321\r",
        "71.38967545197124\r",
        "71.4005663254193\r",
        "71.41145719886734\r",
        "71.4223480723154\r",
        "71.43323894576345\r",
        "71.4441298192115\r",
        "71.45502069265956\r",
        "71.4659115661076\r",
        "71.47680243955566\r",
        "71.4876933130037\r",
        "71.49858418645175\r",
        "71.50947505989981\r",
        "71.52036593334785\r",
        "71.53125680679591\r",
        "71.54214768024396\r",
        "71.553038553692\r",
        "71.56392942714007\r",
        "71.5748203005881\r",
        "71.58571117403616\r",
        "71.5966020474842"
       ]
      },
      {
       "output_type": "stream",
       "stream": "stdout",
       "text": [
        "\r",
        "71.60749292093226\r",
        "71.6183837943803\r",
        "71.62927466782835\r",
        "71.64016554127642\r",
        "71.65105641472445\r",
        "71.66194728817251\r",
        "71.67283816162056\r",
        "71.68372903506861\r",
        "71.69461990851667\r",
        "71.7055107819647\r",
        "71.71640165541277\r",
        "71.72729252886081\r",
        "71.73818340230886\r",
        "71.74907427575693\r",
        "71.75996514920496\r",
        "71.77085602265302\r",
        "71.78174689610105\r",
        "71.79263776954912\r",
        "71.80352864299718\r",
        "71.81441951644521\r",
        "71.82531038989327\r",
        "71.83620126334131\r",
        "71.84709213678937\r",
        "71.85798301023742\r",
        "71.86887388368547\r",
        "71.87976475713353\r",
        "71.89065563058156\r",
        "71.90154650402962\r",
        "71.91243737747767\r",
        "71.92332825092572\r",
        "71.93421912437378\r",
        "71.94510999782182\r",
        "71.95600087126988\r",
        "71.96689174471793\r",
        "71.97778261816597\r",
        "71.98867349161404\r",
        "71.99956436506207\r",
        "72.01045523851013\r",
        "72.02134611195818\r",
        "72.03223698540623\r",
        "72.04312785885428\r",
        "72.05401873230232\r",
        "72.06490960575039\r",
        "72.07580047919842"
       ]
      },
      {
       "output_type": "stream",
       "stream": "stdout",
       "text": [
        "\r",
        "72.08669135264648\r",
        "72.09758222609453\r",
        "72.10847309954258\r",
        "72.11936397299064\r",
        "72.13025484643867\r",
        "72.14114571988674\r",
        "72.15203659333478\r",
        "72.16292746678283\r",
        "72.1738183402309\r",
        "72.18470921367893\r",
        "72.19560008712699\r",
        "72.20649096057504\r",
        "72.21738183402309\r",
        "72.22827270747115\r",
        "72.23916358091918\r",
        "72.25005445436724\r",
        "72.26094532781529\r",
        "72.27183620126334\r",
        "72.28272707471139\r",
        "72.29361794815944\r",
        "72.3045088216075\r",
        "72.31539969505555\r",
        "72.3262905685036\r",
        "72.33718144195164\r",
        "72.34807231539969"
       ]
      },
      {
       "output_type": "stream",
       "stream": "stdout",
       "text": [
        "\r",
        "72.35896318884775\r",
        "72.36985406229579\r",
        "72.38074493574385\r",
        "72.3916358091919\r",
        "72.40252668263994\r",
        "72.413417556088\r",
        "72.42430842953604\r",
        "72.4351993029841\r",
        "72.44609017643215"
       ]
      },
      {
       "output_type": "stream",
       "stream": "stdout",
       "text": [
        "\r",
        "72.4569810498802\r",
        "72.46787192332825\r",
        "72.4787627967763\r",
        "72.48965367022436\r",
        "72.5005445436724\r",
        "72.51143541712045\r",
        "72.5223262905685\r",
        "72.53321716401655\r",
        "72.54410803746461\r",
        "72.55499891091266\r",
        "72.5658897843607\r",
        "72.57678065780875\r",
        "72.5876715312568\r",
        "72.59856240470486\r",
        "72.60945327815291\r",
        "72.62034415160096\r",
        "72.63123502504901\r",
        "72.64212589849706\r",
        "72.65301677194512\r",
        "72.66390764539315\r",
        "72.67479851884121\r",
        "72.68568939228926\r",
        "72.69658026573731\r",
        "72.70747113918536\r",
        "72.7183620126334\r",
        "72.72925288608147\r",
        "72.74014375952952\r",
        "72.75103463297756\r",
        "72.76192550642561"
       ]
      },
      {
       "output_type": "stream",
       "stream": "stdout",
       "text": [
        "\r",
        "72.77281637987366\r",
        "72.78370725332172\r",
        "72.79459812676977\r",
        "72.80548900021782\r",
        "72.81637987366587\r",
        "72.82727074711391\r",
        "72.83816162056198\r",
        "72.84905249401002\r",
        "72.85994336745807\r",
        "72.87083424090612\r",
        "72.88172511435417\r",
        "72.89261598780222\r",
        "72.90350686125026\r",
        "72.91439773469833"
       ]
      },
      {
       "output_type": "stream",
       "stream": "stdout",
       "text": [
        "\r",
        "72.92528860814637\r",
        "72.93617948159442\r",
        "72.94707035504247\r",
        "72.95796122849052\r",
        "72.96885210193858\r",
        "72.97974297538663\r",
        "72.99063384883468\r",
        "73.00152472228272\r",
        "73.01241559573077\r",
        "73.02330646917883\r",
        "73.03419734262688\r",
        "73.04508821607493\r",
        "73.05597908952298\r",
        "73.06686996297103\r",
        "73.07776083641909\r",
        "73.08865170986714\r",
        "73.09954258331518\r",
        "73.11043345676323\r",
        "73.12132433021128\r",
        "73.13221520365933\r",
        "73.14310607710739\r",
        "73.15399695055544\r",
        "73.16488782400349\r",
        "73.17577869745153\r",
        "73.18666957089958\r",
        "73.19756044434763\r",
        "73.20845131779569\r",
        "73.21934219124374\r",
        "73.23023306469179\r",
        "73.24112393813984\r",
        "73.25201481158788\r",
        "73.26290568503595\r",
        "73.273796558484\r",
        "73.28468743193204\r",
        "73.29557830538009\r",
        "73.30646917882814"
       ]
      },
      {
       "output_type": "stream",
       "stream": "stdout",
       "text": [
        "\r",
        "73.31736005227619\r",
        "73.32825092572425\r",
        "73.3391417991723\r",
        "73.35003267262034\r",
        "73.36092354606839\r",
        "73.37181441951644"
       ]
      },
      {
       "output_type": "stream",
       "stream": "stdout",
       "text": [
        "\r",
        "73.3827052929645\r",
        "73.39359616641255\r",
        "73.4044870398606\r",
        "73.41537791330865\r",
        "73.4262687867567\r",
        "73.43715966020476\r",
        "73.4480505336528\r",
        "73.45894140710085"
       ]
      },
      {
       "output_type": "stream",
       "stream": "stdout",
       "text": [
        "\r",
        "73.4698322805489\r",
        "73.48072315399695\r",
        "73.491614027445\r",
        "73.50250490089306\r",
        "73.5133957743411\r",
        "73.52428664778915\r",
        "73.5351775212372\r",
        "73.54606839468525\r",
        "73.5569592681333\r",
        "73.56785014158136\r",
        "73.57874101502941\r",
        "73.58963188847746\r",
        "73.6005227619255\r",
        "73.61141363537355\r",
        "73.62230450882161\r",
        "73.63319538226966\r",
        "73.64408625571771\r",
        "73.65497712916576\r",
        "73.6658680026138\r",
        "73.67675887606187\r",
        "73.68764974950992\r",
        "73.69854062295796\r",
        "73.70943149640601\r",
        "73.72032236985406\r",
        "73.73121324330212\r",
        "73.74210411675016\r",
        "73.75299499019822\r",
        "73.76388586364627\r",
        "73.77477673709431\r",
        "73.78566761054236\r",
        "73.79655848399041\r",
        "73.80744935743847\r",
        "73.81834023088652\r",
        "73.82923110433457\r",
        "73.84012197778262\r",
        "73.85101285123066\r",
        "73.86190372467873\r",
        "73.87279459812677\r",
        "73.88368547157482"
       ]
      },
      {
       "output_type": "stream",
       "stream": "stdout",
       "text": [
        "\r",
        "73.89457634502287\r",
        "73.90546721847092\r",
        "73.91635809191898\r",
        "73.92724896536703\r",
        "73.93813983881508\r",
        "73.94903071226312\r",
        "73.95992158571117\r",
        "73.97081245915923\r",
        "73.98170333260727\r",
        "73.99259420605533\r",
        "74.00348507950338\r",
        "74.01437595295143\r",
        "74.02526682639947\r",
        "74.03615769984752\r",
        "74.04704857329558\r",
        "74.05793944674363\r",
        "74.06883032019168\r",
        "74.07972119363973\r",
        "74.09061206708778\r",
        "74.10150294053584"
       ]
      },
      {
       "output_type": "stream",
       "stream": "stdout",
       "text": [
        "\r",
        "74.11239381398389\r",
        "74.12328468743193\r",
        "74.13417556087998\r",
        "74.14506643432803\r",
        "74.15595730777609\r",
        "74.16684818122413\r",
        "74.17773905467219\r",
        "74.18862992812024\r",
        "74.19952080156828\r",
        "74.21041167501635\r",
        "74.22130254846438\r",
        "74.23219342191244\r",
        "74.24308429536049\r",
        "74.25397516880854\r",
        "74.2648660422566\r",
        "74.27575691570463\r",
        "74.2866477891527\r",
        "74.29753866260074\r",
        "74.30842953604879\r",
        "74.31932040949684\r",
        "74.33021128294489\r",
        "74.34110215639295\r",
        "74.351993029841\r",
        "74.36288390328905\r",
        "74.3737747767371\r",
        "74.38466565018514\r",
        "74.3955565236332\r",
        "74.40644739708124\r",
        "74.4173382705293\r",
        "74.42822914397735\r",
        "74.4391200174254\r",
        "74.45001089087346\r",
        "74.46090176432149\r",
        "74.47179263776955\r",
        "74.4826835112176\r",
        "74.49357438466565\r",
        "74.50446525811371\r",
        "74.51535613156175"
       ]
      },
      {
       "output_type": "stream",
       "stream": "stdout",
       "text": [
        "\r",
        "74.52624700500981\r",
        "74.53713787845786\r",
        "74.5480287519059\r",
        "74.55891962535397\r",
        "74.569810498802\r",
        "74.58070137225006\r",
        "74.5915922456981\r",
        "74.60248311914616\r",
        "74.6133739925942\r",
        "74.62426486604225\r",
        "74.63515573949032\r",
        "74.64604661293835\r",
        "74.65693748638641\r",
        "74.66782835983446\r",
        "74.67871923328251\r",
        "74.68961010673057\r",
        "74.7005009801786\r",
        "74.71139185362667\r",
        "74.72228272707471\r",
        "74.73317360052276\r",
        "74.74406447397082\r",
        "74.75495534741886\r",
        "74.76584622086692\r",
        "74.77673709431497\r",
        "74.78762796776302\r",
        "74.79851884121106\r",
        "74.80940971465911\r",
        "74.82030058810717\r",
        "74.8311914615552\r",
        "74.84208233500327\r",
        "74.85297320845132\r",
        "74.86386408189937\r",
        "74.87475495534743\r",
        "74.88564582879546\r",
        "74.89653670224352\r",
        "74.90742757569157\r",
        "74.91831844913962\r",
        "74.92920932258768\r",
        "74.94010019603571\r",
        "74.95099106948378"
       ]
      },
      {
       "output_type": "stream",
       "stream": "stdout",
       "text": [
        "\r",
        "74.96188194293183\r",
        "74.97277281637987\r",
        "74.98366368982794\r",
        "74.99455456327597\r",
        "75.00544543672403\r",
        "75.01633631017206\r",
        "75.02722718362013\r",
        "75.03811805706817\r",
        "75.04900893051622\r",
        "75.05989980396429\r",
        "75.07079067741232\r",
        "75.08168155086038\r",
        "75.09257242430843\r",
        "75.10346329775648\r",
        "75.11435417120454\r",
        "75.12524504465257\r",
        "75.13613591810063\r",
        "75.14702679154868\r",
        "75.15791766499673\r",
        "75.1688085384448\r",
        "75.17969941189283\r",
        "75.19059028534089\r",
        "75.20148115878894\r",
        "75.21237203223698\r",
        "75.22326290568503\r",
        "75.23415377913308\r",
        "75.24504465258114\r",
        "75.25593552602918\r",
        "75.26682639947724\r",
        "75.27771727292529\r",
        "75.28860814637333\r",
        "75.2994990198214\r",
        "75.31038989326943\r",
        "75.32128076671749\r",
        "75.33217164016554\r",
        "75.34306251361359\r",
        "75.35395338706165\r",
        "75.36484426050968\r",
        "75.37573513395775\r",
        "75.3866260074058\r",
        "75.39751688085384\r",
        "75.4084077543019\r",
        "75.41929862774994"
       ]
      },
      {
       "output_type": "stream",
       "stream": "stdout",
       "text": [
        "\r",
        "75.430189501198\r",
        "75.44108037464603\r",
        "75.4519712480941\r",
        "75.46286212154214\r",
        "75.47375299499019\r",
        "75.48464386843825\r",
        "75.49553474188629\r",
        "75.50642561533435\r",
        "75.5173164887824\r",
        "75.52820736223045\r",
        "75.53909823567851\r",
        "75.54998910912654\r",
        "75.5608799825746\r",
        "75.57177085602265\r",
        "75.5826617294707\r",
        "75.59355260291876\r",
        "75.6044434763668\r",
        "75.61533434981486\r",
        "75.6262252232629\r",
        "75.63711609671095\r",
        "75.648006970159\r",
        "75.65889784360705\r",
        "75.66978871705511\r",
        "75.68067959050316\r",
        "75.69157046395121\r",
        "75.70246133739926\r",
        "75.7133522108473\r",
        "75.72424308429537\r",
        "75.7351339577434\r",
        "75.74602483119146\r",
        "75.75691570463951\r",
        "75.76780657808756\r",
        "75.77869745153562\r",
        "75.78958832498365\r",
        "75.80047919843172\r",
        "75.81137007187976\r",
        "75.82226094532781\r",
        "75.83315181877587\r",
        "75.84404269222391\r",
        "75.85493356567197\r",
        "75.86582443912002\r",
        "75.87671531256807\r",
        "75.88760618601611\r",
        "75.89849705946416\r",
        "75.90938793291222\r",
        "75.92027880636027\r",
        "75.93116967980832\r",
        "75.94206055325637\r",
        "75.95295142670442\r",
        "75.96384230015248\r",
        "75.97473317360053\r",
        "75.98562404704857\r",
        "75.99651492049662\r",
        "76.00740579394467\r",
        "76.01829666739273\r",
        "76.02918754084077\r",
        "76.04007841428883\r",
        "76.05096928773688\r",
        "76.06186016118492\r",
        "76.07275103463297\r",
        "76.08364190808102\r",
        "76.09453278152908\r",
        "76.10542365497713\r",
        "76.11631452842518\r",
        "76.12720540187323\r",
        "76.13809627532127\r",
        "76.14898714876934\r",
        "76.15987802221738"
       ]
      },
      {
       "output_type": "stream",
       "stream": "stdout",
       "text": [
        "\r",
        "76.17076889566543\r",
        "76.18165976911348\r",
        "76.19255064256153\r",
        "76.20344151600959\r",
        "76.21433238945764\r",
        "76.22522326290569\r",
        "76.23611413635373\r",
        "76.24700500980178\r",
        "76.25789588324984\r",
        "76.26878675669788\r",
        "76.27967763014594\r",
        "76.29056850359399\r",
        "76.30145937704204\r",
        "76.31235025049008\r",
        "76.32324112393813"
       ]
      },
      {
       "output_type": "stream",
       "stream": "stdout",
       "text": [
        "\r",
        "76.3341319973862\r",
        "76.34502287083424\r",
        "76.35591374428229\r",
        "76.36680461773034\r",
        "76.37769549117839\r",
        "76.38858636462645\r",
        "76.3994772380745\r",
        "76.41036811152254\r",
        "76.42125898497059\r",
        "76.43214985841864\r",
        "76.4430407318667\r",
        "76.45393160531475\r",
        "76.4648224787628\r",
        "76.47571335221085\r",
        "76.4866042256589\r",
        "76.49749509910694\r",
        "76.508385972555\r",
        "76.51927684600305\r",
        "76.5301677194511\r",
        "76.54105859289915\r",
        "76.5519494663472\r",
        "76.56284033979524\r",
        "76.5737312132433\r",
        "76.58462208669135\r",
        "76.5955129601394\r",
        "76.60640383358745\r",
        "76.6172947070355\r",
        "76.62818558048356\r",
        "76.63907645393161\r",
        "76.64996732737966\r",
        "76.6608582008277\r",
        "76.67174907427575\r",
        "76.68263994772381\r",
        "76.69353082117186\r",
        "76.70442169461991\r",
        "76.71531256806796"
       ]
      },
      {
       "output_type": "stream",
       "stream": "stdout",
       "text": [
        "\r",
        "76.726203441516\r",
        "76.73709431496405\r",
        "76.74798518841212\r",
        "76.75887606186016\r",
        "76.76976693530821\r",
        "76.78065780875626\r",
        "76.79154868220431\r",
        "76.80243955565237\r",
        "76.81333042910042\r",
        "76.82422130254847\r",
        "76.83511217599651\r",
        "76.84600304944456\r",
        "76.85689392289261\r",
        "76.86778479634067\r",
        "76.87867566978872\r",
        "76.88956654323677\r",
        "76.90045741668482\r",
        "76.91134829013286\r",
        "76.92223916358091\r",
        "76.93313003702897\r",
        "76.94402091047702\r",
        "76.95491178392507\r",
        "76.96580265737312\r",
        "76.97669353082117\r",
        "76.98758440426923\r",
        "76.99847527771728\r",
        "77.00936615116532\r",
        "77.02025702461337\r",
        "77.03114789806142\r",
        "77.04203877150948\r",
        "77.05292964495753\r",
        "77.06382051840558\r",
        "77.07471139185363\r",
        "77.08560226530167\r",
        "77.09649313874974\r",
        "77.10738401219778\r",
        "77.11827488564583\r",
        "77.12916575909388\r",
        "77.14005663254193\r",
        "77.15094750598998\r",
        "77.16183837943802\r",
        "77.17272925288609\r",
        "77.18362012633413\r",
        "77.19451099978218\r",
        "77.20540187323023\r",
        "77.21629274667828\r",
        "77.22718362012634\r",
        "77.23807449357439\r",
        "77.24896536702244\r",
        "77.25985624047048"
       ]
      },
      {
       "output_type": "stream",
       "stream": "stdout",
       "text": [
        "\r",
        "77.27074711391853\r",
        "77.2816379873666\r",
        "77.29252886081464\r",
        "77.30341973426269\r",
        "77.31431060771074\r",
        "77.32520148115879\r",
        "77.33609235460685\r",
        "77.34698322805488\r",
        "77.35787410150294\r",
        "77.36876497495099\r",
        "77.37965584839904\r",
        "77.39054672184709\r",
        "77.40143759529514\r",
        "77.4123284687432\r",
        "77.42321934219125\r",
        "77.4341102156393\r",
        "77.44500108908734\r",
        "77.45589196253539\r",
        "77.46678283598345\r",
        "77.4776737094315\r",
        "77.48856458287955\r",
        "77.4994554563276\r",
        "77.51034632977564\r",
        "77.5212372032237\r",
        "77.53212807667175"
       ]
      },
      {
       "output_type": "stream",
       "stream": "stdout",
       "text": [
        "\r",
        "77.5430189501198\r",
        "77.55390982356785\r",
        "77.5648006970159\r",
        "77.57569157046396\r",
        "77.586582443912\r",
        "77.59747331736006\r",
        "77.6083641908081\r",
        "77.61925506425615\r",
        "77.63014593770421\r",
        "77.64103681115225\r",
        "77.65192768460031\r",
        "77.66281855804836\r",
        "77.6737094314964\r",
        "77.68460030494445\r",
        "77.6954911783925\r",
        "77.70638205184056\r",
        "77.71727292528861\r",
        "77.72816379873666\r",
        "77.73905467218471\r",
        "77.74994554563276\r",
        "77.76083641908082\r",
        "77.77172729252885\r",
        "77.78261816597691\r",
        "77.79350903942496\r",
        "77.80439991287301\r",
        "77.81529078632107\r",
        "77.8261816597691\r",
        "77.83707253321717\r",
        "77.84796340666522\r",
        "77.85885428011326\r",
        "77.86974515356133\r",
        "77.88063602700936\r",
        "77.89152690045742\r",
        "77.90241777390547\r",
        "77.91330864735352\r",
        "77.92419952080158\r",
        "77.93509039424961\r",
        "77.94598126769768\r",
        "77.95687214114572\r",
        "77.96776301459377\r",
        "77.97865388804182\r",
        "77.98954476148987\r",
        "78.00043563493793\r",
        "78.01132650838596\r",
        "78.02221738183403\r",
        "78.03310825528207\r",
        "78.04399912873012"
       ]
      },
      {
       "output_type": "stream",
       "stream": "stdout",
       "text": [
        "\r",
        "78.05489000217818\r",
        "78.06578087562622\r",
        "78.07667174907428\r",
        "78.08756262252233\r",
        "78.09845349597038\r",
        "78.10934436941844\r",
        "78.12023524286647\r",
        "78.13112611631453\r",
        "78.14201698976258\r",
        "78.15290786321063\r",
        "78.16379873665869\r",
        "78.17468961010673\r",
        "78.18558048355479\r",
        "78.19647135700282\r",
        "78.20736223045088\r",
        "78.21825310389895\r",
        "78.22914397734698\r",
        "78.24003485079504\r",
        "78.25092572424307\r",
        "78.26181659769114\r",
        "78.27270747113919\r",
        "78.28359834458723\r",
        "78.2944892180353\r",
        "78.30538009148333\r",
        "78.31627096493139\r",
        "78.32716183837944\r",
        "78.33805271182749\r",
        "78.34894358527555\r",
        "78.35983445872358\r",
        "78.37072533217165\r",
        "78.3816162056197\r",
        "78.39250707906774\r",
        "78.4033979525158\r",
        "78.41428882596384\r",
        "78.4251796994119\r",
        "78.43607057285993\r",
        "78.446961446308\r",
        "78.45785231975604\r",
        "78.46874319320409\r",
        "78.47963406665215\r",
        "78.49052494010019\r",
        "78.50141581354825\r",
        "78.5123066869963\r",
        "78.52319756044434\r",
        "78.5340884338924\r",
        "78.54497930734044\r",
        "78.5558701807885\r",
        "78.56676105423655\r",
        "78.5776519276846"
       ]
      },
      {
       "output_type": "stream",
       "stream": "stdout",
       "text": [
        "\r",
        "78.58854280113266\r",
        "78.5994336745807\r",
        "78.61032454802876\r",
        "78.62121542147679\r",
        "78.63210629492485\r",
        "78.64299716837291\r",
        "78.65388804182095\r",
        "78.66477891526901\r",
        "78.67566978871704\r",
        "78.6865606621651\r",
        "78.69745153561315\r",
        "78.7083424090612\r",
        "78.71923328250926\r",
        "78.7301241559573\r",
        "78.74101502940536\r",
        "78.75190590285341\r",
        "78.76279677630146\r",
        "78.77368764974952\r",
        "78.78457852319755\r",
        "78.79546939664561\r",
        "78.80636027009366\r",
        "78.81725114354171\r",
        "78.82814201698977\r",
        "78.8390328904378\r",
        "78.84992376388587\r",
        "78.8608146373339\r",
        "78.87170551078196\r",
        "78.88259638423001\r",
        "78.89348725767806\r",
        "78.90437813112612"
       ]
      },
      {
       "output_type": "stream",
       "stream": "stdout",
       "text": [
        "\r",
        "78.91526900457416\r",
        "78.92615987802222\r",
        "78.93705075147027\r",
        "78.94794162491831\r",
        "78.95883249836638\r",
        "78.96972337181441\r",
        "78.98061424526247\r",
        "78.99150511871052\r",
        "79.00239599215857\r",
        "79.01328686560663\r",
        "79.02417773905466\r",
        "79.03506861250273\r",
        "79.04595948595077\r",
        "79.05685035939882\r",
        "79.06774123284688\r",
        "79.07863210629492\r",
        "79.08952297974298\r",
        "79.10041385319101\r",
        "79.11130472663908\r",
        "79.12219560008712\r",
        "79.13308647353517\r",
        "79.14397734698323\r",
        "79.15486822043127\r",
        "79.16575909387933\r",
        "79.17664996732738\r",
        "79.18754084077543\r",
        "79.19843171422349\r",
        "79.20932258767152\r",
        "79.22021346111958\r",
        "79.23110433456763\r",
        "79.24199520801568\r",
        "79.25288608146374\r",
        "79.26377695491178\r",
        "79.27466782835984\r",
        "79.28555870180789\r",
        "79.29644957525593\r",
        "79.30734044870398\r",
        "79.31823132215203\r",
        "79.32912219560009\r",
        "79.34001306904814\r",
        "79.35090394249619\r",
        "79.36179481594424"
       ]
      },
      {
       "output_type": "stream",
       "stream": "stdout",
       "text": [
        "\r",
        "79.37268568939228\r",
        "79.38357656284035\r",
        "79.39446743628838\r",
        "79.40535830973644\r",
        "79.41624918318449\r",
        "79.42714005663254\r",
        "79.4380309300806\r",
        "79.44892180352863\r",
        "79.4598126769767\r",
        "79.47070355042474\r",
        "79.48159442387279\r",
        "79.49248529732085\r",
        "79.50337617076889\r",
        "79.51426704421695\r",
        "79.525157917665\r",
        "79.53604879111305\r",
        "79.5469396645611"
       ]
      },
      {
       "output_type": "stream",
       "stream": "stdout",
       "text": [
        "\r",
        "79.55783053800914\r",
        "79.5687214114572\r",
        "79.57961228490525\r",
        "79.5905031583533\r",
        "79.60139403180135\r",
        "79.6122849052494\r",
        "79.62317577869746\r",
        "79.6340666521455\r",
        "79.64495752559355\r",
        "79.6558483990416\r",
        "79.66673927248965\r",
        "79.67763014593771\r",
        "79.68852101938575\r",
        "79.69941189283381\r",
        "79.71030276628186\r",
        "79.7211936397299\r",
        "79.73208451317795\r",
        "79.742975386626\r",
        "79.75386626007406\r",
        "79.76475713352211\r",
        "79.77564800697016\r",
        "79.7865388804182\r",
        "79.79742975386625\r",
        "79.80832062731432\r",
        "79.81921150076236\r",
        "79.83010237421041\r",
        "79.84099324765846\r",
        "79.85188412110651\r",
        "79.86277499455457\r",
        "79.87366586800262\r",
        "79.88455674145067\r",
        "79.89544761489871\r",
        "79.90633848834676\r",
        "79.91722936179482\r",
        "79.92812023524286\r",
        "79.93901110869092\r",
        "79.94990198213897\r",
        "79.96079285558702\r",
        "79.97168372903506\r",
        "79.98257460248311\r",
        "79.99346547593117\r",
        "80.00435634937922\r",
        "80.01524722282727\r",
        "80.02613809627532\r",
        "80.03702896972337\r",
        "80.04791984317143\r",
        "80.05881071661948"
       ]
      },
      {
       "output_type": "stream",
       "stream": "stdout",
       "text": [
        "\r",
        "80.06970159006752"
       ]
      },
      {
       "output_type": "stream",
       "stream": "stdout",
       "text": [
        "\r",
        "80.08059246351557\r",
        "80.09148333696362\r",
        "80.10237421041168\r",
        "80.11326508385973\r",
        "80.12415595730778\r",
        "80.13504683075583\r",
        "80.14593770420387\r",
        "80.15682857765192\r",
        "80.16771945109998\r",
        "80.17861032454803\r",
        "80.18950119799608\r",
        "80.20039207144413\r",
        "80.21128294489218\r",
        "80.22217381834022\r",
        "80.23306469178829\r",
        "80.24395556523633\r",
        "80.25484643868438\r",
        "80.26573731213243\r",
        "80.27662818558048\r",
        "80.28751905902854\r",
        "80.29840993247659\r",
        "80.30930080592464\r",
        "80.32019167937268\r",
        "80.33108255282073\r",
        "80.3419734262688\r",
        "80.35286429971684\r",
        "80.36375517316489\r",
        "80.37464604661294\r",
        "80.38553692006099\r",
        "80.39642779350903\r",
        "80.4073186669571\r",
        "80.41820954040514\r",
        "80.42910041385319\r",
        "80.43999128730124\r",
        "80.45088216074929\r",
        "80.46177303419735\r",
        "80.4726639076454\r",
        "80.48355478109345\r",
        "80.4944456545415\r",
        "80.50533652798954\r",
        "80.51622740143759\r",
        "80.52711827488565\r",
        "80.5380091483337\r",
        "80.54890002178175\r",
        "80.5597908952298\r",
        "80.57068176867784\r",
        "80.58157264212589"
       ]
      },
      {
       "output_type": "stream",
       "stream": "stdout",
       "text": [
        "\r",
        "80.59246351557395\r",
        "80.603354389022\r",
        "80.61424526247005\r",
        "80.6251361359181\r",
        "80.63602700936615\r",
        "80.64691788281421\r",
        "80.65780875626226\r",
        "80.6686996297103\r",
        "80.67959050315835\r",
        "80.6904813766064\r",
        "80.70137225005446\r",
        "80.71226312350251\r",
        "80.72315399695056\r",
        "80.7340448703986\r",
        "80.74493574384665\r",
        "80.75582661729472\r",
        "80.76671749074276\r",
        "80.77760836419081\r",
        "80.78849923763886\r",
        "80.79939011108691\r",
        "80.81028098453496\r",
        "80.821171857983\r",
        "80.83206273143107\r",
        "80.84295360487911\r",
        "80.85384447832716\r",
        "80.86473535177521\r",
        "80.87562622522326\r",
        "80.88651709867132\r",
        "80.89740797211937\r",
        "80.90829884556742\r",
        "80.91918971901546\r",
        "80.93008059246351\r",
        "80.94097146591157\r",
        "80.95186233935962\r",
        "80.96275321280767\r",
        "80.97364408625572\r",
        "80.98453495970377\r",
        "80.99542583315183\r",
        "81.00631670659986\r",
        "81.01720758004792\r",
        "81.02809845349597\r",
        "81.03898932694402\r",
        "81.04988020039207\r",
        "81.06077107384012"
       ]
      },
      {
       "output_type": "stream",
       "stream": "stdout",
       "text": [
        "\r",
        "81.07166194728818\r",
        "81.08255282073623\r",
        "81.09344369418427\r",
        "81.10433456763232\r",
        "81.11522544108037\r",
        "81.12611631452843\r",
        "81.13700718797648\r",
        "81.14789806142453\r",
        "81.15878893487258\r",
        "81.16967980832062\r",
        "81.18057068176869\r",
        "81.19146155521673\r",
        "81.20235242866478\r",
        "81.21324330211283\r",
        "81.22413417556088\r",
        "81.23502504900894\r",
        "81.24591592245697\r",
        "81.25680679590504\r",
        "81.26769766935308\r",
        "81.27858854280113\r",
        "81.2894794162492\r",
        "81.30037028969723\r",
        "81.31126116314529\r",
        "81.32215203659334\r",
        "81.33304291004139\r",
        "81.34393378348943\r",
        "81.35482465693748\r",
        "81.36571553038554\r",
        "81.37660640383359\r",
        "81.38749727728164\r",
        "81.39838815072969\r",
        "81.40927902417774\r",
        "81.4201698976258\r",
        "81.43106077107383\r",
        "81.4419516445219\r",
        "81.45284251796994\r",
        "81.46373339141799\r",
        "81.47462426486605"
       ]
      },
      {
       "output_type": "stream",
       "stream": "stdout",
       "text": [
        "\r",
        "81.48551513831408\r",
        "81.49640601176215\r",
        "81.5072968852102\r",
        "81.51818775865824\r",
        "81.5290786321063\r",
        "81.53996950555434\r",
        "81.5508603790024\r",
        "81.56175125245045\r",
        "81.5726421258985\r",
        "81.58353299934656\r",
        "81.5944238727946\r",
        "81.60531474624266\r",
        "81.6162056196907\r",
        "81.62709649313875\r",
        "81.6379873665868\r",
        "81.64887824003485\r",
        "81.65976911348291\r",
        "81.67065998693094\r",
        "81.681550860379\r",
        "81.69244173382705\r",
        "81.7033326072751\r",
        "81.71422348072316\r",
        "81.7251143541712\r",
        "81.73600522761926\r",
        "81.7468961010673\r",
        "81.75778697451535\r",
        "81.76867784796342\r",
        "81.77956872141145\r",
        "81.79045959485951\r",
        "81.80135046830756\r",
        "81.81224134175561\r",
        "81.82313221520367\r",
        "81.8340230886517\r",
        "81.84491396209977\r",
        "81.8558048355478\r",
        "81.86669570899586\r",
        "81.87758658244391\r",
        "81.88847745589196\r",
        "81.89936832934002\r",
        "81.91025920278805\r",
        "81.92115007623612\r",
        "81.93204094968416\r",
        "81.94293182313221\r",
        "81.95382269658027\r",
        "81.96471357002831\r",
        "81.97560444347637\r",
        "81.98649531692442\r",
        "81.99738619037247\r",
        "82.00827706382053\r",
        "82.01916793726856\r",
        "82.03005881071662\r",
        "82.04094968416467"
       ]
      },
      {
       "output_type": "stream",
       "stream": "stdout",
       "text": [
        "\r",
        "82.05184055761272\r",
        "82.06273143106077\r",
        "82.07362230450882\r",
        "82.08451317795688\r",
        "82.09540405140491\r",
        "82.10629492485297\r",
        "82.11718579830102\r",
        "82.12807667174907\r",
        "82.13896754519713\r",
        "82.14985841864517\r",
        "82.16074929209323\r",
        "82.17164016554128\r",
        "82.18253103898932\r",
        "82.19342191243739\r",
        "82.20431278588542\r",
        "82.21520365933348\r",
        "82.22609453278153\r",
        "82.23698540622958\r",
        "82.24787627967764\r",
        "82.25876715312567\r",
        "82.26965802657374\r",
        "82.28054890002177\r",
        "82.29143977346983\r",
        "82.30233064691788\r",
        "82.31322152036593\r",
        "82.32411239381399\r",
        "82.33500326726202\r",
        "82.34589414071009\r",
        "82.35678501415813\r",
        "82.36767588760618\r",
        "82.37856676105424\r",
        "82.38945763450228\r",
        "82.40034850795034\r",
        "82.41123938139839\r",
        "82.42213025484644\r",
        "82.4330211282945\r",
        "82.44391200174253\r",
        "82.4548028751906\r",
        "82.46569374863864\r",
        "82.47658462208669\r",
        "82.48747549553474\r",
        "82.49836636898279\r",
        "82.50925724243085\r",
        "82.52014811587888\r",
        "82.53103898932694\r",
        "82.54192986277499\r",
        "82.55282073622304\r",
        "82.5637116096711\r",
        "82.57460248311914\r",
        "82.5854933565672\r",
        "82.59638423001525\r",
        "82.6072751034633\r",
        "82.61816597691136\r",
        "82.62905685035939\r",
        "82.63994772380745"
       ]
      },
      {
       "output_type": "stream",
       "stream": "stdout",
       "text": [
        "\r",
        "82.6508385972555\r",
        "82.66172947070355\r",
        "82.67262034415161\r",
        "82.68351121759964\r",
        "82.6944020910477\r",
        "82.70529296449575\r",
        "82.7161838379438\r",
        "82.72707471139185\r",
        "82.7379655848399\r",
        "82.74885645828796\r",
        "82.759747331736\r",
        "82.77063820518406\r",
        "82.7815290786321\r",
        "82.79241995208015\r",
        "82.80331082552821\r",
        "82.81420169897625\r",
        "82.82509257242431"
       ]
      },
      {
       "output_type": "stream",
       "stream": "stdout",
       "text": [
        "\r",
        "82.83598344587236\r",
        "82.8468743193204\r",
        "82.85776519276847\r",
        "82.8686560662165\r",
        "82.87954693966456\r",
        "82.89043781311261\r",
        "82.90132868656066\r",
        "82.91221956000871\r",
        "82.92311043345676\r",
        "82.93400130690482\r",
        "82.94489218035287\r",
        "82.95578305380091\r",
        "82.96667392724896\r",
        "82.97756480069701\r",
        "82.98845567414507\r",
        "82.99934654759312\r",
        "83.01023742104117\r",
        "83.02112829448922\r",
        "83.03201916793726\r",
        "83.04291004138533\r",
        "83.05380091483336\r",
        "83.06469178828142\r",
        "83.07558266172947\r",
        "83.08647353517752\r",
        "83.09736440862558\r",
        "83.10825528207361\r",
        "83.11914615552168\r",
        "83.13003702896972\r",
        "83.14092790241777\r",
        "83.15181877586582\r",
        "83.16270964931387\r",
        "83.17360052276193\r",
        "83.18449139620998\r",
        "83.19538226965803\r",
        "83.20627314310607\r",
        "83.21716401655412\r",
        "83.22805489000218\r",
        "83.23894576345023\r",
        "83.24983663689828\r",
        "83.26072751034633\r",
        "83.27161838379438\r",
        "83.28250925724244\r",
        "83.29340013069047\r",
        "83.30429100413853\r",
        "83.31518187758658\r",
        "83.32607275103463\r",
        "83.33696362448268\r",
        "83.34785449793073\r",
        "83.35874537137879\r",
        "83.36963624482684\r",
        "83.38052711827488\r",
        "83.39141799172293\r",
        "83.40230886517098\r",
        "83.41319973861904\r",
        "83.42409061206709\r",
        "83.43498148551514\r",
        "83.44587235896319\r",
        "83.45676323241123\r",
        "83.4676541058593\r",
        "83.47854497930734\r",
        "83.48943585275539\r",
        "83.50032672620344\r",
        "83.51121759965149\r",
        "83.52210847309955\r",
        "83.5329993465476\r",
        "83.54389021999565\r",
        "83.5547810934437\r",
        "83.56567196689174\r",
        "83.57656284033979\r",
        "83.58745371378784\r",
        "83.5983445872359\r",
        "83.60923546068395\r",
        "83.620126334132\r",
        "83.63101720758004\r",
        "83.64190808102809\r",
        "83.65279895447615"
       ]
      },
      {
       "output_type": "stream",
       "stream": "stdout",
       "text": [
        "\r",
        "83.6636898279242\r",
        "83.67458070137225\r",
        "83.6854715748203\r",
        "83.69636244826835\r",
        "83.70725332171641\r",
        "83.71814419516446\r",
        "83.7290350686125\r",
        "83.73992594206055\r",
        "83.7508168155086\r",
        "83.76170768895665\r",
        "83.77259856240471\r",
        "83.78348943585276\r",
        "83.7943803093008\r",
        "83.80527118274885\r",
        "83.8161620561969\r",
        "83.82705292964496\r",
        "83.83794380309301\r",
        "83.84883467654106\r",
        "83.85972554998911\r",
        "83.87061642343716\r",
        "83.8815072968852\r",
        "83.89239817033327\r",
        "83.90328904378131\r",
        "83.91417991722936\r",
        "83.92507079067741\r",
        "83.93596166412546\r",
        "83.94685253757352\r",
        "83.95774341102157\r",
        "83.96863428446962\r",
        "83.97952515791766\r",
        "83.99041603136571\r",
        "84.00130690481376\r",
        "84.01219777826182"
       ]
      },
      {
       "output_type": "stream",
       "stream": "stdout",
       "text": [
        "\r",
        "84.02308865170987\r",
        "84.03397952515792\r",
        "84.04487039860597\r",
        "84.05576127205401\r",
        "84.06665214550208\r",
        "84.07754301895012\r",
        "84.08843389239817\r",
        "84.09932476584622\r",
        "84.11021563929427\r",
        "84.12110651274233\r",
        "84.13199738619038\r",
        "84.14288825963843\r",
        "84.15377913308647\r",
        "84.16467000653452\r",
        "84.17556087998257\r",
        "84.18645175343062\r",
        "84.19734262687868\r",
        "84.20823350032673\r",
        "84.21912437377478\r",
        "84.23001524722282\r",
        "84.24090612067087\r",
        "84.25179699411893\r",
        "84.26268786756698\r",
        "84.27357874101503\r",
        "84.28446961446308\r",
        "84.29536048791113\r",
        "84.30625136135919\r",
        "84.31714223480724\r",
        "84.32803310825528\r",
        "84.33892398170333\r",
        "84.34981485515138"
       ]
      },
      {
       "output_type": "stream",
       "stream": "stdout",
       "text": [
        "\r",
        "84.36070572859944\r",
        "84.37159660204749\r",
        "84.38248747549554\r",
        "84.39337834894359\r",
        "84.40426922239163\r",
        "84.41516009583968\r",
        "84.42605096928773\r",
        "84.43694184273579\r",
        "84.44783271618384\r",
        "84.45872358963189\r",
        "84.46961446307994\r",
        "84.48050533652798\r",
        "84.49139620997605\r",
        "84.5022870834241\r",
        "84.51317795687214\r",
        "84.52406883032019\r",
        "84.53495970376824\r",
        "84.5458505772163\r",
        "84.55674145066435\r",
        "84.5676323241124\r",
        "84.57852319756044\r",
        "84.58941407100849\r",
        "84.60030494445655\r",
        "84.61119581790459\r",
        "84.62208669135265\r",
        "84.6329775648007\r",
        "84.64386843824875\r",
        "84.65475931169681\r",
        "84.66565018514484"
       ]
      },
      {
       "output_type": "stream",
       "stream": "stdout",
       "text": [
        "\r",
        "84.6765410585929\r",
        "84.68743193204095\r",
        "84.698322805489\r",
        "84.70921367893705\r",
        "84.7201045523851\r",
        "84.73099542583316\r",
        "84.7418862992812\r",
        "84.75277717272925\r",
        "84.7636680461773\r",
        "84.77455891962535\r",
        "84.78544979307341\r",
        "84.79634066652146\r",
        "84.80723153996951\r",
        "84.81812241341756\r",
        "84.8290132868656\r",
        "84.83990416031367\r",
        "84.8507950337617\r",
        "84.86168590720976\r",
        "84.87257678065781\r",
        "84.88346765410586\r",
        "84.89435852755392\r",
        "84.90524940100195\r",
        "84.91614027445002\r",
        "84.92703114789806\r",
        "84.93792202134611\r",
        "84.94881289479417\r",
        "84.9597037682422\r",
        "84.97059464169027\r",
        "84.98148551513832\r",
        "84.99237638858637\r",
        "85.00326726203441"
       ]
      },
      {
       "output_type": "stream",
       "stream": "stdout",
       "text": [
        "\r",
        "85.01415813548246\r",
        "85.02504900893052\r",
        "85.03593988237856\r",
        "85.04683075582662\r",
        "85.05772162927467\r",
        "85.06861250272271\r",
        "85.07950337617078\r",
        "85.09039424961881\r",
        "85.10128512306687\r",
        "85.11217599651492\r",
        "85.12306686996297\r",
        "85.13395774341103\r",
        "85.14484861685906\r",
        "85.15573949030713\r",
        "85.16663036375517\r",
        "85.17752123720322\r",
        "85.18841211065129\r",
        "85.19930298409932\r",
        "85.21019385754738\r",
        "85.22108473099543\r",
        "85.23197560444348\r",
        "85.24286647789154\r",
        "85.25375735133957\r",
        "85.26464822478763\r",
        "85.27553909823567\r",
        "85.28642997168373\r",
        "85.29732084513178\r",
        "85.30821171857983"
       ]
      },
      {
       "output_type": "stream",
       "stream": "stdout",
       "text": [
        "\r",
        "85.31910259202789\r",
        "85.32999346547592\r",
        "85.34088433892398\r",
        "85.35177521237203\r",
        "85.36266608582008\r",
        "85.37355695926814\r",
        "85.38444783271618\r",
        "85.39533870616424\r",
        "85.40622957961229\r",
        "85.41712045306033\r",
        "85.4280113265084\r",
        "85.43890219995643\r",
        "85.44979307340449\r",
        "85.46068394685253\r",
        "85.47157482030059\r",
        "85.48246569374865\r",
        "85.49335656719668\r",
        "85.50424744064475\r",
        "85.51513831409278\r",
        "85.52602918754084\r",
        "85.53692006098889\r",
        "85.54781093443694\r",
        "85.558701807885\r",
        "85.56959268133303\r",
        "85.5804835547811\r",
        "85.59137442822914\r",
        "85.60226530167719\r",
        "85.61315617512525\r",
        "85.62404704857329\r",
        "85.63493792202135\r",
        "85.6458287954694\r",
        "85.65671966891745\r",
        "85.66761054236551\r",
        "85.67850141581354\r",
        "85.6893922892616\r",
        "85.70028316270964\r",
        "85.7111740361577"
       ]
      },
      {
       "output_type": "stream",
       "stream": "stdout",
       "text": [
        "\r",
        "85.72206490960575\r",
        "85.7329557830538\r",
        "85.74384665650186\r",
        "85.75473752994989\r",
        "85.76562840339795\r",
        "85.776519276846\r",
        "85.78741015029405\r",
        "85.79830102374211\r",
        "85.80919189719015\r",
        "85.82008277063821\r",
        "85.83097364408626\r",
        "85.8418645175343\r",
        "85.85275539098237\r",
        "85.8636462644304\r",
        "85.87453713787846\r",
        "85.8854280113265\r",
        "85.89631888477456\r",
        "85.90720975822262\r",
        "85.91810063167065\r",
        "85.92899150511872\r",
        "85.93988237856675"
       ]
      },
      {
       "output_type": "stream",
       "stream": "stdout",
       "text": [
        "\r",
        "85.95077325201481\r",
        "85.96166412546286\r",
        "85.97255499891091\r",
        "85.98344587235897\r",
        "85.994336745807\r",
        "86.00522761925507\r",
        "86.01611849270311\r",
        "86.02700936615116\r",
        "86.03790023959922\r",
        "86.04879111304726\r",
        "86.05968198649532\r",
        "86.07057285994337\r",
        "86.08146373339142\r",
        "86.09235460683948\r",
        "86.10324548028751\r",
        "86.11413635373557\r",
        "86.12502722718361\r",
        "86.13591810063167\r",
        "86.14680897407972\r",
        "86.15769984752777\r",
        "86.16859072097583\r",
        "86.17948159442386\r",
        "86.19037246787192\r",
        "86.20126334131997\r",
        "86.21215421476802\r",
        "86.22304508821608\r",
        "86.23393596166412\r",
        "86.24482683511218\r",
        "86.25571770856023\r",
        "86.26660858200827\r",
        "86.27749945545634\r",
        "86.28839032890437\r",
        "86.29928120235243\r",
        "86.31017207580048\r",
        "86.32106294924853\r",
        "86.33195382269659\r",
        "86.34284469614462\r",
        "86.35373556959269\r",
        "86.36462644304073\r",
        "86.37551731648878\r",
        "86.38640818993683\r",
        "86.39729906338488\r",
        "86.40818993683294\r",
        "86.41908081028097\r",
        "86.42997168372904\r",
        "86.44086255717708\r",
        "86.45175343062513\r",
        "86.4626443040732\r",
        "86.47353517752123\r",
        "86.48442605096929\r",
        "86.49531692441734\r",
        "86.50620779786539\r",
        "86.51709867131345\r",
        "86.52798954476148\r",
        "86.53888041820954\r",
        "86.54977129165759\r",
        "86.56066216510564\r",
        "86.57155303855369\r",
        "86.58244391200174\r",
        "86.5933347854498\r",
        "86.60422565889785\r",
        "86.6151165323459\r",
        "86.62600740579394\r",
        "86.63689827924199\r",
        "86.64778915269005\r",
        "86.65868002613809\r",
        "86.66957089958615\r",
        "86.6804617730342\r",
        "86.69135264648224\r",
        "86.7022435199303\r",
        "86.71313439337834\r",
        "86.7240252668264\r",
        "86.73491614027445\r",
        "86.7458070137225\r",
        "86.75669788717056\r",
        "86.7675887606186\r",
        "86.77847963406666\r",
        "86.7893705075147\r",
        "86.80026138096275\r",
        "86.8111522544108\r",
        "86.82204312785885\r",
        "86.83293400130691\r",
        "86.84382487475496\r",
        "86.854715748203"
       ]
      },
      {
       "output_type": "stream",
       "stream": "stdout",
       "text": [
        "\r",
        "86.86560662165105\r",
        "86.8764974950991\r",
        "86.88738836854716\r",
        "86.89827924199521\r",
        "86.90917011544326\r",
        "86.92006098889131\r",
        "86.93095186233936\r",
        "86.94184273578742\r",
        "86.95273360923545\r",
        "86.96362448268351\r",
        "86.97451535613156\r",
        "86.98540622957961\r",
        "86.99629710302766\r",
        "87.0071879764757\r",
        "87.01807884992377\r",
        "87.02896972337182\r",
        "87.03986059681986\r",
        "87.05075147026791\r",
        "87.06164234371596\r",
        "87.07253321716402\r",
        "87.08342409061207\r",
        "87.09431496406012\r",
        "87.10520583750817\r",
        "87.11609671095621\r",
        "87.12698758440428\r",
        "87.13787845785232\r",
        "87.14876933130037\r",
        "87.15966020474842\r",
        "87.17055107819647\r",
        "87.18144195164453\r",
        "87.19233282509258\r",
        "87.20322369854063\r",
        "87.21411457198867\r",
        "87.22500544543672\r",
        "87.23589631888477\r",
        "87.24678719233282\r",
        "87.25767806578088\r",
        "87.26856893922893\r",
        "87.27945981267698\r",
        "87.29035068612502\r",
        "87.30124155957307\r",
        "87.31213243302113"
       ]
      },
      {
       "output_type": "stream",
       "stream": "stdout",
       "text": [
        "\r",
        "87.32302330646918\r",
        "87.33391417991723\r",
        "87.34480505336528\r",
        "87.35569592681333\r",
        "87.36658680026139\r",
        "87.37747767370944\r",
        "87.38836854715748\r",
        "87.39925942060553\r",
        "87.41015029405358\r",
        "87.42104116750163\r",
        "87.43193204094969\r",
        "87.44282291439774\r",
        "87.45371378784579\r",
        "87.46460466129383\r",
        "87.47549553474188\r",
        "87.48638640818994\r",
        "87.49727728163799\r",
        "87.50816815508604\r",
        "87.51905902853409\r",
        "87.52994990198214\r",
        "87.54084077543018\r",
        "87.55173164887825\r",
        "87.5626225223263\r",
        "87.57351339577434\r",
        "87.58440426922239\r",
        "87.59529514267044\r",
        "87.6061860161185\r",
        "87.61707688956655\r",
        "87.6279677630146\r",
        "87.63885863646264\r",
        "87.64974950991069\r",
        "87.66064038335874\r",
        "87.6715312568068\r",
        "87.68242213025485\r",
        "87.6933130037029\r",
        "87.70420387715095\r",
        "87.715094750599\r",
        "87.72598562404706\r",
        "87.7368764974951\r",
        "87.74776737094315\r",
        "87.7586582443912\r",
        "87.76954911783925\r",
        "87.78043999128731\r",
        "87.79133086473536\r",
        "87.8022217381834\r",
        "87.81311261163145\r",
        "87.8240034850795\r",
        "87.83489435852755\r",
        "87.8457852319756\r",
        "87.85667610542366\r",
        "87.86756697887171\r",
        "87.87845785231976\r",
        "87.8893487257678\r",
        "87.90023959921585\r",
        "87.91113047266391\r",
        "87.92202134611196\r",
        "87.93291221956001\r",
        "87.94380309300806\r",
        "87.9546939664561\r",
        "87.96558483990417"
       ]
      },
      {
       "output_type": "stream",
       "stream": "stdout",
       "text": [
        "\r",
        "87.97647571335222\r",
        "87.98736658680026\r",
        "87.99825746024831\r",
        "88.00914833369636\r",
        "88.02003920714442\r",
        "88.03093008059247\r",
        "88.04182095404052\r",
        "88.05271182748857\r",
        "88.06360270093661\r",
        "88.07449357438466\r",
        "88.08538444783271\r",
        "88.09627532128077\r",
        "88.10716619472882\r",
        "88.11805706817687\r",
        "88.12894794162492\r",
        "88.13983881507296\r",
        "88.15072968852103\r",
        "88.16162056196907\r",
        "88.17251143541712\r",
        "88.18340230886517\r",
        "88.19429318231322\r",
        "88.20518405576128\r",
        "88.21607492920933\r",
        "88.22696580265738\r",
        "88.23785667610542\r",
        "88.24874754955347\r",
        "88.25963842300153\r",
        "88.27052929644957\r",
        "88.28142016989763\r",
        "88.29231104334568\r",
        "88.30320191679372\r",
        "88.31409279024179\r",
        "88.32498366368982\r",
        "88.33587453713788\r",
        "88.34676541058593\r",
        "88.35765628403398\r",
        "88.36854715748203\r",
        "88.37943803093007\r",
        "88.39032890437814\r",
        "88.40121977782619\r",
        "88.41211065127423\r",
        "88.42300152472228\r",
        "88.43389239817033\r",
        "88.44478327161839\r",
        "88.45567414506644\r",
        "88.46656501851449\r",
        "88.47745589196253\r",
        "88.48834676541058\r",
        "88.49923763885865\r",
        "88.51012851230668\r",
        "88.52101938575474\r",
        "88.53191025920279\r",
        "88.54280113265084\r",
        "88.5536920060989\r",
        "88.56458287954693\r",
        "88.575473752995\r",
        "88.58636462644304\r",
        "88.59725549989109\r",
        "88.60814637333915\r",
        "88.61903724678719\r",
        "88.62992812023525\r",
        "88.6408189936833\r",
        "88.65170986713134\r",
        "88.66260074057939\r",
        "88.67349161402744\r",
        "88.6843824874755\r",
        "88.69527336092354"
       ]
      },
      {
       "output_type": "stream",
       "stream": "stdout",
       "text": [
        "\r",
        "88.7061642343716\r",
        "88.71705510781965\r",
        "88.7279459812677\r",
        "88.73883685471576\r",
        "88.74972772816379\r",
        "88.76061860161185\r",
        "88.7715094750599\r",
        "88.78240034850795\r",
        "88.79329122195601\r",
        "88.80418209540404\r",
        "88.8150729688521\r",
        "88.82596384230015\r",
        "88.8368547157482\r",
        "88.84774558919626\r",
        "88.8586364626443\r",
        "88.86952733609236\r",
        "88.88041820954041\r",
        "88.89130908298846\r",
        "88.9021999564365\r",
        "88.91309082988455\r",
        "88.92398170333261\r",
        "88.93487257678065\r",
        "88.94576345022871\r",
        "88.95665432367676\r",
        "88.9675451971248\r",
        "88.97843607057287\r",
        "88.9893269440209\r",
        "89.00021781746896\r",
        "89.01110869091701\r",
        "89.02199956436506\r",
        "89.03289043781312\r",
        "89.04378131126116\r",
        "89.05467218470922\r",
        "89.06556305815727\r",
        "89.07645393160531\r",
        "89.08734480505338"
       ]
      },
      {
       "output_type": "stream",
       "stream": "stdout",
       "text": [
        "\r",
        "89.09823567850141\r",
        "89.10912655194947\r",
        "89.1200174253975\r",
        "89.13090829884557\r",
        "89.14179917229362\r",
        "89.15269004574166\r",
        "89.16358091918973\r",
        "89.17447179263776\r",
        "89.18536266608582\r",
        "89.19625353953387\r",
        "89.20714441298192\r",
        "89.21803528642998\r",
        "89.22892615987801\r",
        "89.23981703332608\r",
        "89.25070790677412\r",
        "89.26159878022217\r",
        "89.27248965367023\r",
        "89.28338052711827\r",
        "89.29427140056633\r",
        "89.30516227401438\r",
        "89.31605314746243\r",
        "89.32694402091047\r",
        "89.33783489435852\r",
        "89.34872576780658\r",
        "89.35961664125462\r",
        "89.37050751470268\r",
        "89.38139838815073\r",
        "89.39228926159878\r",
        "89.40318013504684\r",
        "89.41407100849487\r",
        "89.42496188194293\r",
        "89.43585275539098\r",
        "89.44674362883903\r",
        "89.45763450228709\r",
        "89.46852537573513\r",
        "89.47941624918319\r",
        "89.49030712263124\r",
        "89.50119799607928\r",
        "89.51208886952735"
       ]
      },
      {
       "output_type": "stream",
       "stream": "stdout",
       "text": [
        "\r",
        "89.52297974297538\r",
        "89.53387061642344\r",
        "89.54476148987148\r",
        "89.55565236331954\r",
        "89.56654323676759\r",
        "89.57743411021563\r",
        "89.5883249836637\r",
        "89.59921585711173\r",
        "89.61010673055979\r",
        "89.62099760400784\r",
        "89.63188847745589\r",
        "89.64277935090395\r",
        "89.65367022435198\r",
        "89.66456109780005\r",
        "89.6754519712481\r",
        "89.68634284469614\r",
        "89.6972337181442\r",
        "89.70812459159224\r",
        "89.7190154650403\r",
        "89.72990633848835\r",
        "89.7407972119364\r",
        "89.75168808538444\r",
        "89.76257895883249\r",
        "89.77346983228055\r",
        "89.78436070572859\r",
        "89.79525157917665\r",
        "89.8061424526247"
       ]
      },
      {
       "output_type": "stream",
       "stream": "stdout",
       "text": [
        "\r",
        "89.81703332607275\r",
        "89.82792419952081\r",
        "89.83881507296884\r",
        "89.8497059464169\r",
        "89.86059681986495\r",
        "89.871487693313\r",
        "89.88237856676106\r",
        "89.8932694402091\r",
        "89.90416031365716\r",
        "89.9150511871052\r",
        "89.92594206055325\r",
        "89.93683293400132\r",
        "89.94772380744935\r",
        "89.95861468089741\r",
        "89.96950555434546\r",
        "89.98039642779351\r",
        "89.99128730124156\r",
        "90.0021781746896\r",
        "90.01306904813767\r",
        "90.02395992158571\r",
        "90.03485079503376\r",
        "90.04574166848181\r",
        "90.05663254192986\r",
        "90.06752341537792\r",
        "90.07841428882595\r",
        "90.08930516227402\r",
        "90.10019603572206\r",
        "90.11108690917011\r",
        "90.12197778261817\r",
        "90.13286865606621\r",
        "90.14375952951427\r",
        "90.15465040296232\r",
        "90.16554127641037\r",
        "90.17643214985841\r",
        "90.18732302330646\r",
        "90.19821389675452\r",
        "90.20910477020257\r",
        "90.21999564365062\r",
        "90.23088651709867\r",
        "90.24177739054672\r",
        "90.25266826399478\r",
        "90.26355913744283\r",
        "90.27445001089087\r",
        "90.28534088433892\r",
        "90.29623175778697\r",
        "90.30712263123503\r",
        "90.31801350468307\r",
        "90.32890437813113"
       ]
      },
      {
       "output_type": "stream",
       "stream": "stdout",
       "text": [
        "\r",
        "90.33979525157918\r",
        "90.35068612502722\r",
        "90.36157699847529\r",
        "90.37246787192332\r",
        "90.38335874537138\r",
        "90.39424961881943\r",
        "90.40514049226748\r",
        "90.41603136571553\r",
        "90.42692223916357\r",
        "90.43781311261164\r",
        "90.44870398605968\r",
        "90.45959485950773\r",
        "90.47048573295578\r",
        "90.48137660640383\r",
        "90.49226747985189\r",
        "90.50315835329994\r",
        "90.51404922674799\r",
        "90.52494010019603\r",
        "90.53583097364408\r",
        "90.54672184709214\r",
        "90.55761272054019\r",
        "90.56850359398824\r",
        "90.57939446743629\r",
        "90.59028534088434\r",
        "90.60117621433238\r",
        "90.61206708778043"
       ]
      },
      {
       "output_type": "stream",
       "stream": "stdout",
       "text": [
        "\r",
        "90.6229579612285\r",
        "90.63384883467654\r",
        "90.64473970812459\r",
        "90.65563058157264\r",
        "90.66652145502069\r",
        "90.67741232846875\r",
        "90.6883032019168\r",
        "90.69919407536484\r",
        "90.71008494881289\r",
        "90.72097582226094\r",
        "90.731866695709\r",
        "90.74275756915705\r",
        "90.7536484426051\r",
        "90.76453931605315\r",
        "90.7754301895012\r",
        "90.78632106294926\r",
        "90.7972119363973\r",
        "90.80810280984535\r",
        "90.8189936832934\r",
        "90.82988455674145\r",
        "90.8407754301895\r",
        "90.85166630363756\r",
        "90.8625571770856\r",
        "90.87344805053365\r",
        "90.8843389239817\r",
        "90.89522979742975\r",
        "90.9061206708778\r",
        "90.91701154432586\r",
        "90.92790241777391\r",
        "90.93879329122196\r",
        "90.94968416467\r",
        "90.96057503811805\r",
        "90.97146591156611\r",
        "90.98235678501416\r",
        "90.99324765846221\r",
        "91.00413853191026\r",
        "91.0150294053583\r",
        "91.02592027880635\r",
        "91.03681115225442\r",
        "91.04770202570246\r",
        "91.05859289915051\r",
        "91.06948377259856\r",
        "91.08037464604661\r",
        "91.09126551949467\r",
        "91.10215639294272"
       ]
      },
      {
       "output_type": "stream",
       "stream": "stdout",
       "text": [
        "\r",
        "91.11304726639077\r",
        "91.12393813983881\r",
        "91.13482901328686\r",
        "91.14571988673492\r",
        "91.15661076018297\r",
        "91.16750163363102\r",
        "91.17839250707907\r",
        "91.18928338052712\r",
        "91.20017425397516\r",
        "91.21106512742323\r",
        "91.22195600087127\r",
        "91.23284687431932\r",
        "91.24373774776737\r",
        "91.25462862121542\r",
        "91.26551949466347\r",
        "91.27641036811153\r",
        "91.28730124155958\r",
        "91.29819211500762\r",
        "91.30908298845567\r",
        "91.31997386190372\r",
        "91.33086473535178\r",
        "91.34175560879983\r",
        "91.35264648224788\r",
        "91.36353735569593\r",
        "91.37442822914397\r",
        "91.38531910259204\r",
        "91.39620997604008\r",
        "91.40710084948813\r",
        "91.41799172293618\r",
        "91.42888259638423\r",
        "91.43977346983228\r",
        "91.45066434328032\r",
        "91.46155521672839\r",
        "91.47244609017643\r",
        "91.48333696362448\r",
        "91.49422783707253\r",
        "91.50511871052058\r",
        "91.51600958396864\r",
        "91.52690045741669\r",
        "91.53779133086474\r",
        "91.54868220431278\r",
        "91.55957307776083\r",
        "91.5704639512089\r",
        "91.58135482465694\r",
        "91.59224569810499\r",
        "91.60313657155304\r",
        "91.61402744500108\r",
        "91.62491831844915\r",
        "91.6358091918972\r",
        "91.64670006534524\r",
        "91.65759093879329\r",
        "91.66848181224134\r",
        "91.6793726856894\r",
        "91.69026355913743\r",
        "91.7011544325855\r",
        "91.71204530603354\r",
        "91.7229361794816\r",
        "91.73382705292964\r",
        "91.74471792637769\r",
        "91.75560879982575\r",
        "91.7664996732738"
       ]
      },
      {
       "output_type": "stream",
       "stream": "stdout",
       "text": [
        "\r",
        "91.77739054672185\r",
        "91.7882814201699\r",
        "91.79917229361794\r",
        "91.810063167066\r",
        "91.82095404051405\r",
        "91.8318449139621\r",
        "91.84273578741015\r",
        "91.8536266608582\r",
        "91.86451753430626\r",
        "91.87540840775429\r",
        "91.88629928120235\r",
        "91.8971901546504\r",
        "91.90808102809845\r",
        "91.91897190154651\r",
        "91.92986277499455\r",
        "91.94075364844261\r",
        "91.95164452189066\r",
        "91.9625353953387\r",
        "91.97342626878677\r",
        "91.9843171422348\r",
        "91.99520801568286\r",
        "92.00609888913091\r",
        "92.01698976257896\r",
        "92.027880636027\r",
        "92.03877150947505\r",
        "92.04966238292312\r",
        "92.06055325637116\r",
        "92.07144412981921\r",
        "92.08233500326726\r",
        "92.09322587671531\r",
        "92.10411675016337\r",
        "92.1150076236114\r",
        "92.12589849705947\r",
        "92.13678937050751\r",
        "92.14768024395556\r",
        "92.15857111740362\r",
        "92.16946199085166\r",
        "92.18035286429972\r",
        "92.19124373774777\r",
        "92.20213461119582\r",
        "92.21302548464388\r",
        "92.22391635809191\r",
        "92.23480723153997\r",
        "92.24569810498802\r",
        "92.25658897843607\r",
        "92.26747985188413\r",
        "92.27837072533217\r",
        "92.28926159878023"
       ]
      },
      {
       "output_type": "stream",
       "stream": "stdout",
       "text": [
        "\r",
        "92.30015247222826\r",
        "92.31104334567632\r",
        "92.32193421912437\r",
        "92.33282509257242\r",
        "92.34371596602048\r",
        "92.35460683946852\r",
        "92.36549771291658\r",
        "92.37638858636463\r",
        "92.38727945981267\r",
        "92.39817033326074\r",
        "92.40906120670877\r",
        "92.41995208015683\r",
        "92.43084295360488\r",
        "92.44173382705293\r",
        "92.45262470050099\r",
        "92.46351557394902\r",
        "92.47440644739709\r",
        "92.48529732084513\r",
        "92.49618819429318\r",
        "92.50707906774124\r",
        "92.51796994118928\r",
        "92.52886081463734\r",
        "92.53975168808537\r",
        "92.55064256153344\r",
        "92.56153343498148\r",
        "92.57242430842953\r",
        "92.5833151818776\r",
        "92.59420605532563\r",
        "92.60509692877369\r",
        "92.61598780222174\r",
        "92.62687867566979\r",
        "92.63776954911785\r",
        "92.64866042256588\r",
        "92.65955129601394\r",
        "92.67044216946199\r",
        "92.68133304291004\r",
        "92.6922239163581\r",
        "92.70311478980614\r",
        "92.7140056632542\r",
        "92.72489653670223\r",
        "92.7357874101503\r",
        "92.74667828359836\r",
        "92.75756915704639\r",
        "92.76846003049445\r",
        "92.77935090394249\r",
        "92.79024177739055\r",
        "92.8011326508386\r",
        "92.81202352428664\r",
        "92.8229143977347\r",
        "92.83380527118274\r",
        "92.8446961446308\r",
        "92.85558701807885\r",
        "92.8664778915269\r",
        "92.87736876497496\r",
        "92.888259638423\r",
        "92.89915051187106\r",
        "92.9100413853191\r",
        "92.92093225876715\r",
        "92.93182313221521\r",
        "92.94271400566325\r",
        "92.95360487911131\r",
        "92.96449575255934\r",
        "92.9753866260074\r",
        "92.98627749945545\r",
        "92.9971683729035\r",
        "93.00805924635156\r",
        "93.0189501197996\r",
        "93.02984099324766\r",
        "93.04073186669571\r",
        "93.05162274014376\r",
        "93.06251361359182\r",
        "93.07340448703985\r",
        "93.08429536048791\r",
        "93.09518623393596\r",
        "93.10607710738401\r",
        "93.11696798083207\r",
        "93.1278588542801\r",
        "93.13874972772817\r",
        "93.1496406011762\r",
        "93.16053147462426\r",
        "93.17142234807233\r",
        "93.18231322152036\r",
        "93.19320409496842"
       ]
      },
      {
       "output_type": "stream",
       "stream": "stdout",
       "text": [
        "\r",
        "93.20409496841646\r",
        "93.21498584186452\r",
        "93.22587671531257\r",
        "93.23676758876061\r",
        "93.24765846220868\r",
        "93.25854933565671\r",
        "93.26944020910477\r",
        "93.28033108255282\r",
        "93.29122195600087\r",
        "93.30211282944893\r",
        "93.31300370289696\r",
        "93.32389457634503\r",
        "93.33478544979307\r",
        "93.34567632324112\r",
        "93.35656719668918\r",
        "93.36745807013722\r",
        "93.37834894358528\r",
        "93.38923981703333\r",
        "93.40013069048138\r",
        "93.41102156392942\r",
        "93.42191243737747\r",
        "93.43280331082553\r",
        "93.44369418427357\r",
        "93.45458505772163\r",
        "93.46547593116968\r",
        "93.47636680461773\r",
        "93.48725767806579\r",
        "93.49814855151382\r",
        "93.50903942496188\r",
        "93.51993029840993\r",
        "93.53082117185798\r",
        "93.54171204530604\r",
        "93.55260291875408\r",
        "93.56349379220214\r",
        "93.57438466565019\r",
        "93.58527553909823\r",
        "93.5961664125463\r",
        "93.60705728599433\r",
        "93.61794815944239\r",
        "93.62883903289044\r",
        "93.63972990633849\r",
        "93.65062077978654\r",
        "93.66151165323458\r",
        "93.67240252668265\r",
        "93.68329340013068\r",
        "93.69418427357874\r",
        "93.70507514702679"
       ]
      },
      {
       "output_type": "stream",
       "stream": "stdout",
       "text": [
        "\r",
        "93.71596602047484\r",
        "93.7268568939229\r",
        "93.73774776737093\r",
        "93.748638640819\r",
        "93.75952951426704\r",
        "93.77042038771509\r",
        "93.78131126116315\r",
        "93.79220213461119\r",
        "93.80309300805925\r",
        "93.8139838815073\r",
        "93.82487475495535\r",
        "93.8357656284034\r",
        "93.84665650185144\r",
        "93.8575473752995\r",
        "93.86843824874755\r",
        "93.8793291221956\r",
        "93.89021999564365\r",
        "93.9011108690917\r",
        "93.91200174253976\r",
        "93.9228926159878\r",
        "93.93378348943585\r",
        "93.9446743628839\r",
        "93.95556523633195\r",
        "93.96645610978001\r",
        "93.97734698322805\r",
        "93.98823785667611\r",
        "93.99912873012416\r",
        "94.0100196035722\r",
        "94.02091047702027\r",
        "94.0318013504683\r",
        "94.04269222391636\r",
        "94.05358309736441\r",
        "94.06447397081246\r",
        "94.0753648442605\r",
        "94.08625571770855\r",
        "94.09714659115662\r",
        "94.10803746460466\r",
        "94.11892833805271\r",
        "94.12981921150076\r",
        "94.14071008494881\r",
        "94.15160095839687\r",
        "94.16249183184492\r",
        "94.17338270529297\r",
        "94.18427357874101\r",
        "94.19516445218906\r",
        "94.20605532563712\r",
        "94.21694619908517\r",
        "94.22783707253322\r",
        "94.23872794598127\r",
        "94.24961881942932\r",
        "94.26050969287736\r",
        "94.27140056632541\r",
        "94.28229143977347\r",
        "94.29318231322152\r",
        "94.30407318666957\r",
        "94.31496406011762\r",
        "94.32585493356567\r",
        "94.33674580701373\r",
        "94.34763668046178\r",
        "94.35852755390982\r",
        "94.36941842735787\r",
        "94.38030930080592\r",
        "94.39120017425398\r",
        "94.40209104770203\r",
        "94.41298192115008\r",
        "94.42387279459813\r",
        "94.43476366804617\r",
        "94.44565454149424"
       ]
      },
      {
       "output_type": "stream",
       "stream": "stdout",
       "text": [
        "\r",
        "94.45654541494228\r",
        "94.46743628839033\r",
        "94.47832716183838\r",
        "94.48921803528643\r",
        "94.50010890873448\r",
        "94.51099978218254\r",
        "94.52189065563059\r",
        "94.53278152907863\r",
        "94.54367240252668\r",
        "94.55456327597473\r",
        "94.56545414942278\r",
        "94.57634502287084\r",
        "94.58723589631889\r",
        "94.59812676976694\r",
        "94.60901764321498\r",
        "94.61990851666303\r",
        "94.6307993901111\r",
        "94.64169026355914\r",
        "94.65258113700719\r",
        "94.66347201045524\r",
        "94.67436288390329\r",
        "94.68525375735133\r",
        "94.6961446307994\r",
        "94.70703550424744\r",
        "94.71792637769549\r",
        "94.72881725114354\r",
        "94.73970812459159\r",
        "94.75059899803965\r",
        "94.7614898714877\r",
        "94.77238074493575\r",
        "94.7832716183838\r",
        "94.79416249183184\r",
        "94.80505336527989\r",
        "94.81594423872795\r",
        "94.826835112176\r",
        "94.83772598562405\r",
        "94.8486168590721\r",
        "94.85950773252014\r",
        "94.8703986059682\r",
        "94.88128947941625\r",
        "94.8921803528643\r",
        "94.90307122631235\r",
        "94.9139620997604\r",
        "94.92485297320844\r",
        "94.93574384665651"
       ]
      },
      {
       "output_type": "stream",
       "stream": "stdout",
       "text": [
        "\r",
        "94.94663472010456\r",
        "94.9575255935526\r",
        "94.96841646700065\r",
        "94.9793073404487\r",
        "94.99019821389676\r",
        "95.00108908734481\r",
        "95.01197996079286\r",
        "95.0228708342409\r",
        "95.03376170768895\r",
        "95.04465258113702\r",
        "95.05554345458506\r",
        "95.06643432803311\r",
        "95.07732520148116\r",
        "95.0882160749292\r",
        "95.09910694837725\r",
        "95.1099978218253\r",
        "95.12088869527336\r",
        "95.13177956872141\r",
        "95.14267044216946\r",
        "95.15356131561751\r",
        "95.16445218906556\r",
        "95.17534306251362\r",
        "95.18623393596167\r",
        "95.19712480940971\r",
        "95.20801568285776\r",
        "95.21890655630581\r",
        "95.22979742975387\r",
        "95.24068830320192\r",
        "95.25157917664997\r",
        "95.26247005009802\r",
        "95.27336092354606\r",
        "95.28425179699413\r",
        "95.29514267044217\r",
        "95.30603354389022\r",
        "95.31692441733827\r",
        "95.32781529078632"
       ]
      },
      {
       "output_type": "stream",
       "stream": "stdout",
       "text": [
        "\r",
        "95.33870616423438\r",
        "95.34959703768241\r",
        "95.36048791113048\r",
        "95.37137878457852\r",
        "95.38226965802657\r",
        "95.39316053147462\r",
        "95.40405140492267\r",
        "95.41494227837073\r",
        "95.42583315181878\r",
        "95.43672402526683\r",
        "95.44761489871487\r",
        "95.45850577216292\r",
        "95.46939664561098\r",
        "95.48028751905903\r",
        "95.49117839250708\r",
        "95.50206926595513\r",
        "95.51296013940318\r",
        "95.52385101285124\r",
        "95.53474188629927\r",
        "95.54563275974733\r",
        "95.55652363319538\r",
        "95.56741450664343\r",
        "95.57830538009149\r",
        "95.58919625353953\r",
        "95.60008712698759\r",
        "95.61097800043564\r",
        "95.62186887388368\r",
        "95.63275974733175\r",
        "95.64365062077978\r",
        "95.65454149422784\r",
        "95.66543236767589\r",
        "95.67632324112394\r",
        "95.68721411457199\r",
        "95.69810498802003\r",
        "95.7089958614681\r",
        "95.71988673491614\r",
        "95.73077760836419\r",
        "95.74166848181224\r",
        "95.75255935526029\r",
        "95.76345022870835\r",
        "95.77434110215638\r",
        "95.78523197560445\r",
        "95.7961228490525\r",
        "95.80701372250054\r",
        "95.8179045959486\r",
        "95.82879546939664\r",
        "95.8396863428447\r",
        "95.85057721629275\r",
        "95.8614680897408\r",
        "95.87235896318886\r",
        "95.88324983663689\r",
        "95.89414071008495\r",
        "95.905031583533\r",
        "95.91592245698105\r",
        "95.92681333042911\r",
        "95.93770420387715\r",
        "95.94859507732521\r",
        "95.95948595077324\r",
        "95.9703768242213\r",
        "95.98126769766935\r",
        "95.9921585711174\r",
        "96.00304944456546\r",
        "96.0139403180135\r",
        "96.02483119146156\r",
        "96.0357220649096\r",
        "96.04661293835765\r",
        "96.05750381180572"
       ]
      },
      {
       "output_type": "stream",
       "stream": "stdout",
       "text": [
        "\r",
        "96.06839468525375\r",
        "96.07928555870181\r",
        "96.09017643214986\r",
        "96.10106730559791\r",
        "96.11195817904597\r",
        "96.122849052494\r",
        "96.13373992594207\r",
        "96.14463079939011\r",
        "96.15552167283816\r",
        "96.16641254628621\r",
        "96.17730341973426\r",
        "96.18819429318232\r",
        "96.19908516663035\r",
        "96.20997604007842\r",
        "96.22086691352646\r",
        "96.23175778697451\r",
        "96.24264866042257\r",
        "96.25353953387061\r",
        "96.26443040731867\r",
        "96.27532128076672\r",
        "96.28621215421477\r",
        "96.29710302766283\r",
        "96.30799390111086\r",
        "96.31888477455892\r",
        "96.32977564800697\r",
        "96.34066652145502\r",
        "96.35155739490308\r",
        "96.36244826835112\r",
        "96.37333914179918\r",
        "96.38423001524721\r",
        "96.39512088869527\r",
        "96.40601176214332\r",
        "96.41690263559137\r",
        "96.42779350903943\r",
        "96.43868438248747\r",
        "96.44957525593553\r",
        "96.46046612938358\r",
        "96.47135700283162\r",
        "96.48224787627969\r",
        "96.49313874972772\r",
        "96.50402962317578\r",
        "96.51492049662383\r",
        "96.52581137007188\r",
        "96.53670224351994\r",
        "96.54759311696797\r",
        "96.55848399041604\r",
        "96.56937486386408\r",
        "96.58026573731213\r",
        "96.59115661076018\r",
        "96.60204748420823\r",
        "96.61293835765629\r",
        "96.62382923110432\r",
        "96.63472010455239\r",
        "96.64561097800043\r",
        "96.65650185144848\r",
        "96.66739272489654\r",
        "96.67828359834458\r",
        "96.68917447179264\r",
        "96.70006534524069\r",
        "96.71095621868874\r",
        "96.7218470921368\r",
        "96.73273796558483\r",
        "96.7436288390329\r",
        "96.75451971248094\r",
        "96.76541058592899"
       ]
      },
      {
       "output_type": "stream",
       "stream": "stdout",
       "text": [
        "\r",
        "96.77630145937705\r",
        "96.78719233282509\r",
        "96.79808320627315\r",
        "96.80897407972118\r",
        "96.81986495316924\r",
        "96.83075582661729\r",
        "96.84164670006534\r",
        "96.8525375735134\r",
        "96.86342844696144\r",
        "96.8743193204095\r",
        "96.88521019385755\r",
        "96.8961010673056\r",
        "96.90699194075366\r",
        "96.91788281420169\r",
        "96.92877368764975\r",
        "96.9396645610978\r",
        "96.95055543454585\r",
        "96.96144630799391\r",
        "96.97233718144194\r",
        "96.98322805489\r",
        "96.99411892833805\r",
        "97.0050098017861\r",
        "97.01590067523415\r",
        "97.0267915486822\r",
        "97.03768242213026\r",
        "97.04857329557831\r",
        "97.05946416902636\r",
        "97.0703550424744\r",
        "97.08124591592245\r",
        "97.09213678937051\r",
        "97.10302766281855\r",
        "97.11391853626661\r",
        "97.12480940971466\r",
        "97.1357002831627\r",
        "97.14659115661077\r",
        "97.1574820300588\r",
        "97.16837290350686\r",
        "97.17926377695491\r",
        "97.19015465040296\r",
        "97.20104552385102\r",
        "97.21193639729906\r",
        "97.22282727074712\r",
        "97.23371814419517"
       ]
      },
      {
       "output_type": "stream",
       "stream": "stdout",
       "text": [
        "\r",
        "97.24460901764321\r",
        "97.25549989109126\r",
        "97.26639076453931\r",
        "97.27728163798737\r",
        "97.28817251143542\r",
        "97.29906338488347\r",
        "97.30995425833152\r",
        "97.32084513177956\r",
        "97.33173600522763\r",
        "97.34262687867566\r",
        "97.35351775212372\r",
        "97.36440862557177\r",
        "97.37529949901982\r",
        "97.38619037246788\r",
        "97.39708124591591\r",
        "97.40797211936398\r",
        "97.41886299281202\r",
        "97.42975386626007\r",
        "97.44064473970812\r",
        "97.45153561315617\r",
        "97.46242648660423\r",
        "97.47331736005228\r",
        "97.48420823350033\r",
        "97.49509910694837\r",
        "97.50598998039642\r",
        "97.51688085384448\r",
        "97.52777172729253\r",
        "97.53866260074058\r",
        "97.54955347418863\r",
        "97.56044434763668\r",
        "97.57133522108474\r",
        "97.58222609453279\r",
        "97.59311696798083\r",
        "97.60400784142888\r",
        "97.61489871487693\r",
        "97.62578958832499\r",
        "97.63668046177303\r",
        "97.64757133522109\r",
        "97.65846220866914\r",
        "97.66935308211718\r",
        "97.68024395556523\r",
        "97.69113482901328\r",
        "97.70202570246134\r",
        "97.71291657590939\r",
        "97.72380744935744\r",
        "97.73469832280549\r",
        "97.74558919625353\r",
        "97.7564800697016\r",
        "97.76737094314964\r",
        "97.77826181659769\r",
        "97.78915269004574\r",
        "97.80004356349379\r",
        "97.81093443694185\r",
        "97.8218253103899\r",
        "97.83271618383795\r",
        "97.843607057286\r",
        "97.85449793073404\r",
        "97.86538880418209\r",
        "97.87627967763015\r",
        "97.8871705510782\r",
        "97.89806142452625\r",
        "97.9089522979743\r",
        "97.91984317142234\r",
        "97.93073404487039\r",
        "97.94162491831845\r",
        "97.9525157917665\r",
        "97.96340666521455\r",
        "97.9742975386626\r",
        "97.98518841211065\r",
        "97.99607928555871\r",
        "98.00697015900676\r",
        "98.0178610324548\r",
        "98.02875190590285\r",
        "98.0396427793509\r",
        "98.05053365279896"
       ]
      },
      {
       "output_type": "stream",
       "stream": "stdout",
       "text": [
        "\r",
        "98.06142452624701\r",
        "98.07231539969506\r",
        "98.0832062731431\r",
        "98.09409714659115\r",
        "98.1049880200392\r",
        "98.11587889348726\r",
        "98.12676976693531\r",
        "98.13766064038336\r",
        "98.1485515138314\r",
        "98.15944238727946\r",
        "98.17033326072752\r",
        "98.18122413417557\r",
        "98.19211500762361\r",
        "98.20300588107166\r",
        "98.21389675451971\r",
        "98.22478762796776\r",
        "98.23567850141582\r",
        "98.24656937486387\r",
        "98.25746024831192\r",
        "98.26835112175996\r",
        "98.27924199520801\r",
        "98.29013286865606\r",
        "98.30102374210412\r",
        "98.31191461555217\r",
        "98.32280548900022\r",
        "98.33369636244826\r",
        "98.34458723589631\r",
        "98.35547810934438\r",
        "98.36636898279242\r",
        "98.37725985624047\r",
        "98.38815072968852\r",
        "98.39904160313657\r",
        "98.40993247658463\r",
        "98.42082335003268\r",
        "98.43171422348072\r",
        "98.44260509692877\r",
        "98.45349597037682\r",
        "98.46438684382487\r",
        "98.47527771727293\r",
        "98.48616859072098\r",
        "98.49705946416903\r",
        "98.50795033761707\r",
        "98.51884121106512\r",
        "98.52973208451317\r",
        "98.54062295796123\r",
        "98.55151383140928\r",
        "98.56240470485733\r",
        "98.57329557830538\r",
        "98.58418645175342\r",
        "98.59507732520149\r",
        "98.60596819864953\r",
        "98.61685907209758\r",
        "98.62774994554563\r",
        "98.63864081899368\r",
        "98.64953169244174\r",
        "98.66042256588979\r",
        "98.67131343933784\r",
        "98.68220431278588\r",
        "98.69309518623393\r",
        "98.703986059682\r",
        "98.71487693313003\r",
        "98.72576780657809\r",
        "98.73665868002614\r",
        "98.74754955347419\r",
        "98.75844042692223\r",
        "98.76933130037028\r",
        "98.78022217381834\r",
        "98.79111304726639\r",
        "98.80200392071444\r",
        "98.81289479416249\r",
        "98.82378566761054\r",
        "98.8346765410586\r",
        "98.84556741450665\r",
        "98.8564582879547\r",
        "98.86734916140274\r",
        "98.87824003485079\r",
        "98.88913090829885\r",
        "98.9000217817469\r",
        "98.91091265519495\r",
        "98.921803528643\r",
        "98.93269440209104\r",
        "98.9435852755391\r",
        "98.95447614898714\r",
        "98.9653670224352\r",
        "98.97625789588325\r",
        "98.9871487693313\r",
        "98.99803964277936"
       ]
      },
      {
       "output_type": "stream",
       "stream": "stdout",
       "text": [
        "\r",
        "99.0089305162274\r",
        "99.01982138967546\r",
        "99.0307122631235\r",
        "99.04160313657155\r",
        "99.0524940100196\r",
        "99.06338488346765\r",
        "99.07427575691571\r",
        "99.08516663036376\r",
        "99.0960575038118\r",
        "99.10694837725985\r",
        "99.1178392507079\r",
        "99.12873012415596\r",
        "99.139620997604\r",
        "99.15051187105206\r",
        "99.16140274450011\r",
        "99.17229361794816\r",
        "99.18318449139622\r",
        "99.19407536484425\r",
        "99.20496623829231\r",
        "99.21585711174036\r",
        "99.22674798518841\r",
        "99.23763885863647\r",
        "99.2485297320845\r",
        "99.25942060553257\r",
        "99.27031147898062\r",
        "99.28120235242866\r",
        "99.29209322587673\r",
        "99.30298409932476\r",
        "99.31387497277282\r",
        "99.32476584622087\r",
        "99.33565671966892\r",
        "99.34654759311697\r",
        "99.35743846656501\r",
        "99.36832934001308\r",
        "99.37922021346111\r",
        "99.39011108690917\r",
        "99.40100196035722\r",
        "99.41189283380527\r",
        "99.42278370725333\r",
        "99.43367458070136\r",
        "99.44456545414943\r",
        "99.45545632759747\r",
        "99.46634720104552\r",
        "99.47723807449358\r",
        "99.48812894794162\r",
        "99.49901982138968\r",
        "99.50991069483773\r",
        "99.52080156828578\r",
        "99.53169244173384\r",
        "99.54258331518187\r",
        "99.55347418862993\r",
        "99.56436506207797\r",
        "99.57525593552603\r",
        "99.58614680897408\r",
        "99.59703768242213\r",
        "99.60792855587019\r",
        "99.61881942931822\r",
        "99.62971030276628\r",
        "99.64060117621433\r",
        "99.65149204966238\r",
        "99.66238292311044\r",
        "99.67327379655848\r",
        "99.68416467000654\r",
        "99.69505554345459\r",
        "99.70594641690263\r",
        "99.7168372903507\r",
        "99.72772816379873\r",
        "99.73861903724679\r",
        "99.74950991069484\r",
        "99.76040078414289\r",
        "99.77129165759095\r",
        "99.78218253103898\r",
        "99.79307340448705\r",
        "99.80396427793508\r",
        "99.81485515138314\r",
        "99.82574602483119\r",
        "99.83663689827924\r",
        "99.8475277717273\r",
        "99.85841864517533\r",
        "99.8693095186234\r",
        "99.88020039207144\r",
        "99.89109126551949\r",
        "99.90198213896755\r",
        "99.91287301241559\r",
        "99.92376388586365\r",
        "99.9346547593117\r",
        "99.94554563275975\r",
        "99.95643650620781\r",
        "99.96732737965584\r",
        "99.9782182531039\r",
        "99.98910912655194\r"
       ]
      }
     ],
     "prompt_number": 364
    },
    {
     "cell_type": "code",
     "collapsed": false,
     "input": [
      "dataset[\"user_id\"] = users\n",
      "dataset[\"post_permlink\"] = posts\n",
      "dataset[\"like\"] = likes\n",
      "# dataset[\"period\"] = period_numbers"
     ],
     "language": "python",
     "metadata": {},
     "outputs": [],
     "prompt_number": 366
    },
    {
     "cell_type": "code",
     "collapsed": false,
     "input": [
      "dataset[(dataset[\"user_id\"] == 20823) & (dataset[\"like\"] > 0.5)]"
     ],
     "language": "python",
     "metadata": {},
     "outputs": [
      {
       "html": [
        "<div style=\"max-width:1500px;overflow:auto;\">\n",
        "<style>\n",
        "    .dataframe thead tr:only-child th {\n",
        "        text-align: right;\n",
        "    }\n",
        "\n",
        "    .dataframe thead th {\n",
        "        text-align: left;\n",
        "    }\n",
        "\n",
        "    .dataframe tbody tr th {\n",
        "        vertical-align: top;\n",
        "    }\n",
        "</style>\n",
        "<table border=\"1\" class=\"dataframe\">\n",
        "  <thead>\n",
        "    <tr style=\"text-align: right;\">\n",
        "      <th></th>\n",
        "      <th>user_id</th>\n",
        "      <th>post_permlink</th>\n",
        "      <th>like</th>\n",
        "    </tr>\n",
        "  </thead>\n",
        "  <tbody>\n",
        "    <tr>\n",
        "      <th>1091455</th>\n",
        "      <td>20823.0</td>\n",
        "      <td>@aleco/neuzheli-bitfinex-stanet-novym-titanikom</td>\n",
        "      <td>1.0</td>\n",
        "    </tr>\n",
        "    <tr>\n",
        "      <th>1091457</th>\n",
        "      <td>20823.0</td>\n",
        "      <td>@andrvik/pravo-opasnyi-precedent-shtraf-millio...</td>\n",
        "      <td>1.0</td>\n",
        "    </tr>\n",
        "    <tr>\n",
        "      <th>1091458</th>\n",
        "      <td>20823.0</td>\n",
        "      <td>@arcange/blokchein-golos-dostupen-dlya-zagruzki</td>\n",
        "      <td>0.7</td>\n",
        "    </tr>\n",
        "    <tr>\n",
        "      <th>1091473</th>\n",
        "      <td>20823.0</td>\n",
        "      <td>@habreplicator/ii-na-fiztekhe-cifrovaya-ekonom...</td>\n",
        "      <td>1.0</td>\n",
        "    </tr>\n",
        "    <tr>\n",
        "      <th>1091486</th>\n",
        "      <td>20823.0</td>\n",
        "      <td>@now/pobednaya-strategiya-porvavshaya-bota-iso...</td>\n",
        "      <td>0.7</td>\n",
        "    </tr>\n",
        "    <tr>\n",
        "      <th>1091497</th>\n",
        "      <td>20823.0</td>\n",
        "      <td>@stepanoff/novogodnee-ukrashenie-posuda-vintag...</td>\n",
        "      <td>0.7</td>\n",
        "    </tr>\n",
        "    <tr>\n",
        "      <th>1091503</th>\n",
        "      <td>20823.0</td>\n",
        "      <td>@t3ran13/sravnim-nekotorye-pokazateli-steem-i-...</td>\n",
        "      <td>0.7</td>\n",
        "    </tr>\n",
        "    <tr>\n",
        "      <th>1091510</th>\n",
        "      <td>20823.0</td>\n",
        "      <td>@vp-zarubezhje/pervaya-vystavka-katerov-i-yakh...</td>\n",
        "      <td>0.7</td>\n",
        "    </tr>\n",
        "  </tbody>\n",
        "</table>\n",
        "</div>"
       ],
       "metadata": {},
       "output_type": "pyout",
       "prompt_number": 369,
       "text": [
        "         user_id                                      post_permlink  like\n",
        "1091455  20823.0    @aleco/neuzheli-bitfinex-stanet-novym-titanikom   1.0\n",
        "1091457  20823.0  @andrvik/pravo-opasnyi-precedent-shtraf-millio...   1.0\n",
        "1091458  20823.0    @arcange/blokchein-golos-dostupen-dlya-zagruzki   0.7\n",
        "1091473  20823.0  @habreplicator/ii-na-fiztekhe-cifrovaya-ekonom...   1.0\n",
        "1091486  20823.0  @now/pobednaya-strategiya-porvavshaya-bota-iso...   0.7\n",
        "1091497  20823.0  @stepanoff/novogodnee-ukrashenie-posuda-vintag...   0.7\n",
        "1091503  20823.0  @t3ran13/sravnim-nekotorye-pokazateli-steem-i-...   0.7\n",
        "1091510  20823.0  @vp-zarubezhje/pervaya-vystavka-katerov-i-yakh...   0.7"
       ]
      }
     ],
     "prompt_number": 369
    },
    {
     "cell_type": "code",
     "collapsed": false,
     "input": [
      "dataset.to_csv(\"./new_events.csv\")"
     ],
     "language": "python",
     "metadata": {},
     "outputs": [],
     "prompt_number": 367
    },
    {
     "cell_type": "markdown",
     "metadata": {},
     "source": [
      "Extract votes and comments from mongo"
     ]
    },
    {
     "cell_type": "code",
     "collapsed": false,
     "input": [
      "from pymongo import MongoClient\n",
      "import numpy as np\n",
      "import pandas as pd\n",
      "\n",
      "client = MongoClient(\"localhost:27017\")\n",
      "database = client[\"steemdb_1\"]\n",
      "collection_vote = database[\"vote\"]\n",
      "\n",
      "votes_df = pd.DataFrame(list(collection_vote.find({'_id' : {'$exists' : True},\n",
      "                                                      'permlink': {'$exists' : True},\n",
      "                                                      'voter' : {'$exists' : True},\n",
      "                                                      '_ts' : {'$exists' : True},\n",
      "                                                       },                                              \n",
      "\n",
      "                                                     {'_id': 1, \n",
      "                                                      'permlink': 1,\n",
      "                                                      'voter': 1, \n",
      "                                                      '_ts': 1,\n",
      "                                                      })))"
     ],
     "language": "python",
     "metadata": {},
     "outputs": []
    },
    {
     "cell_type": "code",
     "collapsed": false,
     "input": [
      "votes_df.to_csv(\"./votes.csv\")"
     ],
     "language": "python",
     "metadata": {},
     "outputs": []
    },
    {
     "cell_type": "code",
     "collapsed": false,
     "input": [
      "from pymongo import MongoClient\n",
      "import numpy as np\n",
      "import pandas as pd\n",
      "\n",
      "client = MongoClient(\"localhost:27017\")\n",
      "database = client[\"steemdb_1\"]\n",
      "collection_account = database[\"account\"]\n",
      "\n",
      "accounts_df = pd.DataFrame(list(collection_account.find({'id' : {'$exists' : True},\n",
      "                                                      'name': {'$exists' : True},\n",
      "                                                       },                                              \n",
      "\n",
      "                                                     {'id': 1, \n",
      "                                                      'name': 1,\n",
      "                                                      })))"
     ],
     "language": "python",
     "metadata": {},
     "outputs": [],
     "prompt_number": 231
    },
    {
     "cell_type": "code",
     "collapsed": false,
     "input": [
      "accounts_df.to_csv('accounts.csv')"
     ],
     "language": "python",
     "metadata": {},
     "outputs": [],
     "prompt_number": 233
    },
    {
     "cell_type": "code",
     "collapsed": false,
     "input": [
      "accounts_df[accounts_df[\"name\"].apply(lambda x: \"hipster\" in x)]"
     ],
     "language": "python",
     "metadata": {},
     "outputs": [
      {
       "html": [
        "<div style=\"max-width:1500px;overflow:auto;\">\n",
        "<style>\n",
        "    .dataframe thead tr:only-child th {\n",
        "        text-align: right;\n",
        "    }\n",
        "\n",
        "    .dataframe thead th {\n",
        "        text-align: left;\n",
        "    }\n",
        "\n",
        "    .dataframe tbody tr th {\n",
        "        vertical-align: top;\n",
        "    }\n",
        "</style>\n",
        "<table border=\"1\" class=\"dataframe\">\n",
        "  <thead>\n",
        "    <tr style=\"text-align: right;\">\n",
        "      <th></th>\n",
        "      <th>_id</th>\n",
        "      <th>id</th>\n",
        "      <th>name</th>\n",
        "    </tr>\n",
        "  </thead>\n",
        "  <tbody>\n",
        "    <tr>\n",
        "      <th>39</th>\n",
        "      <td>hipster</td>\n",
        "      <td>1993</td>\n",
        "      <td>hipster</td>\n",
        "    </tr>\n",
        "    <tr>\n",
        "      <th>5704</th>\n",
        "      <td>hipsterjesus</td>\n",
        "      <td>5611</td>\n",
        "      <td>hipsterjesus</td>\n",
        "    </tr>\n",
        "    <tr>\n",
        "      <th>34422</th>\n",
        "      <td>bm-hipsterpu</td>\n",
        "      <td>37568</td>\n",
        "      <td>bm-hipsterpu</td>\n",
        "    </tr>\n",
        "    <tr>\n",
        "      <th>38229</th>\n",
        "      <td>chipster</td>\n",
        "      <td>55022</td>\n",
        "      <td>chipster</td>\n",
        "    </tr>\n",
        "  </tbody>\n",
        "</table>\n",
        "</div>"
       ],
       "metadata": {},
       "output_type": "pyout",
       "prompt_number": 238,
       "text": [
        "                _id     id          name\n",
        "39          hipster   1993       hipster\n",
        "5704   hipsterjesus   5611  hipsterjesus\n",
        "34422  bm-hipsterpu  37568  bm-hipsterpu\n",
        "38229      chipster  55022      chipster"
       ]
      }
     ],
     "prompt_number": 238
    },
    {
     "cell_type": "code",
     "collapsed": false,
     "input": [
      "database = client[\"steemdb_1\"]\n",
      "collection_comment = database[\"comment\"]\n",
      "comment_df = pd.DataFrame(list(collection_comment.find({'_id' : {'$exists' : True},\n",
      "                                                      'permlink': {'$exists' : True},\n",
      "                                                      'author' : {'$exists' : True},\n",
      "                                                      'last_payout' : {'$exists' : True},\n",
      "                                                      'reward_weight' : {'$exists' : True},\n",
      "                                                      'net_rshares' : {'$exists' : True},\n",
      "                                                      'net_votes' : {'$exists' : True},\n",
      "                                                      'total_payout_value' : {'$exists' : True},\n",
      "                                                      'root_comment' : {'$exists' : True},\n",
      "                                                      'last_payout' : {'$exists' : True},\n",
      "                                                      'depth': 0\n",
      "                                                       },                                              \n",
      "\n",
      "                                                     {'_id': 1, \n",
      "                                                      'permlink': 1,\n",
      "                                                      'author': 1, \n",
      "                                                      'title': 1,\n",
      "                                                      'body' : 1,\n",
      "                                                      'depth' : 1,\n",
      "                                                      'parent_permlink': 1,\n",
      "                                                      'created': 1,\n",
      "                                                      'json_metadata': 1})))"
     ],
     "language": "python",
     "metadata": {},
     "outputs": [],
     "prompt_number": 261
    },
    {
     "cell_type": "markdown",
     "metadata": {},
     "source": [
      "Prepare comments\n",
      "- Normalize permlink\n",
      "- Extract tags and parent permlink and add it to a body"
     ]
    },
    {
     "cell_type": "code",
     "collapsed": false,
     "input": [
      "comment_df[\"post_permlink\"] = [\"@\" + x[\"author\"] + \"/\" + x[\"permlink\"] for _, x in comment_df.iterrows()]"
     ],
     "language": "python",
     "metadata": {},
     "outputs": [],
     "prompt_number": 262
    },
    {
     "cell_type": "code",
     "collapsed": false,
     "input": [
      "def extract_tags(x):\n",
      "    test = \"test\"\n",
      "    if str(x).count(\"{\") == 0:\n",
      "        return []\n",
      "    x = eval(str(x))\n",
      "    if 'tags' in x:\n",
      "        return x['tags']\n",
      "    else:\n",
      "        return []"
     ],
     "language": "python",
     "metadata": {},
     "outputs": [],
     "prompt_number": 263
    },
    {
     "cell_type": "code",
     "collapsed": false,
     "input": [
      "comment_df[\"tags\"] = comment_df[\"json_metadata\"].apply(extract_tags)"
     ],
     "language": "python",
     "metadata": {},
     "outputs": [],
     "prompt_number": 264
    },
    {
     "cell_type": "code",
     "collapsed": false,
     "input": [
      "comment_df[\"tags\"]"
     ],
     "language": "python",
     "metadata": {},
     "outputs": [
      {
       "metadata": {},
       "output_type": "pyout",
       "prompt_number": 265,
       "text": [
        "0         [ru--yumor, ru--video, ru--prikol, ru--sobaka,...\n",
        "1         [ru--yumor, ru--belka, ru--tanczy, ru--video, ...\n",
        "2         [bitcore, bitcoin, money, ru--kripta, ru--trei...\n",
        "3                [ru--bitkoin, bitcoin, btc, usd, ru--kurs]\n",
        "4         [ru--yumor, ru--yemoczii, ru--svadxba, ru--fot...\n",
        "5         [ru--yumor, ru--video, ru--prikol, ru--chudovi...\n",
        "6         [ru--yumor, ru--aforizm, ru--vrach, ru--doktor...\n",
        "7         [ru--yumor, ru--foto, ru--sobaka, ru--zlostx, ...\n",
        "8         [ru--yumor, ru--kot, ru--mane, ru--mone, ru--i...\n",
        "9         [ru--yumor, ru--prikol, ru--pokhod, ru--ryukza...\n",
        "10        [ru--yumor, ru--video, ru--prikol, ru--pugalo,...\n",
        "11        [ru--yumor, ru--video, ru--prikol, ru--krolik,...\n",
        "12        [ru--yumor, ru--prikol, ru--sinus, ru--shutka,...\n",
        "13        [ru--yumor, ru--khudozhnik, ru--zhiznx, ru--fo...\n",
        "14        [ru--yumor, ru--odessa, ru--anekdoty, ru--prik...\n",
        "15        [ru--yumor, ru--video, ru--prikol, ru--spokoij...\n",
        "16        [ru--yumor, ru--paradoksy, ru--anekdoty, ru--p...\n",
        "17        [ru--yumor, ru--avito, ru--topor, ru--denxgi, ...\n",
        "18        [ru--yumor, ru--foto, ru--prikol, ru--yevolyuc...\n",
        "19        [ru--yumor, ru--problemy, ru--anekdoty, ru--pr...\n",
        "20        [ru--yumor, ru--video, ru--prikol, ru--slon, r...\n",
        "21        [ru--yumor, ru--video, ru--prikol, ru--taksi, ...\n",
        "22        [ru--yumor, ru--chernyij-yumor, ru--telefon, r...\n",
        "23        [ru--yumor, ru--foto, ru--tatu, ru--tatuirovka...\n",
        "24        [ru--yumor, ru--video, ru--prikol, ru--kot, ru...\n",
        "25        [ru--yumor, ru--video, ru--prikol, ru--skulxpt...\n",
        "26        [ru--znakomstvo, ru--yumor, ru--zhiznx, ru--zh...\n",
        "27        [ru--golos, ru--foto, ru--bitkoijn, ru--dom, b...\n",
        "28        [ru--yefir, ru--bitkoijn, blockchain, ru--golo...\n",
        "29        [ru--blokcheijn, ru--kriptovalyuty, ru--novost...\n",
        "                                ...                        \n",
        "393132    [ru--fotogolosishche, ru--foto, foto, ru--konk...\n",
        "393133                    [ru--foto, ru--fon, ru--smartfon]\n",
        "393134                   [gpa, foto, ru--lebedi, ru--golos]\n",
        "393135    [ru--fotominimalizm, ru--foto, foto, ru--konkurs]\n",
        "393136          [ru--foto, foto, ru--fotografiya, ru--deti]\n",
        "393137                         [ru--novosti, porsche, auto]\n",
        "393138    [ru--foto, ru--pautinka, ru--priroda, ru--foto...\n",
        "393139     [ru--roller, ru--rebyonok, ru--roliki, ru--foto]\n",
        "393140               [ru--fotografiya, ru--deti, ru--mysli]\n",
        "393141      [ru--obomne, ru--semxya, ru--zhiznx, ru--blogi]\n",
        "393142    [ru--fotogolosishche, ru--foto, ru--konkurs, r...\n",
        "393143    [ru--fotogolosishche, ru--fotografiya, ru--kon...\n",
        "393144         [ru--eda, ru--semxya, ru--zhiznx, ru--blogi]\n",
        "393145                   [ru--deti, ru--detstvo, ru--mysli]\n",
        "393146    [ru--fotografiya, ru--mysli, ru--eda, ru--kuli...\n",
        "393147    [ru--obomne, ru--zayaviosebe, ru--yamama, ru--...\n",
        "393148    [ru--moda, ru--krasota, ru--pokupki, ru--fotog...\n",
        "393149                    [ru--stikhi, ru--deti, ru--blogi]\n",
        "393150    [ru--skorovshkolu, ru--konkurs, ru--magformers...\n",
        "393151        [ru--deti, ru--detstvo, ru--semxya, ru--foto]\n",
        "393152    [ru--fotografiya, ru--priroda, ru--czvety, ru-...\n",
        "393153    [ru--tvorchestvo, ru--deti, ru--detstvo, ru--s...\n",
        "393154         [ru--deti, ru--detstvo, ru--mysli, ru--foto]\n",
        "393155    [ru--detstvo, ru--foto, ru--blogi, ru--zhiznx,...\n",
        "393156    [ru--detstvo, ru--foto, ru--blogi, ru--zhiznx,...\n",
        "393157    [ru--deti, ru--detstvo, ru--tvorchestvo, ru--f...\n",
        "393158        [ru--foto, ru--semxya, ru--zhiznx, ru--blogi]\n",
        "393159                  [ru--obomne, ru--semxya, ru--blogi]\n",
        "393160     [ru--eda, ru--reczepty, ru--zhiznx, ru--kukhnya]\n",
        "393161       [ru--biologiya, ru--mediczina, ru--nauka, psk]\n",
        "Name: tags, Length: 393162, dtype: object"
       ]
      }
     ],
     "prompt_number": 265
    },
    {
     "cell_type": "code",
     "collapsed": false,
     "input": [
      "body = []\n",
      "for _, post in comment_df.iterrows():\n",
      "    body.append(\" \".join(post[\"tags\"]) + \" \" + post[\"parent_permlink\"] + \" \" + post[\"title\"] + \" \" + post[\"body\"])\n",
      "comment_df[\"body\"] = body"
     ],
     "language": "python",
     "metadata": {},
     "outputs": [],
     "prompt_number": 266
    },
    {
     "cell_type": "code",
     "collapsed": false,
     "input": [
      "comment_df.iloc[10][\"body\"]"
     ],
     "language": "python",
     "metadata": {},
     "outputs": [
      {
       "metadata": {},
       "output_type": "pyout",
       "prompt_number": 267,
       "text": [
        "'ru--yumor ru--video ru--prikol ru--pugalo ru--kreativnostx ru--yumor \u041a\u0440\u0435\u0430\u0442\u0438\u0432\u043d\u043e\u0435 \u043f\u0443\u0433\u0430\u043b\u043e <html>\\n<h1>\u041a\u0440\u0435\u0430\u0442\u0438\u0432\u043d\u043e\u0435 \u043f\u0443\u0433\u0430\u043b\u043e</h1>\\n<h1>https://www.youtube.com/watch?v=N7Stq7JU67g</h1>\\n<p><br></p>\\n<p><br></p>\\n</html>'"
       ]
      }
     ],
     "prompt_number": 267
    },
    {
     "cell_type": "code",
     "collapsed": false,
     "input": [
      "comment_df.to_csv(\"./posts.csv\")"
     ],
     "language": "python",
     "metadata": {},
     "outputs": [],
     "prompt_number": 140
    },
    {
     "cell_type": "markdown",
     "metadata": {},
     "source": [
      "Check events in comment_df"
     ]
    },
    {
     "cell_type": "code",
     "collapsed": false,
     "input": [
      "comment_df = pd.read_csv(\"./posts.csv\")"
     ],
     "language": "python",
     "metadata": {},
     "outputs": []
    },
    {
     "cell_type": "code",
     "collapsed": false,
     "input": [
      "actual_posts = set(comment_df[\"post_permlink\"])\n",
      "filtered_dataset = dataset[dataset[\"post_permlink\"].apply(lambda x: x in actual_posts)]"
     ],
     "language": "python",
     "metadata": {},
     "outputs": [],
     "prompt_number": 370
    },
    {
     "cell_type": "code",
     "collapsed": false,
     "input": [
      "filtered_dataset.shape"
     ],
     "language": "python",
     "metadata": {},
     "outputs": [
      {
       "metadata": {},
       "output_type": "pyout",
       "prompt_number": 371,
       "text": [
        "(1004341, 3)"
       ]
      }
     ],
     "prompt_number": 371
    },
    {
     "cell_type": "code",
     "collapsed": false,
     "input": [
      "filtered_dataset.to_csv(\"./events.csv\")"
     ],
     "language": "python",
     "metadata": {},
     "outputs": [],
     "prompt_number": 312
    },
    {
     "cell_type": "markdown",
     "metadata": {},
     "source": [
      "Add time fading"
     ]
    },
    {
     "cell_type": "code",
     "collapsed": false,
     "input": [
      "%matplotlib inline\n",
      "import matplotlib.pyplot as plt"
     ],
     "language": "python",
     "metadata": {},
     "outputs": [],
     "prompt_number": 161
    },
    {
     "cell_type": "code",
     "collapsed": false,
     "input": [
      "t_min = pd.to_datetime(events['created_at']).min().value\n",
      "t_max = pd.to_datetime(events['created_at']).max().value"
     ],
     "language": "python",
     "metadata": {},
     "outputs": [],
     "prompt_number": 173
    },
    {
     "cell_type": "code",
     "collapsed": false,
     "input": [
      "x = np.linspace(np.log(0.1), np.log(1), 100)\n",
      "y = np.exp(x) "
     ],
     "language": "python",
     "metadata": {},
     "outputs": [],
     "prompt_number": 252
    },
    {
     "cell_type": "code",
     "collapsed": false,
     "input": [
      "plt.plot(x, y)"
     ],
     "language": "python",
     "metadata": {},
     "outputs": [
      {
       "metadata": {},
       "output_type": "pyout",
       "prompt_number": 253,
       "text": [
        "[<matplotlib.lines.Line2D at 0x7f1507493e48>]"
       ]
      },
      {
       "metadata": {},
       "output_type": "display_data",
       "png": "[encoded data removed]",
       "text": [
        "<matplotlib.figure.Figure at 0x7f150740f710>"
       ]
      }
     ],
     "prompt_number": 253
    },
    {
     "cell_type": "code",
     "collapsed": false,
     "input": [
      "def convert(x, t_min, t_max):\n",
      "    return np.exp(np.log(0.1) + (np.log(1) - np.log(0.1)) * (x - t_min) / (t_max - t_min))"
     ],
     "language": "python",
     "metadata": {},
     "outputs": [],
     "prompt_number": 245
    },
    {
     "cell_type": "code",
     "collapsed": false,
     "input": [
      "convert(t_min, t_min, t_max)"
     ],
     "language": "python",
     "metadata": {},
     "outputs": [
      {
       "metadata": {},
       "output_type": "pyout",
       "prompt_number": 249,
       "text": [
        "0.10000000000000002"
       ]
      }
     ],
     "prompt_number": 249
    },
    {
     "cell_type": "code",
     "collapsed": false,
     "input": [
      "events['time_fade'] = pd.to_datetime(events['created_at']).apply(lambda x: convert(x.value, t_min, t_max))"
     ],
     "language": "python",
     "metadata": {},
     "outputs": [],
     "prompt_number": 254
    }
   ],
   "metadata": {}
  }
 ]
}